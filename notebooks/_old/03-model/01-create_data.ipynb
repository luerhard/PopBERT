{
 "cells": [
  {
   "cell_type": "code",
   "execution_count": null,
   "id": "f33fe903",
   "metadata": {},
   "outputs": [],
   "source": [
    "%load_ext autoreload\n",
    "%autoreload 2\n"
   ]
  },
  {
   "cell_type": "code",
   "execution_count": null,
   "id": "5228c91d-f912-4ede-ab4c-e20f6c9177a6",
   "metadata": {},
   "outputs": [],
   "source": [
    "from collections import Counter\n",
    "\n",
    "import pandas as pd\n",
    "import spacy\n",
    "from sqlalchemy.orm import Session\n",
    "from sqlalchemy.orm import joinedload\n",
    "from tqdm import tqdm\n",
    "\n",
    "import src.db.models.doccano as m\n",
    "from src.db.connect import make_engine\n",
    "from src.db.sample import Sample"
   ]
  },
  {
   "cell_type": "code",
   "execution_count": null,
   "id": "76ca7f60-4e37-405d-aed7-cc4fd8f27673",
   "metadata": {},
   "outputs": [],
   "source": [
    "# setup\n",
    "engine = make_engine(\"DOCCANO\")\n",
    "\n",
    "session = Session(engine)\n",
    "\n",
    "pd.set_option(\"display.max_colwidth\", 512)\n",
    "pd.set_option(\"display.max_rows\", 512)\n",
    "\n",
    "project = \"PBert AnnoTask 5\""
   ]
  },
  {
   "cell_type": "code",
   "execution_count": null,
   "id": "bb1e1931",
   "metadata": {},
   "outputs": [
    {
     "data": {
      "text/plain": [
       "['tagger', 'morphologizer', 'lemmatizer', 'attribute_ruler', 'ner']"
      ]
     },
     "execution_count": null,
     "metadata": {},
     "output_type": "execute_result"
    }
   ],
   "source": [
    "# prepare sentence tokenizer\n",
    "\n",
    "nlp = spacy.load(\"de_core_news_md\")\n",
    "nlp.disable_pipes([\"tagger\", \"morphologizer\", \"lemmatizer\", \"attribute_ruler\", \"ner\"])"
   ]
  },
  {
   "cell_type": "code",
   "execution_count": null,
   "id": "ff56ca87",
   "metadata": {},
   "outputs": [
    {
     "name": "stderr",
     "output_type": "stream",
     "text": [
      "100%|██████████| 1535/1535 [00:02<00:00, 757.46it/s]\n"
     ]
    }
   ],
   "source": [
    "q = (\n",
    "    session.query(m.ExamplesExample)\n",
    "    .options(joinedload(m.ExamplesExample.labels), joinedload(m.ExamplesExample.state))\n",
    "    .join(m.ExamplesExample.project)\n",
    "    .filter(\n",
    "        m.ProjectsProject.name == project,\n",
    "        # uncomment to only collect samples confirmed by at least one person\n",
    "        m.ExamplesExample.state.any(),\n",
    "    )\n",
    ")\n",
    "\n",
    "\n",
    "samples = []\n",
    "for row in tqdm(q, total=q.count(), smoothing=0):\n",
    "    sample = Sample(row, nlp)\n",
    "    samples.append(sample)"
   ]
  },
  {
   "attachments": {},
   "cell_type": "markdown",
   "id": "20c9b438",
   "metadata": {},
   "source": [
    "# Percentage coded\n"
   ]
  },
  {
   "cell_type": "code",
   "execution_count": null,
   "id": "1b458947",
   "metadata": {},
   "outputs": [
    {
     "data": {
      "text/html": [
       "<div>\n",
       "<style scoped>\n",
       "    .dataframe tbody tr th:only-of-type {\n",
       "        vertical-align: middle;\n",
       "    }\n",
       "\n",
       "    .dataframe tbody tr th {\n",
       "        vertical-align: top;\n",
       "    }\n",
       "\n",
       "    .dataframe thead th {\n",
       "        text-align: right;\n",
       "    }\n",
       "</style>\n",
       "<table border=\"1\" class=\"dataframe\">\n",
       "  <thead>\n",
       "    <tr style=\"text-align: right;\">\n",
       "      <th></th>\n",
       "      <th>coders</th>\n",
       "      <th>samples</th>\n",
       "      <th>cumsum</th>\n",
       "    </tr>\n",
       "  </thead>\n",
       "  <tbody>\n",
       "    <tr>\n",
       "      <th>5</th>\n",
       "      <td>6</td>\n",
       "      <td>7</td>\n",
       "      <td>0.46</td>\n",
       "    </tr>\n",
       "    <tr>\n",
       "      <th>1</th>\n",
       "      <td>5</td>\n",
       "      <td>484</td>\n",
       "      <td>31.99</td>\n",
       "    </tr>\n",
       "    <tr>\n",
       "      <th>0</th>\n",
       "      <td>4</td>\n",
       "      <td>579</td>\n",
       "      <td>69.71</td>\n",
       "    </tr>\n",
       "    <tr>\n",
       "      <th>2</th>\n",
       "      <td>3</td>\n",
       "      <td>323</td>\n",
       "      <td>90.75</td>\n",
       "    </tr>\n",
       "    <tr>\n",
       "      <th>3</th>\n",
       "      <td>2</td>\n",
       "      <td>122</td>\n",
       "      <td>98.70</td>\n",
       "    </tr>\n",
       "    <tr>\n",
       "      <th>4</th>\n",
       "      <td>1</td>\n",
       "      <td>20</td>\n",
       "      <td>100.00</td>\n",
       "    </tr>\n",
       "  </tbody>\n",
       "</table>\n",
       "</div>"
      ],
      "text/plain": [
       "  coders  samples  cumsum\n",
       "5      6        7    0.46\n",
       "1      5      484   31.99\n",
       "0      4      579   69.71\n",
       "2      3      323   90.75\n",
       "3      2      122   98.70\n",
       "4      1       20  100.00"
      ]
     },
     "execution_count": null,
     "metadata": {},
     "output_type": "execute_result"
    }
   ],
   "source": [
    "c = Counter(str(len(sample.user_labels.keys())) for sample in samples)\n",
    "d = pd.DataFrame(c.most_common(None), columns=[\"coders\", \"samples\"])\n",
    "d = d.sort_values(\"coders\", ascending=False)\n",
    "d[\"cumsum\"] = round(d.samples.cumsum() / d.samples.sum() * 100, 2)\n",
    "d"
   ]
  },
  {
   "attachments": {},
   "cell_type": "markdown",
   "id": "003f45f9",
   "metadata": {},
   "source": [
    "# Coded by\n"
   ]
  },
  {
   "cell_type": "code",
   "execution_count": null,
   "id": "0f4a5df6",
   "metadata": {},
   "outputs": [
    {
     "data": {
      "text/html": [
       "<div>\n",
       "<style scoped>\n",
       "    .dataframe tbody tr th:only-of-type {\n",
       "        vertical-align: middle;\n",
       "    }\n",
       "\n",
       "    .dataframe tbody tr th {\n",
       "        vertical-align: top;\n",
       "    }\n",
       "\n",
       "    .dataframe thead th {\n",
       "        text-align: right;\n",
       "    }\n",
       "</style>\n",
       "<table border=\"1\" class=\"dataframe\">\n",
       "  <thead>\n",
       "    <tr style=\"text-align: right;\">\n",
       "      <th></th>\n",
       "      <th>coder</th>\n",
       "      <th>samples</th>\n",
       "      <th>% done</th>\n",
       "    </tr>\n",
       "  </thead>\n",
       "  <tbody>\n",
       "    <tr>\n",
       "      <th>0</th>\n",
       "      <td>schadt</td>\n",
       "      <td>1201</td>\n",
       "      <td>100.08</td>\n",
       "    </tr>\n",
       "    <tr>\n",
       "      <th>1</th>\n",
       "      <td>grabsch</td>\n",
       "      <td>1200</td>\n",
       "      <td>100.00</td>\n",
       "    </tr>\n",
       "    <tr>\n",
       "      <th>2</th>\n",
       "      <td>coudry</td>\n",
       "      <td>1200</td>\n",
       "      <td>100.00</td>\n",
       "    </tr>\n",
       "    <tr>\n",
       "      <th>3</th>\n",
       "      <td>riedel</td>\n",
       "      <td>1200</td>\n",
       "      <td>100.00</td>\n",
       "    </tr>\n",
       "    <tr>\n",
       "      <th>4</th>\n",
       "      <td>richter</td>\n",
       "      <td>1200</td>\n",
       "      <td>100.00</td>\n",
       "    </tr>\n",
       "    <tr>\n",
       "      <th>5</th>\n",
       "      <td>erhard</td>\n",
       "      <td>9</td>\n",
       "      <td>0.75</td>\n",
       "    </tr>\n",
       "    <tr>\n",
       "      <th>6</th>\n",
       "      <td>remer</td>\n",
       "      <td>1</td>\n",
       "      <td>0.08</td>\n",
       "    </tr>\n",
       "  </tbody>\n",
       "</table>\n",
       "</div>"
      ],
      "text/plain": [
       "     coder  samples  % done\n",
       "0   schadt     1201  100.08\n",
       "1  grabsch     1200  100.00\n",
       "2   coudry     1200  100.00\n",
       "3   riedel     1200  100.00\n",
       "4  richter     1200  100.00\n",
       "5   erhard        9    0.75\n",
       "6    remer        1    0.08"
      ]
     },
     "execution_count": null,
     "metadata": {},
     "output_type": "execute_result"
    }
   ],
   "source": [
    "c = Counter(user for sample in samples for user in sample.confirmed_by)\n",
    "d = pd.DataFrame(c.most_common(None), columns=[\"coder\", \"samples\"])\n",
    "d[r\"% done\"] = round(d.samples / 1200 * 100, 2)\n",
    "d.sort_values(\"samples\", ascending=False)"
   ]
  },
  {
   "attachments": {},
   "cell_type": "markdown",
   "id": "e68b9c47",
   "metadata": {},
   "source": [
    "# Samples with 'NICHT ZUTREFFEND'\n"
   ]
  },
  {
   "cell_type": "code",
   "execution_count": null,
   "id": "b95e1494",
   "metadata": {},
   "outputs": [
    {
     "name": "stdout",
     "output_type": "stream",
     "text": [
      "2529 {'erhard': {'NICHT ZUTREFFEND'}, 'grabsch': {'NICHT ZUTREFFEND'}, 'coudry': {'none'}, 'riedel': {'NICHT ZUTREFFEND'}, 'schadt': {'NICHT ZUTREFFEND'}}\n",
      "2547 {'erhard': {'NICHT ZUTREFFEND'}, 'grabsch': {'NICHT ZUTREFFEND'}, 'richter': {'none'}, 'coudry': {'none'}, 'schadt': {'NICHT ZUTREFFEND'}}\n",
      "2565 {'erhard': {'NICHT ZUTREFFEND'}, 'grabsch': {'none'}, 'richter': {'none'}, 'coudry': {'none'}, 'riedel': {'none'}, 'schadt': {'NICHT ZUTREFFEND'}}\n",
      "2530 {'richter': {'none'}, 'grabsch': {'NICHT ZUTREFFEND'}, 'coudry': {'none'}, 'riedel': {'none'}, 'schadt': {'NICHT ZUTREFFEND'}}\n",
      "2640 {'richter': {'none'}, 'riedel': {'none'}, 'coudry': {'none'}, 'grabsch': {'none'}, 'schadt': {'NICHT ZUTREFFEND'}}\n",
      "2740 {'richter': {'NICHT ZUTREFFEND'}, 'grabsch': {'none'}, 'coudry': {'none'}, 'riedel': {'none'}, 'schadt': {'NICHT ZUTREFFEND'}}\n",
      "2770 {'richter': {'NICHT ZUTREFFEND'}, 'riedel': {'none'}, 'coudry': {'none'}, 'schadt': {'NICHT ZUTREFFEND'}}\n",
      "2910 {'richter': {'NICHT ZUTREFFEND'}, 'coudry': {'none'}, 'grabsch': {'none'}, 'riedel': {'none'}, 'schadt': {'none'}}\n",
      "3020 {'richter': {'NICHT ZUTREFFEND'}, 'grabsch': {'NICHT ZUTREFFEND'}, 'riedel': {'NICHT ZUTREFFEND'}, 'coudry': {'none'}, 'schadt': {'NICHT ZUTREFFEND'}}\n",
      "3070 {'richter': {'NICHT ZUTREFFEND'}, 'grabsch': {'NICHT ZUTREFFEND'}, 'coudry': {'none'}, 'riedel': {'NICHT ZUTREFFEND'}, 'schadt': {'NICHT ZUTREFFEND'}}\n",
      "3160 {'richter': {'NICHT ZUTREFFEND'}, 'grabsch': {'none'}, 'coudry': {'none'}, 'riedel': {'none'}, 'schadt': {'NICHT ZUTREFFEND'}}\n",
      "3220 {'richter': {'NICHT ZUTREFFEND'}, 'coudry': {'none'}, 'riedel': {'none'}, 'schadt': {'NICHT ZUTREFFEND'}}\n",
      "3250 {'richter': {'NICHT ZUTREFFEND'}, 'riedel': {'none'}, 'grabsch': {'none'}, 'coudry': {'none'}, 'schadt': {'NICHT ZUTREFFEND'}}\n",
      "3320 {'richter': {'none'}, 'riedel': {'NICHT ZUTREFFEND'}, 'schadt': {'none'}}\n",
      "3530 {'richter': {'NICHT ZUTREFFEND'}, 'grabsch': {'none'}, 'riedel': {'none'}, 'schadt': {'NICHT ZUTREFFEND'}}\n",
      "3590 {'richter': {'none'}, 'riedel': {'none'}, 'schadt': {'NICHT ZUTREFFEND'}}\n",
      "2574 {'erhard': {'none'}, 'grabsch': {'NICHT ZUTREFFEND'}, 'richter': {'none'}, 'coudry': {'none'}, 'riedel': {'NICHT ZUTREFFEND'}, 'schadt': {'none'}}\n",
      "3710 {'richter': {'none'}, 'grabsch': {'none'}, 'riedel': {'none'}, 'schadt': {'NICHT ZUTREFFEND'}}\n",
      "3900 {'richter': {'none'}, 'grabsch': {'none'}, 'coudry': {'none'}, 'riedel': {'none'}, 'schadt': {'NICHT ZUTREFFEND'}}\n",
      "3920 {'richter': {'none'}, 'riedel': {'none'}, 'grabsch': {'none'}, 'schadt': {'NICHT ZUTREFFEND'}}\n",
      "2531 {'richter': {'none'}, 'riedel': {'none'}, 'grabsch': {'none'}, 'coudry': {'none'}, 'schadt': {'NICHT ZUTREFFEND'}}\n",
      "2611 {'richter': {'NICHT ZUTREFFEND'}, 'grabsch': {'none'}, 'coudry': {'none'}, 'riedel': {'none'}, 'schadt': {'NICHT ZUTREFFEND'}}\n",
      "2631 {'richter': {'NICHT ZUTREFFEND'}, 'coudry': {'none'}, 'grabsch': {'none'}, 'riedel': {'NICHT ZUTREFFEND'}, 'schadt': {'NICHT ZUTREFFEND'}}\n",
      "2711 {'richter': {'none'}, 'grabsch': {'none'}, 'riedel': {'none'}, 'coudry': {'none'}, 'schadt': {'NICHT ZUTREFFEND'}}\n",
      "2637 {'grabsch': {'none'}, 'richter': {'none'}, 'coudry': {'none'}, 'riedel': {'none'}, 'schadt': {'NICHT ZUTREFFEND'}}\n",
      "2826 {'grabsch': {'none'}, 'richter': {'none'}, 'coudry': {'none'}, 'riedel': {'none'}, 'schadt': {'NICHT ZUTREFFEND'}}\n",
      "2951 {'richter': {'none'}, 'coudry': {'NICHT ZUTREFFEND'}}\n",
      "2981 {'richter': {'none'}, 'grabsch': {'none'}, 'coudry': {'none'}, 'riedel': {'none'}, 'schadt': {'NICHT ZUTREFFEND'}}\n",
      "3031 {'richter': {'none'}, 'coudry': {'NICHT ZUTREFFEND'}, 'riedel': {'Eliten sind schuld'}}\n",
      "3191 {'richter': {'NICHT ZUTREFFEND'}, 'grabsch': {'none'}, 'riedel': {'none'}}\n",
      "3201 {'richter': {'NICHT ZUTREFFEND'}, 'riedel': {'none'}, 'coudry': {'none'}, 'grabsch': {'none'}, 'schadt': {'NICHT ZUTREFFEND'}}\n",
      "3211 {'richter': {'NICHT ZUTREFFEND'}, 'coudry': {'none'}, 'riedel': {'none'}}\n",
      "3222 {'grabsch': {'none'}, 'richter': {'none'}, 'coudry': {'none'}, 'riedel': {'none'}, 'schadt': {'NICHT ZUTREFFEND'}}\n",
      "3181 {'richter': {'NICHT ZUTREFFEND'}, 'grabsch': {'none'}, 'coudry': {'none'}, 'schadt': {'NICHT ZUTREFFEND'}}\n",
      "3204 {'grabsch': {'none'}, 'richter': {'none'}, 'coudry': {'none'}, 'riedel': {'none'}, 'schadt': {'NICHT ZUTREFFEND'}}\n",
      "3168 {'grabsch': {'none'}, 'riedel': {'none'}, 'coudry': {'none'}, 'schadt': {'NICHT ZUTREFFEND'}}\n",
      "3249 {'grabsch': {'none'}, 'riedel': {'none'}, 'coudry': {'none'}, 'schadt': {'NICHT ZUTREFFEND'}}\n",
      "3276 {'grabsch': {'none'}, 'richter': {'none'}, 'coudry': {'none'}, 'riedel': {'none'}, 'schadt': {'NICHT ZUTREFFEND'}}\n",
      "3361 {'richter': {'none'}, 'riedel': {'none'}, 'grabsch': {'none'}, 'coudry': {'none'}, 'schadt': {'NICHT ZUTREFFEND'}}\n",
      "3401 {'richter': {'none'}, 'riedel': {'none'}, 'schadt': {'NICHT ZUTREFFEND'}}\n",
      "3357 {'grabsch': {'none'}, 'richter': {'none'}, 'coudry': {'none'}, 'riedel': {'none'}, 'schadt': {'NICHT ZUTREFFEND'}}\n",
      "2528 {'riedel': {'none'}, 'coudry': {'none'}, 'schadt': {'NICHT ZUTREFFEND'}}\n",
      "2576 {'riedel': {'none'}, 'richter': {'none'}, 'grabsch': {'NICHT ZUTREFFEND'}, 'coudry': {'none'}, 'schadt': {'none'}}\n",
      "2608 {'riedel': {'none'}, 'coudry': {'none'}, 'schadt': {'NICHT ZUTREFFEND'}}\n",
      "3232 {'riedel': {'none'}, 'richter': {'none'}, 'grabsch': {'none'}, 'coudry': {'none'}, 'schadt': {'NICHT ZUTREFFEND'}}\n",
      "3248 {'riedel': {'none'}, 'schadt': {'NICHT ZUTREFFEND'}}\n",
      "3472 {'riedel': {'none'}, 'richter': {'none'}, 'coudry': {'none'}, 'schadt': {'NICHT ZUTREFFEND'}}\n",
      "2945 {'riedel': {'none'}, 'richter': {'none'}, 'grabsch': {'none'}, 'coudry': {'none'}, 'schadt': {'NICHT ZUTREFFEND'}}\n",
      "3185 {'riedel': {'none'}, 'richter': {'none'}, 'schadt': {'NICHT ZUTREFFEND'}}\n",
      "3265 {'riedel': {'none'}, 'richter': {'none'}, 'coudry': {'none'}, 'schadt': {'NICHT ZUTREFFEND'}}\n",
      "3377 {'riedel': {'none'}, 'richter': {'none'}, 'grabsch': {'none'}, 'schadt': {'NICHT ZUTREFFEND'}}\n",
      "3985 {'riedel': {'none'}, 'richter': {'none'}, 'coudry': {'none'}, 'schadt': {'NICHT ZUTREFFEND'}}\n",
      "3266 {'riedel': {'none'}, 'richter': {'none'}, 'schadt': {'NICHT ZUTREFFEND'}}\n",
      "3701 {'richter': {'none'}, 'grabsch': {'none'}, 'riedel': {'none'}, 'schadt': {'NICHT ZUTREFFEND'}}\n",
      "2632 {'richter': {'none'}, 'grabsch': {'NICHT ZUTREFFEND'}, 'coudry': {'none'}, 'schadt': {'NICHT ZUTREFFEND'}}\n",
      "2802 {'richter': {'NICHT ZUTREFFEND'}, 'coudry': {'none'}, 'grabsch': {'NICHT ZUTREFFEND'}, 'riedel': {'NICHT ZUTREFFEND'}, 'schadt': {'none'}}\n",
      "2842 {'richter': {'none'}, 'coudry': {'NICHT ZUTREFFEND'}, 'schadt': {'none'}}\n",
      "2872 {'richter': {'none'}, 'grabsch': {'NICHT ZUTREFFEND'}, 'coudry': {'NICHT ZUTREFFEND'}, 'schadt': {'none'}}\n",
      "3022 {'richter': {'NICHT ZUTREFFEND'}, 'coudry': {'none'}, 'riedel': {'NICHT ZUTREFFEND'}, 'schadt': {'NICHT ZUTREFFEND'}}\n",
      "3192 {'richter': {'none'}, 'coudry': {'none'}, 'grabsch': {'none'}, 'riedel': {'none'}, 'schadt': {'NICHT ZUTREFFEND'}}\n",
      "3332 {'richter': {'none'}, 'grabsch': {'none'}, 'riedel': {'none'}, 'schadt': {'NICHT ZUTREFFEND'}}\n",
      "2543 {'richter': {'none'}, 'grabsch': {'NICHT ZUTREFFEND'}, 'coudry': {'none'}, 'schadt': {'none'}}\n",
      "2553 {'richter': {'none'}, 'coudry': {'none'}, 'grabsch': {'none'}, 'riedel': {'none'}, 'schadt': {'NICHT ZUTREFFEND'}}\n",
      "2603 {'richter': {'none'}, 'grabsch': {'none'}, 'riedel': {'none'}, 'coudry': {'none'}, 'schadt': {'NICHT ZUTREFFEND'}}\n",
      "3173 {'richter': {'none'}, 'grabsch': {'none'}, 'riedel': {'none'}, 'schadt': {'NICHT ZUTREFFEND'}}\n",
      "3193 {'richter': {'none'}, 'coudry': {'none'}, 'riedel': {'none'}, 'schadt': {'NICHT ZUTREFFEND'}}\n",
      "2524 {'richter': {'none'}, 'grabsch': {'NICHT ZUTREFFEND'}, 'coudry': {'none'}, 'schadt': {'NICHT ZUTREFFEND'}}\n",
      "2604 {'richter': {'none'}, 'coudry': {'none'}, 'grabsch': {'none'}, 'riedel': {'none'}, 'schadt': {'NICHT ZUTREFFEND'}}\n",
      "3004 {'richter': {'none'}, 'coudry': {'NICHT ZUTREFFEND'}, 'schadt': {'none'}}\n",
      "3054 {'richter': {'none'}, 'coudry': {'none'}, 'grabsch': {'NICHT ZUTREFFEND'}, 'schadt': {'none'}}\n",
      "3064 {'richter': {'none'}, 'grabsch': {'none'}, 'coudry': {'none'}, 'riedel': {'none'}, 'schadt': {'NICHT ZUTREFFEND'}}\n",
      "3244 {'richter': {'none'}, 'grabsch': {'none'}, 'coudry': {'none'}, 'riedel': {'none'}, 'schadt': {'NICHT ZUTREFFEND'}}\n",
      "3274 {'richter': {'none'}, 'coudry': {'none'}, 'riedel': {'none'}, 'schadt': {'NICHT ZUTREFFEND'}}\n",
      "3414 {'richter': {'none'}, 'coudry': {'none'}, 'grabsch': {'none'}, 'riedel': {'none'}, 'schadt': {'NICHT ZUTREFFEND'}}\n",
      "3574 {'richter': {'none'}, 'grabsch': {'none'}, 'riedel': {'none'}, 'coudry': {'none'}, 'schadt': {'NICHT ZUTREFFEND'}}\n",
      "4054 {'richter': {'none'}, 'grabsch': {'none'}, 'coudry': {'none'}, 'riedel': {'none'}, 'schadt': {'NICHT ZUTREFFEND'}}\n",
      "2615 {'richter': {'none'}, 'grabsch': {'NICHT ZUTREFFEND'}, 'coudry': {'none'}, 'schadt': {'NICHT ZUTREFFEND'}}\n",
      "2635 {'richter': {'none'}, 'coudry': {'none'}, 'riedel': {'NICHT ZUTREFFEND'}, 'schadt': {'NICHT ZUTREFFEND'}}\n",
      "2915 {'richter': {'none'}, 'riedel': {'NICHT ZUTREFFEND'}, 'coudry': {'NICHT ZUTREFFEND'}}\n",
      "2965 {'richter': {'none'}, 'grabsch': {'none'}, 'riedel': {'none'}, 'coudry': {'NICHT ZUTREFFEND', 'Ökonomische Eliten sind korrumpiert / schuld'}, 'schadt': {'none'}}\n",
      "2985 {'richter': {'none'}, 'coudry': {'none'}, 'grabsch': {'none'}, 'riedel': {'none'}, 'schadt': {'NICHT ZUTREFFEND'}}\n",
      "3045 {'richter': {'none'}, 'coudry': {'NICHT ZUTREFFEND'}, 'grabsch': {'NICHT ZUTREFFEND'}, 'riedel': {'none'}, 'schadt': {'none'}}\n",
      "3205 {'richter': {'none'}, 'grabsch': {'none'}, 'riedel': {'none'}, 'coudry': {'none'}, 'schadt': {'NICHT ZUTREFFEND'}}\n",
      "2636 {'richter': {'none'}, 'coudry': {'none'}, 'riedel': {'none'}, 'schadt': {'NICHT ZUTREFFEND'}}\n",
      "2686 {'richter': {'none'}, 'grabsch': {'none'}, 'coudry': {'NICHT ZUTREFFEND'}, 'riedel': {'NICHT ZUTREFFEND'}, 'schadt': {'none'}}\n",
      "3016 {'richter': {'none'}, 'grabsch': {'none'}, 'coudry': {'none'}, 'riedel': {'none'}, 'schadt': {'NICHT ZUTREFFEND'}}\n",
      "3036 {'richter': {'NICHT ZUTREFFEND'}, 'coudry': {'none'}, 'grabsch': {'NICHT ZUTREFFEND'}, 'riedel': {'NICHT ZUTREFFEND'}, 'schadt': {'NICHT ZUTREFFEND'}}\n",
      "3146 {'richter': {'none'}, 'grabsch': {'none'}, 'riedel': {'none'}, 'schadt': {'NICHT ZUTREFFEND'}}\n",
      "3196 {'richter': {'none'}, 'grabsch': {'none'}, 'coudry': {'none'}, 'riedel': {'none'}, 'schadt': {'NICHT ZUTREFFEND'}}\n",
      "3206 {'richter': {'none'}, 'grabsch': {'none'}, 'riedel': {'none'}, 'schadt': {'NICHT ZUTREFFEND'}}\n",
      "3236 {'richter': {'none'}, 'grabsch': {'none'}, 'riedel': {'none'}, 'schadt': {'NICHT ZUTREFFEND'}}\n",
      "3356 {'richter': {'none'}, 'riedel': {'none'}, 'schadt': {'NICHT ZUTREFFEND'}}\n",
      "2539 {'grabsch': {'NICHT ZUTREFFEND'}, 'coudry': {'none'}, 'riedel': {'none'}, 'schadt': {'none'}}\n",
      "2548 {'grabsch': {'NICHT ZUTREFFEND'}, 'coudry': {'none'}, 'riedel': {'NICHT ZUTREFFEND'}, 'schadt': {'NICHT ZUTREFFEND'}}\n",
      "3079 {'grabsch': {'none'}, 'coudry': {'NICHT ZUTREFFEND'}}\n",
      "3277 {'grabsch': {'none'}, 'richter': {'none'}, 'coudry': {'none'}, 'riedel': {'none'}, 'schadt': {'NICHT ZUTREFFEND'}}\n",
      "3349 {'grabsch': {'none'}, 'riedel': {'none'}, 'coudry': {'none'}, 'schadt': {'NICHT ZUTREFFEND'}}\n",
      "2587 {'richter': {'none'}, 'grabsch': {'none'}, 'coudry': {'none'}, 'riedel': {'none'}, 'schadt': {'NICHT ZUTREFFEND'}}\n",
      "2627 {'richter': {'none'}, 'coudry': {'none'}, 'riedel': {'NICHT ZUTREFFEND'}, 'schadt': {'NICHT ZUTREFFEND'}}\n",
      "2657 {'richter': {'none'}, 'grabsch': {'none'}, 'riedel': {'NICHT ZUTREFFEND'}, 'coudry': {'NICHT ZUTREFFEND'}, 'schadt': {'NICHT ZUTREFFEND'}}\n",
      "2877 {'richter': {'none'}, 'coudry': {'NICHT ZUTREFFEND'}, 'grabsch': {'none'}, 'schadt': {'none'}}\n",
      "3037 {'richter': {'NICHT ZUTREFFEND'}, 'grabsch': {'NICHT ZUTREFFEND'}, 'coudry': {'none'}, 'riedel': {'NICHT ZUTREFFEND'}, 'schadt': {'none'}}\n",
      "3217 {'richter': {'none'}, 'grabsch': {'none'}, 'riedel': {'none'}, 'coudry': {'none'}, 'schadt': {'NICHT ZUTREFFEND'}}\n",
      "3257 {'richter': {'none'}, 'schadt': {'NICHT ZUTREFFEND'}}\n",
      "3548 {'grabsch': {'none'}, 'riedel': {'none'}, 'schadt': {'NICHT ZUTREFFEND'}}\n",
      "3018 {'coudry': {'none'}, 'grabsch': {'NICHT ZUTREFFEND'}, 'riedel': {'NICHT ZUTREFFEND'}, 'schadt': {'NICHT ZUTREFFEND'}}\n",
      "3108 {'coudry': {'none'}, 'grabsch': {'NICHT ZUTREFFEND'}, 'riedel': {'NICHT ZUTREFFEND'}, 'schadt': {'NICHT ZUTREFFEND'}}\n",
      "3189 {'coudry': {'none'}, 'grabsch': {'none'}, 'riedel': {'none'}, 'schadt': {'NICHT ZUTREFFEND'}}\n",
      "3829 {'grabsch': {'none'}, 'riedel': {'none'}, 'coudry': {'none'}, 'schadt': {'NICHT ZUTREFFEND'}}\n",
      "3937 {'grabsch': {'NICHT ZUTREFFEND'}, 'coudry': {'none'}, 'riedel': {'NICHT ZUTREFFEND'}, 'schadt': {'NICHT ZUTREFFEND'}}\n",
      "3209 {'grabsch': {'none'}, 'riedel': {'none'}, 'schadt': {'NICHT ZUTREFFEND'}}\n",
      "3659 {'grabsch': {'none'}, 'riedel': {'NICHT ZUTREFFEND'}}\n",
      "2599 {'coudry': {'none'}, 'riedel': {'none'}, 'schadt': {'NICHT ZUTREFFEND'}}\n",
      "2779 {'coudry': {'none'}, 'riedel': {'NICHT ZUTREFFEND'}}\n",
      "2878 {'coudry': {'none'}, 'riedel': {'none'}, 'schadt': {'NICHT ZUTREFFEND'}}\n",
      "3229 {'coudry': {'none'}, 'riedel': {'none'}, 'schadt': {'NICHT ZUTREFFEND'}}\n",
      "3689 {'riedel': {'none'}, 'schadt': {'NICHT ZUTREFFEND'}}\n",
      "2978 {'coudry': {'none'}, 'schadt': {'NICHT ZUTREFFEND'}}\n",
      "3158 {'riedel': {'none'}, 'schadt': {'NICHT ZUTREFFEND'}}\n",
      "--------------------------------------------------\n",
      "Ratio 'NICHT ZUTREFFEND': 7.75%\n"
     ]
    }
   ],
   "source": [
    "count = 0\n",
    "any_coded = 0\n",
    "for sample in samples:\n",
    "    if len(sample.user_labels.keys()):\n",
    "        any_coded += 1\n",
    "    if any(\"NICHT ZUTREFFEND\" in labels for labels in sample.user_labels.values()):\n",
    "        print(sample.example.id, sample.user_labels)\n",
    "        count += 1\n",
    "\n",
    "print(\"-\" * 50 + f\"\\nRatio 'NICHT ZUTREFFEND': {count / any_coded:.2%}\")"
   ]
  },
  {
   "cell_type": "code",
   "execution_count": null,
   "id": "989c52e0",
   "metadata": {},
   "outputs": [],
   "source": []
  }
 ],
 "metadata": {
  "kernelspec": {
   "display_name": "Python 3 (ipykernel)",
   "language": "python",
   "name": "python3"
  },
  "language_info": {
   "codemirror_mode": {
    "name": "ipython",
    "version": 3
   },
   "file_extension": ".py",
   "mimetype": "text/x-python",
   "name": "python",
   "nbconvert_exporter": "python",
   "pygments_lexer": "ipython3",
   "version": "3.10.8"
  },
  "vscode": {
   "interpreter": {
    "hash": "05b0f58c2bcdc36936de25f1aaac0724cceaad7ddc88039a552f8d696c8fb19b"
   }
  }
 },
 "nbformat": 4,
 "nbformat_minor": 5
}
