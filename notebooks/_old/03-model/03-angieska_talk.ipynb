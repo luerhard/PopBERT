{
 "cells": [
  {
   "cell_type": "code",
   "execution_count": null,
   "id": "5228c91d-f912-4ede-ab4c-e20f6c9177a6",
   "metadata": {},
   "outputs": [],
   "source": [
    "from collections import Counter\n",
    "from collections import OrderedDict\n",
    "\n",
    "import altair as alt\n",
    "import pandas as pd\n",
    "import spacy\n",
    "from asciitree import LeftAligned\n",
    "from asciitree import drawing\n",
    "from nltk.metrics.agreement import AnnotationTask\n",
    "from nltk.metrics.distance import jaccard_distance\n",
    "from sqlalchemy.orm import Session\n",
    "from sqlalchemy.orm import joinedload\n",
    "from tqdm import tqdm\n",
    "\n",
    "import src\n",
    "import src.db.models.doccano as m\n",
    "from src.coding.labels import LABELS\n",
    "from src.db.connect import make_engine\n",
    "from src.db.sample import Sample"
   ]
  },
  {
   "cell_type": "code",
   "execution_count": null,
   "id": "76ca7f60-4e37-405d-aed7-cc4fd8f27673",
   "metadata": {},
   "outputs": [],
   "source": [
    "# setup\n",
    "engine = make_engine(\"DOCCANO\")\n",
    "\n",
    "session = Session(engine)\n",
    "\n",
    "pd.set_option(\"display.max_colwidth\", 512)\n",
    "pd.set_option(\"display.max_rows\", 512)\n",
    "\n",
    "project = \"PBert AnnoTask 5\""
   ]
  },
  {
   "cell_type": "code",
   "execution_count": null,
   "id": "bb1e1931",
   "metadata": {},
   "outputs": [],
   "source": [
    "# prepare sentence tokenizer\n",
    "\n",
    "nlp = spacy.load(\"de_core_news_md\")\n",
    "_ = nlp.disable_pipes([\"tagger\", \"morphologizer\", \"lemmatizer\", \"attribute_ruler\", \"ner\"])"
   ]
  },
  {
   "attachments": {},
   "cell_type": "markdown",
   "metadata": {},
   "source": [
    "# 1. Coding scheme / Intro\n",
    "\n",
    "## Overarching Goal\n",
    "\n",
    "We are trying to build a classifier that predicts if a sentence contains any populism --- and if so, is it left or right-wing populism?\n",
    "\n",
    "## Data\n",
    "\n",
    "We use protocols of parliamentary debates of the German Bundestag\n",
    "\n",
    "### Sparse Data\n",
    "\n",
    "Populism is not very frequent in our data. \n",
    "To circumvent coding almost purely negative samples, we use **existing dictionary approaches to classify sentences** and draw stratified samples.\n",
    "\n",
    "\n",
    "\n",
    "## Problem 1: Level of coding\n",
    "\n",
    "- We currently have a heavily nested coding schema based on theoretical considerations (apologies for the German/English mix...)\n",
    "- **Question: What level is helpful for coding?**\n",
    "- **Question: What level is helpful to build the classifier?**\n",
    "  - Should these two align?\n"
   ]
  },
  {
   "cell_type": "code",
   "execution_count": null,
   "metadata": {},
   "outputs": [
    {
     "name": "stdout",
     "output_type": "stream",
     "text": [
      "labels\n",
      " ┣━━━━━━━━━━ neutral\n",
      " ┃           ┣━━━━━━━━━━ anti-elite\n",
      " ┃           ┃           ┣━━━━━━━━━━ Eliten sind korrumpiert\n",
      " ┃           ┃           ┣━━━━━━━━━━ Eliten sind schuld\n",
      " ┃           ┃           ┗━━━━━━━━━━ Eliten repräsentieren nicht das Volk\n",
      " ┃           ┣━━━━━━━━━━ people-centrism\n",
      " ┃           ┃           ┣━━━━━━━━━━ Sprecher repräsentiert Volk\n",
      " ┃           ┃           ┣━━━━━━━━━━ Volk ist tugendhaft\n",
      " ┃           ┃           ┣━━━━━━━━━━ Volk als homogene Masse\n",
      " ┃           ┃           ┗━━━━━━━━━━ Volk als Verursacher einer positiven Entwicklung\n",
      " ┃           ┗━━━━━━━━━━ volkssouveränität\n",
      " ┃                       ┣━━━━━━━━━━ Weniger Macht für Eliten\n",
      " ┃                       ┗━━━━━━━━━━ Mehr Macht für Volk\n",
      " ┣━━━━━━━━━━ rechts\n",
      " ┃           ┣━━━━━━━━━━ nativismus\n",
      " ┃           ┃           ┣━━━━━━━━━━ Exklusion von Randgruppen\n",
      " ┃           ┃           ┣━━━━━━━━━━ Nicht-Einheimische sind korrumpiert / schuld\n",
      " ┃           ┃           ┗━━━━━━━━━━ Einheimisches Volk ist tugendhaft / Verursacher für positive Entwicklung\n",
      " ┃           ┗━━━━━━━━━━ authoritarismus\n",
      " ┃                       ┗━━━━━━━━━━ Recht und Ordnung\n",
      " ┗━━━━━━━━━━ links\n",
      "             ┣━━━━━━━━━━ inklusion\n",
      "             ┃           ┗━━━━━━━━━━ Inklusion von Randgruppen\n",
      "             ┗━━━━━━━━━━ class\n",
      "                         ┣━━━━━━━━━━ Ökonomische Eliten sind korrumpiert / schuld\n",
      "                         ┗━━━━━━━━━━ Arbeiterklasse ist tugendhaft / Verursacher für positive Entwicklung\n"
     ]
    }
   ],
   "source": [
    "tr = LeftAligned(\n",
    "    draw=drawing.BoxStyle(gfx=drawing.BOX_HEAVY, horiz_len=10, indent=1),\n",
    ")\n",
    "\n",
    "data = {\"labels\": OrderedDict()}\n",
    "order = [\"neutral\", \"rechts\", \"links\"]\n",
    "items = [(l, d) for o in order for (l, d) in [k for k in LABELS.items() if k[1][\"lr\"] == o]]\n",
    "\n",
    "for label, d in items:\n",
    "    data[\"labels\"][d[\"lr\"]] = OrderedDict()\n",
    "\n",
    "for label, d in items:\n",
    "    if not data[\"labels\"][d[\"lr\"]].get(d[\"dim\"]):\n",
    "        data[\"labels\"][d[\"lr\"]][d[\"dim\"]] = OrderedDict()\n",
    "    data[\"labels\"][d[\"lr\"]].get(d[\"dim\"], {})[label] = {}\n",
    "\n",
    "print(tr(data))"
   ]
  },
  {
   "attachments": {},
   "cell_type": "markdown",
   "metadata": {},
   "source": [
    "## Problem 2: Context is needed\n",
    "\n",
    "- Coder's suggested that a single sentence is often not enough to decide on a label (especially when it is unclear what some elments of the sentence refer to)\n",
    "\n",
    "- Because of this, we started to give \"context\"; so the surrounding to sentences in the form of:\n",
    "\n",
    "&nbsp;\n",
    "\n",
    "```\n",
    "Context sentence 1\n",
    "----------\n",
    "Sentence to code\n",
    "----------\n",
    "Context sentence 2\n",
    "```\n",
    "\n",
    "&nbsp;\n",
    "\n",
    "- **Question: Does this even make any sense?**\n",
    "    - Can we still train a BERT-Classifier on the middle-sentence or should we give all 3?"
   ]
  },
  {
   "attachments": {},
   "cell_type": "markdown",
   "metadata": {},
   "source": [
    "## Problem 3: Majority voting(?)\n",
    "\n",
    "- The theoretical definitions of Populism are very fuzzy.\n",
    "\n",
    "- Current solution: We allow a label if at least **two coders agree** on it.\n",
    "    - Is this a viable option?\n",
    "    - Should we use something else like a majority vote?\n",
    "    - Often, the majority would be \"none\"."
   ]
  },
  {
   "cell_type": "code",
   "execution_count": null,
   "metadata": {},
   "outputs": [
    {
     "name": "stdout",
     "output_type": "stream",
     "text": [
      "1535\n"
     ]
    }
   ],
   "source": [
    "q = (\n",
    "    session.query(m.ExamplesExample)\n",
    "    .options(joinedload(m.ExamplesExample.labels), joinedload(m.ExamplesExample.state))\n",
    "    .join(m.ExamplesExample.project)\n",
    "    .filter(\n",
    "        m.ProjectsProject.name == project,\n",
    "        # uncomment to only collect samples confirmed by at least one person\n",
    "        m.ExamplesExample.state.any(),\n",
    "    )\n",
    ")\n",
    "\n",
    "samples = []\n",
    "label_dict = {label: LABELS[label][\"lr\"] for label in LABELS.keys()}\n",
    "for row in q:\n",
    "    sample = Sample(row, nlp, label_dict)\n",
    "    samples.append(sample)\n",
    "\n",
    "df = pd.DataFrame(\n",
    "    {\"n_coders\": [len(s.confirmed_by) for s in samples if \"NICHT ZUTREFFEND\" not in s.label_counts]}\n",
    ")\n",
    "print(len(df))"
   ]
  },
  {
   "cell_type": "code",
   "execution_count": null,
   "metadata": {},
   "outputs": [
    {
     "data": {
      "text/html": [
       "\n",
       "<div id=\"altair-viz-12f48bac2aa14a1c997992eeb036a288\"></div>\n",
       "<script type=\"text/javascript\">\n",
       "  var VEGA_DEBUG = (typeof VEGA_DEBUG == \"undefined\") ? {} : VEGA_DEBUG;\n",
       "  (function(spec, embedOpt){\n",
       "    let outputDiv = document.currentScript.previousElementSibling;\n",
       "    if (outputDiv.id !== \"altair-viz-12f48bac2aa14a1c997992eeb036a288\") {\n",
       "      outputDiv = document.getElementById(\"altair-viz-12f48bac2aa14a1c997992eeb036a288\");\n",
       "    }\n",
       "    const paths = {\n",
       "      \"vega\": \"https://cdn.jsdelivr.net/npm//vega@5?noext\",\n",
       "      \"vega-lib\": \"https://cdn.jsdelivr.net/npm//vega-lib?noext\",\n",
       "      \"vega-lite\": \"https://cdn.jsdelivr.net/npm//vega-lite@4.17.0?noext\",\n",
       "      \"vega-embed\": \"https://cdn.jsdelivr.net/npm//vega-embed@6?noext\",\n",
       "    };\n",
       "\n",
       "    function maybeLoadScript(lib, version) {\n",
       "      var key = `${lib.replace(\"-\", \"\")}_version`;\n",
       "      return (VEGA_DEBUG[key] == version) ?\n",
       "        Promise.resolve(paths[lib]) :\n",
       "        new Promise(function(resolve, reject) {\n",
       "          var s = document.createElement('script');\n",
       "          document.getElementsByTagName(\"head\")[0].appendChild(s);\n",
       "          s.async = true;\n",
       "          s.onload = () => {\n",
       "            VEGA_DEBUG[key] = version;\n",
       "            return resolve(paths[lib]);\n",
       "          };\n",
       "          s.onerror = () => reject(`Error loading script: ${paths[lib]}`);\n",
       "          s.src = paths[lib];\n",
       "        });\n",
       "    }\n",
       "\n",
       "    function showError(err) {\n",
       "      outputDiv.innerHTML = `<div class=\"error\" style=\"color:red;\">${err}</div>`;\n",
       "      throw err;\n",
       "    }\n",
       "\n",
       "    function displayChart(vegaEmbed) {\n",
       "      vegaEmbed(outputDiv, spec, embedOpt)\n",
       "        .catch(err => showError(`Javascript Error: ${err.message}<br>This usually means there's a typo in your chart specification. See the javascript console for the full traceback.`));\n",
       "    }\n",
       "\n",
       "    if(typeof define === \"function\" && define.amd) {\n",
       "      requirejs.config({paths});\n",
       "      require([\"vega-embed\"], displayChart, err => showError(`Error loading script: ${err.message}`));\n",
       "    } else {\n",
       "      maybeLoadScript(\"vega\", \"5\")\n",
       "        .then(() => maybeLoadScript(\"vega-lite\", \"4.17.0\"))\n",
       "        .then(() => maybeLoadScript(\"vega-embed\", \"6\"))\n",
       "        .catch(showError)\n",
       "        .then(() => displayChart(vegaEmbed));\n",
       "    }\n",
       "  })({\"config\": {\"view\": {\"continuousWidth\": 400, \"continuousHeight\": 300}}, \"data\": {\"name\": \"data-24608502d7217e98b648b85a1a3a668b\"}, \"mark\": \"bar\", \"encoding\": {\"x\": {\"field\": \"n_coders\", \"type\": \"ordinal\"}, \"y\": {\"aggregate\": \"count\", \"field\": \"*\", \"type\": \"quantitative\"}}, \"height\": 400, \"title\": \"Number of coders per Sample\", \"width\": 800, \"$schema\": \"https://vega.github.io/schema/vega-lite/v4.17.0.json\", \"datasets\": {\"data-24608502d7217e98b648b85a1a3a668b\": [{\"n_coders\": 5}, {\"n_coders\": 5}, {\"n_coders\": 5}, {\"n_coders\": 6}, {\"n_coders\": 6}, {\"n_coders\": 5}, {\"n_coders\": 5}, {\"n_coders\": 5}, {\"n_coders\": 5}, {\"n_coders\": 5}, {\"n_coders\": 5}, {\"n_coders\": 3}, {\"n_coders\": 4}, {\"n_coders\": 5}, {\"n_coders\": 5}, {\"n_coders\": 5}, {\"n_coders\": 5}, {\"n_coders\": 4}, {\"n_coders\": 4}, {\"n_coders\": 5}, {\"n_coders\": 4}, {\"n_coders\": 4}, {\"n_coders\": 4}, {\"n_coders\": 5}, {\"n_coders\": 5}, {\"n_coders\": 5}, {\"n_coders\": 5}, {\"n_coders\": 5}, {\"n_coders\": 5}, {\"n_coders\": 4}, {\"n_coders\": 4}, {\"n_coders\": 5}, {\"n_coders\": 5}, {\"n_coders\": 5}, {\"n_coders\": 5}, {\"n_coders\": 4}, {\"n_coders\": 4}, {\"n_coders\": 5}, {\"n_coders\": 4}, {\"n_coders\": 4}, {\"n_coders\": 5}, {\"n_coders\": 5}, {\"n_coders\": 5}, {\"n_coders\": 5}, {\"n_coders\": 5}, {\"n_coders\": 5}, {\"n_coders\": 5}, {\"n_coders\": 4}, {\"n_coders\": 4}, {\"n_coders\": 5}, {\"n_coders\": 5}, {\"n_coders\": 5}, {\"n_coders\": 5}, {\"n_coders\": 5}, {\"n_coders\": 5}, {\"n_coders\": 5}, {\"n_coders\": 4}, {\"n_coders\": 4}, {\"n_coders\": 5}, {\"n_coders\": 5}, {\"n_coders\": 4}, {\"n_coders\": 5}, {\"n_coders\": 5}, {\"n_coders\": 4}, {\"n_coders\": 5}, {\"n_coders\": 4}, {\"n_coders\": 3}, {\"n_coders\": 5}, {\"n_coders\": 5}, {\"n_coders\": 4}, {\"n_coders\": 5}, {\"n_coders\": 5}, {\"n_coders\": 4}, {\"n_coders\": 5}, {\"n_coders\": 4}, {\"n_coders\": 3}, {\"n_coders\": 4}, {\"n_coders\": 5}, {\"n_coders\": 4}, {\"n_coders\": 5}, {\"n_coders\": 5}, {\"n_coders\": 3}, {\"n_coders\": 5}, {\"n_coders\": 4}, {\"n_coders\": 3}, {\"n_coders\": 4}, {\"n_coders\": 5}, {\"n_coders\": 3}, {\"n_coders\": 5}, {\"n_coders\": 4}, {\"n_coders\": 4}, {\"n_coders\": 4}, {\"n_coders\": 4}, {\"n_coders\": 3}, {\"n_coders\": 5}, {\"n_coders\": 5}, {\"n_coders\": 4}, {\"n_coders\": 5}, {\"n_coders\": 5}, {\"n_coders\": 3}, {\"n_coders\": 5}, {\"n_coders\": 4}, {\"n_coders\": 2}, {\"n_coders\": 4}, {\"n_coders\": 5}, {\"n_coders\": 4}, {\"n_coders\": 5}, {\"n_coders\": 5}, {\"n_coders\": 4}, {\"n_coders\": 5}, {\"n_coders\": 4}, {\"n_coders\": 3}, {\"n_coders\": 5}, {\"n_coders\": 5}, {\"n_coders\": 4}, {\"n_coders\": 4}, {\"n_coders\": 6}, {\"n_coders\": 6}, {\"n_coders\": 6}, {\"n_coders\": 6}, {\"n_coders\": 6}, {\"n_coders\": 5}, {\"n_coders\": 4}, {\"n_coders\": 5}, {\"n_coders\": 3}, {\"n_coders\": 3}, {\"n_coders\": 5}, {\"n_coders\": 4}, {\"n_coders\": 4}, {\"n_coders\": 5}, {\"n_coders\": 4}, {\"n_coders\": 3}, {\"n_coders\": 5}, {\"n_coders\": 4}, {\"n_coders\": 5}, {\"n_coders\": 4}, {\"n_coders\": 5}, {\"n_coders\": 3}, {\"n_coders\": 3}, {\"n_coders\": 5}, {\"n_coders\": 4}, {\"n_coders\": 4}, {\"n_coders\": 3}, {\"n_coders\": 5}, {\"n_coders\": 5}, {\"n_coders\": 4}, {\"n_coders\": 5}, {\"n_coders\": 5}, {\"n_coders\": 4}, {\"n_coders\": 4}, {\"n_coders\": 4}, {\"n_coders\": 3}, {\"n_coders\": 4}, {\"n_coders\": 5}, {\"n_coders\": 4}, {\"n_coders\": 5}, {\"n_coders\": 5}, {\"n_coders\": 4}, {\"n_coders\": 5}, {\"n_coders\": 3}, {\"n_coders\": 3}, {\"n_coders\": 5}, {\"n_coders\": 5}, {\"n_coders\": 5}, {\"n_coders\": 5}, {\"n_coders\": 5}, {\"n_coders\": 5}, {\"n_coders\": 4}, {\"n_coders\": 4}, {\"n_coders\": 5}, {\"n_coders\": 5}, {\"n_coders\": 5}, {\"n_coders\": 5}, {\"n_coders\": 5}, {\"n_coders\": 5}, {\"n_coders\": 3}, {\"n_coders\": 3}, {\"n_coders\": 5}, {\"n_coders\": 4}, {\"n_coders\": 5}, {\"n_coders\": 5}, {\"n_coders\": 4}, {\"n_coders\": 5}, {\"n_coders\": 4}, {\"n_coders\": 4}, {\"n_coders\": 3}, {\"n_coders\": 5}, {\"n_coders\": 4}, {\"n_coders\": 5}, {\"n_coders\": 4}, {\"n_coders\": 5}, {\"n_coders\": 3}, {\"n_coders\": 5}, {\"n_coders\": 3}, {\"n_coders\": 4}, {\"n_coders\": 4}, {\"n_coders\": 5}, {\"n_coders\": 3}, {\"n_coders\": 5}, {\"n_coders\": 3}, {\"n_coders\": 4}, {\"n_coders\": 5}, {\"n_coders\": 4}, {\"n_coders\": 5}, {\"n_coders\": 5}, {\"n_coders\": 4}, {\"n_coders\": 5}, {\"n_coders\": 4}, {\"n_coders\": 3}, {\"n_coders\": 3}, {\"n_coders\": 5}, {\"n_coders\": 4}, {\"n_coders\": 5}, {\"n_coders\": 3}, {\"n_coders\": 5}, {\"n_coders\": 3}, {\"n_coders\": 4}, {\"n_coders\": 5}, {\"n_coders\": 5}, {\"n_coders\": 4}, {\"n_coders\": 5}, {\"n_coders\": 4}, {\"n_coders\": 5}, {\"n_coders\": 4}, {\"n_coders\": 4}, {\"n_coders\": 4}, {\"n_coders\": 5}, {\"n_coders\": 5}, {\"n_coders\": 5}, {\"n_coders\": 4}, {\"n_coders\": 5}, {\"n_coders\": 3}, {\"n_coders\": 5}, {\"n_coders\": 4}, {\"n_coders\": 4}, {\"n_coders\": 3}, {\"n_coders\": 4}, {\"n_coders\": 5}, {\"n_coders\": 4}, {\"n_coders\": 3}, {\"n_coders\": 2}, {\"n_coders\": 3}, {\"n_coders\": 5}, {\"n_coders\": 4}, {\"n_coders\": 3}, {\"n_coders\": 4}, {\"n_coders\": 5}, {\"n_coders\": 4}, {\"n_coders\": 5}, {\"n_coders\": 3}, {\"n_coders\": 4}, {\"n_coders\": 4}, {\"n_coders\": 5}, {\"n_coders\": 5}, {\"n_coders\": 3}, {\"n_coders\": 3}, {\"n_coders\": 5}, {\"n_coders\": 4}, {\"n_coders\": 4}, {\"n_coders\": 4}, {\"n_coders\": 4}, {\"n_coders\": 4}, {\"n_coders\": 4}, {\"n_coders\": 5}, {\"n_coders\": 2}, {\"n_coders\": 5}, {\"n_coders\": 5}, {\"n_coders\": 5}, {\"n_coders\": 4}, {\"n_coders\": 4}, {\"n_coders\": 4}, {\"n_coders\": 4}, {\"n_coders\": 4}, {\"n_coders\": 3}, {\"n_coders\": 5}, {\"n_coders\": 3}, {\"n_coders\": 3}, {\"n_coders\": 3}, {\"n_coders\": 4}, {\"n_coders\": 5}, {\"n_coders\": 3}, {\"n_coders\": 5}, {\"n_coders\": 4}, {\"n_coders\": 5}, {\"n_coders\": 5}, {\"n_coders\": 3}, {\"n_coders\": 3}, {\"n_coders\": 4}, {\"n_coders\": 4}, {\"n_coders\": 5}, {\"n_coders\": 5}, {\"n_coders\": 4}, {\"n_coders\": 4}, {\"n_coders\": 3}, {\"n_coders\": 1}, {\"n_coders\": 4}, {\"n_coders\": 4}, {\"n_coders\": 4}, {\"n_coders\": 5}, {\"n_coders\": 4}, {\"n_coders\": 5}, {\"n_coders\": 4}, {\"n_coders\": 5}, {\"n_coders\": 5}, {\"n_coders\": 4}, {\"n_coders\": 3}, {\"n_coders\": 3}, {\"n_coders\": 5}, {\"n_coders\": 2}, {\"n_coders\": 4}, {\"n_coders\": 3}, {\"n_coders\": 3}, {\"n_coders\": 4}, {\"n_coders\": 5}, {\"n_coders\": 2}, {\"n_coders\": 2}, {\"n_coders\": 3}, {\"n_coders\": 5}, {\"n_coders\": 4}, {\"n_coders\": 4}, {\"n_coders\": 3}, {\"n_coders\": 4}, {\"n_coders\": 1}, {\"n_coders\": 5}, {\"n_coders\": 3}, {\"n_coders\": 5}, {\"n_coders\": 3}, {\"n_coders\": 5}, {\"n_coders\": 5}, {\"n_coders\": 5}, {\"n_coders\": 3}, {\"n_coders\": 5}, {\"n_coders\": 5}, {\"n_coders\": 3}, {\"n_coders\": 4}, {\"n_coders\": 4}, {\"n_coders\": 4}, {\"n_coders\": 5}, {\"n_coders\": 4}, {\"n_coders\": 3}, {\"n_coders\": 5}, {\"n_coders\": 5}, {\"n_coders\": 5}, {\"n_coders\": 2}, {\"n_coders\": 5}, {\"n_coders\": 3}, {\"n_coders\": 4}, {\"n_coders\": 5}, {\"n_coders\": 3}, {\"n_coders\": 4}, {\"n_coders\": 4}, {\"n_coders\": 3}, {\"n_coders\": 5}, {\"n_coders\": 5}, {\"n_coders\": 4}, {\"n_coders\": 4}, {\"n_coders\": 4}, {\"n_coders\": 4}, {\"n_coders\": 5}, {\"n_coders\": 5}, {\"n_coders\": 5}, {\"n_coders\": 5}, {\"n_coders\": 3}, {\"n_coders\": 5}, {\"n_coders\": 3}, {\"n_coders\": 5}, {\"n_coders\": 5}, {\"n_coders\": 4}, {\"n_coders\": 5}, {\"n_coders\": 5}, {\"n_coders\": 5}, {\"n_coders\": 4}, {\"n_coders\": 5}, {\"n_coders\": 5}, {\"n_coders\": 4}, {\"n_coders\": 3}, {\"n_coders\": 4}, {\"n_coders\": 4}, {\"n_coders\": 4}, {\"n_coders\": 3}, {\"n_coders\": 4}, {\"n_coders\": 5}, {\"n_coders\": 5}, {\"n_coders\": 3}, {\"n_coders\": 5}, {\"n_coders\": 5}, {\"n_coders\": 4}, {\"n_coders\": 4}, {\"n_coders\": 4}, {\"n_coders\": 2}, {\"n_coders\": 4}, {\"n_coders\": 5}, {\"n_coders\": 4}, {\"n_coders\": 5}, {\"n_coders\": 4}, {\"n_coders\": 5}, {\"n_coders\": 4}, {\"n_coders\": 5}, {\"n_coders\": 5}, {\"n_coders\": 5}, {\"n_coders\": 5}, {\"n_coders\": 4}, {\"n_coders\": 3}, {\"n_coders\": 4}, {\"n_coders\": 3}, {\"n_coders\": 5}, {\"n_coders\": 3}, {\"n_coders\": 4}, {\"n_coders\": 3}, {\"n_coders\": 5}, {\"n_coders\": 5}, {\"n_coders\": 2}, {\"n_coders\": 5}, {\"n_coders\": 5}, {\"n_coders\": 4}, {\"n_coders\": 4}, {\"n_coders\": 5}, {\"n_coders\": 4}, {\"n_coders\": 5}, {\"n_coders\": 5}, {\"n_coders\": 5}, {\"n_coders\": 3}, {\"n_coders\": 5}, {\"n_coders\": 3}, {\"n_coders\": 4}, {\"n_coders\": 2}, {\"n_coders\": 2}, {\"n_coders\": 4}, {\"n_coders\": 5}, {\"n_coders\": 5}, {\"n_coders\": 4}, {\"n_coders\": 4}, {\"n_coders\": 4}, {\"n_coders\": 4}, {\"n_coders\": 5}, {\"n_coders\": 3}, {\"n_coders\": 5}, {\"n_coders\": 3}, {\"n_coders\": 3}, {\"n_coders\": 4}, {\"n_coders\": 5}, {\"n_coders\": 3}, {\"n_coders\": 5}, {\"n_coders\": 3}, {\"n_coders\": 4}, {\"n_coders\": 4}, {\"n_coders\": 4}, {\"n_coders\": 2}, {\"n_coders\": 5}, {\"n_coders\": 3}, {\"n_coders\": 4}, {\"n_coders\": 4}, {\"n_coders\": 5}, {\"n_coders\": 2}, {\"n_coders\": 5}, {\"n_coders\": 2}, {\"n_coders\": 3}, {\"n_coders\": 4}, {\"n_coders\": 5}, {\"n_coders\": 2}, {\"n_coders\": 5}, {\"n_coders\": 4}, {\"n_coders\": 4}, {\"n_coders\": 4}, {\"n_coders\": 2}, {\"n_coders\": 5}, {\"n_coders\": 4}, {\"n_coders\": 5}, {\"n_coders\": 5}, {\"n_coders\": 5}, {\"n_coders\": 4}, {\"n_coders\": 5}, {\"n_coders\": 5}, {\"n_coders\": 5}, {\"n_coders\": 4}, {\"n_coders\": 4}, {\"n_coders\": 4}, {\"n_coders\": 4}, {\"n_coders\": 5}, {\"n_coders\": 4}, {\"n_coders\": 4}, {\"n_coders\": 5}, {\"n_coders\": 4}, {\"n_coders\": 4}, {\"n_coders\": 5}, {\"n_coders\": 5}, {\"n_coders\": 5}, {\"n_coders\": 5}, {\"n_coders\": 5}, {\"n_coders\": 4}, {\"n_coders\": 3}, {\"n_coders\": 4}, {\"n_coders\": 4}, {\"n_coders\": 4}, {\"n_coders\": 5}, {\"n_coders\": 5}, {\"n_coders\": 5}, {\"n_coders\": 4}, {\"n_coders\": 4}, {\"n_coders\": 5}, {\"n_coders\": 5}, {\"n_coders\": 5}, {\"n_coders\": 4}, {\"n_coders\": 4}, {\"n_coders\": 4}, {\"n_coders\": 5}, {\"n_coders\": 4}, {\"n_coders\": 5}, {\"n_coders\": 4}, {\"n_coders\": 5}, {\"n_coders\": 4}, {\"n_coders\": 5}, {\"n_coders\": 4}, {\"n_coders\": 4}, {\"n_coders\": 5}, {\"n_coders\": 3}, {\"n_coders\": 5}, {\"n_coders\": 2}, {\"n_coders\": 4}, {\"n_coders\": 4}, {\"n_coders\": 5}, {\"n_coders\": 4}, {\"n_coders\": 5}, {\"n_coders\": 3}, {\"n_coders\": 4}, {\"n_coders\": 4}, {\"n_coders\": 5}, {\"n_coders\": 5}, {\"n_coders\": 4}, {\"n_coders\": 4}, {\"n_coders\": 4}, {\"n_coders\": 5}, {\"n_coders\": 4}, {\"n_coders\": 4}, {\"n_coders\": 5}, {\"n_coders\": 4}, {\"n_coders\": 5}, {\"n_coders\": 2}, {\"n_coders\": 5}, {\"n_coders\": 4}, {\"n_coders\": 4}, {\"n_coders\": 5}, {\"n_coders\": 4}, {\"n_coders\": 4}, {\"n_coders\": 3}, {\"n_coders\": 5}, {\"n_coders\": 5}, {\"n_coders\": 4}, {\"n_coders\": 5}, {\"n_coders\": 4}, {\"n_coders\": 4}, {\"n_coders\": 4}, {\"n_coders\": 5}, {\"n_coders\": 5}, {\"n_coders\": 5}, {\"n_coders\": 4}, {\"n_coders\": 4}, {\"n_coders\": 5}, {\"n_coders\": 3}, {\"n_coders\": 3}, {\"n_coders\": 5}, {\"n_coders\": 4}, {\"n_coders\": 4}, {\"n_coders\": 4}, {\"n_coders\": 5}, {\"n_coders\": 4}, {\"n_coders\": 3}, {\"n_coders\": 5}, {\"n_coders\": 5}, {\"n_coders\": 4}, {\"n_coders\": 4}, {\"n_coders\": 5}, {\"n_coders\": 4}, {\"n_coders\": 5}, {\"n_coders\": 3}, {\"n_coders\": 3}, {\"n_coders\": 5}, {\"n_coders\": 5}, {\"n_coders\": 5}, {\"n_coders\": 4}, {\"n_coders\": 4}, {\"n_coders\": 2}, {\"n_coders\": 4}, {\"n_coders\": 4}, {\"n_coders\": 5}, {\"n_coders\": 4}, {\"n_coders\": 5}, {\"n_coders\": 4}, {\"n_coders\": 5}, {\"n_coders\": 5}, {\"n_coders\": 5}, {\"n_coders\": 5}, {\"n_coders\": 3}, {\"n_coders\": 4}, {\"n_coders\": 5}, {\"n_coders\": 4}, {\"n_coders\": 5}, {\"n_coders\": 5}, {\"n_coders\": 4}, {\"n_coders\": 5}, {\"n_coders\": 2}, {\"n_coders\": 4}, {\"n_coders\": 5}, {\"n_coders\": 4}, {\"n_coders\": 5}, {\"n_coders\": 4}, {\"n_coders\": 4}, {\"n_coders\": 4}, {\"n_coders\": 4}, {\"n_coders\": 4}, {\"n_coders\": 4}, {\"n_coders\": 4}, {\"n_coders\": 5}, {\"n_coders\": 4}, {\"n_coders\": 5}, {\"n_coders\": 3}, {\"n_coders\": 4}, {\"n_coders\": 4}, {\"n_coders\": 4}, {\"n_coders\": 5}, {\"n_coders\": 3}, {\"n_coders\": 2}, {\"n_coders\": 4}, {\"n_coders\": 4}, {\"n_coders\": 4}, {\"n_coders\": 5}, {\"n_coders\": 3}, {\"n_coders\": 5}, {\"n_coders\": 5}, {\"n_coders\": 4}, {\"n_coders\": 4}, {\"n_coders\": 4}, {\"n_coders\": 4}, {\"n_coders\": 2}, {\"n_coders\": 4}, {\"n_coders\": 4}, {\"n_coders\": 5}, {\"n_coders\": 3}, {\"n_coders\": 5}, {\"n_coders\": 2}, {\"n_coders\": 3}, {\"n_coders\": 5}, {\"n_coders\": 2}, {\"n_coders\": 4}, {\"n_coders\": 4}, {\"n_coders\": 4}, {\"n_coders\": 4}, {\"n_coders\": 4}, {\"n_coders\": 1}, {\"n_coders\": 4}, {\"n_coders\": 4}, {\"n_coders\": 3}, {\"n_coders\": 5}, {\"n_coders\": 3}, {\"n_coders\": 5}, {\"n_coders\": 3}, {\"n_coders\": 4}, {\"n_coders\": 4}, {\"n_coders\": 2}, {\"n_coders\": 4}, {\"n_coders\": 4}, {\"n_coders\": 4}, {\"n_coders\": 4}, {\"n_coders\": 4}, {\"n_coders\": 2}, {\"n_coders\": 5}, {\"n_coders\": 4}, {\"n_coders\": 3}, {\"n_coders\": 4}, {\"n_coders\": 5}, {\"n_coders\": 3}, {\"n_coders\": 5}, {\"n_coders\": 3}, {\"n_coders\": 4}, {\"n_coders\": 5}, {\"n_coders\": 3}, {\"n_coders\": 5}, {\"n_coders\": 3}, {\"n_coders\": 4}, {\"n_coders\": 4}, {\"n_coders\": 3}, {\"n_coders\": 1}, {\"n_coders\": 3}, {\"n_coders\": 3}, {\"n_coders\": 4}, {\"n_coders\": 5}, {\"n_coders\": 3}, {\"n_coders\": 4}, {\"n_coders\": 3}, {\"n_coders\": 3}, {\"n_coders\": 4}, {\"n_coders\": 4}, {\"n_coders\": 3}, {\"n_coders\": 3}, {\"n_coders\": 4}, {\"n_coders\": 4}, {\"n_coders\": 3}, {\"n_coders\": 3}, {\"n_coders\": 4}, {\"n_coders\": 4}, {\"n_coders\": 2}, {\"n_coders\": 5}, {\"n_coders\": 5}, {\"n_coders\": 4}, {\"n_coders\": 5}, {\"n_coders\": 5}, {\"n_coders\": 5}, {\"n_coders\": 2}, {\"n_coders\": 4}, {\"n_coders\": 4}, {\"n_coders\": 5}, {\"n_coders\": 4}, {\"n_coders\": 5}, {\"n_coders\": 5}, {\"n_coders\": 5}, {\"n_coders\": 5}, {\"n_coders\": 5}, {\"n_coders\": 4}, {\"n_coders\": 4}, {\"n_coders\": 5}, {\"n_coders\": 5}, {\"n_coders\": 5}, {\"n_coders\": 4}, {\"n_coders\": 4}, {\"n_coders\": 5}, {\"n_coders\": 4}, {\"n_coders\": 4}, {\"n_coders\": 5}, {\"n_coders\": 5}, {\"n_coders\": 5}, {\"n_coders\": 5}, {\"n_coders\": 5}, {\"n_coders\": 5}, {\"n_coders\": 4}, {\"n_coders\": 4}, {\"n_coders\": 5}, {\"n_coders\": 5}, {\"n_coders\": 5}, {\"n_coders\": 5}, {\"n_coders\": 5}, {\"n_coders\": 4}, {\"n_coders\": 3}, {\"n_coders\": 5}, {\"n_coders\": 4}, {\"n_coders\": 5}, {\"n_coders\": 4}, {\"n_coders\": 4}, {\"n_coders\": 4}, {\"n_coders\": 3}, {\"n_coders\": 4}, {\"n_coders\": 4}, {\"n_coders\": 5}, {\"n_coders\": 4}, {\"n_coders\": 5}, {\"n_coders\": 5}, {\"n_coders\": 4}, {\"n_coders\": 5}, {\"n_coders\": 4}, {\"n_coders\": 4}, {\"n_coders\": 5}, {\"n_coders\": 4}, {\"n_coders\": 5}, {\"n_coders\": 4}, {\"n_coders\": 3}, {\"n_coders\": 5}, {\"n_coders\": 4}, {\"n_coders\": 5}, {\"n_coders\": 3}, {\"n_coders\": 4}, {\"n_coders\": 3}, {\"n_coders\": 5}, {\"n_coders\": 4}, {\"n_coders\": 5}, {\"n_coders\": 5}, {\"n_coders\": 4}, {\"n_coders\": 3}, {\"n_coders\": 5}, {\"n_coders\": 4}, {\"n_coders\": 5}, {\"n_coders\": 5}, {\"n_coders\": 4}, {\"n_coders\": 4}, {\"n_coders\": 4}, {\"n_coders\": 3}, {\"n_coders\": 5}, {\"n_coders\": 5}, {\"n_coders\": 4}, {\"n_coders\": 5}, {\"n_coders\": 4}, {\"n_coders\": 5}, {\"n_coders\": 4}, {\"n_coders\": 5}, {\"n_coders\": 5}, {\"n_coders\": 5}, {\"n_coders\": 4}, {\"n_coders\": 4}, {\"n_coders\": 4}, {\"n_coders\": 4}, {\"n_coders\": 3}, {\"n_coders\": 5}, {\"n_coders\": 3}, {\"n_coders\": 5}, {\"n_coders\": 5}, {\"n_coders\": 4}, {\"n_coders\": 5}, {\"n_coders\": 3}, {\"n_coders\": 2}, {\"n_coders\": 5}, {\"n_coders\": 3}, {\"n_coders\": 5}, {\"n_coders\": 5}, {\"n_coders\": 4}, {\"n_coders\": 4}, {\"n_coders\": 3}, {\"n_coders\": 5}, {\"n_coders\": 5}, {\"n_coders\": 5}, {\"n_coders\": 5}, {\"n_coders\": 3}, {\"n_coders\": 4}, {\"n_coders\": 4}, {\"n_coders\": 5}, {\"n_coders\": 5}, {\"n_coders\": 4}, {\"n_coders\": 5}, {\"n_coders\": 5}, {\"n_coders\": 4}, {\"n_coders\": 5}, {\"n_coders\": 4}, {\"n_coders\": 5}, {\"n_coders\": 4}, {\"n_coders\": 4}, {\"n_coders\": 5}, {\"n_coders\": 5}, {\"n_coders\": 4}, {\"n_coders\": 5}, {\"n_coders\": 5}, {\"n_coders\": 4}, {\"n_coders\": 5}, {\"n_coders\": 4}, {\"n_coders\": 5}, {\"n_coders\": 4}, {\"n_coders\": 4}, {\"n_coders\": 4}, {\"n_coders\": 5}, {\"n_coders\": 4}, {\"n_coders\": 2}, {\"n_coders\": 5}, {\"n_coders\": 3}, {\"n_coders\": 4}, {\"n_coders\": 5}, {\"n_coders\": 4}, {\"n_coders\": 4}, {\"n_coders\": 4}, {\"n_coders\": 4}, {\"n_coders\": 5}, {\"n_coders\": 2}, {\"n_coders\": 4}, {\"n_coders\": 5}, {\"n_coders\": 4}, {\"n_coders\": 5}, {\"n_coders\": 5}, {\"n_coders\": 3}, {\"n_coders\": 3}, {\"n_coders\": 3}, {\"n_coders\": 4}, {\"n_coders\": 4}, {\"n_coders\": 5}, {\"n_coders\": 3}, {\"n_coders\": 5}, {\"n_coders\": 2}, {\"n_coders\": 4}, {\"n_coders\": 5}, {\"n_coders\": 4}, {\"n_coders\": 4}, {\"n_coders\": 4}, {\"n_coders\": 4}, {\"n_coders\": 2}, {\"n_coders\": 4}, {\"n_coders\": 4}, {\"n_coders\": 4}, {\"n_coders\": 5}, {\"n_coders\": 3}, {\"n_coders\": 5}, {\"n_coders\": 3}, {\"n_coders\": 5}, {\"n_coders\": 3}, {\"n_coders\": 5}, {\"n_coders\": 4}, {\"n_coders\": 4}, {\"n_coders\": 4}, {\"n_coders\": 2}, {\"n_coders\": 4}, {\"n_coders\": 4}, {\"n_coders\": 3}, {\"n_coders\": 5}, {\"n_coders\": 2}, {\"n_coders\": 5}, {\"n_coders\": 3}, {\"n_coders\": 3}, {\"n_coders\": 5}, {\"n_coders\": 3}, {\"n_coders\": 5}, {\"n_coders\": 4}, {\"n_coders\": 3}, {\"n_coders\": 3}, {\"n_coders\": 4}, {\"n_coders\": 2}, {\"n_coders\": 5}, {\"n_coders\": 4}, {\"n_coders\": 4}, {\"n_coders\": 4}, {\"n_coders\": 5}, {\"n_coders\": 3}, {\"n_coders\": 5}, {\"n_coders\": 3}, {\"n_coders\": 3}, {\"n_coders\": 4}, {\"n_coders\": 5}, {\"n_coders\": 3}, {\"n_coders\": 5}, {\"n_coders\": 3}, {\"n_coders\": 4}, {\"n_coders\": 3}, {\"n_coders\": 4}, {\"n_coders\": 2}, {\"n_coders\": 5}, {\"n_coders\": 4}, {\"n_coders\": 4}, {\"n_coders\": 4}, {\"n_coders\": 5}, {\"n_coders\": 2}, {\"n_coders\": 4}, {\"n_coders\": 3}, {\"n_coders\": 3}, {\"n_coders\": 3}, {\"n_coders\": 3}, {\"n_coders\": 5}, {\"n_coders\": 4}, {\"n_coders\": 3}, {\"n_coders\": 4}, {\"n_coders\": 4}, {\"n_coders\": 1}, {\"n_coders\": 4}, {\"n_coders\": 4}, {\"n_coders\": 5}, {\"n_coders\": 3}, {\"n_coders\": 4}, {\"n_coders\": 3}, {\"n_coders\": 3}, {\"n_coders\": 4}, {\"n_coders\": 4}, {\"n_coders\": 3}, {\"n_coders\": 5}, {\"n_coders\": 4}, {\"n_coders\": 4}, {\"n_coders\": 4}, {\"n_coders\": 2}, {\"n_coders\": 5}, {\"n_coders\": 4}, {\"n_coders\": 4}, {\"n_coders\": 4}, {\"n_coders\": 4}, {\"n_coders\": 5}, {\"n_coders\": 5}, {\"n_coders\": 5}, {\"n_coders\": 4}, {\"n_coders\": 5}, {\"n_coders\": 5}, {\"n_coders\": 5}, {\"n_coders\": 4}, {\"n_coders\": 5}, {\"n_coders\": 5}, {\"n_coders\": 5}, {\"n_coders\": 5}, {\"n_coders\": 4}, {\"n_coders\": 4}, {\"n_coders\": 4}, {\"n_coders\": 4}, {\"n_coders\": 5}, {\"n_coders\": 4}, {\"n_coders\": 5}, {\"n_coders\": 5}, {\"n_coders\": 5}, {\"n_coders\": 3}, {\"n_coders\": 4}, {\"n_coders\": 5}, {\"n_coders\": 5}, {\"n_coders\": 5}, {\"n_coders\": 5}, {\"n_coders\": 4}, {\"n_coders\": 5}, {\"n_coders\": 4}, {\"n_coders\": 4}, {\"n_coders\": 4}, {\"n_coders\": 4}, {\"n_coders\": 3}, {\"n_coders\": 3}, {\"n_coders\": 5}, {\"n_coders\": 5}, {\"n_coders\": 4}, {\"n_coders\": 4}, {\"n_coders\": 5}, {\"n_coders\": 4}, {\"n_coders\": 5}, {\"n_coders\": 5}, {\"n_coders\": 5}, {\"n_coders\": 4}, {\"n_coders\": 4}, {\"n_coders\": 3}, {\"n_coders\": 4}, {\"n_coders\": 4}, {\"n_coders\": 3}, {\"n_coders\": 3}, {\"n_coders\": 5}, {\"n_coders\": 4}, {\"n_coders\": 5}, {\"n_coders\": 4}, {\"n_coders\": 3}, {\"n_coders\": 4}, {\"n_coders\": 5}, {\"n_coders\": 5}, {\"n_coders\": 4}, {\"n_coders\": 3}, {\"n_coders\": 5}, {\"n_coders\": 4}, {\"n_coders\": 5}, {\"n_coders\": 4}, {\"n_coders\": 5}, {\"n_coders\": 4}, {\"n_coders\": 4}, {\"n_coders\": 4}, {\"n_coders\": 3}, {\"n_coders\": 4}, {\"n_coders\": 5}, {\"n_coders\": 5}, {\"n_coders\": 3}, {\"n_coders\": 3}, {\"n_coders\": 5}, {\"n_coders\": 4}, {\"n_coders\": 4}, {\"n_coders\": 5}, {\"n_coders\": 5}, {\"n_coders\": 5}, {\"n_coders\": 4}, {\"n_coders\": 4}, {\"n_coders\": 4}, {\"n_coders\": 4}, {\"n_coders\": 3}, {\"n_coders\": 4}, {\"n_coders\": 2}, {\"n_coders\": 5}, {\"n_coders\": 2}, {\"n_coders\": 4}, {\"n_coders\": 3}, {\"n_coders\": 5}, {\"n_coders\": 4}, {\"n_coders\": 4}, {\"n_coders\": 3}, {\"n_coders\": 3}, {\"n_coders\": 4}, {\"n_coders\": 5}, {\"n_coders\": 4}, {\"n_coders\": 4}, {\"n_coders\": 4}, {\"n_coders\": 4}, {\"n_coders\": 3}, {\"n_coders\": 4}, {\"n_coders\": 4}, {\"n_coders\": 5}, {\"n_coders\": 4}, {\"n_coders\": 4}, {\"n_coders\": 5}, {\"n_coders\": 4}, {\"n_coders\": 4}, {\"n_coders\": 5}, {\"n_coders\": 4}, {\"n_coders\": 3}, {\"n_coders\": 4}, {\"n_coders\": 3}, {\"n_coders\": 5}, {\"n_coders\": 2}, {\"n_coders\": 4}, {\"n_coders\": 3}, {\"n_coders\": 5}, {\"n_coders\": 5}, {\"n_coders\": 4}, {\"n_coders\": 5}, {\"n_coders\": 4}, {\"n_coders\": 3}, {\"n_coders\": 4}, {\"n_coders\": 2}, {\"n_coders\": 5}, {\"n_coders\": 4}, {\"n_coders\": 5}, {\"n_coders\": 2}, {\"n_coders\": 5}, {\"n_coders\": 4}, {\"n_coders\": 5}, {\"n_coders\": 4}, {\"n_coders\": 4}, {\"n_coders\": 4}, {\"n_coders\": 4}, {\"n_coders\": 5}, {\"n_coders\": 3}, {\"n_coders\": 3}, {\"n_coders\": 4}, {\"n_coders\": 4}, {\"n_coders\": 5}, {\"n_coders\": 4}, {\"n_coders\": 5}, {\"n_coders\": 4}, {\"n_coders\": 5}, {\"n_coders\": 3}, {\"n_coders\": 3}, {\"n_coders\": 5}, {\"n_coders\": 4}, {\"n_coders\": 4}, {\"n_coders\": 3}, {\"n_coders\": 4}, {\"n_coders\": 5}, {\"n_coders\": 5}, {\"n_coders\": 4}, {\"n_coders\": 5}, {\"n_coders\": 4}, {\"n_coders\": 2}, {\"n_coders\": 3}, {\"n_coders\": 4}, {\"n_coders\": 4}, {\"n_coders\": 4}, {\"n_coders\": 3}, {\"n_coders\": 3}, {\"n_coders\": 4}, {\"n_coders\": 4}, {\"n_coders\": 3}, {\"n_coders\": 4}, {\"n_coders\": 5}, {\"n_coders\": 5}, {\"n_coders\": 3}, {\"n_coders\": 2}, {\"n_coders\": 5}, {\"n_coders\": 4}, {\"n_coders\": 5}, {\"n_coders\": 5}, {\"n_coders\": 4}, {\"n_coders\": 5}, {\"n_coders\": 4}, {\"n_coders\": 3}, {\"n_coders\": 5}, {\"n_coders\": 4}, {\"n_coders\": 4}, {\"n_coders\": 5}, {\"n_coders\": 3}, {\"n_coders\": 5}, {\"n_coders\": 5}, {\"n_coders\": 4}, {\"n_coders\": 5}, {\"n_coders\": 5}, {\"n_coders\": 5}, {\"n_coders\": 3}, {\"n_coders\": 5}, {\"n_coders\": 5}, {\"n_coders\": 4}, {\"n_coders\": 4}, {\"n_coders\": 4}, {\"n_coders\": 4}, {\"n_coders\": 5}, {\"n_coders\": 4}, {\"n_coders\": 4}, {\"n_coders\": 3}, {\"n_coders\": 5}, {\"n_coders\": 4}, {\"n_coders\": 3}, {\"n_coders\": 5}, {\"n_coders\": 4}, {\"n_coders\": 5}, {\"n_coders\": 4}, {\"n_coders\": 4}, {\"n_coders\": 4}, {\"n_coders\": 5}, {\"n_coders\": 4}, {\"n_coders\": 3}, {\"n_coders\": 5}, {\"n_coders\": 4}, {\"n_coders\": 5}, {\"n_coders\": 4}, {\"n_coders\": 4}, {\"n_coders\": 2}, {\"n_coders\": 4}, {\"n_coders\": 3}, {\"n_coders\": 4}, {\"n_coders\": 4}, {\"n_coders\": 4}, {\"n_coders\": 4}, {\"n_coders\": 3}, {\"n_coders\": 4}, {\"n_coders\": 4}, {\"n_coders\": 3}, {\"n_coders\": 4}, {\"n_coders\": 4}, {\"n_coders\": 4}, {\"n_coders\": 4}, {\"n_coders\": 4}, {\"n_coders\": 4}, {\"n_coders\": 5}, {\"n_coders\": 4}, {\"n_coders\": 3}, {\"n_coders\": 3}, {\"n_coders\": 4}, {\"n_coders\": 3}, {\"n_coders\": 5}, {\"n_coders\": 3}, {\"n_coders\": 5}, {\"n_coders\": 4}, {\"n_coders\": 3}, {\"n_coders\": 3}, {\"n_coders\": 2}, {\"n_coders\": 3}, {\"n_coders\": 4}, {\"n_coders\": 4}, {\"n_coders\": 3}, {\"n_coders\": 5}, {\"n_coders\": 4}, {\"n_coders\": 4}, {\"n_coders\": 3}, {\"n_coders\": 2}, {\"n_coders\": 4}, {\"n_coders\": 4}, {\"n_coders\": 2}, {\"n_coders\": 5}, {\"n_coders\": 3}, {\"n_coders\": 5}, {\"n_coders\": 3}, {\"n_coders\": 2}, {\"n_coders\": 3}, {\"n_coders\": 3}, {\"n_coders\": 3}, {\"n_coders\": 4}, {\"n_coders\": 4}, {\"n_coders\": 4}, {\"n_coders\": 4}, {\"n_coders\": 1}, {\"n_coders\": 4}, {\"n_coders\": 5}, {\"n_coders\": 3}, {\"n_coders\": 5}, {\"n_coders\": 3}, {\"n_coders\": 3}, {\"n_coders\": 3}, {\"n_coders\": 3}, {\"n_coders\": 3}, {\"n_coders\": 5}, {\"n_coders\": 4}, {\"n_coders\": 4}, {\"n_coders\": 4}, {\"n_coders\": 3}, {\"n_coders\": 2}, {\"n_coders\": 2}, {\"n_coders\": 2}, {\"n_coders\": 3}, {\"n_coders\": 3}, {\"n_coders\": 3}, {\"n_coders\": 3}, {\"n_coders\": 3}, {\"n_coders\": 1}, {\"n_coders\": 3}, {\"n_coders\": 5}, {\"n_coders\": 3}, {\"n_coders\": 5}, {\"n_coders\": 3}, {\"n_coders\": 3}, {\"n_coders\": 2}, {\"n_coders\": 5}, {\"n_coders\": 4}, {\"n_coders\": 3}, {\"n_coders\": 2}, {\"n_coders\": 4}, {\"n_coders\": 2}, {\"n_coders\": 3}, {\"n_coders\": 2}, {\"n_coders\": 4}, {\"n_coders\": 4}, {\"n_coders\": 5}, {\"n_coders\": 2}, {\"n_coders\": 4}, {\"n_coders\": 2}, {\"n_coders\": 3}, {\"n_coders\": 4}, {\"n_coders\": 4}, {\"n_coders\": 4}, {\"n_coders\": 2}, {\"n_coders\": 4}, {\"n_coders\": 3}, {\"n_coders\": 3}, {\"n_coders\": 2}, {\"n_coders\": 4}, {\"n_coders\": 3}, {\"n_coders\": 3}, {\"n_coders\": 3}, {\"n_coders\": 2}, {\"n_coders\": 5}, {\"n_coders\": 4}, {\"n_coders\": 2}, {\"n_coders\": 4}, {\"n_coders\": 3}, {\"n_coders\": 4}, {\"n_coders\": 4}, {\"n_coders\": 4}, {\"n_coders\": 4}, {\"n_coders\": 4}, {\"n_coders\": 5}, {\"n_coders\": 2}, {\"n_coders\": 4}, {\"n_coders\": 2}, {\"n_coders\": 4}, {\"n_coders\": 3}, {\"n_coders\": 5}, {\"n_coders\": 3}, {\"n_coders\": 3}, {\"n_coders\": 2}, {\"n_coders\": 3}, {\"n_coders\": 5}, {\"n_coders\": 2}, {\"n_coders\": 4}, {\"n_coders\": 4}, {\"n_coders\": 4}, {\"n_coders\": 4}, {\"n_coders\": 4}, {\"n_coders\": 4}, {\"n_coders\": 4}, {\"n_coders\": 3}, {\"n_coders\": 4}, {\"n_coders\": 4}, {\"n_coders\": 4}, {\"n_coders\": 4}, {\"n_coders\": 3}, {\"n_coders\": 4}, {\"n_coders\": 1}, {\"n_coders\": 2}, {\"n_coders\": 2}, {\"n_coders\": 3}, {\"n_coders\": 3}, {\"n_coders\": 3}, {\"n_coders\": 2}, {\"n_coders\": 4}, {\"n_coders\": 2}, {\"n_coders\": 3}, {\"n_coders\": 3}, {\"n_coders\": 4}, {\"n_coders\": 3}, {\"n_coders\": 3}, {\"n_coders\": 2}, {\"n_coders\": 3}, {\"n_coders\": 3}, {\"n_coders\": 3}, {\"n_coders\": 4}, {\"n_coders\": 3}, {\"n_coders\": 4}, {\"n_coders\": 4}, {\"n_coders\": 4}, {\"n_coders\": 3}, {\"n_coders\": 4}, {\"n_coders\": 2}, {\"n_coders\": 4}, {\"n_coders\": 3}, {\"n_coders\": 3}, {\"n_coders\": 3}, {\"n_coders\": 4}, {\"n_coders\": 2}, {\"n_coders\": 3}, {\"n_coders\": 4}, {\"n_coders\": 3}, {\"n_coders\": 4}, {\"n_coders\": 2}, {\"n_coders\": 3}, {\"n_coders\": 3}, {\"n_coders\": 4}, {\"n_coders\": 3}, {\"n_coders\": 4}, {\"n_coders\": 3}, {\"n_coders\": 4}, {\"n_coders\": 3}, {\"n_coders\": 3}, {\"n_coders\": 3}, {\"n_coders\": 4}, {\"n_coders\": 4}, {\"n_coders\": 4}, {\"n_coders\": 3}, {\"n_coders\": 4}, {\"n_coders\": 4}, {\"n_coders\": 3}, {\"n_coders\": 4}, {\"n_coders\": 3}, {\"n_coders\": 4}, {\"n_coders\": 3}, {\"n_coders\": 4}, {\"n_coders\": 4}, {\"n_coders\": 4}, {\"n_coders\": 3}, {\"n_coders\": 4}, {\"n_coders\": 3}, {\"n_coders\": 3}, {\"n_coders\": 3}, {\"n_coders\": 3}, {\"n_coders\": 4}, {\"n_coders\": 3}, {\"n_coders\": 3}, {\"n_coders\": 4}, {\"n_coders\": 2}, {\"n_coders\": 4}, {\"n_coders\": 4}, {\"n_coders\": 3}, {\"n_coders\": 3}, {\"n_coders\": 3}, {\"n_coders\": 3}, {\"n_coders\": 4}, {\"n_coders\": 3}, {\"n_coders\": 3}, {\"n_coders\": 4}, {\"n_coders\": 3}, {\"n_coders\": 4}, {\"n_coders\": 2}, {\"n_coders\": 3}, {\"n_coders\": 4}, {\"n_coders\": 3}, {\"n_coders\": 4}, {\"n_coders\": 4}, {\"n_coders\": 4}, {\"n_coders\": 2}, {\"n_coders\": 3}, {\"n_coders\": 3}, {\"n_coders\": 1}, {\"n_coders\": 2}, {\"n_coders\": 2}, {\"n_coders\": 3}, {\"n_coders\": 1}, {\"n_coders\": 3}, {\"n_coders\": 3}, {\"n_coders\": 2}, {\"n_coders\": 3}, {\"n_coders\": 2}, {\"n_coders\": 2}, {\"n_coders\": 2}, {\"n_coders\": 3}, {\"n_coders\": 2}, {\"n_coders\": 3}, {\"n_coders\": 3}, {\"n_coders\": 2}, {\"n_coders\": 2}, {\"n_coders\": 3}, {\"n_coders\": 2}, {\"n_coders\": 4}, {\"n_coders\": 4}, {\"n_coders\": 4}, {\"n_coders\": 4}, {\"n_coders\": 3}, {\"n_coders\": 4}, {\"n_coders\": 4}, {\"n_coders\": 3}, {\"n_coders\": 3}, {\"n_coders\": 2}, {\"n_coders\": 3}, {\"n_coders\": 3}, {\"n_coders\": 4}, {\"n_coders\": 3}, {\"n_coders\": 4}, {\"n_coders\": 3}, {\"n_coders\": 3}, {\"n_coders\": 3}, {\"n_coders\": 3}, {\"n_coders\": 3}, {\"n_coders\": 2}, {\"n_coders\": 3}, {\"n_coders\": 2}, {\"n_coders\": 3}, {\"n_coders\": 2}, {\"n_coders\": 3}, {\"n_coders\": 3}, {\"n_coders\": 2}, {\"n_coders\": 3}, {\"n_coders\": 2}, {\"n_coders\": 3}, {\"n_coders\": 2}, {\"n_coders\": 2}, {\"n_coders\": 3}, {\"n_coders\": 3}, {\"n_coders\": 2}, {\"n_coders\": 1}, {\"n_coders\": 3}, {\"n_coders\": 3}, {\"n_coders\": 2}, {\"n_coders\": 3}, {\"n_coders\": 3}, {\"n_coders\": 2}, {\"n_coders\": 1}, {\"n_coders\": 2}, {\"n_coders\": 2}, {\"n_coders\": 3}, {\"n_coders\": 3}, {\"n_coders\": 1}, {\"n_coders\": 2}, {\"n_coders\": 2}, {\"n_coders\": 2}, {\"n_coders\": 2}, {\"n_coders\": 3}, {\"n_coders\": 3}, {\"n_coders\": 2}, {\"n_coders\": 3}, {\"n_coders\": 3}, {\"n_coders\": 2}, {\"n_coders\": 1}, {\"n_coders\": 3}, {\"n_coders\": 1}, {\"n_coders\": 3}, {\"n_coders\": 2}, {\"n_coders\": 2}, {\"n_coders\": 3}, {\"n_coders\": 3}, {\"n_coders\": 2}, {\"n_coders\": 2}, {\"n_coders\": 2}, {\"n_coders\": 2}, {\"n_coders\": 2}, {\"n_coders\": 1}, {\"n_coders\": 2}, {\"n_coders\": 1}, {\"n_coders\": 2}, {\"n_coders\": 2}, {\"n_coders\": 1}, {\"n_coders\": 2}, {\"n_coders\": 2}, {\"n_coders\": 2}, {\"n_coders\": 2}, {\"n_coders\": 1}, {\"n_coders\": 1}]}}, {\"mode\": \"vega-lite\"});\n",
       "</script>"
      ],
      "text/plain": [
       "alt.Chart(...)"
      ]
     },
     "execution_count": null,
     "metadata": {},
     "output_type": "execute_result"
    }
   ],
   "source": [
    "%%capture --no-display\n",
    "\n",
    "alt.Chart(df).mark_bar().encode(alt.X(\"n_coders:O\"), alt.Y(\"count(*):Q\")).properties(\n",
    "    width=800, height=400, title=\"Number of coders per Sample\"\n",
    ")"
   ]
  },
  {
   "cell_type": "code",
   "execution_count": null,
   "metadata": {},
   "outputs": [
    {
     "name": "stdout",
     "output_type": "stream",
     "text": [
      "Über 60 Prozent der deutschen Waffenexporte gehen mittlerweile an Länder außerhalb der NATO, obwohl in diesen Politischen Grundsätzen steht, dass das die riesengroße Ausnahme sein soll.\n",
      "------\n",
      "Über 60 Prozent!\n",
      "------\n",
      "Das haben Sie von der CDU verbrochen.\n",
      "\n",
      "Counter({'Eliten sind schuld': 2, 'none': 1})\n"
     ]
    }
   ],
   "source": [
    "# example case id = 2936\n",
    "\n",
    "row = session.query(m.ExamplesExample).filter(m.ExamplesExample.id == 2936).one()\n",
    "\n",
    "sample = Sample(row, nlp)\n",
    "\n",
    "print(\"\\n------\\n\".join(sample.sents))\n",
    "print()\n",
    "print(sample.label_counts)"
   ]
  },
  {
   "attachments": {},
   "cell_type": "markdown",
   "metadata": {},
   "source": [
    "# 2. Modeling\n",
    "\n",
    "## Problem 4: Whether or not to use multilabel-classification?\n",
    "\n",
    "There exist dimensions (and therefore phrases) that can be classified into left-wing (_links_) or right-wing (_rechts_) populism.\n",
    "\n",
    "But there also exist dimensions that can belong to either or none of the two dimensions (_neutral_).\n",
    "\n",
    "Our idea was to use multilabel-classification to distinguish between cases that are:\n",
    "\n",
    "- neutral (either) + left\n",
    "- neutral (either) + right\n",
    "- neutral but neither right nor left\n",
    "\n",
    "---\n",
    "\n",
    "## Problem 5: Class imbalance\n",
    "\n",
    "- We have extremely imbalanced data\n",
    "- **Question: Are there (dis-)advantages in *down-sampling* vs. *down-weighting* the majority class (none)?**\n",
    "\n",
    "\n",
    "--> maybe show example code..."
   ]
  },
  {
   "cell_type": "code",
   "execution_count": null,
   "metadata": {},
   "outputs": [
    {
     "data": {
      "text/plain": [
       "[(frozenset({'none'}), 1395),\n",
       " (frozenset({'neutral'}), 84),\n",
       " (frozenset({'nicht zutr'}), 35),\n",
       " (frozenset({'links'}), 15),\n",
       " (frozenset({'links', 'neutral'}), 4),\n",
       " (frozenset({'neutral', 'rechts'}), 2)]"
      ]
     },
     "execution_count": null,
     "metadata": {},
     "output_type": "execute_result"
    }
   ],
   "source": [
    "# if at least two coders have to agree\n",
    "Counter(frozenset(s.labels) for s in samples).most_common()"
   ]
  },
  {
   "cell_type": "code",
   "execution_count": null,
   "metadata": {},
   "outputs": [
    {
     "data": {
      "text/plain": [
       "[(frozenset({'none'}), 1169),\n",
       " (frozenset({'neutral', 'none'}), 150),\n",
       " (frozenset({'nicht zutr', 'none'}), 117),\n",
       " (frozenset({'links', 'none'}), 54),\n",
       " (frozenset({'neutral'}), 15),\n",
       " (frozenset({'links', 'neutral', 'none'}), 12),\n",
       " (frozenset({'none', 'rechts'}), 5),\n",
       " (frozenset({'neutral', 'none', 'rechts'}), 4),\n",
       " (frozenset({'links', 'neutral'}), 2),\n",
       " (frozenset({'neutral', 'rechts'}), 2),\n",
       " (frozenset({'neutral', 'nicht zutr', 'none'}), 1),\n",
       " (frozenset({'links', 'none', 'rechts'}), 1),\n",
       " (frozenset({'links', 'nicht zutr', 'none'}), 1),\n",
       " (frozenset({'links'}), 1),\n",
       " (frozenset({'links', 'neutral', 'none', 'rechts'}), 1)]"
      ]
     },
     "execution_count": null,
     "metadata": {},
     "output_type": "execute_result"
    }
   ],
   "source": [
    "# raw labels\n",
    "Counter(frozenset(s.label_counts.keys()) for s in samples).most_common()"
   ]
  },
  {
   "cell_type": "code",
   "execution_count": null,
   "metadata": {},
   "outputs": [
    {
     "data": {
      "text/plain": [
       "[('none', 1515),\n",
       " ('NICHT ZUTREFFEND', 119),\n",
       " ('Eliten sind korrumpiert', 114),\n",
       " ('Eliten sind schuld', 94),\n",
       " ('Inklusion von Randgruppen', 43),\n",
       " ('Ökonomische Eliten sind korrumpiert / schuld', 26),\n",
       " ('Eliten repräsentieren nicht das Volk', 15),\n",
       " ('Sprecher repräsentiert Volk', 9),\n",
       " ('Exklusion von Randgruppen', 8),\n",
       " ('Volk ist tugendhaft', 8),\n",
       " ('Nicht-Einheimische sind korrumpiert / schuld', 4),\n",
       " ('Volk als Verursacher einer positiven Entwicklung', 4),\n",
       " ('Volk als homogene Masse', 3),\n",
       " ('Mehr Macht für Volk', 3),\n",
       " ('Arbeiterklasse ist tugendhaft / Verursacher für positive Entwicklung', 3),\n",
       " ('Einheimisches Volk ist tugendhaft / Verursacher für positive Entwicklung',\n",
       "  2),\n",
       " ('Recht und Ordnung', 1),\n",
       " ('Weniger Macht für Eliten', 1)]"
      ]
     },
     "execution_count": null,
     "metadata": {},
     "output_type": "execute_result"
    }
   ],
   "source": [
    "samples = []\n",
    "for row in q:\n",
    "    sample = Sample(row, nlp)\n",
    "    samples.append(sample)\n",
    "\n",
    "Counter(label for sample in samples for label in sample.label_counts).most_common()"
   ]
  },
  {
   "cell_type": "code",
   "execution_count": null,
   "metadata": {},
   "outputs": [],
   "source": []
  },
  {
   "cell_type": "code",
   "execution_count": null,
   "metadata": {},
   "outputs": [],
   "source": []
  },
  {
   "cell_type": "code",
   "execution_count": null,
   "metadata": {},
   "outputs": [],
   "source": []
  },
  {
   "cell_type": "code",
   "execution_count": null,
   "metadata": {},
   "outputs": [],
   "source": []
  },
  {
   "attachments": {},
   "cell_type": "markdown",
   "metadata": {},
   "source": [
    "# Ignore for now: Current state of coding\n"
   ]
  },
  {
   "cell_type": "code",
   "execution_count": null,
   "metadata": {},
   "outputs": [
    {
     "name": "stdout",
     "output_type": "stream",
     "text": [
      "          n_labels\n",
      "count  1535.000000\n",
      "mean      1.241694\n",
      "std       0.460522\n",
      "min       1.000000\n",
      "25%       1.000000\n",
      "50%       1.000000\n",
      "75%       1.000000\n",
      "max       4.000000\n"
     ]
    }
   ],
   "source": [
    "rows = [\n",
    "    (s.labels, len(s.label_counts.keys()))\n",
    "    for s in samples\n",
    "    if \"NICHT ZUTREFFEND\" not in s.label_counts\n",
    "]\n",
    "df = pd.DataFrame(rows, columns=[\"labels\", \"n_labels\"])\n",
    "\n",
    "print(df.describe())"
   ]
  },
  {
   "attachments": {},
   "cell_type": "markdown",
   "metadata": {},
   "source": [
    "### Agreement\n"
   ]
  },
  {
   "cell_type": "code",
   "execution_count": null,
   "metadata": {},
   "outputs": [],
   "source": [
    "rows = []\n",
    "for s in samples:\n",
    "    for coder in s.user_labels:\n",
    "        labels = s.user_labels[coder]\n",
    "        if \"NICHT ZUTREFFEND\" not in labels not in labels:\n",
    "            row = (coder, s.example.id, frozenset(labels))\n",
    "            rows.append(row)\n",
    "\n",
    "df = pd.DataFrame(rows, columns=[\"coder\", \"example\", \"labels\"])\n",
    "\n",
    "\n",
    "def krippendorff_alpha(df):\n",
    "    task = AnnotationTask(distance=jaccard_distance)\n",
    "    task.load_array(zip(df.coder, df.example, df.labels))\n",
    "    return task.alpha()"
   ]
  },
  {
   "cell_type": "code",
   "execution_count": null,
   "metadata": {},
   "outputs": [
    {
     "name": "stdout",
     "output_type": "stream",
     "text": [
      "Full DF remains: 16.12% (969 of 247 samples)\n"
     ]
    },
    {
     "data": {
      "text/html": [
       "<div>\n",
       "<style scoped>\n",
       "    .dataframe tbody tr th:only-of-type {\n",
       "        vertical-align: middle;\n",
       "    }\n",
       "\n",
       "    .dataframe tbody tr th {\n",
       "        vertical-align: top;\n",
       "    }\n",
       "\n",
       "    .dataframe thead th {\n",
       "        text-align: right;\n",
       "    }\n",
       "</style>\n",
       "<table border=\"1\" class=\"dataframe\">\n",
       "  <thead>\n",
       "    <tr style=\"text-align: right;\">\n",
       "      <th></th>\n",
       "      <th>type</th>\n",
       "      <th>alpha</th>\n",
       "    </tr>\n",
       "  </thead>\n",
       "  <tbody>\n",
       "    <tr>\n",
       "      <th>0</th>\n",
       "      <td>labels</td>\n",
       "      <td>0.305255</td>\n",
       "    </tr>\n",
       "    <tr>\n",
       "      <th>1</th>\n",
       "      <td>all_labels_no_none</td>\n",
       "      <td>0.064678</td>\n",
       "    </tr>\n",
       "  </tbody>\n",
       "</table>\n",
       "</div>"
      ],
      "text/plain": [
       "                 type     alpha\n",
       "0              labels  0.305255\n",
       "1  all_labels_no_none  0.064678"
      ]
     },
     "execution_count": null,
     "metadata": {},
     "output_type": "execute_result"
    }
   ],
   "source": [
    "def remove_none_disagreement(d):\n",
    "    labels = set(lab for coder in d.labels for lab in coder)\n",
    "    if \"nicht zutr\" in labels:\n",
    "        return False\n",
    "    if labels == frozenset([\"none\"]):\n",
    "        return False\n",
    "    return True\n",
    "\n",
    "\n",
    "results = pd.DataFrame()\n",
    "\n",
    "rows = []\n",
    "rows.append((\"labels\", krippendorff_alpha(df)))\n",
    "\n",
    "df_no_none = df.groupby(\"example\").filter(remove_none_disagreement)\n",
    "\n",
    "rows.append((\"all_labels_no_none\", krippendorff_alpha(df_no_none)))\n",
    "\n",
    "print(\n",
    "    f\"Full DF remains: {len(df_no_none) / len(df):.2%} ({len(df_no_none)} of \"\n",
    "    f\"{df_no_none.example.nunique()} samples)\"\n",
    ")\n",
    "\n",
    "pd.DataFrame(rows, columns=[\"type\", \"alpha\"])"
   ]
  },
  {
   "attachments": {},
   "cell_type": "markdown",
   "metadata": {},
   "source": [
    "# Something is wrong with our data...."
   ]
  },
  {
   "cell_type": "code",
   "execution_count": null,
   "metadata": {},
   "outputs": [],
   "source": [
    "df = pd.read_feather(src.PATH / \"data/PBert_AnnoTask5_CoreSentences.arrow\")"
   ]
  },
  {
   "cell_type": "markdown",
   "metadata": {},
   "source": [
    "\n",
    "\n",
    "- Example \"speech\": 819866\n",
    "\n",
    "- This is the only sentence of the \"speech\"...\n"
   ]
  },
  {
   "cell_type": "code",
   "execution_count": null,
   "metadata": {},
   "outputs": [
    {
     "data": {
      "text/html": [
       "<div>\n",
       "<style scoped>\n",
       "    .dataframe tbody tr th:only-of-type {\n",
       "        vertical-align: middle;\n",
       "    }\n",
       "\n",
       "    .dataframe tbody tr th {\n",
       "        vertical-align: top;\n",
       "    }\n",
       "\n",
       "    .dataframe thead th {\n",
       "        text-align: right;\n",
       "    }\n",
       "</style>\n",
       "<table border=\"1\" class=\"dataframe\">\n",
       "  <thead>\n",
       "    <tr style=\"text-align: right;\">\n",
       "      <th></th>\n",
       "      <th>faction_id</th>\n",
       "      <th>speeches_id</th>\n",
       "      <th>sentence_no</th>\n",
       "      <th>sentence</th>\n",
       "      <th>electoral_term</th>\n",
       "      <th>abbreviation</th>\n",
       "      <th>full_name</th>\n",
       "      <th>pop_dict_score</th>\n",
       "    </tr>\n",
       "  </thead>\n",
       "  <tbody>\n",
       "    <tr>\n",
       "      <th>41</th>\n",
       "      <td>-1.0</td>\n",
       "      <td>819866.0</td>\n",
       "      <td>1</td>\n",
       "      <td>Frau Zypries .</td>\n",
       "      <td>18.0</td>\n",
       "      <td>not found</td>\n",
       "      <td>not found</td>\n",
       "      <td>1.0</td>\n",
       "    </tr>\n",
       "  </tbody>\n",
       "</table>\n",
       "</div>"
      ],
      "text/plain": [
       "    faction_id  speeches_id  sentence_no        sentence  electoral_term  \\\n",
       "41        -1.0     819866.0            1  Frau Zypries .            18.0   \n",
       "\n",
       "   abbreviation  full_name  pop_dict_score  \n",
       "41    not found  not found             1.0  "
      ]
     },
     "execution_count": null,
     "metadata": {},
     "output_type": "execute_result"
    }
   ],
   "source": [
    "df.loc[df.speeches_id == 819866, :]"
   ]
  }
 ],
 "metadata": {
  "kernelspec": {
   "display_name": "bert_populism",
   "language": "python",
   "name": "python3"
  },
  "language_info": {
   "codemirror_mode": {
    "name": "ipython",
    "version": 3
   },
   "file_extension": ".py",
   "mimetype": "text/x-python",
   "name": "python",
   "nbconvert_exporter": "python",
   "pygments_lexer": "ipython3",
   "version": "3.10.8"
  },
  "vscode": {
   "interpreter": {
    "hash": "05b0f58c2bcdc36936de25f1aaac0724cceaad7ddc88039a552f8d696c8fb19b"
   }
  }
 },
 "nbformat": 4,
 "nbformat_minor": 2
}
