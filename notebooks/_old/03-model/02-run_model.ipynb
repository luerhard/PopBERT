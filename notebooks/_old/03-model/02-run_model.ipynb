{
 "cells": [
  {
   "cell_type": "code",
   "execution_count": null,
   "metadata": {},
   "outputs": [],
   "source": [
    "import logging\n",
    "import random\n",
    "from collections import Counter\n",
    "\n",
    "import numpy as np\n",
    "import pandas as pd\n",
    "import spacy\n",
    "from simpletransformers.classification import MultiLabelClassificationArgs\n",
    "from simpletransformers.classification import MultiLabelClassificationModel\n",
    "from sklearn.model_selection import train_test_split\n",
    "from sklearn.preprocessing import MultiLabelBinarizer\n",
    "from sqlalchemy.orm import Session\n",
    "from sqlalchemy.orm import joinedload\n",
    "from tqdm.auto import tqdm\n",
    "\n",
    "import src\n",
    "import src.db.models.doccano as m\n",
    "from src.coding.labels import LABELS\n",
    "from src.db.connect import make_engine\n",
    "from src.db.sample import Sample"
   ]
  },
  {
   "cell_type": "code",
   "execution_count": null,
   "metadata": {},
   "outputs": [],
   "source": [
    "# setup\n",
    "project = \"PBert AnnoTask 5\"\n",
    "\n",
    "engine = make_engine(\"DOCCANO\")\n",
    "\n",
    "session = Session(engine)\n",
    "\n",
    "pd.set_option(\"display.max_colwidth\", 1024)\n",
    "pd.set_option(\"display.max_rows\", 512)\n",
    "\n",
    "SEED = 109\n",
    "random.seed(SEED)\n",
    "\n",
    "logging.basicConfig(level=logging.ERROR)\n",
    "transformers_logger = logging.getLogger(\"transformers\")\n",
    "transformers_logger.setLevel(logging.WARNING)\n",
    "\n",
    "MODEL_PATH = src.PATH / \"tmp/model_dir\"\n",
    "MODEL_PATH.mkdir(exist_ok=True, parents=True)\n",
    "\n",
    "CACHE_DIR = src.PATH / \"tmp/cache_dir\"\n",
    "CACHE_DIR.mkdir(exist_ok=True)\n",
    "\n",
    "TENSORBOARD_DIR = src.PATH / \"tmp/tensorboard\"\n",
    "TENSORBOARD_DIR.mkdir(exist_ok=True)"
   ]
  },
  {
   "cell_type": "code",
   "execution_count": null,
   "metadata": {},
   "outputs": [
    {
     "data": {
      "text/plain": [
       "['tagger', 'morphologizer', 'lemmatizer', 'attribute_ruler', 'ner']"
      ]
     },
     "execution_count": null,
     "metadata": {},
     "output_type": "execute_result"
    }
   ],
   "source": [
    "# prepare sentence tokenizer\n",
    "\n",
    "nlp = spacy.load(\"de_core_news_md\")\n",
    "nlp.disable_pipes([\"tagger\", \"morphologizer\", \"lemmatizer\", \"attribute_ruler\", \"ner\"])"
   ]
  },
  {
   "cell_type": "code",
   "execution_count": null,
   "metadata": {},
   "outputs": [],
   "source": [
    "q = (\n",
    "    session.query(m.ExamplesExample)\n",
    "    .options(joinedload(m.ExamplesExample.labels), joinedload(m.ExamplesExample.state))\n",
    "    .join(m.ExamplesExample.project)\n",
    "    .filter(\n",
    "        m.ProjectsProject.name == project,\n",
    "        # uncomment to only collect samples confirmed by at least one person\n",
    "        m.ExamplesExample.state.any(),\n",
    "    )\n",
    ")\n",
    "\n",
    "label_dict = {label: LABELS[label][\"lr\"] for label in LABELS.keys()}\n",
    "samples = []\n",
    "for row in q:\n",
    "    sample = Sample(row, nlp, label_dict)\n",
    "    samples.append(sample)"
   ]
  },
  {
   "cell_type": "code",
   "execution_count": null,
   "metadata": {},
   "outputs": [
    {
     "data": {
      "application/vnd.jupyter.widget-view+json": {
       "model_id": "46f28939055a4540ab140b5d96f8074b",
       "version_major": 2,
       "version_minor": 0
      },
      "text/plain": [
       "  0%|          | 0/1473 [00:00<?, ?it/s]"
      ]
     },
     "metadata": {},
     "output_type": "display_data"
    }
   ],
   "source": [
    "rows = []\n",
    "\n",
    "for s in tqdm(samples):\n",
    "    if \"nicht zutr\" in s.labels:\n",
    "        continue\n",
    "\n",
    "    # if \"none\" in s.labels and random.random() < 0.6:\n",
    "    #    continue\n",
    "\n",
    "    if s.labels == [\"none\"]:\n",
    "        labels = []\n",
    "    else:\n",
    "        labels = s.labels\n",
    "\n",
    "    rows.append((s.txt, labels))\n",
    "\n",
    "\n",
    "df = pd.DataFrame(rows, columns=[\"text\", \"labels\"])\n",
    "\n",
    "mlb = MultiLabelBinarizer()\n",
    "labels = mlb.fit_transform(df[\"labels\"])\n",
    "num_labels = len(mlb.classes_)\n",
    "\n",
    "df = pd.DataFrame(zip(df.text, labels), columns=[\"text\", \"labels\"])\n",
    "\n",
    "train, test = train_test_split(df, random_state=SEED, test_size=0.4, shuffle=True)"
   ]
  },
  {
   "cell_type": "code",
   "execution_count": null,
   "metadata": {},
   "outputs": [
    {
     "data": {
      "text/plain": [
       "((876, 2), (585, 2))"
      ]
     },
     "execution_count": null,
     "metadata": {},
     "output_type": "execute_result"
    }
   ],
   "source": [
    "train.shape, test.shape"
   ]
  },
  {
   "cell_type": "code",
   "execution_count": null,
   "metadata": {},
   "outputs": [
    {
     "name": "stdout",
     "output_type": "stream",
     "text": [
      "TRAIN: Counter({(): 823, ('neutral',): 39, ('links',): 13, ('neutral', 'rechts'): 1})\n",
      "TEST: Counter({(): 560, ('neutral',): 21, ('links',): 4})\n"
     ]
    }
   ],
   "source": [
    "# true values\n",
    "\n",
    "print(f\"TRAIN: {Counter(mlb.inverse_transform(np.array(train.labels.tolist())))}\")\n",
    "print(f\"TEST: {Counter(mlb.inverse_transform(np.array(test.labels.tolist())))}\")"
   ]
  },
  {
   "cell_type": "code",
   "execution_count": null,
   "metadata": {},
   "outputs": [
    {
     "data": {
      "text/plain": [
       "array(['links', 'neutral', 'rechts'], dtype=object)"
      ]
     },
     "execution_count": null,
     "metadata": {},
     "output_type": "execute_result"
    }
   ],
   "source": [
    "mlb.classes_"
   ]
  },
  {
   "cell_type": "code",
   "execution_count": null,
   "metadata": {},
   "outputs": [
    {
     "name": "stderr",
     "output_type": "stream",
     "text": [
      "Some weights of the model checkpoint at bert-base-german-cased were not used when initializing BertForMultiLabelSequenceClassification: ['cls.predictions.transform.dense.weight', 'cls.predictions.bias', 'cls.predictions.transform.dense.bias', 'cls.predictions.decoder.weight', 'cls.predictions.transform.LayerNorm.weight', 'cls.predictions.transform.LayerNorm.bias', 'cls.seq_relationship.bias', 'cls.seq_relationship.weight']\n",
      "- This IS expected if you are initializing BertForMultiLabelSequenceClassification from the checkpoint of a model trained on another task or with another architecture (e.g. initializing a BertForSequenceClassification model from a BertForPreTraining model).\n",
      "- This IS NOT expected if you are initializing BertForMultiLabelSequenceClassification from the checkpoint of a model that you expect to be exactly identical (initializing a BertForSequenceClassification model from a BertForSequenceClassification model).\n",
      "Some weights of BertForMultiLabelSequenceClassification were not initialized from the model checkpoint at bert-base-german-cased and are newly initialized: ['classifier.weight', 'classifier.bias']\n",
      "You should probably TRAIN this model on a down-stream task to be able to use it for predictions and inference.\n"
     ]
    }
   ],
   "source": [
    "model_args = MultiLabelClassificationArgs(\n",
    "    # do not change:\n",
    "    output_dir=str(MODEL_PATH),\n",
    "    cache_dir=str(CACHE_DIR),\n",
    "    tensorboard_dir=str(TENSORBOARD_DIR),\n",
    "    overwrite_output_dir=True,\n",
    "    manual_seed=SEED,\n",
    "    # hyperparameters to be optimized:\n",
    "    num_train_epochs=7,\n",
    "    train_batch_size=8,\n",
    "    learning_rate=2e-5,\n",
    "    # gradient_accumulation_steps=16,\n",
    ")\n",
    "\n",
    "\n",
    "weight_dict = {\n",
    "    \"none\": 0.01,\n",
    "    \"neutral\": 60,\n",
    "    \"links\": 80,\n",
    "    \"rechts\": 120,\n",
    "}\n",
    "\n",
    "pos_weights = [weight_dict.get(label, 1) for label in mlb.classes_]\n",
    "\n",
    "model = MultiLabelClassificationModel(\n",
    "    \"bert\",\n",
    "    \"bert-base-german-cased\",\n",
    "    num_labels=num_labels,\n",
    "    pos_weight=pos_weights,\n",
    "    args=model_args,\n",
    ")"
   ]
  },
  {
   "cell_type": "code",
   "execution_count": null,
   "metadata": {},
   "outputs": [
    {
     "data": {
      "application/vnd.jupyter.widget-view+json": {
       "model_id": "16c9612b7189443290bb083fd1bfdafb",
       "version_major": 2,
       "version_minor": 0
      },
      "text/plain": [
       "  0%|          | 0/876 [00:00<?, ?it/s]"
      ]
     },
     "metadata": {},
     "output_type": "display_data"
    },
    {
     "data": {
      "application/vnd.jupyter.widget-view+json": {
       "model_id": "5efbede3dbd04200b0a2f0640811f866",
       "version_major": 2,
       "version_minor": 0
      },
      "text/plain": [
       "Epoch:   0%|          | 0/7 [00:00<?, ?it/s]"
      ]
     },
     "metadata": {},
     "output_type": "display_data"
    },
    {
     "data": {
      "application/vnd.jupyter.widget-view+json": {
       "model_id": "dbef94718d9c451eaf732911d3b0e4a8",
       "version_major": 2,
       "version_minor": 0
      },
      "text/plain": [
       "Running Epoch 0 of 7:   0%|          | 0/110 [00:00<?, ?it/s]"
      ]
     },
     "metadata": {},
     "output_type": "display_data"
    },
    {
     "data": {
      "application/vnd.jupyter.widget-view+json": {
       "model_id": "18e3f49b9420405a90114928d23f4dd9",
       "version_major": 2,
       "version_minor": 0
      },
      "text/plain": [
       "Running Epoch 1 of 7:   0%|          | 0/110 [00:00<?, ?it/s]"
      ]
     },
     "metadata": {},
     "output_type": "display_data"
    },
    {
     "data": {
      "application/vnd.jupyter.widget-view+json": {
       "model_id": "20a06a927282475f8ff1a9c27871e29b",
       "version_major": 2,
       "version_minor": 0
      },
      "text/plain": [
       "Running Epoch 2 of 7:   0%|          | 0/110 [00:00<?, ?it/s]"
      ]
     },
     "metadata": {},
     "output_type": "display_data"
    },
    {
     "data": {
      "application/vnd.jupyter.widget-view+json": {
       "model_id": "6217d23de8164dd8b125022255074fb9",
       "version_major": 2,
       "version_minor": 0
      },
      "text/plain": [
       "Running Epoch 3 of 7:   0%|          | 0/110 [00:00<?, ?it/s]"
      ]
     },
     "metadata": {},
     "output_type": "display_data"
    },
    {
     "data": {
      "application/vnd.jupyter.widget-view+json": {
       "model_id": "35c8ddc65df246cb938990804d84512a",
       "version_major": 2,
       "version_minor": 0
      },
      "text/plain": [
       "Running Epoch 4 of 7:   0%|          | 0/110 [00:00<?, ?it/s]"
      ]
     },
     "metadata": {},
     "output_type": "display_data"
    },
    {
     "data": {
      "application/vnd.jupyter.widget-view+json": {
       "model_id": "7215265d033445ecb676a0f48a7b1e9f",
       "version_major": 2,
       "version_minor": 0
      },
      "text/plain": [
       "Running Epoch 5 of 7:   0%|          | 0/110 [00:00<?, ?it/s]"
      ]
     },
     "metadata": {},
     "output_type": "display_data"
    },
    {
     "data": {
      "application/vnd.jupyter.widget-view+json": {
       "model_id": "bfeefcba5dc645aa876b00f48d8fda14",
       "version_major": 2,
       "version_minor": 0
      },
      "text/plain": [
       "Running Epoch 6 of 7:   0%|          | 0/110 [00:00<?, ?it/s]"
      ]
     },
     "metadata": {},
     "output_type": "display_data"
    },
    {
     "data": {
      "text/plain": [
       "(770, 1.6658595140467023)"
      ]
     },
     "execution_count": null,
     "metadata": {},
     "output_type": "execute_result"
    }
   ],
   "source": [
    "%%capture --no-display\n",
    "\n",
    "model.train_model(train)"
   ]
  },
  {
   "cell_type": "code",
   "execution_count": null,
   "metadata": {},
   "outputs": [
    {
     "data": {
      "application/vnd.jupyter.widget-view+json": {
       "model_id": "f36fa4477b0b4ab294f37b8e20be7c32",
       "version_major": 2,
       "version_minor": 0
      },
      "text/plain": [
       "  0%|          | 0/585 [00:00<?, ?it/s]"
      ]
     },
     "metadata": {},
     "output_type": "display_data"
    },
    {
     "data": {
      "application/vnd.jupyter.widget-view+json": {
       "model_id": "1e04366f6d1e4d63b5ef7ed4f04e7dc8",
       "version_major": 2,
       "version_minor": 0
      },
      "text/plain": [
       "Running Evaluation:   0%|          | 0/74 [00:00<?, ?it/s]"
      ]
     },
     "metadata": {},
     "output_type": "display_data"
    }
   ],
   "source": [
    "result, output, wrong_predictions = model.eval_model(test)"
   ]
  },
  {
   "cell_type": "code",
   "execution_count": null,
   "metadata": {},
   "outputs": [
    {
     "data": {
      "text/plain": [
       "{'LRAP': 0.9931623931623932, 'eval_loss': 3.239476429801938}"
      ]
     },
     "execution_count": null,
     "metadata": {},
     "output_type": "execute_result"
    }
   ],
   "source": [
    "result"
   ]
  },
  {
   "cell_type": "code",
   "execution_count": null,
   "metadata": {
    "tags": []
   },
   "outputs": [
    {
     "data": {
      "application/vnd.jupyter.widget-view+json": {
       "model_id": "004e137da19d4f068a5a8cc4ec43abfb",
       "version_major": 2,
       "version_minor": 0
      },
      "text/plain": [
       "  0%|          | 0/585 [00:00<?, ?it/s]"
      ]
     },
     "metadata": {},
     "output_type": "display_data"
    },
    {
     "data": {
      "application/vnd.jupyter.widget-view+json": {
       "model_id": "b11831ee40444ce69c16a5fc59f6d91b",
       "version_major": 2,
       "version_minor": 0
      },
      "text/plain": [
       "  0%|          | 0/74 [00:00<?, ?it/s]"
      ]
     },
     "metadata": {},
     "output_type": "display_data"
    }
   ],
   "source": [
    "# predicted labels\n",
    "\n",
    "pred_df = test.copy()\n",
    "\n",
    "preds = model.predict(list(pred_df.text))\n",
    "pred_labels = mlb.inverse_transform(np.array(preds[0]))\n",
    "\n",
    "pred_df[\"y_pred\"] = [\"_\".join(sorted(lab)) if lab else \"none\" for lab in pred_labels]\n",
    "pred_df[\"y_true\"] = [\n",
    "    \"_\".join(sorted(lab)) if lab else \"none\"\n",
    "    for lab in mlb.inverse_transform(np.array(pred_df.labels.tolist()))\n",
    "]"
   ]
  },
  {
   "cell_type": "code",
   "execution_count": null,
   "metadata": {},
   "outputs": [
    {
     "data": {
      "text/plain": [
       "585"
      ]
     },
     "execution_count": null,
     "metadata": {},
     "output_type": "execute_result"
    }
   ],
   "source": [
    "len(pred_df)"
   ]
  },
  {
   "cell_type": "code",
   "execution_count": null,
   "metadata": {},
   "outputs": [
    {
     "data": {
      "text/plain": [
       "Counter({(): 560, ('neutral',): 21, ('links',): 4})"
      ]
     },
     "execution_count": null,
     "metadata": {},
     "output_type": "execute_result"
    }
   ],
   "source": [
    "# true values\n",
    "\n",
    "Counter(mlb.inverse_transform(np.array(test.labels.tolist())))"
   ]
  },
  {
   "cell_type": "code",
   "execution_count": null,
   "metadata": {},
   "outputs": [
    {
     "data": {
      "text/plain": [
       "Counter({(): 571, ('neutral',): 11, ('links',): 3})"
      ]
     },
     "execution_count": null,
     "metadata": {},
     "output_type": "execute_result"
    }
   ],
   "source": [
    "# predicted values\n",
    "Counter(pred_labels)"
   ]
  },
  {
   "cell_type": "markdown",
   "metadata": {},
   "source": [
    "## wrong predictions"
   ]
  },
  {
   "cell_type": "code",
   "execution_count": null,
   "metadata": {},
   "outputs": [
    {
     "data": {
      "text/html": [
       "<style type=\"text/css\">\n",
       "#T_8e3a6_row0_col2, #T_8e3a6_row1_col2, #T_8e3a6_row2_col2, #T_8e3a6_row3_col2, #T_8e3a6_row4_col2, #T_8e3a6_row5_col2, #T_8e3a6_row6_col2, #T_8e3a6_row7_col2, #T_8e3a6_row8_col2, #T_8e3a6_row9_col2, #T_8e3a6_row10_col2, #T_8e3a6_row11_col2, #T_8e3a6_row12_col2, #T_8e3a6_row13_col2, #T_8e3a6_row14_col2, #T_8e3a6_row15_col2, #T_8e3a6_row16_col2, #T_8e3a6_row17_col2, #T_8e3a6_row18_col2, #T_8e3a6_row19_col2, #T_8e3a6_row20_col2, #T_8e3a6_row21_col2, #T_8e3a6_row22_col2, #T_8e3a6_row23_col2, #T_8e3a6_row24_col2 {\n",
       "  text-align: left;\n",
       "}\n",
       "</style>\n",
       "<table id=\"T_8e3a6\">\n",
       "  <thead>\n",
       "    <tr>\n",
       "      <th class=\"blank level0\" >&nbsp;</th>\n",
       "      <th id=\"T_8e3a6_level0_col0\" class=\"col_heading level0 col0\" >y_pred</th>\n",
       "      <th id=\"T_8e3a6_level0_col1\" class=\"col_heading level0 col1\" >y_true</th>\n",
       "      <th id=\"T_8e3a6_level0_col2\" class=\"col_heading level0 col2\" >text</th>\n",
       "    </tr>\n",
       "  </thead>\n",
       "  <tbody>\n",
       "    <tr>\n",
       "      <th id=\"T_8e3a6_level0_row0\" class=\"row_heading level0 row0\" >1297</th>\n",
       "      <td id=\"T_8e3a6_row0_col0\" class=\"data row0 col0\" >neutral</td>\n",
       "      <td id=\"T_8e3a6_row0_col1\" class=\"data row0 col1\" >none</td>\n",
       "      <td id=\"T_8e3a6_row0_col2\" class=\"data row0 col2\" >Es war die Bundeskanzlerin - und nicht die SPD-Fraktion -, die mit ihrer wohlkalkulierten Einlassung, dass dies allein eine Frage des Gewissens sei, die Türen für die heutige überstürzte Entscheidung sperrangelweit geöffnet hat und sich auch noch als quasi neue Fraktionsvorsitzende der Unionsfraktion dazu hat hinreißen lassen, generös die Abstimmung freizugeben, zudem auch noch entgegen dem eigenen, nach wie vor gültigen Grundsatzprogramm der CDU; denn darin steht zu lesen: Die Ehe ist unser Leitbild der Gemeinschaft von Mann und Frau.  …Deshalb steht die Ehe unter dem besonderen Schutz unseres Grundgesetzes. Daran sehe ich: Beschlüsse der CDU sind offenkundig nicht das Papier wert, auf dem sie stehen.</td>\n",
       "    </tr>\n",
       "    <tr>\n",
       "      <th id=\"T_8e3a6_level0_row1\" class=\"row_heading level0 row1\" >1035</th>\n",
       "      <td id=\"T_8e3a6_row1_col0\" class=\"data row1 col0\" >none</td>\n",
       "      <td id=\"T_8e3a6_row1_col1\" class=\"data row1 col1\" >neutral</td>\n",
       "      <td id=\"T_8e3a6_row1_col2\" class=\"data row1 col2\" >Mit diesem Vorgehen wollen wir eine einheitliche Qualität im Berufsbild etablieren und die Angriffe der Altparteien obsolet machen, die auch beim MTA-Reform-Gesetz wieder sichtbar wurden. Denn diese wollen den ganzen Berufsstand abschaffen – sogar die Grünen, die dafür ihre eigene Stammwählerschaft vergraulen. Die AfD steht für eine freie Behandlungswahl und stellt sich mit diesem Antrag absolut gegen die Abschaffung des Heilpraktikers und für den Ausbau des Berufsbildes des Heilpraktikers.</td>\n",
       "    </tr>\n",
       "    <tr>\n",
       "      <th id=\"T_8e3a6_level0_row2\" class=\"row_heading level0 row2\" >890</th>\n",
       "      <td id=\"T_8e3a6_row2_col0\" class=\"data row2 col0\" >none</td>\n",
       "      <td id=\"T_8e3a6_row2_col1\" class=\"data row2 col1\" >neutral</td>\n",
       "      <td id=\"T_8e3a6_row2_col2\" class=\"data row2 col2\" >Denen ist längst klar: Diese SPD vertritt ihre Interessen nicht mehr. Die sagen sich zu Recht: Für die tut ihr alles, für uns tut ihr nichts. Das ist die SPD, die Heizöl und Benzin verteuern will, die einen Spurwechsel für abgelehnte Asylbewerber will, die für nur subsidiär Geschützte mehr Familiennachzug will und die die letztes Jahr nicht ausgeschöpfte Nachzugsquote dieses Jahr extra haben will.</td>\n",
       "    </tr>\n",
       "    <tr>\n",
       "      <th id=\"T_8e3a6_level0_row3\" class=\"row_heading level0 row3\" >287</th>\n",
       "      <td id=\"T_8e3a6_row3_col0\" class=\"data row3 col0\" >none</td>\n",
       "      <td id=\"T_8e3a6_row3_col1\" class=\"data row3 col1\" >neutral</td>\n",
       "      <td id=\"T_8e3a6_row3_col2\" class=\"data row3 col2\" >Ich glaube, Sie haben nicht die Mehrheit der Menschen in Deutschland hinter sich. Aber dieser Haushaltsentwurf ist nun wirklich einer, in dem die Bundesregierung ihre Maske hat fallen lassen. Er ist ein Haushalt des Übermaßes, und er ist ein Haushalt der Verantwortungslosigkeit unserem Land und der jungen Generation gegenüber.</td>\n",
       "    </tr>\n",
       "    <tr>\n",
       "      <th id=\"T_8e3a6_level0_row4\" class=\"row_heading level0 row4\" >885</th>\n",
       "      <td id=\"T_8e3a6_row4_col0\" class=\"data row4 col0\" >none</td>\n",
       "      <td id=\"T_8e3a6_row4_col1\" class=\"data row4 col1\" >neutral</td>\n",
       "      <td id=\"T_8e3a6_row4_col2\" class=\"data row4 col2\" >Eine Angabe im Pass ist … jedoch noch nicht möglich. Es kann … ein zusätzliches Dokument mit einem Hinweis, dass das Geschlecht als „X“ und somit als unspezifisch anzusehen ist, erteilt werden. Ich stelle fest: Die Bundesregierung hat keine Ahnung, wer die deutsche Grenze übertritt, sie kann aber in epischer Breite ausführen, wie es mit der Eintragung des dritten Geschlechtes auf Neufundland aussieht.</td>\n",
       "    </tr>\n",
       "    <tr>\n",
       "      <th id=\"T_8e3a6_level0_row5\" class=\"row_heading level0 row5\" >939</th>\n",
       "      <td id=\"T_8e3a6_row5_col0\" class=\"data row5 col0\" >links</td>\n",
       "      <td id=\"T_8e3a6_row5_col1\" class=\"data row5 col1\" >none</td>\n",
       "      <td id=\"T_8e3a6_row5_col2\" class=\"data row5 col2\" >Wir müssen unsere Bürger einfach fitter machen, damit sie mit ihren Qualifikationen den sich ändernden Bedingungen im globalen Wettbewerb besser entgegentreten können. Verantwortungsvolle Unternehmer machen das von ganz allein. Sie versuchen, ihre qualifizierten Mitarbeiter möglichst lange zu halten, und lagern nicht einfach alles in Billigjobs aus.</td>\n",
       "    </tr>\n",
       "    <tr>\n",
       "      <th id=\"T_8e3a6_level0_row6\" class=\"row_heading level0 row6\" >1356</th>\n",
       "      <td id=\"T_8e3a6_row6_col0\" class=\"data row6 col0\" >neutral</td>\n",
       "      <td id=\"T_8e3a6_row6_col1\" class=\"data row6 col1\" >none</td>\n",
       "      <td id=\"T_8e3a6_row6_col2\" class=\"data row6 col2\" >Die Türkei redet hier von einer Selbstverteidigung. Man kann das aber mit guten Argumenten sicherlich auch als Angriff auf die territoriale Integrität Syriens begreifen. Bezeichnen Sie als Außenminister der neuen Bundesregierung ebenso wie die AfD-Fraktion den Einmarsch der Türkei in Syrien als völkerrechtswidrig?</td>\n",
       "    </tr>\n",
       "    <tr>\n",
       "      <th id=\"T_8e3a6_level0_row7\" class=\"row_heading level0 row7\" >733</th>\n",
       "      <td id=\"T_8e3a6_row7_col0\" class=\"data row7 col0\" >none</td>\n",
       "      <td id=\"T_8e3a6_row7_col1\" class=\"data row7 col1\" >neutral</td>\n",
       "      <td id=\"T_8e3a6_row7_col2\" class=\"data row7 col2\" >Was im Hause Andrea Nahles immer gern verschwiegen wird, ist ja, dass Sie auch Ausgaben für Gartenarbeiten als nicht regelsatzrelevant einstufen. Im Klartext heißt das: Erwerbslosen gestehen Sie nicht das Recht zu, in einem Nachbarschaftsgarten oder in einem Schrebergartenverein aktiv zu sein oder auf dem Balkon Tomaten zu züchten. Außerdem legen Sie fest: Ausgaben für Beherbergung sind nicht regelsatzrelevant.</td>\n",
       "    </tr>\n",
       "    <tr>\n",
       "      <th id=\"T_8e3a6_level0_row8\" class=\"row_heading level0 row8\" >325</th>\n",
       "      <td id=\"T_8e3a6_row8_col0\" class=\"data row8 col0\" >none</td>\n",
       "      <td id=\"T_8e3a6_row8_col1\" class=\"data row8 col1\" >neutral</td>\n",
       "      <td id=\"T_8e3a6_row8_col2\" class=\"data row8 col2\" >Das, was uns hier als Antrag der Linksfraktion zugemutet wird, ist aber von solch einer Qualität, die ich bisher wirklich kaum erlebt habe. Wenn man sich diesen Antrag anschaut, dann sieht man, dass er nur so von Unwahrheiten, Halbwahrheiten, illusorischen Forderungen und widersprüchlichen Dingen strotzt, und manchmal wird auch genau das gefordert, was wir bereits tun. Der Clou in diesem Antrag ist die Aussage, dass wir 100 000 Mitarbeiterstellen für zehn Jahre finanzieren sollen.</td>\n",
       "    </tr>\n",
       "    <tr>\n",
       "      <th id=\"T_8e3a6_level0_row9\" class=\"row_heading level0 row9\" >1306</th>\n",
       "      <td id=\"T_8e3a6_row9_col0\" class=\"data row9 col0\" >neutral</td>\n",
       "      <td id=\"T_8e3a6_row9_col1\" class=\"data row9 col1\" >none</td>\n",
       "      <td id=\"T_8e3a6_row9_col2\" class=\"data row9 col2\" >Das ist eine Schlüsselindustrie, an die wir in der Tat wieder denken müssen. Hören Sie auf, diese durch Ihre einseitigen planwirtschaftlichen Vorgaben kaputtzumachen!</td>\n",
       "    </tr>\n",
       "    <tr>\n",
       "      <th id=\"T_8e3a6_level0_row10\" class=\"row_heading level0 row10\" >206</th>\n",
       "      <td id=\"T_8e3a6_row10_col0\" class=\"data row10 col0\" >none</td>\n",
       "      <td id=\"T_8e3a6_row10_col1\" class=\"data row10 col1\" >links</td>\n",
       "      <td id=\"T_8e3a6_row10_col2\" class=\"data row10 col2\" >Wir dürfen deshalb die Fehler, die wir bei den sogenannten Gastarbeitern gemacht haben, nicht wiederholen. Es ist zum Beispiel ein Fehler der Bundesregierung, dass wir eine Dreiklassenintegration haben und dabei danach unterscheiden, aus welchem Land jemand kommt. Es ist doch völlig daneben, dass jemand aus einem Land mit einer Anerkennungsquote von 49 Prozent weniger Unterstützung erhält als jemand aus einem Land mit einer Anerkennungsquote von 51 Prozent.</td>\n",
       "    </tr>\n",
       "    <tr>\n",
       "      <th id=\"T_8e3a6_level0_row11\" class=\"row_heading level0 row11\" >159</th>\n",
       "      <td id=\"T_8e3a6_row11_col0\" class=\"data row11 col0\" >links</td>\n",
       "      <td id=\"T_8e3a6_row11_col1\" class=\"data row11 col1\" >none</td>\n",
       "      <td id=\"T_8e3a6_row11_col2\" class=\"data row11 col2\" >Weil sie krank sind. Wir können dazu nur Folgendes sagen: Wir müssen - das ist die Kernaufgabe unseres Sozialstaates - die Solidarität der Versichertengemeinschaft wirklich wirken lassen. Denn diese 170 000 Menschen können ihren Lebensunterhalt aus eigener Kraft nicht mehr wirklich verbessern.</td>\n",
       "    </tr>\n",
       "    <tr>\n",
       "      <th id=\"T_8e3a6_level0_row12\" class=\"row_heading level0 row12\" >1447</th>\n",
       "      <td id=\"T_8e3a6_row12_col0\" class=\"data row12 col0\" >none</td>\n",
       "      <td id=\"T_8e3a6_row12_col1\" class=\"data row12 col1\" >neutral</td>\n",
       "      <td id=\"T_8e3a6_row12_col2\" class=\"data row12 col2\" >Liebe Vertreter des Kabinetts, Sie haben angekündigt, die Ministerien besser zu koordinieren, um effizienter zu wirken. Aber was erleben wir? Stillstand oder, wie man im Verteidigungsministerium sieht, völliges Chaos!</td>\n",
       "    </tr>\n",
       "    <tr>\n",
       "      <th id=\"T_8e3a6_level0_row13\" class=\"row_heading level0 row13\" >1120</th>\n",
       "      <td id=\"T_8e3a6_row13_col0\" class=\"data row13 col0\" >none</td>\n",
       "      <td id=\"T_8e3a6_row13_col1\" class=\"data row13 col1\" >neutral</td>\n",
       "      <td id=\"T_8e3a6_row13_col2\" class=\"data row13 col2\" >Sie schaden damit dem Ansehen der Parteien insgesamt und das ist ja das Schlimme. Sie beide, CDU/CSU und SPD, tragen die Verantwortung für dieses Verfahren. Aber letztlich trifft die negative Bewertung im Kern alle demokratischen Parteien.</td>\n",
       "    </tr>\n",
       "    <tr>\n",
       "      <th id=\"T_8e3a6_level0_row14\" class=\"row_heading level0 row14\" >634</th>\n",
       "      <td id=\"T_8e3a6_row14_col0\" class=\"data row14 col0\" >neutral</td>\n",
       "      <td id=\"T_8e3a6_row14_col1\" class=\"data row14 col1\" >none</td>\n",
       "      <td id=\"T_8e3a6_row14_col2\" class=\"data row14 col2\" >Ganz einfach: Im Interesse Europas muss der EWR-Vertrag für Großbritannien geöffnet werden. Hören Sie endlich mit Ihren Drohgebärden gegenüber Großbritannien auf! Europa muss sich wieder auf die Grundfreiheiten eines demokratischen Kontinents der Subsidiaritäts- und der demokratischen Rechte souveräner Staaten besinnen.</td>\n",
       "    </tr>\n",
       "    <tr>\n",
       "      <th id=\"T_8e3a6_level0_row15\" class=\"row_heading level0 row15\" >1301</th>\n",
       "      <td id=\"T_8e3a6_row15_col0\" class=\"data row15 col0\" >links</td>\n",
       "      <td id=\"T_8e3a6_row15_col1\" class=\"data row15 col1\" >none</td>\n",
       "      <td id=\"T_8e3a6_row15_col2\" class=\"data row15 col2\" >Wer diesen Zusammenhang übersieht und so tut, als wären die Menschen selbst schuld, wenn sie arm sind, der ist einfach nur zynisch. Gute Arbeit braucht gute Löhne. Das muss unser sozialpolitischer Anspruch sein und bleiben.</td>\n",
       "    </tr>\n",
       "    <tr>\n",
       "      <th id=\"T_8e3a6_level0_row16\" class=\"row_heading level0 row16\" >45</th>\n",
       "      <td id=\"T_8e3a6_row16_col0\" class=\"data row16 col0\" >none</td>\n",
       "      <td id=\"T_8e3a6_row16_col1\" class=\"data row16 col1\" >links</td>\n",
       "      <td id=\"T_8e3a6_row16_col2\" class=\"data row16 col2\" >Darum müssen die Ungerechtigkeiten, die hier schon benannt worden sind, insbesondere die Privatisierungsversuche, eindeutig gestoppt werden. Zuerst einmal etwas Positives, eine gute Nachricht: Eine alte Forderung, die auch von den Linken immer wieder erhoben wurde, wird nun umgesetzt. Alleinerziehende Elternteile - in der übergroßen Mehrzahl sind das Frauen, alleinerziehende Mütter -, die keinen Unterhalt bekommen, können ein bisschen aufatmen.  -</td>\n",
       "    </tr>\n",
       "    <tr>\n",
       "      <th id=\"T_8e3a6_level0_row17\" class=\"row_heading level0 row17\" >171</th>\n",
       "      <td id=\"T_8e3a6_row17_col0\" class=\"data row17 col0\" >none</td>\n",
       "      <td id=\"T_8e3a6_row17_col1\" class=\"data row17 col1\" >neutral</td>\n",
       "      <td id=\"T_8e3a6_row17_col2\" class=\"data row17 col2\" >Hier hat Ihr Haus - dank dem Bundesrechnungshof ist das an uns herangetragen worden - einen großen Fehler gemacht. Es geht hier konkret um eine Ihrem Haus untergeordnete Behörde. Der Bundesrechnungshof hat aufgezeigt, dass die Bundeszentrale für gesundheitliche Aufklärung ein Schimmelproblem im Gebäude hatte.</td>\n",
       "    </tr>\n",
       "    <tr>\n",
       "      <th id=\"T_8e3a6_level0_row18\" class=\"row_heading level0 row18\" >494</th>\n",
       "      <td id=\"T_8e3a6_row18_col0\" class=\"data row18 col0\" >none</td>\n",
       "      <td id=\"T_8e3a6_row18_col1\" class=\"data row18 col1\" >neutral</td>\n",
       "      <td id=\"T_8e3a6_row18_col2\" class=\"data row18 col2\" >Sie können nicht ausschließen, dass Sie sich an der Ausbildung derjenigen beteiligen, die sich im Grunde genommen dann gegen Sie richten werden; das wissen Sie auch. Das Einzige, das sicher ist, ist, dass Sie den Bürgerkrieg in Libyen damit natürlich weiter anheizen werden, wenn Sie dort Menschen bewaffnen und ausbilden. Das ist für uns völlig inakzeptabel, und es ist eine abenteuerliche Außenpolitik.</td>\n",
       "    </tr>\n",
       "    <tr>\n",
       "      <th id=\"T_8e3a6_level0_row19\" class=\"row_heading level0 row19\" >1257</th>\n",
       "      <td id=\"T_8e3a6_row19_col0\" class=\"data row19 col0\" >none</td>\n",
       "      <td id=\"T_8e3a6_row19_col1\" class=\"data row19 col1\" >neutral</td>\n",
       "      <td id=\"T_8e3a6_row19_col2\" class=\"data row19 col2\" >Wir – bis hinauf zum Parlament – haben, wie selten in der Geschichte dieses Landes, in einer Geschwindigkeit lernen müssen: Wie geht man mit so etwas um? Die Bürgerinnen und Bürger haben das Ihre getan, haben sich diszipliniert und zurückgehalten. Das ist der Grund, warum Deutschland im Augenblick so dasteht, wie es dasteht, nämlich gut.</td>\n",
       "    </tr>\n",
       "    <tr>\n",
       "      <th id=\"T_8e3a6_level0_row20\" class=\"row_heading level0 row20\" >1316</th>\n",
       "      <td id=\"T_8e3a6_row20_col0\" class=\"data row20 col0\" >none</td>\n",
       "      <td id=\"T_8e3a6_row20_col1\" class=\"data row20 col1\" >neutral</td>\n",
       "      <td id=\"T_8e3a6_row20_col2\" class=\"data row20 col2\" >Zu diesen Punkten haben Sie alle sich heute in Ihren Reden verhalten. Jetzt wollen Sie sich wegducken, einen Konflikt, den es bei Ihnen offensichtlich gibt, hier im Parlament nicht austragen und diesen Antrag in Ausschüsse versenken, die es nicht gibt. Ich finde, das ist ein skandalöses Verfahren.</td>\n",
       "    </tr>\n",
       "    <tr>\n",
       "      <th id=\"T_8e3a6_level0_row21\" class=\"row_heading level0 row21\" >519</th>\n",
       "      <td id=\"T_8e3a6_row21_col0\" class=\"data row21 col0\" >none</td>\n",
       "      <td id=\"T_8e3a6_row21_col1\" class=\"data row21 col1\" >neutral</td>\n",
       "      <td id=\"T_8e3a6_row21_col2\" class=\"data row21 col2\" >Durch Ihr Abzockpaket steigen die Heizkosten um über 20 Prozent, und der Mieterbund rechnet für einen durchschnittlichen Haushalt mit einer zusätzlichen Mieterhöhung von 200 Euro pro Monat. All das war bekannt, bevor Sie diese Belastungen eingeführt haben, und jetzt wollen Sie von den Grünen und Linken diese Regierungsstümperei mit Ihren Anträgen kaschieren. So was nenne ich wirklich Serviceopposition, meine sehr geehrten Damen und Herren.</td>\n",
       "    </tr>\n",
       "    <tr>\n",
       "      <th id=\"T_8e3a6_level0_row22\" class=\"row_heading level0 row22\" >1395</th>\n",
       "      <td id=\"T_8e3a6_row22_col0\" class=\"data row22 col0\" >none</td>\n",
       "      <td id=\"T_8e3a6_row22_col1\" class=\"data row22 col1\" >links</td>\n",
       "      <td id=\"T_8e3a6_row22_col2\" class=\"data row22 col2\" >Wir wollen eine Gesellschaft, in der Frauen und Männer gleichberechtigt sind und auf Augenhöhe. Wir wollen endlich gleichen Lohn für gleichwertige Arbeit, eine paritätische Besetzung in den Parlamenten, in Wirtschaft, Kultur und Medien. Wir sollten das Ehegattensplitting endlich angehen, für mehr Prävention und Schutz bei Gewalt sorgen – auch in bundespolitischer Verantwortung –, für alle Frauen.</td>\n",
       "    </tr>\n",
       "    <tr>\n",
       "      <th id=\"T_8e3a6_level0_row23\" class=\"row_heading level0 row23\" >469</th>\n",
       "      <td id=\"T_8e3a6_row23_col0\" class=\"data row23 col0\" >none</td>\n",
       "      <td id=\"T_8e3a6_row23_col1\" class=\"data row23 col1\" >links</td>\n",
       "      <td id=\"T_8e3a6_row23_col2\" class=\"data row23 col2\" >Darum appelliere ich an Sie alle: Entscheiden Sie sich für das Kindeswohl. Entscheiden Sie sich für unser Grundgesetz und für die dort verankerte Gleichheit aller Menschen. Sprechen Sie heute Lesben, Schwulen und ihren Kindern den Respekt aus, den sie verdienen, und stimmen Sie unserem grünen Gesetzentwurf zu.</td>\n",
       "    </tr>\n",
       "    <tr>\n",
       "      <th id=\"T_8e3a6_level0_row24\" class=\"row_heading level0 row24\" >1392</th>\n",
       "      <td id=\"T_8e3a6_row24_col0\" class=\"data row24 col0\" >none</td>\n",
       "      <td id=\"T_8e3a6_row24_col1\" class=\"data row24 col1\" >neutral</td>\n",
       "      <td id=\"T_8e3a6_row24_col2\" class=\"data row24 col2\" >Sie sind Teil ihrer Regierung. Sie tragen Mitverantwortung. Wer auch nur ein wenig Welt- und Menschenkenntnis hat, sagte schon vor drei Jahren Morde, Totschlag und Vergewaltigungen voraus.</td>\n",
       "    </tr>\n",
       "  </tbody>\n",
       "</table>\n"
      ],
      "text/plain": [
       "<pandas.io.formats.style.Styler at 0x7f9ddb0b77f0>"
      ]
     },
     "execution_count": null,
     "metadata": {},
     "output_type": "execute_result"
    }
   ],
   "source": [
    "pred_df.loc[pred_df.y_pred != pred_df.y_true, [\"y_pred\", \"y_true\", \"text\"]].style.set_properties(\n",
    "    subset=\"text\", **{\"text-align\": \"left\"}\n",
    ")"
   ]
  },
  {
   "cell_type": "markdown",
   "metadata": {},
   "source": [
    "## correct not-none predictions"
   ]
  },
  {
   "cell_type": "code",
   "execution_count": null,
   "metadata": {},
   "outputs": [
    {
     "data": {
      "text/html": [
       "<style type=\"text/css\">\n",
       "#T_8f601_row0_col2, #T_8f601_row1_col2, #T_8f601_row2_col2, #T_8f601_row3_col2, #T_8f601_row4_col2, #T_8f601_row5_col2, #T_8f601_row6_col2 {\n",
       "  text-align: left;\n",
       "}\n",
       "</style>\n",
       "<table id=\"T_8f601\">\n",
       "  <thead>\n",
       "    <tr>\n",
       "      <th class=\"blank level0\" >&nbsp;</th>\n",
       "      <th id=\"T_8f601_level0_col0\" class=\"col_heading level0 col0\" >y_pred</th>\n",
       "      <th id=\"T_8f601_level0_col1\" class=\"col_heading level0 col1\" >y_true</th>\n",
       "      <th id=\"T_8f601_level0_col2\" class=\"col_heading level0 col2\" >text</th>\n",
       "    </tr>\n",
       "  </thead>\n",
       "  <tbody>\n",
       "    <tr>\n",
       "      <th id=\"T_8f601_level0_row0\" class=\"row_heading level0 row0\" >1310</th>\n",
       "      <td id=\"T_8f601_row0_col0\" class=\"data row0 col0\" >neutral</td>\n",
       "      <td id=\"T_8f601_row0_col1\" class=\"data row0 col1\" >neutral</td>\n",
       "      <td id=\"T_8f601_row0_col2\" class=\"data row0 col2\" >Nur der unfassbaren Disziplin und Geduld der Deutschen ist es überhaupt zu verdanken, dass es noch keine flächendeckenden Massenproteste gibt wie in Frankreich, wo es den sogenannten Aufstand der gelben Westen gegen die neueste Spritpreiserhöhung gibt. Noch nie in der Geschichte der Bundesrepublik Deutschland hatte die öffentliche Hand so viel vom Bürger zur Verfügung, und noch nie wurde so viel Geld so schlecht ausgegeben. Wir haben eine vernachlässigte Armee, die ihren Auftrag der Landesverteidigung nicht erfüllen kann, deren Panzer nicht fahren, deren Schiffe nicht in See stechen, deren Flugzeuge und Hubschrauber nicht fliegen und die trotzdem in immer neue Einsätze in aller Welt geschickt wird.</td>\n",
       "    </tr>\n",
       "    <tr>\n",
       "      <th id=\"T_8f601_level0_row1\" class=\"row_heading level0 row1\" >1224</th>\n",
       "      <td id=\"T_8f601_row1_col0\" class=\"data row1 col0\" >neutral</td>\n",
       "      <td id=\"T_8f601_row1_col1\" class=\"data row1 col1\" >neutral</td>\n",
       "      <td id=\"T_8f601_row1_col2\" class=\"data row1 col2\" >Jetzt wird ihnen seitens ihrer ehemaligen Partei alles Mögliche unterstellt und geradezu eine demokratische Gesinnung abgesprochen. Wenn seitens der CDU so dramatische Demokratiedefizite bei diesen Männern erkannt werden, dass sie hier nicht einmal mehr als Alterspräsidenten fungieren können: Warum wurde dann nicht reagiert, als sie noch Mitglieder der CDU gewesen sind? Das wäre doch das Normalste von der Welt.</td>\n",
       "    </tr>\n",
       "    <tr>\n",
       "      <th id=\"T_8f601_level0_row2\" class=\"row_heading level0 row2\" >140</th>\n",
       "      <td id=\"T_8f601_row2_col0\" class=\"data row2 col0\" >neutral</td>\n",
       "      <td id=\"T_8f601_row2_col1\" class=\"data row2 col1\" >neutral</td>\n",
       "      <td id=\"T_8f601_row2_col2\" class=\"data row2 col2\" >Gerade als Naturwissenschaftlerin hätten Sie die Debatte über den Diesel auf die Sachebene holen müssen. Stattdessen haben Sie den grünen Autofeinden freien Lauf gelassen. Ihre Politik ist eine, in der Gesinnung statt Verantwortung, Gefühl statt Wissenschaft, Glaube statt Wissen dominiert haben.</td>\n",
       "    </tr>\n",
       "    <tr>\n",
       "      <th id=\"T_8f601_level0_row3\" class=\"row_heading level0 row3\" >1048</th>\n",
       "      <td id=\"T_8f601_row3_col0\" class=\"data row3 col0\" >neutral</td>\n",
       "      <td id=\"T_8f601_row3_col1\" class=\"data row3 col1\" >neutral</td>\n",
       "      <td id=\"T_8f601_row3_col2\" class=\"data row3 col2\" >Sie von den Grünen wollen immer nur den Sozialleistungsbeziehern die Rechte stärken und die Pflichten mindern, den Steuerzahlern hingegen bürden Sie damit immer mehr Pflichten und Belastungen auf. Sie sorgen dafür, dass es attraktiver wird, sich im Sozialstaat einzurichten und auf Kosten der Allgemeinheit zu leben. Damit zerstören Sie die Leistungsbasis der Gesellschaft und die Zukunftsfähigkeit des Sozialstaates.</td>\n",
       "    </tr>\n",
       "    <tr>\n",
       "      <th id=\"T_8f601_level0_row4\" class=\"row_heading level0 row4\" >521</th>\n",
       "      <td id=\"T_8f601_row4_col0\" class=\"data row4 col0\" >neutral</td>\n",
       "      <td id=\"T_8f601_row4_col1\" class=\"data row4 col1\" >neutral</td>\n",
       "      <td id=\"T_8f601_row4_col2\" class=\"data row4 col2\" >Offensichtlich hat die Regierung es einfach verschlafen. Ein leistungsfähiger Internetzugang gehört heute zur Grundversorgung. Meine Damen und Herren, werfen Sie also den ideologischen Ballast der sogenannten Verkehrswende ab, und kümmern Sie sich um die Dinge, die für die Bürger wirklich gut und wichtig sind.</td>\n",
       "    </tr>\n",
       "    <tr>\n",
       "      <th id=\"T_8f601_level0_row5\" class=\"row_heading level0 row5\" >542</th>\n",
       "      <td id=\"T_8f601_row5_col0\" class=\"data row5 col0\" >neutral</td>\n",
       "      <td id=\"T_8f601_row5_col1\" class=\"data row5 col1\" >neutral</td>\n",
       "      <td id=\"T_8f601_row5_col2\" class=\"data row5 col2\" >Die FDP hat dazu beigetragen, eine Stimmung zu schaffen, die öffentliche Behörden und Einrichtungen als Ursache allen Übels diffamiert. Durch die Verkleinerung, Zerlegung und Privatisierung wichtiger Bereiche der öffentlichen Daseinsvorsorge wurde die Fähigkeit des Staates geschwächt, soziale Prozesse demokratisch zu lenken. Damit haben Sie auch die Fähigkeit des Gesundheitssystems geschwächt, auf Krisen wie eine Pandemie zu reagieren.</td>\n",
       "    </tr>\n",
       "    <tr>\n",
       "      <th id=\"T_8f601_level0_row6\" class=\"row_heading level0 row6\" >863</th>\n",
       "      <td id=\"T_8f601_row6_col0\" class=\"data row6 col0\" >neutral</td>\n",
       "      <td id=\"T_8f601_row6_col1\" class=\"data row6 col1\" >neutral</td>\n",
       "      <td id=\"T_8f601_row6_col2\" class=\"data row6 col2\" >Deshalb steht die Ehe unter dem besonderen Schutz unseres Grundgesetzes. Daran sehe ich: Beschlüsse der CDU sind offenkundig nicht das Papier wert, auf dem sie stehen. Insgesamt ist der heutige Vorgang an Peinlichkeit kaum zu überbieten.</td>\n",
       "    </tr>\n",
       "  </tbody>\n",
       "</table>\n"
      ],
      "text/plain": [
       "<pandas.io.formats.style.Styler at 0x7f9ddb066920>"
      ]
     },
     "execution_count": null,
     "metadata": {},
     "output_type": "execute_result"
    }
   ],
   "source": [
    "pred_df.loc[\n",
    "    (pred_df.y_pred == pred_df.y_true) & (pred_df.y_true != \"none\"), [\"y_pred\", \"y_true\", \"text\"]\n",
    "].style.set_properties(subset=\"text\", **{\"text-align\": \"left\"})"
   ]
  },
  {
   "cell_type": "code",
   "execution_count": null,
   "metadata": {},
   "outputs": [],
   "source": []
  }
 ],
 "metadata": {
  "kernelspec": {
   "display_name": "bert_populism",
   "language": "python",
   "name": "python3"
  },
  "language_info": {
   "codemirror_mode": {
    "name": "ipython",
    "version": 3
   },
   "file_extension": ".py",
   "mimetype": "text/x-python",
   "name": "python",
   "nbconvert_exporter": "python",
   "pygments_lexer": "ipython3",
   "version": "3.10.8"
  },
  "vscode": {
   "interpreter": {
    "hash": "05b0f58c2bcdc36936de25f1aaac0724cceaad7ddc88039a552f8d696c8fb19b"
   }
  }
 },
 "nbformat": 4,
 "nbformat_minor": 4
}
