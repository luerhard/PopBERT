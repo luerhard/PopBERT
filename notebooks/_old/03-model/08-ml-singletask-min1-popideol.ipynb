{
 "cells": [
  {
   "cell_type": "code",
   "execution_count": null,
   "metadata": {
    "tags": []
   },
   "outputs": [],
   "source": [
    "%load_ext autoreload\n",
    "%autoreload 2"
   ]
  },
  {
   "cell_type": "code",
   "execution_count": null,
   "metadata": {
    "tags": []
   },
   "outputs": [],
   "source": [
    "from collections import defaultdict\n",
    "\n",
    "import numpy as np\n",
    "import torch\n",
    "from sklearn.metrics import classification_report\n",
    "from sqlalchemy import func\n",
    "from sqlalchemy.orm import Session\n",
    "from torch.utils.data import DataLoader\n",
    "from tqdm.auto import tqdm\n",
    "from transformers import AutoTokenizer\n",
    "from transformers import logging\n",
    "\n",
    "import src\n",
    "import src.bert.utils as bert_utils\n",
    "import src.db\n",
    "from src.bert import module\n",
    "from src.bert.dataset import PBertDataset\n",
    "from src.bert.dataset import strategies\n",
    "from src.db.models import bert_data as bm"
   ]
  },
  {
   "cell_type": "code",
   "execution_count": null,
   "metadata": {
    "tags": []
   },
   "outputs": [],
   "source": [
    "engine = src.db.make_engine(\"DB\")"
   ]
  },
  {
   "cell_type": "code",
   "execution_count": null,
   "metadata": {
    "tags": []
   },
   "outputs": [],
   "source": [
    "logging.set_verbosity_error()\n",
    "\n",
    "# model hyper-parameters\n",
    "LR = 9e-6\n",
    "N_EPOCHS = 15\n",
    "BATCH_SIZE = 16\n",
    "\n",
    "TOKENIZER = \"deepset/gbert-large\"\n",
    "BASE_MODEL = \"deepset/gbert-large\"\n",
    "\n",
    "STRATEGY = strategies.MLMin1PopIdeol(output_fmt=\"single_task\")\n",
    "\n",
    "DEVICE = \"cuda\"\n",
    "\n",
    "EXCLUDE_CODERS = []"
   ]
  },
  {
   "cell_type": "code",
   "execution_count": null,
   "metadata": {
    "tags": []
   },
   "outputs": [],
   "source": [
    "train = PBertDataset.from_disk(\n",
    "    src.PATH / \"data/bert/train.csv.zip\",\n",
    "    label_strategy=STRATEGY,\n",
    "    exclude_coders=EXCLUDE_CODERS,\n",
    ")\n",
    "test = PBertDataset.from_disk(\n",
    "    src.PATH / \"data/bert/test.csv.zip\",\n",
    "    label_strategy=STRATEGY,\n",
    "    exclude_coders=EXCLUDE_CODERS,\n",
    ")\n",
    "val = PBertDataset.from_disk(\n",
    "    src.PATH / \"data/bert/validation.csv.zip\",\n",
    "    label_strategy=STRATEGY,\n",
    "    exclude_coders=EXCLUDE_CODERS,\n",
    ")"
   ]
  },
  {
   "cell_type": "code",
   "execution_count": null,
   "metadata": {
    "tags": []
   },
   "outputs": [
    {
     "data": {
      "text/plain": [
       "(5277, 1759, 1759)"
      ]
     },
     "execution_count": null,
     "metadata": {},
     "output_type": "execute_result"
    }
   ],
   "source": [
    "len(train), len(test), len(val)"
   ]
  },
  {
   "cell_type": "code",
   "execution_count": null,
   "metadata": {
    "tags": []
   },
   "outputs": [],
   "source": [
    "tokenizer = AutoTokenizer.from_pretrained(TOKENIZER)"
   ]
  },
  {
   "cell_type": "code",
   "execution_count": null,
   "metadata": {
    "tags": []
   },
   "outputs": [],
   "source": [
    "collate_fn = train.create_collate_fn(tokenizer)\n",
    "\n",
    "train_loader = DataLoader(train, collate_fn=collate_fn, batch_size=BATCH_SIZE, shuffle=True)\n",
    "valid_loader = DataLoader(val, collate_fn=collate_fn, batch_size=64, shuffle=False)\n",
    "test_loader = DataLoader(test, collate_fn=collate_fn, batch_size=64, shuffle=False)"
   ]
  },
  {
   "cell_type": "code",
   "execution_count": null,
   "metadata": {
    "tags": []
   },
   "outputs": [
    {
     "data": {
      "text/plain": [
       "['grabsch', 'schadt', 'richter', 'riedel', 'coudry']"
      ]
     },
     "execution_count": null,
     "metadata": {},
     "output_type": "execute_result"
    }
   ],
   "source": [
    "train.coders"
   ]
  },
  {
   "cell_type": "code",
   "execution_count": null,
   "metadata": {
    "tags": []
   },
   "outputs": [
    {
     "data": {
      "text/plain": [
       "4"
      ]
     },
     "execution_count": null,
     "metadata": {},
     "output_type": "execute_result"
    }
   ],
   "source": [
    "train.num_labels"
   ]
  },
  {
   "cell_type": "code",
   "execution_count": null,
   "metadata": {
    "tags": []
   },
   "outputs": [
    {
     "name": "stdout",
     "output_type": "stream",
     "text": [
      "epoch      loss        LR         score      score_meta\n",
      "-----------------------------------------------------------------\n"
     ]
    },
    {
     "data": {
      "application/vnd.jupyter.widget-view+json": {
       "model_id": "",
       "version_major": 2,
       "version_minor": 0
      },
      "text/plain": [
       "Epoch 1:   0%|          | 0/330 [00:00<?, ?it/s]"
      ]
     },
     "metadata": {},
     "output_type": "display_data"
    },
    {
     "name": "stdout",
     "output_type": "stream",
     "text": [
      "1          5.416       0.000009   0.6900     {0: 0.29327637, 1: 0.34079868, 2: 0.31137857, 3: 0.243601}\n"
     ]
    },
    {
     "data": {
      "application/vnd.jupyter.widget-view+json": {
       "model_id": "",
       "version_major": 2,
       "version_minor": 0
      },
      "text/plain": [
       "Epoch 2:   0%|          | 0/330 [00:00<?, ?it/s]"
      ]
     },
     "metadata": {},
     "output_type": "display_data"
    },
    {
     "name": "stderr",
     "output_type": "stream",
     "text": [
      "/pfs/data5/home/st/st_us-100270/st_ac138201/bert_populism/src/bert/utils.py:72: RuntimeWarning: invalid value encountered in divide\n",
      "  fscores = (2 * precision * recall) / (precision + recall)\n"
     ]
    },
    {
     "name": "stdout",
     "output_type": "stream",
     "text": [
      "2          3.566       0.000009   0.5550     {0: 0.30472243, 1: 0.39312005, 2: 0.33047506, 3: 0.9591235}\n"
     ]
    },
    {
     "data": {
      "application/vnd.jupyter.widget-view+json": {
       "model_id": "",
       "version_major": 2,
       "version_minor": 0
      },
      "text/plain": [
       "Epoch 3:   0%|          | 0/330 [00:00<?, ?it/s]"
      ]
     },
     "metadata": {},
     "output_type": "display_data"
    },
    {
     "name": "stderr",
     "output_type": "stream",
     "text": [
      "/pfs/data5/home/st/st_us-100270/st_ac138201/bert_populism/src/bert/utils.py:72: RuntimeWarning: invalid value encountered in divide\n",
      "  fscores = (2 * precision * recall) / (precision + recall)\n"
     ]
    },
    {
     "name": "stdout",
     "output_type": "stream",
     "text": [
      "3          2.641       0.000009   0.5606     {0: 0.5958861, 1: 0.380949, 2: 0.49105638, 3: 0.98364383}\n"
     ]
    },
    {
     "data": {
      "application/vnd.jupyter.widget-view+json": {
       "model_id": "",
       "version_major": 2,
       "version_minor": 0
      },
      "text/plain": [
       "Epoch 4:   0%|          | 0/330 [00:00<?, ?it/s]"
      ]
     },
     "metadata": {},
     "output_type": "display_data"
    },
    {
     "name": "stdout",
     "output_type": "stream",
     "text": [
      "4          1.740       0.000008   0.7290     {0: 0.42223817, 1: 0.45497906, 2: 0.28872433, 3: 0.053682033}\n"
     ]
    },
    {
     "data": {
      "application/vnd.jupyter.widget-view+json": {
       "model_id": "",
       "version_major": 2,
       "version_minor": 0
      },
      "text/plain": [
       "Epoch 5:   0%|          | 0/330 [00:00<?, ?it/s]"
      ]
     },
     "metadata": {},
     "output_type": "display_data"
    },
    {
     "name": "stdout",
     "output_type": "stream",
     "text": [
      "5          1.222       0.000008   0.7319     {0: 0.25937536, 1: 0.6706303, 2: 0.5638416, 3: 0.164134}\n"
     ]
    },
    {
     "data": {
      "application/vnd.jupyter.widget-view+json": {
       "model_id": "",
       "version_major": 2,
       "version_minor": 0
      },
      "text/plain": [
       "Epoch 6:   0%|          | 0/330 [00:00<?, ?it/s]"
      ]
     },
     "metadata": {},
     "output_type": "display_data"
    },
    {
     "name": "stdout",
     "output_type": "stream",
     "text": [
      "6          0.829       0.000007   0.7436     {0: 0.15712969, 1: 0.5346219, 2: 0.19867392, 3: 0.09746829}\n"
     ]
    },
    {
     "data": {
      "application/vnd.jupyter.widget-view+json": {
       "model_id": "",
       "version_major": 2,
       "version_minor": 0
      },
      "text/plain": [
       "Epoch 7:   0%|          | 0/330 [00:00<?, ?it/s]"
      ]
     },
     "metadata": {},
     "output_type": "display_data"
    },
    {
     "name": "stdout",
     "output_type": "stream",
     "text": [
      "7          0.601       0.000006   0.7413     {0: 0.45009318, 1: 0.3139537, 2: 0.24526045, 3: 0.2079964}\n"
     ]
    },
    {
     "data": {
      "application/vnd.jupyter.widget-view+json": {
       "model_id": "",
       "version_major": 2,
       "version_minor": 0
      },
      "text/plain": [
       "Epoch 8:   0%|          | 0/330 [00:00<?, ?it/s]"
      ]
     },
     "metadata": {},
     "output_type": "display_data"
    },
    {
     "name": "stdout",
     "output_type": "stream",
     "text": [
      "8          0.403       0.000005   0.7375     {0: 0.23274799, 1: 0.28421813, 2: 0.20090549, 3: 0.28468984}\n"
     ]
    },
    {
     "data": {
      "application/vnd.jupyter.widget-view+json": {
       "model_id": "",
       "version_major": 2,
       "version_minor": 0
      },
      "text/plain": [
       "Epoch 9:   0%|          | 0/330 [00:00<?, ?it/s]"
      ]
     },
     "metadata": {},
     "output_type": "display_data"
    },
    {
     "name": "stdout",
     "output_type": "stream",
     "text": [
      "9          0.294       0.000004   0.7337     {0: 0.67199904, 1: 0.33226287, 2: 0.26435283, 3: 0.33514825}\n"
     ]
    },
    {
     "data": {
      "application/vnd.jupyter.widget-view+json": {
       "model_id": "",
       "version_major": 2,
       "version_minor": 0
      },
      "text/plain": [
       "Epoch 10:   0%|          | 0/330 [00:00<?, ?it/s]"
      ]
     },
     "metadata": {},
     "output_type": "display_data"
    },
    {
     "name": "stdout",
     "output_type": "stream",
     "text": [
      "10         0.215       0.000003   0.7342     {0: 0.48007447, 1: 0.037389167, 2: 0.06950781, 3: 0.088775896}\n"
     ]
    },
    {
     "data": {
      "application/vnd.jupyter.widget-view+json": {
       "model_id": "",
       "version_major": 2,
       "version_minor": 0
      },
      "text/plain": [
       "Epoch 11:   0%|          | 0/330 [00:00<?, ?it/s]"
      ]
     },
     "metadata": {},
     "output_type": "display_data"
    },
    {
     "name": "stdout",
     "output_type": "stream",
     "text": [
      "11         0.170       0.000003   0.7328     {0: 0.2947924, 1: 0.47270703, 2: 0.04146539, 3: 0.055548627}\n"
     ]
    },
    {
     "data": {
      "application/vnd.jupyter.widget-view+json": {
       "model_id": "",
       "version_major": 2,
       "version_minor": 0
      },
      "text/plain": [
       "Epoch 12:   0%|          | 0/330 [00:00<?, ?it/s]"
      ]
     },
     "metadata": {},
     "output_type": "display_data"
    },
    {
     "name": "stdout",
     "output_type": "stream",
     "text": [
      "12         0.165       0.000002   0.7368     {0: 0.5641429, 1: 0.21469122, 2: 0.06700835, 3: 0.044898875}\n"
     ]
    },
    {
     "data": {
      "application/vnd.jupyter.widget-view+json": {
       "model_id": "",
       "version_major": 2,
       "version_minor": 0
      },
      "text/plain": [
       "Epoch 13:   0%|          | 0/330 [00:00<?, ?it/s]"
      ]
     },
     "metadata": {},
     "output_type": "display_data"
    },
    {
     "name": "stdout",
     "output_type": "stream",
     "text": [
      "13         0.132       0.000001   0.7294     {0: 0.26046485, 1: 0.39254162, 2: 0.045209806, 3: 0.04642019}\n"
     ]
    },
    {
     "data": {
      "application/vnd.jupyter.widget-view+json": {
       "model_id": "",
       "version_major": 2,
       "version_minor": 0
      },
      "text/plain": [
       "Epoch 14:   0%|          | 0/330 [00:00<?, ?it/s]"
      ]
     },
     "metadata": {},
     "output_type": "display_data"
    },
    {
     "name": "stdout",
     "output_type": "stream",
     "text": [
      "14         0.111       0.000001   0.7370     {0: 0.40245926, 1: 0.12584877, 2: 0.036415488, 3: 0.08278702}\n"
     ]
    },
    {
     "data": {
      "application/vnd.jupyter.widget-view+json": {
       "model_id": "",
       "version_major": 2,
       "version_minor": 0
      },
      "text/plain": [
       "Epoch 15:   0%|          | 0/330 [00:00<?, ?it/s]"
      ]
     },
     "metadata": {},
     "output_type": "display_data"
    },
    {
     "name": "stdout",
     "output_type": "stream",
     "text": [
      "15         0.105       0.000001   0.7370     {0: 0.2621143, 1: 0.20370445, 2: 0.49065122, 3: 0.04641365}\n"
     ]
    }
   ],
   "source": [
    "model = module.BertSingleTaskMultiLabel(num_labels=train.num_labels, name=BASE_MODEL)\n",
    "model.train()\n",
    "model = model.to(DEVICE)\n",
    "model.set_seed()\n",
    "\n",
    "optimizer = torch.optim.AdamW(\n",
    "    model.parameters(),\n",
    "    lr=LR,\n",
    "    amsgrad=False,\n",
    "    weight_decay=1e-2,\n",
    ")\n",
    "\n",
    "lr_scheduler = torch.optim.lr_scheduler.CosineAnnealingLR(\n",
    "    optimizer,\n",
    "    T_max=N_EPOCHS,\n",
    "    eta_min=LR / 20,\n",
    ")\n",
    "\n",
    "print(\"epoch\" + \" \" * 6 + \"loss\" + \" \" * 8 + \"LR\" + \" \" * 9 + \"score\" + \" \" * 6 + \"score_meta\")\n",
    "print(\"-\" * 65)\n",
    "\n",
    "for epoch in range(1, N_EPOCHS + 1):\n",
    "    epoch_loss = 0.0\n",
    "    val_loss = 0.0\n",
    "    current_lr = optimizer.state_dict()[\"param_groups\"][0][\"lr\"]\n",
    "    for batch in tqdm(train_loader, leave=False, desc=f\"Epoch {epoch}\"):\n",
    "        encodings = batch[\"encodings\"].to(DEVICE)\n",
    "        labels = batch[\"labels\"].to(DEVICE)\n",
    "        loss, _ = model(**encodings, labels=labels)\n",
    "\n",
    "        optimizer.zero_grad()\n",
    "        loss.backward()\n",
    "        optimizer.step()\n",
    "        epoch_loss += loss.item()\n",
    "\n",
    "    lr_scheduler.step()\n",
    "\n",
    "    model.eval()\n",
    "    with torch.inference_mode():\n",
    "        y_true, y_pred = [], []\n",
    "        for batch in valid_loader:\n",
    "            encodings = batch[\"encodings\"]\n",
    "            encodings = encodings.to(DEVICE)\n",
    "            predictions = model.predict_proba(encodings)\n",
    "            y_true.extend(batch[\"vote\"])\n",
    "            y_pred.extend(predictions)\n",
    "\n",
    "        thresh_finder = bert_utils.ThresholdFinder(\n",
    "            method=model.threshold_type, type=model.model_type\n",
    "        )\n",
    "        thresholds = thresh_finder.find_thresholds(np.array(y_true), np.array(y_pred))\n",
    "\n",
    "        y_true, y_pred = [], []\n",
    "        for batch in test_loader:\n",
    "            encodings = batch[\"encodings\"]\n",
    "            encodings = encodings.to(DEVICE)\n",
    "            predictions = model.predict_proba(encodings)\n",
    "            y_true.extend(batch[\"vote\"])\n",
    "            y_pred.extend(predictions)\n",
    "\n",
    "    score = model.score(np.array(y_true), np.array(y_pred), thresholds=thresholds)\n",
    "    epoch_loss /= int(len(train_loader) / BATCH_SIZE)\n",
    "    print(\n",
    "        f\"{epoch:<10} {epoch_loss:<11.3f} {current_lr:<10.6f} {score['score']:<10.4f} {str(thresholds):<10}\"\n",
    "    )\n",
    "    model.train()"
   ]
  },
  {
   "cell_type": "code",
   "execution_count": null,
   "metadata": {
    "tags": []
   },
   "outputs": [],
   "source": [
    "model = model.eval()\n",
    "\n",
    "with torch.inference_mode():\n",
    "    y_true = []\n",
    "    y_proba = []\n",
    "    for batch in test_loader:\n",
    "        encodings = batch[\"encodings\"]\n",
    "        encodings = encodings.to(DEVICE)\n",
    "        predictions = model.predict_proba(encodings)\n",
    "        y_true.extend(batch[\"vote\"])\n",
    "        y_proba.extend(predictions)\n",
    "\n",
    "y_pred = [model.vote(y, threshold=thresholds) for y in y_proba]"
   ]
  },
  {
   "cell_type": "code",
   "execution_count": null,
   "metadata": {
    "tags": []
   },
   "outputs": [
    {
     "name": "stdout",
     "output_type": "stream",
     "text": [
      "              precision    recall  f1-score   support\n",
      "\n",
      "       elite       0.80      0.89      0.84       656\n",
      "       centr       0.64      0.75      0.69       335\n",
      "        left       0.74      0.70      0.72       276\n",
      "       right       0.63      0.76      0.69       153\n",
      "\n",
      "   micro avg       0.73      0.81      0.77      1420\n",
      "   macro avg       0.70      0.78      0.74      1420\n",
      "weighted avg       0.73      0.81      0.77      1420\n",
      " samples avg       0.41      0.41      0.40      1420\n",
      "\n"
     ]
    }
   ],
   "source": [
    "print(classification_report(y_true, y_pred, target_names=train.labels, zero_division=0))"
   ]
  },
  {
   "cell_type": "code",
   "execution_count": null,
   "metadata": {
    "tags": []
   },
   "outputs": [],
   "source": [
    "with Session(engine) as s:\n",
    "    max_batch = s.query(bm.Sample).with_entities(func.max(bm.Sample.used_in_batch)).scalar()\n",
    "    print(max_batch)"
   ]
  },
  {
   "cell_type": "code",
   "execution_count": null,
   "metadata": {
    "tags": []
   },
   "outputs": [],
   "source": [
    "torch.save(model, src.PATH / f\"tmp/model_min1_popideol_v9.1.model\")"
   ]
  }
 ],
 "metadata": {
  "kernelspec": {
   "display_name": "bert_populism",
   "language": "python",
   "name": "bert_populism"
  },
  "language_info": {
   "codemirror_mode": {
    "name": "ipython",
    "version": 3
   },
   "file_extension": ".py",
   "mimetype": "text/x-python",
   "name": "python",
   "nbconvert_exporter": "python",
   "pygments_lexer": "ipython3",
   "version": "3.9.1"
  }
 },
 "nbformat": 4,
 "nbformat_minor": 4
}
