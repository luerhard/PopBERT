{
 "cells": [
  {
   "cell_type": "code",
   "execution_count": null,
   "metadata": {
    "tags": []
   },
   "outputs": [],
   "source": [
    "%load_ext autoreload\n",
    "%autoreload 2"
   ]
  },
  {
   "cell_type": "code",
   "execution_count": null,
   "metadata": {
    "tags": []
   },
   "outputs": [],
   "source": [
    "from collections import defaultdict\n",
    "\n",
    "import numpy as np\n",
    "import torch\n",
    "from sklearn.metrics import classification_report\n",
    "from sqlalchemy import func\n",
    "from sqlalchemy.orm import Session\n",
    "from torch.utils.data import DataLoader\n",
    "from tqdm.auto import tqdm\n",
    "from transformers import AutoTokenizer\n",
    "from transformers import logging\n",
    "\n",
    "import src\n",
    "import src.db\n",
    "from src.bert import module\n",
    "from src.bert.dataset import PBertDataset\n",
    "from src.bert.dataset import strategies\n",
    "from src.db.models import bert_data as bm\n",
    "from src.utils.metrics import custom_f1_score"
   ]
  },
  {
   "cell_type": "code",
   "execution_count": null,
   "metadata": {
    "tags": []
   },
   "outputs": [],
   "source": [
    "engine = src.db.make_engine(\"DB\")"
   ]
  },
  {
   "cell_type": "code",
   "execution_count": null,
   "metadata": {
    "tags": []
   },
   "outputs": [],
   "source": [
    "logging.set_verbosity_error()\n",
    "\n",
    "# model hyper-parameters\n",
    "LR = 1e-5\n",
    "N_EPOCHS = 15\n",
    "BATCH_SIZE = 8\n",
    "\n",
    "TOKENIZER = \"deepset/gbert-large\"\n",
    "BASE_MODEL = \"deepset/gbert-large\"\n",
    "\n",
    "STRATEGY = strategies.MLPopBinIdeol(output_fmt=\"multi_task\")\n",
    "\n",
    "DEVICE = \"cuda\"\n",
    "\n",
    "EXCLUDE_CODERS = []"
   ]
  },
  {
   "cell_type": "code",
   "execution_count": null,
   "metadata": {
    "tags": []
   },
   "outputs": [],
   "source": [
    "train = PBertDataset.from_disk(\n",
    "    src.PATH / \"data/bert/train.csv.zip\",\n",
    "    label_strategy=STRATEGY,\n",
    "    exclude_coders=EXCLUDE_CODERS,\n",
    ")\n",
    "\n",
    "\n",
    "test = PBertDataset.from_disk(\n",
    "    src.PATH / \"data/bert/test.csv.zip\",\n",
    "    label_strategy=STRATEGY,\n",
    "    exclude_coders=EXCLUDE_CODERS,\n",
    ")\n",
    "val = PBertDataset.from_disk(\n",
    "    src.PATH / \"data/bert/validation.csv.zip\",\n",
    "    label_strategy=STRATEGY,\n",
    "    exclude_coders=EXCLUDE_CODERS,\n",
    ")"
   ]
  },
  {
   "cell_type": "code",
   "execution_count": null,
   "metadata": {
    "tags": []
   },
   "outputs": [
    {
     "data": {
      "text/plain": [
       "(5277, 1759, 1759)"
      ]
     },
     "execution_count": null,
     "metadata": {},
     "output_type": "execute_result"
    }
   ],
   "source": [
    "len(train), len(test), len(val)"
   ]
  },
  {
   "cell_type": "code",
   "execution_count": null,
   "metadata": {
    "tags": []
   },
   "outputs": [],
   "source": [
    "tokenizer = AutoTokenizer.from_pretrained(TOKENIZER)\n",
    "model = module.BertMultiTaskMultiLabel(\n",
    "    num_tasks=train.num_coders, num_labels=train.num_labels, name=BASE_MODEL\n",
    ")"
   ]
  },
  {
   "cell_type": "code",
   "execution_count": null,
   "metadata": {
    "tags": []
   },
   "outputs": [],
   "source": [
    "collate_fn = train.create_collate_fn(tokenizer)\n",
    "\n",
    "train_loader = DataLoader(train, collate_fn=collate_fn, batch_size=BATCH_SIZE, shuffle=True)\n",
    "valid_loader = DataLoader(val, collate_fn=collate_fn, batch_size=64, shuffle=False)\n",
    "test_loader = DataLoader(test, collate_fn=collate_fn, batch_size=64, shuffle=False)"
   ]
  },
  {
   "cell_type": "code",
   "execution_count": null,
   "metadata": {
    "tags": []
   },
   "outputs": [
    {
     "data": {
      "text/plain": [
       "['grabsch', 'schadt', 'richter', 'riedel', 'coudry']"
      ]
     },
     "execution_count": null,
     "metadata": {},
     "output_type": "execute_result"
    }
   ],
   "source": [
    "train.coders"
   ]
  },
  {
   "cell_type": "code",
   "execution_count": null,
   "metadata": {
    "tags": []
   },
   "outputs": [
    {
     "name": "stdout",
     "output_type": "stream",
     "text": [
      "epoch      loss        LR         score      score_meta\n",
      "-----------------------------------------------------------------\n"
     ]
    },
    {
     "data": {
      "application/vnd.jupyter.widget-view+json": {
       "model_id": "",
       "version_major": 2,
       "version_minor": 0
      },
      "text/plain": [
       "Epoch 1:   0%|          | 0/660 [00:00<?, ?it/s]"
      ]
     },
     "metadata": {},
     "output_type": "display_data"
    },
    {
     "name": "stdout",
     "output_type": "stream",
     "text": [
      "1          10.972      0.000010   0.4127     {0: {0: 0.3, 1: 0.3, 2: 0.15}, 1: {0: 0.3, 1: 0.3, 2: 0.2}, 2: {0: 0.5, 1: 0.4, 2: 0.15}, 3: {0: 0.55, 1: 0.45, 2: 0.25}, 4: {0: 0.45, 1: 0.4, 2: 0.2}}\n"
     ]
    },
    {
     "data": {
      "application/vnd.jupyter.widget-view+json": {
       "model_id": "",
       "version_major": 2,
       "version_minor": 0
      },
      "text/plain": [
       "Epoch 2:   0%|          | 0/660 [00:00<?, ?it/s]"
      ]
     },
     "metadata": {},
     "output_type": "display_data"
    },
    {
     "name": "stdout",
     "output_type": "stream",
     "text": [
      "2          8.407       0.000010   0.5486     {0: {0: 0.4, 1: 0.3, 2: 0.25}, 1: {0: 0.35, 1: 0.35, 2: 0.2}, 2: {0: 0.4, 1: 0.4, 2: 0.15}, 3: {0: 0.5, 1: 0.35, 2: 0.15}, 4: {0: 0.5, 1: 0.4, 2: 0.15}}\n"
     ]
    },
    {
     "data": {
      "application/vnd.jupyter.widget-view+json": {
       "model_id": "",
       "version_major": 2,
       "version_minor": 0
      },
      "text/plain": [
       "Epoch 3:   0%|          | 0/660 [00:00<?, ?it/s]"
      ]
     },
     "metadata": {},
     "output_type": "display_data"
    },
    {
     "name": "stdout",
     "output_type": "stream",
     "text": [
      "3          6.833       0.000010   0.5465     {0: {0: 0.4, 1: 0.2, 2: 0.2}, 1: {0: 0.3, 1: 0.4, 2: 0.4}, 2: {0: 0.35, 1: 0.3, 2: 0.25}, 3: {0: 0.35, 1: 0.4, 2: 0.3}, 4: {0: 0.3, 1: 0.4, 2: 0.25}}\n"
     ]
    },
    {
     "data": {
      "application/vnd.jupyter.widget-view+json": {
       "model_id": "",
       "version_major": 2,
       "version_minor": 0
      },
      "text/plain": [
       "Epoch 4:   0%|          | 0/660 [00:00<?, ?it/s]"
      ]
     },
     "metadata": {},
     "output_type": "display_data"
    },
    {
     "name": "stdout",
     "output_type": "stream",
     "text": [
      "4          5.879       0.000009   0.5750     {0: {0: 0.4, 1: 0.15, 2: 0.2}, 1: {0: 0.4, 1: 0.25, 2: 0.25}, 2: {0: 0.55, 1: 0.35, 2: 0.15}, 3: {0: 0.55, 1: 0.55, 2: 0.2}, 4: {0: 0.55, 1: 0.4, 2: 0.15}}\n"
     ]
    },
    {
     "data": {
      "application/vnd.jupyter.widget-view+json": {
       "model_id": "31cf015fe203479ebd1a28091b5d2247",
       "version_major": 2,
       "version_minor": 0
      },
      "text/plain": [
       "Epoch 5:   0%|          | 0/660 [00:00<?, ?it/s]"
      ]
     },
     "metadata": {},
     "output_type": "display_data"
    },
    {
     "ename": "KeyboardInterrupt",
     "evalue": "",
     "output_type": "error",
     "traceback": [
      "\u001b[0;31m---------------------------------------------------------------------------\u001b[0m",
      "\u001b[0;31mKeyboardInterrupt\u001b[0m                         Traceback (most recent call last)",
      "Cell \u001b[0;32mIn[9], line 32\u001b[0m\n\u001b[1;32m     30\u001b[0m     loss\u001b[38;5;241m.\u001b[39mbackward()\n\u001b[1;32m     31\u001b[0m     optimizer\u001b[38;5;241m.\u001b[39mstep()\n\u001b[0;32m---> 32\u001b[0m     epoch_loss \u001b[38;5;241m+\u001b[39m\u001b[38;5;241m=\u001b[39m \u001b[43mloss\u001b[49m\u001b[38;5;241;43m.\u001b[39;49m\u001b[43mitem\u001b[49m\u001b[43m(\u001b[49m\u001b[43m)\u001b[49m\n\u001b[1;32m     34\u001b[0m lr_scheduler\u001b[38;5;241m.\u001b[39mstep()\n\u001b[1;32m     36\u001b[0m model\u001b[38;5;241m.\u001b[39meval()\n",
      "\u001b[0;31mKeyboardInterrupt\u001b[0m: "
     ]
    }
   ],
   "source": [
    "model.train()\n",
    "model = model.to(DEVICE)\n",
    "model.set_seed()\n",
    "\n",
    "optimizer = torch.optim.AdamW(\n",
    "    model.parameters(),\n",
    "    lr=LR,\n",
    "    amsgrad=False,\n",
    "    weight_decay=1e-2,\n",
    ")\n",
    "\n",
    "lr_scheduler = torch.optim.lr_scheduler.CosineAnnealingLR(\n",
    "    optimizer,\n",
    "    T_max=N_EPOCHS,\n",
    "    eta_min=LR / 10,\n",
    ")\n",
    "\n",
    "print(\"epoch\" + \" \" * 6 + \"loss\" + \" \" * 8 + \"LR\" + \" \" * 9 + \"score\" + \" \" * 6 + \"score_meta\")\n",
    "print(\"-\" * 65)\n",
    "\n",
    "for epoch in range(1, N_EPOCHS + 1):\n",
    "    epoch_loss = 0.0\n",
    "    current_lr = optimizer.state_dict()[\"param_groups\"][0][\"lr\"]\n",
    "    for batch in tqdm(train_loader, leave=False, desc=f\"Epoch {epoch}\"):\n",
    "        encodings = batch[\"encodings\"].to(DEVICE)\n",
    "        labels = batch[\"labels\"].to(DEVICE)\n",
    "        loss, _ = model(**encodings, labels=labels)\n",
    "\n",
    "        optimizer.zero_grad()\n",
    "        loss.backward()\n",
    "        optimizer.step()\n",
    "        epoch_loss += loss.item()\n",
    "\n",
    "    lr_scheduler.step()\n",
    "\n",
    "    model.eval()\n",
    "    preds = defaultdict(list)\n",
    "    with torch.inference_mode():\n",
    "        for batch in test_loader:\n",
    "            encodings = batch[\"encodings\"]\n",
    "            encodings = encodings.to(DEVICE)\n",
    "            predictions = model.predict_proba(encodings)\n",
    "            preds[\"y_vote_test\"].extend(batch[\"vote\"])\n",
    "            preds[\"y_labels_test\"].extend(batch[\"labels\"].detach().numpy())\n",
    "            preds[\"y_probas_test\"].extend(predictions)\n",
    "\n",
    "        for batch in valid_loader:\n",
    "            encodings = batch[\"encodings\"]\n",
    "            encodings = encodings.to(DEVICE)\n",
    "            predictions = model.predict_proba(encodings)\n",
    "            preds[\"y_vote_val\"].extend(batch[\"vote\"])\n",
    "            preds[\"y_labels_val\"].extend(batch[\"labels\"].detach().numpy())\n",
    "            preds[\"y_probas_val\"].extend(predictions)\n",
    "\n",
    "    score = model.score(preds)\n",
    "    check_score = model.score(preds, threshold_method=\"per_label\")\n",
    "    print(check_score)\n",
    "    epoch_loss /= int(len(train_loader) / BATCH_SIZE)\n",
    "    print(\n",
    "        f\"{epoch:<10} {epoch_loss:<11.3f} {current_lr:<10.6f} {score['score']:<10.4f} {score['score_meta']:<10}\"\n",
    "    )\n",
    "    model.train()"
   ]
  },
  {
   "cell_type": "code",
   "execution_count": null,
   "metadata": {
    "tags": []
   },
   "outputs": [],
   "source": [
    "model = model.eval()\n",
    "\n",
    "thresh = eval(score[\"score_meta\"])\n",
    "\n",
    "with torch.inference_mode():\n",
    "    y_true = []\n",
    "    y_proba = []\n",
    "    for batch in test_loader:\n",
    "        encodings = batch[\"encodings\"]\n",
    "        encodings = encodings.to(DEVICE)\n",
    "        predictions = model.predict_proba(encodings)\n",
    "        y_true.extend(batch[\"vote\"])\n",
    "        y_proba.extend(predictions)\n",
    "\n",
    "y_pred = [model.vote(y, threshold=thresh) for y in y_proba]"
   ]
  },
  {
   "cell_type": "code",
   "execution_count": null,
   "metadata": {
    "tags": []
   },
   "outputs": [
    {
     "name": "stdout",
     "output_type": "stream",
     "text": [
      "              precision    recall  f1-score   support\n",
      "\n",
      "         pop       0.60      0.66      0.63       341\n",
      "        left       0.42      0.59      0.49        76\n",
      "       right       0.51      0.53      0.52        34\n",
      "\n",
      "   micro avg       0.56      0.64      0.60       451\n",
      "   macro avg       0.51      0.59      0.55       451\n",
      "weighted avg       0.57      0.64      0.60       451\n",
      " samples avg       0.12      0.13      0.12       451\n",
      "\n"
     ]
    }
   ],
   "source": [
    "print(classification_report(y_true, y_pred, target_names=train.labels, zero_division=0))"
   ]
  },
  {
   "cell_type": "code",
   "execution_count": null,
   "metadata": {},
   "outputs": [
    {
     "name": "stdout",
     "output_type": "stream",
     "text": [
      "all labels: 0.608\n",
      "pop general: 0.537\n",
      "pop left: 0.476\n",
      "pop right: 0.515\n"
     ]
    }
   ],
   "source": [
    "print(\n",
    "    \"all labels: {:.3f}\".format(\n",
    "        custom_f1_score(y_true, y_pred, labels=[(1, 0, 0), (1, 1, 0), (1, 0, 1), (0, 0, 0)])\n",
    "    )\n",
    ")\n",
    "print(\"pop general: {:.3f}\".format(custom_f1_score(y_true, y_pred, labels=[(1, 0, 0)])))\n",
    "print(\"pop left: {:.3f}\".format(custom_f1_score(y_true, y_pred, labels=[(1, 1, 0)])))\n",
    "print(\"pop right: {:.3f}\".format(custom_f1_score(y_true, y_pred, labels=[(1, 0, 1)])))"
   ]
  },
  {
   "cell_type": "code",
   "execution_count": null,
   "metadata": {
    "tags": []
   },
   "outputs": [
    {
     "name": "stdout",
     "output_type": "stream",
     "text": [
      "9\n"
     ]
    }
   ],
   "source": [
    "with Session(engine) as s:\n",
    "    max_batch = s.query(bm.Sample).with_entities(func.max(bm.Sample.used_in_batch)).scalar()\n",
    "    print(max_batch)"
   ]
  },
  {
   "cell_type": "code",
   "execution_count": null,
   "metadata": {
    "tags": []
   },
   "outputs": [],
   "source": [
    "# torch.save(model, src.PATH / f\"tmp/model_v8.4.model\")"
   ]
  }
 ],
 "metadata": {
  "kernelspec": {
   "display_name": "bert_populism",
   "language": "python",
   "name": "bert_populism"
  },
  "language_info": {
   "codemirror_mode": {
    "name": "ipython",
    "version": 3
   },
   "file_extension": ".py",
   "mimetype": "text/x-python",
   "name": "python",
   "nbconvert_exporter": "python",
   "pygments_lexer": "ipython3",
   "version": "3.9.1"
  }
 },
 "nbformat": 4,
 "nbformat_minor": 4
}
