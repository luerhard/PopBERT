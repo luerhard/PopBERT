{
 "cells": [
  {
   "cell_type": "code",
   "execution_count": null,
   "metadata": {
    "tags": []
   },
   "outputs": [],
   "source": [
    "%load_ext autoreload\n",
    "%autoreload 2"
   ]
  },
  {
   "cell_type": "code",
   "execution_count": null,
   "metadata": {
    "tags": []
   },
   "outputs": [],
   "source": [
    "from collections import defaultdict\n",
    "\n",
    "import numpy as np\n",
    "import torch\n",
    "from sklearn.metrics import classification_report\n",
    "from sqlalchemy import func\n",
    "from sqlalchemy.orm import Session\n",
    "from torch.utils.data import DataLoader\n",
    "from tqdm.auto import tqdm\n",
    "from transformers import AutoTokenizer\n",
    "from transformers import logging\n",
    "\n",
    "import src\n",
    "import src.db\n",
    "from src.bert import module\n",
    "from src.bert.dataset import PBertDataset\n",
    "from src.bert.dataset import strategies\n",
    "from src.db.models import bert_data as bm\n",
    "from src.utils.metrics import custom_f1_score"
   ]
  },
  {
   "cell_type": "code",
   "execution_count": null,
   "metadata": {
    "tags": []
   },
   "outputs": [],
   "source": [
    "engine = src.db.make_engine(\"DB\")"
   ]
  },
  {
   "cell_type": "code",
   "execution_count": null,
   "metadata": {
    "tags": []
   },
   "outputs": [],
   "source": [
    "logging.set_verbosity_error()\n",
    "\n",
    "# model hyper-parameters\n",
    "LR = 9e-6\n",
    "N_EPOCHS = 13\n",
    "BATCH_SIZE = 16\n",
    "\n",
    "TOKENIZER = \"deepset/gbert-large\"\n",
    "BASE_MODEL = \"deepset/gbert-large\"\n",
    "\n",
    "STRATEGY = strategies.MLMin1PopBinIdeol(output_fmt=\"single_task\")\n",
    "\n",
    "DEVICE = \"cuda\"\n",
    "\n",
    "EXCLUDE_CODERS = []"
   ]
  },
  {
   "cell_type": "code",
   "execution_count": null,
   "metadata": {
    "tags": []
   },
   "outputs": [],
   "source": [
    "train = PBertDataset.from_disk(\n",
    "    src.PATH / \"data/bert/train.csv.zip\",\n",
    "    label_strategy=STRATEGY,\n",
    "    exclude_coders=EXCLUDE_CODERS,\n",
    ")\n",
    "test = PBertDataset.from_disk(\n",
    "    src.PATH / \"data/bert/test.csv.zip\",\n",
    "    label_strategy=STRATEGY,\n",
    "    exclude_coders=EXCLUDE_CODERS,\n",
    ")\n",
    "val = PBertDataset.from_disk(\n",
    "    src.PATH / \"data/bert/validation.csv.zip\",\n",
    "    label_strategy=STRATEGY,\n",
    "    exclude_coders=EXCLUDE_CODERS,\n",
    ")"
   ]
  },
  {
   "cell_type": "code",
   "execution_count": null,
   "metadata": {
    "tags": []
   },
   "outputs": [
    {
     "data": {
      "text/plain": [
       "(5277, 1759, 1759)"
      ]
     },
     "execution_count": null,
     "metadata": {},
     "output_type": "execute_result"
    }
   ],
   "source": [
    "len(train), len(test), len(val)"
   ]
  },
  {
   "cell_type": "code",
   "execution_count": null,
   "metadata": {
    "tags": []
   },
   "outputs": [],
   "source": [
    "tokenizer = AutoTokenizer.from_pretrained(TOKENIZER)\n",
    "model = module.BertSingleTaskMultiLabel(num_labels=train.num_labels, name=BASE_MODEL)"
   ]
  },
  {
   "cell_type": "code",
   "execution_count": null,
   "metadata": {
    "tags": []
   },
   "outputs": [],
   "source": [
    "collate_fn = train.create_collate_fn(tokenizer)\n",
    "\n",
    "train_loader = DataLoader(train, collate_fn=collate_fn, batch_size=BATCH_SIZE, shuffle=True)\n",
    "valid_loader = DataLoader(val, collate_fn=collate_fn, batch_size=64, shuffle=False)\n",
    "test_loader = DataLoader(test, collate_fn=collate_fn, batch_size=64, shuffle=False)"
   ]
  },
  {
   "cell_type": "code",
   "execution_count": null,
   "metadata": {
    "tags": []
   },
   "outputs": [
    {
     "data": {
      "text/plain": [
       "['grabsch', 'schadt', 'richter', 'riedel', 'coudry']"
      ]
     },
     "execution_count": null,
     "metadata": {},
     "output_type": "execute_result"
    }
   ],
   "source": [
    "train.coders"
   ]
  },
  {
   "cell_type": "code",
   "execution_count": null,
   "metadata": {
    "tags": []
   },
   "outputs": [
    {
     "name": "stdout",
     "output_type": "stream",
     "text": [
      "epoch      loss        LR         score      score_meta\n",
      "-----------------------------------------------------------------\n"
     ]
    },
    {
     "data": {
      "application/vnd.jupyter.widget-view+json": {
       "model_id": "",
       "version_major": 2,
       "version_minor": 0
      },
      "text/plain": [
       "Epoch 1:   0%|          | 0/330 [00:00<?, ?it/s]"
      ]
     },
     "metadata": {},
     "output_type": "display_data"
    },
    {
     "name": "stdout",
     "output_type": "stream",
     "text": [
      "1          6.025       0.000009   0.6445     {0: 0.7, 1: 0.15, 2: 0.25}\n"
     ]
    },
    {
     "data": {
      "application/vnd.jupyter.widget-view+json": {
       "model_id": "",
       "version_major": 2,
       "version_minor": 0
      },
      "text/plain": [
       "Epoch 2:   0%|          | 0/330 [00:00<?, ?it/s]"
      ]
     },
     "metadata": {},
     "output_type": "display_data"
    },
    {
     "name": "stdout",
     "output_type": "stream",
     "text": [
      "2          4.129       0.000009   0.6892     {0: 0.7, 1: 0.35, 2: 0.25}\n"
     ]
    },
    {
     "data": {
      "application/vnd.jupyter.widget-view+json": {
       "model_id": "",
       "version_major": 2,
       "version_minor": 0
      },
      "text/plain": [
       "Epoch 3:   0%|          | 0/330 [00:00<?, ?it/s]"
      ]
     },
     "metadata": {},
     "output_type": "display_data"
    },
    {
     "name": "stdout",
     "output_type": "stream",
     "text": [
      "3          2.861       0.000009   0.7293     {0: 0.7, 1: 0.15, 2: 0.7}\n"
     ]
    },
    {
     "data": {
      "application/vnd.jupyter.widget-view+json": {
       "model_id": "",
       "version_major": 2,
       "version_minor": 0
      },
      "text/plain": [
       "Epoch 4:   0%|          | 0/330 [00:00<?, ?it/s]"
      ]
     },
     "metadata": {},
     "output_type": "display_data"
    },
    {
     "name": "stdout",
     "output_type": "stream",
     "text": [
      "4          1.923       0.000008   0.7347     {0: 0.7, 1: 0.35, 2: 0.25}\n"
     ]
    },
    {
     "data": {
      "application/vnd.jupyter.widget-view+json": {
       "model_id": "",
       "version_major": 2,
       "version_minor": 0
      },
      "text/plain": [
       "Epoch 5:   0%|          | 0/330 [00:00<?, ?it/s]"
      ]
     },
     "metadata": {},
     "output_type": "display_data"
    },
    {
     "name": "stdout",
     "output_type": "stream",
     "text": [
      "5          1.163       0.000007   0.7527     {0: 0.7, 1: 0.15, 2: 0.25}\n"
     ]
    },
    {
     "data": {
      "application/vnd.jupyter.widget-view+json": {
       "model_id": "",
       "version_major": 2,
       "version_minor": 0
      },
      "text/plain": [
       "Epoch 6:   0%|          | 0/330 [00:00<?, ?it/s]"
      ]
     },
     "metadata": {},
     "output_type": "display_data"
    },
    {
     "name": "stdout",
     "output_type": "stream",
     "text": [
      "6          0.686       0.000006   0.7449     {0: 0.7, 1: 0.15, 2: 0.4}\n"
     ]
    },
    {
     "data": {
      "application/vnd.jupyter.widget-view+json": {
       "model_id": "",
       "version_major": 2,
       "version_minor": 0
      },
      "text/plain": [
       "Epoch 7:   0%|          | 0/330 [00:00<?, ?it/s]"
      ]
     },
     "metadata": {},
     "output_type": "display_data"
    },
    {
     "name": "stdout",
     "output_type": "stream",
     "text": [
      "7          0.448       0.000005   0.7340     {0: 0.7, 1: 0.15, 2: 0.55}\n"
     ]
    },
    {
     "data": {
      "application/vnd.jupyter.widget-view+json": {
       "model_id": "",
       "version_major": 2,
       "version_minor": 0
      },
      "text/plain": [
       "Epoch 8:   0%|          | 0/330 [00:00<?, ?it/s]"
      ]
     },
     "metadata": {},
     "output_type": "display_data"
    },
    {
     "name": "stdout",
     "output_type": "stream",
     "text": [
      "8          0.303       0.000004   0.7478     {0: 0.7, 1: 0.15, 2: 0.7}\n"
     ]
    },
    {
     "data": {
      "application/vnd.jupyter.widget-view+json": {
       "model_id": "",
       "version_major": 2,
       "version_minor": 0
      },
      "text/plain": [
       "Epoch 9:   0%|          | 0/330 [00:00<?, ?it/s]"
      ]
     },
     "metadata": {},
     "output_type": "display_data"
    },
    {
     "name": "stdout",
     "output_type": "stream",
     "text": [
      "9          0.241       0.000004   0.7473     {0: 0.7, 1: 0.15, 2: 0.25}\n"
     ]
    },
    {
     "data": {
      "application/vnd.jupyter.widget-view+json": {
       "model_id": "",
       "version_major": 2,
       "version_minor": 0
      },
      "text/plain": [
       "Epoch 10:   0%|          | 0/330 [00:00<?, ?it/s]"
      ]
     },
     "metadata": {},
     "output_type": "display_data"
    },
    {
     "name": "stdout",
     "output_type": "stream",
     "text": [
      "10         0.152       0.000003   0.7491     {0: 0.7, 1: 0.15, 2: 0.6}\n"
     ]
    },
    {
     "data": {
      "application/vnd.jupyter.widget-view+json": {
       "model_id": "",
       "version_major": 2,
       "version_minor": 0
      },
      "text/plain": [
       "Epoch 11:   0%|          | 0/330 [00:00<?, ?it/s]"
      ]
     },
     "metadata": {},
     "output_type": "display_data"
    },
    {
     "name": "stdout",
     "output_type": "stream",
     "text": [
      "11         0.137       0.000002   0.7497     {0: 0.7, 1: 0.15, 2: 0.45}\n"
     ]
    },
    {
     "data": {
      "application/vnd.jupyter.widget-view+json": {
       "model_id": "",
       "version_major": 2,
       "version_minor": 0
      },
      "text/plain": [
       "Epoch 12:   0%|          | 0/330 [00:00<?, ?it/s]"
      ]
     },
     "metadata": {},
     "output_type": "display_data"
    },
    {
     "name": "stdout",
     "output_type": "stream",
     "text": [
      "12         0.101       0.000001   0.7492     {0: 0.7, 1: 0.2, 2: 0.15}\n"
     ]
    },
    {
     "data": {
      "application/vnd.jupyter.widget-view+json": {
       "model_id": "",
       "version_major": 2,
       "version_minor": 0
      },
      "text/plain": [
       "Epoch 13:   0%|          | 0/330 [00:00<?, ?it/s]"
      ]
     },
     "metadata": {},
     "output_type": "display_data"
    },
    {
     "name": "stdout",
     "output_type": "stream",
     "text": [
      "13         0.080       0.000001   0.7472     {0: 0.7, 1: 0.15, 2: 0.2}\n"
     ]
    }
   ],
   "source": [
    "model.train()\n",
    "model = model.to(DEVICE)\n",
    "model.set_seed()\n",
    "\n",
    "optimizer = torch.optim.AdamW(\n",
    "    model.parameters(),\n",
    "    lr=LR,\n",
    "    amsgrad=False,\n",
    "    weight_decay=1e-2,\n",
    ")\n",
    "\n",
    "lr_scheduler = torch.optim.lr_scheduler.CosineAnnealingLR(\n",
    "    optimizer,\n",
    "    T_max=N_EPOCHS,\n",
    "    eta_min=LR / 10,\n",
    ")\n",
    "\n",
    "print(\"epoch\" + \" \" * 6 + \"loss\" + \" \" * 8 + \"LR\" + \" \" * 9 + \"score\" + \" \" * 6 + \"score_meta\")\n",
    "print(\"-\" * 65)\n",
    "\n",
    "for epoch in range(1, N_EPOCHS + 1):\n",
    "    epoch_loss = 0.0\n",
    "    current_lr = optimizer.state_dict()[\"param_groups\"][0][\"lr\"]\n",
    "    for batch in tqdm(train_loader, leave=False, desc=f\"Epoch {epoch}\"):\n",
    "        encodings = batch[\"encodings\"].to(DEVICE)\n",
    "        labels = batch[\"labels\"].to(DEVICE)\n",
    "        loss, _ = model(**encodings, labels=labels)\n",
    "\n",
    "        optimizer.zero_grad()\n",
    "        loss.backward()\n",
    "        optimizer.step()\n",
    "        epoch_loss += loss.item()\n",
    "\n",
    "    lr_scheduler.step()\n",
    "\n",
    "    model.eval()\n",
    "    preds = defaultdict(list)\n",
    "    with torch.inference_mode():\n",
    "        for batch in test_loader:\n",
    "            encodings = batch[\"encodings\"]\n",
    "            encodings = encodings.to(DEVICE)\n",
    "            predictions = model.predict_proba(encodings)\n",
    "            preds[\"y_vote_test\"].extend(batch[\"vote\"])\n",
    "            preds[\"y_labels_test\"].extend(batch[\"labels\"].detach().numpy())\n",
    "            preds[\"y_probas_test\"].extend(predictions)\n",
    "\n",
    "        for batch in valid_loader:\n",
    "            encodings = batch[\"encodings\"]\n",
    "            encodings = encodings.to(DEVICE)\n",
    "            predictions = model.predict_proba(encodings)\n",
    "            preds[\"y_vote_val\"].extend(batch[\"vote\"])\n",
    "            preds[\"y_labels_val\"].extend(batch[\"labels\"].detach().numpy())\n",
    "            preds[\"y_probas_val\"].extend(predictions)\n",
    "\n",
    "    score = model.score(preds)\n",
    "    epoch_loss /= int(len(train_loader) / BATCH_SIZE)\n",
    "    print(\n",
    "        f\"{epoch:<10} {epoch_loss:<11.3f} {current_lr:<10.6f} {score['score']:<10.4f} {score['score_meta']:<10}\"\n",
    "    )\n",
    "    model.train()"
   ]
  },
  {
   "cell_type": "code",
   "execution_count": null,
   "metadata": {
    "tags": []
   },
   "outputs": [],
   "source": [
    "model = model.eval()\n",
    "\n",
    "thresh = eval(score[\"score_meta\"])\n",
    "\n",
    "with torch.inference_mode():\n",
    "    y_true = []\n",
    "    y_proba = []\n",
    "    for batch in valid_loader:\n",
    "        encodings = batch[\"encodings\"]\n",
    "        encodings = encodings.to(DEVICE)\n",
    "        predictions = model.predict_proba(encodings)\n",
    "        y_true.extend(batch[\"vote\"])\n",
    "        y_proba.extend(predictions)\n",
    "\n",
    "y_pred = [model.vote(y, threshold=thresh) for y in y_proba]"
   ]
  },
  {
   "cell_type": "code",
   "execution_count": null,
   "metadata": {
    "tags": []
   },
   "outputs": [
    {
     "name": "stdout",
     "output_type": "stream",
     "text": [
      "              precision    recall  f1-score   support\n",
      "\n",
      "         pop       0.82      0.87      0.84       865\n",
      "        left       0.68      0.76      0.71       283\n",
      "       right       0.71      0.66      0.68       175\n",
      "\n",
      "   micro avg       0.77      0.82      0.79      1323\n",
      "   macro avg       0.74      0.76      0.75      1323\n",
      "weighted avg       0.77      0.82      0.79      1323\n",
      " samples avg       0.40      0.40      0.40      1323\n",
      "\n"
     ]
    }
   ],
   "source": [
    "print(classification_report(y_true, y_pred, target_names=train.labels, zero_division=0))"
   ]
  },
  {
   "cell_type": "code",
   "execution_count": null,
   "metadata": {
    "tags": []
   },
   "outputs": [
    {
     "name": "stdout",
     "output_type": "stream",
     "text": [
      "9\n"
     ]
    }
   ],
   "source": [
    "with Session(engine) as s:\n",
    "    max_batch = s.query(bm.Sample).with_entities(func.max(bm.Sample.used_in_batch)).scalar()\n",
    "    print(max_batch)"
   ]
  },
  {
   "cell_type": "code",
   "execution_count": null,
   "metadata": {
    "tags": []
   },
   "outputs": [],
   "source": [
    "torch.save(model, src.PATH / f\"tmp/model_min1_popbinideol_v9.0.model\")"
   ]
  },
  {
   "cell_type": "code",
   "execution_count": null,
   "metadata": {},
   "outputs": [],
   "source": []
  }
 ],
 "metadata": {
  "kernelspec": {
   "display_name": "bert_populism",
   "language": "python",
   "name": "bert_populism"
  },
  "language_info": {
   "codemirror_mode": {
    "name": "ipython",
    "version": 3
   },
   "file_extension": ".py",
   "mimetype": "text/x-python",
   "name": "python",
   "nbconvert_exporter": "python",
   "pygments_lexer": "ipython3",
   "version": "3.9.1"
  }
 },
 "nbformat": 4,
 "nbformat_minor": 4
}
