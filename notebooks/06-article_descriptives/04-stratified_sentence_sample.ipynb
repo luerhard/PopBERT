{
 "cells": [
  {
   "cell_type": "code",
   "execution_count": null,
   "metadata": {},
   "outputs": [],
   "source": [
    "from pathlib import Path\n",
    "\n",
    "import pandas as pd\n",
    "import sqlalchemy as sa\n",
    "from sqlalchemy.orm import Query\n",
    "\n",
    "import src.db.models.bert_data as bm\n",
    "import src.db.models.open_discourse as od\n",
    "from src.db.connect import make_engine"
   ]
  },
  {
   "cell_type": "code",
   "execution_count": null,
   "metadata": {},
   "outputs": [],
   "source": [
    "pd.set_option(\"display.max_colwidth\", 1024)\n",
    "\n",
    "out_path = Path(\"/home/lukas/overleaf/popbert//tables\")\n",
    "\n",
    "engine = make_engine(\"DB\")"
   ]
  },
  {
   "cell_type": "code",
   "execution_count": null,
   "metadata": {},
   "outputs": [],
   "source": [
    "thresh = {\"elite\": 0.415961, \"pplcentr\": 0.295400, \"left\": 0.429109, \"right\": 0.302714}\n",
    "\n",
    "def create_bins(thresh):\n",
    "    BOUND_RANGE = 0.15\n",
    "    lower_bound = thresh - BOUND_RANGE\n",
    "    upper_bound = thresh + BOUND_RANGE\n",
    "    bins = [(0, lower_bound), (lower_bound, upper_bound), (upper_bound, 1)]\n",
    "    return pd.IntervalIndex.from_tuples(bins)\n",
    "\n",
    "\n",
    "intervals = {k: create_bins(v) for k, v in thresh.items()}"
   ]
  },
  {
   "cell_type": "code",
   "execution_count": null,
   "metadata": {},
   "outputs": [],
   "source": [
    "def add_midrules(latex: str) -> str:\n",
    "    new = []\n",
    "    for line in latex.splitlines():\n",
    "        if line.startswith(r\"\\multirow\"):\n",
    "            new.append(r\"\\midrule\")\n",
    "        if line.startswith(\"sum\"):\n",
    "            new.append(r\"\\midrule\")\n",
    "        new.append(line)\n",
    "    return \"\\n\".join(new)"
   ]
  },
  {
   "cell_type": "markdown",
   "metadata": {},
   "source": [
    "# Load Data\n"
   ]
  },
  {
   "cell_type": "code",
   "execution_count": null,
   "metadata": {},
   "outputs": [],
   "source": [
    "query = (\n",
    "    Query(bm.Sample)\n",
    "    .join(bm.Prediction)\n",
    "    .with_entities(\n",
    "        bm.Sample.text,\n",
    "        bm.Prediction.elite,\n",
    "        bm.Prediction.pplcentr,\n",
    "        bm.Prediction.left,\n",
    "        bm.Prediction.right,\n",
    "    )\n",
    ")\n",
    "\n",
    "with engine.connect() as conn:\n",
    "    df = pd.read_sql(query.statement, conn)"
   ]
  },
  {
   "cell_type": "code",
   "execution_count": null,
   "metadata": {},
   "outputs": [
    {
     "data": {
      "text/plain": [
       "Index(['text', 'elite', 'pplcentr', 'left', 'right', 'elite_bin'], dtype='object')"
      ]
     },
     "execution_count": null,
     "metadata": {},
     "output_type": "execute_result"
    }
   ],
   "source": [
    "df.columns"
   ]
  },
  {
   "cell_type": "code",
   "execution_count": null,
   "metadata": {},
   "outputs": [],
   "source": [
    "cols = [\"elite\", \"pplcentr\", \"left\", \"right\"]\n",
    "for col in cols:\n",
    "    df[f\"{col}_bin\"] = pd.cut(df[col], intervals[col])"
   ]
  },
  {
   "cell_type": "code",
   "execution_count": null,
   "metadata": {},
   "outputs": [],
   "source": [
    "selection = []\n",
    "\n",
    "groupnames = {\n",
    "    \"elite\": \"Anti-Elite\",\n",
    "    \"pplcentr\": \"People-Centric\",\n",
    "    \"left\": \"Host-Left\",\n",
    "    \"right\": \"Host-Right\",\n",
    "}\n",
    "\n",
    "for col in cols:\n",
    "    select = df.groupby(f\"{col}_bin\").sample(5, random_state=12)\n",
    "    select[\"select\"] = groupnames[col]\n",
    "    select = select.sort_values(col, ascending=True)\n",
    "    selection.append(select)\n",
    "\n",
    "selection = pd.concat(selection)"
   ]
  },
  {
   "cell_type": "code",
   "execution_count": null,
   "metadata": {},
   "outputs": [
    {
     "name": "stdout",
     "output_type": "stream",
     "text": [
      "\\begin{longtable}{p{.1\\textwidth}p{.55\\textwidth}p{.04\\textwidth}p{.04\\textwidth}p{.04\\textwidth}p{.04\\textwidth}}\\\\\n",
      "\\toprule\n",
      "Dim & Sentence & Anti-Elite & People-Centric & Host-Left & Host-Right \\\\\n",
      "\\midrule\n",
      "\\endhead\n",
      "\n",
      "\\multirow[t]{15}{*}{\\textbf{Anti-Elite}} & \\parbox[t]{.55\\textwidth}{Höchster Schutz für die Betroffenen und niedrigschwelliger Zugang für alle waren das Ergebnis dieses Prozesses.} & 0.0 & 0.03 & 0.01 & 0.0 \\\\\\midrule\n",
      " & \\parbox[t]{.55\\textwidth}{Denn viele arbeiten auf den Baustellen, auf denen sich die Arbeiten nachts gar nicht mit der gleichen Qualität wie tagsüber durchführen lassen.} & 0.01 & 0.02 & 0.01 & 0.0 \\\\\\midrule\n",
      " & \\parbox[t]{.55\\textwidth}{Schon heute hätte eine knappe Million Menschen einen Anspruch auf Grundsicherung im Alter, aber sie nehmen ihn aus vielen Gründen nicht wahr.} & 0.01 & 0.04 & 0.01 & 0.0 \\\\\\midrule\n",
      " & \\parbox[t]{.55\\textwidth}{Wir brauchen klare und einheitliche Vorgaben für Schulen, die sich nicht ad hoc ändern.} & 0.01 & 0.01 & 0.0 & 0.0 \\\\\\midrule\n",
      " & \\parbox[t]{.55\\textwidth}{Diesen Einwand kann ich nicht nachvollziehen.} & 0.01 & 0.01 & 0.0 & 0.0 \\\\\\midrule\n",
      " & \\parbox[t]{.55\\textwidth}{Aber Sie legen ein Paket vor, das gerade nicht reformiert.} & 0.28 & 0.0 & 0.01 & 0.0 \\\\\\midrule\n",
      " & \\parbox[t]{.55\\textwidth}{Wenn Sie diese für mich ungeheure Behauptung aufstellen, dann müssen Sie schon auch Ross und Reiter nennen und sagen, wo jemand das so getan hat.} & 0.37 & 0.0 & 0.01 & 0.0 \\\\\\midrule\n",
      " & \\parbox[t]{.55\\textwidth}{Seit 2007 redet die Deutsche Umwelthilfe öffentlich und auch gegenüber dem Ministerium sehr dezidiert davon, dass die Werte bei den Abgasen, die die Automobile in die Luft blasen, von den Grenzwerten abweichen.} & 0.38 & 0.0 & 0.0 & 0.01 \\\\\\midrule\n",
      " & \\parbox[t]{.55\\textwidth}{Das Gesetz an sich war schon schlimm genug, aber dass das auch noch rückwirkend galt, das ist der eigentliche Skandal.} & \\textbf{0.47} & 0.0 & 0.01 & 0.0 \\\\\\midrule\n",
      " & \\parbox[t]{.55\\textwidth}{Geben Sie doch bitte endlich zu, dass die Abschaffung des Wehr- und Ersatzdienstes ein Riesenfehler war!} & \\textbf{0.51} & 0.01 & 0.01 & 0.0 \\\\\\midrule\n",
      " & \\parbox[t]{.55\\textwidth}{Ein eingespieltes Team wird ohne Not zerrupft – wegen einer starren Altersgrenze im Gesetz.} & \\textbf{0.64} & 0.01 & 0.01 & 0.0 \\\\\\midrule\n",
      " & \\parbox[t]{.55\\textwidth}{Dann garantieren Sie also, Herr Gabriel, dass es erst gar nicht vor ein Schiedsgericht kommt bzw. der US-Konzern sich nicht gegen die Arbeitnehmer durchsetzt.} & \\textbf{0.85} & 0.0 & \\textbf{0.72} & 0.0 \\\\\\midrule\n",
      " & \\parbox[t]{.55\\textwidth}{Obwohl dies ein gesellschaftlich schwieriger Themenkomplex ist, war die Fachaufsicht durch das Ministerium zur Kontrolle des BAMF und zur Kontrolle einer ordnungsgemäßen Rechtsanwendung in Asylverfahren dieser Regierung über Jahre nicht wichtig.} & \\textbf{0.95} & 0.0 & 0.02 & 0.02 \\\\\\midrule\n",
      " & \\parbox[t]{.55\\textwidth}{Auf dem Bundeskongress der Jusos hat sich die unmenschliche Fratze linker Ideologie gezeigt, die Kinder tötet und überall von Humanität faseln will.} & \\textbf{0.98} & 0.02 & 0.06 & \\textbf{0.95} \\\\\\midrule\n",
      " & \\parbox[t]{.55\\textwidth}{Was ich nicht verstehen kann, ist, dass Grüne sich hier mit diesem Klamauk zu Verbündeten von Feinden des EEG in Brüssel machen, von Feinden der Energiewende.} & \\textbf{0.99} & 0.0 & 0.15 & \\textbf{0.72} \\\\\\midrule\n",
      "\\multirow[t]{15}{*}{\\textbf{People-Centric}} & \\parbox[t]{.55\\textwidth}{Die circa 30 000 Arbeitsplätze, die allein in Sachsen direkt oder indirekt von der Braunkohle abhängig sind, werden als Kollateralschäden verbucht.} & 0.02 & 0.0 & 0.01 & 0.0 \\\\\\midrule\n",
      " & \\parbox[t]{.55\\textwidth}{Aber Wahlen um jeden Preis sind keine Wahlen, die Frieden bringen.} & 0.02 & 0.01 & 0.01 & 0.0 \\\\\\midrule\n",
      " & \\parbox[t]{.55\\textwidth}{Lassen Sie mich zum Schluss sagen, was wir als Sozialdemokraten in Regierungsverantwortung machen: Erstens.} & 0.01 & 0.01 & 0.0 & 0.0 \\\\\\midrule\n",
      " & \\parbox[t]{.55\\textwidth}{Diesen sollte er innerhalb von vier Wochen bekommen.} & 0.01 & 0.01 & 0.0 & 0.0 \\\\\\midrule\n",
      " & \\parbox[t]{.55\\textwidth}{Unsere ökonomische Stärke muss von sozialem und ökologischem Fortschritt flankiert werden.} & 0.0 & 0.02 & 0.01 & 0.01 \\\\\\midrule\n",
      " & \\parbox[t]{.55\\textwidth}{Ich möchte hier an dieser Stelle meinen Dank und meinen Respekt an diejenigen richten, die diese Verantwortung übernommen haben.} & 0.01 & 0.17 & 0.0 & 0.0 \\\\\\midrule\n",
      " & \\parbox[t]{.55\\textwidth}{Denn Verbraucherinnen und Verbraucher haben das Recht auf Information und Transparenz, und wir haben die Pflicht, rechtssichere Regelungen zu schaffen.} & 0.0 & 0.22 & 0.01 & 0.0 \\\\\\midrule\n",
      " & \\parbox[t]{.55\\textwidth}{Sie müssen auch einsehen, dass das Ideal des ehrbaren Kaufmannes für die meisten Unternehmer in unserem Land auch im 21. Jahrhundert noch Bestand hat.} & 0.0 & 0.27 & 0.01 & 0.0 \\\\\\midrule\n",
      " & \\parbox[t]{.55\\textwidth}{Aber die Glücksritter, die Ausreisepflichtigen, die IS-Kämpfer und die Sozialhilfetouristen, für die gibt es eine Lösung, und das ist: abschieben, abschieben, abschieben.} & 0.34 & \\textbf{0.36} & 0.26 & \\textbf{0.51} \\\\\\midrule\n",
      " & \\parbox[t]{.55\\textwidth}{Ich finde, dass sich Alleinerziehende in Deutschland, von denen übrigens die meisten erwerbstätig sind, darauf verlassen können müssen, dass sie jeden Monat bis zur Volljährigkeit tatsächlich einen Unterhaltsvorschuss bekommen.} & 0.0 & \\textbf{0.41} & 0.18 & 0.0 \\\\\\midrule\n",
      " & \\parbox[t]{.55\\textwidth}{Entscheidend ist aber, dass wir signalisieren, dass wir das, was Familien leisten, was Eltern geleistet haben, honorieren, insbesondere die Leistungen derjenigen, die geringere finanzielle Mittel haben.} & 0.0 & \\textbf{0.56} & 0.14 & 0.0 \\\\\\midrule\n",
      " & \\parbox[t]{.55\\textwidth}{Dadurch wird natürlich alles teurer und immer unfinanzierbarer für den normalen Bürger.} & 0.01 & \\textbf{0.61} & 0.02 & 0.01 \\\\\\midrule\n",
      " & \\parbox[t]{.55\\textwidth}{Große Unternehmen nutzen Schlupflöcher und Gestaltungsmöglichkeiten, um kräftig Steuern zu sparen, während die vielen ehrlichen Steuerzahlerinnen und Steuerzahler, wie die Versicherungsangestellte oder der Bäckermeister von nebenan, sich fragen, in welche Taschen die teils riesigen Gewinne der Unternehmen eigentlich wandern.} & \\textbf{0.89} & \\textbf{0.82} & \\textbf{0.99} & 0.03 \\\\\\midrule\n",
      " & \\parbox[t]{.55\\textwidth}{Sozialdemokratische Wähler und Wählerinnen in Berlin und anderswo - insbesondere in meinem Wahlkreis Tempelhof-Schöneberg wollen 100 Prozent Gleichstellung.} & 0.0 & \\textbf{0.86} & 0.06 & 0.01 \\\\\\midrule\n",
      " & \\parbox[t]{.55\\textwidth}{Sie haben zu Recht gesagt, dass Sie für die Interessen der Menschen antreten und eintreten.} & 0.01 & \\textbf{0.92} & 0.03 & 0.01 \\\\\\midrule\n",
      "\\multirow[t]{15}{*}{\\textbf{Host-Left}} & \\parbox[t]{.55\\textwidth}{Dies ist natürlich nicht in Ordnung.} & 0.01 & 0.01 & 0.0 & 0.0 \\\\\\midrule\n",
      " & \\parbox[t]{.55\\textwidth}{Denken wir an unsere Bürgersprechstunden.} & 0.01 & 0.01 & 0.0 & 0.0 \\\\\\midrule\n",
      " & \\parbox[t]{.55\\textwidth}{Wir haben die Düngemenge für jede einzelne Pflanzenart exakt festgelegt.} & 0.01 & 0.01 & 0.01 & 0.0 \\\\\\midrule\n",
      " & \\parbox[t]{.55\\textwidth}{Der Rüstungswettlauf dabei ist schon in vollem Gange.} & 0.04 & 0.0 & 0.01 & 0.0 \\\\\\midrule\n",
      " & \\parbox[t]{.55\\textwidth}{All dies sind Projekte, die die fossile Abhängigkeit Europas über Jahre hinaus zementieren und fortschreiben.} & 0.02 & 0.0 & 0.01 & 0.0 \\\\\\midrule\n",
      " & \\parbox[t]{.55\\textwidth}{Die deutschen Bürger, die jetzt schon länger arbeiten, höhere Steuern zahlen und geringere Renten und Privatvermögen haben als die Bürger der Empfängerländer dieser Transfers, müssen sich dagegen auf noch höhere Belastungen einstellen.} & 0.01 & \\textbf{0.88} & 0.29 & 0.14 \\\\\\midrule\n",
      " & \\parbox[t]{.55\\textwidth}{Es ist wirklich der größte Skandal in der Geschichte der SPD, dass ihr Geld an 1,2 Millionen Menschen in dieser Bundesrepublik Deutschland verteilt, die das überhaupt nicht brauchen können.} & \\textbf{0.99} & 0.24 & 0.3 & 0.08 \\\\\\midrule\n",
      " & \\parbox[t]{.55\\textwidth}{Wir lassen es nicht mehr zu, dass jeder, der einschlägig vorbestraft ist, ein Bordell eröffnen und sich mit den Körpern von Frauen eine goldene Nase verdienen kann.} & 0.11 & 0.12 & 0.36 & 0.01 \\\\\\midrule\n",
      " & \\parbox[t]{.55\\textwidth}{Die brauchen keinen Rat vom Bundesfinanzminister oder von der Bundeskanzlerin, sondern sind selbst erfahren genug – zum einen mit der Postbank, zum anderen mit der Dresdner Bank –, zu entscheiden, ob sie eine Hochzeit eingehen wollen oder nicht.} & \\textbf{0.48} & 0.01 & 0.37 & 0.0 \\\\\\midrule\n",
      " & \\parbox[t]{.55\\textwidth}{Und Sie wissen genauso wie ich, dass die Absenkung des Standards durch Scheingewerkschaften und Gefälligkeitstarifverträge verursacht wurde - und nicht durch die Gewerkschaften, die jetzt versuchen, da eine Besserung für die Arbeitnehmer zu erreichen.} & \\textbf{0.88} & 0.01 & 0.42 & 0.0 \\\\\\midrule\n",
      " & \\parbox[t]{.55\\textwidth}{Es vergeht kaum ein Tag, an dem nicht auch hier in diesem Hohen Haus Paketboten, Pflegekräfte und die Kassiererinnen im Einzelhandel für ihren Einsatz in der Coronakrise sehr gelobt werden, und das völlig zu Recht.} & 0.0 & \\textbf{0.96} & \\textbf{0.63} & 0.02 \\\\\\midrule\n",
      " & \\parbox[t]{.55\\textwidth}{Die schweren Fehler, die die Bundesregierung mit dem Abbau des Sozialstaats begangen hat, heilt man nicht, indem man jetzt die Grundrechte von Migranten und Flüchtlingen einschränkt.} & \\textbf{0.85} & \\textbf{0.75} & \\textbf{0.68} & 0.19 \\\\\\midrule\n",
      " & \\parbox[t]{.55\\textwidth}{In Bulgarien sollen Oligarchen die Fäden in der Hand halten.} & \\textbf{0.86} & 0.01 & \\textbf{0.82} & 0.01 \\\\\\midrule\n",
      " & \\parbox[t]{.55\\textwidth}{Viele Unternehmen haben einfach die Kohle, die sie sozusagen gespart haben, für Aktienrückkaufprogramme genutzt, und der Schuldenberg der USA ist gewachsen.} & \\textbf{0.93} & 0.01 & \\textbf{0.94} & 0.01 \\\\\\midrule\n",
      " & \\parbox[t]{.55\\textwidth}{Deren nationale Unternehmensrisiken wurden einfach sozialisiert in diesem Finanzeuropa der Übervorteilung und Ausbeutung des deutschen Steuer- und Sparersäckels.} & \\textbf{0.99} & 0.05 & \\textbf{0.99} & 0.18 \\\\\\midrule\n",
      "\\multirow[t]{15}{*}{\\textbf{Host-Right}} & \\parbox[t]{.55\\textwidth}{Diese Ungerechtigkeiten, meine Damen und Herren, die schlagen auch auf das zwischenmenschliche Klima durch.} & 0.01 & 0.01 & 0.01 & 0.0 \\\\\\midrule\n",
      " & \\parbox[t]{.55\\textwidth}{Die schwarze Null steht, und so wird es auch bleiben - ein klarer Beweis, dass wir als Regierungskoalition in der Lage waren, deutliche Prioritäten zu setzen.} & 0.01 & 0.02 & 0.0 & 0.0 \\\\\\midrule\n",
      " & \\parbox[t]{.55\\textwidth}{Ich darf mit einem freundlichen Blick auf die leider verwaiste Länderbank noch einmal an die Länder appellieren, im Bundesrat diesem Gesetzentwurf zuzustimmen.} & 0.01 & 0.01 & 0.0 & 0.0 \\\\\\midrule\n",
      " & \\parbox[t]{.55\\textwidth}{All das müssen wir im Rahmen der Technologieführer1568 schaft, die wir haben und ausbauen sollten, zusammendenken und als Standortvorteile für uns begreifen.} & 0.01 & 0.01 & 0.0 & 0.01 \\\\\\midrule\n",
      " & \\parbox[t]{.55\\textwidth}{Wenn wir aber glauben, dass das gute Mobilität ist, dass sie hilft und umweltfreundlich ist – natürlich ist ein Leihfahrrad umweltfreundlicher als ein Taxi oder andere Fahrzeuge –, dann müssen wir uns an der Stelle auch mal ehrlich machen und sagen: Auch das müssen wir fördern.} & 0.0 & 0.02 & 0.01 & 0.01 \\\\\\midrule\n",
      " & \\parbox[t]{.55\\textwidth}{Ganz im Gegenteil dazu fällt diese islamische Besonderheit bei Ihnen unter eine Art Bestandsschutz einer falschen, liberalen Auslegung unseres Grundgesetzes.} & \\textbf{0.95} & 0.01 & 0.01 & 0.16 \\\\\\midrule\n",
      " & \\parbox[t]{.55\\textwidth}{Vor dem Hintergrund der deutschen Entwicklung bekommen diese EU-Bankrotterklärungen wirklich ein besonderes Geschmäckle.} & \\textbf{0.99} & 0.01 & 0.04 & 0.17 \\\\\\midrule\n",
      " & \\parbox[t]{.55\\textwidth}{Die Linke macht diese besinnungslose Technikeuphorie nicht mit.} & \\textbf{0.95} & 0.01 & 0.01 & 0.2 \\\\\\midrule\n",
      " & \\parbox[t]{.55\\textwidth}{Auch deshalb lehnen wir ab, auch nur einen einzigen Cent, der von der Bevölkerung hart erarbeitet wurde, für die auf der Grundlage einer absurden Theorie veranlassten sogenannten Klimaschutzmaßnahmen auszugeben, die zudem auch noch massive Umweltschäden verursachen.} & \\textbf{0.99} & 0.03 & 0.03 & 0.27 \\\\\\midrule\n",
      " & \\parbox[t]{.55\\textwidth}{Ein nicht geringer Teil davon wird leider dazu missbraucht, die Menschen in Deutschland ideologisch zu gängeln und zu Toleranz, Vielfalt und Weltoffenheit, den globalistischen Kardinaltugenden, zu erziehen.} & \\textbf{0.95} & 0.01 & 0.02 & \\textbf{0.45} \\\\\\midrule\n",
      " & \\parbox[t]{.55\\textwidth}{Sie versuchen hier, einen ganz billigen Punkt zu machen, und Sie zeigen Ihre hässliche, nationale und auch – wir haben es eben gehört – sozialistische Fratze.} & \\textbf{0.98} & 0.01 & 0.04 & \\textbf{0.5} \\\\\\midrule\n",
      " & \\parbox[t]{.55\\textwidth}{Es hat angefangen, zu wirken, bis Links- und Rechtsradikale in Athen die Regierung übernommen haben und die wenigen, die da noch Steuern bezahlt haben, die Zahlung auch noch zurückgestellt haben, meine sehr verehrten Damen und Herren.} & \\textbf{0.96} & 0.03 & 0.04 & \\textbf{0.58} \\\\\\midrule\n",
      " & \\parbox[t]{.55\\textwidth}{Und, lieber Herr Scholz, es sind genau diese Drohnen, deren Beschaffung Sie im Moment mit Ihrer linken SPD blockieren.} & \\textbf{0.99} & 0.01 & 0.04 & \\textbf{0.8} \\\\\\midrule\n",
      " & \\parbox[t]{.55\\textwidth}{Rechtsextremismus bekämpft man nicht mit linker Militanz.} & \\textbf{0.87} & 0.02 & 0.01 & \\textbf{0.8} \\\\\\midrule\n",
      " & \\parbox[t]{.55\\textwidth}{Wenn Zugewanderte aus archaischen Kulturen junge Frauen vergewaltigen und bestialisch morden, dann ist auch das kein Hass, sondern dann sind das Beziehungstaten für die hinteren Seiten der Lokalblätter, da angeblich nicht von nationaler Relevanz.} & \\textbf{0.44} & \\textbf{0.49} & 0.1 & \\textbf{0.84} \\\\\n",
      "\\bottomrule\n",
      "\\end{longtable}\n"
     ]
    }
   ],
   "source": [
    "table = selection.copy()\n",
    "\n",
    "\n",
    "def add_parbox(text, size):\n",
    "    return r\"\\parbox[t]{\" + size + \"}{\" + text + \"}\"\n",
    "\n",
    "\n",
    "table[\"text\"] = table[\"text\"].apply(lambda x: add_parbox(x, r\".55\\textwidth\"))\n",
    "\n",
    "\n",
    "def add_bold_font(text):\n",
    "    return r\"\\textbf{\" + text + \"}\"\n",
    "\n",
    "\n",
    "table[\"select\"] = table[\"select\"].apply(add_bold_font)\n",
    "# table[\"select\"] = table[\"select\"].apply(lambda x: add_parbox(x, r\".1\\textwidth\"))\n",
    "\n",
    "\n",
    "def bold_formatter_thresh(num, thresh):\n",
    "    num_str = str(round(num, 2))\n",
    "    if num < thresh:\n",
    "        return num_str\n",
    "    else:\n",
    "        return r\"\\textbf{\" + num_str + \"}\"\n",
    "\n",
    "\n",
    "for col in cols:\n",
    "    table[col] = table[col].apply(lambda x: bold_formatter_thresh(x, thresh[col]))\n",
    "\n",
    "\n",
    "table = table.set_index([\"select\", \"text\"])\n",
    "\n",
    "\n",
    "tex = (\n",
    "    table[[\"elite\", \"pplcentr\", \"left\", \"right\"]]\n",
    "    .style.set_table_styles(\n",
    "        [\n",
    "            {\"selector\": \"toprule\", \"props\": \":toprule;\"},\n",
    "            {\"selector\": \"bottomrule\", \"props\": \":bottomrule;\"},\n",
    "        ]\n",
    "    )\n",
    "    .format(precision=3)\n",
    "    .to_latex()\n",
    ")\n",
    "\n",
    "\n",
    "lines = tex.splitlines()\n",
    "\n",
    "new = []\n",
    "for i, line in enumerate(lines, 1):\n",
    "    if i == 1:\n",
    "        line = r\"\\begin{longtable}{p{.1\\textwidth}p{.55\\textwidth}p{.04\\textwidth}p{.04\\textwidth}p{.04\\textwidth}p{.04\\textwidth}}\\\\\"\n",
    "    if i == len(lines):\n",
    "        line = \"\\end{longtable}\"\n",
    "    if i == 3:\n",
    "        line = r\"\"\"Dim & Sentence & Anti-Elite & People-Centric & Host-Left & Host-Right \\\\\n",
    "\\midrule\n",
    "\\endhead\n",
    "\"\"\"\n",
    "    if i == 4:\n",
    "        continue\n",
    "\n",
    "    line = line.replace(r\"\\multirow[c]\", \"\\multirow[t]\")\n",
    "\n",
    "    if i > 4 and i < len(lines) - 2:\n",
    "        line = line + \"\\midrule\"\n",
    "    new.append(line)\n",
    "\n",
    "tex = \"\\n\".join(new)\n",
    "\n",
    "(out_path / \"prediction_samples.tex\").write_text(tex)\n",
    "\n",
    "print(tex)"
   ]
  },
  {
   "cell_type": "code",
   "execution_count": null,
   "metadata": {},
   "outputs": [],
   "source": []
  }
 ],
 "metadata": {
  "kernelspec": {
   "display_name": "bert_populism",
   "language": "python",
   "name": "bert_populism"
  },
  "language_info": {
   "codemirror_mode": {
    "name": "ipython",
    "version": 3
   },
   "file_extension": ".py",
   "mimetype": "text/x-python",
   "name": "python",
   "nbconvert_exporter": "python",
   "pygments_lexer": "ipython3",
   "version": "3.11.6"
  },
  "vscode": {
   "interpreter": {
    "hash": "05b0f58c2bcdc36936de25f1aaac0724cceaad7ddc88039a552f8d696c8fb19b"
   }
  }
 },
 "nbformat": 4,
 "nbformat_minor": 2
}
