{
 "cells": [
  {
   "cell_type": "code",
   "execution_count": null,
   "metadata": {},
   "outputs": [],
   "source": [
    "import numpy as np\n",
    "import pandas as pd\n",
    "from pandas.api.types import CategoricalDtype\n",
    "\n",
    "import src"
   ]
  },
  {
   "cell_type": "code",
   "execution_count": null,
   "metadata": {},
   "outputs": [],
   "source": [
    "dfs = []\n",
    "for fold in range(1, 6):\n",
    "    df = pd.read_csv(src.PATH / f\"results/kfold/fold_{fold}.csv\")\n",
    "    df[\"fold\"] = fold\n",
    "    dfs.append(df)"
   ]
  },
  {
   "cell_type": "code",
   "execution_count": null,
   "metadata": {},
   "outputs": [],
   "source": [
    "df = pd.concat(dfs)\n",
    "df.rename({\"Unnamed: 0\": \"measure\"}, axis=1, inplace=True)"
   ]
  },
  {
   "cell_type": "code",
   "execution_count": null,
   "metadata": {},
   "outputs": [],
   "source": [
    "rows = []\n",
    "for feat in [\"elite\", \"centr\", \"left\", \"right\", \"micro avg\", \"macro avg\"]:\n",
    "    for measure in [\"precision\", \"recall\", \"f1-score\"]:\n",
    "        row = dict()\n",
    "        values = df.loc[df.measure == measure, feat]\n",
    "        row[\"name\"] = feat\n",
    "        row[\"measure\"] = measure\n",
    "        row[\"value\"] = round(np.mean(values), 3)\n",
    "        row[\"std\"] = round(np.std(values), 3)\n",
    "        row[\"cell\"] = f\"{row['value']} ({row['std']})\"\n",
    "        rows.append(row)\n",
    "results = pd.DataFrame(rows)"
   ]
  },
  {
   "cell_type": "code",
   "execution_count": null,
   "metadata": {},
   "outputs": [],
   "source": [
    "values = results.pivot(index=\"name\", columns=\"measure\", values=\"cell\").reset_index()\n",
    "order_by = CategoricalDtype(\n",
    "    [\"elite\", \"centr\", \"left\", \"right\", \"micro avg\", \"macro avg\"], ordered=True\n",
    ")\n",
    "values[\"name\"] = values.name.astype(order_by)\n",
    "values = values.loc[:, [\"name\", \"precision\", \"recall\", \"f1-score\"]].sort_values(\"name\")\n",
    "values = values.set_index(\"name\", drop=True)"
   ]
  },
  {
   "cell_type": "code",
   "execution_count": null,
   "metadata": {},
   "outputs": [
    {
     "data": {
      "text/html": [
       "<div>\n",
       "<style scoped>\n",
       "    .dataframe tbody tr th:only-of-type {\n",
       "        vertical-align: middle;\n",
       "    }\n",
       "\n",
       "    .dataframe tbody tr th {\n",
       "        vertical-align: top;\n",
       "    }\n",
       "\n",
       "    .dataframe thead th {\n",
       "        text-align: right;\n",
       "    }\n",
       "</style>\n",
       "<table border=\"1\" class=\"dataframe\">\n",
       "  <thead>\n",
       "    <tr style=\"text-align: right;\">\n",
       "      <th>measure</th>\n",
       "      <th>precision</th>\n",
       "      <th>recall</th>\n",
       "      <th>f1-score</th>\n",
       "    </tr>\n",
       "    <tr>\n",
       "      <th>name</th>\n",
       "      <th></th>\n",
       "      <th></th>\n",
       "      <th></th>\n",
       "    </tr>\n",
       "  </thead>\n",
       "  <tbody>\n",
       "    <tr>\n",
       "      <th>elite</th>\n",
       "      <td>0.798 (0.032)</td>\n",
       "      <td>0.901 (0.029)</td>\n",
       "      <td>0.845 (0.011)</td>\n",
       "    </tr>\n",
       "    <tr>\n",
       "      <th>centr</th>\n",
       "      <td>0.658 (0.013)</td>\n",
       "      <td>0.751 (0.052)</td>\n",
       "      <td>0.7 (0.018)</td>\n",
       "    </tr>\n",
       "    <tr>\n",
       "      <th>left</th>\n",
       "      <td>0.704 (0.035)</td>\n",
       "      <td>0.729 (0.053)</td>\n",
       "      <td>0.714 (0.019)</td>\n",
       "    </tr>\n",
       "    <tr>\n",
       "      <th>right</th>\n",
       "      <td>0.596 (0.04)</td>\n",
       "      <td>0.746 (0.048)</td>\n",
       "      <td>0.66 (0.019)</td>\n",
       "    </tr>\n",
       "    <tr>\n",
       "      <th>micro avg</th>\n",
       "      <td>0.723 (0.026)</td>\n",
       "      <td>0.815 (0.032)</td>\n",
       "      <td>0.765 (0.008)</td>\n",
       "    </tr>\n",
       "    <tr>\n",
       "      <th>macro avg</th>\n",
       "      <td>0.689 (0.026)</td>\n",
       "      <td>0.782 (0.036)</td>\n",
       "      <td>0.73 (0.012)</td>\n",
       "    </tr>\n",
       "  </tbody>\n",
       "</table>\n",
       "</div>"
      ],
      "text/plain": [
       "measure        precision         recall       f1-score\n",
       "name                                                  \n",
       "elite      0.798 (0.032)  0.901 (0.029)  0.845 (0.011)\n",
       "centr      0.658 (0.013)  0.751 (0.052)    0.7 (0.018)\n",
       "left       0.704 (0.035)  0.729 (0.053)  0.714 (0.019)\n",
       "right       0.596 (0.04)  0.746 (0.048)   0.66 (0.019)\n",
       "micro avg  0.723 (0.026)  0.815 (0.032)  0.765 (0.008)\n",
       "macro avg  0.689 (0.026)  0.782 (0.036)   0.73 (0.012)"
      ]
     },
     "execution_count": null,
     "metadata": {},
     "output_type": "execute_result"
    }
   ],
   "source": [
    "values"
   ]
  },
  {
   "cell_type": "code",
   "execution_count": null,
   "metadata": {},
   "outputs": [],
   "source": [
    "style = values.style.set_table_styles(\n",
    "    [\n",
    "        {\"selector\": \"toprule\", \"props\": \":toprule;\"},\n",
    "        {\"selector\": \"bottomrule\", \"props\": \":bottomrule;\"},\n",
    "    ]\n",
    ").format(thousands=\",\")\n",
    "\n",
    "latex = style.to_latex(\n",
    "    multirow_align=\"t\",\n",
    "    # clines=\"skip-last;index\",\n",
    ")"
   ]
  },
  {
   "cell_type": "code",
   "execution_count": null,
   "metadata": {},
   "outputs": [
    {
     "name": "stdout",
     "output_type": "stream",
     "text": [
      "\\begin{tabular}{llll}\n",
      "\\toprule\n",
      "measure & precision & recall & f1-score \\\\\n",
      "name &  &  &  \\\\\n",
      "elite & 0.798 (0.032) & 0.901 (0.029) & 0.845 (0.011) \\\\\n",
      "centr & 0.658 (0.013) & 0.751 (0.052) & 0.7 (0.018) \\\\\n",
      "left & 0.704 (0.035) & 0.729 (0.053) & 0.714 (0.019) \\\\\n",
      "right & 0.596 (0.04) & 0.746 (0.048) & 0.66 (0.019) \\\\\n",
      "micro avg & 0.723 (0.026) & 0.815 (0.032) & 0.765 (0.008) \\\\\n",
      "macro avg & 0.689 (0.026) & 0.782 (0.036) & 0.73 (0.012) \\\\\n",
      "\\bottomrule\n",
      "\\end{tabular}\n",
      "\n"
     ]
    }
   ],
   "source": [
    "print(latex)"
   ]
  },
  {
   "cell_type": "code",
   "execution_count": null,
   "metadata": {},
   "outputs": [],
   "source": [
    "out_path = src.PATH / \"tmp\"\n",
    "_ = (out_path / \"kfold_results.tex\").write_text(latex)"
   ]
  }
 ],
 "metadata": {
  "kernelspec": {
   "display_name": "bert_populism",
   "language": "python",
   "name": "bert_populism"
  },
  "language_info": {
   "codemirror_mode": {
    "name": "ipython",
    "version": 3
   },
   "file_extension": ".py",
   "mimetype": "text/x-python",
   "name": "python",
   "nbconvert_exporter": "python",
   "pygments_lexer": "ipython3",
   "version": "3.11.3"
  }
 },
 "nbformat": 4,
 "nbformat_minor": 2
}
