{
 "cells": [
  {
   "cell_type": "code",
   "execution_count": null,
   "metadata": {},
   "outputs": [],
   "source": [
    "import json\n",
    "\n",
    "import pandas as pd\n",
    "from sqlalchemy.orm import Session\n",
    "from sqlalchemy.orm import joinedload\n",
    "\n",
    "import src\n",
    "import src.db\n",
    "import src.db.models.bert_data as bm\n",
    "import src.db.models.open_discourse as od"
   ]
  },
  {
   "cell_type": "code",
   "execution_count": null,
   "metadata": {},
   "outputs": [],
   "source": [
    "path = src.PATH / \"data/bert/dataset.csv.zip\"\n",
    "pd.set_option(\"display.max_colwidth\", None)\n",
    "engine = src.db.make_engine()"
   ]
  },
  {
   "cell_type": "code",
   "execution_count": null,
   "metadata": {},
   "outputs": [],
   "source": [
    "df = pd.read_csv(path)"
   ]
  },
  {
   "cell_type": "code",
   "execution_count": null,
   "metadata": {},
   "outputs": [],
   "source": [
    "usernames = set(df.username)\n",
    "coder_dict = {name: f\"coder_{i}\" for i, name in enumerate(usernames)}"
   ]
  },
  {
   "cell_type": "code",
   "execution_count": null,
   "metadata": {},
   "outputs": [
    {
     "data": {
      "text/plain": [
       "{'schadt': 'coder_0',\n",
       " 'riedel': 'coder_1',\n",
       " 'coudry': 'coder_2',\n",
       " 'richter': 'coder_3',\n",
       " 'grabsch': 'coder_4'}"
      ]
     },
     "execution_count": null,
     "metadata": {},
     "output_type": "execute_result"
    }
   ],
   "source": [
    "coder_dict"
   ]
  },
  {
   "cell_type": "code",
   "execution_count": null,
   "metadata": {},
   "outputs": [],
   "source": [
    "df[\"username\"] = df[\"username\"].replace(coder_dict)"
   ]
  },
  {
   "cell_type": "code",
   "execution_count": null,
   "metadata": {},
   "outputs": [],
   "source": [
    "def create_pred_dict(group):\n",
    "    all_dicts = {}\n",
    "    users = set(group.username)\n",
    "    for var in [\"elite\", \"centr\", \"left\", \"right\"]:\n",
    "        var_dict = {}\n",
    "        for user in users:\n",
    "            codes = set(group.loc[group.username == user, var])\n",
    "            if len(codes) != 1:\n",
    "                raise Exception(f\"Codes != 1: {codes} for {user}\")\n",
    "            var_dict[user] = codes.pop()\n",
    "\n",
    "        all_dicts[var] = var_dict\n",
    "\n",
    "    return all_dicts\n",
    "\n",
    "\n",
    "out = df.groupby([\"id\", \"text\"], sort=False).apply(create_pred_dict)"
   ]
  },
  {
   "cell_type": "code",
   "execution_count": null,
   "metadata": {},
   "outputs": [],
   "source": [
    "out = out.reset_index()\n",
    "out.columns = [\"id\", \"text\", \"prediction_dict\"]"
   ]
  },
  {
   "cell_type": "code",
   "execution_count": null,
   "metadata": {},
   "outputs": [],
   "source": [
    "for d in out[\"prediction_dict\"]:\n",
    "    for var, d2 in d.items():\n",
    "        assert len(d2) == 5"
   ]
  },
  {
   "cell_type": "code",
   "execution_count": null,
   "metadata": {},
   "outputs": [],
   "source": [
    "out[\"anti_elitism\"] = out[\"prediction_dict\"].apply(lambda x: x[\"elite\"])\n",
    "out[\"people_centrism\"] = out[\"prediction_dict\"].apply(lambda x: x[\"centr\"])\n",
    "out[\"left_wing\"] = out[\"prediction_dict\"].apply(lambda x: x[\"left\"])\n",
    "out[\"right_wing\"] = out[\"prediction_dict\"].apply(lambda x: x[\"right\"])"
   ]
  },
  {
   "cell_type": "code",
   "execution_count": null,
   "metadata": {},
   "outputs": [],
   "source": [
    "out = out.drop(\"prediction_dict\", axis=1)"
   ]
  },
  {
   "cell_type": "code",
   "execution_count": null,
   "metadata": {},
   "outputs": [],
   "source": [
    "s = Session(engine)\n",
    "\n",
    "\n",
    "def get_metadata(id_):\n",
    "    sample = (\n",
    "        s.query(bm.Sample)\n",
    "        .options(\n",
    "            joinedload(bm.Sample.speech).joinedload(od.Speech.politician),\n",
    "            joinedload(bm.Sample.faction),\n",
    "        )\n",
    "        .filter(bm.Sample.id == id_)\n",
    "        .one()\n",
    "    )\n",
    "    faction = sample.faction[0]\n",
    "    speech = sample.speech\n",
    "    speaker = sample.speech.politician\n",
    "    out = {\n",
    "        \"speech_id\": speech.id,\n",
    "        \"speech_date\": speech.date,\n",
    "        \"sentence_no\": sample.sentence_no,\n",
    "        \"faction\": faction.abbreviation,\n",
    "        \"speaker_first_name\": speaker.first_name,\n",
    "        \"speaker_last_name\": speaker.last_name,\n",
    "    }\n",
    "    return out"
   ]
  },
  {
   "cell_type": "code",
   "execution_count": null,
   "metadata": {},
   "outputs": [],
   "source": [
    "metadata = out[\"id\"].apply(get_metadata)"
   ]
  },
  {
   "cell_type": "code",
   "execution_count": null,
   "metadata": {},
   "outputs": [],
   "source": [
    "meta = metadata.to_list()\n",
    "meta = pd.DataFrame(meta)"
   ]
  },
  {
   "cell_type": "code",
   "execution_count": null,
   "metadata": {},
   "outputs": [],
   "source": [
    "df = pd.concat([out, meta], ignore_index=False, axis=1)"
   ]
  },
  {
   "cell_type": "code",
   "execution_count": null,
   "metadata": {},
   "outputs": [],
   "source": [
    "df = df[\n",
    "    [\n",
    "        \"id\",\n",
    "        \"speech_id\",\n",
    "        \"speech_date\",\n",
    "        \"sentence_no\",\n",
    "        \"faction\",\n",
    "        \"speaker_first_name\",\n",
    "        \"speaker_last_name\",\n",
    "        \"text\",\n",
    "        \"anti_elitism\",\n",
    "        \"people_centrism\",\n",
    "        \"left_wing\",\n",
    "        \"right_wing\",\n",
    "    ]\n",
    "]"
   ]
  },
  {
   "cell_type": "code",
   "execution_count": null,
   "metadata": {},
   "outputs": [],
   "source": [
    "df.anti_elitism = df.anti_elitism.apply(json.dumps)\n",
    "df.people_centrism = df.people_centrism.apply(json.dumps)\n",
    "df.left_wing = df.left_wing.apply(json.dumps)\n",
    "df.right_wing = df.right_wing.apply(json.dumps)"
   ]
  },
  {
   "cell_type": "code",
   "execution_count": null,
   "metadata": {},
   "outputs": [],
   "source": [
    "df.to_csv(src.PATH / \"data/labelled_data.csv.zip\", index=False)"
   ]
  }
 ],
 "metadata": {
  "kernelspec": {
   "display_name": "bert_populism",
   "language": "python",
   "name": "bert_populism"
  },
  "language_info": {
   "codemirror_mode": {
    "name": "ipython",
    "version": 3
   },
   "file_extension": ".py",
   "mimetype": "text/x-python",
   "name": "python",
   "nbconvert_exporter": "python",
   "pygments_lexer": "ipython3",
   "version": "3.11.3"
  }
 },
 "nbformat": 4,
 "nbformat_minor": 2
}
