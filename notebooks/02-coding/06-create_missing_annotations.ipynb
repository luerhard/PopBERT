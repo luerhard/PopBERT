{
 "cells": [
  {
   "cell_type": "code",
   "execution_count": null,
   "metadata": {},
   "outputs": [],
   "source": [
    "import pandas as pd\n",
    "from sqlalchemy.orm import Session\n",
    "\n",
    "import src\n",
    "import src.db.connect\n",
    "import src.db.models.bert_data as bm"
   ]
  },
  {
   "cell_type": "code",
   "execution_count": null,
   "metadata": {},
   "outputs": [],
   "source": [
    "engine = src.db.connect.make_engine(\"DB\")\n",
    "s = Session(engine)"
   ]
  },
  {
   "cell_type": "code",
   "execution_count": null,
   "metadata": {},
   "outputs": [],
   "source": [
    "valid_coders = [\"grabsch\", \"schadt\", \"coudry\", \"riedel\", \"richter\"]\n",
    "\n",
    "results = []\n",
    "for coder in valid_coders:\n",
    "    query = s.query(bm.Sample).filter(\n",
    "        bm.Sample.used_in_batch != None,\n",
    "        ~s.query(bm.Label)\n",
    "        .filter(bm.Sample.id == bm.Label.sample_id, bm.Label.username == coder)\n",
    "        .exists(),\n",
    "    )\n",
    "    with engine.connect() as conn:\n",
    "        df = pd.read_sql(query.statement, conn)\n",
    "\n",
    "    results.append({\"coder\": coder, \"data\": df})"
   ]
  },
  {
   "cell_type": "code",
   "execution_count": null,
   "metadata": {},
   "outputs": [
    {
     "data": {
      "text/plain": [
       "[('grabsch', 0), ('schadt', 0), ('coudry', 0), ('riedel', 0), ('richter', 0)]"
      ]
     },
     "execution_count": null,
     "metadata": {},
     "output_type": "execute_result"
    }
   ],
   "source": [
    "[(d[\"coder\"], len(d[\"data\"])) for d in results]"
   ]
  },
  {
   "cell_type": "code",
   "execution_count": null,
   "metadata": {},
   "outputs": [],
   "source": [
    "tmpdir = src.PATH / \"tmp\"\n",
    "tmpdir.mkdir(exist_ok=True)\n",
    "\n",
    "\n",
    "for data in results:\n",
    "    coder = data[\"coder\"]\n",
    "    df = data[\"data\"]\n",
    "    df[\"label\"] = \"\"\n",
    "\n",
    "    with open(tmpdir / f\"missings_{coder}.jsonl\", \"w\", encoding=\"utf-8\") as file:\n",
    "        df[[\"text\", \"label\", \"id\"]].to_json(file, orient=\"records\", lines=True, force_ascii=False)"
   ]
  }
 ],
 "metadata": {
  "kernelspec": {
   "display_name": "bert_populism",
   "language": "python",
   "name": "bert_populism"
  },
  "language_info": {
   "codemirror_mode": {
    "name": "ipython",
    "version": 3
   },
   "file_extension": ".py",
   "mimetype": "text/x-python",
   "name": "python",
   "nbconvert_exporter": "python",
   "pygments_lexer": "ipython3",
   "version": "3.11.1"
  }
 },
 "nbformat": 4,
 "nbformat_minor": 2
}
