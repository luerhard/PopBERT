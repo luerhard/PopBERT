{
 "cells": [
  {
   "cell_type": "code",
   "execution_count": null,
   "metadata": {},
   "outputs": [],
   "source": [
    "import numpy as np\n",
    "import pandas as pd\n",
    "from sqlalchemy.orm import Query\n",
    "\n",
    "import src.db.connect\n",
    "import src.db.load\n",
    "import src.db.models.bert_data as bm"
   ]
  },
  {
   "cell_type": "code",
   "execution_count": null,
   "metadata": {},
   "outputs": [],
   "source": [
    "engine = src.db.connect.make_engine(\"DB\")"
   ]
  },
  {
   "cell_type": "code",
   "execution_count": null,
   "metadata": {},
   "outputs": [],
   "source": [
    "valid_coders = [\"riedel\", \"coudry\", \"richter\"]\n",
    "\n",
    "query = (\n",
    "    Query(bm.Label)\n",
    "    .join(bm.Sample)\n",
    "    .with_entities(\n",
    "        bm.Label.sample_id.label(\"id\"),\n",
    "        bm.Sample.text,\n",
    "        bm.Label.username,\n",
    "        bm.Label.pop_antielite.label(\"elite\"),\n",
    "        bm.Label.pop_pplcentr.label(\"centr\"),\n",
    "    )\n",
    "    .filter(bm.Label.username.in_(valid_coders))\n",
    ")\n",
    "\n",
    "\n",
    "with engine.connect() as conn:\n",
    "    df = pd.read_sql(query.statement, conn)\n",
    "    df[\"elite\"] = df[\"elite\"].astype(int)\n",
    "    df[\"centr\"] = df[\"centr\"].astype(int)"
   ]
  },
  {
   "attachments": {},
   "cell_type": "markdown",
   "metadata": {},
   "source": [
    "# Three coders + single var"
   ]
  },
  {
   "cell_type": "code",
   "execution_count": null,
   "metadata": {},
   "outputs": [],
   "source": [
    "df_pivot = df.pivot(index=[\"id\", \"text\"], values=\"elite\", columns=\"username\")\n",
    "\n",
    "df_pivot = df_pivot.dropna().reset_index().set_index(\"id\")\n",
    "df_unequal = df_pivot.loc[\n",
    "    ~(df_pivot.riedel == df_pivot.coudry) | ~(df_pivot.coudry == df_pivot.richter),\n",
    "    [\"coudry\", \"riedel\", \"richter\", \"text\"],\n",
    "]\n",
    "\n",
    "df_unequal.to_excel(src.PATH / \"tmp/unequal_elite_three_coders.xls\")"
   ]
  },
  {
   "cell_type": "code",
   "execution_count": null,
   "metadata": {},
   "outputs": [],
   "source": [
    "df_pivot = df.pivot(index=[\"id\", \"text\"], values=\"centr\", columns=\"username\")\n",
    "\n",
    "df_pivot = df_pivot.dropna().reset_index().set_index(\"id\")\n",
    "df_unequal = df_pivot.loc[\n",
    "    ~(df_pivot.riedel == df_pivot.coudry) | ~(df_pivot.coudry == df_pivot.richter),\n",
    "    [\"coudry\", \"riedel\", \"richter\", \"text\"],\n",
    "]\n",
    "\n",
    "df_unequal.to_excel(src.PATH / \"tmp/unequal_centr_three_coders.xls\")"
   ]
  },
  {
   "attachments": {},
   "cell_type": "markdown",
   "metadata": {},
   "source": [
    "# Two coders + single var"
   ]
  },
  {
   "cell_type": "code",
   "execution_count": null,
   "metadata": {},
   "outputs": [],
   "source": [
    "df_pivot = df.pivot(index=[\"id\", \"text\"], values=\"elite\", columns=\"username\").drop(\n",
    "    \"richter\", axis=1\n",
    ")\n",
    "\n",
    "df_pivot = df_pivot.dropna().reset_index().set_index(\"id\")\n",
    "df_unequal = df_pivot.loc[~(df_pivot.riedel == df_pivot.coudry), [\"coudry\", \"riedel\", \"text\"]]\n",
    "\n",
    "df_unequal.to_excel(src.PATH / \"tmp/unequal_elite_two_coders.xls\")"
   ]
  },
  {
   "cell_type": "code",
   "execution_count": null,
   "metadata": {},
   "outputs": [],
   "source": [
    "df_pivot = df.pivot(index=[\"id\", \"text\"], values=\"centr\", columns=\"username\").drop(\n",
    "    \"richter\", axis=1\n",
    ")\n",
    "\n",
    "df_pivot = df_pivot.dropna().reset_index().set_index(\"id\")\n",
    "df_unequal = df_pivot.loc[~(df_pivot.riedel == df_pivot.coudry), [\"coudry\", \"riedel\", \"text\"]]\n",
    "\n",
    "df_unequal.to_excel(src.PATH / \"tmp/unequal_centr_two_coders.xls\")"
   ]
  },
  {
   "attachments": {},
   "cell_type": "markdown",
   "metadata": {},
   "source": [
    "# Two coders + two vars"
   ]
  },
  {
   "cell_type": "code",
   "execution_count": null,
   "metadata": {},
   "outputs": [],
   "source": [
    "def set_label(row):\n",
    "    if row[\"elite\"] == 1 and row[\"centr\"] == 1:\n",
    "        return 12\n",
    "    elif np.isnan(row[\"elite\"]) or np.isnan(row[\"centr\"]):\n",
    "        return -9\n",
    "    elif row[\"elite\"] == 1:\n",
    "        return 1\n",
    "    elif row[\"centr\"] == 1:\n",
    "        return 2\n",
    "    else:\n",
    "        return 0\n",
    "\n",
    "\n",
    "df_pivot = df.copy()\n",
    "df_pivot[\"label\"] = df.apply(set_label, axis=1)\n",
    "df_pivot = df_pivot.pivot(index=[\"id\", \"text\"], values=\"label\", columns=\"username\").drop(\n",
    "    \"richter\", axis=1\n",
    ")\n",
    "\n",
    "df_pivot = df_pivot.dropna().reset_index().set_index(\"id\")\n",
    "df_unequal = df_pivot.loc[~(df_pivot.riedel == df_pivot.coudry), [\"coudry\", \"riedel\", \"text\"]]\n",
    "\n",
    "df_unequal.to_excel(src.PATH / \"tmp/unequal_both_vars_two_coders.xls\")"
   ]
  }
 ],
 "metadata": {
  "kernelspec": {
   "display_name": "bert_populism",
   "language": "python",
   "name": "bert_populism"
  },
  "language_info": {
   "codemirror_mode": {
    "name": "ipython",
    "version": 3
   },
   "file_extension": ".py",
   "mimetype": "text/x-python",
   "name": "python",
   "nbconvert_exporter": "python",
   "pygments_lexer": "ipython3",
   "version": "3.11.1"
  }
 },
 "nbformat": 4,
 "nbformat_minor": 2
}
