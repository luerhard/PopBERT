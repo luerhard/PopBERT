{
 "cells": [
  {
   "cell_type": "code",
   "execution_count": null,
   "metadata": {},
   "outputs": [],
   "source": [
    "%load_ext autoreload\n",
    "%autoreload 2"
   ]
  },
  {
   "cell_type": "code",
   "execution_count": null,
   "metadata": {},
   "outputs": [],
   "source": [
    "from itertools import combinations\n",
    "\n",
    "import numpy as np\n",
    "import pandas as pd\n",
    "import rpy2.robjects as ro\n",
    "from rpy2.robjects import numpy2ri\n",
    "from rpy2.robjects.packages import importr\n",
    "from sklearn.metrics import f1_score\n",
    "from statsmodels.stats import inter_rater\n",
    "\n",
    "import src\n",
    "import src.bert.dataset.strategies as strategy\n",
    "import src.db.connect\n",
    "from src.bert.dataset import PBertDataset"
   ]
  },
  {
   "cell_type": "code",
   "execution_count": null,
   "metadata": {},
   "outputs": [],
   "source": [
    "dataset = PBertDataset.from_disk(\n",
    "    path=src.PATH / \"data/bert/dataset.csv.zip\",\n",
    "    exclude_coders=[],\n",
    "    label_strategy=strategy.MLMin1PopIdeol(output_fmt=\"single_task\"),\n",
    ")"
   ]
  },
  {
   "cell_type": "code",
   "execution_count": null,
   "metadata": {},
   "outputs": [],
   "source": [
    "def pairwise_f1_agreement(df):\n",
    "    scores = []\n",
    "    for i, j in combinations(df.columns, r=2):\n",
    "        coder1 = df[i].apply(pd.Series).to_numpy()\n",
    "        coder2 = df[j].apply(pd.Series).to_numpy()\n",
    "        score = f1_score(coder1, coder2, average=\"binary\")\n",
    "        scores.append(score)\n",
    "\n",
    "    return np.mean(scores)"
   ]
  },
  {
   "cell_type": "code",
   "execution_count": null,
   "metadata": {},
   "outputs": [],
   "source": [
    "base = importr(\"base\")\n",
    "irr = importr(\"irr\")"
   ]
  },
  {
   "cell_type": "code",
   "execution_count": null,
   "metadata": {},
   "outputs": [],
   "source": [
    "def pairwise_f1_agreement(df):\n",
    "    scores = []\n",
    "    for i, j in combinations(df.columns, r=2):\n",
    "        coder1 = df[i]\n",
    "        coder2 = df[j]\n",
    "        score = f1_score(coder1, coder2, average=\"binary\")\n",
    "        scores.append(score)\n",
    "\n",
    "    return np.mean(scores)"
   ]
  },
  {
   "cell_type": "code",
   "execution_count": null,
   "metadata": {},
   "outputs": [],
   "source": [
    "def calculate_kappa(dataset, strategy, coders):\n",
    "    dataset.valid_coders = coders\n",
    "    dataset.strategy = strategy\n",
    "    dataset.apply_label_strategy()\n",
    "\n",
    "    df = dataset.df_labels.copy()\n",
    "    raw_data = pd.DataFrame(df.labels.tolist(), columns=dataset.coders, index=df.id)\n",
    "    f1_agreement = pairwise_f1_agreement(raw_data)\n",
    "    raw_data = raw_data.to_numpy()\n",
    "\n",
    "    with (ro.default_converter + numpy2ri.converter).context():\n",
    "        r_mat = ro.conversion.get_conversion().py2rpy(raw_data)\n",
    "\n",
    "    out = irr.kappam_fleiss(r_mat, exact=False)\n",
    "    kappa = np.array(out.rx(\"value\"))[0][0]\n",
    "\n",
    "    out = irr.agree(r_mat, tolerance=0)\n",
    "    agree = np.array(out.rx(\"value\"))[0][0]\n",
    "\n",
    "    out = irr.kripp_alpha(base.t(r_mat), method=\"nominal\")\n",
    "    alpha = np.array(out.rx(\"value\"))[0][0]\n",
    "\n",
    "    return round(kappa, 3), round(alpha, 3), round(agree, 1), round(f1_agreement, 3)"
   ]
  },
  {
   "cell_type": "code",
   "execution_count": null,
   "metadata": {},
   "outputs": [],
   "source": [
    "coder_sets = {\"all_coders\": dataset.all_coders}\n",
    "\n",
    "strategies = [\n",
    "    # strategy.MCPopBin(),\n",
    "    strategy.PopEliteBin(),\n",
    "    strategy.PopCentrBin(),\n",
    "    strategy.IdeolLeftBin(),\n",
    "    strategy.IdeolRightBin(),\n",
    "    # strategy.MCPopBinIdeol(),\n",
    "    # strategy.MCPopIdeol(),\n",
    "]"
   ]
  },
  {
   "attachments": {},
   "cell_type": "markdown",
   "metadata": {},
   "source": [
    "# Kappa Values\n"
   ]
  },
  {
   "cell_type": "code",
   "execution_count": null,
   "metadata": {},
   "outputs": [
    {
     "data": {
      "text/html": [
       "<div>\n",
       "<style scoped>\n",
       "    .dataframe tbody tr th:only-of-type {\n",
       "        vertical-align: middle;\n",
       "    }\n",
       "\n",
       "    .dataframe tbody tr th {\n",
       "        vertical-align: top;\n",
       "    }\n",
       "\n",
       "    .dataframe thead th {\n",
       "        text-align: right;\n",
       "    }\n",
       "</style>\n",
       "<table border=\"1\" class=\"dataframe\">\n",
       "  <thead>\n",
       "    <tr style=\"text-align: right;\">\n",
       "      <th></th>\n",
       "      <th></th>\n",
       "      <th>fleiss_kappa</th>\n",
       "      <th>f1</th>\n",
       "      <th>krippendorff_alpha</th>\n",
       "      <th>agree</th>\n",
       "    </tr>\n",
       "    <tr>\n",
       "      <th>strategy</th>\n",
       "      <th>coder_set</th>\n",
       "      <th></th>\n",
       "      <th></th>\n",
       "      <th></th>\n",
       "      <th></th>\n",
       "    </tr>\n",
       "  </thead>\n",
       "  <tbody>\n",
       "    <tr>\n",
       "      <th>PopEliteBin</th>\n",
       "      <th>all_coders</th>\n",
       "      <td>0.410</td>\n",
       "      <td>0.496</td>\n",
       "      <td>0.410</td>\n",
       "      <td>65.8</td>\n",
       "    </tr>\n",
       "    <tr>\n",
       "      <th>PopCentrBin</th>\n",
       "      <th>all_coders</th>\n",
       "      <td>0.244</td>\n",
       "      <td>0.262</td>\n",
       "      <td>0.244</td>\n",
       "      <td>81.8</td>\n",
       "    </tr>\n",
       "    <tr>\n",
       "      <th>IdeolLeftBin</th>\n",
       "      <th>all_coders</th>\n",
       "      <td>0.355</td>\n",
       "      <td>0.378</td>\n",
       "      <td>0.355</td>\n",
       "      <td>84.5</td>\n",
       "    </tr>\n",
       "    <tr>\n",
       "      <th>IdeolRightBin</th>\n",
       "      <th>all_coders</th>\n",
       "      <td>0.364</td>\n",
       "      <td>0.383</td>\n",
       "      <td>0.364</td>\n",
       "      <td>91.6</td>\n",
       "    </tr>\n",
       "  </tbody>\n",
       "</table>\n",
       "</div>"
      ],
      "text/plain": [
       "                          fleiss_kappa     f1  krippendorff_alpha  agree\n",
       "strategy      coder_set                                                 \n",
       "PopEliteBin   all_coders         0.410  0.496               0.410   65.8\n",
       "PopCentrBin   all_coders         0.244  0.262               0.244   81.8\n",
       "IdeolLeftBin  all_coders         0.355  0.378               0.355   84.5\n",
       "IdeolRightBin all_coders         0.364  0.383               0.364   91.6"
      ]
     },
     "execution_count": null,
     "metadata": {},
     "output_type": "execute_result"
    }
   ],
   "source": [
    "rows = []\n",
    "for strat in strategies:\n",
    "    for set_name, coders in coder_sets.items():\n",
    "        kappa, alpha, agree, f1 = calculate_kappa(dataset, strat, coders)\n",
    "        rows.append((type(strat).__name__, set_name, kappa, f1, alpha, agree))\n",
    "\n",
    "pd.DataFrame(\n",
    "    rows,\n",
    "    columns=[\n",
    "        \"strategy\",\n",
    "        \"coder_set\",\n",
    "        \"fleiss_kappa\",\n",
    "        \"f1\",\n",
    "        \"krippendorff_alpha\",\n",
    "        \"agree\",\n",
    "    ],\n",
    ").set_index([\"strategy\", \"coder_set\"])"
   ]
  },
  {
   "attachments": {},
   "cell_type": "markdown",
   "metadata": {},
   "source": [
    "# Conflicting Left / Right\n"
   ]
  },
  {
   "cell_type": "code",
   "execution_count": null,
   "metadata": {},
   "outputs": [],
   "source": [
    "def conflicting_samples_count(dataset, coders):\n",
    "    # all coders\n",
    "    dataset.valid_coders = coders\n",
    "    dataset.strategy = strategy.MLIdeol()\n",
    "    dataset.apply_label_strategy()\n",
    "\n",
    "    subset = len(dataset.df_labels[dataset.df_labels.vote == tuple([1, 1])])\n",
    "    total = len(dataset.df_labels)\n",
    "\n",
    "    return subset, total\n",
    "\n",
    "\n",
    "subset, total = conflicting_samples_count(dataset, coder_sets[\"all_coders\"])\n",
    "print(\n",
    "    f\"{subset} out of {total} samples {subset / total:.4%} have a positive majority vote on \"\n",
    "    \"both dimensions. (all coders)\"\n",
    ")\n",
    "\n",
    "subset, total = conflicting_samples_count(dataset, coder_sets[\"reduced_coders\"])\n",
    "print(\n",
    "    f\"{subset} out of {total} samples {subset / total:.4%} have a positive majority vote on \"\n",
    "    \"both dimensions. (reduced coders)\"\n",
    ")"
   ]
  },
  {
   "cell_type": "code",
   "execution_count": null,
   "metadata": {},
   "outputs": [],
   "source": [
    "def conflicting_codings_count(dataset, coders):\n",
    "    username = dataset.df.username.isin(coders)\n",
    "    subset = len(dataset.df[username & dataset.df.left & dataset.df.right])\n",
    "    total = len(dataset.df[username])\n",
    "\n",
    "    return subset, total\n",
    "\n",
    "\n",
    "subset, total = conflicting_codings_count(dataset, coder_sets[\"all_coders\"])\n",
    "print(\n",
    "    f\"{subset} out of {total} codings {subset / total:.4%} have are positive on both dimensions. \"\n",
    "    \"(all coders)\"\n",
    ")\n",
    "\n",
    "subset, total = conflicting_codings_count(dataset, coder_sets[\"reduced_coders\"])\n",
    "print(\n",
    "    f\"{subset} out of {total} codings {subset / total:.4%} have are positive on both dimensions. \"\n",
    "    \"(reduced coders)\"\n",
    ")"
   ]
  },
  {
   "cell_type": "code",
   "execution_count": null,
   "metadata": {},
   "outputs": [],
   "source": [
    "# Number of codings with left OR right but no populism\n",
    "\n",
    "\n",
    "def left_right_no_pop_codings(dataset, coders):\n",
    "    username = dataset.df.username.isin(coders)\n",
    "    subset = len(\n",
    "        dataset.df[\n",
    "            username & ~(dataset.df.elite | dataset.df.centr) & (dataset.df.left | dataset.df.right)\n",
    "        ]\n",
    "    )\n",
    "    total = len(dataset.df[username])\n",
    "    return subset, total\n",
    "\n",
    "\n",
    "subset, total = left_right_no_pop_codings(dataset, coder_sets[\"all_coders\"])\n",
    "print(\n",
    "    f\"{subset} out of {total} codings {subset / total:.4%} have left OR right but not populism. \"\n",
    "    \"(all coders)\"\n",
    ")\n",
    "subset, total = left_right_no_pop_codings(dataset, coder_sets[\"reduced_coders\"])\n",
    "print(\n",
    "    f\"{subset} out of {total} codings {subset / total:.4%} have left OR right but not populism. \"\n",
    "    \"(reduced coders)\"\n",
    ")"
   ]
  },
  {
   "cell_type": "code",
   "execution_count": null,
   "metadata": {},
   "outputs": [],
   "source": [
    "def left_right_no_pop_samples(dataset, coders):\n",
    "    dataset.valid_coders = coders\n",
    "    dataset.strategy = strategy.MLPopBinIdeol()\n",
    "    dataset.apply_label_strategy()\n",
    "\n",
    "    subset = len(\n",
    "        dataset.df_labels[\n",
    "            dataset.df_labels.vote.apply(lambda x: (x[0] == 0) and (x[1] == 1 or x[2] == 1))\n",
    "        ]\n",
    "    )\n",
    "    total = len(dataset.df_labels)\n",
    "    return subset, total\n",
    "\n",
    "\n",
    "subset, total = left_right_no_pop_samples(dataset, coder_sets[\"all_coders\"])\n",
    "print(\n",
    "    f\"{subset} out of {total} samples {subset / total:.4%} have left OR right but not populism. \"\n",
    "    \"(all coders)\"\n",
    ")\n",
    "\n",
    "subset, total = left_right_no_pop_samples(dataset, coder_sets[\"reduced_coders\"])\n",
    "print(\n",
    "    f\"{subset} out of {total} samples {subset / total:.4%} have left OR right but not populism. \"\n",
    "    \"(reduced coders)\"\n",
    ")"
   ]
  }
 ],
 "metadata": {
  "kernelspec": {
   "display_name": "bert_populism",
   "language": "python",
   "name": "bert_populism"
  },
  "language_info": {
   "codemirror_mode": {
    "name": "ipython",
    "version": 3
   },
   "file_extension": ".py",
   "mimetype": "text/x-python",
   "name": "python",
   "nbconvert_exporter": "python",
   "pygments_lexer": "ipython3",
   "version": "3.11.6"
  }
 },
 "nbformat": 4,
 "nbformat_minor": 2
}
