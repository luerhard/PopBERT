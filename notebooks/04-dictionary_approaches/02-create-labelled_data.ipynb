{
 "cells": [
  {
   "cell_type": "code",
   "execution_count": 1,
   "metadata": {},
   "outputs": [],
   "source": [
    "# %load_ext autoreload\n",
    "# %autoreload 2"
   ]
  },
  {
   "cell_type": "code",
   "execution_count": 4,
   "metadata": {},
   "outputs": [
    {
     "name": "stderr",
     "output_type": "stream",
     "text": [
      "/mnt/nvme_storage/git/bert_populism/src/db/models.py:9: SAWarning: Skipped unsupported reflection of expression-based index date_index\n",
      "  metadata.reflect(engine, schema=\"open_discourse\", only=[\"speeches\"])\n"
     ]
    }
   ],
   "source": [
    "import csv\n",
    "import random\n",
    "import re\n",
    "\n",
    "import pandas as pd\n",
    "import spacy\n",
    "from pandarallel import pandarallel\n",
    "from sqlalchemy import func\n",
    "from sqlalchemy.orm import Query\n",
    "from sqlalchemy.orm import Session\n",
    "from tqdm.notebook import tqdm\n",
    "\n",
    "import src\n",
    "import src.db.models as m\n",
    "from src.pop_dict import GruendlDict"
   ]
  },
  {
   "cell_type": "code",
   "execution_count": 6,
   "metadata": {},
   "outputs": [],
   "source": [
    "# setup\n",
    "pd.set_option(\"max.colwidth\", None)\n",
    "session = Session(m.engine)\n",
    "regex = \"|\".join(GruendlDict.postgres())\n",
    "\n",
    "\n",
    "csv_params = dict(delimiter=\",\", quotechar='\"', quoting=csv.QUOTE_NONNUMERIC)\n",
    "\n",
    "\n",
    "electoral_term = 19"
   ]
  },
  {
   "cell_type": "markdown",
   "metadata": {},
   "source": [
    "# Download raw data from DB\n"
   ]
  },
  {
   "cell_type": "code",
   "execution_count": 7,
   "metadata": {},
   "outputs": [],
   "source": [
    "# prepare functions and objects\n",
    "\n",
    "\n",
    "def clean_raw_text(text):\n",
    "    \"\"\"basic cleaning of the raw text\n",
    "\n",
    "    Args:\n",
    "        text (str): Komplette Rede\n",
    "\n",
    "    Returns:\n",
    "        str: leicht bereinigte Rede\n",
    "    \"\"\"\n",
    "    text = re.sub(\"\\n\", \" \", text)\n",
    "    text = re.sub(\"\\(\\{\\d+\\}\\)\", \" \", text)\n",
    "    return text\n",
    "\n",
    "\n",
    "def get_positives(text, pyregex):\n",
    "    \"\"\"Findet die positiven Matches auf Satzebene\n",
    "\n",
    "    Args:\n",
    "        text (str): Rede\n",
    "        pyregex: Kompilierte python regex\n",
    "\n",
    "    Returns:\n",
    "        List[str]: Sätze, bei denen die regex einen Match gefunden hat.\n",
    "    \"\"\"\n",
    "    matches = []\n",
    "\n",
    "    doc = nlp(text)\n",
    "\n",
    "    for sent in doc.sents:\n",
    "        sent = str(sent).strip()\n",
    "        if pyregex.search(sent):\n",
    "            matches.append(sent)\n",
    "    return matches\n",
    "\n",
    "\n",
    "nlp = spacy.load(\"de_core_news_md\")\n",
    "pyregex = re.compile(regex, flags=re.I)"
   ]
  },
  {
   "cell_type": "markdown",
   "metadata": {},
   "source": [
    "## get positive matches\n"
   ]
  },
  {
   "cell_type": "code",
   "execution_count": 8,
   "metadata": {},
   "outputs": [],
   "source": [
    "postive_matches_file = src.PATH / f\"data/dict_approach/positives_{electoral_term}.csv\""
   ]
  },
  {
   "cell_type": "markdown",
   "metadata": {},
   "source": [
    "### get data from DB\n"
   ]
  },
  {
   "cell_type": "code",
   "execution_count": 9,
   "metadata": {},
   "outputs": [],
   "source": [
    "query = (\n",
    "    session.query(m.Speech)\n",
    "    .filter(\n",
    "        m.Speech.electoral_term == electoral_term,\n",
    "        m.Speech.speech_content.regexp_match(regex, flags=\"i\"),\n",
    "    )\n",
    "    .with_entities(\n",
    "        m.Speech.id,\n",
    "        m.Speech.speech_content,\n",
    "    )\n",
    ")"
   ]
  },
  {
   "cell_type": "markdown",
   "metadata": {},
   "source": [
    "### Extract relevant sentences\n"
   ]
  },
  {
   "cell_type": "code",
   "execution_count": 10,
   "metadata": {
    "tags": []
   },
   "outputs": [
    {
     "data": {
      "application/vnd.jupyter.widget-view+json": {
       "model_id": "ae26256f7e2346eda8afe6a606375815",
       "version_major": 2,
       "version_minor": 0
      },
      "text/plain": [
       "0it [00:00, ?it/s]"
      ]
     },
     "metadata": {},
     "output_type": "display_data"
    }
   ],
   "source": [
    "with open(postive_matches_file, \"w\", buffering=5) as csvfile:\n",
    "    writer = csv.writer(csvfile, **csv_params)\n",
    "    writer.writerow([\"speech_id\", \"sentence\"])\n",
    "\n",
    "    for row in tqdm(query.with_session(session).yield_per(15), smoothing=1, total=limit):\n",
    "        speech_id = row.id\n",
    "        text = row.speech_content\n",
    "        clean_text = clean_raw_text(text)\n",
    "        sents = get_positives(clean_text, pyregex)\n",
    "        for sent in sents:\n",
    "            writer.writerow([speech_id, sent])"
   ]
  },
  {
   "cell_type": "markdown",
   "metadata": {},
   "source": [
    "## get negative matches\n"
   ]
  },
  {
   "cell_type": "code",
   "execution_count": 11,
   "metadata": {},
   "outputs": [],
   "source": [
    "neg_matches_file = src.PATH / f\"data/dict_approach/negatives_{electoral_term}.csv\""
   ]
  },
  {
   "cell_type": "markdown",
   "metadata": {},
   "source": [
    "### get data from DB\n"
   ]
  },
  {
   "cell_type": "code",
   "execution_count": 12,
   "metadata": {},
   "outputs": [],
   "source": [
    "query = (\n",
    "    session.query(func.setseed(0.1337), m.Speech)\n",
    "    .filter(\n",
    "        m.Speech.electoral_term == electoral_term,\n",
    "        ~m.Speech.speech_content.regexp_match(regex, flags=\"i\"),\n",
    "        func.random() < 0.35,\n",
    "    )\n",
    "    .with_entities(\n",
    "        m.Speech.id,\n",
    "        m.Speech.speech_content,\n",
    "    )\n",
    ")"
   ]
  },
  {
   "cell_type": "markdown",
   "metadata": {},
   "source": [
    "### Extract relevant sentences\n"
   ]
  },
  {
   "cell_type": "code",
   "execution_count": 13,
   "metadata": {},
   "outputs": [],
   "source": [
    "# prepare functions and objects\n",
    "\n",
    "\n",
    "def get_negatives(text):\n",
    "    \"\"\"Findet die positiven Matches auf Satzebene\n",
    "\n",
    "    Args:\n",
    "        text (str): Rede\n",
    "\n",
    "    Returns:\n",
    "        List[str]: Sätze, bei denen die regex einen Match gefunden hat.\n",
    "    \"\"\"\n",
    "    doc = nlp(text)\n",
    "\n",
    "    sents = [sent for sent in doc.sents if len(sent) > 7]\n",
    "    if len(sents) < 2:\n",
    "        return None\n",
    "\n",
    "    index = random.randint(0, len(sents) - 1)\n",
    "    sent = str(sents[index]).strip()\n",
    "    return sent\n",
    "\n",
    "\n",
    "nlp = spacy.load(\"de_core_news_md\")"
   ]
  },
  {
   "cell_type": "code",
   "execution_count": 16,
   "metadata": {},
   "outputs": [
    {
     "data": {
      "application/vnd.jupyter.widget-view+json": {
       "model_id": "a6694e1a856b4314af2f096b1e92e8ce",
       "version_major": 2,
       "version_minor": 0
      },
      "text/plain": [
       "0it [00:00, ?it/s]"
      ]
     },
     "metadata": {},
     "output_type": "display_data"
    }
   ],
   "source": [
    "random.seed(1337)\n",
    "\n",
    "with open(neg_matches_file, \"w\" buffering=5) as csvfile:\n",
    "\n",
    "    writer = csv.writer(csvfile, **csv_params)\n",
    "    writer.writerow([\"speech_id\", \"sentence\"])\n",
    "\n",
    "    for row in tqdm(query.with_session(session).yield_per(50), smoothing=1, total=limit):\n",
    "        speech_id = row.id\n",
    "        text = row.speech_content\n",
    "        clean_text = clean_raw_text(text)\n",
    "        sent = get_negatives(clean_text)\n",
    "        if sent:\n",
    "            writer.writerow([speech_id, sent])"
   ]
  },
  {
   "cell_type": "markdown",
   "metadata": {},
   "source": [
    "# Playground"
   ]
  },
  {
   "cell_type": "raw",
   "metadata": {},
   "source": [
    "# analyze query to get a sense\n",
    "\n",
    "\n",
    "def explain_query(query, engine, session, analyze=False):\n",
    "    \"\"\"prettifies return of Postgres EXPLAIN [ANALYZE]\n",
    "\n",
    "    Args:\n",
    "        query (sqlalchemy.Query): Query, die analysiert werden soll\n",
    "        engine (sqlalchemy.Engine): Engine, die zur DB gehört (damit statement kompiliert werden kann)\n",
    "        session (sqlalchemy.Session): Session, mit der die Explain Query ausgeführt werden soll.\n",
    "        analyze (bool, optional): Wenn True, EXPLAIN ANALYZE; sonst nur EXPLAIN.\n",
    "    \"\"\"\n",
    "    statement = query.statement.compile(m.engine, compile_kwargs={\"literal_binds\": True})\n",
    "    print(statement)\n",
    "    if not analyze:\n",
    "        rows = session.execute(f\"EXPLAIN {str(statement)}\").fetchall()\n",
    "    else:\n",
    "        rows = session.execute(f\"EXPLAIN ANALYZE {str(statement)}\").fetchall()\n",
    "\n",
    "    text = \"\"\n",
    "    for row in rows:\n",
    "        for col in row:\n",
    "            if len(col) > 100:\n",
    "                text += col[:150] + \"...\"\n",
    "            else:\n",
    "                text += col\n",
    "        text += \"\\n\"\n",
    "    print(text)\n",
    "\n",
    "\n",
    "if limit and limit < 25:\n",
    "    explain_query(query, m.engine, session, analyze=True)\n",
    "else:\n",
    "    explain_query(query, m.engine, session, analyze=False)\n"
   ]
  },
  {
   "cell_type": "code",
   "execution_count": null,
   "metadata": {},
   "outputs": [],
   "source": []
  },
  {
   "cell_type": "code",
   "execution_count": null,
   "metadata": {},
   "outputs": [],
   "source": []
  }
 ],
 "metadata": {
  "kernelspec": {
   "display_name": "Python 3 (ipykernel)",
   "language": "python",
   "name": "python3"
  },
  "language_info": {
   "codemirror_mode": {
    "name": "ipython",
    "version": 3
   },
   "file_extension": ".py",
   "mimetype": "text/x-python",
   "name": "python",
   "nbconvert_exporter": "python",
   "pygments_lexer": "ipython3",
   "version": "3.10.6"
  },
  "vscode": {
   "interpreter": {
    "hash": "05b0f58c2bcdc36936de25f1aaac0724cceaad7ddc88039a552f8d696c8fb19b"
   }
  }
 },
 "nbformat": 4,
 "nbformat_minor": 4
}
