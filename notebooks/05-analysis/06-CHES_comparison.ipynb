{
 "cells": [
  {
   "cell_type": "markdown",
   "metadata": {},
   "source": [
    "# Validation against CHES and POPPA Expert Ratings"
   ]
  },
  {
   "cell_type": "code",
   "execution_count": 74,
   "metadata": {},
   "outputs": [],
   "source": [
    "import pandas as pd\n",
    "\n",
    "import src"
   ]
  },
  {
   "cell_type": "markdown",
   "metadata": {},
   "source": [
    "## CHES Data"
   ]
  },
  {
   "cell_type": "code",
   "execution_count": 75,
   "metadata": {},
   "outputs": [],
   "source": [
    "ches = pd.read_csv(src.PATH / \"data/CHES/CHES2019V3.csv\")\n",
    "\n",
    "ches = ches.loc[(ches.country == 3), [\"party\", \"people_vs_elite\", \"antielite_salience\"]]\n",
    "\n",
    "ches[\"party\"] = ches[\"party\"].replace({\"GRUNEN\": \"Grüne\", \"LINKE\": \"DIE LINKE.\"})\n",
    "\n",
    "ches = ches.rename({\"antielite_salience\": \"elite\", \"people_vs_elite\": \"pplcentr\"}, axis=1)\n",
    "\n",
    "seats_cdu = 200\n",
    "seats_csu = 45\n",
    "\n",
    "row = pd.Series({\"party\": \"CDU/CSU\"})\n",
    "for var in [\"pplcentr\", \"elite\"]:\n",
    "    row[var] = (\n",
    "        (ches.loc[ches.party == \"CSU\", var].values[0] * seats_csu)\n",
    "        + ((ches.loc[ches.party == \"CDU\", var].values[0] * seats_cdu))\n",
    "    ) / (seats_cdu + seats_csu)\n",
    "\n",
    "ches = pd.concat([ches.T, row], axis=1).T\n",
    "\n",
    "ches[\"pplcentr\"] = ches[\"pplcentr\"].astype(float)\n",
    "ches[\"elite\"] = ches[\"elite\"].astype(float)"
   ]
  },
  {
   "cell_type": "code",
   "execution_count": 76,
   "metadata": {},
   "outputs": [
    {
     "data": {
      "text/html": [
       "<div>\n",
       "<style scoped>\n",
       "    .dataframe tbody tr th:only-of-type {\n",
       "        vertical-align: middle;\n",
       "    }\n",
       "\n",
       "    .dataframe tbody tr th {\n",
       "        vertical-align: top;\n",
       "    }\n",
       "\n",
       "    .dataframe thead th {\n",
       "        text-align: right;\n",
       "    }\n",
       "</style>\n",
       "<table border=\"1\" class=\"dataframe\">\n",
       "  <thead>\n",
       "    <tr style=\"text-align: right;\">\n",
       "      <th></th>\n",
       "      <th>party</th>\n",
       "      <th>pplcentr</th>\n",
       "      <th>elite</th>\n",
       "    </tr>\n",
       "  </thead>\n",
       "  <tbody>\n",
       "    <tr>\n",
       "      <th>21</th>\n",
       "      <td>CDU</td>\n",
       "      <td>1.700000</td>\n",
       "      <td>0.750000</td>\n",
       "    </tr>\n",
       "    <tr>\n",
       "      <th>22</th>\n",
       "      <td>SPD</td>\n",
       "      <td>2.450000</td>\n",
       "      <td>1.350000</td>\n",
       "    </tr>\n",
       "    <tr>\n",
       "      <th>23</th>\n",
       "      <td>FDP</td>\n",
       "      <td>2.350000</td>\n",
       "      <td>1.250000</td>\n",
       "    </tr>\n",
       "    <tr>\n",
       "      <th>24</th>\n",
       "      <td>Grüne</td>\n",
       "      <td>4.900000</td>\n",
       "      <td>1.800000</td>\n",
       "    </tr>\n",
       "    <tr>\n",
       "      <th>25</th>\n",
       "      <td>DIE LINKE.</td>\n",
       "      <td>4.350000</td>\n",
       "      <td>4.450000</td>\n",
       "    </tr>\n",
       "    <tr>\n",
       "      <th>26</th>\n",
       "      <td>CSU</td>\n",
       "      <td>2.842105</td>\n",
       "      <td>1.550000</td>\n",
       "    </tr>\n",
       "    <tr>\n",
       "      <th>27</th>\n",
       "      <td>AfD</td>\n",
       "      <td>8.315789</td>\n",
       "      <td>9.700000</td>\n",
       "    </tr>\n",
       "    <tr>\n",
       "      <th>28</th>\n",
       "      <td>Piraten</td>\n",
       "      <td>8.900000</td>\n",
       "      <td>8.800000</td>\n",
       "    </tr>\n",
       "    <tr>\n",
       "      <th>29</th>\n",
       "      <td>DieTier</td>\n",
       "      <td>9.666667</td>\n",
       "      <td>10.000000</td>\n",
       "    </tr>\n",
       "    <tr>\n",
       "      <th>0</th>\n",
       "      <td>CDU/CSU</td>\n",
       "      <td>1.909774</td>\n",
       "      <td>0.896939</td>\n",
       "    </tr>\n",
       "  </tbody>\n",
       "</table>\n",
       "</div>"
      ],
      "text/plain": [
       "         party  pplcentr      elite\n",
       "21         CDU  1.700000   0.750000\n",
       "22         SPD  2.450000   1.350000\n",
       "23         FDP  2.350000   1.250000\n",
       "24       Grüne  4.900000   1.800000\n",
       "25  DIE LINKE.  4.350000   4.450000\n",
       "26         CSU  2.842105   1.550000\n",
       "27         AfD  8.315789   9.700000\n",
       "28     Piraten  8.900000   8.800000\n",
       "29     DieTier  9.666667  10.000000\n",
       "0      CDU/CSU  1.909774   0.896939"
      ]
     },
     "execution_count": 76,
     "metadata": {},
     "output_type": "execute_result"
    }
   ],
   "source": [
    "ches"
   ]
  },
  {
   "cell_type": "code",
   "execution_count": 77,
   "metadata": {},
   "outputs": [],
   "source": [
    "df_ours = pd.read_csv(src.PATH / \"data/figure_1_numbers.csv\")\n",
    "df_ours = df_ours[df_ours.electoral_term == 19]\n",
    "df_ours[\"variable\"] = df_ours[\"variable\"].replace(\n",
    "    {\"(a) Anti-Elitism\": \"elite\", \"(b) People-Centrism\": \"pplcentr\"}\n",
    ")\n",
    "df_ours = df_ours[df_ours.variable.isin([\"elite\", \"pplcentr\"])]\n",
    "df_ours = df_ours.pivot(index=\"Party\", columns=\"variable\", values=\"value\").reset_index()"
   ]
  },
  {
   "cell_type": "code",
   "execution_count": 78,
   "metadata": {},
   "outputs": [],
   "source": [
    "df = pd.merge(\n",
    "    ches, df_ours, how=\"inner\", left_on=\"party\", right_on=\"Party\", suffixes=[\"_ches\", \"\"])"
   ]
  },
  {
   "cell_type": "markdown",
   "metadata": {},
   "source": [
    "## POPPA Data\n"
   ]
  },
  {
   "cell_type": "markdown",
   "metadata": {},
   "source": [
    "Source: \n",
    "Meijers, Maurits; Zaslove, Andrej, 2020, \"Populism and Political Parties Expert Survey 2018 (POPPA)\", [https://doi.org/10.7910/DVN/8NEL7B](https://doi.org/10.7910/DVN/8NEL7B)"
   ]
  },
  {
   "cell_type": "code",
   "execution_count": 79,
   "metadata": {},
   "outputs": [],
   "source": [
    "poppa = pd.read_csv(src.PATH / \"data/POPPA/party_means.tab\",\n",
    "                    sep='\\t')\n",
    "poppa = poppa.loc[(poppa.country_id == 12), [\"party\", \"peoplecentrism\", \"antielitism\"]]\n",
    "poppa[\"party\"] = poppa[\"party\"].replace({\"B90Grune\": \"Grüne\", \"Linke\": \"DIE LINKE.\"})\n",
    "poppa = poppa.rename({\"antielitism\": \"elite\", \"peoplecentrism\": \"pplcentr\"}, axis=1)"
   ]
  },
  {
   "cell_type": "code",
   "execution_count": 80,
   "metadata": {},
   "outputs": [],
   "source": [
    "row = pd.Series({\"party\": \"CDU/CSU\"})\n",
    "for var in [\"pplcentr\", \"elite\"]:\n",
    "    row[var] = (\n",
    "        (poppa.loc[poppa.party == \"CSU\", var].values[0] * seats_csu)\n",
    "        + ((poppa.loc[poppa.party == \"CDU\", var].values[0] * seats_cdu))\n",
    "    ) / (seats_cdu + seats_csu)\n",
    "\n",
    "poppa = pd.concat([poppa.T, row], axis=1).T\n",
    "\n",
    "poppa[\"pplcentr\"] = poppa[\"pplcentr\"].astype(float)\n",
    "poppa[\"elite\"] = poppa[\"elite\"].astype(float)"
   ]
  },
  {
   "cell_type": "code",
   "execution_count": 81,
   "metadata": {},
   "outputs": [],
   "source": [
    "df = pd.merge(\n",
    "    poppa, df, how=\"inner\", left_on=\"party\", right_on=\"Party\", suffixes=[\"_poppa\", \"\"]\n",
    ")"
   ]
  },
  {
   "cell_type": "markdown",
   "metadata": {},
   "source": [
    "## Correlations"
   ]
  },
  {
   "cell_type": "code",
   "execution_count": 82,
   "metadata": {},
   "outputs": [
    {
     "data": {
      "text/html": [
       "<div>\n",
       "<style scoped>\n",
       "    .dataframe tbody tr th:only-of-type {\n",
       "        vertical-align: middle;\n",
       "    }\n",
       "\n",
       "    .dataframe tbody tr th {\n",
       "        vertical-align: top;\n",
       "    }\n",
       "\n",
       "    .dataframe thead th {\n",
       "        text-align: right;\n",
       "    }\n",
       "</style>\n",
       "<table border=\"1\" class=\"dataframe\">\n",
       "  <thead>\n",
       "    <tr style=\"text-align: right;\">\n",
       "      <th></th>\n",
       "      <th>pplcentr_poppa</th>\n",
       "      <th>elite_poppa</th>\n",
       "      <th>pplcentr_ches</th>\n",
       "      <th>elite_ches</th>\n",
       "      <th>elite</th>\n",
       "      <th>pplcentr</th>\n",
       "    </tr>\n",
       "  </thead>\n",
       "  <tbody>\n",
       "    <tr>\n",
       "      <th>pplcentr_poppa</th>\n",
       "      <td>1.000000</td>\n",
       "      <td>0.978300</td>\n",
       "      <td>0.981106</td>\n",
       "      <td>0.983208</td>\n",
       "      <td>0.914437</td>\n",
       "      <td>0.822762</td>\n",
       "    </tr>\n",
       "    <tr>\n",
       "      <th>elite_poppa</th>\n",
       "      <td>0.978300</td>\n",
       "      <td>1.000000</td>\n",
       "      <td>0.964664</td>\n",
       "      <td>0.950454</td>\n",
       "      <td>0.830183</td>\n",
       "      <td>0.904655</td>\n",
       "    </tr>\n",
       "    <tr>\n",
       "      <th>pplcentr_ches</th>\n",
       "      <td>0.981106</td>\n",
       "      <td>0.964664</td>\n",
       "      <td>1.000000</td>\n",
       "      <td>0.931613</td>\n",
       "      <td>0.934325</td>\n",
       "      <td>0.785076</td>\n",
       "    </tr>\n",
       "    <tr>\n",
       "      <th>elite_ches</th>\n",
       "      <td>0.983208</td>\n",
       "      <td>0.950454</td>\n",
       "      <td>0.931613</td>\n",
       "      <td>1.000000</td>\n",
       "      <td>0.871626</td>\n",
       "      <td>0.797684</td>\n",
       "    </tr>\n",
       "    <tr>\n",
       "      <th>elite</th>\n",
       "      <td>0.914437</td>\n",
       "      <td>0.830183</td>\n",
       "      <td>0.934325</td>\n",
       "      <td>0.871626</td>\n",
       "      <td>1.000000</td>\n",
       "      <td>0.591293</td>\n",
       "    </tr>\n",
       "    <tr>\n",
       "      <th>pplcentr</th>\n",
       "      <td>0.822762</td>\n",
       "      <td>0.904655</td>\n",
       "      <td>0.785076</td>\n",
       "      <td>0.797684</td>\n",
       "      <td>0.591293</td>\n",
       "      <td>1.000000</td>\n",
       "    </tr>\n",
       "  </tbody>\n",
       "</table>\n",
       "</div>"
      ],
      "text/plain": [
       "                pplcentr_poppa  elite_poppa  pplcentr_ches  elite_ches  \\\n",
       "pplcentr_poppa        1.000000     0.978300       0.981106    0.983208   \n",
       "elite_poppa           0.978300     1.000000       0.964664    0.950454   \n",
       "pplcentr_ches         0.981106     0.964664       1.000000    0.931613   \n",
       "elite_ches            0.983208     0.950454       0.931613    1.000000   \n",
       "elite                 0.914437     0.830183       0.934325    0.871626   \n",
       "pplcentr              0.822762     0.904655       0.785076    0.797684   \n",
       "\n",
       "                   elite  pplcentr  \n",
       "pplcentr_poppa  0.914437  0.822762  \n",
       "elite_poppa     0.830183  0.904655  \n",
       "pplcentr_ches   0.934325  0.785076  \n",
       "elite_ches      0.871626  0.797684  \n",
       "elite           1.000000  0.591293  \n",
       "pplcentr        0.591293  1.000000  "
      ]
     },
     "execution_count": 82,
     "metadata": {},
     "output_type": "execute_result"
    }
   ],
   "source": [
    "df = df.drop(\"Party\", axis=1)\n",
    "df.corr(method=\"pearson\", numeric_only=True)"
   ]
  }
 ],
 "metadata": {
  "kernelspec": {
   "display_name": "bert-populism-y7Mz9dBm-py3.10",
   "language": "python",
   "name": "python3"
  },
  "language_info": {
   "codemirror_mode": {
    "name": "ipython",
    "version": 3
   },
   "file_extension": ".py",
   "mimetype": "text/x-python",
   "name": "python",
   "nbconvert_exporter": "python",
   "pygments_lexer": "ipython3",
   "version": "3.10.8"
  }
 },
 "nbformat": 4,
 "nbformat_minor": 2
}
