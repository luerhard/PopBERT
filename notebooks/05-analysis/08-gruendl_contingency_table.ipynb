{
 "cells": [
  {
   "cell_type": "code",
   "execution_count": null,
   "id": "89bea73f-fdac-406d-9717-29b7dd2d76b1",
   "metadata": {
    "tags": []
   },
   "outputs": [],
   "source": [
    "import pandas as pd\n",
    "from scipy.stats.contingency import association\n",
    "from sqlalchemy import case\n",
    "from sqlalchemy import literal\n",
    "from sqlalchemy.orm import Query\n",
    "\n",
    "import src\n",
    "import src.db.models.bert_data as bm\n",
    "import src.db.models.open_discourse as od"
   ]
  },
  {
   "cell_type": "code",
   "execution_count": null,
   "id": "b73cec08-749b-4602-aa13-118ebedf0b3a",
   "metadata": {
    "tags": []
   },
   "outputs": [],
   "source": [
    "pd.set_option(\"display.max_colwidth\", 2048)\n",
    "pd.set_option(\"display.max_rows\", 256)\n",
    "\n",
    "engine = src.db.connect.make_engine(\"DB\")"
   ]
  },
  {
   "attachments": {},
   "cell_type": "markdown",
   "id": "a78889d7-6cf2-4f02-ba46-59290ab3c448",
   "metadata": {},
   "source": [
    "# Load data\n"
   ]
  },
  {
   "cell_type": "code",
   "execution_count": null,
   "id": "8bec0426",
   "metadata": {},
   "outputs": [],
   "source": [
    "thresh = {\"elite\": 0.415961, \"centr\": 0.295400, \"left\": 0.429109, \"right\": 0.302714}"
   ]
  },
  {
   "cell_type": "code",
   "execution_count": null,
   "id": "61ea9609-be6c-4447-83c8-5c2a686d6b1c",
   "metadata": {
    "tags": []
   },
   "outputs": [],
   "source": [
    "colormap = {\n",
    "    \"CDU/CSU\": \"#000000\",\n",
    "    \"Grüne\": \"#1AA037\",\n",
    "    \"DIE LINKE\": \"#8B008B\",\n",
    "    \"FDP\": \"#FFEF00\",\n",
    "    \"AfD\": \"#0489DB\",\n",
    "    \"SPD\": \"#E3000F\",\n",
    "}"
   ]
  },
  {
   "cell_type": "code",
   "execution_count": null,
   "id": "864bc217-d1d2-4243-8045-1528985c3d8b",
   "metadata": {
    "tags": []
   },
   "outputs": [],
   "source": [
    "query = (\n",
    "    Query(bm.Sample)\n",
    "    .join(bm.Prediction)\n",
    "    .join(od.Speech)\n",
    "    .join(od.Faction)\n",
    "    .join(od.Politician)\n",
    "    .filter(\n",
    "        bm.Sample.sentence_length > 2,\n",
    "        od.Faction.abbreviation != \"Fraktionslos\",\n",
    "    )\n",
    "    .with_entities(\n",
    "        od.Speech.id.label(\"speech_id\"),\n",
    "        od.Speech.electoral_term,\n",
    "        od.Speech.date,\n",
    "        bm.Sample.sentence_no,\n",
    "        bm.Sample.pop_dict_score.label(\"gruendl\"),\n",
    "        od.Politician.id.label(\"pol_id\"),\n",
    "        od.Politician.first_name,\n",
    "        od.Politician.last_name,\n",
    "        case(\n",
    "            (od.Faction.abbreviation == \"DIE LINKE.\", literal(\"DIE LINKE\")),\n",
    "            else_=od.Faction.abbreviation,\n",
    "        ).label(\"abbreviation\"),\n",
    "        case(\n",
    "            (bm.Prediction.elite >= thresh[\"elite\"], literal(1)),\n",
    "            (bm.Prediction.elite < thresh[\"elite\"], literal(0)),\n",
    "        ).label(\"antielite\"),\n",
    "        case(\n",
    "            (bm.Prediction.pplcentr >= thresh[\"centr\"], literal(1)),\n",
    "            (bm.Prediction.pplcentr < thresh[\"centr\"], literal(0)),\n",
    "        ).label(\"pplcentr\"),\n",
    "        case(\n",
    "            (bm.Prediction.left >= thresh[\"left\"], literal(1)),\n",
    "            (bm.Prediction.left < thresh[\"left\"], literal(0)),\n",
    "        ).label(\"left\"),\n",
    "        case(\n",
    "            (bm.Prediction.right >= thresh[\"right\"], literal(1)),\n",
    "            (bm.Prediction.right < thresh[\"right\"], literal(0)),\n",
    "        ).label(\"right\"),\n",
    "    )\n",
    ")"
   ]
  },
  {
   "cell_type": "code",
   "execution_count": null,
   "id": "a4b0a255-b9e2-4283-aa2c-6663293df87c",
   "metadata": {
    "tags": []
   },
   "outputs": [],
   "source": [
    "with engine.connect() as conn:\n",
    "    df = pd.read_sql(query.statement, conn)\n",
    "df.gruendl = df.gruendl.astype(int)\n",
    "df.date = pd.to_datetime(df.date)"
   ]
  },
  {
   "cell_type": "code",
   "execution_count": null,
   "id": "1611e239",
   "metadata": {},
   "outputs": [],
   "source": [
    "def show_stats(col1, col2):\n",
    "    print(pd.crosstab(col1, col2, margins=True))\n",
    "    print()\n",
    "    print(pd.crosstab(col1, col2, normalize=True, margins=True))\n",
    "    print()\n",
    "    print(pd.crosstab(col1, col2, normalize=\"columns\", margins=True))\n",
    "    print()\n",
    "    cramer = association(pd.crosstab(col1, col2).to_numpy(), method=\"cramer\")\n",
    "    print(f\"Cramers V: {cramer}\")"
   ]
  },
  {
   "cell_type": "markdown",
   "id": "ddbd3d2e",
   "metadata": {},
   "source": [
    "# Anti-Elite"
   ]
  },
  {
   "cell_type": "code",
   "execution_count": null,
   "id": "4d290342",
   "metadata": {},
   "outputs": [
    {
     "name": "stdout",
     "output_type": "stream",
     "text": [
      "gruendl          0      1      All\n",
      "antielite                         \n",
      "0          1160037  10746  1170783\n",
      "1            88681   4390    93071\n",
      "All        1248718  15136  1263854\n",
      "\n",
      "gruendl           0         1       All\n",
      "antielite                              \n",
      "0          0.917857  0.008503  0.926359\n",
      "1          0.070167  0.003474  0.073641\n",
      "All        0.988024  0.011976  1.000000\n",
      "\n",
      "gruendl           0         1       All\n",
      "antielite                              \n",
      "0          0.928982  0.709963  0.926359\n",
      "1          0.071018  0.290037  0.073641\n",
      "\n",
      "Cramers V: 0.09121680607124179\n"
     ]
    }
   ],
   "source": [
    "show_stats(df.antielite, df.gruendl)"
   ]
  },
  {
   "cell_type": "markdown",
   "id": "37bebbfa",
   "metadata": {},
   "source": [
    "# People-Centrism"
   ]
  },
  {
   "cell_type": "code",
   "execution_count": null,
   "id": "8f108e5f",
   "metadata": {},
   "outputs": [
    {
     "name": "stdout",
     "output_type": "stream",
     "text": [
      "gruendl         0      1      All\n",
      "pplcentr                         \n",
      "0         1223149  14077  1237226\n",
      "1           25569   1059    26628\n",
      "All       1248718  15136  1263854\n",
      "\n",
      "gruendl          0         1       All\n",
      "pplcentr                              \n",
      "0         0.967793  0.011138  0.978931\n",
      "1         0.020231  0.000838  0.021069\n",
      "All       0.988024  0.011976  1.000000\n",
      "\n",
      "gruendl          0         1       All\n",
      "pplcentr                              \n",
      "0         0.979524  0.930034  0.978931\n",
      "1         0.020476  0.069966  0.021069\n",
      "\n",
      "Cramers V: 0.03748491503741777\n"
     ]
    }
   ],
   "source": [
    "show_stats(df.pplcentr, df.gruendl)"
   ]
  },
  {
   "cell_type": "markdown",
   "id": "4f94fb67",
   "metadata": {},
   "source": [
    "# Either Anti-Elite or People-Centrism"
   ]
  },
  {
   "cell_type": "code",
   "execution_count": null,
   "id": "36733278",
   "metadata": {},
   "outputs": [
    {
     "name": "stdout",
     "output_type": "stream",
     "text": [
      "gruendl        0      1      All\n",
      "row_0                           \n",
      "0        1136656   9911  1146567\n",
      "1         112062   5225   117287\n",
      "All      1248718  15136  1263854\n",
      "\n",
      "gruendl         0         1       All\n",
      "row_0                                \n",
      "0        0.899357  0.007842  0.907199\n",
      "1        0.088667  0.004134  0.092801\n",
      "All      0.988024  0.011976  1.000000\n",
      "\n",
      "gruendl         0         1       All\n",
      "row_0                                \n",
      "0        0.910258  0.654797  0.907199\n",
      "1        0.089742  0.345203  0.092801\n",
      "\n",
      "Cramers V: 0.09577212846870437\n"
     ]
    }
   ],
   "source": [
    "show_stats(df.pplcentr | df.antielite, df.gruendl)"
   ]
  },
  {
   "cell_type": "markdown",
   "id": "4a3aebd3",
   "metadata": {},
   "source": [
    "# Both Anti-Elite and People-Centrism"
   ]
  },
  {
   "cell_type": "code",
   "execution_count": null,
   "id": "c3534fb1",
   "metadata": {},
   "outputs": [
    {
     "name": "stdout",
     "output_type": "stream",
     "text": [
      "gruendl        0      1      All\n",
      "row_0                           \n",
      "0        1246530  14912  1261442\n",
      "1           2188    224     2412\n",
      "All      1248718  15136  1263854\n",
      "\n",
      "gruendl         0         1       All\n",
      "row_0                                \n",
      "0        0.986293  0.011799  0.998092\n",
      "1        0.001731  0.000177  0.001908\n",
      "All      0.988024  0.011976  1.000000\n",
      "\n",
      "gruendl         0         1       All\n",
      "row_0                                \n",
      "0        0.998248  0.985201  0.998092\n",
      "1        0.001752  0.014799  0.001908\n",
      "\n",
      "Cramers V: 0.032518064696773284\n"
     ]
    }
   ],
   "source": [
    "show_stats(df.pplcentr & df.antielite, df.gruendl)"
   ]
  }
 ],
 "metadata": {
  "kernelspec": {
   "display_name": "bert_populism",
   "language": "python",
   "name": "bert_populism"
  },
  "language_info": {
   "codemirror_mode": {
    "name": "ipython",
    "version": 3
   },
   "file_extension": ".py",
   "mimetype": "text/x-python",
   "name": "python",
   "nbconvert_exporter": "python",
   "pygments_lexer": "ipython3",
   "version": "3.11.3"
  }
 },
 "nbformat": 4,
 "nbformat_minor": 5
}
