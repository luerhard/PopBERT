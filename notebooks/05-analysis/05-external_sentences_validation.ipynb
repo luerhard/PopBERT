{
 "cells": [
  {
   "cell_type": "markdown",
   "id": "195329aa-9e4d-42c3-89b1-975536ca6ed1",
   "metadata": {
    "tags": []
   },
   "source": [
    "# Validate predictions against external examples sentences\n",
    "\n",
    "Several studies report example sentences that prototypically illustrate populist statements (Ernst et al. 2017, Schürmann and Gründl 2022, Bonikowski et al. 2022, Dai and Kustov 2022). In addition Castanho Silva et al. 2022 published an extensive list of populist statements that are designed as rating scales for use in surveys. These sentences are each assigned by the authors to a specific subdimension of populism, or are generally referred to as populist. We use these samples for out of sample predicitions, to establish construct validity. In figure X, we show the relative frequency of sentences from each externally predefined labels that are predicted to belong to one of our label classes.\n"
   ]
  },
  {
   "cell_type": "code",
   "execution_count": null,
   "id": "37594f3e-abfd-4a76-863f-3fc218967c60",
   "metadata": {
    "tags": []
   },
   "outputs": [],
   "source": [
    "from pathlib import Path\n",
    "\n",
    "import pandas as pd\n",
    "import torch\n",
    "from transformers import AutoModel\n",
    "from transformers import AutoTokenizer\n",
    "\n",
    "import src"
   ]
  },
  {
   "cell_type": "code",
   "execution_count": null,
   "id": "fa6f7917",
   "metadata": {},
   "outputs": [],
   "source": [
    "DEVICE = \"cpu\"\n",
    "pd.set_option(\"display.max_colwidth\", 2048)"
   ]
  },
  {
   "cell_type": "code",
   "execution_count": null,
   "id": "3d01b5f8",
   "metadata": {},
   "outputs": [],
   "source": [
    "out_path = Path(\"/home/lukas/overleaf/bert_populism/tables\")"
   ]
  },
  {
   "cell_type": "markdown",
   "id": "db818fcb-5c07-4eef-8880-b2f227c42826",
   "metadata": {},
   "source": [
    "## Import and predict external sentences\n"
   ]
  },
  {
   "cell_type": "code",
   "execution_count": null,
   "id": "6dc69e65-16bf-4f88-83fa-7329a6060de2",
   "metadata": {
    "tags": []
   },
   "outputs": [],
   "source": [
    "df = pd.read_csv(src.PATH / \"data/Populist_examples_from_other_studies.csv\", sep=\",\")\n",
    "df = df.rename({\"Snippet\": \"German\", \"Domain\": \"Label\"}, axis=1)"
   ]
  },
  {
   "cell_type": "code",
   "execution_count": null,
   "id": "70a965e6-1cec-410f-aa51-93821d3a36c5",
   "metadata": {
    "tags": []
   },
   "outputs": [
    {
     "name": "stderr",
     "output_type": "stream",
     "text": [
      "Some weights of the model checkpoint at deepset/gbert-large were not used when initializing BertForSequenceClassification: ['cls.predictions.transform.LayerNorm.bias', 'cls.seq_relationship.bias', 'cls.predictions.transform.dense.weight', 'cls.predictions.bias', 'cls.seq_relationship.weight', 'cls.predictions.transform.LayerNorm.weight', 'cls.predictions.decoder.bias', 'cls.predictions.transform.dense.bias', 'cls.predictions.decoder.weight']\n",
      "- This IS expected if you are initializing BertForSequenceClassification from the checkpoint of a model trained on another task or with another architecture (e.g. initializing a BertForSequenceClassification model from a BertForPreTraining model).\n",
      "- This IS NOT expected if you are initializing BertForSequenceClassification from the checkpoint of a model that you expect to be exactly identical (initializing a BertForSequenceClassification model from a BertForSequenceClassification model).\n",
      "Some weights of BertForSequenceClassification were not initialized from the model checkpoint at deepset/gbert-large and are newly initialized: ['classifier.bias', 'classifier.weight']\n",
      "You should probably TRAIN this model on a down-stream task to be able to use it for predictions and inference.\n"
     ]
    }
   ],
   "source": [
    "commit_hash = \"f0fdc3be891596f4cd5a7c3896995c36a7d0ae9c\"\n",
    "tokenizer = AutoTokenizer.from_pretrained(\"luerhard/PopBERT\")\n",
    "model = AutoModel.from_pretrained(\"luerhard/PopBERT\", trust_remote_code=True, revision=commit_hash)"
   ]
  },
  {
   "cell_type": "code",
   "execution_count": null,
   "id": "5df3dadb-9a65-4377-afcb-7c4cf6f1a66b",
   "metadata": {
    "tags": []
   },
   "outputs": [],
   "source": [
    "with torch.inference_mode():\n",
    "    encodings = tokenizer(list(df[\"German\"]), padding=True, return_tensors=\"pt\").to(DEVICE)\n",
    "    _, probabilities = model(**encodings)\n",
    "    probabilities = probabilities.numpy().round(3)"
   ]
  },
  {
   "cell_type": "markdown",
   "id": "39487612-66dd-4b2e-9244-80cbd0565b2b",
   "metadata": {
    "tags": []
   },
   "source": [
    "## Create table for appendix\n"
   ]
  },
  {
   "cell_type": "code",
   "execution_count": null,
   "id": "f648c04f-1c1a-477e-8521-b0f9d2da696b",
   "metadata": {
    "tags": []
   },
   "outputs": [],
   "source": [
    "cols = [\"Anti-Elite\", \"People-Centric\", \"Host-Left\", \"Host-Right\"]\n",
    "probabilities_df = pd.DataFrame(probabilities, columns=cols)\n",
    "table = pd.concat([df, probabilities_df], axis=1)"
   ]
  },
  {
   "cell_type": "code",
   "execution_count": null,
   "id": "1711187b",
   "metadata": {},
   "outputs": [],
   "source": [
    "def bold_formatter_thresh(num, thresh):\n",
    "    num_str = str(round(num, 2))\n",
    "    if num < thresh:\n",
    "        return num_str\n",
    "    else:\n",
    "        return r\"\\textbf{\" + num_str + \"}\"\n",
    "\n",
    "\n",
    "def add_textit(text):\n",
    "    return r\"\\textit{\" + text + \"}\"\n",
    "\n",
    "\n",
    "def add_bold_font(text):\n",
    "    return r\"\\textbf{\" + text + \"}\"\n",
    "\n",
    "\n",
    "def add_parbox(text, size):\n",
    "    return r\"\\parbox[t]{\" + size + \"}{\" + text + \"}\""
   ]
  },
  {
   "cell_type": "code",
   "execution_count": null,
   "id": "03b31353",
   "metadata": {},
   "outputs": [],
   "source": [
    "thresh = {\n",
    "    \"Anti-Elite\": 0.5013018,\n",
    "    \"People-Centric\": 0.5017193,\n",
    "    \"Host-Left\": 0.42243505,\n",
    "    \"Host-Right\": 0.38281676,\n",
    "}"
   ]
  },
  {
   "cell_type": "code",
   "execution_count": null,
   "id": "0e10358c",
   "metadata": {},
   "outputs": [
    {
     "name": "stdout",
     "output_type": "stream",
     "text": [
      "\\begin{longtable}{p{.1\\textwidth}p{.07\\textwidth}p{.45\\textwidth}p{.04\\textwidth}p{.04\\textwidth}p{.04\\textwidth}p{.04\\textwidth}}\\\\\n",
      "\\toprule\n",
      " Source & Label & Text & Anti-Elite & People-Centric & Host-Left & Host-Right \\\\\n",
      "\\midrule\n",
      "\\endhead\n",
      "\n",
      "\\multirow[t]{7}{*}{\\parbox[t]{.1\\textwidth}{Schürmann and Gründl 2022}} & \\multirow[t]{7}{*}{\\parbox[t]{.07\\textwidth}{\\textbf{populism}}} & \\parbox[t]{.45\\textwidth}{\"Die da oben\" bestimmen über \"uns hier unten\"? Dieses Gefühl der Ohnmacht vieler Bürger will die AfD aufheben. Einer der mir wichtigsten Punkte in unserem Wahlprogramm ist deshalb dieser: Wir wollen dem Volk das Recht geben, den Abgeordneten auf die Finger zu schauen und vom Parlament beschlossene Gesetze zu ändern oder abzulehnen. Das Volk soll auch die Möglichkeit erhalten, eigene Gesetzesinitiativen einzubringen und per Volksabstimmung zu beschließen. \\\\\\textit{The one up there” controls “us down here”? This feeling of disempowerment for many citizens is what the AfD wants to overcome. One of the most important points in our election program is therefore this: \"We want to give the people the right to watch the MPs and to change or reject laws passed by parliament. The people should also have the opportunity to introduce their own legislative initiatives and pass them by referendum.}} & 0.01 & \\textbf{1.0} & 0.02 & 0.01 \\\\\\midrule\n",
      " &  & \\parbox[t]{.45\\textwidth}{Ich denke, für Familien und Menschen mit kleinen und mittleren Einkommen müsste noch mehr getan werden: Angesichts der Rücklagen die Sozialabgaben senken, den Soli schrittweise abschaffen, die kalte Progression zurückführen, Kindergeld erhöhen, Baukindergeld umsetzen und vieles mehr. Wir müssen die Normalbürger in der Mitte entlasten.\\\\\\textit{I think more should be done for families and people with small and medium salaries: In light of our reserves, [we must] lower social welfare contributions, gradually abolish the Soli [solidarity tax for former DDR states], reduce the cold progression, increase child benefits, implement Baukindergeld [state subsidy for families buying a house] and much more. We need to unburden the ordinary people in the middle class.\"}} & 0.0 & \\textbf{0.94} & 0.05 & 0.0 \\\\\\midrule\n",
      " &  & \\parbox[t]{.45\\textwidth}{Integration kann nicht bedeuten, dass sich die einheimische Bevölkerung und die Zuwanderer auf halbem Weg treffen und daraus eine neue Kultur entsteht. Wir brauchen bei der Integration in Deutschland einen klaren Kompass: unsere Leitkultur. Eine Mehrheit der Deutschen sieht das genauso!\\\\\\textit{Integration does not mean that the natives and immigrants meet halfway and a new culture emerges from this. We need a clear direction for integration in Germany: our Leitkultur. A majority of Germans thinks like us!}} & 0.0 & \\textbf{0.98} & 0.03 & \\textbf{0.43} \\\\\\midrule\n",
      " &  & \\parbox[t]{.45\\textwidth}{Die CSU hat zweieinhalb Jahre lang nichts getan und tritt jetzt, vor der bayerischen Landtagswahl, hart auf. Die Bürgerinnen und Bürger in Bayern sollten es sich nicht bieten lassen, für einen Landtagswahlkampf so instrumentalisiert zu werden.\\\\\\textit{The CSU has done nothing for two and a half years, an now ahead of the Bavarian state election, they are getting tough. The citizens of Bavaria should not tolerate to get instrumentalized for a state election campaign like this.}} & \\textbf{0.99} & \\textbf{0.58} & 0.0 & 0.01 \\\\\\midrule\n",
      " &  & \\parbox[t]{.45\\textwidth}{CDU/CSU und SPD stellen kurzfristige Konzerninteressen über den Gesundheitsschutz der Menschen. Mit dieser Kumpanei muss endlich Schluss sein!\\\\\\textit{The CDU/CSU and SPD are putting short-term interests of big companies over the protection of people's health. This cronyism must come to an end!}} & \\textbf{1.0} & 0.45 & \\textbf{1.0} & 0.01 \\\\\\midrule\n",
      " &  & \\parbox[t]{.45\\textwidth}{Warum Konzerne an Parteien spenden, lässt sich gerade beobachten. Die Politiker der Großen Koalition verhalten sich wie Lobbyisten der Autoindustrie. Beschwichtigung und Aussitzen, statt Aufklärung und Verbraucherschutz. DIE LINKE hingegen ist nicht käuflich! Bei den anderen Parteien zahlen Unternehmen und Wirtschaftsverbände – bei uns zählst Du! \\\\\\textit{Why large concerns donate to political parties can be observed right now. The politicians of the grand coalition act like lobbyists for the car industry. Appeasement and waiting, instead of information and consumer protection. Instead, DIE LINKE is not for sale! With the other parties, companies and trade associations pay - with us, you matter! }} & \\textbf{1.0} & 0.2 & \\textbf{1.0} & 0.04 \\\\\\midrule\n",
      " &  & \\parbox[t]{.45\\textwidth}{Ich bin überzeugt, dass die Verunsicherung in der Bevölkerung ganz viel mit dem Wandel in der Arbeitswelt zu tun hat. Wir werden diesen Wandel gestalten und zwar gemeinsam mit den Menschen. Die SPD braucht bei der der Zukunft der Arbeit eine klarere Profilierung.\\\\\\textit{I am convinced that the uncertainty among the population has a lot to do with the transformation of work. We will shape this transformation, and we will do so together with the people. The SPD needs a clearer profile when it comes to the future of labour.}} & 0.0 & \\textbf{0.59} & 0.0 & 0.0 \\\\\\midrule\n",
      "\\multirow[t]{2}{*}{\\parbox[t]{.1\\textwidth}{Bonikowski et al. 2022}} & \\multirow[t]{2}{*}{\\parbox[t]{.07\\textwidth}{\\textbf{populism}}} & \\parbox[t]{.45\\textwidth}{Schließlich müssen die Bürger darauf vertrauen können, dass ihre Regierung sich um uns alle kümmert - und nicht um die Sonderinteressen, die seit acht Jahren die Agenda in Berlin bestimmen, und um die Lobbyisten, die die Kampagne leiten. Ich habe meine Karriere damit verbracht, es mit Lobbyisten und deren Geld aufzunehmen, und ich habe gewonnen.\\\\\\textit{Finally, the American people must be able to trust that their government is looking out for all of us—not the special interests that have set the agenda in Washington for eight years, and the lobbyists who run John McCain’s campaign. I’ve spent my career taking on lobbyists and their money, and I’ve won}} & \\textbf{1.0} & \\textbf{0.73} & \\textbf{1.0} & 0.01 \\\\\\midrule\n",
      " &  & \\parbox[t]{.45\\textwidth}{Es wird ein Sieg für das Volk sein. Ein Sieg für den einfachen Bürger, dessen Stimme bisher nicht gehört wurde. Es wird ein Sieg für die Wähler sein, nicht für die Experten, nicht für die Journalisten, nicht für die Lobbyisten, nicht für die globalen Sonderinteressen, die die Kampagne meines Gegners finanzieren.\\\\\\textit{It’s going to be a victory for the people. A victory for the everyday citizen whose voice hasn’t been heard. It will be a win for the voters, not the pundits, not the journalists, not the lobbyists, not the global special interests funding my opponent’s campaign.}} & 0.34 & \\textbf{1.0} & 0.29 & 0.04 \\\\\\midrule\n",
      "\\multirow[t]{2}{*}{\\parbox[t]{.1\\textwidth}{Dai and Kustov 2022}} & \\multirow[t]{2}{*}{\\parbox[t]{.07\\textwidth}{\\textbf{populism}}} & \\parbox[t]{.45\\textwidth}{Der Wandel wird kommen. All die Leute, die das System zu ihrem persönlichen Vorteil manipuliert haben, versuchen, unsere Veränderungskampagne zu stoppen, weil sie wissen, dass ihr Geldsegen am letzten Halt angekommen ist. Jetzt bist du dran. Dies ist Ihre Zeit ... Wir kämpfen für alle Bürger, ... die von diesem korrupten System im Stich gelassen wurden. Wir kämpfen für alle, die keine Stimme haben. Hillary Clinton ist die Kandidatin der Vergangenheit. Unsere ist die Kampagne der Zukunft. In dieser Zukunft werden wir eine neue Handelspolitik verfolgen, bei der die Arbeitnehmer an erster Stelle stehen - und bei der die Arbeitsplätze in unserem Land erhalten bleiben ... Die Zeit der wirtschaftlichen Kapitulation ist vorbei.\\\\\\textit{Change is coming. All the people who’ve rigged the system for their own personal benefit are trying to stop our change campaign because they know that their gravy train has reached its last stop. It’s your turn now. This is your time ... We are fighting for all Americans ... who’ve been failed by this corrupt system. We’re fighting for everyone who doesn’t have a voice. Hillary Clinton is the candidate of the past. Ours is the campaign of the future. In this future, we are going to pursue new trade policies that put American workers first – and that keep jobs in our country ... The era of economic surrender is over.}} & \\textbf{1.0} & \\textbf{0.89} & \\textbf{0.94} & 0.0 \\\\\\midrule\n",
      " &  & \\parbox[t]{.45\\textwidth}{Drittens habe ich gesagt, dass wir die Finanzindustrie nicht einfach retten können und werden, ohne den Millionen von unschuldigen Hausbesitzern zu helfen, die darum kämpfen, in ihren Häusern zu bleiben. ... Ich habe gesagt, dass ich nicht zulassen werde Ich habe gesagt, dass ich nicht zulassen werde, dass dieser Plan zu einem Wohlfahrtsprogramm für die Führungskräfte der Finnazindustrie wird, deren Gier und Verantwortungslosigkeit uns in diesen Schlamassel gebracht haben. ... Wir brauchen nicht nur einen Plan für Banker und Investoren, wir brauchen einen Plan für Autoarbeiter, Lehrer und Kleinunternehmer. ... Das bedeutet, dass wir es mit den Lobbyisten und Sonderinteressen in Berlin aufnehmen müssen. Das bedeutet, gegen die Gier und Korruption in der Finanzindustrie vorzugehen ... Es ist an der Zeit, Berlin zu reformieren.\\\\\\textit{Third, I said that we cannot and will not simply bailout Wall Street without helping the millions of innocent homeowners who are struggling to stay in their homes. ... I said that I would not allow this plan to become a welfare program for the Wall Street executives whose greed and irresponsibility got us into this mess. ... We don’t just need a plan for bankers and investors, we need a plan for autoworkers and teachers and small business owners. ... That means taking on the lobbyists and special interests in Washington. That means taking on the greed and corruption on Wall Street ... It is time to reform Washington.}} & \\textbf{0.99} & \\textbf{0.76} & \\textbf{1.0} & 0.03 \\\\\\midrule\n",
      "\\multirow[t]{6}{*}{\\parbox[t]{.1\\textwidth}{Ernst et al. 2017}} & \\multirow[t]{2}{*}{\\parbox[t]{.07\\textwidth}{\\textbf{populism}}} & \\parbox[t]{.45\\textwidth}{Erst die anderen, dann wir: Für illegale Einwanderer ist die Zugfahrt kostenlos! Danke, Bahn!\\\\\\textit{The others before us: Trains for the illegal are for free! Thank you SNCF!}} & \\textbf{0.99} & 0.32 & 0.04 & \\textbf{0.99} \\\\\\midrule\n",
      " &  & \\parbox[t]{.45\\textwidth}{Volle Unterstützung für unsere Bauern, die heute erneut von der EU und der Regierung gedemütigt wurden. Es ist Zeit für eine deutsche Agrarpolitik!\\\\\\textit{Unlimited support for our peasant once more humiliated by the EU and our government today. Long live the French agrarian politic.}} & \\textbf{0.99} & \\textbf{0.94} & 0.1 & 0.01 \\\\\\midrule\n",
      " & \\multirow[t]{2}{*}{\\parbox[t]{.07\\textwidth}{\\textbf{anti-elitism}}} & \\parbox[t]{.45\\textwidth}{Die Regierung weiß längst nicht mehr, wo sie diskriminiert und wenn ja warum.\\\\\\textit{The Government no longer knows, where it discriminates and even if, not why}} & \\textbf{1.0} & 0.0 & 0.01 & 0.01 \\\\\\midrule\n",
      " &  & \\parbox[t]{.45\\textwidth}{Der unverantwortliche Umgang der EU mit der Migrantenkrise verursacht Chaos und ist ein weiteres Beispiel dafür, warum wir austreten müssen.\\\\\\textit{The EU's irresponsible approach to the migrant crisis is causing chaos and is another example of why we must leave.}} & \\textbf{1.0} & 0.04 & 0.01 & \\textbf{0.95} \\\\\\midrule\n",
      " & \\multirow[t]{2}{*}{\\parbox[t]{.07\\textwidth}{\\textbf{people-centrism}}} & \\parbox[t]{.45\\textwidth}{Schriftsteller Peter Stamm unterstützt mich, weil ich \"ein Volksvertreter und kein Wirtschaftsvertreter\" bin. \\\\\\textit{Author Peter Stamm supports me because I am \"a representative of the people and not an economic representative\".}} & 0.0 & 0.0 & 0.0 & 0.0 \\\\\\midrule\n",
      " &  & \\parbox[t]{.45\\textwidth}{Da ich meine Kampagne selbst finanziere, werde ich nicht von meinen Spendern, besonderen Interessen oder Lobbyisten kontrolliert. Ich arbeite nur für die Menschen in Deutschland!\\\\\\textit{By self-funding my campaign, I am not controlled by my donors, special interests or lobbyists. I am only working for the people of the U.S.!}} & 0.01 & \\textbf{1.0} & 0.03 & 0.02 \\\\\n",
      "\\bottomrule\n",
      "\\end{longtable}\n"
     ]
    }
   ],
   "source": [
    "table = pd.concat([df, probabilities_df], axis=1)\n",
    "\n",
    "table[\"Label\"] = table[\"Label\"].replace(\n",
    "    {\n",
    "        \"anti elitism\": \"anti-elitism\",\n",
    "        \"people centrism\": \"people-centrism\",\n",
    "        \"anti elitism & people centrism\": \"populism\",\n",
    "    }\n",
    ")\n",
    "\n",
    "for col in cols:\n",
    "    table[col] = table[col].apply(lambda x: bold_formatter_thresh(x, thresh[col]))\n",
    "\n",
    "table[\"English\"] = table[\"English\"].apply(add_textit)\n",
    "table[\"Text\"] = table[\"German\"] + r\"\\\\\" + table[\"English\"]\n",
    "# table[\"Label\"] = table[\"Label\"].str.replace(r\"&\", r\"\\&\")\n",
    "\n",
    "table[\"Text\"] = table[\"Text\"].apply(lambda x: add_parbox(x, r\".45\\textwidth\"))\n",
    "table[\"Source\"] = table[\"Source\"].apply(lambda x: add_parbox(x, r\".1\\textwidth\"))\n",
    "table[\"Label\"] = table[\"Label\"].apply(add_bold_font)\n",
    "table[\"Label\"] = table[\"Label\"].apply(lambda x: add_parbox(x, r\".07\\textwidth\"))\n",
    "\n",
    "table = table.set_index([\"Source\", \"Label\", \"Text\"])\n",
    "tex = (\n",
    "    table[[\"Anti-Elite\", \"People-Centric\", \"Host-Left\", \"Host-Right\"]]\n",
    "    .style.set_table_styles(\n",
    "        [\n",
    "            {\"selector\": \"toprule\", \"props\": \":toprule;\"},\n",
    "            {\"selector\": \"bottomrule\", \"props\": \":bottomrule;\"},\n",
    "        ]\n",
    "    )\n",
    "    .to_latex()\n",
    ")\n",
    "\n",
    "lines = tex.splitlines()\n",
    "new = []\n",
    "for i, line in enumerate(lines, 1):\n",
    "    if i == 1:\n",
    "        line = r\"\\begin{longtable}{p{.1\\textwidth}p{.07\\textwidth}p{.45\\textwidth}p{.04\\textwidth}p{.04\\textwidth}p{.04\\textwidth}p{.04\\textwidth}}\\\\\"\n",
    "    if i == len(lines):\n",
    "        line = r\"\\end{longtable}\"\n",
    "    if i == 3:\n",
    "        line = r\"\"\" Source & Label & Text & Anti-Elite & People-Centric & Host-Left & Host-Right \\\\\n",
    "\\midrule\n",
    "\\endhead\n",
    "\"\"\"\n",
    "    if i == 4:\n",
    "        continue\n",
    "\n",
    "    line = line.replace(r\"\\multirow[c]\", \"\\multirow[t]\")\n",
    "\n",
    "    if i > 4 and i < len(lines) - 2:\n",
    "        line = line + \"\\midrule\"\n",
    "    new.append(line)\n",
    "\n",
    "tex = \"\\n\".join(new)\n",
    "\n",
    "(out_path / \"external_sents.tex\").write_text(tex)\n",
    "\n",
    "print(tex)"
   ]
  },
  {
   "cell_type": "code",
   "execution_count": null,
   "id": "2061f267",
   "metadata": {},
   "outputs": [],
   "source": []
  }
 ],
 "metadata": {
  "kernelspec": {
   "display_name": "bert_populism",
   "language": "python",
   "name": "bert_populism"
  },
  "language_info": {
   "codemirror_mode": {
    "name": "ipython",
    "version": 3
   },
   "file_extension": ".py",
   "mimetype": "text/x-python",
   "name": "python",
   "nbconvert_exporter": "python",
   "pygments_lexer": "ipython3",
   "version": "3.11.1"
  }
 },
 "nbformat": 4,
 "nbformat_minor": 5
}
