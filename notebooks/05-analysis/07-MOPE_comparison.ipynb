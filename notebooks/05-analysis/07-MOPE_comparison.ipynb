{
 "cells": [
  {
   "cell_type": "code",
   "execution_count": null,
   "metadata": {},
   "outputs": [],
   "source": [
    "%load_ext rpy2.ipython"
   ]
  },
  {
   "cell_type": "code",
   "execution_count": null,
   "metadata": {},
   "outputs": [],
   "source": [
    "from collections import defaultdict\n",
    "\n",
    "import numpy as np\n",
    "import pandas as pd\n",
    "import torch\n",
    "from transformers import AutoModelForSequenceClassification\n",
    "from transformers import AutoTokenizer\n",
    "\n",
    "import src\n",
    "\n",
    "DEVICE = \"cuda\""
   ]
  },
  {
   "cell_type": "code",
   "execution_count": null,
   "metadata": {},
   "outputs": [],
   "source": [
    "df_mope = pd.read_json(src.PATH / \"data/mope/dataset.json\")"
   ]
  },
  {
   "cell_type": "code",
   "execution_count": null,
   "metadata": {},
   "outputs": [],
   "source": [
    "def count_tags(tags):\n",
    "    counter = defaultdict(int)\n",
    "    for tag in tags:\n",
    "        if tag.startswith(\"B-\"):\n",
    "            tag = tag.lstrip(\"B-\")\n",
    "            counter[tag] += 1\n",
    "    return counter"
   ]
  },
  {
   "cell_type": "code",
   "execution_count": null,
   "metadata": {},
   "outputs": [],
   "source": [
    "df_mope[\"counts\"] = df_mope.tags.apply(count_tags)\n",
    "df_mope[\"text\"] = df_mope.words.apply(lambda x: \" \".join(x))"
   ]
  },
  {
   "cell_type": "code",
   "execution_count": null,
   "metadata": {},
   "outputs": [],
   "source": [
    "tokenizer = AutoTokenizer.from_pretrained(\"luerhard/PopBERT\")\n",
    "model = AutoModelForSequenceClassification.from_pretrained(\"luerhard/PopBERT\").to(DEVICE)"
   ]
  },
  {
   "cell_type": "code",
   "execution_count": null,
   "metadata": {},
   "outputs": [],
   "source": [
    "def chunks(iterable, size):\n",
    "    pos = 0\n",
    "    while True:\n",
    "        if pos + size < len(iterable):\n",
    "            yield iterable[pos : pos + size]\n",
    "            pos = pos + size\n",
    "        else:\n",
    "            yield iterable[pos:]\n",
    "            break"
   ]
  },
  {
   "cell_type": "code",
   "execution_count": null,
   "metadata": {},
   "outputs": [],
   "source": [
    "outs = []\n",
    "with torch.inference_mode():\n",
    "    for chunk in chunks(df_mope.text.tolist(), 30):\n",
    "        encodings = tokenizer(chunk, padding=True, return_tensors=\"pt\").to(DEVICE)\n",
    "        out = model(**encodings)\n",
    "        probas = torch.nn.functional.sigmoid(out.logits).detach().cpu().numpy()\n",
    "        outs.extend(probas)"
   ]
  },
  {
   "cell_type": "code",
   "execution_count": null,
   "metadata": {},
   "outputs": [],
   "source": [
    "probs = pd.DataFrame(np.vstack(outs), columns=[\"elite\", \"centr\", \"left\", \"right\"])"
   ]
  },
  {
   "cell_type": "code",
   "execution_count": null,
   "metadata": {},
   "outputs": [],
   "source": [
    "df = pd.concat([df_mope, probs], axis=1)"
   ]
  },
  {
   "cell_type": "code",
   "execution_count": null,
   "metadata": {},
   "outputs": [],
   "source": [
    "thresh = {\"elite\": 0.415961, \"centr\": 0.295400, \"left\": 0.429109, \"right\": 0.302714}\n",
    "\n",
    "\n",
    "def apply_thresh(row, thresh):\n",
    "    for key, val in thresh.items():\n",
    "        if row[key] > val:\n",
    "            row[key] = 1\n",
    "        else:\n",
    "            row[key] = 0\n",
    "    return row\n",
    "\n",
    "\n",
    "df_bin = df.apply(lambda x: apply_thresh(x, thresh=thresh), axis=1)"
   ]
  },
  {
   "cell_type": "code",
   "execution_count": null,
   "metadata": {},
   "outputs": [],
   "source": [
    "ent_set = {key for d in df_bin.counts.tolist() for key in d}\n",
    "for ent in ent_set:\n",
    "    df_bin[ent] = df_bin.counts.apply(lambda x: ent in x)"
   ]
  },
  {
   "cell_type": "code",
   "execution_count": null,
   "metadata": {},
   "outputs": [],
   "source": [
    "elite = df_bin.groupby([\"elite\"])[[\"EORG\", \"PPEO\", \"EPER\"]].mean().reset_index()\n",
    "elite = elite.rename({\"elite\": \"val\"}, axis=1)\n",
    "elite[\"val\"] = elite[\"val\"].replace({0: \"elite_0\", 1: \"elite_1\"})\n",
    "elite[\"group\"] = \"elite\"\n",
    "\n",
    "centr = df_bin.groupby([\"centr\"])[[\"EORG\", \"PPEO\", \"EPER\"]].mean().reset_index()\n",
    "centr = centr.rename({\"centr\": \"val\"}, axis=1)\n",
    "centr[\"val\"] = centr[\"val\"].replace({0: \"centr_0\", 1: \"centr_1\"})\n",
    "centr[\"group\"] = \"centr\""
   ]
  },
  {
   "cell_type": "code",
   "execution_count": null,
   "metadata": {},
   "outputs": [
    {
     "data": {
      "text/html": [
       "<div>\n",
       "<style scoped>\n",
       "    .dataframe tbody tr th:only-of-type {\n",
       "        vertical-align: middle;\n",
       "    }\n",
       "\n",
       "    .dataframe tbody tr th {\n",
       "        vertical-align: top;\n",
       "    }\n",
       "\n",
       "    .dataframe thead th {\n",
       "        text-align: right;\n",
       "    }\n",
       "</style>\n",
       "<table border=\"1\" class=\"dataframe\">\n",
       "  <thead>\n",
       "    <tr style=\"text-align: right;\">\n",
       "      <th></th>\n",
       "      <th>val</th>\n",
       "      <th>group</th>\n",
       "      <th>variable</th>\n",
       "      <th>value</th>\n",
       "    </tr>\n",
       "  </thead>\n",
       "  <tbody>\n",
       "    <tr>\n",
       "      <th>0</th>\n",
       "      <td>elite_0</td>\n",
       "      <td>elite</td>\n",
       "      <td>EORG</td>\n",
       "      <td>0.290181</td>\n",
       "    </tr>\n",
       "    <tr>\n",
       "      <th>1</th>\n",
       "      <td>elite_1</td>\n",
       "      <td>elite</td>\n",
       "      <td>EORG</td>\n",
       "      <td>0.515254</td>\n",
       "    </tr>\n",
       "    <tr>\n",
       "      <th>2</th>\n",
       "      <td>centr_0</td>\n",
       "      <td>centr</td>\n",
       "      <td>EORG</td>\n",
       "      <td>0.335905</td>\n",
       "    </tr>\n",
       "    <tr>\n",
       "      <th>3</th>\n",
       "      <td>centr_1</td>\n",
       "      <td>centr</td>\n",
       "      <td>EORG</td>\n",
       "      <td>0.304348</td>\n",
       "    </tr>\n",
       "    <tr>\n",
       "      <th>4</th>\n",
       "      <td>elite_0</td>\n",
       "      <td>elite</td>\n",
       "      <td>PPEO</td>\n",
       "      <td>0.305540</td>\n",
       "    </tr>\n",
       "    <tr>\n",
       "      <th>5</th>\n",
       "      <td>elite_1</td>\n",
       "      <td>elite</td>\n",
       "      <td>PPEO</td>\n",
       "      <td>0.371751</td>\n",
       "    </tr>\n",
       "    <tr>\n",
       "      <th>6</th>\n",
       "      <td>centr_0</td>\n",
       "      <td>centr</td>\n",
       "      <td>PPEO</td>\n",
       "      <td>0.284946</td>\n",
       "    </tr>\n",
       "    <tr>\n",
       "      <th>7</th>\n",
       "      <td>centr_1</td>\n",
       "      <td>centr</td>\n",
       "      <td>PPEO</td>\n",
       "      <td>0.885375</td>\n",
       "    </tr>\n",
       "    <tr>\n",
       "      <th>8</th>\n",
       "      <td>elite_0</td>\n",
       "      <td>elite</td>\n",
       "      <td>EPER</td>\n",
       "      <td>0.224904</td>\n",
       "    </tr>\n",
       "    <tr>\n",
       "      <th>9</th>\n",
       "      <td>elite_1</td>\n",
       "      <td>elite</td>\n",
       "      <td>EPER</td>\n",
       "      <td>0.360452</td>\n",
       "    </tr>\n",
       "    <tr>\n",
       "      <th>10</th>\n",
       "      <td>centr_0</td>\n",
       "      <td>centr</td>\n",
       "      <td>EPER</td>\n",
       "      <td>0.252221</td>\n",
       "    </tr>\n",
       "    <tr>\n",
       "      <th>11</th>\n",
       "      <td>centr_1</td>\n",
       "      <td>centr</td>\n",
       "      <td>EPER</td>\n",
       "      <td>0.237154</td>\n",
       "    </tr>\n",
       "  </tbody>\n",
       "</table>\n",
       "</div>"
      ],
      "text/plain": [
       "        val  group variable     value\n",
       "0   elite_0  elite     EORG  0.290181\n",
       "1   elite_1  elite     EORG  0.515254\n",
       "2   centr_0  centr     EORG  0.335905\n",
       "3   centr_1  centr     EORG  0.304348\n",
       "4   elite_0  elite     PPEO  0.305540\n",
       "5   elite_1  elite     PPEO  0.371751\n",
       "6   centr_0  centr     PPEO  0.284946\n",
       "7   centr_1  centr     PPEO  0.885375\n",
       "8   elite_0  elite     EPER  0.224904\n",
       "9   elite_1  elite     EPER  0.360452\n",
       "10  centr_0  centr     EPER  0.252221\n",
       "11  centr_1  centr     EPER  0.237154"
      ]
     },
     "execution_count": null,
     "metadata": {},
     "output_type": "execute_result"
    }
   ],
   "source": [
    "grouped = pd.concat([elite, centr])\n",
    "grouped = pd.melt(grouped, id_vars=[\"val\", \"group\"], value_vars=[\"EORG\", \"PPEO\", \"EPER\"])\n",
    "grouped"
   ]
  },
  {
   "cell_type": "code",
   "execution_count": null,
   "metadata": {},
   "outputs": [
    {
     "name": "stdout",
     "output_type": "stream",
     "text": [
      "── Attaching core tidyverse packages ──────────────────────── tidyverse 2.0.0 ──\n",
      "✔ dplyr     1.1.3     ✔ readr     2.1.4\n",
      "✔ forcats   1.0.0     ✔ stringr   1.5.0\n",
      "✔ lubridate 1.9.3     ✔ tibble    3.2.1\n",
      "✔ purrr     1.0.2     ✔ tidyr     1.3.0\n",
      "── Conflicts ────────────────────────────────────────── tidyverse_conflicts() ──\n",
      "✖ dplyr::filter() masks stats::filter()\n",
      "✖ dplyr::lag()    masks stats::lag()\n",
      "ℹ Use the conflicted package (<http://conflicted.r-lib.org/>) to force all conflicts to become errors\n",
      "Saving 6.67 x 6.67 in image\n"
     ]
    },
    {
     "data": {
      "text/plain": [
       "here() starts at /mnt/nvme_storage/git/bert_populism\n"
      ]
     },
     "metadata": {},
     "output_type": "display_data"
    }
   ],
   "source": [
    "%%R -i grouped\n",
    "\n",
    "library(here)\n",
    "library(ggplot2)\n",
    "library(tidyverse)\n",
    "library(ggpubr)\n",
    "library(ggeffects)\n",
    "theme_set(theme_ggeffects())\n",
    "\n",
    "plot_elite <- grouped %>%\n",
    "    filter(group == \"elite\") %>%\n",
    "    mutate(val = recode(val, \"elite_0\" = 0, \"elite_1\" = 1)) %>%\n",
    "    rename(PeopleCentrism = val) %>%\n",
    "    ggplot(aes(x=as_factor(PeopleCentrism), fill=variable, y=value)) +\n",
    "        geom_bar(stat=\"identity\", position=\"dodge2\") +\n",
    "        labs(title=\"Anti-Elitism\") +\n",
    "        ylim(0 ,1) +\n",
    "        theme(\n",
    "            legend.position = \"none\",\n",
    "            axis.title.x = element_blank(),\n",
    "            axis.title.y = element_blank(),\n",
    "            axis.ticks.x = element_blank()\n",
    "        ) +\n",
    "        scale_fill_manual(values=c('#f77189', '#50b131', '#3ba3ec'))\n",
    "\n",
    "plot_pplcentr <- grouped %>%\n",
    "    filter(group == \"centr\") %>%\n",
    "    mutate(val = recode(val, \"centr_0\" = 0, \"centr_1\" = 1)) %>%\n",
    "    rename(PeopleCentrism = val) %>%\n",
    "    ggplot(aes(x=as_factor(PeopleCentrism), fill=variable, y=value)) +\n",
    "        geom_bar(stat=\"identity\", position=\"dodge2\") +\n",
    "        labs(title=\"People-Centrism\") +\n",
    "        ylim(0, 1) +\n",
    "        theme(\n",
    "            axis.title.x = element_blank(),\n",
    "            axis.title.y = element_blank(),\n",
    "            axis.ticks.x = element_blank()\n",
    "        ) +\n",
    "        scale_fill_manual(values=c('#f77189', '#50b131', '#3ba3ec'))\n",
    "    \n",
    "\n",
    "ggarrange(plot_elite, plot_pplcentr, ncol=2, widths=c(11, 16), heights=9)\n",
    "ggsave(here(\"klamm_et_al_comparison.pdf\"))"
   ]
  }
 ],
 "metadata": {
  "kernelspec": {
   "display_name": "bert_populism",
   "language": "python",
   "name": "bert_populism"
  },
  "language_info": {
   "codemirror_mode": {
    "name": "ipython",
    "version": 3
   },
   "file_extension": ".py",
   "mimetype": "text/x-python",
   "name": "python",
   "nbconvert_exporter": "python",
   "pygments_lexer": "ipython3",
   "version": "3.11.3"
  }
 },
 "nbformat": 4,
 "nbformat_minor": 2
}
