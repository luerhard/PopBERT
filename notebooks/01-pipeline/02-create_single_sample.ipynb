{
 "cells": [
  {
   "cell_type": "code",
   "execution_count": null,
   "metadata": {},
   "outputs": [],
   "source": [
    "import pandas as pd\n",
    "from sqlalchemy import func\n",
    "from sqlalchemy import update\n",
    "from sqlalchemy.orm import Query\n",
    "from sqlalchemy.orm import Session\n",
    "\n",
    "import src\n",
    "import src.db.models.bert_data as bm\n",
    "import src.db.models.open_discourse as m\n",
    "from src.db.connect import make_engine"
   ]
  },
  {
   "cell_type": "code",
   "execution_count": null,
   "metadata": {},
   "outputs": [],
   "source": [
    "engine = make_engine(\"DB\")\n",
    "session = Session(engine)"
   ]
  },
  {
   "cell_type": "code",
   "execution_count": null,
   "metadata": {},
   "outputs": [],
   "source": [
    "# takes 16s to download all data\n",
    "# select only rows that have not been used bevor (used_in_batch is NULL)\n",
    "query = (\n",
    "    Query(bm.Sample)\n",
    "    .join(bm.Sample.faction)\n",
    "    .join(bm.Sample.speech)\n",
    "    .filter(bm.Sample.used_in_batch == None)\n",
    "    .with_entities(\n",
    "        bm.Sample.id,\n",
    "        m.Faction.abbreviation,\n",
    "        m.Speech.electoral_term,\n",
    "        bm.Sample.text,\n",
    "        bm.Sample.pop_dict_score,\n",
    "    )\n",
    ")\n",
    "\n",
    "sample_df = pd.read_sql(query.statement, engine)"
   ]
  },
  {
   "attachments": {},
   "cell_type": "markdown",
   "metadata": {},
   "source": [
    "## Sample Sentences\n"
   ]
  },
  {
   "cell_type": "code",
   "execution_count": null,
   "metadata": {},
   "outputs": [],
   "source": [
    "# number of examples to be drawn\n",
    "MAX_POS_SAMPLES_PER_GROUP = 100\n",
    "MAX_NEG_SAMPLES_PER_GROUP = 80\n",
    "\n",
    "# we\n",
    "subgroup_group_samples = []\n",
    "for _, term in sample_df[sample_df.pop_dict_score == 1].groupby(\"electoral_term\"):\n",
    "    for _, subdf in term.groupby(\"abbreviation\"):\n",
    "        if len(subdf) > MAX_POS_SAMPLES_PER_GROUP:\n",
    "            subdf = subdf.sample(MAX_POS_SAMPLES_PER_GROUP)\n",
    "        subgroup_group_samples.append(subdf)\n",
    "\n",
    "for _, term in sample_df[sample_df.pop_dict_score == 0].groupby(\"electoral_term\"):\n",
    "    for _, subdf in term.groupby(\"abbreviation\"):\n",
    "        if len(subdf) > MAX_NEG_SAMPLES_PER_GROUP:\n",
    "            subdf = subdf.sample(MAX_NEG_SAMPLES_PER_GROUP)\n",
    "        subgroup_group_samples.append(subdf)\n",
    "\n",
    "\n",
    "final_df = pd.concat(subgroup_group_samples)"
   ]
  },
  {
   "cell_type": "code",
   "execution_count": null,
   "metadata": {},
   "outputs": [],
   "source": [
    "# get max value of batch number\n",
    "current_max_batch = session.query(func.max(bm.Sample.used_in_batch)).scalar()\n",
    "if current_max_batch is None:\n",
    "    current_max_batch = 0\n",
    "\n",
    "# increment for new batch\n",
    "new_batch_no = current_max_batch + 1"
   ]
  },
  {
   "cell_type": "code",
   "execution_count": null,
   "metadata": {},
   "outputs": [
    {
     "data": {
      "text/plain": [
       "<sqlalchemy.engine.cursor.CursorResult at 0x7f98702d3fd0>"
      ]
     },
     "execution_count": null,
     "metadata": {},
     "output_type": "execute_result"
    }
   ],
   "source": [
    "# update rows in DB to reflect batch number\n",
    "query = (\n",
    "    update(bm.Sample.__table__)\n",
    "    .where(bm.Sample.__table__.c.id.in_(set(final_df[\"id\"])))\n",
    "    .values(used_in_batch=new_batch_no)\n",
    ")\n",
    "\n",
    "_ = session.execute(query)\n",
    "\n",
    "session.commit()"
   ]
  },
  {
   "attachments": {},
   "cell_type": "markdown",
   "metadata": {},
   "source": [
    "# Summary\n"
   ]
  },
  {
   "cell_type": "code",
   "execution_count": null,
   "metadata": {},
   "outputs": [
    {
     "data": {
      "text/plain": [
       "electoral_term  abbreviation  pop_dict_score\n",
       "18              CDU/CSU       False             225628\n",
       "                              True                1991\n",
       "                DIE LINKE.    False             100319\n",
       "                              True                1529\n",
       "                Fraktionslos  False                 42\n",
       "                Grüne         False             108277\n",
       "                              True                1057\n",
       "                SPD           False             152581\n",
       "                              True                1425\n",
       "19              AfD           False              93448\n",
       "                              True                2838\n",
       "                CDU/CSU       False             200950\n",
       "                              True                1958\n",
       "                DIE LINKE.    False              75392\n",
       "                              True                1350\n",
       "                FDP           False              81677\n",
       "                              True                 860\n",
       "                Fraktionslos  False               2286\n",
       "                              True                  63\n",
       "                Grüne         False              78445\n",
       "                              True                 814\n",
       "                SPD           False             132001\n",
       "                              True                1314\n",
       "Name: id, dtype: int64"
      ]
     },
     "execution_count": null,
     "metadata": {},
     "output_type": "execute_result"
    }
   ],
   "source": [
    "# over all counts\n",
    "sample_df.groupby([\"electoral_term\", \"abbreviation\", \"pop_dict_score\"])[\"id\"].count()"
   ]
  },
  {
   "cell_type": "code",
   "execution_count": null,
   "metadata": {},
   "outputs": [
    {
     "data": {
      "text/plain": [
       "electoral_term  abbreviation  pop_dict_score\n",
       "18              CDU/CSU       False              80\n",
       "                              True              100\n",
       "                DIE LINKE.    False              80\n",
       "                              True              100\n",
       "                Fraktionslos  False              42\n",
       "                Grüne         False              80\n",
       "                              True              100\n",
       "                SPD           False              80\n",
       "                              True              100\n",
       "19              AfD           False              80\n",
       "                              True              100\n",
       "                CDU/CSU       False              80\n",
       "                              True              100\n",
       "                DIE LINKE.    False              80\n",
       "                              True              100\n",
       "                FDP           False              80\n",
       "                              True              100\n",
       "                Fraktionslos  False              80\n",
       "                              True               63\n",
       "                Grüne         False              80\n",
       "                              True              100\n",
       "                SPD           False              80\n",
       "                              True              100\n",
       "Name: id, dtype: int64"
      ]
     },
     "execution_count": null,
     "metadata": {},
     "output_type": "execute_result"
    }
   ],
   "source": [
    "# sample counts\n",
    "final_df.groupby([\"electoral_term\", \"abbreviation\", \"pop_dict_score\"])[\"id\"].count()"
   ]
  },
  {
   "cell_type": "code",
   "execution_count": null,
   "metadata": {},
   "outputs": [],
   "source": [
    "final_df.to_csv(src.PATH / \"data/sentence_sample.csv\", index=False)"
   ]
  }
 ],
 "metadata": {
  "kernelspec": {
   "display_name": "bert_populism",
   "language": "python",
   "name": "python3"
  },
  "language_info": {
   "codemirror_mode": {
    "name": "ipython",
    "version": 3
   },
   "file_extension": ".py",
   "mimetype": "text/x-python",
   "name": "python",
   "nbconvert_exporter": "python",
   "pygments_lexer": "ipython3",
   "version": "3.10.8 (main, Nov  4 2022, 13:48:29) [GCC 11.2.0]"
  },
  "vscode": {
   "interpreter": {
    "hash": "05b0f58c2bcdc36936de25f1aaac0724cceaad7ddc88039a552f8d696c8fb19b"
   }
  }
 },
 "nbformat": 4,
 "nbformat_minor": 2
}
