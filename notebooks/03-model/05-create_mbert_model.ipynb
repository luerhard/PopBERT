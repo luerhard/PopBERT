{
 "cells": [
  {
   "cell_type": "code",
   "execution_count": null,
   "id": "e0db552f",
   "metadata": {
    "papermill": {
     "duration": 24.056731,
     "end_time": "2023-12-11T12:23:27.813559",
     "exception": false,
     "start_time": "2023-12-11T12:23:03.756828",
     "status": "completed"
    },
    "tags": []
   },
   "outputs": [],
   "source": [
    "import numpy as np\n",
    "import torch\n",
    "from sklearn.metrics import classification_report\n",
    "from torch.utils.data import DataLoader\n",
    "from transformers import AutoModelForSequenceClassification\n",
    "from transformers import AutoTokenizer\n",
    "\n",
    "import src\n",
    "from src.bert import training\n",
    "from src.bert.dataset import PBertDataset\n",
    "from src.bert.dataset.strategies import MLMin1PopIdeol"
   ]
  },
  {
   "cell_type": "code",
   "execution_count": null,
   "id": "4a3b191f",
   "metadata": {
    "papermill": {
     "duration": 0.012423,
     "end_time": "2023-12-11T12:23:27.853834",
     "exception": false,
     "start_time": "2023-12-11T12:23:27.841411",
     "status": "completed"
    },
    "tags": []
   },
   "outputs": [],
   "source": [
    "EXCLUDE_CODERS: list[str] = []\n",
    "DEVICE = \"cuda\" if torch.cuda.is_available() else \"cpu\"\n",
    "\n",
    "MODEL = \"bert-base-multilingual-cased\"\n",
    "BATCH_SIZE = 8\n",
    "N_EPOCHS = 6\n",
    "LR = 1e-5\n",
    "WEIGHT_DECAY = 0.010\n",
    "\n",
    "THRESHOLDS = {0: 0.112633, 1: 0.575459, 2: 0.388344, 3: 0.152591}"
   ]
  },
  {
   "cell_type": "code",
   "execution_count": null,
   "id": "37ed884b",
   "metadata": {
    "papermill": {
     "duration": 0.960099,
     "end_time": "2023-12-11T12:23:28.819522",
     "exception": false,
     "start_time": "2023-12-11T12:23:27.859423",
     "status": "completed"
    },
    "tags": []
   },
   "outputs": [],
   "source": [
    "train = PBertDataset.from_disk(\n",
    "    path=src.PATH / \"data/bert/train.csv.zip\",\n",
    "    label_strategy=MLMin1PopIdeol(),\n",
    "    exclude_coders=EXCLUDE_CODERS,\n",
    ")\n",
    "\n",
    "test = PBertDataset.from_disk(\n",
    "    path=src.PATH / \"data/bert/test.csv.zip\",\n",
    "    label_strategy=MLMin1PopIdeol(),\n",
    "    exclude_coders=EXCLUDE_CODERS,\n",
    ")"
   ]
  },
  {
   "cell_type": "code",
   "execution_count": null,
   "id": "ece9d3fd",
   "metadata": {
    "papermill": {
     "duration": 0.574429,
     "end_time": "2023-12-11T12:23:29.404629",
     "exception": false,
     "start_time": "2023-12-11T12:23:28.830200",
     "status": "completed"
    },
    "tags": []
   },
   "outputs": [],
   "source": [
    "tokenizer = AutoTokenizer.from_pretrained(MODEL)\n",
    "collate_fn = train.create_collate_fn(tokenizer)\n",
    "\n",
    "train_loader = DataLoader(train, collate_fn=collate_fn, batch_size=BATCH_SIZE, shuffle=True)\n",
    "test_loader = DataLoader(test, collate_fn=collate_fn, batch_size=64, shuffle=False)"
   ]
  },
  {
   "cell_type": "code",
   "execution_count": null,
   "id": "47c1d390",
   "metadata": {
    "papermill": {
     "duration": 7.243444,
     "end_time": "2023-12-11T12:23:36.654441",
     "exception": false,
     "start_time": "2023-12-11T12:23:29.410997",
     "status": "completed"
    },
    "tags": []
   },
   "outputs": [
    {
     "name": "stderr",
     "output_type": "stream",
     "text": [
      "Some weights of BertForSequenceClassification were not initialized from the model checkpoint at bert-base-multilingual-cased and are newly initialized: ['classifier.bias', 'classifier.weight']\n",
      "You should probably TRAIN this model on a down-stream task to be able to use it for predictions and inference.\n"
     ]
    }
   ],
   "source": [
    "model = AutoModelForSequenceClassification.from_pretrained(MODEL, num_labels=train.num_labels).to(\n",
    "    DEVICE\n",
    ")"
   ]
  },
  {
   "cell_type": "code",
   "execution_count": null,
   "id": "d113b0c6",
   "metadata": {
    "papermill": {
     "duration": 246.026466,
     "end_time": "2023-12-11T12:27:42.695404",
     "exception": false,
     "start_time": "2023-12-11T12:23:36.668938",
     "status": "completed"
    },
    "tags": []
   },
   "outputs": [
    {
     "name": "stdout",
     "output_type": "stream",
     "text": [
      "epoch=1 train_loss=360.3420 eval_loss=9.7026 score=0.3780\n"
     ]
    },
    {
     "name": "stdout",
     "output_type": "stream",
     "text": [
      "epoch=2 train_loss=281.2398 eval_loss=8.9324 score=0.5572\n"
     ]
    },
    {
     "name": "stdout",
     "output_type": "stream",
     "text": [
      "epoch=3 train_loss=233.7071 eval_loss=9.2197 score=0.6073\n"
     ]
    },
    {
     "name": "stdout",
     "output_type": "stream",
     "text": [
      "epoch=4 train_loss=189.8062 eval_loss=9.3144 score=0.5962\n"
     ]
    },
    {
     "name": "stdout",
     "output_type": "stream",
     "text": [
      "epoch=5 train_loss=155.6215 eval_loss=10.4810 score=0.5709\n"
     ]
    },
    {
     "name": "stdout",
     "output_type": "stream",
     "text": [
      "epoch=6 train_loss=124.8986 eval_loss=11.0570 score=0.5777\n"
     ]
    }
   ],
   "source": [
    "optimizer = torch.optim.AdamW(\n",
    "    model.parameters(),\n",
    "    lr=LR,\n",
    "    amsgrad=False,\n",
    "    weight_decay=WEIGHT_DECAY,\n",
    ")\n",
    "\n",
    "lr_scheduler = torch.optim.lr_scheduler.CosineAnnealingLR(\n",
    "    optimizer,\n",
    "    T_max=20,\n",
    "    eta_min=LR / 10,\n",
    ")\n",
    "\n",
    "for epoch in range(1, N_EPOCHS + 1):\n",
    "    train_loss = training.train_epoch(model, train_loader, optimizer, lr_scheduler, clip=5)\n",
    "    eval_loss, score, _ = training.eval_epoch(model, test_loader)\n",
    "    print(f\"{epoch=} {train_loss=:.4f} {eval_loss=:.4f} {score=:.4f}\")"
   ]
  },
  {
   "cell_type": "code",
   "execution_count": null,
   "id": "bfb649c3",
   "metadata": {
    "papermill": {
     "duration": 0.00933,
     "end_time": "2023-12-11T12:27:42.709511",
     "exception": false,
     "start_time": "2023-12-11T12:27:42.700181",
     "status": "completed"
    },
    "tags": []
   },
   "outputs": [],
   "source": [
    "def apply_thresh(y_proba, thresholds: dict):\n",
    "    y_proba = y_proba.copy()\n",
    "    for dim, thresh in thresholds.items():\n",
    "        y_proba[:, dim] = np.where(y_proba[:, dim] > thresh, 1, 0)\n",
    "    return y_proba"
   ]
  },
  {
   "cell_type": "code",
   "execution_count": null,
   "id": "f7abe271",
   "metadata": {
    "papermill": {
     "duration": 2.304837,
     "end_time": "2023-12-11T12:27:45.026323",
     "exception": false,
     "start_time": "2023-12-11T12:27:42.721486",
     "status": "completed"
    },
    "tags": []
   },
   "outputs": [],
   "source": [
    "with torch.inference_mode():\n",
    "    y_true = []\n",
    "    y_pred = []\n",
    "    for batch in test_loader:\n",
    "        encodings = batch[\"encodings\"]\n",
    "        encodings = encodings.to(DEVICE)\n",
    "        labels = batch[\"labels\"].to(DEVICE)\n",
    "        out = model(**encodings)\n",
    "        preds = torch.nn.functional.sigmoid(out.logits)\n",
    "        y_true.extend(batch[\"labels\"].numpy())\n",
    "        y_pred.extend(preds.cpu().numpy())\n",
    "    y_pred_05 = np.where(np.array(y_pred) > 0.5, 1, 0)\n",
    "    y_pred_thresh = apply_thresh(np.array(y_pred), THRESHOLDS)\n",
    "    y_true = np.array(y_true)"
   ]
  },
  {
   "cell_type": "code",
   "execution_count": null,
   "id": "d70900c0",
   "metadata": {
    "papermill": {
     "duration": 0.019459,
     "end_time": "2023-12-11T12:27:45.052737",
     "exception": false,
     "start_time": "2023-12-11T12:27:45.033278",
     "status": "completed"
    },
    "tags": []
   },
   "outputs": [
    {
     "name": "stdout",
     "output_type": "stream",
     "text": [
      "              precision    recall  f1-score   support\n",
      "\n",
      "       elite       0.76      0.66      0.71       648\n",
      "    pplcentr       0.63      0.55      0.59       322\n",
      "        left       0.67      0.44      0.53       279\n",
      "       right       0.79      0.35      0.49       155\n",
      "\n",
      "   micro avg       0.71      0.56      0.62      1404\n",
      "   macro avg       0.71      0.50      0.58      1404\n",
      "weighted avg       0.72      0.56      0.62      1404\n",
      " samples avg       0.32      0.29      0.29      1404\n",
      "\n"
     ]
    },
    {
     "name": "stderr",
     "output_type": "stream",
     "text": [
      "/gpfs/bwfor/home/st/st_st/st_ac138201/bert_populism/.venv/lib/python3.9/site-packages/sklearn/metrics/_classification.py:1471: UndefinedMetricWarning: Precision and F-score are ill-defined and being set to 0.0 in samples with no predicted labels. Use `zero_division` parameter to control this behavior.\n",
      "  _warn_prf(average, modifier, msg_start, len(result))\n",
      "/gpfs/bwfor/home/st/st_st/st_ac138201/bert_populism/.venv/lib/python3.9/site-packages/sklearn/metrics/_classification.py:1471: UndefinedMetricWarning: Recall and F-score are ill-defined and being set to 0.0 in samples with no true labels. Use `zero_division` parameter to control this behavior.\n",
      "  _warn_prf(average, modifier, msg_start, len(result))\n"
     ]
    }
   ],
   "source": [
    "print(classification_report(y_true, y_pred_05, target_names=[\"elite\", \"pplcentr\", \"left\", \"right\"]))"
   ]
  },
  {
   "cell_type": "code",
   "execution_count": null,
   "id": "f8fe7777",
   "metadata": {
    "papermill": {
     "duration": 0.031594,
     "end_time": "2023-12-11T12:27:45.093095",
     "exception": false,
     "start_time": "2023-12-11T12:27:45.061501",
     "status": "completed"
    },
    "tags": []
   },
   "outputs": [
    {
     "name": "stdout",
     "output_type": "stream",
     "text": [
      "              precision    recall  f1-score   support\n",
      "\n",
      "       elite       0.69      0.79      0.74       648\n",
      "    pplcentr       0.65      0.52      0.58       322\n",
      "        left       0.64      0.48      0.55       279\n",
      "       right       0.61      0.48      0.54       155\n",
      "\n",
      "   micro avg       0.67      0.63      0.65      1404\n",
      "   macro avg       0.65      0.57      0.60      1404\n",
      "weighted avg       0.66      0.63      0.64      1404\n",
      " samples avg       0.35      0.33      0.33      1404\n",
      "\n"
     ]
    },
    {
     "name": "stderr",
     "output_type": "stream",
     "text": [
      "/gpfs/bwfor/home/st/st_st/st_ac138201/bert_populism/.venv/lib/python3.9/site-packages/sklearn/metrics/_classification.py:1471: UndefinedMetricWarning: Precision and F-score are ill-defined and being set to 0.0 in samples with no predicted labels. Use `zero_division` parameter to control this behavior.\n",
      "  _warn_prf(average, modifier, msg_start, len(result))\n",
      "/gpfs/bwfor/home/st/st_st/st_ac138201/bert_populism/.venv/lib/python3.9/site-packages/sklearn/metrics/_classification.py:1471: UndefinedMetricWarning: Recall and F-score are ill-defined and being set to 0.0 in samples with no true labels. Use `zero_division` parameter to control this behavior.\n",
      "  _warn_prf(average, modifier, msg_start, len(result))\n"
     ]
    }
   ],
   "source": [
    "print(\n",
    "    classification_report(\n",
    "        y_true, y_pred_thresh, target_names=[\"elite\", \"pplcentr\", \"left\", \"right\"]\n",
    "    )\n",
    ")"
   ]
  },
  {
   "cell_type": "code",
   "execution_count": null,
   "id": "ba7eab9e",
   "metadata": {
    "papermill": {
     "duration": 0.874232,
     "end_time": "2023-12-11T12:27:45.973256",
     "exception": false,
     "start_time": "2023-12-11T12:27:45.099024",
     "status": "completed"
    },
    "tags": []
   },
   "outputs": [],
   "source": [
    "model.save_pretrained(src.PATH / \"tmp/mbert_model\")"
   ]
  }
 ],
 "metadata": {
  "kernelspec": {
   "display_name": "bert_populism",
   "language": "python",
   "name": "bert_populism"
  },
  "language_info": {
   "codemirror_mode": {
    "name": "ipython",
    "version": 3
   },
   "file_extension": ".py",
   "mimetype": "text/x-python",
   "name": "python",
   "nbconvert_exporter": "python",
   "pygments_lexer": "ipython3",
   "version": "3.9.12"
  },
  "papermill": {
   "default_parameters": {},
   "duration": 288.12409,
   "end_time": "2023-12-11T12:27:48.819985",
   "environment_variables": {},
   "exception": null,
   "input_path": "notebooks/03-model/05-create_mbert_model.ipynb",
   "output_path": "notebooks/03-model/05-create_mbert_model.ipynb",
   "parameters": {},
   "start_time": "2023-12-11T12:23:00.695895",
   "version": "2.5.0"
  }
 },
 "nbformat": 4,
 "nbformat_minor": 5
}
