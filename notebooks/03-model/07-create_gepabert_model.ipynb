{
 "cells": [
  {
   "cell_type": "code",
   "execution_count": null,
   "id": "e0db552f",
   "metadata": {
    "papermill": {
     "duration": 4.169605,
     "end_time": "2023-12-11T15:13:06.482974",
     "exception": false,
     "start_time": "2023-12-11T15:13:02.313369",
     "status": "completed"
    },
    "tags": []
   },
   "outputs": [],
   "source": [
    "import numpy as np\n",
    "import torch\n",
    "from sklearn.metrics import classification_report\n",
    "from torch.utils.data import DataLoader\n",
    "from transformers import AutoModelForSequenceClassification\n",
    "from transformers import AutoTokenizer\n",
    "\n",
    "import src\n",
    "from src.bert import training\n",
    "from src.bert.dataset import PBertDataset\n",
    "from src.bert.dataset.strategies import MLMin1PopIdeol"
   ]
  },
  {
   "cell_type": "code",
   "execution_count": null,
   "id": "4a3b191f",
   "metadata": {
    "papermill": {
     "duration": 0.011911,
     "end_time": "2023-12-11T15:13:06.502705",
     "exception": false,
     "start_time": "2023-12-11T15:13:06.490794",
     "status": "completed"
    },
    "tags": []
   },
   "outputs": [],
   "source": [
    "EXCLUDE_CODERS: list[str] = []\n",
    "DEVICE = \"cuda\" if torch.cuda.is_available() else \"cpu\"\n",
    "\n",
    "MODEL = \"aehrm/gepabert\"\n",
    "BATCH_SIZE = 8\n",
    "N_EPOCHS = 3\n",
    "LR = 0.000009\n",
    "WEIGHT_DECAY = 0.010\n",
    "\n",
    "THRESHOLDS = {0: 0.415961, 1: 0.295400, 2: 0.429109, 3: 0.302714}"
   ]
  },
  {
   "cell_type": "code",
   "execution_count": null,
   "id": "37ed884b",
   "metadata": {
    "papermill": {
     "duration": 0.841359,
     "end_time": "2023-12-11T15:13:07.351074",
     "exception": false,
     "start_time": "2023-12-11T15:13:06.509715",
     "status": "completed"
    },
    "tags": []
   },
   "outputs": [],
   "source": [
    "train = PBertDataset.from_disk(\n",
    "    path=src.PATH / \"data/bert/train.csv.zip\",\n",
    "    label_strategy=MLMin1PopIdeol(),\n",
    "    exclude_coders=EXCLUDE_CODERS,\n",
    ")\n",
    "\n",
    "test = PBertDataset.from_disk(\n",
    "    path=src.PATH / \"data/bert/test.csv.zip\",\n",
    "    label_strategy=MLMin1PopIdeol(),\n",
    "    exclude_coders=EXCLUDE_CODERS,\n",
    ")"
   ]
  },
  {
   "cell_type": "code",
   "execution_count": null,
   "id": "ece9d3fd",
   "metadata": {
    "papermill": {
     "duration": 0.193726,
     "end_time": "2023-12-11T15:13:07.555441",
     "exception": false,
     "start_time": "2023-12-11T15:13:07.361715",
     "status": "completed"
    },
    "tags": []
   },
   "outputs": [],
   "source": [
    "tokenizer = AutoTokenizer.from_pretrained(MODEL)\n",
    "collate_fn = train.create_collate_fn(tokenizer)\n",
    "\n",
    "train_loader = DataLoader(train, collate_fn=collate_fn, batch_size=BATCH_SIZE, shuffle=True)\n",
    "test_loader = DataLoader(test, collate_fn=collate_fn, batch_size=64, shuffle=False)"
   ]
  },
  {
   "cell_type": "code",
   "execution_count": null,
   "id": "47c1d390",
   "metadata": {
    "papermill": {
     "duration": 7.203431,
     "end_time": "2023-12-11T15:13:14.767323",
     "exception": false,
     "start_time": "2023-12-11T15:13:07.563892",
     "status": "completed"
    },
    "tags": []
   },
   "outputs": [
    {
     "name": "stderr",
     "output_type": "stream",
     "text": [
      "Some weights of BertForSequenceClassification were not initialized from the model checkpoint at aehrm/gepabert and are newly initialized: ['bert.pooler.dense.bias', 'classifier.bias', 'classifier.weight', 'bert.pooler.dense.weight']\n",
      "You should probably TRAIN this model on a down-stream task to be able to use it for predictions and inference.\n"
     ]
    }
   ],
   "source": [
    "model = AutoModelForSequenceClassification.from_pretrained(MODEL, num_labels=train.num_labels).to(\n",
    "    DEVICE\n",
    ")"
   ]
  },
  {
   "cell_type": "code",
   "execution_count": null,
   "id": "d113b0c6",
   "metadata": {
    "papermill": {
     "duration": 367.3413,
     "end_time": "2023-12-11T15:19:22.149076",
     "exception": false,
     "start_time": "2023-12-11T15:13:14.807776",
     "status": "completed"
    },
    "tags": []
   },
   "outputs": [
    {
     "name": "stdout",
     "output_type": "stream",
     "text": [
      "epoch=1 train_loss=317.1596 eval_loss=8.0284 score=0.6767\n"
     ]
    },
    {
     "name": "stdout",
     "output_type": "stream",
     "text": [
      "epoch=2 train_loss=191.5750 eval_loss=6.9702 score=0.7053\n"
     ]
    },
    {
     "name": "stdout",
     "output_type": "stream",
     "text": [
      "epoch=3 train_loss=128.6316 eval_loss=6.7689 score=0.7335\n"
     ]
    }
   ],
   "source": [
    "optimizer = torch.optim.AdamW(\n",
    "    model.parameters(),\n",
    "    lr=LR,\n",
    "    amsgrad=False,\n",
    "    weight_decay=WEIGHT_DECAY,\n",
    ")\n",
    "\n",
    "lr_scheduler = torch.optim.lr_scheduler.CosineAnnealingLR(\n",
    "    optimizer,\n",
    "    T_max=20,\n",
    "    eta_min=LR / 10,\n",
    ")\n",
    "\n",
    "for epoch in range(1, N_EPOCHS + 1):\n",
    "    train_loss = training.train_epoch(model, train_loader, optimizer, lr_scheduler, clip=5)\n",
    "    eval_loss, score, _ = training.eval_epoch(model, test_loader)\n",
    "    print(f\"{epoch=} {train_loss=:.4f} {eval_loss=:.4f} {score=:.4f}\")"
   ]
  },
  {
   "cell_type": "code",
   "execution_count": null,
   "id": "bfb649c3",
   "metadata": {
    "papermill": {
     "duration": 0.011829,
     "end_time": "2023-12-11T15:19:22.169104",
     "exception": false,
     "start_time": "2023-12-11T15:19:22.157275",
     "status": "completed"
    },
    "tags": []
   },
   "outputs": [],
   "source": [
    "def apply_thresh(y_proba, thresholds: dict):\n",
    "    y_proba = y_proba.copy()\n",
    "    for dim, thresh in thresholds.items():\n",
    "        y_proba[:, dim] = np.where(y_proba[:, dim] > thresh, 1, 0)\n",
    "    return y_proba"
   ]
  },
  {
   "cell_type": "code",
   "execution_count": null,
   "id": "f7abe271",
   "metadata": {
    "papermill": {
     "duration": 6.613364,
     "end_time": "2023-12-11T15:19:28.789624",
     "exception": false,
     "start_time": "2023-12-11T15:19:22.176260",
     "status": "completed"
    },
    "tags": []
   },
   "outputs": [],
   "source": [
    "with torch.inference_mode():\n",
    "    y_true = []\n",
    "    y_pred = []\n",
    "    for batch in test_loader:\n",
    "        encodings = batch[\"encodings\"]\n",
    "        encodings = encodings.to(DEVICE)\n",
    "        labels = batch[\"labels\"].to(DEVICE)\n",
    "        out = model(**encodings)\n",
    "        preds = torch.nn.functional.sigmoid(out.logits)\n",
    "        y_true.extend(batch[\"labels\"].numpy())\n",
    "        y_pred.extend(preds.cpu().numpy())\n",
    "    y_pred_05 = np.where(np.array(y_pred) > 0.5, 1, 0)\n",
    "    y_pred_thresh = apply_thresh(np.array(y_pred), THRESHOLDS)\n",
    "    y_true = np.array(y_true)"
   ]
  },
  {
   "cell_type": "code",
   "execution_count": null,
   "id": "d70900c0",
   "metadata": {
    "papermill": {
     "duration": 0.082314,
     "end_time": "2023-12-11T15:19:28.879747",
     "exception": false,
     "start_time": "2023-12-11T15:19:28.797433",
     "status": "completed"
    },
    "tags": []
   },
   "outputs": [
    {
     "name": "stdout",
     "output_type": "stream",
     "text": [
      "              precision    recall  f1-score   support\n",
      "\n",
      "       elite       0.84      0.88      0.86       648\n",
      "    pplcentr       0.68      0.75      0.72       322\n",
      "        left       0.74      0.73      0.74       279\n",
      "       right       0.78      0.52      0.62       155\n",
      "\n",
      "   micro avg       0.78      0.78      0.78      1404\n",
      "   macro avg       0.76      0.72      0.73      1404\n",
      "weighted avg       0.78      0.78      0.78      1404\n",
      " samples avg       0.41      0.40      0.40      1404\n",
      "\n"
     ]
    },
    {
     "name": "stderr",
     "output_type": "stream",
     "text": [
      "/gpfs/bwfor/home/st/st_st/st_ac138201/bert_populism/.venv/lib/python3.9/site-packages/sklearn/metrics/_classification.py:1471: UndefinedMetricWarning: Precision and F-score are ill-defined and being set to 0.0 in samples with no predicted labels. Use `zero_division` parameter to control this behavior.\n",
      "  _warn_prf(average, modifier, msg_start, len(result))\n",
      "/gpfs/bwfor/home/st/st_st/st_ac138201/bert_populism/.venv/lib/python3.9/site-packages/sklearn/metrics/_classification.py:1471: UndefinedMetricWarning: Recall and F-score are ill-defined and being set to 0.0 in samples with no true labels. Use `zero_division` parameter to control this behavior.\n",
      "  _warn_prf(average, modifier, msg_start, len(result))\n"
     ]
    }
   ],
   "source": [
    "print(classification_report(y_true, y_pred_05, target_names=[\"elite\", \"pplcentr\", \"left\", \"right\"]))"
   ]
  },
  {
   "cell_type": "code",
   "execution_count": null,
   "id": "f8fe7777",
   "metadata": {
    "papermill": {
     "duration": 0.020021,
     "end_time": "2023-12-11T15:19:28.908275",
     "exception": false,
     "start_time": "2023-12-11T15:19:28.888254",
     "status": "completed"
    },
    "tags": []
   },
   "outputs": [
    {
     "name": "stdout",
     "output_type": "stream",
     "text": [
      "              precision    recall  f1-score   support\n",
      "\n",
      "       elite       0.83      0.89      0.86       648\n",
      "    pplcentr       0.63      0.83      0.72       322\n",
      "        left       0.70      0.75      0.72       279\n",
      "       right       0.67      0.61      0.64       155\n",
      "\n",
      "   micro avg       0.74      0.82      0.77      1404\n",
      "   macro avg       0.71      0.77      0.74      1404\n",
      "weighted avg       0.74      0.82      0.77      1404\n",
      " samples avg       0.42      0.42      0.41      1404\n",
      "\n"
     ]
    },
    {
     "name": "stderr",
     "output_type": "stream",
     "text": [
      "/gpfs/bwfor/home/st/st_st/st_ac138201/bert_populism/.venv/lib/python3.9/site-packages/sklearn/metrics/_classification.py:1471: UndefinedMetricWarning: Precision and F-score are ill-defined and being set to 0.0 in samples with no predicted labels. Use `zero_division` parameter to control this behavior.\n",
      "  _warn_prf(average, modifier, msg_start, len(result))\n",
      "/gpfs/bwfor/home/st/st_st/st_ac138201/bert_populism/.venv/lib/python3.9/site-packages/sklearn/metrics/_classification.py:1471: UndefinedMetricWarning: Recall and F-score are ill-defined and being set to 0.0 in samples with no true labels. Use `zero_division` parameter to control this behavior.\n",
      "  _warn_prf(average, modifier, msg_start, len(result))\n"
     ]
    }
   ],
   "source": [
    "print(\n",
    "    classification_report(\n",
    "        y_true, y_pred_thresh, target_names=[\"elite\", \"pplcentr\", \"left\", \"right\"]\n",
    "    )\n",
    ")"
   ]
  },
  {
   "cell_type": "code",
   "execution_count": null,
   "id": "ba7eab9e",
   "metadata": {
    "papermill": {
     "duration": 1.985109,
     "end_time": "2023-12-11T15:19:30.900721",
     "exception": false,
     "start_time": "2023-12-11T15:19:28.915612",
     "status": "completed"
    },
    "tags": []
   },
   "outputs": [],
   "source": [
    "model.save_pretrained(src.PATH / \"tmp/gepabert_model\")"
   ]
  }
 ],
 "metadata": {
  "kernelspec": {
   "display_name": "bert_populism",
   "language": "python",
   "name": "bert_populism"
  },
  "language_info": {
   "codemirror_mode": {
    "name": "ipython",
    "version": 3
   },
   "file_extension": ".py",
   "mimetype": "text/x-python",
   "name": "python",
   "nbconvert_exporter": "python",
   "pygments_lexer": "ipython3",
   "version": "3.9.12"
  },
  "papermill": {
   "default_parameters": {},
   "duration": 393.160286,
   "end_time": "2023-12-11T15:19:34.596015",
   "environment_variables": {},
   "exception": null,
   "input_path": "notebooks/03-model/07-create_gepabert_model.ipynb",
   "output_path": "notebooks/03-model/07-create_gepabert_model.ipynb",
   "parameters": {},
   "start_time": "2023-12-11T15:13:01.435729",
   "version": "2.5.0"
  }
 },
 "nbformat": 4,
 "nbformat_minor": 5
}
