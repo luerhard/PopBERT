{
 "cells": [
  {
   "cell_type": "code",
   "execution_count": null,
   "id": "18e3282b-2bf8-4cce-b0d8-4df4d8dde972",
   "metadata": {
    "tags": []
   },
   "outputs": [],
   "source": [
    "import src.db\n",
    "from src.bert.dataset import PBertDataset\n",
    "from src.bert.dataset import strategies"
   ]
  },
  {
   "cell_type": "code",
   "execution_count": null,
   "id": "75e875e9-abba-4662-9bf1-19f50d639003",
   "metadata": {
    "tags": []
   },
   "outputs": [],
   "source": [
    "dataset = PBertDataset.from_disk(\n",
    "    path=src.PATH / \"data/bert/dataset.csv.zip\",\n",
    "    label_strategy=strategies.MLMin1PopIdeol(),\n",
    ")"
   ]
  },
  {
   "cell_type": "code",
   "execution_count": null,
   "id": "87ff0fc0-94f4-48d0-84f3-132ce8387eee",
   "metadata": {
    "tags": []
   },
   "outputs": [
    {
     "data": {
      "text/plain": [
       "(0, 0, 0, 0)    4401\n",
       "(1, 0, 0, 0)    1490\n",
       "(1, 0, 1, 0)     699\n",
       "(0, 1, 0, 0)     686\n",
       "(1, 0, 0, 1)     537\n",
       "(0, 1, 1, 0)     408\n",
       "(1, 1, 1, 0)     209\n",
       "(1, 1, 0, 0)     129\n",
       "(1, 1, 0, 1)      98\n",
       "(0, 1, 0, 1)      61\n",
       "(1, 0, 1, 1)      60\n",
       "(1, 1, 1, 1)      14\n",
       "(0, 1, 1, 1)       3\n",
       "Name: vote, dtype: int64"
      ]
     },
     "execution_count": null,
     "metadata": {},
     "output_type": "execute_result"
    }
   ],
   "source": [
    "dataset.df_labels.vote.value_counts()"
   ]
  },
  {
   "cell_type": "code",
   "execution_count": null,
   "id": "65df5f1e-a312-4835-94e3-4dd9d779f6e6",
   "metadata": {
    "tags": []
   },
   "outputs": [],
   "source": [
    "train, test = dataset.train_test_split(test_size=0.2, stratify=True)"
   ]
  },
  {
   "cell_type": "code",
   "execution_count": null,
   "id": "573de435",
   "metadata": {
    "tags": []
   },
   "outputs": [
    {
     "data": {
      "text/plain": [
       "(8795, 7036, 1759)"
      ]
     },
     "execution_count": null,
     "metadata": {},
     "output_type": "execute_result"
    }
   ],
   "source": [
    "len(dataset), len(train), len(test)"
   ]
  },
  {
   "cell_type": "code",
   "execution_count": null,
   "id": "c2558706-b41d-4281-8d0f-b3109855dbd2",
   "metadata": {
    "tags": []
   },
   "outputs": [
    {
     "data": {
      "text/html": [
       "<div>\n",
       "<style scoped>\n",
       "    .dataframe tbody tr th:only-of-type {\n",
       "        vertical-align: middle;\n",
       "    }\n",
       "\n",
       "    .dataframe tbody tr th {\n",
       "        vertical-align: top;\n",
       "    }\n",
       "\n",
       "    .dataframe thead th {\n",
       "        text-align: right;\n",
       "    }\n",
       "</style>\n",
       "<table border=\"1\" class=\"dataframe\">\n",
       "  <thead>\n",
       "    <tr style=\"text-align: right;\">\n",
       "      <th></th>\n",
       "      <th>id</th>\n",
       "      <th>text</th>\n",
       "      <th>labels</th>\n",
       "      <th>vote</th>\n",
       "    </tr>\n",
       "  </thead>\n",
       "  <tbody>\n",
       "    <tr>\n",
       "      <th>6952</th>\n",
       "      <td>1046672</td>\n",
       "      <td>Ich erlebe immer wieder, dass sich Menschen sc...</td>\n",
       "      <td>((0, 0, 0, 0), (1, 0, 1, 0), (0, 0, 0, 0), (0,...</td>\n",
       "      <td>(1, 0, 1, 0)</td>\n",
       "    </tr>\n",
       "    <tr>\n",
       "      <th>2395</th>\n",
       "      <td>301347</td>\n",
       "      <td>Doch statt die Begründung des Bundesverfassung...</td>\n",
       "      <td>((0, 0, 0, 0), (0, 0, 0, 0), (0, 0, 0, 0), (1,...</td>\n",
       "      <td>(1, 0, 0, 0)</td>\n",
       "    </tr>\n",
       "    <tr>\n",
       "      <th>5667</th>\n",
       "      <td>895527</td>\n",
       "      <td>Das sieht dann so aus.</td>\n",
       "      <td>((0, 0, 0, 0), (0, 0, 0, 0), (0, 0, 0, 0), (0,...</td>\n",
       "      <td>(0, 0, 0, 0)</td>\n",
       "    </tr>\n",
       "    <tr>\n",
       "      <th>7218</th>\n",
       "      <td>1078213</td>\n",
       "      <td>Mit den abgehalfterten Ideen eines Toni Hofrei...</td>\n",
       "      <td>((0, 0, 0, 0), (0, 0, 0, 0), (0, 0, 0, 0), (1,...</td>\n",
       "      <td>(1, 0, 0, 0)</td>\n",
       "    </tr>\n",
       "    <tr>\n",
       "      <th>2598</th>\n",
       "      <td>327169</td>\n",
       "      <td>Wir sprechen darüber, dass wir Altersarmut bek...</td>\n",
       "      <td>((0, 0, 0, 0), (0, 0, 0, 0), (0, 1, 0, 0), (0,...</td>\n",
       "      <td>(0, 1, 1, 0)</td>\n",
       "    </tr>\n",
       "  </tbody>\n",
       "</table>\n",
       "</div>"
      ],
      "text/plain": [
       "           id                                               text  \\\n",
       "6952  1046672  Ich erlebe immer wieder, dass sich Menschen sc...   \n",
       "2395   301347  Doch statt die Begründung des Bundesverfassung...   \n",
       "5667   895527                             Das sieht dann so aus.   \n",
       "7218  1078213  Mit den abgehalfterten Ideen eines Toni Hofrei...   \n",
       "2598   327169  Wir sprechen darüber, dass wir Altersarmut bek...   \n",
       "\n",
       "                                                 labels          vote  \n",
       "6952  ((0, 0, 0, 0), (1, 0, 1, 0), (0, 0, 0, 0), (0,...  (1, 0, 1, 0)  \n",
       "2395  ((0, 0, 0, 0), (0, 0, 0, 0), (0, 0, 0, 0), (1,...  (1, 0, 0, 0)  \n",
       "5667  ((0, 0, 0, 0), (0, 0, 0, 0), (0, 0, 0, 0), (0,...  (0, 0, 0, 0)  \n",
       "7218  ((0, 0, 0, 0), (0, 0, 0, 0), (0, 0, 0, 0), (1,...  (1, 0, 0, 0)  \n",
       "2598  ((0, 0, 0, 0), (0, 0, 0, 0), (0, 1, 0, 0), (0,...  (0, 1, 1, 0)  "
      ]
     },
     "execution_count": null,
     "metadata": {},
     "output_type": "execute_result"
    }
   ],
   "source": [
    "train.df_labels.head()"
   ]
  },
  {
   "cell_type": "code",
   "execution_count": null,
   "id": "055ec0be-51ca-4a28-9e42-3f8633b8d29d",
   "metadata": {
    "tags": []
   },
   "outputs": [],
   "source": [
    "train.to_disk(src.PATH / \"data/bert/train.csv.zip\")\n",
    "test.to_disk(src.PATH / \"data/bert/test.csv.zip\")"
   ]
  }
 ],
 "metadata": {
  "kernelspec": {
   "display_name": ".venv",
   "language": "python",
   "name": "python3"
  },
  "language_info": {
   "codemirror_mode": {
    "name": "ipython",
    "version": 3
   },
   "file_extension": ".py",
   "mimetype": "text/x-python",
   "name": "python",
   "nbconvert_exporter": "python",
   "pygments_lexer": "ipython3",
   "version": "3.9.12"
  }
 },
 "nbformat": 4,
 "nbformat_minor": 5
}
