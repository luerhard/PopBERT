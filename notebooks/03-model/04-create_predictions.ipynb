{
 "cells": [
  {
   "cell_type": "code",
   "execution_count": null,
   "id": "fa85e8f5",
   "metadata": {
    "papermill": {
     "duration": 39.987678,
     "end_time": "2023-12-08T10:52:07.152386",
     "exception": false,
     "start_time": "2023-12-08T10:51:27.164708",
     "status": "completed"
    },
    "tags": []
   },
   "outputs": [],
   "source": [
    "import torch\n",
    "from sqlalchemy.orm import Session\n",
    "from sqlalchemy.orm import close_all_sessions\n",
    "from tqdm.auto import tqdm\n",
    "from transformers import AutoModelForSequenceClassification\n",
    "from transformers import AutoTokenizer\n",
    "from transformers import logging\n",
    "\n",
    "import src.db.models.bert_data as bm\n",
    "from src.db.connect import make_engine"
   ]
  },
  {
   "cell_type": "code",
   "execution_count": null,
   "id": "8746f8ae",
   "metadata": {
    "papermill": {
     "duration": 0.175749,
     "end_time": "2023-12-08T10:52:07.399395",
     "exception": false,
     "start_time": "2023-12-08T10:52:07.223646",
     "status": "completed"
    },
    "tags": []
   },
   "outputs": [],
   "source": [
    "DEVICE = \"cuda\" if torch.cuda.is_available() else \"cuda\""
   ]
  },
  {
   "cell_type": "code",
   "execution_count": null,
   "id": "81383a04",
   "metadata": {
    "papermill": {
     "duration": 1.30553,
     "end_time": "2023-12-08T10:52:08.738874",
     "exception": false,
     "start_time": "2023-12-08T10:52:07.433344",
     "status": "completed"
    },
    "tags": []
   },
   "outputs": [],
   "source": [
    "# set transformers logging v to error\n",
    "logging.set_verbosity_error()\n",
    "\n",
    "engine = make_engine(\"DB\")\n",
    "bm.Base.metadata.create_all(engine, checkfirst=True)"
   ]
  },
  {
   "cell_type": "code",
   "execution_count": null,
   "id": "cfc9e19d",
   "metadata": {
    "papermill": {
     "duration": null,
     "end_time": null,
     "exception": false,
     "start_time": "2023-12-08T10:52:08.766715",
     "status": "running"
    },
    "tags": []
   },
   "outputs": [],
   "source": [
    "new_run = True\n",
    "\n",
    "if new_run:\n",
    "    close_all_sessions()\n",
    "    bm.Base.metadata.drop_all(engine, tables=[bm.Prediction.__table__])\n",
    "    bm.Base.metadata.create_all(engine, tables=[bm.Prediction.__table__])"
   ]
  },
  {
   "cell_type": "code",
   "execution_count": null,
   "id": "65ab8d22",
   "metadata": {
    "papermill": {
     "duration": null,
     "end_time": null,
     "exception": null,
     "start_time": null,
     "status": "pending"
    },
    "tags": []
   },
   "outputs": [],
   "source": [
    "tokenizer = AutoTokenizer.from_pretrained(\"luerhard/PopBERT\")\n",
    "model = AutoModelForSequenceClassification.from_pretrained(\"luerhard/PopBERT\")\n",
    "model = model.to(DEVICE)"
   ]
  },
  {
   "cell_type": "code",
   "execution_count": null,
   "id": "d1200fe5",
   "metadata": {
    "papermill": {
     "duration": null,
     "end_time": null,
     "exception": null,
     "start_time": null,
     "status": "pending"
    },
    "tags": []
   },
   "outputs": [],
   "source": [
    "def iter_batches(engine, yield_per=100):\n",
    "    with Session(engine) as s:\n",
    "        existing_preds = s.query(bm.Prediction).filter(bm.Prediction.sample_id == bm.Sample.id)\n",
    "\n",
    "        query = (\n",
    "            s.query(bm.Sample)\n",
    "            .filter(~existing_preds.exists())\n",
    "            .with_entities(\n",
    "                bm.Sample.id,\n",
    "                bm.Sample.text,\n",
    "            )\n",
    "        ).limit(None)\n",
    "\n",
    "    cache = []\n",
    "    for row in tqdm(query.yield_per(yield_per), total=query.count()):\n",
    "        cache.append(row)\n",
    "        if len(cache) >= yield_per:\n",
    "            yield cache\n",
    "            cache.clear()\n",
    "    else:\n",
    "        yield cache"
   ]
  },
  {
   "cell_type": "code",
   "execution_count": null,
   "id": "524473c9",
   "metadata": {
    "papermill": {
     "duration": null,
     "end_time": null,
     "exception": null,
     "start_time": null,
     "status": "pending"
    },
    "tags": []
   },
   "outputs": [],
   "source": [
    "with torch.inference_mode():\n",
    "    for batch in iter_batches(engine, 500):\n",
    "        ids, text = list(zip(*batch))\n",
    "        encodings = tokenizer(text, return_tensors=\"pt\").to(DEVICE)\n",
    "\n",
    "        out = model(**encodings)\n",
    "        proba_tensor = torch.nn.functional.sigmoid(out.logits)\n",
    "        probas = proba_tensor.cpu().detach().numpy()\n",
    "\n",
    "        preds = []\n",
    "        for (\n",
    "            id_,\n",
    "            pred,\n",
    "        ) in zip(ids, probas):\n",
    "            row = {\n",
    "                \"sample_id\": id_,\n",
    "                \"elite\": pred[0].astype(float),\n",
    "                \"pplcentr\": pred[1].astype(float),\n",
    "                \"left\": pred[2].astype(float),\n",
    "                \"right\": pred[3].astype(float),\n",
    "            }\n",
    "            preds.append(row)\n",
    "\n",
    "        with Session(engine) as s:\n",
    "            s.bulk_insert_mappings(bm.Prediction, preds)\n",
    "            s.commit()"
   ]
  },
  {
   "cell_type": "code",
   "execution_count": null,
   "id": "56a44fcd",
   "metadata": {
    "papermill": {
     "duration": null,
     "end_time": null,
     "exception": null,
     "start_time": null,
     "status": "pending"
    },
    "tags": []
   },
   "outputs": [],
   "source": []
  }
 ],
 "metadata": {
  "kernelspec": {
   "display_name": "bert_populism",
   "language": "python",
   "name": "bert_populism"
  },
  "language_info": {
   "codemirror_mode": {
    "name": "ipython",
    "version": 3
   },
   "file_extension": ".py",
   "mimetype": "text/x-python",
   "name": "python",
   "nbconvert_exporter": "python",
   "pygments_lexer": "ipython3",
   "version": "3.9.12"
  },
  "papermill": {
   "default_parameters": {},
   "duration": null,
   "end_time": null,
   "environment_variables": {},
   "exception": null,
   "input_path": "notebooks/03-model/04-create_predictions.ipynb",
   "output_path": "notebooks/03-model/04-create_predictions.ipynb",
   "parameters": {},
   "start_time": "2023-12-08T10:51:26.261233",
   "version": "2.4.0"
  },
  "vscode": {
   "interpreter": {
    "hash": "05b0f58c2bcdc36936de25f1aaac0724cceaad7ddc88039a552f8d696c8fb19b"
   }
  }
 },
 "nbformat": 4,
 "nbformat_minor": 5
}
