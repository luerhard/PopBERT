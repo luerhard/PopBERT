{
 "cells": [
  {
   "cell_type": "code",
   "execution_count": 1,
   "metadata": {},
   "outputs": [],
   "source": [
    "import src\n",
    "from src.db.connect import make_engine\n",
    "import src.db.models.bert_data as bm\n",
    "import src.db.models.open_discourse as od\n",
    "\n",
    "from sqlalchemy.orm import Session\n",
    "import pandas as pd"
   ]
  },
  {
   "cell_type": "code",
   "execution_count": 2,
   "metadata": {},
   "outputs": [],
   "source": [
    "engine = make_engine(\"DB\")"
   ]
  },
  {
   "cell_type": "code",
   "execution_count": 7,
   "metadata": {},
   "outputs": [],
   "source": [
    "with Session(engine) as s:\n",
    "    query = (\n",
    "        s.query(bm.Sample)\n",
    "        .join(od.Speech)\n",
    "        .join(od.Politician)\n",
    "        .join(od.Faction)\n",
    "        .filter(\n",
    "            od.Speech.electoral_term.in_([18, 19]),\n",
    "            od.Faction.abbreviation != \"Fraktionslos\",\n",
    "        )\n",
    "        .with_entities(\n",
    "            bm.Sample.id.label(\"sample_id\"),\n",
    "            bm.Sample.speeches_id.label(\"speech_id\"),\n",
    "            od.Speech.date,\n",
    "            od.Speech.session,\n",
    "            od.Speech.electoral_term,\n",
    "            od.Politician.id.label(\"politician_id\"),\n",
    "            od.Politician.first_name,\n",
    "            od.Politician.last_name,\n",
    "            od.Faction.abbreviation,\n",
    "            bm.Sample.sentence_no,\n",
    "            bm.Sample.sentence_length,\n",
    "            bm.Sample.text,\n",
    "        )\n",
    "        .order_by(bm.Sample.id.asc())\n",
    "        .distinct()\n",
    "    )\n",
    "\n",
    "with engine.connect() as conn:\n",
    "    df = pd.read_sql(query.statement, conn)\n",
    "\n",
    "df.abbreviation = df.abbreviation.replace({\"DIE LINKE.\": \"DIE LINKE\"})"
   ]
  },
  {
   "cell_type": "code",
   "execution_count": 8,
   "metadata": {},
   "outputs": [],
   "source": [
    "df.to_parquet(src.PATH / \"data/raw/sentences.parquet.gzip\", compression=\"gzip\")"
   ]
  }
 ],
 "metadata": {
  "kernelspec": {
   "display_name": ".venv",
   "language": "python",
   "name": "python3"
  },
  "language_info": {
   "codemirror_mode": {
    "name": "ipython",
    "version": 3
   },
   "file_extension": ".py",
   "mimetype": "text/x-python",
   "name": "python",
   "nbconvert_exporter": "python",
   "pygments_lexer": "ipython3",
   "version": "3.9.18"
  }
 },
 "nbformat": 4,
 "nbformat_minor": 2
}
