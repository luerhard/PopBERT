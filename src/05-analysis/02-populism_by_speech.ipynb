{
 "cells": [
  {
   "cell_type": "code",
   "execution_count": null,
   "id": "cd5de0c1",
   "metadata": {},
   "outputs": [],
   "source": [
    "%load_ext rpy2.ipython"
   ]
  },
  {
   "cell_type": "code",
   "execution_count": null,
   "id": "89bea73f-fdac-406d-9717-29b7dd2d76b1",
   "metadata": {
    "tags": []
   },
   "outputs": [],
   "source": [
    "import matplotlib as mlp\n",
    "import matplotlib.pyplot as plt\n",
    "import numpy as np\n",
    "import pandas as pd\n",
    "import seaborn as sns\n",
    "from sklearn import preprocessing\n",
    "from sqlalchemy import case\n",
    "from sqlalchemy import func\n",
    "from sqlalchemy import literal\n",
    "from sqlalchemy.orm import Query\n",
    "\n",
    "import src\n",
    "import src.db.models.bert_data as bm\n",
    "import src.db.models.open_discourse as od"
   ]
  },
  {
   "cell_type": "code",
   "execution_count": null,
   "id": "b73cec08-749b-4602-aa13-118ebedf0b3a",
   "metadata": {
    "tags": []
   },
   "outputs": [],
   "source": [
    "pd.set_option(\"display.max_colwidth\", 2048)\n",
    "pd.set_option(\"display.max_rows\", 256)\n",
    "\n",
    "engine = src.db.connect.make_engine(\"DB\")"
   ]
  },
  {
   "cell_type": "code",
   "execution_count": null,
   "id": "a1f9069a",
   "metadata": {},
   "outputs": [],
   "source": [
    "thresh = {\"elite\": 0.5013018, \"centr\": 0.5017193, \"left\": 0.42243505, \"right\": 0.38281676}"
   ]
  },
  {
   "cell_type": "code",
   "execution_count": null,
   "id": "f3f07a36",
   "metadata": {},
   "outputs": [],
   "source": [
    "colormap = {\n",
    "    \"CDU/CSU\": \"#000000\",\n",
    "    \"Grüne\": \"#1AA037\",\n",
    "    \"DIE LINKE.\": \"#8B008B\",\n",
    "    \"FDP\": \"#FFEF00\",\n",
    "    \"AfD\": \"#0489DB\",\n",
    "    \"SPD\": \"#E3000F\",\n",
    "}"
   ]
  },
  {
   "cell_type": "markdown",
   "id": "1a86b73f",
   "metadata": {},
   "source": [
    "# Analysis: How many speeches per day per politican?\n"
   ]
  },
  {
   "cell_type": "code",
   "execution_count": null,
   "id": "2e0bb0a9",
   "metadata": {},
   "outputs": [],
   "source": [
    "query = (\n",
    "    Query(od.Speech)\n",
    "    .join(bm.Sample)\n",
    "    .filter(od.Speech.electoral_term.in_([18, 19]), od.Speech.politician_id != -1)\n",
    "    .group_by(od.Speech.session, od.Speech.electoral_term, od.Speech.politician_id, od.Speech.id)\n",
    "    .with_entities(\n",
    "        od.Speech.session,\n",
    "        od.Speech.electoral_term,\n",
    "        od.Speech.politician_id,\n",
    "        od.Speech.id,\n",
    "        func.max(bm.Sample.sentence_no).label(\"n_sents\"),\n",
    "    )\n",
    ")\n",
    "\n",
    "with engine.connect() as conn:\n",
    "    test_df = pd.read_sql(query.statement, conn)"
   ]
  },
  {
   "cell_type": "code",
   "execution_count": null,
   "id": "73a2e165",
   "metadata": {},
   "outputs": [],
   "source": [
    "speeches = test_df.groupby([\"electoral_term\", \"session\", \"politician_id\"])\n",
    "\n",
    "cache = []\n",
    "group_ix = 0\n",
    "new_block = True\n",
    "\n",
    "\n",
    "def group_counter(gap):\n",
    "    global group_ix\n",
    "    global new_block\n",
    "    if gap > 7 or new_block:\n",
    "        new_block = False\n",
    "        group_ix += 1\n",
    "        return group_ix\n",
    "    else:\n",
    "        return group_ix\n",
    "\n",
    "\n",
    "for i, speech in speeches:\n",
    "    new_block = True\n",
    "    if len(speech) == 1:\n",
    "        speech[\"group\"] = group_counter(100)\n",
    "        cache.append(speech)\n",
    "        continue\n",
    "    speech.reset_index(inplace=True, drop=True)\n",
    "    speech = speech.sort_values(\"id\", ascending=True)\n",
    "    speech[\"prev_id\"] = speech[\"id\"].shift(1)\n",
    "    speech[\"gap\"] = speech[\"id\"] - speech[\"prev_id\"]\n",
    "    speech[\"group\"] = speech.gap.apply(group_counter)\n",
    "\n",
    "    for _, speech_group in speech.groupby(\"group\"):\n",
    "        if speech_group.n_sents.sum() > 4:\n",
    "            cache.append(speech_group)\n",
    "        else:\n",
    "            continue"
   ]
  },
  {
   "cell_type": "code",
   "execution_count": null,
   "id": "93ad26f7",
   "metadata": {},
   "outputs": [],
   "source": [
    "test_df = pd.concat(cache)"
   ]
  },
  {
   "cell_type": "code",
   "execution_count": null,
   "id": "92492584",
   "metadata": {},
   "outputs": [
    {
     "data": {
      "text/html": [
       "<div>\n",
       "<style scoped>\n",
       "    .dataframe tbody tr th:only-of-type {\n",
       "        vertical-align: middle;\n",
       "    }\n",
       "\n",
       "    .dataframe tbody tr th {\n",
       "        vertical-align: top;\n",
       "    }\n",
       "\n",
       "    .dataframe thead th {\n",
       "        text-align: right;\n",
       "    }\n",
       "</style>\n",
       "<table border=\"1\" class=\"dataframe\">\n",
       "  <thead>\n",
       "    <tr style=\"text-align: right;\">\n",
       "      <th></th>\n",
       "      <th>session</th>\n",
       "      <th>electoral_term</th>\n",
       "      <th>politician_id</th>\n",
       "      <th>id</th>\n",
       "      <th>n_sents</th>\n",
       "      <th>group</th>\n",
       "      <th>prev_id</th>\n",
       "      <th>gap</th>\n",
       "    </tr>\n",
       "  </thead>\n",
       "  <tbody>\n",
       "    <tr>\n",
       "      <th>0</th>\n",
       "      <td>3</td>\n",
       "      <td>18</td>\n",
       "      <td>11002636</td>\n",
       "      <td>794237</td>\n",
       "      <td>51</td>\n",
       "      <td>46</td>\n",
       "      <td>NaN</td>\n",
       "      <td>NaN</td>\n",
       "    </tr>\n",
       "    <tr>\n",
       "      <th>1</th>\n",
       "      <td>3</td>\n",
       "      <td>18</td>\n",
       "      <td>11002636</td>\n",
       "      <td>794239</td>\n",
       "      <td>3</td>\n",
       "      <td>46</td>\n",
       "      <td>794237.0</td>\n",
       "      <td>2.0</td>\n",
       "    </tr>\n",
       "    <tr>\n",
       "      <th>2</th>\n",
       "      <td>3</td>\n",
       "      <td>18</td>\n",
       "      <td>11002636</td>\n",
       "      <td>794251</td>\n",
       "      <td>12</td>\n",
       "      <td>47</td>\n",
       "      <td>794239.0</td>\n",
       "      <td>12.0</td>\n",
       "    </tr>\n",
       "  </tbody>\n",
       "</table>\n",
       "</div>"
      ],
      "text/plain": [
       "   session  electoral_term  politician_id      id  n_sents  group   prev_id  \\\n",
       "0        3              18       11002636  794237       51     46       NaN   \n",
       "1        3              18       11002636  794239        3     46  794237.0   \n",
       "2        3              18       11002636  794251       12     47  794239.0   \n",
       "\n",
       "    gap  \n",
       "0   NaN  \n",
       "1   2.0  \n",
       "2  12.0  "
      ]
     },
     "execution_count": null,
     "metadata": {},
     "output_type": "execute_result"
    }
   ],
   "source": [
    "test_df[(test_df.session == 3) & (test_df.politician_id == 11002636)]"
   ]
  },
  {
   "cell_type": "code",
   "execution_count": null,
   "id": "98876b8f",
   "metadata": {},
   "outputs": [],
   "source": [
    "counts = test_df.groupby([\"electoral_term\", \"session\", \"politician_id\"])[\"group\"].nunique()"
   ]
  },
  {
   "cell_type": "code",
   "execution_count": null,
   "id": "67e9e3a8",
   "metadata": {},
   "outputs": [
    {
     "data": {
      "text/plain": [
       "1    28753\n",
       "2     3049\n",
       "3      392\n",
       "4       57\n",
       "5       11\n",
       "6        3\n",
       "7        1\n",
       "Name: group, dtype: int64"
      ]
     },
     "execution_count": null,
     "metadata": {},
     "output_type": "execute_result"
    }
   ],
   "source": [
    "counts.value_counts(normalize=False)"
   ]
  },
  {
   "cell_type": "code",
   "execution_count": null,
   "id": "4311a2bf",
   "metadata": {},
   "outputs": [
    {
     "data": {
      "text/plain": [
       "1    0.891124\n",
       "2    0.094496\n",
       "3    0.012149\n",
       "4    0.001767\n",
       "5    0.000341\n",
       "6    0.000093\n",
       "7    0.000031\n",
       "Name: group, dtype: float64"
      ]
     },
     "execution_count": null,
     "metadata": {},
     "output_type": "execute_result"
    }
   ],
   "source": [
    "counts.value_counts(normalize=True)"
   ]
  },
  {
   "cell_type": "markdown",
   "id": "6de2d95e",
   "metadata": {},
   "source": [
    "# Populism by speech\n"
   ]
  },
  {
   "cell_type": "code",
   "execution_count": null,
   "id": "e36c1a7e",
   "metadata": {},
   "outputs": [],
   "source": [
    "query = (\n",
    "    Query(bm.Sample)\n",
    "    .join(bm.Prediction)\n",
    "    .join(od.Speech)\n",
    "    .join(od.Faction)\n",
    "    .filter(\n",
    "        bm.Sample.sentence_length > 2,\n",
    "        od.Speech.electoral_term.in_([18, 19]),\n",
    "        od.Faction.abbreviation != \"Fraktionslos\",\n",
    "    )\n",
    "    .with_entities(\n",
    "        # bm.Sample.text,\n",
    "        od.Speech.id.label(\"speech_id\"),\n",
    "        od.Speech.electoral_term,\n",
    "        od.Speech.session,\n",
    "        od.Speech.politician_id,\n",
    "        bm.Sample.sentence_no,\n",
    "        od.Faction.abbreviation,\n",
    "        bm.Sample.pop_dict_score,\n",
    "        case(\n",
    "            (bm.Prediction.elite >= thresh[\"elite\"], literal(1)),\n",
    "            (bm.Prediction.elite < thresh[\"elite\"], literal(0)),\n",
    "        ).label(\"antielite\"),\n",
    "        case(\n",
    "            (bm.Prediction.pplcentr >= thresh[\"centr\"], literal(1)),\n",
    "            (bm.Prediction.pplcentr < thresh[\"centr\"], literal(0)),\n",
    "        ).label(\"pplcentr\"),\n",
    "        case(\n",
    "            (bm.Prediction.left >= thresh[\"left\"], literal(1)),\n",
    "            (bm.Prediction.left < thresh[\"left\"], literal(0)),\n",
    "        ).label(\"left\"),\n",
    "        case(\n",
    "            (bm.Prediction.right >= thresh[\"right\"], literal(1)),\n",
    "            (bm.Prediction.right < thresh[\"right\"], literal(0)),\n",
    "        ).label(\"right\"),\n",
    "    )\n",
    ")"
   ]
  },
  {
   "cell_type": "code",
   "execution_count": null,
   "id": "929bec69",
   "metadata": {},
   "outputs": [],
   "source": [
    "with engine.connect() as conn:\n",
    "    df_raw = pd.read_sql(query.statement, conn)"
   ]
  },
  {
   "cell_type": "code",
   "execution_count": null,
   "id": "6f6c9d72",
   "metadata": {},
   "outputs": [],
   "source": [
    "# filter all speeches with less than 3 sentences\n",
    "df_raw = df_raw.groupby([\"electoral_term\", \"session\", \"politician_id\"]).filter(\n",
    "    lambda x: x[\"sentence_no\"].max() > 3\n",
    ")"
   ]
  },
  {
   "cell_type": "code",
   "execution_count": null,
   "id": "4c93f60c",
   "metadata": {},
   "outputs": [],
   "source": [
    "df_speech = (\n",
    "    df_raw.drop([\"speech_id\", \"sentence_no\"], axis=1)\n",
    "    .groupby([\"electoral_term\", \"session\", \"politician_id\", \"abbreviation\"])\n",
    "    .mean()\n",
    "    .reset_index()\n",
    ")"
   ]
  },
  {
   "attachments": {},
   "cell_type": "markdown",
   "id": "a855e7ff",
   "metadata": {},
   "source": [
    "# Multiplicative index\n",
    "\n",
    "- antielite and pplcentr are multiplicated. pop score is the result\n"
   ]
  },
  {
   "cell_type": "code",
   "execution_count": null,
   "id": "089285e6",
   "metadata": {},
   "outputs": [],
   "source": [
    "df_speech[\"pop\"] = df_speech.antielite * df_speech.pplcentr\n",
    "df_speech[\"pop_right\"] = df_speech.antielite * df_speech.pplcentr * df_speech.right\n",
    "df_speech[\"pop_left\"] = df_speech.antielite * df_speech.pplcentr * df_speech.left"
   ]
  },
  {
   "cell_type": "code",
   "execution_count": null,
   "id": "82512dc4",
   "metadata": {},
   "outputs": [],
   "source": [
    "cols = [\n",
    "    \"(a) Gründl (2022)\",\n",
    "    \"(b) Populism-Index\",\n",
    "    \"(c) Left-Wing Populism-Index\",\n",
    "    \"(d) Right-Wing Populism-Index\",\n",
    "]\n",
    "mean_pop = (\n",
    "    df_speech.rename(\n",
    "        {\n",
    "            \"abbreviation\": \"Party\",\n",
    "            \"electoral_term\": \"Term\",\n",
    "            \"pop_dict_score\": \"(a) Gründl (2022)\",\n",
    "            \"pop\": \"(b) Populism-Index\",\n",
    "            \"pop_left\": \"(c) Left-Wing Populism-Index\",\n",
    "            \"pop_right\": \"(d) Right-Wing Populism-Index\",\n",
    "        },\n",
    "        axis=1,\n",
    "    )\n",
    "    .groupby([\"Term\", \"Party\"])[cols]\n",
    "    .mean()\n",
    "    .reset_index()\n",
    ")\n",
    "\n",
    "\n",
    "mean_pop_norm = mean_pop.copy()\n",
    "for col in cols:\n",
    "    mean_pop_norm[col] = preprocessing.maxabs_scale(mean_pop_norm[col])\n",
    "\n",
    "\n",
    "def reshape_df(df):\n",
    "    new = pd.melt(df, id_vars=[\"Term\", \"Party\"], value_vars=cols, var_name=\"variable\")\n",
    "    new[\"Party\"] = new.Party.astype(\"category\")\n",
    "    return new\n",
    "\n",
    "\n",
    "mean_pop = reshape_df(mean_pop)\n",
    "mean_pop_norm = reshape_df(mean_pop_norm)\n"
   ]
  },
  {
   "cell_type": "code",
   "execution_count": null,
   "id": "af6f5e73",
   "metadata": {},
   "outputs": [],
   "source": [
    "color_names = list(colormap.keys())\n",
    "color_vals = list(colormap.values())"
   ]
  },
  {
   "cell_type": "code",
   "execution_count": null,
   "id": "c7fbfe02",
   "metadata": {},
   "outputs": [
    {
     "name": "stdout",
     "output_type": "stream",
     "text": [
      "── Attaching core tidyverse packages ──────────────────────── tidyverse 2.0.0 ──\n",
      "✔ dplyr     1.1.2     ✔ readr     2.1.4\n",
      "✔ forcats   1.0.0     ✔ stringr   1.5.0\n",
      "✔ ggplot2   3.4.2     ✔ tibble    3.2.1\n",
      "✔ lubridate 1.9.2     ✔ tidyr     1.3.0\n",
      "✔ purrr     1.0.1     \n",
      "── Conflicts ────────────────────────────────────────── tidyverse_conflicts() ──\n",
      "✖ dplyr::filter() masks stats::filter()\n",
      "✖ dplyr::lag()    masks stats::lag()\n",
      "ℹ Use the conflicted package (<http://conflicted.r-lib.org/>) to force all conflicts to become errors\n"
     ]
    },
    {
     "data": {
      "text/plain": [
       "In addition: Warning messages:\n",
       "1: In (function (package, help, pos = 2, lib.loc = NULL, character.only = FALSE,  :\n",
       "  libraries ‘/usr/local/lib/R/site-library’, ‘/usr/lib/R/site-library’ contain no packages\n",
       "2: `aes_string()` was deprecated in ggplot2 3.0.0.\n",
       "ℹ Please use tidy evaluation idioms with `aes()`.\n",
       "ℹ See also `vignette(\"ggplot2-in-packages\")` for more information.\n",
       "This warning is displayed once every 8 hours.\n",
       "Call `lifecycle::last_lifecycle_warnings()` to see where this warning was\n",
       "generated. \n"
      ]
     },
     "metadata": {},
     "output_type": "display_data"
    }
   ],
   "source": [
    "%%R -i mean_pop -i mean_pop_norm -i color_names -i color_vals\n",
    "\n",
    "library(tidyverse)\n",
    "library(ggplot2)\n",
    "library(ggpattern)\n",
    "theme_set(theme_minimal())\n",
    "\n",
    "colors <- setNames(color_vals, color_names)\n",
    "\n",
    "create_plot <- function(df) {\n",
    "    df$Term <- as_factor(df$Term)\n",
    "    df$variable <- fct_relevel(df$variable, c(\"(a) Gründl (2022)\", \"(b) Populism-Index\", \"(c) Left-Wing Populism-Index\", \"(d) Right-Wing Populism-Index\"))\n",
    "    df <- complete(df, Party = unique(df$Party), Term = unique(df$Term), variable = unique(df$variable), fill=list(value=0))\n",
    "    ggplot(df, aes_string(x=\"Party\", y=\"value\", fill=\"Party\", pattern=\"Term\")) +\n",
    "        geom_bar_pattern(\n",
    "            position=position_dodge(preserve=\"single\"),\n",
    "            stat=\"identity\",\n",
    "            color=\"grey\",\n",
    "            pattern_fill=\"grey\",\n",
    "            pattern_angle=45,\n",
    "            pattern_density=0.1,\n",
    "            pattern_spacing=0.025,\n",
    "            pattern_key_scale_factor=0.6\n",
    "            ) +\n",
    "        scale_fill_manual(values=colors) +\n",
    "        scale_pattern_manual(values=c(\"18\"=\"stripe\", \"19\"=\"none\")) + \n",
    "        theme(\n",
    "            text=element_text(size=18),\n",
    "            axis.text=element_text(size=14),\n",
    "            axis.text.x=element_blank(), \n",
    "            axis.title.y=element_blank(),\n",
    "            axis.title.x=element_blank(),\n",
    "            strip.text=element_text(size=20)\n",
    "        ) +\n",
    "        facet_wrap(\"~variable\", scales=\"free\") +\n",
    "        guides(pattern = guide_legend(title=\"Term\", override.aes = list(fill = \"white\")),\n",
    "            fill = guide_legend(override.aes = list(pattern = \"none\")))\n",
    "}\n",
    "plot <- create_plot(mean_pop)\n",
    "plot\n",
    "ggsave(\"/home/lukas/overleaf/bert_populism/Figures/populism_by_party_orig.pdf\", width=16, height=9)\n",
    "\n",
    "plot <- create_plot(mean_pop_norm)\n",
    "plot\n",
    "ggsave(\"/home/lukas/overleaf/bert_populism/Figures/populism_by_party_normalized.pdf\", width=16, height=9)"
   ]
  },
  {
   "cell_type": "code",
   "execution_count": null,
   "id": "207afd52-246d-4821-a86c-871c84a823dd",
   "metadata": {},
   "outputs": [],
   "source": []
  }
 ],
 "metadata": {
  "kernelspec": {
   "display_name": "bert_populism",
   "language": "python",
   "name": "bert_populism"
  },
  "language_info": {
   "codemirror_mode": {
    "name": "ipython",
    "version": 3
   },
   "file_extension": ".py",
   "mimetype": "text/x-python",
   "name": "python",
   "nbconvert_exporter": "python",
   "pygments_lexer": "ipython3",
   "version": "3.11.3"
  }
 },
 "nbformat": 4,
 "nbformat_minor": 5
}
