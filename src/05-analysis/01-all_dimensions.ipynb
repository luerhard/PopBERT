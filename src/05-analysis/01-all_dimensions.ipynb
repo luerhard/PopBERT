{
 "cells": [
  {
   "cell_type": "code",
   "execution_count": null,
   "id": "88f2f9e5",
   "metadata": {},
   "outputs": [],
   "source": [
    "%load_ext rpy2.ipython"
   ]
  },
  {
   "cell_type": "code",
   "execution_count": null,
   "id": "89bea73f-fdac-406d-9717-29b7dd2d76b1",
   "metadata": {
    "tags": []
   },
   "outputs": [],
   "source": [
    "import matplotlib as mlp\n",
    "import matplotlib.pyplot as plt\n",
    "import pandas as pd\n",
    "import seaborn as sns\n",
    "from sklearn import preprocessing\n",
    "from sqlalchemy import case\n",
    "from sqlalchemy import literal\n",
    "from sqlalchemy.orm import Query\n",
    "\n",
    "import src\n",
    "import src.db.models.bert_data as bm\n",
    "import src.db.models.open_discourse as od"
   ]
  },
  {
   "cell_type": "code",
   "execution_count": null,
   "id": "b73cec08-749b-4602-aa13-118ebedf0b3a",
   "metadata": {
    "tags": []
   },
   "outputs": [],
   "source": [
    "engine = src.db.connect.make_engine(\"DB\")"
   ]
  },
  {
   "attachments": {},
   "cell_type": "markdown",
   "id": "a78889d7-6cf2-4f02-ba46-59290ab3c448",
   "metadata": {},
   "source": [
    "# Load data"
   ]
  },
  {
   "cell_type": "code",
   "execution_count": null,
   "id": "ab25ac4c",
   "metadata": {},
   "outputs": [],
   "source": [
    "thresh = {\"elite\": 0.5013018, \"centr\": 0.5017193, \"left\": 0.42243505, \"right\": 0.38281676}"
   ]
  },
  {
   "cell_type": "code",
   "execution_count": null,
   "id": "61ea9609-be6c-4447-83c8-5c2a686d6b1c",
   "metadata": {
    "tags": []
   },
   "outputs": [],
   "source": [
    "colormap = {\n",
    "    \"CDU/CSU\": \"#000000\",\n",
    "    \"Grüne\": \"#1AA037\",\n",
    "    \"DIE LINKE.\": \"#8B008B\",  # SPD complementary for visual disambiguation\n",
    "    \"FDP\": \"#FFEF00\",\n",
    "    \"AfD\": \"#0489DB\",\n",
    "    \"SPD\": \"#E3000F\",\n",
    "}"
   ]
  },
  {
   "cell_type": "code",
   "execution_count": null,
   "id": "864bc217-d1d2-4243-8045-1528985c3d8b",
   "metadata": {
    "tags": []
   },
   "outputs": [],
   "source": [
    "query = (\n",
    "    Query(bm.Sample)\n",
    "    .join(bm.Prediction)\n",
    "    .join(od.Speech)\n",
    "    .join(od.Faction)\n",
    "    .filter(\n",
    "        bm.Sample.sentence_length > 2,\n",
    "        od.Speech.electoral_term.in_([18, 19]),\n",
    "        od.Faction.abbreviation != \"Fraktionslos\",\n",
    "    )\n",
    "    .with_entities(\n",
    "        bm.Sample.text,\n",
    "        od.Speech.date,\n",
    "        od.Speech.electoral_term,\n",
    "        od.Faction.abbreviation,\n",
    "        bm.Sample.pop_dict_score,\n",
    "        case(\n",
    "            (bm.Prediction.elite >= thresh[\"elite\"], literal(1)),\n",
    "            (bm.Prediction.elite < thresh[\"elite\"], literal(0)),\n",
    "        ).label(\"antielite\"),\n",
    "        case(\n",
    "            (bm.Prediction.pplcentr >= thresh[\"centr\"], literal(1)),\n",
    "            (bm.Prediction.pplcentr < thresh[\"centr\"], literal(0)),\n",
    "        ).label(\"pplcentr\"),\n",
    "        case(\n",
    "            (bm.Prediction.left >= thresh[\"left\"], literal(1)),\n",
    "            (bm.Prediction.left < thresh[\"left\"], literal(0)),\n",
    "        ).label(\"left\"),\n",
    "        case(\n",
    "            (bm.Prediction.right >= thresh[\"right\"], literal(1)),\n",
    "            (bm.Prediction.right < thresh[\"right\"], literal(0)),\n",
    "        ).label(\"right\"),\n",
    "    )\n",
    ")"
   ]
  },
  {
   "cell_type": "code",
   "execution_count": null,
   "id": "a4b0a255-b9e2-4283-aa2c-6663293df87c",
   "metadata": {
    "tags": []
   },
   "outputs": [],
   "source": [
    "with engine.connect() as conn:\n",
    "    df = pd.read_sql(query.statement, conn)\n",
    "df.date = pd.to_datetime(df.date)"
   ]
  },
  {
   "cell_type": "code",
   "execution_count": null,
   "id": "edd82cba-61da-4f28-a359-024280382253",
   "metadata": {
    "tags": []
   },
   "outputs": [
    {
     "data": {
      "text/plain": [
       "electoral_term    23420419\n",
       "pop_dict_score       15136\n",
       "antielite            84514\n",
       "pplcentr             27406\n",
       "left                 13971\n",
       "right                 7872\n",
       "dtype: int64"
      ]
     },
     "execution_count": null,
     "metadata": {},
     "output_type": "execute_result"
    }
   ],
   "source": [
    "df.sum(numeric_only=True)"
   ]
  },
  {
   "attachments": {},
   "cell_type": "markdown",
   "id": "8bbfffce-754d-486d-9524-8691667d939d",
   "metadata": {},
   "source": [
    "# Avg over full time period per faction"
   ]
  },
  {
   "attachments": {},
   "cell_type": "markdown",
   "id": "aa3758d1-24a7-404f-b848-1b15f7aeaa7d",
   "metadata": {},
   "source": [
    "# Means per Year per faction"
   ]
  },
  {
   "cell_type": "code",
   "execution_count": null,
   "id": "c2e2ef84-7df7-4432-8b9a-f366ba8cd211",
   "metadata": {
    "tags": []
   },
   "outputs": [],
   "source": [
    "plot = df.drop(\"text\", axis=1).dropna()\n",
    "plot.abbreviation = plot.abbreviation.astype(\"category\")"
   ]
  },
  {
   "cell_type": "code",
   "execution_count": null,
   "id": "9115680b",
   "metadata": {},
   "outputs": [],
   "source": [
    "plot_df = (\n",
    "    df.groupby([\"electoral_term\", \"abbreviation\"])\n",
    "    .mean(numeric_only=True)\n",
    "    .reset_index()\n",
    "    .rename(\n",
    "        {\n",
    "            \"abbreviation\": \"Party\",\n",
    "            \"antielite\": \"(a) Anti-Elitism\",\n",
    "            \"pplcentr\": \"(b) People-Centrism\",\n",
    "            \"left\": \"(c) Left-Wing Host-Ideology\",\n",
    "            \"right\": \"(d) Right-Wing Host-Ideology\",\n",
    "        },\n",
    "        axis=1,\n",
    "    )\n",
    ")\n",
    "\n",
    "cols = [\n",
    "    \"(a) Anti-Elitism\",\n",
    "    \"(b) People-Centrism\",\n",
    "    \"(c) Left-Wing Host-Ideology\",\n",
    "    \"(d) Right-Wing Host-Ideology\",\n",
    "]\n",
    "\n",
    "plot_df_norm = plot_df.copy()\n",
    "for col in cols:\n",
    "    plot_df_norm[col] = preprocessing.maxabs_scale(plot_df_norm[col])\n",
    "\n",
    "\n",
    "def reshape_df(df):\n",
    "    new = pd.melt(df, id_vars=[\"Party\", \"electoral_term\"], value_vars=cols, var_name=\"variable\")\n",
    "    new[\"Party\"] = new.Party.astype(\"category\")\n",
    "    return new\n",
    "\n",
    "\n",
    "plot_df = reshape_df(plot_df)\n",
    "plot_df_norm = reshape_df(plot_df_norm)"
   ]
  },
  {
   "cell_type": "code",
   "execution_count": null,
   "id": "186ce368",
   "metadata": {},
   "outputs": [],
   "source": [
    "plot_df.to_csv(src.PATH / \"data/figure_1_numbers.csv\", index=False)"
   ]
  },
  {
   "cell_type": "code",
   "execution_count": null,
   "id": "1456c73c",
   "metadata": {},
   "outputs": [],
   "source": [
    "color_names = list(colormap.keys())\n",
    "color_vals = list(colormap.values())"
   ]
  },
  {
   "cell_type": "code",
   "execution_count": null,
   "id": "cc6141ff",
   "metadata": {},
   "outputs": [
    {
     "name": "stdout",
     "output_type": "stream",
     "text": [
      "── Attaching core tidyverse packages ──────────────────────── tidyverse 2.0.0 ──\n",
      "✔ dplyr     1.1.2     ✔ readr     2.1.4\n",
      "✔ forcats   1.0.0     ✔ stringr   1.5.0\n",
      "✔ ggplot2   3.4.2     ✔ tibble    3.2.1\n",
      "✔ lubridate 1.9.2     ✔ tidyr     1.3.0\n",
      "✔ purrr     1.0.1     \n",
      "── Conflicts ────────────────────────────────────────── tidyverse_conflicts() ──\n",
      "✖ dplyr::filter() masks stats::filter()\n",
      "✖ dplyr::lag()    masks stats::lag()\n",
      "ℹ Use the conflicted package (<http://conflicted.r-lib.org/>) to force all conflicts to become errors\n"
     ]
    },
    {
     "data": {
      "text/plain": [
       "In addition: Warning messages:\n",
       "1: In (function (package, help, pos = 2, lib.loc = NULL, character.only = FALSE,  :\n",
       "  libraries ‘/usr/local/lib/R/site-library’, ‘/usr/lib/R/site-library’ contain no packages\n",
       "2: `aes_string()` was deprecated in ggplot2 3.0.0.\n",
       "ℹ Please use tidy evaluation idioms with `aes()`.\n",
       "ℹ See also `vignette(\"ggplot2-in-packages\")` for more information.\n",
       "This warning is displayed once every 8 hours.\n",
       "Call `lifecycle::last_lifecycle_warnings()` to see where this warning was\n",
       "generated. \n"
      ]
     },
     "metadata": {},
     "output_type": "display_data"
    }
   ],
   "source": [
    "%%R -i plot_df -i plot_df_norm -i color_names -i color_vals\n",
    "\n",
    "library(tidyverse)\n",
    "library(ggplot2)\n",
    "library(ggpattern)\n",
    "theme_set(theme_minimal())\n",
    "\n",
    "colors <- setNames(color_vals, color_names)\n",
    "\n",
    "create_plot <- function(df) {\n",
    "    df$electoral_term <- as_factor(df$electoral_term)\n",
    "    df$variable <- fct_relevel(df$variable, c(\"(a) Anti-Elitism\", \"(b) People-Centrism\", \"(c) Left-Wing Host-Ideology\", \"(d) Right-Wing Host-Ideology\"))\n",
    "    df <- complete(df, Party = unique(df$Party), electoral_term = unique(df$electoral_term), variable = unique(df$variable), fill=list(value=0))\n",
    "    ggplot(df, aes_string(x=\"Party\", y=\"value\", fill=\"Party\", pattern=\"electoral_term\")) +\n",
    "        geom_bar_pattern(\n",
    "            position=position_dodge(preserve=\"single\"),\n",
    "            stat=\"identity\",\n",
    "            color=\"grey\",\n",
    "            pattern_fill=\"grey\",\n",
    "            pattern_angle=45,\n",
    "            pattern_density=0.1,\n",
    "            pattern_spacing=0.025,\n",
    "            pattern_key_scale_factor=0.6\n",
    "            ) +\n",
    "        scale_fill_manual(values=colors) +\n",
    "        scale_pattern_manual(values=c(\"18\"=\"stripe\", \"19\"=\"none\")) + \n",
    "        theme(\n",
    "            text=element_text(size=18),\n",
    "            axis.text=element_text(size=14),\n",
    "            axis.text.x=element_blank(), \n",
    "            axis.title.y=element_blank(),\n",
    "            axis.title.x=element_blank(),\n",
    "            strip.text=element_text(size=20)\n",
    "        ) +\n",
    "        facet_wrap(\"~variable\", scales=\"free\") +\n",
    "        guides(pattern = guide_legend(title=\"Term\", override.aes = list(fill = \"white\")),\n",
    "            fill = guide_legend(override.aes = list(pattern = \"none\")))\n",
    "}\n",
    "plot <- create_plot(plot_df)\n",
    "plot\n",
    "ggsave(\"/home/lukas/overleaf/bert_populism/Figures/all_dimensions_orig.pdf\", width=16, height=9)\n",
    "\n",
    "plot <- create_plot(plot_df_norm)\n",
    "plot\n",
    "ggsave(\"/home/lukas/overleaf/bert_populism/Figures/all_dimensions_normalized.pdf\", width=16, height=9)"
   ]
  }
 ],
 "metadata": {
  "kernelspec": {
   "display_name": "bert_populism",
   "language": "python",
   "name": "bert_populism"
  },
  "language_info": {
   "codemirror_mode": {
    "name": "ipython",
    "version": 3
   },
   "file_extension": ".py",
   "mimetype": "text/x-python",
   "name": "python",
   "nbconvert_exporter": "python",
   "pygments_lexer": "ipython3",
   "version": "3.11.3"
  }
 },
 "nbformat": 4,
 "nbformat_minor": 5
}
