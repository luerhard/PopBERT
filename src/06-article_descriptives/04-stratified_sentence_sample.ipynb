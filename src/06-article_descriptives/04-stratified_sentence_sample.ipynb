{
 "cells": [
  {
   "cell_type": "code",
   "execution_count": null,
   "metadata": {},
   "outputs": [],
   "source": [
    "from pathlib import Path\n",
    "\n",
    "import pandas as pd\n",
    "import sqlalchemy as sa\n",
    "from sqlalchemy.orm import Query\n",
    "\n",
    "import src.db.models.bert_data as bm\n",
    "import src.db.models.open_discourse as od\n",
    "from src.db.connect import make_engine"
   ]
  },
  {
   "cell_type": "code",
   "execution_count": null,
   "metadata": {},
   "outputs": [],
   "source": [
    "pd.set_option(\"display.max_colwidth\", 1024)\n",
    "\n",
    "out_path = Path(\"/home/lukas/overleaf/bert_populism/tables\")\n",
    "\n",
    "engine = make_engine(\"DB\")"
   ]
  },
  {
   "cell_type": "code",
   "execution_count": null,
   "metadata": {},
   "outputs": [],
   "source": [
    "thresh = {\"elite\": 0.5013018, \"pplcentr\": 0.5017193, \"left\": 0.42243505, \"right\": 0.38281676}\n",
    "\n",
    "\n",
    "def create_bins(thresh):\n",
    "    BOUND_RANGE = 0.15\n",
    "    lower_bound = thresh - BOUND_RANGE\n",
    "    upper_bound = thresh + BOUND_RANGE\n",
    "    bins = [(0, lower_bound), (lower_bound, upper_bound), (upper_bound, 1)]\n",
    "    return pd.IntervalIndex.from_tuples(bins)\n",
    "\n",
    "\n",
    "intervals = {k: create_bins(v) for k, v in thresh.items()}"
   ]
  },
  {
   "cell_type": "code",
   "execution_count": null,
   "metadata": {},
   "outputs": [
    {
     "data": {
      "text/plain": [
       "IntervalIndex([(0, 1], (1, 2]], dtype='interval[int64, right]')"
      ]
     },
     "execution_count": null,
     "metadata": {},
     "output_type": "execute_result"
    }
   ],
   "source": [
    "pd.IntervalIndex.from_tuples([(0, 1), (1, 2)])"
   ]
  },
  {
   "cell_type": "code",
   "execution_count": null,
   "metadata": {},
   "outputs": [],
   "source": [
    "def add_midrules(latex: str) -> str:\n",
    "    new = []\n",
    "    for line in latex.splitlines():\n",
    "        if line.startswith(r\"\\multirow\"):\n",
    "            new.append(r\"\\midrule\")\n",
    "        if line.startswith(\"sum\"):\n",
    "            new.append(r\"\\midrule\")\n",
    "        new.append(line)\n",
    "    return \"\\n\".join(new)"
   ]
  },
  {
   "cell_type": "markdown",
   "metadata": {},
   "source": [
    "# Load Data\n"
   ]
  },
  {
   "cell_type": "code",
   "execution_count": null,
   "metadata": {},
   "outputs": [],
   "source": [
    "query = (\n",
    "    Query(bm.Sample)\n",
    "    .join(bm.Prediction)\n",
    "    .with_entities(\n",
    "        bm.Sample.text,\n",
    "        bm.Prediction.elite,\n",
    "        bm.Prediction.pplcentr,\n",
    "        bm.Prediction.left,\n",
    "        bm.Prediction.right,\n",
    "    )\n",
    ")\n",
    "\n",
    "with engine.connect() as conn:\n",
    "    df = pd.read_sql(query.statement, conn)"
   ]
  },
  {
   "cell_type": "code",
   "execution_count": null,
   "metadata": {},
   "outputs": [],
   "source": [
    "cols = [\"elite\", \"pplcentr\", \"left\", \"right\"]\n",
    "for col in cols:\n",
    "    df[f\"{col}_bin\"] = pd.cut(df[col], intervals[col])"
   ]
  },
  {
   "cell_type": "code",
   "execution_count": null,
   "metadata": {},
   "outputs": [],
   "source": [
    "selection = []\n",
    "\n",
    "groupnames = {\n",
    "    \"elite\": \"Anti-Elite\",\n",
    "    \"pplcentr\": \"People-Centric\",\n",
    "    \"left\": \"Host-Left\",\n",
    "    \"right\": \"Host-Right\",\n",
    "}\n",
    "\n",
    "for col in cols:\n",
    "    select = df.groupby(f\"{col}_bin\").sample(5, random_state=12)\n",
    "    select[\"select\"] = groupnames[col]\n",
    "    select = select.sort_values(col, ascending=True)\n",
    "    selection.append(select)\n",
    "\n",
    "selection = pd.concat(selection)"
   ]
  },
  {
   "cell_type": "code",
   "execution_count": null,
   "metadata": {},
   "outputs": [
    {
     "name": "stdout",
     "output_type": "stream",
     "text": [
      "\\begin{longtable}{p{.1\\textwidth}p{.55\\textwidth}p{.04\\textwidth}p{.04\\textwidth}p{.04\\textwidth}p{.04\\textwidth}}\\\\\n",
      "\\toprule\n",
      "Dim & Sentence & Anti-Elite & People-Centric & Host-Left & Host-Right \\\\\n",
      "\\midrule\n",
      "\\endhead\n",
      "\n",
      "\\multirow[t]{15}{*}{\\textbf{Anti-Elite}} & \\parbox[t]{.55\\textwidth}{Wir haben ungefähr 1 500 Braustätten in Deutschland – übrigens die Hälfte davon in Bayern, die meisten als mittelständische Unternehmen und Kleinunternehmen geführt –, die in dieser pandemischen Lage natürlich erhebliche Probleme haben.} & 0.0 & 0.01 & 0.0 & 0.0 \\\\\\midrule\n",
      " & \\parbox[t]{.55\\textwidth}{Eine andere Aussage lautet, eine Verschärfung des nationalen Aufsichtsrechts sei nicht sinnvoll.} & 0.0 & 0.0 & 0.0 & 0.0 \\\\\\midrule\n",
      " & \\parbox[t]{.55\\textwidth}{Strukturmittel in Höhe von 102 Milliarden Euro sind nicht abgerufen worden.} & 0.0 & 0.0 & 0.0 & 0.0 \\\\\\midrule\n",
      " & \\parbox[t]{.55\\textwidth}{Insbesondere Kürzungen bei der Förderung von Innovationen konterkarieren doch den Aufwuchs durch die zusätzlichen Forschungsmittel.} & 0.0 & 0.0 & 0.0 & 0.0 \\\\\\midrule\n",
      " & \\parbox[t]{.55\\textwidth}{Aber erst noch mal ganz kurz zu den Grünen.} & 0.0 & 0.0 & 0.0 & 0.0 \\\\\\midrule\n",
      " & \\parbox[t]{.55\\textwidth}{Und, liebe Kolleginnen und Kollegen, es zeigt vor allem: Dort, wo die Politik unmittelbar Einfluss auf die Besetzung von Führungsposten hat, nutzt sie diesen Einfluss nicht.} & 0.36 & 0.0 & 0.0 & 0.0 \\\\\\midrule\n",
      " & \\parbox[t]{.55\\textwidth}{Sie tun in Ihrem Antrag zudem so, als ob die Vorschläge, die Herr Macron im September dieses Jahres gemacht hat, schon umgesetzt seien.} & 0.36 & 0.0 & 0.0 & 0.0 \\\\\\midrule\n",
      " & \\parbox[t]{.55\\textwidth}{Also, in diesem Augenblick davon zu sprechen, dass nachfolgende Regierungen in diesem Bereich nichts mehr gemacht hätten, ist schlichtweg absurd.} & \\textbf{0.58} & 0.0 & 0.0 & 0.0 \\\\\\midrule\n",
      " & \\parbox[t]{.55\\textwidth}{Eine grundlegende Schwäche Ihres Antrags besteht in einem weiteren Punkt.} & \\textbf{0.59} & 0.0 & 0.0 & 0.0 \\\\\\midrule\n",
      " & \\parbox[t]{.55\\textwidth}{Aber richtig fragwürdig für mich ist die ablehnende Haltung des Beamtenbundes, der glaubt, seine Mitglieder vor einer freien Entscheidung zwischen gesetzlicher und privater Krankenversicherung schützen zu müssen.} & \\textbf{0.63} & 0.0 & 0.0 & 0.0 \\\\\\midrule\n",
      " & \\parbox[t]{.55\\textwidth}{Was auffällt, Herr Gädechens, Herr Annen - der Punkt ist klar -, ist, dass die Haltung der malischen Bevölkerung weder bei der CDU noch bei der SPD Berücksichtigung findet.} & \\textbf{0.77} & 0.01 & 0.0 & 0.0 \\\\\\midrule\n",
      " & \\parbox[t]{.55\\textwidth}{Aber, Frau Dağdelen, ich finde es bezeichnend, dass Sie in Ihrem Beitrag kein einziges stichhaltiges Argument gegen eine Beteiligung gebracht haben und trotzdem dagegen stimmen.} & \\textbf{0.96} & 0.0 & 0.0 & 0.0 \\\\\\midrule\n",
      " & \\parbox[t]{.55\\textwidth}{Dieses Glück, diese Liebe und auch diese Lebensfreude werden wir uns durch Ihren Hass und Ihre Kaltherzigkeit nicht nehmen lassen.} & \\textbf{0.98} & 0.08 & 0.0 & 0.01 \\\\\\midrule\n",
      " & \\parbox[t]{.55\\textwidth}{Sie fahren in der Bahnpolitik dem Notwendigen immer noch hinterher.} & \\textbf{0.99} & 0.0 & 0.01 & 0.0 \\\\\\midrule\n",
      " & \\parbox[t]{.55\\textwidth}{Nein – und das haben Sie verschwiegen –, es war auch ein Staatsversagen auf allen politischen Ebenen, meine Damen und Herren.} & \\textbf{0.99} & 0.0 & 0.0 & 0.01 \\\\\\midrule\n",
      "\\multirow[t]{15}{*}{\\textbf{People-Centric}} & \\parbox[t]{.55\\textwidth}{Der wichtigste Punkt in diesem Zusammenhang wäre gewesen, sich mit dem dramatischen Lohndumping auseinanderzusetzen.} & 0.0 & 0.0 & 0.0 & 0.0 \\\\\\midrule\n",
      " & \\parbox[t]{.55\\textwidth}{Jetzt möchte ich Sie ernsthaft fragen, ob Sie eigentlich der Meinung sind, dass wir bis 2006 nicht in einem föderalen Staat gelebt haben.} & 0.01 & 0.0 & 0.0 & 0.0 \\\\\\midrule\n",
      " & \\parbox[t]{.55\\textwidth}{Auch die Zahl der Beschäftigten in Werkstätten für behinderte Menschen steigt seit Jahren.} & 0.0 & 0.0 & 0.0 & 0.0 \\\\\\midrule\n",
      " & \\parbox[t]{.55\\textwidth}{Die Wasserstofftechnologie ist 180 Jahre alt, und niemand ist bis vor Kurzem auf die Idee gekommen, im Wasserstoff den Heiligen Gral unserer Energieversorgung zu sehen.} & 0.0 & 0.0 & 0.0 & 0.0 \\\\\\midrule\n",
      " & \\parbox[t]{.55\\textwidth}{Das geht doch so nicht.} & 0.0 & 0.0 & 0.0 & 0.0 \\\\\\midrule\n",
      " & \\parbox[t]{.55\\textwidth}{Respekt – das ist mein letzter Satz – bedeutet, dass die Menschen von ihrer Arbeit und ihrem Ersparten gut leben können.} & 0.0 & 0.36 & 0.01 & 0.0 \\\\\\midrule\n",
      " & \\parbox[t]{.55\\textwidth}{Der UN-Flüchtlingspakt hat zum Ziel, diese Menschen dort zu unterstützen, und das ist ganz wichtig, auch deswegen, weil unsere Möglichkeiten endlich sind, wie Joachim Gauck ja zum 25. Jahrestag der deutschen Einheit gesagt hat.} & 0.0 & 0.41 & 0.08 & 0.0 \\\\\\midrule\n",
      " & \\parbox[t]{.55\\textwidth}{Kein Wunder also, dass wir derzeit ganze Lebensabschnitte in Staus und auf zugigen Bahnsteigen verbringen.} & 0.0 & 0.46 & 0.0 & 0.0 \\\\\\midrule\n",
      " & \\parbox[t]{.55\\textwidth}{Diejenigen, die die Schulden abtragen, sind unsere Kinder.} & 0.0 & \\textbf{0.51} & 0.01 & 0.0 \\\\\\midrule\n",
      " & \\parbox[t]{.55\\textwidth}{Wir haben die feste Absicht, auch im Rahmen der Haushaltsverhandlungen für den Haushalt 2015, dafür zu sorgen, dass Sie weiterhin einen guten Job machen können und dass sich Ihre Arbeit für Sie und Ihre Familien auszahlt.} & 0.0 & \\textbf{0.58} & 0.0 & 0.0 \\\\\\midrule\n",
      " & \\parbox[t]{.55\\textwidth}{Ich will aber einschränkend sagen: Niemand ist allein erfolgreich, sondern nur gemeinsam mit Kolleginnen und Kollegen verschiedener Fraktionen, in wechselnden Koalitionen, mal in der Regierung und mal in der Opposition, und dabei unterstützt von hervorragenden Mitarbeiterinnen und Mitarbeitern im Bundesministerium, in der eigenen Fraktion, denen hier auch ein großes Wort des Dankes gilt.} & 0.01 & \\textbf{0.74} & 0.0 & 0.0 \\\\\\midrule\n",
      " & \\parbox[t]{.55\\textwidth}{Wir wollen nicht nur die Qualität der Arbeit durch moderne und gesunde Arbeitsplätze besser gestalten, wir wollen auch, dass die Menschen existenzsichernde Einkommen haben, von denen sie auch für das Alter vorsorgen können, sei es durch eigene Beiträge oder durch private Vorsorge.} & 0.0 & \\textbf{0.82} & 0.02 & 0.0 \\\\\\midrule\n",
      " & \\parbox[t]{.55\\textwidth}{Da könnte man etwas salopp und - zugegeben - böse formulieren: Die meisten Menschen in diesem Land interessieren sich nicht dafür, ob der neue ICE 3 230 oder 260 Kilometer pro Stunde fährt.} & 0.01 & \\textbf{0.96} & 0.0 & 0.01 \\\\\\midrule\n",
      " & \\parbox[t]{.55\\textwidth}{Denn wenn wir es nicht schaffen, dann wird eine ganze Generation – das ist die Generation, die das Land nach dem Krieg aufgebaut hat – im Alter von uns alleingelassen sein, und die Kinder dieser Generation auch.} & 0.0 & \\textbf{0.99} & 0.12 & 0.01 \\\\\\midrule\n",
      " & \\parbox[t]{.55\\textwidth}{Es ist deshalb wichtig, weil wir wissen, dass vor allen Dingen Frauen lange auf dieses Gesetz gewartet haben, und weil wir wollen, dass die Zeit mit Kindern und Familie nicht in der Teilzeitfalle endet.} & 0.01 & \\textbf{1.0} & \\textbf{0.97} & 0.01 \\\\\\midrule\n",
      "\\multirow[t]{15}{*}{\\textbf{Host-Left}} & \\parbox[t]{.55\\textwidth}{Genau dann entstehen zusätzliche Kosten etwa für ein zweites Kinderzimmer, für Kleidung, für Vereine, für kulturelles Angebot und, und, und.} & 0.0 & 0.0 & 0.0 & 0.0 \\\\\\midrule\n",
      " & \\parbox[t]{.55\\textwidth}{Warum dieses Symbol und die Erinnerung an dieses Erlebnis?} & 0.0 & 0.0 & 0.0 & 0.0 \\\\\\midrule\n",
      " & \\parbox[t]{.55\\textwidth}{Der Verkauf der Telekom-Aktien ist dazu nicht notwendig.} & 0.0 & 0.0 & 0.0 & 0.0 \\\\\\midrule\n",
      " & \\parbox[t]{.55\\textwidth}{Doch viel wichtiger als die Frage, welches Etikett auf ein Ministerium geklebt wird, und im Übrigen auch die Frage, wie man Heimat definiert, ist die Frage, wie die Menschen in der Heimat heute leben.} & 0.0 & 0.35 & 0.0 & 0.0 \\\\\\midrule\n",
      " & \\parbox[t]{.55\\textwidth}{Oder wollen Sie mir sagen, dass Bundesfinanzminister Schäuble ein elendiges Weichei ist und nicht in der Lage ist, Interessen zu verteidigen, von den Länderministern über den Löffel balbiert wird und als Finanzminister eine Fehlbesetzung ist?} & \\textbf{1.0} & 0.0 & 0.07 & 0.05 \\\\\\midrule\n",
      " & \\parbox[t]{.55\\textwidth}{Etwas anderes - das ist es, was mir eigentlich Sorgen macht -: Diese EZB-Entscheidung, die Tatsache, dass jetzt billiges Geld zur Verfügung steht, trägt offensichtlich dazu bei, dass einige Länder in der Euro-Zone nicht mehr die Notwendigkeit sehen, Strukturreformen und Haushaltskonsolidierung weiter voranzutreiben, sondern beim billigen Geld zugreifen.} & \\textbf{0.92} & 0.0 & 0.3 & 0.01 \\\\\\midrule\n",
      " & \\parbox[t]{.55\\textwidth}{Die Minijobber haben es verdient, dass die Minijobs an die Lohnentwicklung angepasst werden.} & 0.0 & \\textbf{0.99} & 0.37 & 0.01 \\\\\\midrule\n",
      " & \\parbox[t]{.55\\textwidth}{Genau das wollen wir: eine Politik für die fleißigen Leute und für die verantwortungsvollen Unternehmer.} & 0.0 & \\textbf{1.0} & \\textbf{0.44} & 0.06 \\\\\\midrule\n",
      " & \\parbox[t]{.55\\textwidth}{Aus wirtschaftlichen Gründen können sie aber gar nicht anders, als die Tiere so zu behandeln, wie sie es tun.} & \\textbf{0.78} & 0.0 & \\textbf{0.45} & 0.0 \\\\\\midrule\n",
      " & \\parbox[t]{.55\\textwidth}{Seit Jahren wissen wir, dass Pflegekräfte, Verkäuferinnen und Verkäufer, Lkw-Fahrerinnen und Lkw-Fahrer unterbezahlt sind.} & 0.0 & \\textbf{0.88} & \\textbf{0.54} & 0.0 \\\\\\midrule\n",
      " & \\parbox[t]{.55\\textwidth}{Aber wir wollen für die Menschen, die zu uns kommen, die gleichen Rechte, ob am Arbeitsmarkt oder anderswo.} & 0.0 & \\textbf{0.96} & \\textbf{0.89} & 0.01 \\\\\\midrule\n",
      " & \\parbox[t]{.55\\textwidth}{Und wenn nun die Vereinigung der Verfolgten des Naziregimes um ihre Existenz kämpfen muss, wenn Überlebende der Shoah für ihre Organisation kämpfen müssen, dann ist das, ehrlich gesagt, eine Schande.} & 0.34 & \\textbf{0.99} & \\textbf{0.92} & 0.0 \\\\\\midrule\n",
      " & \\parbox[t]{.55\\textwidth}{Wir können doch nicht zulassen, dass die Autofahrer teuer für vermurkste Autos bezahlt haben und sich jetzt ein neues teures Auto kaufen müssen, damit VW und andere gegebenenfalls ein zweites Mal für diesen Betrug, den sie schon einmal begangen haben, belohnt werden.} & \\textbf{0.99} & \\textbf{0.87} & \\textbf{0.95} & 0.0 \\\\\\midrule\n",
      " & \\parbox[t]{.55\\textwidth}{In unserem Grundgesetz sind Frauen und Männer gleich. – Das wurde im Übrigen hart erkämpft – von Frauen.} & 0.01 & \\textbf{1.0} & \\textbf{0.97} & 0.01 \\\\\\midrule\n",
      " & \\parbox[t]{.55\\textwidth}{Wir wollen, dass Frauen zu Gewinnerinnen der Krise werden.} & 0.01 & \\textbf{0.99} & \\textbf{0.99} & 0.01 \\\\\\midrule\n",
      "\\multirow[t]{15}{*}{\\textbf{Host-Right}} & \\parbox[t]{.55\\textwidth}{– Ich weiß nicht, ob Ihnen klar ist, dass zwei Monate in dieser Pandemie für die Menschen jeden Tag Existenzängste bedeuten.} & 0.03 & 0.01 & 0.0 & 0.0 \\\\\\midrule\n",
      " & \\parbox[t]{.55\\textwidth}{Das liegt in der Verantwortung der SPD.} & 0.0 & 0.0 & 0.0 & 0.0 \\\\\\midrule\n",
      " & \\parbox[t]{.55\\textwidth}{Das Soldatengesetz soll nämlich dahin gehend geändert werden, dass das geltende Arbeitszeitrecht bei der Luftraumüberwachung oder beim Rettungsdienst der Marine komplett ausgesetzt werden kann.} & 0.0 & 0.0 & 0.0 & 0.0 \\\\\\midrule\n",
      " & \\parbox[t]{.55\\textwidth}{Die Deutsche Gesellschaft für Pneumologie und Beatmungsmedizin, in der sich die Lungenärzte in Deutschland zusammengefunden haben, hat Ende letzten Jahres eine umfangreiche Studie vorgelegt, in der sie sagt, dass ein Grenzwert von 40 Mikrogramm pro Kubikmeter medizinisch nicht zwingend zu begründen ist.} & 0.0 & 0.0 & 0.0 & 0.0 \\\\\\midrule\n",
      " & \\parbox[t]{.55\\textwidth}{Was wir momentan erleben, ist, dass Klimaschutz für die Bundesregierung nur ein Sonnenscheinthema ist.} & \\textbf{0.99} & 0.0 & 0.0 & 0.02 \\\\\\midrule\n",
      " & \\parbox[t]{.55\\textwidth}{Der dritte und wichtigste Grund ist jedoch folgender: Die Verantwortung für unser Land und unser Volk gebietet es, möglichen Gefahren – und mögen sie noch so unwahrscheinlich sein – verantwortungsvoll entgegenzutreten.} & 0.0 & \\textbf{0.99} & 0.01 & 0.23 \\\\\\midrule\n",
      " & \\parbox[t]{.55\\textwidth}{Die AfD wird als Sachwalter der Interessen der deutschen Bürger hier entschlossen parlamentarischen Widerstand leisten.} & 0.02 & \\textbf{1.0} & 0.01 & 0.27 \\\\\\midrule\n",
      " & \\parbox[t]{.55\\textwidth}{Sie bedienen sich derart bei den Sozialkassen, dass man dafür gar keine Worte findet.} & \\textbf{1.0} & 0.09 & 0.07 & 0.36 \\\\\\midrule\n",
      " & \\parbox[t]{.55\\textwidth}{Herr Birkwald, wenn die Linken Gerechtigkeit tatsächlich ernst nehmen - das tun sie angeblich -, dann darf nicht das passieren, was gemäß Ihrem Antrag passieren würde, nämlich dass plötzlich die Beitragszahlung eines westdeutschen Arbeitnehmers oder einer westdeutschen Arbeitnehmerin weniger wert ist als die von jemandem aus Ostdeutschland.} & \\textbf{0.99} & 0.03 & 0.0 & \\textbf{0.44} \\\\\\midrule\n",
      " & \\parbox[t]{.55\\textwidth}{Inhaltlich erinnern Sie hingegen an Scheinriesen, die meinen, in wenigen Schritten, bestehend aus Rechtsansprüchen und neuen Gesetzen, das Ziel einer perfekten Bildungsrepublik sofort erreichen zu können.} & \\textbf{1.0} & 0.0 & 0.0 & \\textbf{0.48} \\\\\\midrule\n",
      " & \\parbox[t]{.55\\textwidth}{Genau das hat die Deutsche Umwelthilfe zu verantworten, und das ist einfach unverantwortlich.} & \\textbf{1.0} & 0.0 & 0.03 & \\textbf{0.59} \\\\\\midrule\n",
      " & \\parbox[t]{.55\\textwidth}{Ihr Motto lautet: Hauptsache, es flüchtet niemand mehr nach Deutschland.} & \\textbf{0.99} & 0.0 & 0.0 & \\textbf{0.81} \\\\\\midrule\n",
      " & \\parbox[t]{.55\\textwidth}{Wir glauben, es geschähe nichts Böses, wenn die jungen Leute lernten, ihre Heimat zu lieben, anstatt sie zu hassen, wenn sie nicht dazu erzogen würden, als Linksjugend auf den Straßen „Deutschland verrecke!“ zu skandieren.} & 0.13 & \\textbf{0.99} & 0.03 & \\textbf{0.93} \\\\\\midrule\n",
      " & \\parbox[t]{.55\\textwidth}{Sie können gerne mit Ihren Parteifreunden, dem Herrn Holter und dieser linken Landrätin, klären, wie viel Unfähigkeit dort herrscht.} & \\textbf{1.0} & 0.02 & 0.0 & \\textbf{0.93} \\\\\\midrule\n",
      " & \\parbox[t]{.55\\textwidth}{Genau den wollen die Grünen aber abschaffen und an seine Stelle ein Gebilde setzen, das keine Schicksals-, sondern eine Beutegemeinschaft auf unsere Kosten ist.} & \\textbf{1.0} & 0.11 & 0.01 & \\textbf{0.99} \\\\\n",
      "\\bottomrule\n",
      "\\end{longtable}\n"
     ]
    }
   ],
   "source": [
    "table = selection.copy()\n",
    "\n",
    "\n",
    "def add_parbox(text, size):\n",
    "    return r\"\\parbox[t]{\" + size + \"}{\" + text + \"}\"\n",
    "\n",
    "\n",
    "table[\"text\"] = table[\"text\"].apply(lambda x: add_parbox(x, r\".55\\textwidth\"))\n",
    "\n",
    "\n",
    "def add_bold_font(text):\n",
    "    return r\"\\textbf{\" + text + \"}\"\n",
    "\n",
    "\n",
    "table[\"select\"] = table[\"select\"].apply(add_bold_font)\n",
    "# table[\"select\"] = table[\"select\"].apply(lambda x: add_parbox(x, r\".1\\textwidth\"))\n",
    "\n",
    "\n",
    "def bold_formatter_thresh(num, thresh):\n",
    "    num_str = str(round(num, 2))\n",
    "    if num < thresh:\n",
    "        return num_str\n",
    "    else:\n",
    "        return r\"\\textbf{\" + num_str + \"}\"\n",
    "\n",
    "\n",
    "for col in cols:\n",
    "    table[col] = table[col].apply(lambda x: bold_formatter_thresh(x, thresh[col]))\n",
    "\n",
    "\n",
    "table = table.set_index([\"select\", \"text\"])\n",
    "\n",
    "\n",
    "tex = (\n",
    "    table[[\"elite\", \"pplcentr\", \"left\", \"right\"]]\n",
    "    .style.set_table_styles(\n",
    "        [\n",
    "            {\"selector\": \"toprule\", \"props\": \":toprule;\"},\n",
    "            {\"selector\": \"bottomrule\", \"props\": \":bottomrule;\"},\n",
    "        ]\n",
    "    )\n",
    "    .format(precision=3)\n",
    "    .to_latex()\n",
    ")\n",
    "\n",
    "\n",
    "lines = tex.splitlines()\n",
    "\n",
    "new = []\n",
    "for i, line in enumerate(lines, 1):\n",
    "    if i == 1:\n",
    "        line = r\"\\begin{longtable}{p{.1\\textwidth}p{.55\\textwidth}p{.04\\textwidth}p{.04\\textwidth}p{.04\\textwidth}p{.04\\textwidth}}\\\\\"\n",
    "    if i == len(lines):\n",
    "        line = \"\\end{longtable}\"\n",
    "    if i == 3:\n",
    "        line = r\"\"\"Dim & Sentence & Anti-Elite & People-Centric & Host-Left & Host-Right \\\\\n",
    "\\midrule\n",
    "\\endhead\n",
    "\"\"\"\n",
    "    if i == 4:\n",
    "        continue\n",
    "\n",
    "    line = line.replace(r\"\\multirow[c]\", \"\\multirow[t]\")\n",
    "\n",
    "    if i > 4 and i < len(lines) - 2:\n",
    "        line = line + \"\\midrule\"\n",
    "    new.append(line)\n",
    "\n",
    "tex = \"\\n\".join(new)\n",
    "\n",
    "(out_path / \"prediction_samples.tex\").write_text(tex)\n",
    "\n",
    "print(tex)"
   ]
  },
  {
   "cell_type": "code",
   "execution_count": null,
   "metadata": {},
   "outputs": [],
   "source": []
  }
 ],
 "metadata": {
  "kernelspec": {
   "display_name": "bert_populism",
   "language": "python",
   "name": "bert_populism"
  },
  "language_info": {
   "codemirror_mode": {
    "name": "ipython",
    "version": 3
   },
   "file_extension": ".py",
   "mimetype": "text/x-python",
   "name": "python",
   "nbconvert_exporter": "python",
   "pygments_lexer": "ipython3",
   "version": "3.11.1"
  },
  "vscode": {
   "interpreter": {
    "hash": "05b0f58c2bcdc36936de25f1aaac0724cceaad7ddc88039a552f8d696c8fb19b"
   }
  }
 },
 "nbformat": 4,
 "nbformat_minor": 2
}
