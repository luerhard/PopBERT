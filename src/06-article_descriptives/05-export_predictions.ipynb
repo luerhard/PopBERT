{
 "cells": [
  {
   "cell_type": "code",
   "execution_count": null,
   "metadata": {},
   "outputs": [],
   "source": [
    "import pandas as pd\n",
    "from sqlalchemy.orm import Query\n",
    "\n",
    "import src\n",
    "from src.db.connect import make_engine\n",
    "from src.db.models import bert_data as bm\n",
    "from src.db.models import open_discourse as od"
   ]
  },
  {
   "cell_type": "code",
   "execution_count": null,
   "metadata": {},
   "outputs": [],
   "source": [
    "engine = make_engine(\"DB\")"
   ]
  },
  {
   "cell_type": "code",
   "execution_count": null,
   "metadata": {},
   "outputs": [],
   "source": [
    "query = (\n",
    "    Query(od.Speech)\n",
    "    .join(od.Politician)\n",
    "    .join(bm.Sample)\n",
    "    .join(od.Faction)\n",
    "    .join(bm.Prediction)\n",
    "    .filter(\n",
    "        od.Speech.electoral_term.in_([18, 19]),\n",
    "        od.Faction.id != -1,\n",
    "        od.Speech.politician_id != -1,\n",
    "    )\n",
    "    .with_entities(\n",
    "        od.Speech.electoral_term.label(\"speech_term\"),\n",
    "        od.Speech.date.label(\"speech_date\"),\n",
    "        bm.Sample.speeches_id.label(\"speech_id\"),\n",
    "        bm.Sample.sentence_no.label(\"sentence_no\"),\n",
    "        od.Politician.id.label(\"politician_id\"),\n",
    "        od.Politician.first_name.label(\"politician_first_name\"),\n",
    "        od.Politician.last_name.label(\"politician_last_name\"),\n",
    "        od.Faction.abbreviation.label(\"faction_abbrv\"),\n",
    "        bm.Sample.text.label(\"sentence\"),\n",
    "        bm.Prediction.elite.label(\"pred_antielite\"),\n",
    "        bm.Prediction.pplcentr.label(\"pred_peoplecentrism\"),\n",
    "        bm.Prediction.left.label(\"pred_left\"),\n",
    "        bm.Prediction.right.label(\"pred_right\"),\n",
    "    )\n",
    "    .order_by(\n",
    "        od.Speech.electoral_term.asc(),\n",
    "        od.Speech.date.asc(),\n",
    "        bm.Sample.speeches_id.asc(),\n",
    "        bm.Sample.sentence_no.asc(),\n",
    "    )\n",
    "    .distinct()\n",
    ")"
   ]
  },
  {
   "cell_type": "code",
   "execution_count": null,
   "metadata": {},
   "outputs": [],
   "source": [
    "with engine.connect() as conn:\n",
    "    df = pd.read_sql(query.statement, conn)"
   ]
  },
  {
   "cell_type": "code",
   "execution_count": null,
   "metadata": {},
   "outputs": [],
   "source": [
    "df.to_csv(\n",
    "    src.PATH / \"tmp/predictions.csv.zip\",\n",
    "    compression={\"method\": \"gzip\", \"compresslevel\": 9},\n",
    "    index=False,\n",
    ")"
   ]
  },
  {
   "cell_type": "code",
   "execution_count": null,
   "metadata": {},
   "outputs": [],
   "source": []
  }
 ],
 "metadata": {
  "kernelspec": {
   "display_name": "bert_populism",
   "language": "python",
   "name": "bert_populism"
  },
  "language_info": {
   "codemirror_mode": {
    "name": "ipython",
    "version": 3
   },
   "file_extension": ".py",
   "mimetype": "text/x-python",
   "name": "python",
   "nbconvert_exporter": "python",
   "pygments_lexer": "ipython3",
   "version": "3.11.1"
  }
 },
 "nbformat": 4,
 "nbformat_minor": 2
}
