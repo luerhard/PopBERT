{
 "cells": [
  {
   "cell_type": "code",
   "execution_count": null,
   "metadata": {},
   "outputs": [],
   "source": [
    "import pandas as pd\n",
    "from sqlalchemy.orm import Query\n",
    "from sqlalchemy.orm import Session\n",
    "\n",
    "import src\n",
    "import src.db.models.bert_data as bm\n",
    "import src.db.models.open_discourse as od\n",
    "from src.db.connect import make_engine"
   ]
  },
  {
   "cell_type": "code",
   "execution_count": null,
   "metadata": {},
   "outputs": [],
   "source": [
    "engine = make_engine(\"DB\")\n",
    "s = Session(engine)"
   ]
  },
  {
   "cell_type": "code",
   "execution_count": null,
   "metadata": {},
   "outputs": [],
   "source": [
    "out_path = src.PATH / \"tmp\""
   ]
  },
  {
   "cell_type": "markdown",
   "metadata": {},
   "source": [
    "# Predictions\n"
   ]
  },
  {
   "cell_type": "code",
   "execution_count": null,
   "metadata": {},
   "outputs": [],
   "source": [
    "query = (\n",
    "    Query(bm.Sample)\n",
    "    .join(bm.Prediction)\n",
    "    .join(od.Speech)\n",
    "    .join(od.Politician)\n",
    "    .with_entities(\n",
    "        bm.Sample.id.label(\"sample_id\"),\n",
    "        bm.Sample.speeches_id.label(\"speech_id\"),\n",
    "        od.Politician.id.label(\"speaker_id\"),\n",
    "        bm.Sample.sentence_no,\n",
    "        bm.Sample.sentence_length,\n",
    "        bm.Prediction.elite,\n",
    "        bm.Prediction.pplcentr,\n",
    "        bm.Prediction.left,\n",
    "        bm.Prediction.right,\n",
    "        bm.Sample.text,\n",
    "    )\n",
    "    .distinct()\n",
    ")\n",
    "\n",
    "with engine.connect() as conn:\n",
    "    df = pd.read_sql(query.statement, conn)\n",
    "\n",
    "df.to_csv(out_path / \"samples_predictions.csv.zip\", index=False)"
   ]
  },
  {
   "cell_type": "markdown",
   "metadata": {},
   "source": [
    "# Politicians"
   ]
  },
  {
   "cell_type": "code",
   "execution_count": null,
   "metadata": {},
   "outputs": [],
   "source": [
    "query = (\n",
    "    Query(bm.Sample)\n",
    "    .join(bm.Prediction)\n",
    "    .join(od.Speech)\n",
    "    .join(od.Politician)\n",
    "    .with_entities(\n",
    "        od.Politician.id.label(\"speaker_id\"),\n",
    "        od.Politician.first_name,\n",
    "        od.Politician.last_name,\n",
    "        od.Politician.gender,\n",
    "        od.Politician.birth_place,\n",
    "        od.Politician.birth_date,\n",
    "        od.Politician.death_date,\n",
    "        od.Politician.academic_title,\n",
    "        od.Politician.aristocracy,\n",
    "        od.Politician.profession,\n",
    "    )\n",
    "    .distinct()\n",
    ")\n",
    "\n",
    "with engine.connect() as conn:\n",
    "    df = pd.read_sql(query.statement, conn)\n",
    "\n",
    "df.to_csv(out_path / \"speakers.csv.zip\", index=False)"
   ]
  },
  {
   "cell_type": "markdown",
   "metadata": {},
   "source": [
    "# Speeches"
   ]
  },
  {
   "cell_type": "code",
   "execution_count": null,
   "metadata": {},
   "outputs": [],
   "source": [
    "query = (\n",
    "    Query(bm.Sample)\n",
    "    .join(bm.Prediction)\n",
    "    .join(od.Speech)\n",
    "    .join(od.Politician)\n",
    "    .join(od.Faction)\n",
    "    .with_entities(\n",
    "        od.Speech.id.label(\"speech_id\"),\n",
    "        od.Speech.electoral_term,\n",
    "        od.Speech.session,\n",
    "        od.Speech.date,\n",
    "        od.Speech.politician_id.label(\"speaker_id\"),\n",
    "        od.Faction.abbreviation.label(\"faction\"),\n",
    "        od.Speech.document_url,\n",
    "    )\n",
    "    .distinct()\n",
    ")\n",
    "\n",
    "with engine.connect() as conn:\n",
    "    df = pd.read_sql(query.statement, conn)\n",
    "\n",
    "df.to_csv(out_path / \"speeches.csv.zip\", index=False)"
   ]
  }
 ],
 "metadata": {
  "kernelspec": {
   "display_name": "bert_populism",
   "language": "python",
   "name": "bert_populism"
  },
  "language_info": {
   "codemirror_mode": {
    "name": "ipython",
    "version": 3
   },
   "file_extension": ".py",
   "mimetype": "text/x-python",
   "name": "python",
   "nbconvert_exporter": "python",
   "pygments_lexer": "ipython3",
   "version": "3.11.1"
  }
 },
 "nbformat": 4,
 "nbformat_minor": 2
}
