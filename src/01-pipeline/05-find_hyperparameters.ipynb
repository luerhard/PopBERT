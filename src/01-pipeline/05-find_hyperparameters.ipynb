{
 "cells": [
  {
   "cell_type": "code",
   "execution_count": null,
   "id": "2dac854e",
   "metadata": {
    "papermill": {
     "duration": 0.069527,
     "end_time": "2023-07-13T12:35:12.359948",
     "exception": false,
     "start_time": "2023-07-13T12:35:12.290421",
     "status": "completed"
    },
    "tags": []
   },
   "outputs": [],
   "source": [
    "%load_ext autoreload\n",
    "%autoreload 2"
   ]
  },
  {
   "cell_type": "code",
   "execution_count": null,
   "id": "6ac81d44",
   "metadata": {
    "papermill": {
     "duration": 19.497514,
     "end_time": "2023-07-13T12:35:31.859950",
     "exception": false,
     "start_time": "2023-07-13T12:35:12.362436",
     "status": "completed"
    },
    "tags": []
   },
   "outputs": [],
   "source": [
    "import numpy as np\n",
    "import torch\n",
    "from sklearn.metrics import classification_report\n",
    "from torch.utils.data import DataLoader\n",
    "from transformers import AutoTokenizer\n",
    "from transformers import logging\n",
    "\n",
    "import src\n",
    "import src.bert.utils as bert_utils\n",
    "from src.bert import module\n",
    "from src.bert import training\n",
    "from src.bert.dataset import PBertDataset\n",
    "from src.bert.dataset import strategies"
   ]
  },
  {
   "cell_type": "code",
   "execution_count": null,
   "id": "c762f361",
   "metadata": {
    "papermill": {
     "duration": 0.125841,
     "end_time": "2023-07-13T12:35:31.998033",
     "exception": false,
     "start_time": "2023-07-13T12:35:31.872192",
     "status": "completed"
    },
    "tags": []
   },
   "outputs": [],
   "source": [
    "logging.set_verbosity_error()\n",
    "\n",
    "# model hyper-parameters\n",
    "LR = 4e-6\n",
    "N_EPOCHS = 13\n",
    "BATCH_SIZE = 16\n",
    "\n",
    "TOKENIZER = \"deepset/gbert-large\"\n",
    "BASE_MODEL = \"deepset/gbert-large\"\n",
    "\n",
    "STRATEGY = strategies.MLMin1PopIdeol(output_fmt=\"single_task\")\n",
    "\n",
    "DEVICE = \"cuda\""
   ]
  },
  {
   "cell_type": "code",
   "execution_count": null,
   "id": "2ba8f008",
   "metadata": {
    "papermill": {
     "duration": 1.222516,
     "end_time": "2023-07-13T12:35:33.222871",
     "exception": false,
     "start_time": "2023-07-13T12:35:32.000355",
     "status": "completed"
    },
    "tags": []
   },
   "outputs": [],
   "source": [
    "train = PBertDataset.from_disk(src.PATH / \"data/bert/train.csv.zip\", label_strategy=STRATEGY)\n",
    "val = PBertDataset.from_disk(src.PATH / \"data/bert/validation.csv.zip\", label_strategy=STRATEGY)\n",
    "test = PBertDataset.from_disk(src.PATH / \"data/bert/test.csv.zip\", label_strategy=STRATEGY)"
   ]
  },
  {
   "cell_type": "code",
   "execution_count": null,
   "id": "20e7d928",
   "metadata": {
    "papermill": {
     "duration": 0.130818,
     "end_time": "2023-07-13T12:35:33.356492",
     "exception": false,
     "start_time": "2023-07-13T12:35:33.225674",
     "status": "completed"
    },
    "tags": []
   },
   "outputs": [
    {
     "data": {
      "text/plain": [
       "(5277, 1759, 1759)"
      ]
     },
     "execution_count": null,
     "metadata": {},
     "output_type": "execute_result"
    }
   ],
   "source": [
    "len(train), len(test), len(val)"
   ]
  },
  {
   "cell_type": "code",
   "execution_count": null,
   "id": "cb7434ea",
   "metadata": {
    "papermill": {
     "duration": 0.534084,
     "end_time": "2023-07-13T12:35:33.893550",
     "exception": false,
     "start_time": "2023-07-13T12:35:33.359466",
     "status": "completed"
    },
    "tags": []
   },
   "outputs": [],
   "source": [
    "tokenizer = AutoTokenizer.from_pretrained(TOKENIZER)"
   ]
  },
  {
   "cell_type": "code",
   "execution_count": null,
   "id": "08fee626",
   "metadata": {
    "papermill": {
     "duration": 0.127426,
     "end_time": "2023-07-13T12:35:34.023931",
     "exception": false,
     "start_time": "2023-07-13T12:35:33.896505",
     "status": "completed"
    },
    "tags": []
   },
   "outputs": [],
   "source": [
    "collate_fn = train.create_collate_fn(tokenizer)\n",
    "\n",
    "train_loader = DataLoader(train, collate_fn=collate_fn, batch_size=BATCH_SIZE, shuffle=True)\n",
    "valid_loader = DataLoader(val, collate_fn=collate_fn, batch_size=32, shuffle=False)\n",
    "test_loader = DataLoader(test, collate_fn=collate_fn, batch_size=32, shuffle=False)"
   ]
  },
  {
   "cell_type": "code",
   "execution_count": null,
   "id": "e53f3282",
   "metadata": {
    "papermill": {
     "duration": 1011.931566,
     "end_time": "2023-07-13T12:52:25.958057",
     "exception": false,
     "start_time": "2023-07-13T12:35:34.026491",
     "status": "completed"
    },
    "tags": []
   },
   "outputs": [
    {
     "name": "stderr",
     "output_type": "stream",
     "text": [
      "/gpfs/bwfor/home/st/st_st/st_ac138201/bert_populism/src/bert/utils.py:68: RuntimeWarning: invalid value encountered in divide\n",
      "  fscores = (2 * precision * recall) / (precision + recall)\n"
     ]
    },
    {
     "name": "stdout",
     "output_type": "stream",
     "text": [
      "Best BF thresh {0: 0.38, 1: 0.22, 2: 0.18, 3: 0.14}\n",
      "epoch=1 train_loss=0.3415 eval_loss=0.2607 score=0.2269\n",
      "{0: 0.3766822, 1: 0.22738275, 2: 0.17531393, 3: 0.36036944}\n",
      "------------------------------\n"
     ]
    },
    {
     "name": "stdout",
     "output_type": "stream",
     "text": [
      "Best BF thresh {0: 0.5700000000000001, 1: 0.3, 2: 0.33, 3: 0.31}\n",
      "epoch=2 train_loss=0.2033 eval_loss=0.2142 score=0.5799\n",
      "{0: 0.57342243, 1: 0.2760982, 2: 0.3322879, 3: 0.30530763}\n",
      "------------------------------\n"
     ]
    },
    {
     "name": "stdout",
     "output_type": "stream",
     "text": [
      "Best BF thresh {0: 0.32, 1: 0.2, 2: 0.27, 3: 0.22}\n",
      "epoch=3 train_loss=0.2489 eval_loss=0.2164 score=0.5468\n",
      "{0: 0.32757726, 1: 0.20682135, 2: 0.26907408, 3: 0.22335309}\n",
      "------------------------------\n"
     ]
    },
    {
     "name": "stderr",
     "output_type": "stream",
     "text": [
      "/gpfs/bwfor/home/st/st_st/st_ac138201/bert_populism/src/bert/utils.py:68: RuntimeWarning: invalid value encountered in divide\n",
      "  fscores = (2 * precision * recall) / (precision + recall)\n"
     ]
    },
    {
     "name": "stdout",
     "output_type": "stream",
     "text": [
      "Best BF thresh {0: 0.31, 1: 0.45, 2: 0.32, 3: 0.17}\n",
      "epoch=4 train_loss=0.1999 eval_loss=0.1880 score=0.6341\n",
      "{0: 0.29426068, 1: 0.37834522, 2: 0.9680072, 3: 0.2667202}\n",
      "------------------------------\n"
     ]
    },
    {
     "name": "stdout",
     "output_type": "stream",
     "text": [
      "Best BF thresh {0: 0.55, 1: 0.3, 2: 0.37, 3: 0.31}\n",
      "epoch=5 train_loss=0.2789 eval_loss=0.1974 score=0.6610\n",
      "{0: 0.55211514, 1: 0.3007287, 2: 0.37783322, 3: 0.31490615}\n",
      "------------------------------\n"
     ]
    },
    {
     "name": "stdout",
     "output_type": "stream",
     "text": [
      "Best BF thresh {0: 0.52, 1: 0.36, 2: 0.63, 3: 0.3}\n",
      "epoch=6 train_loss=0.2591 eval_loss=0.1893 score=0.6916\n",
      "{0: 0.5210392, 1: 0.3614637, 2: 0.6365567, 3: 0.29676586}\n",
      "------------------------------\n"
     ]
    },
    {
     "name": "stdout",
     "output_type": "stream",
     "text": [
      "Best BF thresh {0: 0.58, 1: 0.25, 2: 0.6900000000000001, 3: 0.42}\n",
      "epoch=7 train_loss=0.0936 eval_loss=0.1956 score=0.7065\n",
      "{0: 0.584204, 1: 0.23510472, 2: 0.6952419, 3: 0.3797357}\n",
      "------------------------------\n"
     ]
    },
    {
     "name": "stdout",
     "output_type": "stream",
     "text": [
      "Best BF thresh {0: 0.2, 1: 0.52, 2: 0.46, 3: 0.17}\n",
      "epoch=8 train_loss=0.1707 eval_loss=0.2102 score=0.6971\n",
      "{0: 0.20202683, 1: 0.5678805, 2: 0.45491958, 3: 0.16894972}\n",
      "------------------------------\n"
     ]
    },
    {
     "name": "stdout",
     "output_type": "stream",
     "text": [
      "Best BF thresh {0: 0.27, 1: 0.23, 2: 0.46, 3: 0.16}\n",
      "epoch=9 train_loss=0.0665 eval_loss=0.2412 score=0.6921\n",
      "{0: 0.285582, 1: 0.23008464, 2: 0.4613408, 3: 0.16180824}\n",
      "------------------------------\n"
     ]
    },
    {
     "name": "stdout",
     "output_type": "stream",
     "text": [
      "Best BF thresh {0: 0.58, 1: 0.64, 2: 0.73, 3: 0.49}\n",
      "epoch=10 train_loss=0.0929 eval_loss=0.2764 score=0.7208\n",
      "{0: 0.5865942, 1: 0.64210063, 2: 0.71926636, 3: 0.49389726}\n",
      "------------------------------\n"
     ]
    },
    {
     "name": "stdout",
     "output_type": "stream",
     "text": [
      "Best BF thresh {0: 0.43, 1: 0.2, 2: 0.51, 3: 0.22}\n",
      "epoch=11 train_loss=0.1282 eval_loss=0.2263 score=0.6981\n",
      "{0: 0.43724817, 1: 0.19381644, 2: 0.5150236, 3: 0.22553217}\n",
      "------------------------------\n"
     ]
    },
    {
     "name": "stdout",
     "output_type": "stream",
     "text": [
      "Best BF thresh {0: 0.18, 1: 0.3, 2: 0.67, 3: 0.16}\n",
      "epoch=12 train_loss=0.1414 eval_loss=0.2495 score=0.7021\n",
      "{0: 0.18372594, 1: 0.2898114, 2: 0.6724017, 3: 0.1627382}\n",
      "------------------------------\n"
     ]
    },
    {
     "name": "stdout",
     "output_type": "stream",
     "text": [
      "Best BF thresh {0: 0.45, 1: 0.62, 2: 0.72, 3: 0.39}\n",
      "epoch=13 train_loss=0.0728 eval_loss=0.2739 score=0.7218\n",
      "{0: 0.44911858, 1: 0.62757695, 2: 0.7143382, 3: 0.3941237}\n",
      "------------------------------\n"
     ]
    }
   ],
   "source": [
    "model = module.BertSingleTaskMultiLabel(num_labels=train.num_labels, name=BASE_MODEL)\n",
    "model.train()\n",
    "model = model.to(DEVICE)\n",
    "model.set_seed(seed=10)\n",
    "\n",
    "optimizer = torch.optim.AdamW(\n",
    "    model.parameters(),\n",
    "    lr=LR,\n",
    "    amsgrad=False,\n",
    "    weight_decay=1e-2,\n",
    ")\n",
    "\n",
    "lr_scheduler = torch.optim.lr_scheduler.CosineAnnealingLR(\n",
    "    optimizer,\n",
    "    T_max=15,\n",
    "    eta_min=1e-9,\n",
    ")\n",
    "\n",
    "for epoch in range(1, N_EPOCHS + 1):\n",
    "    train_loss = training.train_epoch(model, train_loader, optimizer, lr_scheduler)\n",
    "    eval_loss, score, thresh = training.eval_epoch(model, valid_loader)\n",
    "    print(f\"{epoch=} {train_loss=:.4f} {eval_loss=:.4f} {score=:.4f}\")\n",
    "    print(thresh)\n",
    "    print(\"-\" * 30)"
   ]
  },
  {
   "cell_type": "code",
   "execution_count": null,
   "id": "b650244d",
   "metadata": {
    "papermill": {
     "duration": 19.730813,
     "end_time": "2023-07-13T12:52:45.691734",
     "exception": false,
     "start_time": "2023-07-13T12:52:25.960921",
     "status": "completed"
    },
    "tags": []
   },
   "outputs": [
    {
     "name": "stdout",
     "output_type": "stream",
     "text": [
      "Best BF thresh {0: 0.45, 1: 0.62, 2: 0.72, 3: 0.39}\n"
     ]
    }
   ],
   "source": [
    "y_true = []\n",
    "y_pred = []\n",
    "with torch.inference_mode():\n",
    "    for batch in valid_loader:\n",
    "        encodings = batch[\"encodings\"]\n",
    "        encodings = encodings.to(DEVICE)\n",
    "        labels = batch[\"labels\"].to(DEVICE)\n",
    "        preds = model.predict_proba(encodings)\n",
    "        y_true.extend(batch[\"labels\"].numpy())\n",
    "        y_pred.extend(preds)\n",
    "\n",
    "y_true = np.array(y_true)\n",
    "y_pred = np.array(y_pred)\n",
    "\n",
    "thresh_finder = bert_utils.ThresholdFinder(type=model.model_type)\n",
    "thresholds = thresh_finder.find_thresholds(y_true, y_pred)"
   ]
  },
  {
   "cell_type": "code",
   "execution_count": null,
   "id": "ddd7fe31",
   "metadata": {
    "papermill": {
     "duration": 0.13759,
     "end_time": "2023-07-13T12:52:45.835163",
     "exception": false,
     "start_time": "2023-07-13T12:52:45.697573",
     "status": "completed"
    },
    "tags": []
   },
   "outputs": [
    {
     "name": "stdout",
     "output_type": "stream",
     "text": [
      "{0: 0.44911858, 1: 0.62757695, 2: 0.7143382, 3: 0.3941237}\n"
     ]
    }
   ],
   "source": [
    "print(thresholds)"
   ]
  },
  {
   "cell_type": "code",
   "execution_count": null,
   "id": "2f9c6fdd",
   "metadata": {
    "papermill": {
     "duration": 0.125048,
     "end_time": "2023-07-13T12:52:45.963245",
     "exception": false,
     "start_time": "2023-07-13T12:52:45.838197",
     "status": "completed"
    },
    "tags": []
   },
   "outputs": [],
   "source": [
    "y_pred_05 = np.where(y_pred > 0.5, 1, 0)\n",
    "y_pred_thresh = model.apply_thresh(y_pred, thresholds)"
   ]
  },
  {
   "cell_type": "code",
   "execution_count": null,
   "id": "c817b551",
   "metadata": {
    "papermill": {
     "duration": 0.133717,
     "end_time": "2023-07-13T12:52:46.099896",
     "exception": false,
     "start_time": "2023-07-13T12:52:45.966179",
     "status": "completed"
    },
    "tags": []
   },
   "outputs": [
    {
     "name": "stdout",
     "output_type": "stream",
     "text": [
      "              precision    recall  f1-score   support\n",
      "\n",
      "       elite       0.80      0.92      0.85       630\n",
      "       centr       0.61      0.80      0.69       307\n",
      "        left       0.63      0.80      0.71       280\n",
      "       right       0.69      0.59      0.64       155\n",
      "\n",
      "   micro avg       0.71      0.83      0.76      1372\n",
      "   macro avg       0.68      0.78      0.72      1372\n",
      "weighted avg       0.71      0.83      0.76      1372\n",
      " samples avg       0.40      0.41      0.40      1372\n",
      "\n"
     ]
    }
   ],
   "source": [
    "print(classification_report(y_true, y_pred_05, target_names=train.labels, zero_division=0))"
   ]
  },
  {
   "cell_type": "code",
   "execution_count": null,
   "id": "6ffc3da6",
   "metadata": {
    "papermill": {
     "duration": 0.134265,
     "end_time": "2023-07-13T12:52:46.237406",
     "exception": false,
     "start_time": "2023-07-13T12:52:46.103141",
     "status": "completed"
    },
    "tags": []
   },
   "outputs": [
    {
     "name": "stdout",
     "output_type": "stream",
     "text": [
      "              precision    recall  f1-score   support\n",
      "\n",
      "       elite       0.80      0.92      0.85       630\n",
      "       centr       0.65      0.76      0.70       307\n",
      "        left       0.68      0.76      0.72       280\n",
      "       right       0.68      0.62      0.65       155\n",
      "\n",
      "   micro avg       0.73      0.82      0.77      1372\n",
      "   macro avg       0.70      0.77      0.73      1372\n",
      "weighted avg       0.73      0.82      0.77      1372\n",
      " samples avg       0.40      0.40      0.40      1372\n",
      "\n"
     ]
    }
   ],
   "source": [
    "print(classification_report(y_true, y_pred_thresh, target_names=train.labels, zero_division=0))"
   ]
  },
  {
   "cell_type": "code",
   "execution_count": null,
   "id": "aaba7867",
   "metadata": {
    "papermill": {
     "duration": 7.208558,
     "end_time": "2023-07-13T12:52:53.460073",
     "exception": false,
     "start_time": "2023-07-13T12:52:46.251515",
     "status": "completed"
    },
    "tags": []
   },
   "outputs": [],
   "source": [
    "y_true = []\n",
    "y_pred = []\n",
    "with torch.inference_mode():\n",
    "    for batch in test_loader:\n",
    "        encodings = batch[\"encodings\"]\n",
    "        encodings = encodings.to(DEVICE)\n",
    "        labels = batch[\"labels\"].to(DEVICE)\n",
    "        preds = model.predict_proba(encodings)\n",
    "        y_true.extend(batch[\"labels\"].numpy())\n",
    "        y_pred.extend(preds)\n",
    "\n",
    "y_true = np.array(y_true)\n",
    "y_pred = np.array(y_pred)"
   ]
  },
  {
   "cell_type": "code",
   "execution_count": null,
   "id": "40ac54b6",
   "metadata": {
    "papermill": {
     "duration": 0.131299,
     "end_time": "2023-07-13T12:52:53.596559",
     "exception": false,
     "start_time": "2023-07-13T12:52:53.465260",
     "status": "completed"
    },
    "tags": []
   },
   "outputs": [],
   "source": [
    "y_pred_05 = np.where(y_pred > 0.5, 1, 0)\n",
    "y_pred_thresh = model.apply_thresh(y_pred, thresholds)"
   ]
  },
  {
   "cell_type": "code",
   "execution_count": null,
   "id": "75bba507",
   "metadata": {
    "papermill": {
     "duration": 0.135927,
     "end_time": "2023-07-13T12:52:53.735744",
     "exception": false,
     "start_time": "2023-07-13T12:52:53.599817",
     "status": "completed"
    },
    "tags": []
   },
   "outputs": [
    {
     "name": "stdout",
     "output_type": "stream",
     "text": [
      "              precision    recall  f1-score   support\n",
      "\n",
      "       elite       0.79      0.89      0.84       625\n",
      "       centr       0.57      0.81      0.67       302\n",
      "        left       0.62      0.84      0.72       279\n",
      "       right       0.69      0.67      0.68       130\n",
      "\n",
      "   micro avg       0.69      0.84      0.76      1336\n",
      "   macro avg       0.67      0.80      0.73      1336\n",
      "weighted avg       0.70      0.84      0.76      1336\n",
      " samples avg       0.39      0.40      0.39      1336\n",
      "\n"
     ]
    }
   ],
   "source": [
    "print(classification_report(y_true, y_pred_05, target_names=train.labels, zero_division=0))"
   ]
  },
  {
   "cell_type": "code",
   "execution_count": null,
   "id": "720ecd4b",
   "metadata": {
    "papermill": {
     "duration": 0.133901,
     "end_time": "2023-07-13T12:52:53.873020",
     "exception": false,
     "start_time": "2023-07-13T12:52:53.739119",
     "status": "completed"
    },
    "tags": []
   },
   "outputs": [
    {
     "name": "stdout",
     "output_type": "stream",
     "text": [
      "              precision    recall  f1-score   support\n",
      "\n",
      "       elite       0.79      0.89      0.83       625\n",
      "       centr       0.59      0.77      0.67       302\n",
      "        left       0.66      0.77      0.72       279\n",
      "       right       0.64      0.69      0.67       130\n",
      "\n",
      "   micro avg       0.70      0.82      0.75      1336\n",
      "   macro avg       0.67      0.78      0.72      1336\n",
      "weighted avg       0.70      0.82      0.76      1336\n",
      " samples avg       0.39      0.40      0.38      1336\n",
      "\n"
     ]
    }
   ],
   "source": [
    "print(classification_report(y_true, y_pred_thresh, target_names=train.labels, zero_division=0))"
   ]
  }
 ],
 "metadata": {
  "kernelspec": {
   "display_name": "bert_populism",
   "language": "python",
   "name": "bert_populism"
  },
  "language_info": {
   "codemirror_mode": {
    "name": "ipython",
    "version": 3
   },
   "file_extension": ".py",
   "mimetype": "text/x-python",
   "name": "python",
   "nbconvert_exporter": "python",
   "pygments_lexer": "ipython3",
   "version": "3.9.12"
  },
  "papermill": {
   "default_parameters": {},
   "duration": 1070.560117,
   "end_time": "2023-07-13T12:52:54.694031",
   "environment_variables": {},
   "exception": null,
   "input_path": "notebooks/01-pipeline/05-find_hyperparameters.ipynb",
   "output_path": "notebooks/01-pipeline/05-find_hyperparameters.ipynb",
   "parameters": {},
   "start_time": "2023-07-13T12:35:04.133914",
   "version": "2.4.0"
  }
 },
 "nbformat": 4,
 "nbformat_minor": 5
}
