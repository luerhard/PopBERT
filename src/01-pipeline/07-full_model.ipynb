{
 "cells": [
  {
   "cell_type": "code",
   "execution_count": null,
   "id": "ca367e4f",
   "metadata": {
    "papermill": {
     "duration": null,
     "end_time": null,
     "exception": false,
     "start_time": "2023-07-13T15:44:21.413088",
     "status": "running"
    },
    "tags": []
   },
   "outputs": [],
   "source": [
    "import numpy as np\n",
    "import torch\n",
    "from sklearn.metrics import classification_report\n",
    "from torch.utils.data import DataLoader\n",
    "from transformers import AutoTokenizer\n",
    "from transformers import logging\n",
    "\n",
    "import src\n",
    "from src.bert import module\n",
    "from src.bert import training\n",
    "from src.bert.dataset import PBertDataset\n",
    "from src.bert.dataset import strategies"
   ]
  },
  {
   "cell_type": "code",
   "execution_count": null,
   "id": "7cbcddcd",
   "metadata": {
    "papermill": {
     "duration": null,
     "end_time": null,
     "exception": null,
     "start_time": null,
     "status": "pending"
    },
    "tags": []
   },
   "outputs": [],
   "source": [
    "logging.set_verbosity_error()\n",
    "\n",
    "# model hyper-parameters\n",
    "LR = 4e-6\n",
    "N_EPOCHS = 13\n",
    "BATCH_SIZE = 16\n",
    "\n",
    "TOKENIZER = \"deepset/gbert-large\"\n",
    "BASE_MODEL = \"deepset/gbert-large\"\n",
    "\n",
    "STRATEGY = strategies.MLMin1PopIdeol(output_fmt=\"single_task\")\n",
    "\n",
    "DEVICE = \"cuda\""
   ]
  },
  {
   "cell_type": "code",
   "execution_count": null,
   "id": "ac15ed75",
   "metadata": {
    "papermill": {
     "duration": null,
     "end_time": null,
     "exception": null,
     "start_time": null,
     "status": "pending"
    },
    "tags": []
   },
   "outputs": [],
   "source": [
    "dataset = PBertDataset.from_disk(src.PATH / \"data/bert/dataset.csv.zip\", label_strategy=STRATEGY)"
   ]
  },
  {
   "cell_type": "code",
   "execution_count": null,
   "id": "cc06297f",
   "metadata": {
    "papermill": {
     "duration": null,
     "end_time": null,
     "exception": null,
     "start_time": null,
     "status": "pending"
    },
    "tags": []
   },
   "outputs": [],
   "source": [
    "len(dataset)"
   ]
  },
  {
   "cell_type": "code",
   "execution_count": null,
   "id": "4c749daf",
   "metadata": {
    "papermill": {
     "duration": null,
     "end_time": null,
     "exception": null,
     "start_time": null,
     "status": "pending"
    },
    "tags": []
   },
   "outputs": [],
   "source": [
    "tokenizer = AutoTokenizer.from_pretrained(TOKENIZER)"
   ]
  },
  {
   "cell_type": "code",
   "execution_count": null,
   "id": "821ef3f3",
   "metadata": {
    "papermill": {
     "duration": null,
     "end_time": null,
     "exception": null,
     "start_time": null,
     "status": "pending"
    },
    "tags": []
   },
   "outputs": [],
   "source": [
    "collate_fn = dataset.create_collate_fn(tokenizer)\n",
    "dataset_loader = DataLoader(dataset, collate_fn=collate_fn, batch_size=BATCH_SIZE, shuffle=True)"
   ]
  },
  {
   "cell_type": "code",
   "execution_count": null,
   "id": "458ba4c3",
   "metadata": {
    "papermill": {
     "duration": null,
     "end_time": null,
     "exception": null,
     "start_time": null,
     "status": "pending"
    },
    "tags": []
   },
   "outputs": [],
   "source": [
    "model = module.BertSingleTaskMultiLabel(num_labels=dataset.num_labels, name=BASE_MODEL)\n",
    "model.train()\n",
    "model = model.to(DEVICE)\n",
    "model.set_seed(seed=10)\n",
    "\n",
    "optimizer = torch.optim.AdamW(\n",
    "    model.parameters(),\n",
    "    lr=LR,\n",
    "    amsgrad=False,\n",
    "    weight_decay=1e-2,\n",
    ")\n",
    "\n",
    "lr_scheduler = torch.optim.lr_scheduler.CosineAnnealingLR(\n",
    "    optimizer,\n",
    "    T_max=N_EPOCHS,\n",
    "    eta_min=1e-9,\n",
    ")\n",
    "\n",
    "for epoch in range(1, N_EPOCHS + 1):\n",
    "    train_loss = training.train_epoch(model, dataset_loader, optimizer, lr_scheduler)\n",
    "    print(f\"{epoch=} {train_loss=:.4f}\")"
   ]
  },
  {
   "cell_type": "code",
   "execution_count": null,
   "id": "09a9f672",
   "metadata": {
    "papermill": {
     "duration": null,
     "end_time": null,
     "exception": null,
     "start_time": null,
     "status": "pending"
    },
    "tags": []
   },
   "outputs": [],
   "source": [
    "torch.save(model, src.PATH / \"tmp/full_model_v9.4.model\")"
   ]
  }
 ],
 "metadata": {
  "kernelspec": {
   "display_name": "bert_populism",
   "language": "python",
   "name": "bert_populism"
  },
  "language_info": {
   "codemirror_mode": {
    "name": "ipython",
    "version": 3
   },
   "file_extension": ".py",
   "mimetype": "text/x-python",
   "name": "python",
   "nbconvert_exporter": "python",
   "pygments_lexer": "ipython3",
   "version": "3.9.12"
  },
  "papermill": {
   "default_parameters": {},
   "duration": null,
   "end_time": null,
   "environment_variables": {},
   "exception": null,
   "input_path": "notebooks/01-pipeline/07-full_model.ipynb",
   "output_path": "notebooks/01-pipeline/07-full_model.ipynb",
   "parameters": {},
   "start_time": "2023-07-13T15:44:07.590501",
   "version": "2.4.0"
  }
 },
 "nbformat": 4,
 "nbformat_minor": 5
}