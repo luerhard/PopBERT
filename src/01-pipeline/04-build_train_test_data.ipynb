{
 "cells": [
  {
   "cell_type": "code",
   "execution_count": null,
   "id": "18e3282b-2bf8-4cce-b0d8-4df4d8dde972",
   "metadata": {
    "tags": []
   },
   "outputs": [],
   "source": [
    "import src.db\n",
    "from src.bert.dataset import PBertDataset\n",
    "from src.bert.dataset import strategies"
   ]
  },
  {
   "cell_type": "code",
   "execution_count": null,
   "id": "7f47a2ea-f4f6-472d-b4a8-b613c939ef48",
   "metadata": {
    "tags": []
   },
   "outputs": [],
   "source": [
    "engine = src.db.make_engine(\"DB\")"
   ]
  },
  {
   "cell_type": "code",
   "execution_count": null,
   "id": "75e875e9-abba-4662-9bf1-19f50d639003",
   "metadata": {
    "tags": []
   },
   "outputs": [],
   "source": [
    "dataset = PBertDataset.from_db(\n",
    "    engine,\n",
    "    label_strategy=strategies.MCPopIdeol(),\n",
    ")"
   ]
  },
  {
   "cell_type": "code",
   "execution_count": null,
   "id": "87ff0fc0-94f4-48d0-84f3-132ce8387eee",
   "metadata": {
    "tags": []
   },
   "outputs": [
    {
     "data": {
      "text/plain": [
       "0    7452\n",
       "1     697\n",
       "2     279\n",
       "3     132\n",
       "4     128\n",
       "5      83\n",
       "6      24\n",
       "Name: vote, dtype: int64"
      ]
     },
     "execution_count": null,
     "metadata": {},
     "output_type": "execute_result"
    }
   ],
   "source": [
    "dataset.df_labels.vote.value_counts()"
   ]
  },
  {
   "cell_type": "code",
   "execution_count": null,
   "id": "65df5f1e-a312-4835-94e3-4dd9d779f6e6",
   "metadata": {
    "tags": []
   },
   "outputs": [],
   "source": [
    "train, test = dataset.train_test_split(test_size=0.2, stratify=False)\n",
    "train, validation = train.train_test_split(test_size=0.25, stratify=False)"
   ]
  },
  {
   "cell_type": "code",
   "execution_count": null,
   "id": "573de435",
   "metadata": {
    "tags": []
   },
   "outputs": [
    {
     "data": {
      "text/plain": [
       "(8795, 5277, 1759, 1759)"
      ]
     },
     "execution_count": null,
     "metadata": {},
     "output_type": "execute_result"
    }
   ],
   "source": [
    "len(dataset), len(train), len(test), len(validation)"
   ]
  },
  {
   "cell_type": "code",
   "execution_count": null,
   "id": "c2558706-b41d-4281-8d0f-b3109855dbd2",
   "metadata": {
    "tags": []
   },
   "outputs": [
    {
     "data": {
      "text/html": [
       "<div>\n",
       "<style scoped>\n",
       "    .dataframe tbody tr th:only-of-type {\n",
       "        vertical-align: middle;\n",
       "    }\n",
       "\n",
       "    .dataframe tbody tr th {\n",
       "        vertical-align: top;\n",
       "    }\n",
       "\n",
       "    .dataframe thead th {\n",
       "        text-align: right;\n",
       "    }\n",
       "</style>\n",
       "<table border=\"1\" class=\"dataframe\">\n",
       "  <thead>\n",
       "    <tr style=\"text-align: right;\">\n",
       "      <th></th>\n",
       "      <th>id</th>\n",
       "      <th>text</th>\n",
       "      <th>labels</th>\n",
       "      <th>vote</th>\n",
       "    </tr>\n",
       "  </thead>\n",
       "  <tbody>\n",
       "    <tr>\n",
       "      <th>5399</th>\n",
       "      <td>850074</td>\n",
       "      <td>Die nun glücklicherweise abgewählte Regierung ...</td>\n",
       "      <td>(0, 0, 0, 2, 2)</td>\n",
       "      <td>0</td>\n",
       "    </tr>\n",
       "    <tr>\n",
       "      <th>3471</th>\n",
       "      <td>498130</td>\n",
       "      <td>Dabei gilt es, das richtige Verhältnis zwische...</td>\n",
       "      <td>(0, 0, 0, 0, 0)</td>\n",
       "      <td>0</td>\n",
       "    </tr>\n",
       "    <tr>\n",
       "      <th>6587</th>\n",
       "      <td>1003184</td>\n",
       "      <td>Sie uns mit solchem Schwachsinn wie diesen För...</td>\n",
       "      <td>(0, 0, 0, 3, 0)</td>\n",
       "      <td>0</td>\n",
       "    </tr>\n",
       "    <tr>\n",
       "      <th>4246</th>\n",
       "      <td>633412</td>\n",
       "      <td>Sie unterstützen also mit Waffenlieferungen fr...</td>\n",
       "      <td>(1, 1, 1, 1, 1)</td>\n",
       "      <td>1</td>\n",
       "    </tr>\n",
       "    <tr>\n",
       "      <th>2190</th>\n",
       "      <td>278645</td>\n",
       "      <td>Dabei haben wir alles im Blick: die Verkehrsdi...</td>\n",
       "      <td>(0, 0, 0, 0, 0)</td>\n",
       "      <td>0</td>\n",
       "    </tr>\n",
       "  </tbody>\n",
       "</table>\n",
       "</div>"
      ],
      "text/plain": [
       "           id                                               text  \\\n",
       "5399   850074  Die nun glücklicherweise abgewählte Regierung ...   \n",
       "3471   498130  Dabei gilt es, das richtige Verhältnis zwische...   \n",
       "6587  1003184  Sie uns mit solchem Schwachsinn wie diesen För...   \n",
       "4246   633412  Sie unterstützen also mit Waffenlieferungen fr...   \n",
       "2190   278645  Dabei haben wir alles im Blick: die Verkehrsdi...   \n",
       "\n",
       "               labels  vote  \n",
       "5399  (0, 0, 0, 2, 2)     0  \n",
       "3471  (0, 0, 0, 0, 0)     0  \n",
       "6587  (0, 0, 0, 3, 0)     0  \n",
       "4246  (1, 1, 1, 1, 1)     1  \n",
       "2190  (0, 0, 0, 0, 0)     0  "
      ]
     },
     "execution_count": null,
     "metadata": {},
     "output_type": "execute_result"
    }
   ],
   "source": [
    "train.df_labels.head()"
   ]
  },
  {
   "cell_type": "code",
   "execution_count": null,
   "id": "055ec0be-51ca-4a28-9e42-3f8633b8d29d",
   "metadata": {
    "tags": []
   },
   "outputs": [],
   "source": [
    "dataset.to_disk(src.PATH / \"data/bert/dataset.csv.zip\")\n",
    "train.to_disk(src.PATH / \"data/bert/train.csv.zip\")\n",
    "test.to_disk(src.PATH / \"data/bert/test.csv.zip\")\n",
    "validation.to_disk(src.PATH / \"data/bert/validation.csv.zip\")"
   ]
  },
  {
   "cell_type": "code",
   "execution_count": null,
   "id": "d7be5598",
   "metadata": {},
   "outputs": [],
   "source": []
  }
 ],
 "metadata": {
  "kernelspec": {
   "display_name": "bert_populism",
   "language": "python",
   "name": "bert_populism"
  },
  "language_info": {
   "codemirror_mode": {
    "name": "ipython",
    "version": 3
   },
   "file_extension": ".py",
   "mimetype": "text/x-python",
   "name": "python",
   "nbconvert_exporter": "python",
   "pygments_lexer": "ipython3",
   "version": "3.9.12"
  }
 },
 "nbformat": 4,
 "nbformat_minor": 5
}
