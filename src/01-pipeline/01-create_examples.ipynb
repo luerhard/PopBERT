{
 "cells": [
  {
   "attachments": {},
   "cell_type": "markdown",
   "metadata": {},
   "source": [
    "# Sample Examples for Annotation\n"
   ]
  },
  {
   "cell_type": "code",
   "execution_count": null,
   "metadata": {},
   "outputs": [],
   "source": [
    "import re\n",
    "\n",
    "import pandas as pd\n",
    "import spacy\n",
    "from sqlalchemy import func\n",
    "from sqlalchemy.orm import Query\n",
    "from sqlalchemy.orm import Session\n",
    "from sqlalchemy.orm import joinedload\n",
    "from tqdm.notebook import tqdm\n",
    "\n",
    "import src\n",
    "import src.db.models.bert_data as bm\n",
    "import src.db.models.open_discourse as m\n",
    "from src.db.connect import make_engine"
   ]
  },
  {
   "cell_type": "code",
   "execution_count": null,
   "metadata": {},
   "outputs": [],
   "source": [
    "# setup\n",
    "\n",
    "engine = make_engine(\"DB\")\n",
    "session = Session(engine)\n",
    "\n",
    "pd.set_option(\"display.max_colwidth\", 2000)\n",
    "pd.set_option(\"display.max_rows\", 50)\n",
    "\n",
    "\n",
    "# create Spacy-Doc column in DataFrame\n",
    "\n",
    "nlp = spacy.load(\"de_core_news_md\")\n",
    "nlp.disable_pipes(\n",
    "    [\n",
    "        \"tok2vec\",\n",
    "        \"tagger\",\n",
    "        \"morphologizer\",\n",
    "        \"parser\",\n",
    "        \"lemmatizer\",\n",
    "        \"attribute_ruler\",\n",
    "        \"ner\",\n",
    "    ]\n",
    ")\n",
    "nlp.enable_pipe(\"senter\")"
   ]
  },
  {
   "attachments": {},
   "cell_type": "markdown",
   "metadata": {},
   "source": [
    "## Preprocessing\n",
    "\n",
    "Get Speeches\n"
   ]
  },
  {
   "cell_type": "code",
   "execution_count": null,
   "metadata": {},
   "outputs": [],
   "source": [
    "query = (\n",
    "    session.query(m.Speech)\n",
    "    .options(joinedload(m.Speech.faction))\n",
    "    .join(m.Faction)\n",
    "    .filter(\n",
    "        m.Speech.electoral_term.in_([18, 19]),\n",
    "        m.Faction.id != -1,\n",
    "    )\n",
    "    # for debugging:\n",
    "    # .order_by(func.random())\n",
    "    # .limit(1200)\n",
    "    # or\n",
    "    # .filter(m.Speech.id == 831139)\n",
    ")"
   ]
  },
  {
   "attachments": {},
   "cell_type": "markdown",
   "metadata": {},
   "source": [
    "### Clean Text and create sentence_df\n",
    "\n",
    "Speeches contain many linebreaks and inline references to contributions of other speakers (table contributions in db). These have to be removed.\n"
   ]
  },
  {
   "cell_type": "code",
   "execution_count": null,
   "metadata": {},
   "outputs": [
    {
     "data": {
      "application/vnd.jupyter.widget-view+json": {
       "model_id": "3005a16b273146bb9e55b8fc7e552d6c",
       "version_major": 2,
       "version_minor": 0
      },
      "text/plain": [
       "  0%|          | 0/53202 [00:00<?, ?it/s]"
      ]
     },
     "metadata": {},
     "output_type": "display_data"
    }
   ],
   "source": [
    "# take around 3-6 min with 4.2 Ghz and no WiFi\n",
    "\n",
    "\n",
    "def clean_speech(text):\n",
    "    # replace Zwischenrufnummern\n",
    "    text = re.sub(r\"(?=\\(\\{)(.*)(?<=\\}\\))\", \"\", text)\n",
    "    # replace newlines with spaces\n",
    "    text = re.sub(r\"\\n+$\", \" \", text)\n",
    "    # no clue why this is here. Uwe?\n",
    "    text = re.sub(r\"\\s*\\n+\\s*\", \" \", text)\n",
    "\n",
    "    # insert Space after PUNKT if following letter is uppercase\n",
    "    # TODO: should this be done everytime?\n",
    "    text = re.sub(r\"\\s*\\.\\s*(?=[A-ZÄÜÖ])\", \". \", text)\n",
    "    text = re.sub(r\"\\s*\\?\\s*(?=[A-ZÄÜÖ])\", \"? \", text)\n",
    "    text = re.sub(r\"\\s*!\\s*(?=[A-ZÄÜÖ])\", \"! \", text)\n",
    "    return text\n",
    "\n",
    "\n",
    "# iterate over all speeches in query\n",
    "all_sents = []\n",
    "for speech in tqdm(query.yield_per(100), total=query.count()):\n",
    "    # extract doc-level information\n",
    "    text = speech.speech_content\n",
    "    text = clean_speech(text)\n",
    "    doc = nlp(text)\n",
    "\n",
    "    # get sentences of doc to iterate over\n",
    "    sents = list(doc.sents)\n",
    "    n_sentences = len(list(doc.sents))\n",
    "\n",
    "    # skip very short speeches\n",
    "    if n_sentences < 3:\n",
    "        continue\n",
    "\n",
    "    # iterate over sentences + add 1 row per sentence to all_sents\n",
    "    for sent_no, sent in enumerate(sents, 1):\n",
    "        # do not use first and last sentence\n",
    "        if not 1 < sent_no < n_sentences:\n",
    "            continue\n",
    "\n",
    "        sent_length = len([tok for tok in sent if not tok.is_punct])\n",
    "        # skip very short sentences\n",
    "        if sent_length < 3:\n",
    "            continue\n",
    "\n",
    "        data = {\n",
    "            \"speeches_id\": speech.id,\n",
    "            \"electoral_term\": speech.electoral_term,\n",
    "            \"faction_id\": speech.faction.id,\n",
    "            \"abbreviation\": speech.faction.abbreviation,\n",
    "            \"sentence_no\": sent_no,\n",
    "            \"sentence_length\": sent_length,\n",
    "            \"sentence\": str(sent),\n",
    "        }\n",
    "        all_sents.append(data)\n",
    "\n",
    "sentence_df = pd.DataFrame(all_sents)"
   ]
  },
  {
   "cell_type": "code",
   "execution_count": null,
   "metadata": {},
   "outputs": [],
   "source": [
    "%%capture --no-display\n",
    "\n",
    "# remove sents by regexes\n",
    "sentence_df = sentence_df[\n",
    "    ~sentence_df.sentence.str.contains(\n",
    "        \"^((meine )?sehr (geehrt|verehrt)|liebe|(meine )?damen und)\", case=False\n",
    "    )  # introductions\n",
    "    & ~sentence_df.sentence.str.contains(\"(:|;)$\", case=False)  # bad endings\n",
    "    & ~sentence_df.sentence.str.contains(\"^([a-z]|-)\", case=True)  # lowercase sent starts / dashes\n",
    "]"
   ]
  },
  {
   "cell_type": "code",
   "execution_count": null,
   "metadata": {},
   "outputs": [
    {
     "data": {
      "text/html": [
       "<div>\n",
       "<style scoped>\n",
       "    .dataframe tbody tr th:only-of-type {\n",
       "        vertical-align: middle;\n",
       "    }\n",
       "\n",
       "    .dataframe tbody tr th {\n",
       "        vertical-align: top;\n",
       "    }\n",
       "\n",
       "    .dataframe thead th {\n",
       "        text-align: right;\n",
       "    }\n",
       "</style>\n",
       "<table border=\"1\" class=\"dataframe\">\n",
       "  <thead>\n",
       "    <tr style=\"text-align: right;\">\n",
       "      <th></th>\n",
       "      <th>speeches_id</th>\n",
       "      <th>electoral_term</th>\n",
       "      <th>faction_id</th>\n",
       "      <th>abbreviation</th>\n",
       "      <th>sentence_no</th>\n",
       "      <th>sentence_length</th>\n",
       "      <th>sentence</th>\n",
       "    </tr>\n",
       "  </thead>\n",
       "  <tbody>\n",
       "    <tr>\n",
       "      <th>388891</th>\n",
       "      <td>794137</td>\n",
       "      <td>18</td>\n",
       "      <td>4</td>\n",
       "      <td>CDU/CSU</td>\n",
       "      <td>11</td>\n",
       "      <td>8</td>\n",
       "      <td>Wir konnten dies glücklicherweise Punkt für Punkt widerlegen.</td>\n",
       "    </tr>\n",
       "    <tr>\n",
       "      <th>1061575</th>\n",
       "      <td>844483</td>\n",
       "      <td>18</td>\n",
       "      <td>23</td>\n",
       "      <td>SPD</td>\n",
       "      <td>89</td>\n",
       "      <td>11</td>\n",
       "      <td>In den letzten Jahren und Jahrzehnten gab es eine positive Entwicklung.</td>\n",
       "    </tr>\n",
       "    <tr>\n",
       "      <th>715254</th>\n",
       "      <td>818740</td>\n",
       "      <td>18</td>\n",
       "      <td>4</td>\n",
       "      <td>CDU/CSU</td>\n",
       "      <td>20</td>\n",
       "      <td>7</td>\n",
       "      <td>Sie waren zusammengekommen, um gemeinsam zu beten.</td>\n",
       "    </tr>\n",
       "    <tr>\n",
       "      <th>582116</th>\n",
       "      <td>808235</td>\n",
       "      <td>18</td>\n",
       "      <td>6</td>\n",
       "      <td>DIE LINKE.</td>\n",
       "      <td>46</td>\n",
       "      <td>29</td>\n",
       "      <td>Wir als Linke werden - ich hoffe, zusammen mit allen Fraktionen dieses Hauses - immer dabei sein, wenn es darum geht, Rassismus zu bekämpfen und Flüchtlinge in unserem Land zu verteidigen.</td>\n",
       "    </tr>\n",
       "    <tr>\n",
       "      <th>1334480</th>\n",
       "      <td>1018760</td>\n",
       "      <td>19</td>\n",
       "      <td>23</td>\n",
       "      <td>SPD</td>\n",
       "      <td>14</td>\n",
       "      <td>8</td>\n",
       "      <td>Es gibt die Charta von Paris von 1990.</td>\n",
       "    </tr>\n",
       "  </tbody>\n",
       "</table>\n",
       "</div>"
      ],
      "text/plain": [
       "         speeches_id  electoral_term  faction_id abbreviation  sentence_no  \\\n",
       "388891        794137              18           4      CDU/CSU           11   \n",
       "1061575       844483              18          23          SPD           89   \n",
       "715254        818740              18           4      CDU/CSU           20   \n",
       "582116        808235              18           6   DIE LINKE.           46   \n",
       "1334480      1018760              19          23          SPD           14   \n",
       "\n",
       "         sentence_length  \\\n",
       "388891                 8   \n",
       "1061575               11   \n",
       "715254                 7   \n",
       "582116                29   \n",
       "1334480                8   \n",
       "\n",
       "                                                                                                                                                                                             sentence  \n",
       "388891                                                                                                                                  Wir konnten dies glücklicherweise Punkt für Punkt widerlegen.  \n",
       "1061575                                                                                                                       In den letzten Jahren und Jahrzehnten gab es eine positive Entwicklung.  \n",
       "715254                                                                                                                                             Sie waren zusammengekommen, um gemeinsam zu beten.  \n",
       "582116   Wir als Linke werden - ich hoffe, zusammen mit allen Fraktionen dieses Hauses - immer dabei sein, wenn es darum geht, Rassismus zu bekämpfen und Flüchtlinge in unserem Land zu verteidigen.  \n",
       "1334480                                                                                                                                                        Es gibt die Charta von Paris von 1990.  "
      ]
     },
     "execution_count": null,
     "metadata": {},
     "output_type": "execute_result"
    }
   ],
   "source": [
    "sentence_df.sample(5)"
   ]
  },
  {
   "attachments": {},
   "cell_type": "markdown",
   "metadata": {},
   "source": [
    "## Get Popdict Score per Sentence\n",
    "\n",
    "Steps are:\n",
    "\n",
    "1. save sentence_df to temp locations\n",
    "2. call RScript that loads df from temp location and runs Gründl on it\n",
    "3. Rscripts saves result to temp location\n",
    "4. Load result from temp location back into python\n",
    "\n",
    "run_gruendl.R gives back binary results for each sentence. runs for~ 10 min with 4.2 Ghz\n"
   ]
  },
  {
   "cell_type": "code",
   "execution_count": null,
   "metadata": {},
   "outputs": [],
   "source": [
    "# create temp directories and files\n",
    "\n",
    "TMPDIR = src.PATH / \"tmp/gruendl\"\n",
    "TMPDIR.mkdir(exist_ok=True, parents=True)\n",
    "\n",
    "TMPFILE = TMPDIR / \"raw_sents.parquet\"\n",
    "\n",
    "OUTFILE = TMPDIR / \"result.parquet\"\n",
    "\n",
    "sentence_df[[\"speeches_id\", \"sentence_no\", \"sentence\"]].reset_index(drop=True).to_parquet(TMPFILE)\n",
    "\n",
    "GRUENDL_SCRIPT = src.PATH / \"r/run_gruendl.R\""
   ]
  },
  {
   "cell_type": "code",
   "execution_count": null,
   "metadata": {},
   "outputs": [
    {
     "name": "stdout",
     "output_type": "stream",
     "text": [
      "\u001b[?25h\u001b[?25h\u001b[?25h\u001b[?25h\u001b[?25h\u001b[?25h\u001b[?25h[1] \"start popdictR...\"\n",
      "\u001b[?25hThere were 50 or more warnings (use warnings() to see the first 50)\n",
      "\u001b[?25h\u001b[?25h[1] \"saving output...\"\n",
      "\u001b[?25h\u001b[?25h[1] \"done.\"\n",
      "\u001b[?25h\u001b[?25h"
     ]
    }
   ],
   "source": [
    "!Rscript {GRUENDL_SCRIPT} -f {TMPFILE} -o {OUTFILE}"
   ]
  },
  {
   "cell_type": "code",
   "execution_count": null,
   "metadata": {},
   "outputs": [],
   "source": [
    "gruendl_result = pd.read_parquet(OUTFILE)"
   ]
  },
  {
   "cell_type": "code",
   "execution_count": null,
   "metadata": {},
   "outputs": [],
   "source": [
    "# remove temp directory\n",
    "TMPFILE.unlink(missing_ok=True)\n",
    "OUTFILE.unlink(missing_ok=True)\n",
    "if TMPDIR.is_dir():\n",
    "    TMPDIR.rmdir()"
   ]
  },
  {
   "cell_type": "code",
   "execution_count": null,
   "metadata": {},
   "outputs": [
    {
     "data": {
      "text/html": [
       "<div>\n",
       "<style scoped>\n",
       "    .dataframe tbody tr th:only-of-type {\n",
       "        vertical-align: middle;\n",
       "    }\n",
       "\n",
       "    .dataframe tbody tr th {\n",
       "        vertical-align: top;\n",
       "    }\n",
       "\n",
       "    .dataframe thead th {\n",
       "        text-align: right;\n",
       "    }\n",
       "</style>\n",
       "<table border=\"1\" class=\"dataframe\">\n",
       "  <thead>\n",
       "    <tr style=\"text-align: right;\">\n",
       "      <th></th>\n",
       "      <th>speeches_id</th>\n",
       "      <th>sentence_no</th>\n",
       "      <th>dict_gruendl_2020</th>\n",
       "    </tr>\n",
       "  </thead>\n",
       "  <tbody>\n",
       "    <tr>\n",
       "      <th>1112712</th>\n",
       "      <td>1018675</td>\n",
       "      <td>13</td>\n",
       "      <td>0.0</td>\n",
       "    </tr>\n",
       "    <tr>\n",
       "      <th>271501</th>\n",
       "      <td>1059453</td>\n",
       "      <td>28</td>\n",
       "      <td>0.0</td>\n",
       "    </tr>\n",
       "    <tr>\n",
       "      <th>263343</th>\n",
       "      <td>1058516</td>\n",
       "      <td>17</td>\n",
       "      <td>1.0</td>\n",
       "    </tr>\n",
       "    <tr>\n",
       "      <th>980702</th>\n",
       "      <td>1006815</td>\n",
       "      <td>43</td>\n",
       "      <td>1.0</td>\n",
       "    </tr>\n",
       "  </tbody>\n",
       "</table>\n",
       "</div>"
      ],
      "text/plain": [
       "         speeches_id  sentence_no  dict_gruendl_2020\n",
       "1112712      1018675           13                0.0\n",
       "271501       1059453           28                0.0\n",
       "263343       1058516           17                1.0\n",
       "980702       1006815           43                1.0"
      ]
     },
     "execution_count": null,
     "metadata": {},
     "output_type": "execute_result"
    }
   ],
   "source": [
    "gruendl_result.groupby(\"dict_gruendl_2020\").sample(2)"
   ]
  },
  {
   "cell_type": "code",
   "execution_count": null,
   "metadata": {},
   "outputs": [],
   "source": [
    "# merge faction / speech information from df, sentence info from sentence_df and gründl info from\n",
    "# gruendl_result\n",
    "\n",
    "sample_df = pd.merge(sentence_df, gruendl_result, on=[\"speeches_id\", \"sentence_no\"])"
   ]
  },
  {
   "cell_type": "code",
   "execution_count": null,
   "metadata": {},
   "outputs": [
    {
     "data": {
      "text/html": [
       "<div>\n",
       "<style scoped>\n",
       "    .dataframe tbody tr th:only-of-type {\n",
       "        vertical-align: middle;\n",
       "    }\n",
       "\n",
       "    .dataframe tbody tr th {\n",
       "        vertical-align: top;\n",
       "    }\n",
       "\n",
       "    .dataframe thead th {\n",
       "        text-align: right;\n",
       "    }\n",
       "</style>\n",
       "<table border=\"1\" class=\"dataframe\">\n",
       "  <thead>\n",
       "    <tr style=\"text-align: right;\">\n",
       "      <th></th>\n",
       "      <th>speeches_id</th>\n",
       "      <th>electoral_term</th>\n",
       "      <th>faction_id</th>\n",
       "      <th>abbreviation</th>\n",
       "      <th>sentence_no</th>\n",
       "      <th>sentence_length</th>\n",
       "      <th>sentence</th>\n",
       "      <th>dict_gruendl_2020</th>\n",
       "    </tr>\n",
       "  </thead>\n",
       "  <tbody>\n",
       "    <tr>\n",
       "      <th>957531</th>\n",
       "      <td>1004727</td>\n",
       "      <td>19</td>\n",
       "      <td>4</td>\n",
       "      <td>CDU/CSU</td>\n",
       "      <td>4</td>\n",
       "      <td>15</td>\n",
       "      <td>Für Personen, die besonders arbeitsmarktfern sind, ziehen wir als Koalition einen sozialen Arbeitsmarkt in Betracht.</td>\n",
       "      <td>0.0</td>\n",
       "    </tr>\n",
       "    <tr>\n",
       "      <th>419882</th>\n",
       "      <td>803690</td>\n",
       "      <td>18</td>\n",
       "      <td>23</td>\n",
       "      <td>SPD</td>\n",
       "      <td>36</td>\n",
       "      <td>4</td>\n",
       "      <td>Zu Protokoll gegebene Reden</td>\n",
       "      <td>0.0</td>\n",
       "    </tr>\n",
       "    <tr>\n",
       "      <th>216283</th>\n",
       "      <td>1053789</td>\n",
       "      <td>19</td>\n",
       "      <td>23</td>\n",
       "      <td>SPD</td>\n",
       "      <td>28</td>\n",
       "      <td>9</td>\n",
       "      <td>Das will ich Ihnen noch mal ans Herz legen.</td>\n",
       "      <td>0.0</td>\n",
       "    </tr>\n",
       "    <tr>\n",
       "      <th>812611</th>\n",
       "      <td>837812</td>\n",
       "      <td>18</td>\n",
       "      <td>23</td>\n",
       "      <td>SPD</td>\n",
       "      <td>22</td>\n",
       "      <td>23</td>\n",
       "      <td>Wir nehmen 800 Millionen Euro Jahr für Jahr in die Hand, um das Leben der Menschen mit Behinderung und ihrer Familien zu verbessern.</td>\n",
       "      <td>0.0</td>\n",
       "    </tr>\n",
       "    <tr>\n",
       "      <th>540954</th>\n",
       "      <td>813684</td>\n",
       "      <td>18</td>\n",
       "      <td>6</td>\n",
       "      <td>DIE LINKE.</td>\n",
       "      <td>6</td>\n",
       "      <td>15</td>\n",
       "      <td>Will die Bundesregierung eingegangene Kreditverpflichtungen in diesem Punkt nicht erfüllen und damit einen Präzedenzfall schaffen?</td>\n",
       "      <td>0.0</td>\n",
       "    </tr>\n",
       "  </tbody>\n",
       "</table>\n",
       "</div>"
      ],
      "text/plain": [
       "        speeches_id  electoral_term  faction_id abbreviation  sentence_no  \\\n",
       "957531      1004727              19           4      CDU/CSU            4   \n",
       "419882       803690              18          23          SPD           36   \n",
       "216283      1053789              19          23          SPD           28   \n",
       "812611       837812              18          23          SPD           22   \n",
       "540954       813684              18           6   DIE LINKE.            6   \n",
       "\n",
       "        sentence_length  \\\n",
       "957531               15   \n",
       "419882                4   \n",
       "216283                9   \n",
       "812611               23   \n",
       "540954               15   \n",
       "\n",
       "                                                                                                                                    sentence  \\\n",
       "957531                  Für Personen, die besonders arbeitsmarktfern sind, ziehen wir als Koalition einen sozialen Arbeitsmarkt in Betracht.   \n",
       "419882                                                                                                           Zu Protokoll gegebene Reden   \n",
       "216283                                                                                           Das will ich Ihnen noch mal ans Herz legen.   \n",
       "812611  Wir nehmen 800 Millionen Euro Jahr für Jahr in die Hand, um das Leben der Menschen mit Behinderung und ihrer Familien zu verbessern.   \n",
       "540954    Will die Bundesregierung eingegangene Kreditverpflichtungen in diesem Punkt nicht erfüllen und damit einen Präzedenzfall schaffen?   \n",
       "\n",
       "        dict_gruendl_2020  \n",
       "957531                0.0  \n",
       "419882                0.0  \n",
       "216283                0.0  \n",
       "812611                0.0  \n",
       "540954                0.0  "
      ]
     },
     "execution_count": null,
     "metadata": {},
     "output_type": "execute_result"
    }
   ],
   "source": [
    "sample_df.sample(5)"
   ]
  },
  {
   "attachments": {},
   "cell_type": "markdown",
   "metadata": {},
   "source": [
    "# Delete current data"
   ]
  },
  {
   "cell_type": "raw",
   "metadata": {},
   "source": [
    "# careful; deletes all data!\n",
    "bm.Base.metadata.drop_all(bind=engine)"
   ]
  },
  {
   "attachments": {},
   "cell_type": "markdown",
   "metadata": {},
   "source": [
    "# Recreate tables and upload data"
   ]
  },
  {
   "cell_type": "code",
   "execution_count": null,
   "metadata": {},
   "outputs": [],
   "source": [
    "sample_df = pd.read_parquet(src.PATH / \"data/all_sentences.parquet\")"
   ]
  },
  {
   "cell_type": "code",
   "execution_count": null,
   "metadata": {},
   "outputs": [],
   "source": [
    "bm.Base.metadata.create_all(engine)"
   ]
  },
  {
   "cell_type": "code",
   "execution_count": null,
   "metadata": {},
   "outputs": [],
   "source": [
    "sample_df = sample_df.rename(\n",
    "    {\n",
    "        \"sentence\": \"text\",\n",
    "        \"dict_gruendl_2020\": \"pop_dict_score\",\n",
    "    },\n",
    "    axis=1,\n",
    ").drop(\n",
    "    [\"faction_id\", \"abbreviation\", \"electoral_term\"],\n",
    "    axis=1,\n",
    ")"
   ]
  },
  {
   "cell_type": "code",
   "execution_count": null,
   "metadata": {},
   "outputs": [],
   "source": [
    "dicts = sample_df.to_dict(orient=\"records\")"
   ]
  },
  {
   "cell_type": "code",
   "execution_count": null,
   "metadata": {},
   "outputs": [],
   "source": [
    "session.bulk_insert_mappings(bm.Sample, dicts)"
   ]
  },
  {
   "cell_type": "code",
   "execution_count": null,
   "metadata": {},
   "outputs": [],
   "source": [
    "session.commit()"
   ]
  },
  {
   "cell_type": "code",
   "execution_count": null,
   "metadata": {},
   "outputs": [],
   "source": []
  }
 ],
 "metadata": {
  "kernelspec": {
   "display_name": "bert_populism",
   "language": "python",
   "name": "python3"
  },
  "language_info": {
   "codemirror_mode": {
    "name": "ipython",
    "version": 3
   },
   "file_extension": ".py",
   "mimetype": "text/x-python",
   "name": "python",
   "nbconvert_exporter": "python",
   "pygments_lexer": "ipython3",
   "version": "3.10.8 (main, Nov  4 2022, 13:48:29) [GCC 11.2.0]"
  },
  "vscode": {
   "interpreter": {
    "hash": "05b0f58c2bcdc36936de25f1aaac0724cceaad7ddc88039a552f8d696c8fb19b"
   }
  }
 },
 "nbformat": 4,
 "nbformat_minor": 2
}
