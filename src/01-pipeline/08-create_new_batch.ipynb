{
 "cells": [
  {
   "cell_type": "code",
   "execution_count": null,
   "metadata": {
    "tags": []
   },
   "outputs": [],
   "source": [
    "%load_ext autoreload\n",
    "%autoreload 2"
   ]
  },
  {
   "cell_type": "code",
   "execution_count": null,
   "metadata": {
    "tags": []
   },
   "outputs": [],
   "source": [
    "from functools import lru_cache\n",
    "\n",
    "import numpy as np\n",
    "import pandas as pd\n",
    "import torch\n",
    "from sklearn.metrics import classification_report\n",
    "from sqlalchemy import func\n",
    "from sqlalchemy.orm import Query\n",
    "from sqlalchemy.orm import Session\n",
    "from torch.utils.data import DataLoader\n",
    "from torch.utils.data import Dataset\n",
    "from tqdm.auto import tqdm\n",
    "from transformers import AutoTokenizer\n",
    "from transformers import logging\n",
    "\n",
    "import src\n",
    "import src.db.models.bert_data as bm\n",
    "from src.bert.dataset import PBertDataset\n",
    "from src.bert.dataset import strategies"
   ]
  },
  {
   "cell_type": "code",
   "execution_count": null,
   "metadata": {
    "tags": []
   },
   "outputs": [],
   "source": [
    "pd.set_option(\"display.max_colwidth\", 2048)\n",
    "pd.set_option(\"display.max_rows\", 100)"
   ]
  },
  {
   "cell_type": "code",
   "execution_count": null,
   "metadata": {
    "tags": []
   },
   "outputs": [],
   "source": [
    "# set transformers logging v to error\n",
    "logging.set_verbosity_error()\n",
    "\n",
    "engine = src.db.connect.make_engine(\"DB\")\n",
    "\n",
    "tmpdir = src.PATH / \"tmp\"\n",
    "tmpdir.mkdir(exist_ok=True)\n",
    "\n",
    "DEVICE = \"cuda\"\n",
    "\n",
    "LABEL_STRATEGY = strategies.MLPopBinIdeol(output_fmt=\"multi_task\")"
   ]
  },
  {
   "cell_type": "code",
   "execution_count": null,
   "metadata": {
    "tags": []
   },
   "outputs": [],
   "source": [
    "# save model\n",
    "tokenizer = AutoTokenizer.from_pretrained(\"deepset/gbert-large\")\n",
    "model = torch.load(tmpdir / f\"model_v8.4.model\")\n",
    "model = model.eval()"
   ]
  },
  {
   "cell_type": "code",
   "execution_count": null,
   "metadata": {
    "tags": []
   },
   "outputs": [],
   "source": [
    "@lru_cache(maxsize=1)\n",
    "def load_unlabeled_data(engine):\n",
    "    query = (\n",
    "        Query(bm.Sample)\n",
    "        .filter(bm.Sample.used_in_batch == None)\n",
    "        .with_entities(bm.Sample.id, bm.Sample.text)\n",
    "    )\n",
    "\n",
    "    with engine.connect() as conn:\n",
    "        df = pd.read_sql(query.statement, conn)\n",
    "\n",
    "    return df"
   ]
  },
  {
   "cell_type": "code",
   "execution_count": null,
   "metadata": {
    "tags": []
   },
   "outputs": [],
   "source": [
    "class RawDataset(Dataset):\n",
    "    def __init__(self, df):\n",
    "        self.df = df\n",
    "\n",
    "    def __len__(self):\n",
    "        return len(self.df)\n",
    "\n",
    "    def __getitem__(self, idx):\n",
    "        row = self.df.iloc[idx]\n",
    "        return {\"id\": row.id, \"text\": row.text}"
   ]
  },
  {
   "cell_type": "markdown",
   "metadata": {},
   "source": [
    "# find thresholds"
   ]
  },
  {
   "cell_type": "code",
   "execution_count": null,
   "metadata": {
    "tags": []
   },
   "outputs": [],
   "source": [
    "test_data = PBertDataset.from_disk(\n",
    "    src.PATH / \"data/bert/test.csv.zip\", label_strategy=LABEL_STRATEGY\n",
    ")\n",
    "\n",
    "test_loader = DataLoader(\n",
    "    test_data, collate_fn=test_data.create_collate_fn(tokenizer), batch_size=128, shuffle=False\n",
    ")"
   ]
  },
  {
   "cell_type": "code",
   "execution_count": null,
   "metadata": {
    "tags": []
   },
   "outputs": [
    {
     "data": {
      "application/vnd.jupyter.widget-view+json": {
       "model_id": "",
       "version_major": 2,
       "version_minor": 0
      },
      "text/plain": [
       "  0%|          | 0/18 [00:00<?, ?it/s]"
      ]
     },
     "metadata": {},
     "output_type": "display_data"
    }
   ],
   "source": [
    "y_true = []\n",
    "texts = []\n",
    "probas = []\n",
    "\n",
    "with torch.inference_mode():\n",
    "    for batch in tqdm(test_loader, leave=False):\n",
    "        encoding = batch[\"encodings\"].to(DEVICE)\n",
    "        text = batch[\"text\"]\n",
    "        labels = batch[\"vote\"]\n",
    "\n",
    "        proba = model.predict_proba(encoding)\n",
    "\n",
    "        texts.extend(text)\n",
    "        probas.extend(proba)\n",
    "        y_true.extend(labels)"
   ]
  },
  {
   "cell_type": "code",
   "execution_count": null,
   "metadata": {
    "tags": []
   },
   "outputs": [
    {
     "name": "stdout",
     "output_type": "stream",
     "text": [
      "{0: 0.4, 1: 0.6, 2: 0.3}\n"
     ]
    }
   ],
   "source": [
    "thresholds = model.find_thresholds(y_true, probas)\n",
    "print(thresholds)"
   ]
  },
  {
   "cell_type": "code",
   "execution_count": null,
   "metadata": {
    "tags": []
   },
   "outputs": [],
   "source": [
    "y_pred = [model.vote(proba, threshold=thresholds) for proba in probas]"
   ]
  },
  {
   "cell_type": "code",
   "execution_count": null,
   "metadata": {
    "tags": []
   },
   "outputs": [
    {
     "name": "stdout",
     "output_type": "stream",
     "text": [
      "              precision    recall  f1-score   support\n",
      "\n",
      "         pop       0.58      0.70      0.64       337\n",
      "        left       0.56      0.60      0.58        47\n",
      "       right       0.62      0.72      0.67        36\n",
      "\n",
      "   micro avg       0.58      0.69      0.63       420\n",
      "   macro avg       0.59      0.67      0.63       420\n",
      "weighted avg       0.58      0.69      0.63       420\n",
      " samples avg       0.11      0.10      0.10       420\n",
      "\n"
     ]
    }
   ],
   "source": [
    "print(classification_report(y_true, y_pred, zero_division=0, target_names=LABEL_STRATEGY.labels))"
   ]
  },
  {
   "cell_type": "code",
   "execution_count": null,
   "metadata": {
    "tags": []
   },
   "outputs": [],
   "source": [
    "y_pred_constrict = []\n",
    "for pred in y_pred:\n",
    "    if pred[0] == 0:\n",
    "        pred[1:] = [0, 0]\n",
    "    y_pred_constrict.append(pred)\n",
    "\n",
    "y_true_constrict = []\n",
    "for pred in y_true:\n",
    "    pred = list(pred)\n",
    "    if pred[0] == 0:\n",
    "        pred[1:] = [0, 0]\n",
    "    y_true_constrict.append(pred)"
   ]
  },
  {
   "cell_type": "code",
   "execution_count": null,
   "metadata": {
    "tags": []
   },
   "outputs": [
    {
     "name": "stdout",
     "output_type": "stream",
     "text": [
      "              precision    recall  f1-score   support\n",
      "\n",
      "         pop       0.58      0.70      0.64       337\n",
      "        left       0.53      0.59      0.56        44\n",
      "       right       0.64      0.71      0.68        35\n",
      "\n",
      "   micro avg       0.58      0.69      0.63       416\n",
      "   macro avg       0.58      0.67      0.62       416\n",
      "weighted avg       0.58      0.69      0.63       416\n",
      " samples avg       0.11      0.10      0.10       416\n",
      "\n"
     ]
    }
   ],
   "source": [
    "print(\n",
    "    classification_report(\n",
    "        y_true_constrict,\n",
    "        y_pred_constrict,\n",
    "        zero_division=0,\n",
    "        target_names=LABEL_STRATEGY.labels,\n",
    "    )\n",
    ")"
   ]
  },
  {
   "cell_type": "markdown",
   "metadata": {},
   "source": [
    "# get new samples\n"
   ]
  },
  {
   "cell_type": "code",
   "execution_count": null,
   "metadata": {
    "tags": []
   },
   "outputs": [],
   "source": [
    "# prediction takes forever, therefore sampling a bit beforehand...\n",
    "X_pool = load_unlabeled_data(engine).sample(400_000)"
   ]
  },
  {
   "cell_type": "code",
   "execution_count": null,
   "metadata": {
    "tags": []
   },
   "outputs": [],
   "source": [
    "dataset = RawDataset(X_pool)\n",
    "\n",
    "\n",
    "def collate_fn(batch):\n",
    "    text = [d[\"text\"] for d in batch]\n",
    "    ids = [d[\"id\"] for d in batch]\n",
    "    encodings = tokenizer(text, padding=True, return_tensors=\"pt\")\n",
    "\n",
    "    return {\"id\": ids, \"text\": text, \"encodings\": encodings}\n",
    "\n",
    "\n",
    "data_loader = DataLoader(dataset, batch_size=32, shuffle=False, collate_fn=collate_fn)"
   ]
  },
  {
   "cell_type": "code",
   "execution_count": null,
   "metadata": {
    "tags": []
   },
   "outputs": [
    {
     "data": {
      "application/vnd.jupyter.widget-view+json": {
       "model_id": "",
       "version_major": 2,
       "version_minor": 0
      },
      "text/plain": [
       "  0%|          | 0/6250 [00:00<?, ?it/s]"
      ]
     },
     "metadata": {},
     "output_type": "display_data"
    }
   ],
   "source": [
    "ids = []\n",
    "texts = []\n",
    "probas = []\n",
    "\n",
    "with torch.inference_mode():\n",
    "    for batch in tqdm(data_loader, leave=False):\n",
    "        encoding = batch[\"encodings\"].to(DEVICE)\n",
    "        text = batch[\"text\"]\n",
    "        id_ = batch[\"id\"]\n",
    "\n",
    "        proba = model.predict_proba(encoding)\n",
    "        proba = [np.mean(p, axis=0) for p in proba]\n",
    "\n",
    "        ids.extend(id_)\n",
    "        texts.extend(text)\n",
    "        probas.extend(proba)"
   ]
  },
  {
   "cell_type": "code",
   "execution_count": null,
   "metadata": {
    "tags": []
   },
   "outputs": [],
   "source": [
    "df = pd.concat(\n",
    "    [\n",
    "        pd.DataFrame({\"id\": ids, \"text\": texts}),\n",
    "        pd.DataFrame(np.array(probas), columns=LABEL_STRATEGY.labels),\n",
    "    ],\n",
    "    axis=1,\n",
    ")"
   ]
  },
  {
   "cell_type": "code",
   "execution_count": null,
   "metadata": {
    "tags": []
   },
   "outputs": [
    {
     "data": {
      "text/plain": [
       "2944"
      ]
     },
     "execution_count": null,
     "metadata": {},
     "output_type": "execute_result"
    }
   ],
   "source": [
    "len(df[df.left > 0.15])"
   ]
  },
  {
   "cell_type": "code",
   "execution_count": null,
   "metadata": {
    "tags": []
   },
   "outputs": [],
   "source": [
    "df = df.sort_values(\"left\", ascending=True)"
   ]
  },
  {
   "cell_type": "code",
   "execution_count": null,
   "metadata": {
    "tags": []
   },
   "outputs": [
    {
     "data": {
      "text/html": [
       "<div>\n",
       "<style scoped>\n",
       "    .dataframe tbody tr th:only-of-type {\n",
       "        vertical-align: middle;\n",
       "    }\n",
       "\n",
       "    .dataframe tbody tr th {\n",
       "        vertical-align: top;\n",
       "    }\n",
       "\n",
       "    .dataframe thead th {\n",
       "        text-align: right;\n",
       "    }\n",
       "</style>\n",
       "<table border=\"1\" class=\"dataframe\">\n",
       "  <thead>\n",
       "    <tr style=\"text-align: right;\">\n",
       "      <th></th>\n",
       "      <th>id</th>\n",
       "      <th>text</th>\n",
       "      <th>pop</th>\n",
       "      <th>left</th>\n",
       "      <th>right</th>\n",
       "    </tr>\n",
       "  </thead>\n",
       "  <tbody>\n",
       "    <tr>\n",
       "      <th>84598</th>\n",
       "      <td>1051119</td>\n",
       "      <td>Ein besseres Beispiel für eine kompetente, überzeugende Sacharbeit der AfD kann es gar nicht geben.</td>\n",
       "      <td>0.042575</td>\n",
       "      <td>0.002275</td>\n",
       "      <td>0.003405</td>\n",
       "    </tr>\n",
       "    <tr>\n",
       "      <th>70549</th>\n",
       "      <td>906527</td>\n",
       "      <td>Sie sollten sich auch beim Beschimpfen anderer Parteien zurückhalten.</td>\n",
       "      <td>0.021509</td>\n",
       "      <td>0.002277</td>\n",
       "      <td>0.002582</td>\n",
       "    </tr>\n",
       "    <tr>\n",
       "      <th>272722</th>\n",
       "      <td>675347</td>\n",
       "      <td>Wir müssen uns noch stärker für ein funktionierendes Gemeinwesen einsetzen.</td>\n",
       "      <td>0.057713</td>\n",
       "      <td>0.002283</td>\n",
       "      <td>0.003826</td>\n",
       "    </tr>\n",
       "    <tr>\n",
       "      <th>152116</th>\n",
       "      <td>1254361</td>\n",
       "      <td>Kolleginnen und Kollegen aus dem Gesundheitsausschuss, wie Sie wissen, ist diese Entwicklung keineswegs ein Hirngespinst der Linken.</td>\n",
       "      <td>0.027731</td>\n",
       "      <td>0.002293</td>\n",
       "      <td>0.004423</td>\n",
       "    </tr>\n",
       "    <tr>\n",
       "      <th>125955</th>\n",
       "      <td>921458</td>\n",
       "      <td>Ich habe Sie, werte Kollegen von der AfD, überwiegend breit grinsend sitzen sehen.</td>\n",
       "      <td>0.024780</td>\n",
       "      <td>0.002296</td>\n",
       "      <td>0.003070</td>\n",
       "    </tr>\n",
       "  </tbody>\n",
       "</table>\n",
       "</div>"
      ],
      "text/plain": [
       "             id  \\\n",
       "84598   1051119   \n",
       "70549    906527   \n",
       "272722   675347   \n",
       "152116  1254361   \n",
       "125955   921458   \n",
       "\n",
       "                                                                                                                                        text  \\\n",
       "84598                                    Ein besseres Beispiel für eine kompetente, überzeugende Sacharbeit der AfD kann es gar nicht geben.   \n",
       "70549                                                                  Sie sollten sich auch beim Beschimpfen anderer Parteien zurückhalten.   \n",
       "272722                                                           Wir müssen uns noch stärker für ein funktionierendes Gemeinwesen einsetzen.   \n",
       "152116  Kolleginnen und Kollegen aus dem Gesundheitsausschuss, wie Sie wissen, ist diese Entwicklung keineswegs ein Hirngespinst der Linken.   \n",
       "125955                                                    Ich habe Sie, werte Kollegen von der AfD, überwiegend breit grinsend sitzen sehen.   \n",
       "\n",
       "             pop      left     right  \n",
       "84598   0.042575  0.002275  0.003405  \n",
       "70549   0.021509  0.002277  0.002582  \n",
       "272722  0.057713  0.002283  0.003826  \n",
       "152116  0.027731  0.002293  0.004423  \n",
       "125955  0.024780  0.002296  0.003070  "
      ]
     },
     "execution_count": null,
     "metadata": {},
     "output_type": "execute_result"
    }
   ],
   "source": [
    "df.head()"
   ]
  },
  {
   "cell_type": "code",
   "execution_count": null,
   "metadata": {
    "tags": []
   },
   "outputs": [
    {
     "data": {
      "text/html": [
       "<div>\n",
       "<style scoped>\n",
       "    .dataframe tbody tr th:only-of-type {\n",
       "        vertical-align: middle;\n",
       "    }\n",
       "\n",
       "    .dataframe tbody tr th {\n",
       "        vertical-align: top;\n",
       "    }\n",
       "\n",
       "    .dataframe thead th {\n",
       "        text-align: right;\n",
       "    }\n",
       "</style>\n",
       "<table border=\"1\" class=\"dataframe\">\n",
       "  <thead>\n",
       "    <tr style=\"text-align: right;\">\n",
       "      <th></th>\n",
       "      <th>id</th>\n",
       "      <th>text</th>\n",
       "      <th>pop</th>\n",
       "      <th>left</th>\n",
       "      <th>right</th>\n",
       "    </tr>\n",
       "  </thead>\n",
       "  <tbody>\n",
       "    <tr>\n",
       "      <th>335091</th>\n",
       "      <td>602753</td>\n",
       "      <td>Wir kämpfen gegen die Menschen, die für viele Tausend Euros und Dollars die Ärmsten in Lastwagen sperren und über die Grenzen bringen oder Menschen auf Booten über das Mittelmeer schicken.</td>\n",
       "      <td>0.375506</td>\n",
       "      <td>0.311937</td>\n",
       "      <td>0.017949</td>\n",
       "    </tr>\n",
       "    <tr>\n",
       "      <th>63346</th>\n",
       "      <td>776220</td>\n",
       "      <td>Die sozialen Sicherungssysteme müssen Armut von Kindern und Jugendlichen ausschließen.</td>\n",
       "      <td>0.275237</td>\n",
       "      <td>0.318970</td>\n",
       "      <td>0.011145</td>\n",
       "    </tr>\n",
       "    <tr>\n",
       "      <th>390803</th>\n",
       "      <td>1097953</td>\n",
       "      <td>Gegen solche privaten Konzerngerichte sind viele Menschen in Europa bei Investitionsabkommen wie TTIP oder CETA auf die Straße gegangen.</td>\n",
       "      <td>0.323756</td>\n",
       "      <td>0.316602</td>\n",
       "      <td>0.013021</td>\n",
       "    </tr>\n",
       "    <tr>\n",
       "      <th>63244</th>\n",
       "      <td>256147</td>\n",
       "      <td>Alle diese Krisen haben eine gemeinsame Ursache, nämlich ein System der ruinösen Konkurrenz auf Kosten von Mensch und Natur.</td>\n",
       "      <td>0.392722</td>\n",
       "      <td>0.307234</td>\n",
       "      <td>0.010780</td>\n",
       "    </tr>\n",
       "    <tr>\n",
       "      <th>23453</th>\n",
       "      <td>78369</td>\n",
       "      <td>Es geht vor allem um die Menschen, die ausgebeutet werden, und deshalb muss ganz grundsätzlich das System, das Geschäftsmodell Fleischbranche, kritisiert werden.</td>\n",
       "      <td>0.365471</td>\n",
       "      <td>0.303540</td>\n",
       "      <td>0.006469</td>\n",
       "    </tr>\n",
       "    <tr>\n",
       "      <th>200415</th>\n",
       "      <td>1050323</td>\n",
       "      <td>Die Leute sollen auch im Jobcenter die Solidarität der Gesellschaft erfahren, gerade die, die lange draußen sind.</td>\n",
       "      <td>0.316769</td>\n",
       "      <td>0.310225</td>\n",
       "      <td>0.010979</td>\n",
       "    </tr>\n",
       "    <tr>\n",
       "      <th>176000</th>\n",
       "      <td>634602</td>\n",
       "      <td>Es ist verkommen, dass eine Industrie und die Politik Grenzwerte nicht ernst nehmen und so tun, als ob man sie nicht einhalten müsste.</td>\n",
       "      <td>0.491772</td>\n",
       "      <td>0.310904</td>\n",
       "      <td>0.005109</td>\n",
       "    </tr>\n",
       "    <tr>\n",
       "      <th>46906</th>\n",
       "      <td>1107758</td>\n",
       "      <td>Wenn es beim Kindergeld überhaupt ein Thema gäbe, über das in diesem Hause dringend geredet und bei dem auch endlich mal gehandelt werden müsste, dann das, dass die Ärmsten und Bedürftigsten, die bisher von dieser Leistung ausgeschlossen sind, endlich in den Genuss der Leistung kommen.</td>\n",
       "      <td>0.272386</td>\n",
       "      <td>0.319198</td>\n",
       "      <td>0.012868</td>\n",
       "    </tr>\n",
       "    <tr>\n",
       "      <th>334577</th>\n",
       "      <td>1127065</td>\n",
       "      <td>Die Deutsche Umwelthilfe hingegen nutzt den Rechtsstaat einfach nur aus und beschmutzt nebenbei auch noch die seriöse Arbeit mancher sehr guter Umweltverbände.</td>\n",
       "      <td>0.804843</td>\n",
       "      <td>0.300303</td>\n",
       "      <td>0.036129</td>\n",
       "    </tr>\n",
       "    <tr>\n",
       "      <th>347874</th>\n",
       "      <td>463354</td>\n",
       "      <td>Jeder hat eine faire Chance verdient, auch Menschen mit Behinderung.</td>\n",
       "      <td>0.256635</td>\n",
       "      <td>0.319026</td>\n",
       "      <td>0.013598</td>\n",
       "    </tr>\n",
       "  </tbody>\n",
       "</table>\n",
       "</div>"
      ],
      "text/plain": [
       "             id  \\\n",
       "335091   602753   \n",
       "63346    776220   \n",
       "390803  1097953   \n",
       "63244    256147   \n",
       "23453     78369   \n",
       "200415  1050323   \n",
       "176000   634602   \n",
       "46906   1107758   \n",
       "334577  1127065   \n",
       "347874   463354   \n",
       "\n",
       "                                                                                                                                                                                                                                                                                                  text  \\\n",
       "335091                                                                                                    Wir kämpfen gegen die Menschen, die für viele Tausend Euros und Dollars die Ärmsten in Lastwagen sperren und über die Grenzen bringen oder Menschen auf Booten über das Mittelmeer schicken.   \n",
       "63346                                                                                                                                                                                                           Die sozialen Sicherungssysteme müssen Armut von Kindern und Jugendlichen ausschließen.   \n",
       "390803                                                                                                                                                        Gegen solche privaten Konzerngerichte sind viele Menschen in Europa bei Investitionsabkommen wie TTIP oder CETA auf die Straße gegangen.   \n",
       "63244                                                                                                                                                                     Alle diese Krisen haben eine gemeinsame Ursache, nämlich ein System der ruinösen Konkurrenz auf Kosten von Mensch und Natur.   \n",
       "23453                                                                                                                                Es geht vor allem um die Menschen, die ausgebeutet werden, und deshalb muss ganz grundsätzlich das System, das Geschäftsmodell Fleischbranche, kritisiert werden.   \n",
       "200415                                                                                                                                                                               Die Leute sollen auch im Jobcenter die Solidarität der Gesellschaft erfahren, gerade die, die lange draußen sind.   \n",
       "176000                                                                                                                                                          Es ist verkommen, dass eine Industrie und die Politik Grenzwerte nicht ernst nehmen und so tun, als ob man sie nicht einhalten müsste.   \n",
       "46906   Wenn es beim Kindergeld überhaupt ein Thema gäbe, über das in diesem Hause dringend geredet und bei dem auch endlich mal gehandelt werden müsste, dann das, dass die Ärmsten und Bedürftigsten, die bisher von dieser Leistung ausgeschlossen sind, endlich in den Genuss der Leistung kommen.   \n",
       "334577                                                                                                                                 Die Deutsche Umwelthilfe hingegen nutzt den Rechtsstaat einfach nur aus und beschmutzt nebenbei auch noch die seriöse Arbeit mancher sehr guter Umweltverbände.   \n",
       "347874                                                                                                                                                                                                                            Jeder hat eine faire Chance verdient, auch Menschen mit Behinderung.   \n",
       "\n",
       "             pop      left     right  \n",
       "335091  0.375506  0.311937  0.017949  \n",
       "63346   0.275237  0.318970  0.011145  \n",
       "390803  0.323756  0.316602  0.013021  \n",
       "63244   0.392722  0.307234  0.010780  \n",
       "23453   0.365471  0.303540  0.006469  \n",
       "200415  0.316769  0.310225  0.010979  \n",
       "176000  0.491772  0.310904  0.005109  \n",
       "46906   0.272386  0.319198  0.012868  \n",
       "334577  0.804843  0.300303  0.036129  \n",
       "347874  0.256635  0.319026  0.013598  "
      ]
     },
     "execution_count": null,
     "metadata": {},
     "output_type": "execute_result"
    }
   ],
   "source": [
    "df[df.left.between(0.30, 0.32)].sample(10)"
   ]
  },
  {
   "cell_type": "code",
   "execution_count": null,
   "metadata": {
    "tags": []
   },
   "outputs": [],
   "source": [
    "right_sample = df[df[\"pop\"].between(0.3, 0.99) & df.right.between(0.05, 0.45)].sample(650)"
   ]
  },
  {
   "cell_type": "code",
   "execution_count": null,
   "metadata": {
    "tags": []
   },
   "outputs": [],
   "source": [
    "left_sample = df[df[\"pop\"].between(0.4, 0.90) & df.left.between(0.2, 0.60)].sample(650)"
   ]
  },
  {
   "cell_type": "code",
   "execution_count": null,
   "metadata": {
    "tags": []
   },
   "outputs": [],
   "source": [
    "random_pop_sample = df[df[\"pop\"].between(0.03, 0.3)].sample(200)"
   ]
  },
  {
   "cell_type": "markdown",
   "metadata": {},
   "source": [
    "## select cases"
   ]
  },
  {
   "cell_type": "code",
   "execution_count": null,
   "metadata": {
    "tags": []
   },
   "outputs": [],
   "source": [
    "selection = pd.concat([right_sample, left_sample, random_pop_sample])"
   ]
  },
  {
   "cell_type": "code",
   "execution_count": null,
   "metadata": {
    "tags": []
   },
   "outputs": [
    {
     "data": {
      "text/plain": [
       "(1500, 5)"
      ]
     },
     "execution_count": null,
     "metadata": {},
     "output_type": "execute_result"
    }
   ],
   "source": [
    "selection.shape"
   ]
  },
  {
   "cell_type": "code",
   "execution_count": null,
   "metadata": {
    "tags": []
   },
   "outputs": [],
   "source": [
    "selection = selection.drop_duplicates()"
   ]
  },
  {
   "cell_type": "code",
   "execution_count": null,
   "metadata": {
    "tags": []
   },
   "outputs": [
    {
     "data": {
      "text/plain": [
       "(1490, 5)"
      ]
     },
     "execution_count": null,
     "metadata": {},
     "output_type": "execute_result"
    }
   ],
   "source": [
    "selection.shape"
   ]
  },
  {
   "cell_type": "markdown",
   "metadata": {},
   "source": [
    "## load gründl cuz it's funny\n"
   ]
  },
  {
   "cell_type": "code",
   "execution_count": null,
   "metadata": {
    "tags": []
   },
   "outputs": [],
   "source": [
    "with Session(engine) as s:\n",
    "    query = (\n",
    "        s.query(bm.Sample)\n",
    "        .filter(bm.Sample.id.in_(selection.id.tolist()))\n",
    "        .with_entities(bm.Sample.id, bm.Sample.pop_dict_score)\n",
    "    )\n",
    "\n",
    "with engine.connect() as conn:\n",
    "    gruendl = pd.read_sql_query(query.statement, conn)\n",
    "gruendl = pd.merge(selection, gruendl, on=\"id\")"
   ]
  },
  {
   "cell_type": "code",
   "execution_count": null,
   "metadata": {
    "tags": []
   },
   "outputs": [
    {
     "data": {
      "text/plain": [
       "pop_dict_score\n",
       "False    1403\n",
       "True       87\n",
       "Name: id, dtype: int64"
      ]
     },
     "execution_count": null,
     "metadata": {},
     "output_type": "execute_result"
    }
   ],
   "source": [
    "gruendl.groupby(\"pop_dict_score\")[\"id\"].count()"
   ]
  },
  {
   "cell_type": "markdown",
   "metadata": {
    "tags": []
   },
   "source": [
    "# Export new batch"
   ]
  },
  {
   "cell_type": "code",
   "execution_count": null,
   "metadata": {
    "tags": []
   },
   "outputs": [
    {
     "name": "stdout",
     "output_type": "stream",
     "text": [
      "8\n"
     ]
    }
   ],
   "source": [
    "with Session(engine) as s:\n",
    "    max_batch = s.query(bm.Sample).with_entities(func.max(bm.Sample.used_in_batch)).scalar()\n",
    "    print(max_batch)"
   ]
  },
  {
   "cell_type": "code",
   "execution_count": null,
   "metadata": {
    "tags": []
   },
   "outputs": [
    {
     "data": {
      "text/plain": [
       "9"
      ]
     },
     "execution_count": null,
     "metadata": {},
     "output_type": "execute_result"
    }
   ],
   "source": [
    "new_batch = max_batch + 1\n",
    "new_batch"
   ]
  },
  {
   "cell_type": "code",
   "execution_count": null,
   "metadata": {
    "tags": []
   },
   "outputs": [],
   "source": [
    "selection.to_parquet(tmpdir / f\"active_learning_batch_{new_batch}.parquet\")"
   ]
  },
  {
   "cell_type": "code",
   "execution_count": null,
   "metadata": {
    "tags": []
   },
   "outputs": [],
   "source": [
    "with Session(engine) as s:\n",
    "    s.query(bm.Sample).filter(bm.Sample.id.in_(selection[\"id\"])).update(\n",
    "        {\"used_in_batch\": new_batch}\n",
    "    )\n",
    "    s.commit()"
   ]
  },
  {
   "cell_type": "code",
   "execution_count": null,
   "metadata": {
    "tags": []
   },
   "outputs": [],
   "source": [
    "selection = selection.sample(frac=1)"
   ]
  },
  {
   "cell_type": "code",
   "execution_count": null,
   "metadata": {
    "tags": []
   },
   "outputs": [
    {
     "data": {
      "text/plain": [
       "(1490, 5)"
      ]
     },
     "execution_count": null,
     "metadata": {},
     "output_type": "execute_result"
    }
   ],
   "source": [
    "selection.shape"
   ]
  },
  {
   "cell_type": "code",
   "execution_count": null,
   "metadata": {
    "tags": []
   },
   "outputs": [],
   "source": [
    "selection[\"label\"] = \"\"\n",
    "with open(tmpdir / f\"active_learning_batch_{new_batch}.jsonl\", \"w\", encoding=\"utf-8\") as file:\n",
    "    selection[[\"text\", \"label\", \"id\"]].to_json(\n",
    "        file, orient=\"records\", lines=True, force_ascii=False\n",
    "    )"
   ]
  },
  {
   "cell_type": "code",
   "execution_count": null,
   "metadata": {
    "tags": []
   },
   "outputs": [
    {
     "name": "stdout",
     "output_type": "stream",
     "text": [
      "...done!\n"
     ]
    }
   ],
   "source": [
    "print(\"...done!\")"
   ]
  }
 ],
 "metadata": {
  "kernelspec": {
   "display_name": "bert_populism",
   "language": "python",
   "name": "bert_populism"
  },
  "language_info": {
   "codemirror_mode": {
    "name": "ipython",
    "version": 3
   },
   "file_extension": ".py",
   "mimetype": "text/x-python",
   "name": "python",
   "nbconvert_exporter": "python",
   "pygments_lexer": "ipython3",
   "version": "3.9.1"
  }
 },
 "nbformat": 4,
 "nbformat_minor": 4
}
