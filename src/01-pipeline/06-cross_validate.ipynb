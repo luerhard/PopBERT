{
 "cells": [
  {
   "cell_type": "code",
   "execution_count": null,
   "id": "714fe568",
   "metadata": {
    "papermill": {
     "duration": 17.437996,
     "end_time": "2023-07-13T12:39:26.855357",
     "exception": false,
     "start_time": "2023-07-13T12:39:09.417361",
     "status": "completed"
    },
    "tags": []
   },
   "outputs": [],
   "source": [
    "from collections import defaultdict\n",
    "\n",
    "import numpy as np\n",
    "import pandas as pd\n",
    "import torch\n",
    "from sklearn.metrics import classification_report\n",
    "from sklearn.model_selection import KFold\n",
    "from torch.utils.data import DataLoader\n",
    "from torch.utils.data import SubsetRandomSampler\n",
    "from transformers import AutoTokenizer\n",
    "from transformers import logging\n",
    "\n",
    "import src\n",
    "from src.bert import module\n",
    "from src.bert import training\n",
    "from src.bert.dataset import PBertDataset\n",
    "from src.bert.dataset import strategies"
   ]
  },
  {
   "cell_type": "markdown",
   "id": "0a250756",
   "metadata": {
    "papermill": {
     "duration": 0.001493,
     "end_time": "2023-07-13T12:39:26.861665",
     "exception": false,
     "start_time": "2023-07-13T12:39:26.860172",
     "status": "completed"
    },
    "tags": []
   },
   "source": [
    "Best Youden thresh: {0: 0.5013, 1: 0.0728, 2: 0.0852, 3: 0.0292}\n",
    "Best BF thresh {0: 0.5, 1: 0.5, 2: 0.45, 3: 0.23}\n",
    "epoch=13 train_loss=0.0351 eval_loss=0.1581 score=0.7092\n",
    "{0: 0.5013018, 1: 0.5017193, 2: 0.42243505, 3: 0.38281676}"
   ]
  },
  {
   "cell_type": "code",
   "execution_count": null,
   "id": "83ad77e4",
   "metadata": {
    "papermill": {
     "duration": 0.006142,
     "end_time": "2023-07-13T12:39:26.869109",
     "exception": false,
     "start_time": "2023-07-13T12:39:26.862967",
     "status": "completed"
    },
    "tags": []
   },
   "outputs": [],
   "source": [
    "logging.set_verbosity_error()\n",
    "\n",
    "# model hyper-parameters\n",
    "LR = 4e-6\n",
    "N_EPOCHS = 13\n",
    "BATCH_SIZE = 16\n",
    "\n",
    "TOKENIZER = \"deepset/gbert-large\"\n",
    "BASE_MODEL = \"deepset/gbert-large\"\n",
    "\n",
    "STRATEGY = strategies.MLMin1PopIdeol(output_fmt=\"single_task\")\n",
    "\n",
    "DEVICE = \"cuda\"\n",
    "\n",
    "TRESHOLDS = {0: 0.5013018, 1: 0.5017193, 2: 0.42243505, 3: 0.38281676}"
   ]
  },
  {
   "cell_type": "code",
   "execution_count": null,
   "id": "7d8e75b3",
   "metadata": {
    "papermill": {
     "duration": 0.885759,
     "end_time": "2023-07-13T12:39:27.756197",
     "exception": false,
     "start_time": "2023-07-13T12:39:26.870438",
     "status": "completed"
    },
    "tags": []
   },
   "outputs": [],
   "source": [
    "dataset = PBertDataset.from_disk(src.PATH / \"data/bert/dataset.csv.zip\", label_strategy=STRATEGY)"
   ]
  },
  {
   "cell_type": "code",
   "execution_count": null,
   "id": "be9c0ebc",
   "metadata": {
    "papermill": {
     "duration": 0.007451,
     "end_time": "2023-07-13T12:39:27.765389",
     "exception": false,
     "start_time": "2023-07-13T12:39:27.757938",
     "status": "completed"
    },
    "tags": []
   },
   "outputs": [
    {
     "data": {
      "text/plain": [
       "8795"
      ]
     },
     "execution_count": null,
     "metadata": {},
     "output_type": "execute_result"
    }
   ],
   "source": [
    "len(dataset)"
   ]
  },
  {
   "cell_type": "code",
   "execution_count": null,
   "id": "2ad7d16c",
   "metadata": {
    "papermill": {
     "duration": 0.494942,
     "end_time": "2023-07-13T12:39:28.261846",
     "exception": false,
     "start_time": "2023-07-13T12:39:27.766904",
     "status": "completed"
    },
    "tags": []
   },
   "outputs": [],
   "source": [
    "tokenizer = AutoTokenizer.from_pretrained(TOKENIZER)\n",
    "collate_fn = dataset.create_collate_fn(tokenizer)"
   ]
  },
  {
   "cell_type": "code",
   "execution_count": null,
   "id": "ef3b417d",
   "metadata": {
    "papermill": {
     "duration": 6690.369429,
     "end_time": "2023-07-13T14:30:58.633203",
     "exception": false,
     "start_time": "2023-07-13T12:39:28.263774",
     "status": "completed"
    },
    "tags": []
   },
   "outputs": [
    {
     "name": "stdout",
     "output_type": "stream",
     "text": [
      "##################################################\n",
      "fold=1\n"
     ]
    },
    {
     "name": "stdout",
     "output_type": "stream",
     "text": [
      "Best BF thresh {0: 0.65, 1: 0.25, 2: 0.32, 3: 0.23}\n",
      "epoch=1 train_loss=0.4465 eval_loss=0.3465 score=0.3847\n"
     ]
    },
    {
     "name": "stdout",
     "output_type": "stream",
     "text": [
      "Best BF thresh {0: 0.45, 1: 0.4, 2: 0.34, 3: 0.18}\n",
      "epoch=2 train_loss=0.2749 eval_loss=0.2499 score=0.5457\n"
     ]
    },
    {
     "name": "stdout",
     "output_type": "stream",
     "text": [
      "Best BF thresh {0: 0.44, 1: 0.44, 2: 0.44, 3: 0.17}\n",
      "epoch=3 train_loss=0.2413 eval_loss=0.1475 score=0.6354\n"
     ]
    },
    {
     "name": "stdout",
     "output_type": "stream",
     "text": [
      "Best BF thresh {0: 0.52, 1: 0.37, 2: 0.24, 3: 0.24}\n",
      "epoch=4 train_loss=0.1540 eval_loss=0.2180 score=0.6863\n"
     ]
    },
    {
     "name": "stdout",
     "output_type": "stream",
     "text": [
      "Best BF thresh {0: 0.3, 1: 0.27, 2: 0.21, 3: 0.22}\n",
      "epoch=5 train_loss=0.1760 eval_loss=0.2602 score=0.6832\n"
     ]
    },
    {
     "name": "stdout",
     "output_type": "stream",
     "text": [
      "Best BF thresh {0: 0.48, 1: 0.36, 2: 0.55, 3: 0.17}\n",
      "epoch=6 train_loss=0.2396 eval_loss=0.2021 score=0.7115\n"
     ]
    },
    {
     "name": "stdout",
     "output_type": "stream",
     "text": [
      "Best BF thresh {0: 0.48, 1: 0.42, 2: 0.65, 3: 0.24}\n",
      "epoch=7 train_loss=0.0629 eval_loss=0.2082 score=0.7247\n"
     ]
    },
    {
     "name": "stdout",
     "output_type": "stream",
     "text": [
      "Best BF thresh {0: 0.8200000000000001, 1: 0.14, 2: 0.31, 3: 0.47000000000000003}\n",
      "epoch=8 train_loss=0.3206 eval_loss=0.2071 score=0.7038\n"
     ]
    },
    {
     "name": "stdout",
     "output_type": "stream",
     "text": [
      "Best BF thresh {0: 0.41000000000000003, 1: 0.28, 2: 0.27, 3: 0.27}\n",
      "epoch=9 train_loss=0.0946 eval_loss=0.2505 score=0.7128\n"
     ]
    },
    {
     "name": "stdout",
     "output_type": "stream",
     "text": [
      "Best BF thresh {0: 0.76, 1: 0.35000000000000003, 2: 0.54, 3: 0.48}\n",
      "epoch=10 train_loss=0.1928 eval_loss=0.1601 score=0.7455\n"
     ]
    },
    {
     "name": "stdout",
     "output_type": "stream",
     "text": [
      "Best BF thresh {0: 0.39, 1: 0.24, 2: 0.33, 3: 0.19}\n",
      "epoch=11 train_loss=0.1317 eval_loss=0.2162 score=0.7276\n"
     ]
    },
    {
     "name": "stdout",
     "output_type": "stream",
     "text": [
      "Best BF thresh {0: 0.43, 1: 0.2, 2: 0.44, 3: 0.21}\n",
      "epoch=12 train_loss=0.1144 eval_loss=0.1189 score=0.7203\n"
     ]
    },
    {
     "name": "stdout",
     "output_type": "stream",
     "text": [
      "Best BF thresh {0: 0.73, 1: 0.47000000000000003, 2: 0.52, 3: 0.22}\n",
      "epoch=13 train_loss=0.0250 eval_loss=0.4163 score=0.7418\n"
     ]
    },
    {
     "name": "stdout",
     "output_type": "stream",
     "text": [
      "THRESH .5\n",
      "              precision    recall  f1-score   support\n",
      "\n",
      "       elite       0.79      0.88      0.84       641\n",
      "       centr       0.66      0.77      0.71       316\n",
      "        left       0.72      0.77      0.74       281\n",
      "       right       0.70      0.66      0.68       177\n",
      "\n",
      "   micro avg       0.74      0.81      0.77      1415\n",
      "   macro avg       0.72      0.77      0.74      1415\n",
      "weighted avg       0.74      0.81      0.77      1415\n",
      " samples avg       0.40      0.40      0.39      1415\n",
      "\n",
      "\n",
      "THRESH DICT\n",
      "              precision    recall  f1-score   support\n",
      "\n",
      "       elite       0.79      0.88      0.84       641\n",
      "       centr       0.66      0.77      0.71       316\n",
      "        left       0.69      0.77      0.73       281\n",
      "       right       0.67      0.69      0.68       177\n",
      "\n",
      "   micro avg       0.73      0.81      0.77      1415\n",
      "   macro avg       0.71      0.78      0.74      1415\n",
      "weighted avg       0.73      0.81      0.77      1415\n",
      " samples avg       0.40      0.40      0.39      1415\n",
      "\n"
     ]
    },
    {
     "name": "stdout",
     "output_type": "stream",
     "text": [
      "##################################################\n",
      "fold=2\n"
     ]
    },
    {
     "name": "stderr",
     "output_type": "stream",
     "text": [
      "/gpfs/bwfor/home/st/st_st/st_ac138201/bert_populism/src/bert/utils.py:68: RuntimeWarning: invalid value encountered in divide\n",
      "  fscores = (2 * precision * recall) / (precision + recall)\n"
     ]
    },
    {
     "name": "stdout",
     "output_type": "stream",
     "text": [
      "Best BF thresh {0: 0.42, 1: 0.26, 2: 0.28, 3: 0.17}\n",
      "epoch=1 train_loss=0.3418 eval_loss=0.2842 score=0.4122\n"
     ]
    },
    {
     "name": "stdout",
     "output_type": "stream",
     "text": [
      "Best BF thresh {0: 0.53, 1: 0.33, 2: 0.37, 3: 0.25}\n",
      "epoch=2 train_loss=0.2830 eval_loss=0.2622 score=0.6430\n"
     ]
    },
    {
     "name": "stdout",
     "output_type": "stream",
     "text": [
      "Best BF thresh {0: 0.52, 1: 0.44, 2: 0.5700000000000001, 3: 0.23}\n",
      "epoch=3 train_loss=0.1373 eval_loss=0.1758 score=0.6850\n"
     ]
    },
    {
     "name": "stdout",
     "output_type": "stream",
     "text": [
      "Best BF thresh {0: 0.5700000000000001, 1: 0.28, 2: 0.62, 3: 0.19}\n",
      "epoch=4 train_loss=0.1721 eval_loss=0.2074 score=0.7145\n"
     ]
    },
    {
     "name": "stdout",
     "output_type": "stream",
     "text": [
      "Best BF thresh {0: 0.5700000000000001, 1: 0.56, 2: 0.67, 3: 0.17}\n",
      "epoch=5 train_loss=0.2818 eval_loss=0.3019 score=0.7087\n"
     ]
    },
    {
     "name": "stdout",
     "output_type": "stream",
     "text": [
      "Best BF thresh {0: 0.64, 1: 0.26, 2: 0.55, 3: 0.25}\n",
      "epoch=6 train_loss=0.2129 eval_loss=0.1352 score=0.7179\n"
     ]
    },
    {
     "name": "stdout",
     "output_type": "stream",
     "text": [
      "Best BF thresh {0: 0.59, 1: 0.52, 2: 0.63, 3: 0.22}\n",
      "epoch=7 train_loss=0.1432 eval_loss=0.1014 score=0.7177\n"
     ]
    },
    {
     "name": "stdout",
     "output_type": "stream",
     "text": [
      "Best BF thresh {0: 0.49, 1: 0.44, 2: 0.75, 3: 0.19}\n",
      "epoch=8 train_loss=0.3097 eval_loss=0.2905 score=0.7207\n"
     ]
    },
    {
     "name": "stdout",
     "output_type": "stream",
     "text": [
      "Best BF thresh {0: 0.74, 1: 0.46, 2: 0.76, 3: 0.48}\n",
      "epoch=9 train_loss=0.0923 eval_loss=0.2257 score=0.7313\n"
     ]
    },
    {
     "name": "stdout",
     "output_type": "stream",
     "text": [
      "Best BF thresh {0: 0.14, 1: 0.24, 2: 0.59, 3: 0.09}\n",
      "epoch=10 train_loss=0.0396 eval_loss=0.2689 score=0.6878\n"
     ]
    },
    {
     "name": "stdout",
     "output_type": "stream",
     "text": [
      "Best BF thresh {0: 0.78, 1: 0.54, 2: 0.81, 3: 0.26}\n",
      "epoch=11 train_loss=0.0233 eval_loss=0.3828 score=0.7274\n"
     ]
    },
    {
     "name": "stdout",
     "output_type": "stream",
     "text": [
      "Best BF thresh {0: 0.8200000000000001, 1: 0.73, 2: 0.52, 3: 0.6900000000000001}\n",
      "epoch=12 train_loss=0.0827 eval_loss=0.1668 score=0.7327\n"
     ]
    },
    {
     "name": "stdout",
     "output_type": "stream",
     "text": [
      "Best BF thresh {0: 0.56, 1: 0.52, 2: 0.77, 3: 0.27}\n",
      "epoch=13 train_loss=0.1143 eval_loss=0.4110 score=0.7272\n"
     ]
    },
    {
     "name": "stdout",
     "output_type": "stream",
     "text": [
      "THRESH .5\n",
      "              precision    recall  f1-score   support\n",
      "\n",
      "       elite       0.81      0.88      0.85       627\n",
      "       centr       0.67      0.75      0.71       333\n",
      "        left       0.64      0.77      0.70       265\n",
      "       right       0.69      0.62      0.65       152\n",
      "\n",
      "   micro avg       0.73      0.80      0.76      1377\n",
      "   macro avg       0.71      0.75      0.73      1377\n",
      "weighted avg       0.73      0.80      0.76      1377\n",
      " samples avg       0.40      0.40      0.39      1377\n",
      "\n",
      "\n",
      "THRESH DICT\n",
      "              precision    recall  f1-score   support\n",
      "\n",
      "       elite       0.81      0.88      0.85       627\n",
      "       centr       0.67      0.75      0.71       333\n",
      "        left       0.63      0.78      0.70       265\n",
      "       right       0.67      0.64      0.66       152\n",
      "\n",
      "   micro avg       0.73      0.81      0.76      1377\n",
      "   macro avg       0.70      0.77      0.73      1377\n",
      "weighted avg       0.73      0.81      0.76      1377\n",
      " samples avg       0.40      0.41      0.39      1377\n",
      "\n",
      "##################################################\n",
      "fold=3\n"
     ]
    },
    {
     "name": "stderr",
     "output_type": "stream",
     "text": [
      "/gpfs/bwfor/home/st/st_st/st_ac138201/bert_populism/src/bert/utils.py:68: RuntimeWarning: invalid value encountered in divide\n",
      "  fscores = (2 * precision * recall) / (precision + recall)\n"
     ]
    },
    {
     "name": "stdout",
     "output_type": "stream",
     "text": [
      "Best BF thresh {0: 0.21, 1: 0.27, 2: 0.19, 3: 0.14}\n",
      "epoch=1 train_loss=0.3091 eval_loss=0.3590 score=0.3601\n"
     ]
    },
    {
     "name": "stdout",
     "output_type": "stream",
     "text": [
      "Best BF thresh {0: 0.43, 1: 0.24, 2: 0.47000000000000003, 3: 0.26}\n",
      "epoch=2 train_loss=0.1529 eval_loss=0.2642 score=0.6242\n"
     ]
    },
    {
     "name": "stdout",
     "output_type": "stream",
     "text": [
      "Best BF thresh {0: 0.58, 1: 0.31, 2: 0.36, 3: 0.25}\n",
      "epoch=3 train_loss=0.1705 eval_loss=0.2076 score=0.6444\n"
     ]
    },
    {
     "name": "stdout",
     "output_type": "stream",
     "text": [
      "Best BF thresh {0: 0.3, 1: 0.4, 2: 0.36, 3: 0.13}\n",
      "epoch=4 train_loss=0.1839 eval_loss=0.2952 score=0.6645\n"
     ]
    },
    {
     "name": "stdout",
     "output_type": "stream",
     "text": [
      "Best BF thresh {0: 0.29, 1: 0.39, 2: 0.28, 3: 0.29}\n",
      "epoch=5 train_loss=0.4829 eval_loss=0.2606 score=0.7000\n"
     ]
    },
    {
     "name": "stdout",
     "output_type": "stream",
     "text": [
      "Best BF thresh {0: 0.32, 1: 0.26, 2: 0.19, 3: 0.26}\n",
      "epoch=6 train_loss=0.1320 eval_loss=0.3012 score=0.6948\n"
     ]
    },
    {
     "name": "stdout",
     "output_type": "stream",
     "text": [
      "Best BF thresh {0: 0.27, 1: 0.36, 2: 0.26, 3: 0.32}\n",
      "epoch=7 train_loss=0.1286 eval_loss=0.2255 score=0.7084\n"
     ]
    },
    {
     "name": "stdout",
     "output_type": "stream",
     "text": [
      "Best BF thresh {0: 0.36, 1: 0.43, 2: 0.43, 3: 0.19}\n",
      "epoch=8 train_loss=0.0790 eval_loss=0.3275 score=0.6964\n"
     ]
    },
    {
     "name": "stdout",
     "output_type": "stream",
     "text": [
      "Best BF thresh {0: 0.39, 1: 0.41000000000000003, 2: 0.3, 3: 0.28}\n",
      "epoch=9 train_loss=0.0806 eval_loss=0.0991 score=0.7159\n"
     ]
    },
    {
     "name": "stdout",
     "output_type": "stream",
     "text": [
      "Best BF thresh {0: 0.23, 1: 0.38, 2: 0.37, 3: 0.32}\n",
      "epoch=10 train_loss=0.0495 eval_loss=0.2168 score=0.7118\n"
     ]
    },
    {
     "name": "stdout",
     "output_type": "stream",
     "text": [
      "Best BF thresh {0: 0.74, 1: 0.52, 2: 0.46, 3: 0.52}\n",
      "epoch=11 train_loss=0.1217 eval_loss=0.2544 score=0.7333\n"
     ]
    },
    {
     "name": "stdout",
     "output_type": "stream",
     "text": [
      "Best BF thresh {0: 0.44, 1: 0.39, 2: 0.35000000000000003, 3: 0.13}\n",
      "epoch=12 train_loss=0.0884 eval_loss=0.4090 score=0.7178\n"
     ]
    },
    {
     "name": "stdout",
     "output_type": "stream",
     "text": [
      "Best BF thresh {0: 0.63, 1: 0.6900000000000001, 2: 0.34, 3: 0.29}\n",
      "epoch=13 train_loss=0.0309 eval_loss=0.2056 score=0.7277\n"
     ]
    },
    {
     "name": "stdout",
     "output_type": "stream",
     "text": [
      "THRESH .5\n",
      "              precision    recall  f1-score   support\n",
      "\n",
      "       elite       0.83      0.88      0.85       638\n",
      "       centr       0.66      0.75      0.70       310\n",
      "        left       0.69      0.74      0.71       284\n",
      "       right       0.62      0.66      0.64       137\n",
      "\n",
      "   micro avg       0.74      0.80      0.77      1369\n",
      "   macro avg       0.70      0.75      0.73      1369\n",
      "weighted avg       0.74      0.80      0.77      1369\n",
      " samples avg       0.40      0.40      0.39      1369\n",
      "\n",
      "\n",
      "THRESH DICT\n",
      "              precision    recall  f1-score   support\n",
      "\n",
      "       elite       0.83      0.88      0.85       638\n",
      "       centr       0.67      0.75      0.71       310\n",
      "        left       0.68      0.76      0.72       284\n",
      "       right       0.60      0.72      0.66       137\n",
      "\n",
      "   micro avg       0.74      0.81      0.77      1369\n",
      "   macro avg       0.70      0.78      0.73      1369\n",
      "weighted avg       0.74      0.81      0.77      1369\n",
      " samples avg       0.40      0.40      0.39      1369\n",
      "\n",
      "##################################################\n",
      "fold=4\n"
     ]
    },
    {
     "name": "stdout",
     "output_type": "stream",
     "text": [
      "Best BF thresh {0: 0.21, 1: 0.19, 2: 0.16, 3: 0.06}\n",
      "epoch=1 train_loss=0.2022 eval_loss=0.3479 score=0.3131\n"
     ]
    },
    {
     "name": "stdout",
     "output_type": "stream",
     "text": [
      "Best BF thresh {0: 0.24, 1: 0.33, 2: 0.25, 3: 0.2}\n",
      "epoch=2 train_loss=0.1898 eval_loss=0.3101 score=0.5428\n"
     ]
    },
    {
     "name": "stdout",
     "output_type": "stream",
     "text": [
      "Best BF thresh {0: 0.33, 1: 0.45, 2: 0.32, 3: 0.34}\n",
      "epoch=3 train_loss=0.1873 eval_loss=0.2563 score=0.6725\n"
     ]
    },
    {
     "name": "stdout",
     "output_type": "stream",
     "text": [
      "Best BF thresh {0: 0.39, 1: 0.15, 2: 0.24, 3: 0.15}\n",
      "epoch=4 train_loss=0.1997 eval_loss=0.2545 score=0.6225\n"
     ]
    },
    {
     "name": "stdout",
     "output_type": "stream",
     "text": [
      "Best BF thresh {0: 0.44, 1: 0.36, 2: 0.32, 3: 0.32}\n",
      "epoch=5 train_loss=0.2723 eval_loss=0.1902 score=0.7231\n"
     ]
    },
    {
     "name": "stdout",
     "output_type": "stream",
     "text": [
      "Best BF thresh {0: 0.54, 1: 0.28, 2: 0.58, 3: 0.28}\n",
      "epoch=6 train_loss=0.1590 eval_loss=0.2100 score=0.7123\n"
     ]
    },
    {
     "name": "stdout",
     "output_type": "stream",
     "text": [
      "Best BF thresh {0: 0.35000000000000003, 1: 0.45, 2: 0.46, 3: 0.24}\n",
      "epoch=7 train_loss=0.1393 eval_loss=0.2593 score=0.7346\n"
     ]
    },
    {
     "name": "stdout",
     "output_type": "stream",
     "text": [
      "Best BF thresh {0: 0.3, 1: 0.14, 2: 0.46, 3: 0.26}\n",
      "epoch=8 train_loss=0.1012 eval_loss=0.2927 score=0.7383\n"
     ]
    },
    {
     "name": "stdout",
     "output_type": "stream",
     "text": [
      "Best BF thresh {0: 0.15, 1: 0.24, 2: 0.26, 3: 0.43}\n",
      "epoch=9 train_loss=0.0448 eval_loss=0.2559 score=0.7286\n"
     ]
    },
    {
     "name": "stdout",
     "output_type": "stream",
     "text": [
      "Best BF thresh {0: 0.29, 1: 0.12, 2: 0.29, 3: 0.14}\n",
      "epoch=10 train_loss=0.0660 eval_loss=0.3918 score=0.7061\n"
     ]
    },
    {
     "name": "stdout",
     "output_type": "stream",
     "text": [
      "Best BF thresh {0: 0.46, 1: 0.36, 2: 0.3, 3: 0.24}\n",
      "epoch=11 train_loss=0.0625 eval_loss=0.3216 score=0.7407\n"
     ]
    },
    {
     "name": "stdout",
     "output_type": "stream",
     "text": [
      "Best BF thresh {0: 0.18, 1: 0.2, 2: 0.29, 3: 0.11}\n",
      "epoch=12 train_loss=0.1151 eval_loss=0.1175 score=0.7009\n"
     ]
    },
    {
     "name": "stdout",
     "output_type": "stream",
     "text": [
      "Best BF thresh {0: 0.6, 1: 0.27, 2: 0.71, 3: 0.38}\n",
      "epoch=13 train_loss=0.0260 eval_loss=0.3800 score=0.7409\n"
     ]
    },
    {
     "name": "stdout",
     "output_type": "stream",
     "text": [
      "THRESH .5\n",
      "              precision    recall  f1-score   support\n",
      "\n",
      "       elite       0.81      0.90      0.85       690\n",
      "       centr       0.69      0.70      0.69       333\n",
      "        left       0.69      0.72      0.71       302\n",
      "       right       0.70      0.72      0.71       167\n",
      "\n",
      "   micro avg       0.75      0.80      0.77      1492\n",
      "   macro avg       0.72      0.76      0.74      1492\n",
      "weighted avg       0.75      0.80      0.77      1492\n",
      " samples avg       0.42      0.42      0.41      1492\n",
      "\n",
      "\n",
      "THRESH DICT\n",
      "              precision    recall  f1-score   support\n",
      "\n",
      "       elite       0.82      0.90      0.85       690\n",
      "       centr       0.69      0.70      0.69       333\n",
      "        left       0.68      0.74      0.70       302\n",
      "       right       0.69      0.78      0.73       167\n",
      "\n",
      "   micro avg       0.75      0.81      0.78      1492\n",
      "   macro avg       0.72      0.78      0.75      1492\n",
      "weighted avg       0.75      0.81      0.77      1492\n",
      " samples avg       0.42      0.43      0.41      1492\n",
      "\n",
      "##################################################\n",
      "fold=5\n"
     ]
    },
    {
     "name": "stderr",
     "output_type": "stream",
     "text": [
      "/gpfs/bwfor/home/st/st_st/st_ac138201/bert_populism/src/bert/utils.py:68: RuntimeWarning: invalid value encountered in divide\n",
      "  fscores = (2 * precision * recall) / (precision + recall)\n"
     ]
    },
    {
     "name": "stdout",
     "output_type": "stream",
     "text": [
      "Best BF thresh {0: 0.5, 1: 0.27, 2: 0.31, 3: 0.3}\n",
      "epoch=1 train_loss=0.2916 eval_loss=0.3140 score=0.4148\n"
     ]
    },
    {
     "name": "stdout",
     "output_type": "stream",
     "text": [
      "Best BF thresh {0: 0.44, 1: 0.26, 2: 0.37, 3: 0.2}\n",
      "epoch=2 train_loss=0.3054 eval_loss=0.2030 score=0.5361\n"
     ]
    },
    {
     "name": "stdout",
     "output_type": "stream",
     "text": [
      "Best BF thresh {0: 0.27, 1: 0.45, 2: 0.43, 3: 0.25}\n",
      "epoch=3 train_loss=0.2335 eval_loss=0.1689 score=0.6459\n"
     ]
    },
    {
     "name": "stdout",
     "output_type": "stream",
     "text": [
      "Best BF thresh {0: 0.35000000000000003, 1: 0.44, 2: 0.32, 3: 0.44}\n",
      "epoch=4 train_loss=0.2216 eval_loss=0.1686 score=0.6828\n"
     ]
    },
    {
     "name": "stderr",
     "output_type": "stream",
     "text": [
      "/gpfs/bwfor/home/st/st_st/st_ac138201/bert_populism/src/bert/utils.py:68: RuntimeWarning: invalid value encountered in divide\n",
      "  fscores = (2 * precision * recall) / (precision + recall)\n"
     ]
    },
    {
     "name": "stdout",
     "output_type": "stream",
     "text": [
      "Best BF thresh {0: 0.41000000000000003, 1: 0.29, 2: 0.56, 3: 0.18}\n",
      "epoch=5 train_loss=0.1227 eval_loss=0.2036 score=0.6719\n"
     ]
    },
    {
     "name": "stderr",
     "output_type": "stream",
     "text": [
      "/gpfs/bwfor/home/st/st_st/st_ac138201/bert_populism/src/bert/utils.py:68: RuntimeWarning: invalid value encountered in divide\n",
      "  fscores = (2 * precision * recall) / (precision + recall)\n"
     ]
    },
    {
     "name": "stdout",
     "output_type": "stream",
     "text": [
      "Best BF thresh {0: 0.23, 1: 0.44, 2: 0.43, 3: 0.31}\n",
      "epoch=6 train_loss=0.1258 eval_loss=0.2506 score=0.6927\n"
     ]
    },
    {
     "name": "stdout",
     "output_type": "stream",
     "text": [
      "Best BF thresh {0: 0.46, 1: 0.4, 2: 0.48, 3: 0.38}\n",
      "epoch=7 train_loss=0.1070 eval_loss=0.1896 score=0.7081\n"
     ]
    },
    {
     "name": "stderr",
     "output_type": "stream",
     "text": [
      "/gpfs/bwfor/home/st/st_st/st_ac138201/bert_populism/src/bert/utils.py:68: RuntimeWarning: invalid value encountered in divide\n",
      "  fscores = (2 * precision * recall) / (precision + recall)\n"
     ]
    },
    {
     "name": "stdout",
     "output_type": "stream",
     "text": [
      "Best BF thresh {0: 0.23, 1: 0.35000000000000003, 2: 0.56, 3: 0.23}\n",
      "epoch=8 train_loss=0.0803 eval_loss=0.2366 score=0.7045\n"
     ]
    },
    {
     "name": "stderr",
     "output_type": "stream",
     "text": [
      "/gpfs/bwfor/home/st/st_st/st_ac138201/bert_populism/src/bert/utils.py:68: RuntimeWarning: invalid value encountered in divide\n",
      "  fscores = (2 * precision * recall) / (precision + recall)\n"
     ]
    },
    {
     "name": "stdout",
     "output_type": "stream",
     "text": [
      "Best BF thresh {0: 0.2, 1: 0.29, 2: 0.59, 3: 0.23}\n",
      "epoch=9 train_loss=0.0990 eval_loss=0.2227 score=0.7025\n"
     ]
    },
    {
     "name": "stdout",
     "output_type": "stream",
     "text": [
      "Best BF thresh {0: 0.14, 1: 0.25, 2: 0.4, 3: 0.49}\n",
      "epoch=10 train_loss=0.1307 eval_loss=0.1921 score=0.7153\n"
     ]
    },
    {
     "name": "stdout",
     "output_type": "stream",
     "text": [
      "Best BF thresh {0: 0.08, 1: 0.27, 2: 0.49, 3: 0.11}\n",
      "epoch=11 train_loss=0.0519 eval_loss=0.2505 score=0.6882\n"
     ]
    },
    {
     "name": "stdout",
     "output_type": "stream",
     "text": [
      "Best BF thresh {0: 0.25, 1: 0.47000000000000003, 2: 0.67, 3: 0.18}\n",
      "epoch=12 train_loss=0.1028 eval_loss=0.3465 score=0.7080\n"
     ]
    },
    {
     "name": "stdout",
     "output_type": "stream",
     "text": [
      "Best BF thresh {0: 0.19, 1: 0.28, 2: 0.45, 3: 0.5700000000000001}\n",
      "epoch=13 train_loss=0.0694 eval_loss=0.3839 score=0.7167\n"
     ]
    },
    {
     "name": "stdout",
     "output_type": "stream",
     "text": [
      "THRESH .5\n",
      "              precision    recall  f1-score   support\n",
      "\n",
      "       elite       0.80      0.88      0.84       640\n",
      "       centr       0.66      0.66      0.66       316\n",
      "        left       0.65      0.79      0.71       261\n",
      "       right       0.68      0.63      0.65       140\n",
      "\n",
      "   micro avg       0.73      0.79      0.76      1357\n",
      "   macro avg       0.70      0.74      0.72      1357\n",
      "weighted avg       0.73      0.79      0.75      1357\n",
      " samples avg       0.38      0.39      0.38      1357\n",
      "\n",
      "\n",
      "THRESH DICT\n",
      "              precision    recall  f1-score   support\n",
      "\n",
      "       elite       0.80      0.88      0.84       640\n",
      "       centr       0.66      0.66      0.66       316\n",
      "        left       0.64      0.81      0.71       261\n",
      "       right       0.64      0.66      0.65       140\n",
      "\n",
      "   micro avg       0.72      0.79      0.76      1357\n",
      "   macro avg       0.69      0.75      0.72      1357\n",
      "weighted avg       0.72      0.79      0.75      1357\n",
      " samples avg       0.38      0.39      0.38      1357\n",
      "\n"
     ]
    }
   ],
   "source": [
    "splits = KFold(n_splits=5, shuffle=True, random_state=42)\n",
    "\n",
    "results = []\n",
    "for fold, (train_idx, test_idx) in enumerate(splits.split(np.arange(len(dataset))), 1):\n",
    "    print(\"#\" * 50)\n",
    "    print(f\"{fold=}\")\n",
    "\n",
    "    # create data\n",
    "    train_loader = DataLoader(\n",
    "        dataset,\n",
    "        batch_size=BATCH_SIZE,\n",
    "        collate_fn=collate_fn,\n",
    "        sampler=SubsetRandomSampler(train_idx),\n",
    "    )\n",
    "    test_loader = DataLoader(\n",
    "        dataset,\n",
    "        batch_size=32,\n",
    "        collate_fn=collate_fn,\n",
    "        sampler=SubsetRandomSampler(test_idx),\n",
    "    )\n",
    "\n",
    "    model = module.BertSingleTaskMultiLabel(num_labels=dataset.num_labels, name=BASE_MODEL)\n",
    "    model.train()\n",
    "    model = model.to(DEVICE)\n",
    "    model.set_seed(seed=10)\n",
    "\n",
    "    optimizer = torch.optim.AdamW(\n",
    "        model.parameters(),\n",
    "        lr=LR,\n",
    "        amsgrad=False,\n",
    "        weight_decay=1e-2,\n",
    "    )\n",
    "\n",
    "    lr_scheduler = torch.optim.lr_scheduler.CosineAnnealingLR(\n",
    "        optimizer,\n",
    "        T_max=N_EPOCHS,\n",
    "        eta_min=1e-9,\n",
    "    )\n",
    "\n",
    "    for epoch in range(1, N_EPOCHS + 1):\n",
    "        train_loss = training.train_epoch(model, train_loader, optimizer, lr_scheduler)\n",
    "        eval_loss, score, _ = training.eval_epoch(model, test_loader)\n",
    "        print(f\"{epoch=} {train_loss=:.4f} {eval_loss=:.4f} {score=:.4f}\")\n",
    "\n",
    "    with torch.inference_mode():\n",
    "        y_true = []\n",
    "        y_pred = []\n",
    "        for batch in test_loader:\n",
    "            encodings = batch[\"encodings\"]\n",
    "            encodings = encodings.to(DEVICE)\n",
    "            labels = batch[\"labels\"].to(DEVICE)\n",
    "            preds = model.predict_proba(encodings)\n",
    "            y_true.extend(batch[\"labels\"].numpy())\n",
    "            y_pred.extend(preds)\n",
    "        y_pred_05 = np.where(np.array(y_pred) > 0.5, 1, 0)\n",
    "        y_pred_thresh = model.apply_thresh(np.array(y_pred), TRESHOLDS)\n",
    "        y_true = np.array(y_true)\n",
    "\n",
    "    print(\"THRESH .5\")\n",
    "    print(classification_report(y_true, y_pred_05, target_names=dataset.labels, zero_division=0))\n",
    "    print()\n",
    "    print(\"THRESH DICT\")\n",
    "    print(\n",
    "        classification_report(y_true, y_pred_thresh, target_names=dataset.labels, zero_division=0)\n",
    "    )\n",
    "    classification_dict = classification_report(\n",
    "        y_true, y_pred_thresh, target_names=dataset.labels, zero_division=0, output_dict=True\n",
    "    )\n",
    "    results.append(classification_dict)\n",
    "    out = pd.DataFrame(classification_dict)\n",
    "    out.to_csv(src.PATH / f\"results/kfold/fold_{fold}.csv\")"
   ]
  },
  {
   "cell_type": "code",
   "execution_count": null,
   "id": "a852446c",
   "metadata": {
    "papermill": {
     "duration": 0.010018,
     "end_time": "2023-07-13T14:30:58.683488",
     "exception": false,
     "start_time": "2023-07-13T14:30:58.673470",
     "status": "completed"
    },
    "tags": []
   },
   "outputs": [],
   "source": [
    "score_dict = defaultdict(list)\n",
    "for result in results:\n",
    "    for dim, scores in result.items():\n",
    "        score_dict[dim].append(scores[\"f1-score\"])\n",
    "\n",
    "out_data = []\n",
    "for dim, scores in score_dict.items():\n",
    "    out = {\"dim\": dim, \"mean\": np.mean(scores), \"std\": np.std(scores)}\n",
    "    out_data.append(out)"
   ]
  },
  {
   "cell_type": "code",
   "execution_count": null,
   "id": "1582d350",
   "metadata": {
    "papermill": {
     "duration": 0.475362,
     "end_time": "2023-07-13T14:30:59.162704",
     "exception": false,
     "start_time": "2023-07-13T14:30:58.687342",
     "status": "completed"
    },
    "tags": []
   },
   "outputs": [
    {
     "data": {
      "text/html": [
       "<div>\n",
       "<style scoped>\n",
       "    .dataframe tbody tr th:only-of-type {\n",
       "        vertical-align: middle;\n",
       "    }\n",
       "\n",
       "    .dataframe tbody tr th {\n",
       "        vertical-align: top;\n",
       "    }\n",
       "\n",
       "    .dataframe thead th {\n",
       "        text-align: right;\n",
       "    }\n",
       "</style>\n",
       "<table border=\"1\" class=\"dataframe\">\n",
       "  <thead>\n",
       "    <tr style=\"text-align: right;\">\n",
       "      <th></th>\n",
       "      <th>dim</th>\n",
       "      <th>mean</th>\n",
       "      <th>std</th>\n",
       "    </tr>\n",
       "  </thead>\n",
       "  <tbody>\n",
       "    <tr>\n",
       "      <th>0</th>\n",
       "      <td>elite</td>\n",
       "      <td>0.846780</td>\n",
       "      <td>0.007444</td>\n",
       "    </tr>\n",
       "    <tr>\n",
       "      <th>1</th>\n",
       "      <td>centr</td>\n",
       "      <td>0.695982</td>\n",
       "      <td>0.018900</td>\n",
       "    </tr>\n",
       "    <tr>\n",
       "      <th>2</th>\n",
       "      <td>left</td>\n",
       "      <td>0.713261</td>\n",
       "      <td>0.009890</td>\n",
       "    </tr>\n",
       "    <tr>\n",
       "      <th>3</th>\n",
       "      <td>right</td>\n",
       "      <td>0.674466</td>\n",
       "      <td>0.030877</td>\n",
       "    </tr>\n",
       "    <tr>\n",
       "      <th>4</th>\n",
       "      <td>micro avg</td>\n",
       "      <td>0.766746</td>\n",
       "      <td>0.006838</td>\n",
       "    </tr>\n",
       "    <tr>\n",
       "      <th>5</th>\n",
       "      <td>macro avg</td>\n",
       "      <td>0.732623</td>\n",
       "      <td>0.010373</td>\n",
       "    </tr>\n",
       "    <tr>\n",
       "      <th>6</th>\n",
       "      <td>weighted avg</td>\n",
       "      <td>0.766799</td>\n",
       "      <td>0.007123</td>\n",
       "    </tr>\n",
       "    <tr>\n",
       "      <th>7</th>\n",
       "      <td>samples avg</td>\n",
       "      <td>0.392949</td>\n",
       "      <td>0.011762</td>\n",
       "    </tr>\n",
       "  </tbody>\n",
       "</table>\n",
       "</div>"
      ],
      "text/plain": [
       "            dim      mean       std\n",
       "0         elite  0.846780  0.007444\n",
       "1         centr  0.695982  0.018900\n",
       "2          left  0.713261  0.009890\n",
       "3         right  0.674466  0.030877\n",
       "4     micro avg  0.766746  0.006838\n",
       "5     macro avg  0.732623  0.010373\n",
       "6  weighted avg  0.766799  0.007123\n",
       "7   samples avg  0.392949  0.011762"
      ]
     },
     "execution_count": null,
     "metadata": {},
     "output_type": "execute_result"
    }
   ],
   "source": [
    "pd.DataFrame(out_data)"
   ]
  }
 ],
 "metadata": {
  "kernelspec": {
   "display_name": "bert_populism",
   "language": "python",
   "name": "bert_populism"
  },
  "language_info": {
   "codemirror_mode": {
    "name": "ipython",
    "version": 3
   },
   "file_extension": ".py",
   "mimetype": "text/x-python",
   "name": "python",
   "nbconvert_exporter": "python",
   "pygments_lexer": "ipython3",
   "version": "3.9.12"
  },
  "papermill": {
   "default_parameters": {},
   "duration": 6717.371409,
   "end_time": "2023-07-13T14:30:59.890330",
   "environment_variables": {},
   "exception": null,
   "input_path": "notebooks/01-pipeline/06-cross_validate.ipynb",
   "output_path": "notebooks/01-pipeline/06-cross_validate.ipynb",
   "parameters": {},
   "start_time": "2023-07-13T12:39:02.518921",
   "version": "2.4.0"
  }
 },
 "nbformat": 4,
 "nbformat_minor": 5
}
