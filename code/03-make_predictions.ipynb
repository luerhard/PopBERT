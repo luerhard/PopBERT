{
 "cells": [
  {
   "cell_type": "code",
   "execution_count": 2,
   "id": "cf11d984",
   "metadata": {
    "execution": {
     "iopub.execute_input": "2024-03-27T10:09:39.680213Z",
     "iopub.status.busy": "2024-03-27T10:09:39.680032Z",
     "iopub.status.idle": "2024-03-27T10:09:45.111899Z",
     "shell.execute_reply": "2024-03-27T10:09:45.111303Z"
    },
    "papermill": {
     "duration": 5.436957,
     "end_time": "2024-03-27T10:09:45.113466",
     "exception": false,
     "start_time": "2024-03-27T10:09:39.676509",
     "status": "completed"
    },
    "tags": []
   },
   "outputs": [],
   "source": [
    "from transformers import AutoTokenizer\n",
    "import torch\n",
    "from transformers import logging\n",
    "import pandas as pd\n",
    "import src\n",
    "from transformers import AutoModelForSequenceClassification"
   ]
  },
  {
   "cell_type": "code",
   "execution_count": 2,
   "id": "0a50acf3",
   "metadata": {
    "execution": {
     "iopub.execute_input": "2024-03-27T10:09:45.117622Z",
     "iopub.status.busy": "2024-03-27T10:09:45.117357Z",
     "iopub.status.idle": "2024-03-27T10:09:45.256070Z",
     "shell.execute_reply": "2024-03-27T10:09:45.255613Z"
    },
    "papermill": {
     "duration": 0.141647,
     "end_time": "2024-03-27T10:09:45.257073",
     "exception": false,
     "start_time": "2024-03-27T10:09:45.115426",
     "status": "completed"
    },
    "tags": []
   },
   "outputs": [
    {
     "name": "stdout",
     "output_type": "stream",
     "text": [
      "cuda\n"
     ]
    }
   ],
   "source": [
    "logging.set_verbosity_error()\n",
    "DEVICE = \"cuda\" if torch.cuda.is_available() else \"cpu\"\n",
    "print(DEVICE)"
   ]
  },
  {
   "cell_type": "code",
   "execution_count": 3,
   "id": "6ae957f7",
   "metadata": {
    "execution": {
     "iopub.execute_input": "2024-03-27T10:09:45.260929Z",
     "iopub.status.busy": "2024-03-27T10:09:45.260604Z",
     "iopub.status.idle": "2024-03-27T10:09:51.175812Z",
     "shell.execute_reply": "2024-03-27T10:09:51.175002Z"
    },
    "papermill": {
     "duration": 5.918842,
     "end_time": "2024-03-27T10:09:51.177529",
     "exception": false,
     "start_time": "2024-03-27T10:09:45.258687",
     "status": "completed"
    },
    "tags": []
   },
   "outputs": [],
   "source": [
    "COMMIT_HASH = \"cf44004e90045cde298e28605ff105747d58aa7a\"\n",
    "\n",
    "tokenizer = AutoTokenizer.from_pretrained(\"luerhard/PopBERT\", revision=COMMIT_HASH)\n",
    "model = AutoModelForSequenceClassification.from_pretrained(\"luerhard/PopBERT\", revision=COMMIT_HASH).to(DEVICE)"
   ]
  },
  {
   "cell_type": "code",
   "execution_count": 4,
   "id": "ae52ec66",
   "metadata": {
    "execution": {
     "iopub.execute_input": "2024-03-27T10:09:51.181739Z",
     "iopub.status.busy": "2024-03-27T10:09:51.181543Z",
     "iopub.status.idle": "2024-03-27T10:09:52.281477Z",
     "shell.execute_reply": "2024-03-27T10:09:52.280869Z"
    },
    "papermill": {
     "duration": 1.103572,
     "end_time": "2024-03-27T10:09:52.282920",
     "exception": false,
     "start_time": "2024-03-27T10:09:51.179348",
     "status": "completed"
    },
    "tags": []
   },
   "outputs": [],
   "source": [
    "df = pd.read_parquet(src.PATH / \"data/raw/sentences.parquet.gzip\")"
   ]
  },
  {
   "cell_type": "code",
   "execution_count": 1,
   "id": "90337b18",
   "metadata": {
    "execution": {
     "iopub.execute_input": "2024-03-27T10:09:52.293634Z",
     "iopub.status.busy": "2024-03-27T10:09:52.293303Z",
     "iopub.status.idle": "2024-03-27T10:09:52.296558Z",
     "shell.execute_reply": "2024-03-27T10:09:52.296235Z"
    },
    "papermill": {
     "duration": 0.00595,
     "end_time": "2024-03-27T10:09:52.297408",
     "exception": false,
     "start_time": "2024-03-27T10:09:52.291458",
     "status": "completed"
    },
    "tags": []
   },
   "outputs": [],
   "source": [
    "def iter_batches(df, batch_size):\n",
    "    i = 0\n",
    "    while (i + batch_size) <= len(df):\n",
    "        slice_df = df.iloc[i : i + batch_size]\n",
    "        i += batch_size\n",
    "        yield slice_df.to_dict(orient=\"list\")\n",
    "    if i < len(df):\n",
    "        slice_df = df.iloc[i:]\n",
    "        yield slice_df.to_dict(orient=\"list\")"
   ]
  },
  {
   "cell_type": "code",
   "execution_count": 7,
   "id": "00665888",
   "metadata": {
    "execution": {
     "iopub.execute_input": "2024-03-27T10:09:52.300762Z",
     "iopub.status.busy": "2024-03-27T10:09:52.300434Z",
     "iopub.status.idle": "2024-03-27T10:09:53.127337Z",
     "shell.execute_reply": "2024-03-27T10:09:53.126757Z"
    },
    "papermill": {
     "duration": 0.829901,
     "end_time": "2024-03-27T10:09:53.128612",
     "exception": false,
     "start_time": "2024-03-27T10:09:52.298711",
     "status": "completed"
    },
    "tags": []
   },
   "outputs": [],
   "source": [
    "results = []\n",
    "with torch.inference_mode():\n",
    "    for batch in iter_batches(df, 64):\n",
    "        ids, text = batch[\"sample_id\"], batch[\"text\"]\n",
    "        encodings = tokenizer(text, return_tensors=\"pt\", padding=True).to(DEVICE)\n",
    "        out = model(**encodings)\n",
    "        proba_tensor = torch.nn.functional.sigmoid(out.logits)\n",
    "        probas = proba_tensor.cpu().detach().numpy()\n",
    "        \n",
    "        result = pd.DataFrame(probas)\n",
    "        result.columns = [\"elite\", \"pplcentr\", \"left\", \"right\"]\n",
    "        result[\"sample_id\"] = ids\n",
    "        results.append(result)"
   ]
  },
  {
   "cell_type": "code",
   "execution_count": 8,
   "id": "054eb632",
   "metadata": {
    "execution": {
     "iopub.execute_input": "2024-03-27T10:09:53.132352Z",
     "iopub.status.busy": "2024-03-27T10:09:53.131849Z",
     "iopub.status.idle": "2024-03-27T10:09:53.148794Z",
     "shell.execute_reply": "2024-03-27T10:09:53.148376Z"
    },
    "papermill": {
     "duration": 0.019701,
     "end_time": "2024-03-27T10:09:53.149774",
     "exception": false,
     "start_time": "2024-03-27T10:09:53.130073",
     "status": "completed"
    },
    "tags": []
   },
   "outputs": [],
   "source": [
    "out = pd.concat(results)\n",
    "out = out[[\"sample_id\", \"elite\", \"pplcentr\", \"left\", \"right\"]]\n",
    "out.to_parquet(src.PATH / \"data/interim/sentence_predictions.parquet.gzip\", compression=\"gzip\")"
   ]
  }
 ],
 "metadata": {
  "kernelspec": {
   "display_name": ".venv",
   "language": "python",
   "name": "python3"
  },
  "language_info": {
   "codemirror_mode": {
    "name": "ipython",
    "version": 3
   },
   "file_extension": ".py",
   "mimetype": "text/x-python",
   "name": "python",
   "nbconvert_exporter": "python",
   "pygments_lexer": "ipython3",
   "version": "3.9.12"
  },
  "papermill": {
   "default_parameters": {},
   "duration": 16.520169,
   "end_time": "2024-03-27T10:09:54.367454",
   "environment_variables": {},
   "exception": null,
   "input_path": "code/03-make_predictions.ipynb",
   "output_path": "code/03-make_predictions.ipynb",
   "parameters": {},
   "start_time": "2024-03-27T10:09:37.847285",
   "version": "2.5.0"
  }
 },
 "nbformat": 4,
 "nbformat_minor": 5
}
