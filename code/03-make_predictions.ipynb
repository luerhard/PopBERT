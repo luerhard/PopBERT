{
 "cells": [
  {
   "cell_type": "code",
   "execution_count": 1,
   "id": "cf11d984",
   "metadata": {
    "execution": {
     "iopub.execute_input": "2024-03-27T10:14:46.201185Z",
     "iopub.status.busy": "2024-03-27T10:14:46.201001Z",
     "iopub.status.idle": "2024-03-27T10:14:49.647297Z",
     "shell.execute_reply": "2024-03-27T10:14:49.646808Z"
    },
    "papermill": {
     "duration": 3.450434,
     "end_time": "2024-03-27T10:14:49.648691",
     "exception": false,
     "start_time": "2024-03-27T10:14:46.198257",
     "status": "completed"
    },
    "tags": []
   },
   "outputs": [],
   "source": [
    "from transformers import AutoTokenizer\n",
    "import torch\n",
    "from transformers import logging\n",
    "import pandas as pd\n",
    "import src\n",
    "from transformers import AutoModelForSequenceClassification"
   ]
  },
  {
   "cell_type": "code",
   "execution_count": 2,
   "id": "0a50acf3",
   "metadata": {
    "execution": {
     "iopub.execute_input": "2024-03-27T10:14:49.653983Z",
     "iopub.status.busy": "2024-03-27T10:14:49.653668Z",
     "iopub.status.idle": "2024-03-27T10:14:49.818270Z",
     "shell.execute_reply": "2024-03-27T10:14:49.817858Z"
    },
    "papermill": {
     "duration": 0.167816,
     "end_time": "2024-03-27T10:14:49.819626",
     "exception": false,
     "start_time": "2024-03-27T10:14:49.651810",
     "status": "completed"
    },
    "tags": []
   },
   "outputs": [
    {
     "name": "stdout",
     "output_type": "stream",
     "text": [
      "cuda\n"
     ]
    }
   ],
   "source": [
    "logging.set_verbosity_error()\n",
    "DEVICE = \"cuda\" if torch.cuda.is_available() else \"cpu\"\n",
    "print(DEVICE)"
   ]
  },
  {
   "cell_type": "code",
   "execution_count": 3,
   "id": "6ae957f7",
   "metadata": {
    "execution": {
     "iopub.execute_input": "2024-03-27T10:14:49.823601Z",
     "iopub.status.busy": "2024-03-27T10:14:49.823327Z",
     "iopub.status.idle": "2024-03-27T10:14:54.701263Z",
     "shell.execute_reply": "2024-03-27T10:14:54.700614Z"
    },
    "papermill": {
     "duration": 4.881335,
     "end_time": "2024-03-27T10:14:54.702825",
     "exception": false,
     "start_time": "2024-03-27T10:14:49.821490",
     "status": "completed"
    },
    "tags": []
   },
   "outputs": [],
   "source": [
    "COMMIT_HASH = \"cf44004e90045cde298e28605ff105747d58aa7a\"\n",
    "\n",
    "tokenizer = AutoTokenizer.from_pretrained(\"luerhard/PopBERT\", revision=COMMIT_HASH)\n",
    "model = AutoModelForSequenceClassification.from_pretrained(\"luerhard/PopBERT\", revision=COMMIT_HASH).to(DEVICE)"
   ]
  },
  {
   "cell_type": "code",
   "execution_count": 4,
   "id": "ae52ec66",
   "metadata": {
    "execution": {
     "iopub.execute_input": "2024-03-27T10:14:54.708405Z",
     "iopub.status.busy": "2024-03-27T10:14:54.708199Z",
     "iopub.status.idle": "2024-03-27T10:14:55.826466Z",
     "shell.execute_reply": "2024-03-27T10:14:55.825941Z"
    },
    "papermill": {
     "duration": 1.122051,
     "end_time": "2024-03-27T10:14:55.828079",
     "exception": false,
     "start_time": "2024-03-27T10:14:54.706028",
     "status": "completed"
    },
    "tags": []
   },
   "outputs": [],
   "source": [
    "df = pd.read_parquet(src.PATH / \"data/raw/sentences.parquet.gzip\")"
   ]
  },
  {
   "cell_type": "code",
   "execution_count": 5,
   "id": "90337b18",
   "metadata": {
    "execution": {
     "iopub.execute_input": "2024-03-27T10:14:55.833576Z",
     "iopub.status.busy": "2024-03-27T10:14:55.833300Z",
     "iopub.status.idle": "2024-03-27T10:14:55.836357Z",
     "shell.execute_reply": "2024-03-27T10:14:55.836024Z"
    },
    "papermill": {
     "duration": 0.005822,
     "end_time": "2024-03-27T10:14:55.837224",
     "exception": false,
     "start_time": "2024-03-27T10:14:55.831402",
     "status": "completed"
    },
    "tags": []
   },
   "outputs": [],
   "source": [
    "def iter_batches(df, batch_size):\n",
    "    i = 0\n",
    "    while (i + batch_size) <= len(df):\n",
    "        slice_df = df.iloc[i : i + batch_size]\n",
    "        i += batch_size\n",
    "        yield slice_df.to_dict(orient=\"list\")\n",
    "    if i < len(df):\n",
    "        slice_df = df.iloc[i:]\n",
    "        yield slice_df.to_dict(orient=\"list\")"
   ]
  },
  {
   "cell_type": "code",
   "execution_count": 6,
   "id": "00665888",
   "metadata": {
    "execution": {
     "iopub.execute_input": "2024-03-27T10:14:55.840421Z",
     "iopub.status.busy": "2024-03-27T10:14:55.840179Z",
     "iopub.status.idle": "2024-03-27T11:18:42.325064Z",
     "shell.execute_reply": "2024-03-27T11:18:42.324492Z"
    },
    "papermill": {
     "duration": 3826.488555,
     "end_time": "2024-03-27T11:18:42.327012",
     "exception": false,
     "start_time": "2024-03-27T10:14:55.838457",
     "status": "completed"
    },
    "tags": []
   },
   "outputs": [],
   "source": [
    "results = []\n",
    "with torch.inference_mode():\n",
    "    for batch in iter_batches(df, 64):\n",
    "        ids, text = batch[\"sample_id\"], batch[\"text\"]\n",
    "        encodings = tokenizer(text, return_tensors=\"pt\", padding=True).to(DEVICE)\n",
    "        out = model(**encodings)\n",
    "        proba_tensor = torch.nn.functional.sigmoid(out.logits)\n",
    "        probas = proba_tensor.cpu().detach().numpy()\n",
    "        \n",
    "        result = pd.DataFrame(probas)\n",
    "        result.columns = [\"elite\", \"pplcentr\", \"left\", \"right\"]\n",
    "        result[\"sample_id\"] = ids\n",
    "        results.append(result)"
   ]
  },
  {
   "cell_type": "code",
   "execution_count": 7,
   "id": "054eb632",
   "metadata": {
    "execution": {
     "iopub.execute_input": "2024-03-27T11:18:42.333920Z",
     "iopub.status.busy": "2024-03-27T11:18:42.333714Z",
     "iopub.status.idle": "2024-03-27T11:18:44.942340Z",
     "shell.execute_reply": "2024-03-27T11:18:44.941828Z"
    },
    "papermill": {
     "duration": 2.612072,
     "end_time": "2024-03-27T11:18:44.943815",
     "exception": false,
     "start_time": "2024-03-27T11:18:42.331743",
     "status": "completed"
    },
    "tags": []
   },
   "outputs": [],
   "source": [
    "out = pd.concat(results)\n",
    "out = out[[\"sample_id\", \"elite\", \"pplcentr\", \"left\", \"right\"]]\n",
    "out.to_parquet(src.PATH / \"data/interim/sentence_predictions.parquet.gzip\", compression=\"gzip\")"
   ]
  }
 ],
 "metadata": {
  "kernelspec": {
   "display_name": ".venv",
   "language": "python",
   "name": "python3"
  },
  "language_info": {
   "codemirror_mode": {
    "name": "ipython",
    "version": 3
   },
   "file_extension": ".py",
   "mimetype": "text/x-python",
   "name": "python",
   "nbconvert_exporter": "python",
   "pygments_lexer": "ipython3",
   "version": "3.9.12"
  },
  "papermill": {
   "default_parameters": {},
   "duration": 3843.871098,
   "end_time": "2024-03-27T11:18:48.624054",
   "environment_variables": {},
   "exception": null,
   "input_path": "code/03-make_predictions.ipynb",
   "output_path": "code/03-make_predictions.ipynb",
   "parameters": {},
   "start_time": "2024-03-27T10:14:44.752956",
   "version": "2.5.0"
  }
 },
 "nbformat": 4,
 "nbformat_minor": 5
}