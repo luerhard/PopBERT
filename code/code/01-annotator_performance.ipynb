{
 "cells": [
  {
   "cell_type": "code",
   "execution_count": 2,
   "id": "28be3638",
   "metadata": {
    "execution": {
     "iopub.execute_input": "2024-03-26T09:26:30.365827Z",
     "iopub.status.busy": "2024-03-26T09:26:30.365574Z",
     "iopub.status.idle": "2024-03-26T09:26:34.298628Z",
     "shell.execute_reply": "2024-03-26T09:26:34.298051Z"
    },
    "papermill": {
     "duration": 3.93721,
     "end_time": "2024-03-26T09:26:34.300002",
     "exception": false,
     "start_time": "2024-03-26T09:26:30.362792",
     "status": "completed"
    },
    "tags": []
   },
   "outputs": [],
   "source": [
    "from itertools import combinations\n",
    "\n",
    "import numpy as np\n",
    "import pandas as pd\n",
    "import rpy2.robjects as ro\n",
    "from rpy2.robjects import numpy2ri\n",
    "from rpy2.robjects.packages import importr\n",
    "from sklearn.metrics import f1_score\n",
    "from statsmodels.stats import inter_rater\n",
    "\n",
    "import src\n",
    "import src.bert.dataset.strategies as strategies\n",
    "import src.db.connect\n",
    "from src.bert.dataset import PBertDataset"
   ]
  },
  {
   "cell_type": "code",
   "execution_count": 3,
   "id": "b95bd128",
   "metadata": {
    "execution": {
     "iopub.execute_input": "2024-03-26T09:26:34.305943Z",
     "iopub.status.busy": "2024-03-26T09:26:34.305630Z",
     "iopub.status.idle": "2024-03-26T09:26:35.112132Z",
     "shell.execute_reply": "2024-03-26T09:26:35.111612Z"
    },
    "papermill": {
     "duration": 0.810619,
     "end_time": "2024-03-26T09:26:35.113369",
     "exception": false,
     "start_time": "2024-03-26T09:26:34.302750",
     "status": "completed"
    },
    "tags": []
   },
   "outputs": [],
   "source": [
    "dataset = PBertDataset.from_disk(\n",
    "    path=src.PATH / \"data/labeled_data/full.csv.zip\",\n",
    "    exclude_coders=[],\n",
    "    label_strategy=strategies.MLMin1PopIdeol(output_fmt=\"single_task\"),\n",
    ")"
   ]
  },
  {
   "cell_type": "code",
   "execution_count": 4,
   "id": "a5acf656",
   "metadata": {
    "execution": {
     "iopub.execute_input": "2024-03-26T09:26:35.119287Z",
     "iopub.status.busy": "2024-03-26T09:26:35.118995Z",
     "iopub.status.idle": "2024-03-26T09:26:35.122988Z",
     "shell.execute_reply": "2024-03-26T09:26:35.122629Z"
    },
    "papermill": {
     "duration": 0.007753,
     "end_time": "2024-03-26T09:26:35.123907",
     "exception": false,
     "start_time": "2024-03-26T09:26:35.116154",
     "status": "completed"
    },
    "tags": []
   },
   "outputs": [],
   "source": [
    "def pairwise_f1_agreement(df):\n",
    "    scores = []\n",
    "    for i, j in combinations(df.columns, r=2):\n",
    "        coder1 = df[i].apply(pd.Series).to_numpy()\n",
    "        coder2 = df[j].apply(pd.Series).to_numpy()\n",
    "        score = f1_score(coder1, coder2, average=\"binary\")\n",
    "        scores.append(score)\n",
    "\n",
    "    return np.mean(scores)"
   ]
  },
  {
   "cell_type": "code",
   "execution_count": 5,
   "id": "f9c51423",
   "metadata": {
    "execution": {
     "iopub.execute_input": "2024-03-26T09:26:35.129055Z",
     "iopub.status.busy": "2024-03-26T09:26:35.128767Z",
     "iopub.status.idle": "2024-03-26T09:26:35.691257Z",
     "shell.execute_reply": "2024-03-26T09:26:35.690634Z"
    },
    "papermill": {
     "duration": 0.566386,
     "end_time": "2024-03-26T09:26:35.692526",
     "exception": false,
     "start_time": "2024-03-26T09:26:35.126140",
     "status": "completed"
    },
    "tags": []
   },
   "outputs": [],
   "source": [
    "base = importr(\"base\")\n",
    "irr = importr(\"irr\")"
   ]
  },
  {
   "cell_type": "code",
   "execution_count": 6,
   "id": "000d581f",
   "metadata": {
    "execution": {
     "iopub.execute_input": "2024-03-26T09:26:35.698422Z",
     "iopub.status.busy": "2024-03-26T09:26:35.698166Z",
     "iopub.status.idle": "2024-03-26T09:26:35.702212Z",
     "shell.execute_reply": "2024-03-26T09:26:35.701857Z"
    },
    "papermill": {
     "duration": 0.008155,
     "end_time": "2024-03-26T09:26:35.703222",
     "exception": false,
     "start_time": "2024-03-26T09:26:35.695067",
     "status": "completed"
    },
    "tags": []
   },
   "outputs": [],
   "source": [
    "def pairwise_f1_agreement(df):\n",
    "    scores = []\n",
    "    for i, j in combinations(df.columns, r=2):\n",
    "        coder1 = df[i]\n",
    "        coder2 = df[j]\n",
    "        score = f1_score(coder1, coder2, average=\"binary\")\n",
    "        scores.append(score)\n",
    "\n",
    "    return np.mean(scores)"
   ]
  },
  {
   "cell_type": "code",
   "execution_count": 7,
   "id": "dbb60937",
   "metadata": {
    "execution": {
     "iopub.execute_input": "2024-03-26T09:26:35.708316Z",
     "iopub.status.busy": "2024-03-26T09:26:35.708081Z",
     "iopub.status.idle": "2024-03-26T09:26:35.713486Z",
     "shell.execute_reply": "2024-03-26T09:26:35.713143Z"
    },
    "papermill": {
     "duration": 0.008991,
     "end_time": "2024-03-26T09:26:35.714409",
     "exception": false,
     "start_time": "2024-03-26T09:26:35.705418",
     "status": "completed"
    },
    "tags": []
   },
   "outputs": [],
   "source": [
    "def calculate_kappa(dataset, strategy, coders):\n",
    "    dataset.valid_coders = coders\n",
    "    dataset.strategy = strategy\n",
    "    dataset.apply_label_strategy()\n",
    "\n",
    "    df = dataset.df_labels.copy()\n",
    "    raw_data = pd.DataFrame(df.labels.tolist(), columns=dataset.coders, index=df.id)\n",
    "    f1_agreement = pairwise_f1_agreement(raw_data)\n",
    "    raw_data = raw_data.to_numpy()\n",
    "\n",
    "    with (ro.default_converter + numpy2ri.converter).context():\n",
    "        r_mat = ro.conversion.get_conversion().py2rpy(raw_data)\n",
    "\n",
    "    out = irr.kappam_fleiss(r_mat, exact=False)\n",
    "    kappa = np.array(out.rx(\"value\"))[0][0]\n",
    "\n",
    "    out = irr.agree(r_mat, tolerance=0)\n",
    "    agree = np.array(out.rx(\"value\"))[0][0]\n",
    "\n",
    "    out = irr.kripp_alpha(base.t(r_mat), method=\"nominal\")\n",
    "    alpha = np.array(out.rx(\"value\"))[0][0]\n",
    "\n",
    "    return round(kappa, 3), round(alpha, 3), round(agree, 1), round(f1_agreement, 3)"
   ]
  },
  {
   "cell_type": "code",
   "execution_count": 8,
   "id": "b8c8cbcc",
   "metadata": {
    "execution": {
     "iopub.execute_input": "2024-03-26T09:26:35.719617Z",
     "iopub.status.busy": "2024-03-26T09:26:35.719391Z",
     "iopub.status.idle": "2024-03-26T09:26:35.722597Z",
     "shell.execute_reply": "2024-03-26T09:26:35.722255Z"
    },
    "papermill": {
     "duration": 0.006887,
     "end_time": "2024-03-26T09:26:35.723512",
     "exception": false,
     "start_time": "2024-03-26T09:26:35.716625",
     "status": "completed"
    },
    "tags": []
   },
   "outputs": [],
   "source": [
    "coder_sets = {\"all_coders\": dataset.all_coders}\n",
    "\n",
    "label_strategies = [\n",
    "    strategies.PopEliteBin(),\n",
    "    strategies.PopCentrBin(),\n",
    "    strategies.IdeolLeftBin(),\n",
    "    strategies.IdeolRightBin(),\n",
    "]"
   ]
  },
  {
   "attachments": {},
   "cell_type": "markdown",
   "id": "75c4caf9",
   "metadata": {
    "papermill": {
     "duration": 0.002126,
     "end_time": "2024-03-26T09:26:35.727924",
     "exception": false,
     "start_time": "2024-03-26T09:26:35.725798",
     "status": "completed"
    },
    "tags": []
   },
   "source": [
    "# Kappa Values\n"
   ]
  },
  {
   "cell_type": "code",
   "execution_count": 9,
   "id": "59183526",
   "metadata": {
    "execution": {
     "iopub.execute_input": "2024-03-26T09:26:35.732889Z",
     "iopub.status.busy": "2024-03-26T09:26:35.732620Z",
     "iopub.status.idle": "2024-03-26T09:26:42.444693Z",
     "shell.execute_reply": "2024-03-26T09:26:42.444080Z"
    },
    "papermill": {
     "duration": 6.716013,
     "end_time": "2024-03-26T09:26:42.446024",
     "exception": false,
     "start_time": "2024-03-26T09:26:35.730011",
     "status": "completed"
    },
    "tags": []
   },
   "outputs": [],
   "source": [
    "rows = []\n",
    "for strat in label_strategies:\n",
    "    for set_name, coders in coder_sets.items():\n",
    "        kappa, alpha, agree, f1 = calculate_kappa(dataset, strat, coders)\n",
    "        rows.append((type(strat).__name__, set_name, kappa, f1, alpha, agree))\n",
    "\n",
    "table = pd.DataFrame(\n",
    "    rows,\n",
    "    columns=[\n",
    "        \"strategy\",\n",
    "        \"coder_set\",\n",
    "        \"fleiss_kappa\",\n",
    "        \"f1\",\n",
    "        \"krippendorff_alpha\",\n",
    "        \"agree\",\n",
    "    ],\n",
    ").set_index([\"strategy\", \"coder_set\"])"
   ]
  },
  {
   "cell_type": "code",
   "execution_count": 10,
   "id": "73cdd079",
   "metadata": {
    "execution": {
     "iopub.execute_input": "2024-03-26T09:26:42.453342Z",
     "iopub.status.busy": "2024-03-26T09:26:42.453105Z",
     "iopub.status.idle": "2024-03-26T09:26:43.215473Z",
     "shell.execute_reply": "2024-03-26T09:26:43.215036Z"
    },
    "papermill": {
     "duration": 0.766455,
     "end_time": "2024-03-26T09:26:43.216466",
     "exception": false,
     "start_time": "2024-03-26T09:26:42.450011",
     "status": "completed"
    },
    "tags": []
   },
   "outputs": [
    {
     "data": {
      "text/html": [
       "<div>\n",
       "<style scoped>\n",
       "    .dataframe tbody tr th:only-of-type {\n",
       "        vertical-align: middle;\n",
       "    }\n",
       "\n",
       "    .dataframe tbody tr th {\n",
       "        vertical-align: top;\n",
       "    }\n",
       "\n",
       "    .dataframe thead th {\n",
       "        text-align: right;\n",
       "    }\n",
       "</style>\n",
       "<table border=\"1\" class=\"dataframe\">\n",
       "  <thead>\n",
       "    <tr style=\"text-align: right;\">\n",
       "      <th></th>\n",
       "      <th>Label</th>\n",
       "      <th>N</th>\n",
       "      <th>Fleiss' $\\kappa$</th>\n",
       "      <th>Agreement</th>\n",
       "      <th>F1</th>\n",
       "    </tr>\n",
       "  </thead>\n",
       "  <tbody>\n",
       "    <tr>\n",
       "      <th>0</th>\n",
       "      <td>Anti-Elitism</td>\n",
       "      <td>3236</td>\n",
       "      <td>0.410</td>\n",
       "      <td>65.80 \\%</td>\n",
       "      <td>0.496</td>\n",
       "    </tr>\n",
       "    <tr>\n",
       "      <th>1</th>\n",
       "      <td>People-Centrism</td>\n",
       "      <td>1608</td>\n",
       "      <td>0.244</td>\n",
       "      <td>81.80 \\%</td>\n",
       "      <td>0.262</td>\n",
       "    </tr>\n",
       "    <tr>\n",
       "      <th>2</th>\n",
       "      <td>Left-Wing Ideology</td>\n",
       "      <td>1393</td>\n",
       "      <td>0.355</td>\n",
       "      <td>84.50 \\%</td>\n",
       "      <td>0.378</td>\n",
       "    </tr>\n",
       "    <tr>\n",
       "      <th>3</th>\n",
       "      <td>Right-Wing Ideology</td>\n",
       "      <td>773</td>\n",
       "      <td>0.364</td>\n",
       "      <td>91.60 \\%</td>\n",
       "      <td>0.383</td>\n",
       "    </tr>\n",
       "    <tr>\n",
       "      <th>4</th>\n",
       "      <td>\\textbf{Total / Mean}</td>\n",
       "      <td>\\textbf{8795}</td>\n",
       "      <td>\\textbf{0.343}</td>\n",
       "      <td>\\textbf{80.92 \\%}</td>\n",
       "      <td>\\textbf{0.380}</td>\n",
       "    </tr>\n",
       "  </tbody>\n",
       "</table>\n",
       "</div>"
      ],
      "text/plain": [
       "                   Label              N Fleiss' $\\kappa$          Agreement  \\\n",
       "0           Anti-Elitism           3236            0.410           65.80 \\%   \n",
       "1        People-Centrism           1608            0.244           81.80 \\%   \n",
       "2     Left-Wing Ideology           1393            0.355           84.50 \\%   \n",
       "3    Right-Wing Ideology            773            0.364           91.60 \\%   \n",
       "4  \\textbf{Total / Mean}  \\textbf{8795}   \\textbf{0.343}  \\textbf{80.92 \\%}   \n",
       "\n",
       "               F1  \n",
       "0           0.496  \n",
       "1           0.262  \n",
       "2           0.378  \n",
       "3           0.383  \n",
       "4  \\textbf{0.380}  "
      ]
     },
     "execution_count": 10,
     "metadata": {},
     "output_type": "execute_result"
    }
   ],
   "source": [
    "tab = (\n",
    "    table.reset_index()\n",
    "    .drop([\"coder_set\", \"krippendorff_alpha\"], axis=1)\n",
    "    .rename(\n",
    "        {\n",
    "            \"strategy\": \"Label\",\n",
    "            \"f1\": \"F1\",\n",
    "        },\n",
    "        axis=1,\n",
    "    )\n",
    ")\n",
    "tab.Label = tab.Label.replace(\n",
    "    {\n",
    "        \"PopEliteBin\": \"Anti-Elitism\",\n",
    "        \"PopCentrBin\": \"People-Centrism\",\n",
    "        \"IdeolLeftBin\": \"Left-Wing Ideology\",\n",
    "        \"IdeolRightBin\": \"Right-Wing Ideology\",\n",
    "    }\n",
    ")\n",
    "# get number of positive labels\n",
    "dataset.strategy = strategies.MLMin1PopIdeol()\n",
    "dataset.apply_label_strategy()\n",
    "\n",
    "tab[\"N\"] = 0\n",
    "for i in range(0, 4):\n",
    "    tab.loc[tab.index == i, \"N\"] = sum(labels[i] for labels in dataset.df_labels.vote)\n",
    "\n",
    "# table footer\n",
    "footer = (\n",
    "    pd.Series(\n",
    "        {\n",
    "            \"Label\": \"Total / Mean\",\n",
    "            \"fleiss_kappa\": round(tab[\"fleiss_kappa\"].mean(), 3),\n",
    "            \"F1\": round(tab[\"F1\"].mean(), 3),\n",
    "            \"agree\": round(tab[\"agree\"].mean(), 3),\n",
    "            \"N\": len(dataset.df_labels),\n",
    "        },\n",
    "    )\n",
    "    .to_frame()\n",
    "    .T\n",
    ")\n",
    "footer.index = [4]\n",
    "\n",
    "tab = pd.concat([tab, footer])\n",
    "\n",
    "tab[\"agree\"] = [f\"{val:.2f} \\%\" for val in tab[\"agree\"]]\n",
    "tab[\"fleiss_kappa\"] = [f\"{val:.3f}\" for val in tab[\"fleiss_kappa\"]]\n",
    "tab[\"F1\"] = [f\"{val:.3f}\" for val in tab[\"F1\"]]\n",
    "\n",
    "tab = tab[[\"Label\", \"N\", \"fleiss_kappa\", \"agree\", \"F1\"]]\n",
    "\n",
    "tab = tab.rename(\n",
    "    {\n",
    "        \"agree\": \"Agreement\",\n",
    "        \"fleiss_kappa\": \"Fleiss' $\\kappa$\",\n",
    "    },\n",
    "    axis=1,\n",
    ")\n",
    "\n",
    "tab.iloc[4] = [f\"\\\\textbf{{{cell}}}\" for cell in tab.iloc[4]]\n",
    "\n",
    "tab"
   ]
  },
  {
   "cell_type": "markdown",
   "id": "c86d425a",
   "metadata": {
    "papermill": {
     "duration": 0.002322,
     "end_time": "2024-03-26T09:26:43.221387",
     "exception": false,
     "start_time": "2024-03-26T09:26:43.219065",
     "status": "completed"
    },
    "tags": []
   },
   "source": [
    "# Get Number of Labels"
   ]
  },
  {
   "cell_type": "code",
   "execution_count": 11,
   "id": "995f1128",
   "metadata": {
    "execution": {
     "iopub.execute_input": "2024-03-26T09:26:43.226775Z",
     "iopub.status.busy": "2024-03-26T09:26:43.226566Z",
     "iopub.status.idle": "2024-03-26T09:26:43.239518Z",
     "shell.execute_reply": "2024-03-26T09:26:43.239122Z"
    },
    "papermill": {
     "duration": 0.016686,
     "end_time": "2024-03-26T09:26:43.240444",
     "exception": false,
     "start_time": "2024-03-26T09:26:43.223758",
     "status": "completed"
    },
    "tags": []
   },
   "outputs": [
    {
     "name": "stderr",
     "output_type": "stream",
     "text": [
      "/scratch/st_ac138201/job_2947832_o04c04/ipykernel_3978127/560252390.py:1: FutureWarning: In future versions `DataFrame.to_latex` is expected to utilise the base implementation of `Styler.to_latex` for formatting and rendering. The arguments signature may therefore change. It is recommended instead to use `DataFrame.style.to_latex` which also contains additional functionality.\n",
      "  tab.to_latex(src.PATH / \"results/tables/coder_agreement.tex\", index=False, escape=False)\n"
     ]
    }
   ],
   "source": [
    "tab.to_latex(src.PATH / \"results/tables/coder_agreement.tex\", index=False, escape=False)"
   ]
  },
  {
   "cell_type": "code",
   "execution_count": null,
   "id": "fbf312d8",
   "metadata": {
    "papermill": {
     "duration": 0.002321,
     "end_time": "2024-03-26T09:26:43.245222",
     "exception": false,
     "start_time": "2024-03-26T09:26:43.242901",
     "status": "completed"
    },
    "tags": []
   },
   "outputs": [],
   "source": []
  }
 ],
 "metadata": {
  "kernelspec": {
   "display_name": ".venv",
   "language": "python",
   "name": "python3"
  },
  "language_info": {
   "codemirror_mode": {
    "name": "ipython",
    "version": 3
   },
   "file_extension": ".py",
   "mimetype": "text/x-python",
   "name": "python",
   "nbconvert_exporter": "python",
   "pygments_lexer": "ipython3",
   "version": "3.9.18"
  },
  "papermill": {
   "default_parameters": {},
   "duration": 41.323083,
   "end_time": "2024-03-26T09:26:43.963939",
   "environment_variables": {},
   "exception": null,
   "input_path": "code/01-annotator_performance.ipynb",
   "output_path": "code/01-annotator_performance.ipynb",
   "parameters": {},
   "start_time": "2024-03-26T09:26:02.640856",
   "version": "2.5.0"
  }
 },
 "nbformat": 4,
 "nbformat_minor": 5
}
