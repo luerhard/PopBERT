{
 "cells": [
  {
   "cell_type": "code",
   "execution_count": 1,
   "id": "cf11d984",
   "metadata": {
    "execution": {
     "iopub.execute_input": "2024-03-27T20:55:06.555511Z",
     "iopub.status.busy": "2024-03-27T20:55:06.555206Z",
     "iopub.status.idle": "2024-03-27T20:55:08.253575Z",
     "shell.execute_reply": "2024-03-27T20:55:08.253071Z"
    },
    "papermill": {
     "duration": 1.7023,
     "end_time": "2024-03-27T20:55:08.254895",
     "exception": false,
     "start_time": "2024-03-27T20:55:06.552595",
     "status": "completed"
    },
    "tags": []
   },
   "outputs": [],
   "source": [
    "from transformers import AutoTokenizer\n",
    "import torch\n",
    "from transformers import logging\n",
    "import pandas as pd\n",
    "import src\n",
    "from transformers import AutoModelForSequenceClassification"
   ]
  },
  {
   "cell_type": "code",
   "execution_count": 2,
   "id": "0a50acf3",
   "metadata": {
    "execution": {
     "iopub.execute_input": "2024-03-27T20:55:08.258782Z",
     "iopub.status.busy": "2024-03-27T20:55:08.258521Z",
     "iopub.status.idle": "2024-03-27T20:55:08.402832Z",
     "shell.execute_reply": "2024-03-27T20:55:08.402465Z"
    },
    "papermill": {
     "duration": 0.147019,
     "end_time": "2024-03-27T20:55:08.403739",
     "exception": false,
     "start_time": "2024-03-27T20:55:08.256720",
     "status": "completed"
    },
    "tags": []
   },
   "outputs": [
    {
     "name": "stdout",
     "output_type": "stream",
     "text": [
      "cuda\n"
     ]
    }
   ],
   "source": [
    "logging.set_verbosity_error()\n",
    "DEVICE = \"cuda\" if torch.cuda.is_available() else \"cpu\"\n",
    "print(DEVICE)"
   ]
  },
  {
   "cell_type": "code",
   "execution_count": 3,
   "id": "6ae957f7",
   "metadata": {
    "execution": {
     "iopub.execute_input": "2024-03-27T20:55:08.407186Z",
     "iopub.status.busy": "2024-03-27T20:55:08.407034Z",
     "iopub.status.idle": "2024-03-27T20:55:10.911449Z",
     "shell.execute_reply": "2024-03-27T20:55:10.910791Z"
    },
    "papermill": {
     "duration": 2.507625,
     "end_time": "2024-03-27T20:55:10.912841",
     "exception": false,
     "start_time": "2024-03-27T20:55:08.405216",
     "status": "completed"
    },
    "tags": []
   },
   "outputs": [],
   "source": [
    "COMMIT_HASH = \"cf44004e90045cde298e28605ff105747d58aa7a\"\n",
    "\n",
    "tokenizer = AutoTokenizer.from_pretrained(\"luerhard/PopBERT\", revision=COMMIT_HASH)\n",
    "model = AutoModelForSequenceClassification.from_pretrained(\"luerhard/PopBERT\", revision=COMMIT_HASH).to(DEVICE)"
   ]
  },
  {
   "cell_type": "code",
   "execution_count": 4,
   "id": "ae52ec66",
   "metadata": {
    "execution": {
     "iopub.execute_input": "2024-03-27T20:55:10.916728Z",
     "iopub.status.busy": "2024-03-27T20:55:10.916545Z",
     "iopub.status.idle": "2024-03-27T20:55:11.970777Z",
     "shell.execute_reply": "2024-03-27T20:55:11.970224Z"
    },
    "papermill": {
     "duration": 1.057362,
     "end_time": "2024-03-27T20:55:11.971978",
     "exception": false,
     "start_time": "2024-03-27T20:55:10.914616",
     "status": "completed"
    },
    "tags": []
   },
   "outputs": [],
   "source": [
    "df = pd.read_parquet(src.PATH / \"data/raw/sentences.parquet.gzip\")"
   ]
  },
  {
   "cell_type": "code",
   "execution_count": 5,
   "id": "90337b18",
   "metadata": {
    "execution": {
     "iopub.execute_input": "2024-03-27T20:55:11.975831Z",
     "iopub.status.busy": "2024-03-27T20:55:11.975509Z",
     "iopub.status.idle": "2024-03-27T20:55:11.978717Z",
     "shell.execute_reply": "2024-03-27T20:55:11.978398Z"
    },
    "papermill": {
     "duration": 0.005844,
     "end_time": "2024-03-27T20:55:11.979571",
     "exception": false,
     "start_time": "2024-03-27T20:55:11.973727",
     "status": "completed"
    },
    "tags": []
   },
   "outputs": [],
   "source": [
    "def iter_batches(df, batch_size):\n",
    "    i = 0\n",
    "    while (i + batch_size) <= len(df):\n",
    "        slice_df = df.iloc[i : i + batch_size]\n",
    "        i += batch_size\n",
    "        yield slice_df.to_dict(orient=\"list\")\n",
    "    if i < len(df):\n",
    "        slice_df = df.iloc[i:]\n",
    "        yield slice_df.to_dict(orient=\"list\")"
   ]
  },
  {
   "cell_type": "code",
   "execution_count": 6,
   "id": "00665888",
   "metadata": {
    "execution": {
     "iopub.execute_input": "2024-03-27T20:55:11.982896Z",
     "iopub.status.busy": "2024-03-27T20:55:11.982568Z",
     "iopub.status.idle": "2024-03-27T21:58:28.778682Z",
     "shell.execute_reply": "2024-03-27T21:58:28.778033Z"
    },
    "papermill": {
     "duration": 3796.799418,
     "end_time": "2024-03-27T21:58:28.780281",
     "exception": false,
     "start_time": "2024-03-27T20:55:11.980863",
     "status": "completed"
    },
    "tags": []
   },
   "outputs": [],
   "source": [
    "results = []\n",
    "with torch.inference_mode():\n",
    "    for batch in iter_batches(df, 64):\n",
    "        ids, text = batch[\"sample_id\"], batch[\"text\"]\n",
    "        encodings = tokenizer(text, return_tensors=\"pt\", padding=True).to(DEVICE)\n",
    "        out = model(**encodings)\n",
    "        proba_tensor = torch.nn.functional.sigmoid(out.logits)\n",
    "        probas = proba_tensor.cpu().detach().numpy()\n",
    "        \n",
    "        result = pd.DataFrame(probas)\n",
    "        result.columns = [\"elite\", \"pplcentr\", \"left\", \"right\"]\n",
    "        result[\"sample_id\"] = ids\n",
    "        results.append(result)"
   ]
  },
  {
   "cell_type": "code",
   "execution_count": 7,
   "id": "054eb632",
   "metadata": {
    "execution": {
     "iopub.execute_input": "2024-03-27T21:58:28.786767Z",
     "iopub.status.busy": "2024-03-27T21:58:28.786568Z",
     "iopub.status.idle": "2024-03-27T21:58:31.115928Z",
     "shell.execute_reply": "2024-03-27T21:58:31.115466Z"
    },
    "papermill": {
     "duration": 2.333291,
     "end_time": "2024-03-27T21:58:31.117828",
     "exception": false,
     "start_time": "2024-03-27T21:58:28.784537",
     "status": "completed"
    },
    "tags": []
   },
   "outputs": [],
   "source": [
    "out = pd.concat(results)\n",
    "out = out[[\"sample_id\", \"elite\", \"pplcentr\", \"left\", \"right\"]]\n",
    "out.to_parquet(src.PATH / \"data/interim/sentence_predictions.parquet.gzip\", compression=\"gzip\")"
   ]
  }
 ],
 "metadata": {
  "kernelspec": {
   "display_name": ".venv",
   "language": "python",
   "name": "python3"
  },
  "language_info": {
   "codemirror_mode": {
    "name": "ipython",
    "version": 3
   },
   "file_extension": ".py",
   "mimetype": "text/x-python",
   "name": "python",
   "nbconvert_exporter": "python",
   "pygments_lexer": "ipython3",
   "version": "3.9.18"
  },
  "papermill": {
   "default_parameters": {},
   "duration": 3806.546535,
   "end_time": "2024-03-27T21:58:32.143617",
   "environment_variables": {},
   "exception": null,
   "input_path": "code/04-make_predictions.ipynb",
   "output_path": "code/04-make_predictions.ipynb",
   "parameters": {},
   "start_time": "2024-03-27T20:55:05.597082",
   "version": "2.5.0"
  }
 },
 "nbformat": 4,
 "nbformat_minor": 5
}
