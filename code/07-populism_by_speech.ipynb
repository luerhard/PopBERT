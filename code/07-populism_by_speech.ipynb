{
 "cells": [
  {
   "cell_type": "code",
   "execution_count": 1,
   "id": "cd5de0c1",
   "metadata": {
    "execution": {
     "iopub.execute_input": "2024-03-28T07:57:38.913296Z",
     "iopub.status.busy": "2024-03-28T07:57:38.913002Z",
     "iopub.status.idle": "2024-03-28T07:57:41.706693Z",
     "shell.execute_reply": "2024-03-28T07:57:41.706033Z"
    },
    "papermill": {
     "duration": 2.804988,
     "end_time": "2024-03-28T07:57:41.708812",
     "exception": false,
     "start_time": "2024-03-28T07:57:38.903824",
     "status": "completed"
    },
    "tags": []
   },
   "outputs": [
    {
     "name": "stdout",
     "output_type": "stream",
     "text": [
      "- Project '~/git/PopBERT' loaded. [renv 1.0.5]\n"
     ]
    }
   ],
   "source": [
    "%load_ext rpy2.ipython"
   ]
  },
  {
   "cell_type": "code",
   "execution_count": 2,
   "id": "89bea73f-fdac-406d-9717-29b7dd2d76b1",
   "metadata": {
    "execution": {
     "iopub.execute_input": "2024-03-28T07:57:41.717239Z",
     "iopub.status.busy": "2024-03-28T07:57:41.716784Z",
     "iopub.status.idle": "2024-03-28T07:57:41.973317Z",
     "shell.execute_reply": "2024-03-28T07:57:41.972904Z"
    },
    "papermill": {
     "duration": 0.261726,
     "end_time": "2024-03-28T07:57:41.974371",
     "exception": false,
     "start_time": "2024-03-28T07:57:41.712645",
     "status": "completed"
    },
    "tags": []
   },
   "outputs": [],
   "source": [
    "import pandas as pd\n",
    "from sklearn import preprocessing\n",
    "\n",
    "import src\n",
    "import src.pop_aggregate as metrics"
   ]
  },
  {
   "cell_type": "code",
   "execution_count": 3,
   "id": "b73cec08-749b-4602-aa13-118ebedf0b3a",
   "metadata": {
    "execution": {
     "iopub.execute_input": "2024-03-28T07:57:41.977737Z",
     "iopub.status.busy": "2024-03-28T07:57:41.977573Z",
     "iopub.status.idle": "2024-03-28T07:57:41.979407Z",
     "shell.execute_reply": "2024-03-28T07:57:41.979175Z"
    },
    "papermill": {
     "duration": 0.004335,
     "end_time": "2024-03-28T07:57:41.980206",
     "exception": false,
     "start_time": "2024-03-28T07:57:41.975871",
     "status": "completed"
    },
    "tags": []
   },
   "outputs": [],
   "source": [
    "pd.set_option(\"display.max_colwidth\", 2048)\n",
    "pd.set_option(\"display.max_rows\", 256)"
   ]
  },
  {
   "cell_type": "code",
   "execution_count": 4,
   "id": "f0351fe1",
   "metadata": {
    "execution": {
     "iopub.execute_input": "2024-03-28T07:57:41.983445Z",
     "iopub.status.busy": "2024-03-28T07:57:41.983320Z",
     "iopub.status.idle": "2024-03-28T07:57:42.380787Z",
     "shell.execute_reply": "2024-03-28T07:57:42.380481Z"
    },
    "papermill": {
     "duration": 0.400171,
     "end_time": "2024-03-28T07:57:42.381739",
     "exception": false,
     "start_time": "2024-03-28T07:57:41.981568",
     "status": "completed"
    },
    "tags": []
   },
   "outputs": [
    {
     "name": "stdout",
     "output_type": "stream",
     "text": [
      "── Attaching core tidyverse packages ──────────────────────── tidyverse 2.0.0 ──\n",
      "✔ dplyr     1.1.4     ✔ readr     2.1.5\n",
      "✔ forcats   1.0.0     ✔ stringr   1.5.1\n",
      "✔ ggplot2   3.5.0     ✔ tibble    3.2.1\n",
      "✔ lubridate 1.9.3     ✔ tidyr     1.3.1\n",
      "✔ purrr     1.0.2     \n"
     ]
    },
    {
     "name": "stdout",
     "output_type": "stream",
     "text": [
      "── Conflicts ────────────────────────────────────────── tidyverse_conflicts() ──\n",
      "✖ dplyr::filter() masks stats::filter()\n",
      "✖ dplyr::lag()    masks stats::lag()\n",
      "ℹ Use the conflicted package (<http://conflicted.r-lib.org/>) to force all conflicts to become errors\n"
     ]
    },
    {
     "data": {
      "text/plain": [
       "\n",
       "Attaching package: ‘scales’\n",
       "\n",
       "The following object is masked from ‘package:purrr’:\n",
       "\n",
       "    discard\n",
       "\n",
       "The following object is masked from ‘package:readr’:\n",
       "\n",
       "    col_factor\n",
       "\n",
       "here() starts at /Users/lukas/git/PopBERT\n"
      ]
     },
     "metadata": {},
     "output_type": "display_data"
    }
   ],
   "source": [
    "%%R\n",
    "\n",
    "library(tidyverse)\n",
    "library(ggplot2)\n",
    "library(ggpattern)\n",
    "theme_set(theme_minimal())\n",
    "library(scales)\n",
    "library(here)"
   ]
  },
  {
   "cell_type": "markdown",
   "id": "50019de0",
   "metadata": {
    "papermill": {
     "duration": 0.001443,
     "end_time": "2024-03-28T07:57:42.384885",
     "exception": false,
     "start_time": "2024-03-28T07:57:42.383442",
     "status": "completed"
    },
    "tags": []
   },
   "source": [
    "# Load Data"
   ]
  },
  {
   "cell_type": "code",
   "execution_count": 5,
   "id": "a6612852",
   "metadata": {
    "execution": {
     "iopub.execute_input": "2024-03-28T07:57:42.388101Z",
     "iopub.status.busy": "2024-03-28T07:57:42.387991Z",
     "iopub.status.idle": "2024-03-28T07:57:43.237698Z",
     "shell.execute_reply": "2024-03-28T07:57:43.237286Z"
    },
    "papermill": {
     "duration": 0.852465,
     "end_time": "2024-03-28T07:57:43.238709",
     "exception": false,
     "start_time": "2024-03-28T07:57:42.386244",
     "status": "completed"
    },
    "tags": []
   },
   "outputs": [],
   "source": [
    "df = pd.read_parquet(src.PATH / \"data/raw/sentences.parquet.gzip\")\n",
    "preds = pd.read_parquet(src.PATH / \"data/interim/sentence_predictions.parquet.gzip\")\n",
    "\n",
    "df = pd.merge(df, preds, on=\"sample_id\")"
   ]
  },
  {
   "cell_type": "code",
   "execution_count": 6,
   "id": "3bed262a",
   "metadata": {
    "execution": {
     "iopub.execute_input": "2024-03-28T07:57:43.242400Z",
     "iopub.status.busy": "2024-03-28T07:57:43.242288Z",
     "iopub.status.idle": "2024-03-28T07:57:43.244007Z",
     "shell.execute_reply": "2024-03-28T07:57:43.243786Z"
    },
    "papermill": {
     "duration": 0.004351,
     "end_time": "2024-03-28T07:57:43.244786",
     "exception": false,
     "start_time": "2024-03-28T07:57:43.240435",
     "status": "completed"
    },
    "tags": []
   },
   "outputs": [],
   "source": [
    "thresh = {\"elite\": 0.415961, \"pplcentr\": 0.295400, \"left\": 0.429109, \"right\": 0.302714}"
   ]
  },
  {
   "cell_type": "code",
   "execution_count": 7,
   "id": "2da45cbd",
   "metadata": {
    "execution": {
     "iopub.execute_input": "2024-03-28T07:57:43.248413Z",
     "iopub.status.busy": "2024-03-28T07:57:43.248268Z",
     "iopub.status.idle": "2024-03-28T07:57:43.906162Z",
     "shell.execute_reply": "2024-03-28T07:57:43.905791Z"
    },
    "papermill": {
     "duration": 0.660871,
     "end_time": "2024-03-28T07:57:43.907168",
     "exception": false,
     "start_time": "2024-03-28T07:57:43.246297",
     "status": "completed"
    },
    "tags": []
   },
   "outputs": [],
   "source": [
    "for key, val in thresh.items():\n",
    "    df[key] = df[key].apply(lambda x: 1 if x > val else 0)"
   ]
  },
  {
   "cell_type": "code",
   "execution_count": 8,
   "id": "f3f07a36",
   "metadata": {
    "execution": {
     "iopub.execute_input": "2024-03-28T07:57:43.910796Z",
     "iopub.status.busy": "2024-03-28T07:57:43.910691Z",
     "iopub.status.idle": "2024-03-28T07:57:43.912552Z",
     "shell.execute_reply": "2024-03-28T07:57:43.912351Z"
    },
    "papermill": {
     "duration": 0.004477,
     "end_time": "2024-03-28T07:57:43.913341",
     "exception": false,
     "start_time": "2024-03-28T07:57:43.908864",
     "status": "completed"
    },
    "tags": []
   },
   "outputs": [],
   "source": [
    "colormap = {\n",
    "    \"CDU/CSU\": \"#000000\",\n",
    "    \"Grüne\": \"#1AA037\",\n",
    "    \"DIE LINKE\": \"#8B008B\",\n",
    "    \"FDP\": \"#FFEF00\",\n",
    "    \"AfD\": \"#0489DB\",\n",
    "    \"SPD\": \"#E3000F\",\n",
    "}\n",
    "color_names = list(colormap.keys())\n",
    "color_vals = list(colormap.values())"
   ]
  },
  {
   "cell_type": "code",
   "execution_count": 9,
   "id": "8f38e204",
   "metadata": {
    "execution": {
     "iopub.execute_input": "2024-03-28T07:57:43.916944Z",
     "iopub.status.busy": "2024-03-28T07:57:43.916834Z",
     "iopub.status.idle": "2024-03-28T07:57:43.920609Z",
     "shell.execute_reply": "2024-03-28T07:57:43.920320Z"
    },
    "papermill": {
     "duration": 0.006451,
     "end_time": "2024-03-28T07:57:43.921409",
     "exception": false,
     "start_time": "2024-03-28T07:57:43.914958",
     "status": "completed"
    },
    "tags": []
   },
   "outputs": [],
   "source": [
    "%%R -i color_names -i color_vals\n",
    "colors <- setNames(color_vals, color_names)"
   ]
  },
  {
   "cell_type": "markdown",
   "id": "6de2d95e",
   "metadata": {
    "papermill": {
     "duration": 0.001483,
     "end_time": "2024-03-28T07:57:43.924435",
     "exception": false,
     "start_time": "2024-03-28T07:57:43.922952",
     "status": "completed"
    },
    "tags": []
   },
   "source": [
    "# Populism by speech\n"
   ]
  },
  {
   "cell_type": "code",
   "execution_count": 10,
   "id": "6f6c9d72",
   "metadata": {
    "execution": {
     "iopub.execute_input": "2024-03-28T07:57:43.927885Z",
     "iopub.status.busy": "2024-03-28T07:57:43.927779Z",
     "iopub.status.idle": "2024-03-28T07:57:45.246805Z",
     "shell.execute_reply": "2024-03-28T07:57:45.246424Z"
    },
    "papermill": {
     "duration": 1.321858,
     "end_time": "2024-03-28T07:57:45.247824",
     "exception": false,
     "start_time": "2024-03-28T07:57:43.925966",
     "status": "completed"
    },
    "tags": []
   },
   "outputs": [],
   "source": [
    "# filter all speeches with less than 3 sentences\n",
    "df = df.groupby([\"electoral_term\", \"session\", \"politician_id\"]).filter(\n",
    "    lambda x: x[\"sentence_no\"].max() > 3\n",
    ")"
   ]
  },
  {
   "cell_type": "code",
   "execution_count": 11,
   "id": "4c93f60c",
   "metadata": {
    "execution": {
     "iopub.execute_input": "2024-03-28T07:57:45.251579Z",
     "iopub.status.busy": "2024-03-28T07:57:45.251458Z",
     "iopub.status.idle": "2024-03-28T07:57:45.386467Z",
     "shell.execute_reply": "2024-03-28T07:57:45.386101Z"
    },
    "papermill": {
     "duration": 0.137873,
     "end_time": "2024-03-28T07:57:45.387433",
     "exception": false,
     "start_time": "2024-03-28T07:57:45.249560",
     "status": "completed"
    },
    "tags": []
   },
   "outputs": [],
   "source": [
    "df_speech = (\n",
    "    df.drop([\"speech_id\", \"sentence_no\"], axis=1)\n",
    "    .groupby([\"electoral_term\", \"session\", \"politician_id\", \"abbreviation\"])\n",
    "    .mean(numeric_only=True)\n",
    "    .reset_index()\n",
    ")"
   ]
  },
  {
   "attachments": {},
   "cell_type": "markdown",
   "id": "a855e7ff",
   "metadata": {
    "papermill": {
     "duration": 0.001477,
     "end_time": "2024-03-28T07:57:45.390671",
     "exception": false,
     "start_time": "2024-03-28T07:57:45.389194",
     "status": "completed"
    },
    "tags": []
   },
   "source": [
    "# Multiplicative index\n",
    "\n",
    "- antielite and pplcentr are multiplied. pop score is the result\n"
   ]
  },
  {
   "cell_type": "code",
   "execution_count": 12,
   "id": "50a7de83",
   "metadata": {
    "execution": {
     "iopub.execute_input": "2024-03-28T07:57:45.393992Z",
     "iopub.status.busy": "2024-03-28T07:57:45.393890Z",
     "iopub.status.idle": "2024-03-28T07:57:45.396954Z",
     "shell.execute_reply": "2024-03-28T07:57:45.396690Z"
    },
    "papermill": {
     "duration": 0.005839,
     "end_time": "2024-03-28T07:57:45.397931",
     "exception": false,
     "start_time": "2024-03-28T07:57:45.392092",
     "status": "completed"
    },
    "tags": []
   },
   "outputs": [
    {
     "data": {
      "text/plain": [
       "Index(['electoral_term', 'session', 'politician_id', 'abbreviation',\n",
       "       'sample_id', 'sentence_length', 'elite', 'pplcentr', 'left', 'right'],\n",
       "      dtype='object')"
      ]
     },
     "execution_count": 12,
     "metadata": {},
     "output_type": "execute_result"
    }
   ],
   "source": [
    "df_speech.columns"
   ]
  },
  {
   "cell_type": "code",
   "execution_count": 13,
   "id": "089285e6",
   "metadata": {
    "execution": {
     "iopub.execute_input": "2024-03-28T07:57:45.401774Z",
     "iopub.status.busy": "2024-03-28T07:57:45.401666Z",
     "iopub.status.idle": "2024-03-28T07:57:45.863342Z",
     "shell.execute_reply": "2024-03-28T07:57:45.862968Z"
    },
    "papermill": {
     "duration": 0.464719,
     "end_time": "2024-03-28T07:57:45.864363",
     "exception": false,
     "start_time": "2024-03-28T07:57:45.399644",
     "status": "completed"
    },
    "tags": []
   },
   "outputs": [],
   "source": [
    "df_speech[\"pop\"] = df_speech.apply(metrics.multiplicative_index, axis=1)\n",
    "df_speech[\"pop_right\"] = df_speech.elite * df_speech.pplcentr * df_speech.right\n",
    "df_speech[\"pop_left\"] = df_speech.elite * df_speech.pplcentr * df_speech.left\n",
    "df_speech[\"pop_goertz\"] = df_speech.apply(metrics.goertz_index, axis=1)\n",
    "df_speech[\"pop_bollen\"] = df_speech.apply(metrics.bollen_index, axis=1)"
   ]
  },
  {
   "cell_type": "code",
   "execution_count": 14,
   "id": "4d0fedc8",
   "metadata": {
    "execution": {
     "iopub.execute_input": "2024-03-28T07:57:45.868342Z",
     "iopub.status.busy": "2024-03-28T07:57:45.868159Z",
     "iopub.status.idle": "2024-03-28T07:57:46.091426Z",
     "shell.execute_reply": "2024-03-28T07:57:46.091075Z"
    },
    "papermill": {
     "duration": 0.226191,
     "end_time": "2024-03-28T07:57:46.092371",
     "exception": false,
     "start_time": "2024-03-28T07:57:45.866180",
     "status": "completed"
    },
    "tags": []
   },
   "outputs": [],
   "source": [
    "thresh = {\n",
    "    \"elite\": df_speech.elite.quantile(0.75),\n",
    "    \"pplcentr\": df_speech.pplcentr.quantile(0.75),\n",
    "}\n",
    "\n",
    "df_speech[\"pop_sartori\"] = df_speech.apply(\n",
    "    lambda x: metrics.sartori_index(x, threshold=thresh), axis=1\n",
    ")"
   ]
  },
  {
   "cell_type": "code",
   "execution_count": 15,
   "id": "82512dc4",
   "metadata": {
    "execution": {
     "iopub.execute_input": "2024-03-28T07:57:46.096212Z",
     "iopub.status.busy": "2024-03-28T07:57:46.096110Z",
     "iopub.status.idle": "2024-03-28T07:57:46.105549Z",
     "shell.execute_reply": "2024-03-28T07:57:46.105243Z"
    },
    "papermill": {
     "duration": 0.012388,
     "end_time": "2024-03-28T07:57:46.106554",
     "exception": false,
     "start_time": "2024-03-28T07:57:46.094166",
     "status": "completed"
    },
    "tags": []
   },
   "outputs": [],
   "source": [
    "cols = [\n",
    "    \"(a) Populism-Index\",\n",
    "    \"(a) Left-Wing Populism-Index\",\n",
    "    \"(b) Right-Wing Populism-Index\",\n",
    "    \"(b) Goertz-Index\",\n",
    "    \"(c) Bollen-Index\",\n",
    "    \"(d) Sartori-Index\",\n",
    "]\n",
    "\n",
    "mean_pop = (\n",
    "    df_speech.rename(\n",
    "        {\n",
    "            \"abbreviation\": \"Party\",\n",
    "            \"electoral_term\": \"Term\",\n",
    "            \"pop\": \"(a) Populism-Index\",\n",
    "            \"pop_left\": \"(a) Left-Wing Populism-Index\",\n",
    "            \"pop_right\": \"(b) Right-Wing Populism-Index\",\n",
    "            \"pop_goertz\": \"(b) Goertz-Index\",\n",
    "            \"pop_bollen\": \"(c) Bollen-Index\",\n",
    "            \"pop_sartori\": \"(d) Sartori-Index\",\n",
    "        },\n",
    "        axis=1,\n",
    "    )\n",
    "    .groupby([\"Term\", \"Party\"])[cols]\n",
    "    .mean()\n",
    "    .reset_index()\n",
    ")\n",
    "\n",
    "\n",
    "mean_pop_norm = mean_pop.copy()\n",
    "for col in cols:\n",
    "    mean_pop_norm[col] = preprocessing.maxabs_scale(mean_pop_norm[col])\n",
    "\n",
    "\n",
    "def reshape_df(df):\n",
    "    new = pd.melt(df, id_vars=[\"Term\", \"Party\"], value_vars=cols, var_name=\"variable\")\n",
    "    new[\"Party\"] = new.Party.astype(\"category\")\n",
    "    return new\n",
    "\n",
    "\n",
    "mean_pop = reshape_df(mean_pop)\n",
    "mean_pop_norm = reshape_df(mean_pop_norm)"
   ]
  },
  {
   "cell_type": "code",
   "execution_count": 16,
   "id": "af6f5e73",
   "metadata": {
    "execution": {
     "iopub.execute_input": "2024-03-28T07:57:46.110661Z",
     "iopub.status.busy": "2024-03-28T07:57:46.110554Z",
     "iopub.status.idle": "2024-03-28T07:57:46.112217Z",
     "shell.execute_reply": "2024-03-28T07:57:46.111994Z"
    },
    "papermill": {
     "duration": 0.004427,
     "end_time": "2024-03-28T07:57:46.113002",
     "exception": false,
     "start_time": "2024-03-28T07:57:46.108575",
     "status": "completed"
    },
    "tags": []
   },
   "outputs": [],
   "source": [
    "color_names = list(colormap.keys())\n",
    "color_vals = list(colormap.values())"
   ]
  },
  {
   "cell_type": "code",
   "execution_count": 17,
   "id": "c7fbfe02",
   "metadata": {
    "execution": {
     "iopub.execute_input": "2024-03-28T07:57:46.116697Z",
     "iopub.status.busy": "2024-03-28T07:57:46.116544Z",
     "iopub.status.idle": "2024-03-28T07:57:47.576201Z",
     "shell.execute_reply": "2024-03-28T07:57:47.575803Z"
    },
    "papermill": {
     "duration": 1.462641,
     "end_time": "2024-03-28T07:57:47.577232",
     "exception": false,
     "start_time": "2024-03-28T07:57:46.114591",
     "status": "completed"
    },
    "tags": []
   },
   "outputs": [],
   "source": [
    "%%R -i mean_pop -i mean_pop_norm -i color_names -i color_vals\n",
    "library(here)\n",
    "library(tidyverse)\n",
    "library(ggplot2)\n",
    "library(ggpattern)\n",
    "theme_set(theme_minimal())\n",
    "\n",
    "colors <- setNames(color_vals, color_names)\n",
    "\n",
    "create_plot_pop <- function(df) {\n",
    "\n",
    "    vars <-  c(\n",
    "            \"(a) Populism-Index\",\n",
    "            \"(b) Goertz-Index\",\n",
    "            \"(c) Bollen-Index\",\n",
    "            \"(d) Sartori-Index\"\n",
    "        )\n",
    "\n",
    "    df <- df %>% filter(variable %in% vars)\n",
    "\n",
    "    df$Term <- as_factor(df$Term)\n",
    "\n",
    "    df$variable <- fct_relevel(df$variable, vars)\n",
    "\n",
    "    df <- complete(df,\n",
    "        Party = unique(df$Party),\n",
    "        Term = unique(df$Term),\n",
    "        variable = unique(df$variable),\n",
    "        fill=list(value=0)\n",
    "    )\n",
    "    \n",
    "    ggplot(df, aes(x=Party, y=value, fill=Party, pattern=Term)) +\n",
    "        geom_bar_pattern(\n",
    "            position=position_dodge(preserve=\"single\"),\n",
    "            stat=\"identity\",\n",
    "            color=\"grey\",\n",
    "            pattern_fill=\"grey\",\n",
    "            pattern_angle=45,\n",
    "            pattern_density=0.1,\n",
    "            pattern_spacing=0.025,\n",
    "            pattern_key_scale_factor=0.6\n",
    "            ) +\n",
    "        scale_fill_manual(values=colors) +\n",
    "        scale_pattern_manual(values=c(\"18\"=\"stripe\", \"19\"=\"none\")) + \n",
    "        theme(\n",
    "            text=element_text(size=18),\n",
    "            axis.text=element_text(size=14),\n",
    "            axis.text.x=element_blank(), \n",
    "            axis.title.y=element_blank(),\n",
    "            axis.title.x=element_blank(),\n",
    "            strip.text=element_text(size=20)\n",
    "        ) +\n",
    "        facet_wrap(\"~variable\", scales=\"free\", ncol=2) +\n",
    "        guides(pattern = guide_legend(title=\"Term\", override.aes = list(fill = \"white\")),\n",
    "            fill = guide_legend(override.aes = list(pattern = \"none\")))\n",
    "}\n",
    "\n",
    "create_plot_pop_ideol <- function(df) {\n",
    "    vars <-  c(\n",
    "            \"(a) Left-Wing Populism-Index\",\n",
    "            \"(b) Right-Wing Populism-Index\"\n",
    "        )\n",
    "    df <- df %>% filter(variable %in% vars)\n",
    "    df$Term <- as_factor(df$Term)\n",
    "    df$variable <- fct_relevel(df$variable, vars)\n",
    "\n",
    "    df <- complete(df,\n",
    "        Party = unique(df$Party),\n",
    "        Term = unique(df$Term),\n",
    "        variable = unique(df$variable),\n",
    "        fill=list(value=0)\n",
    "    )\n",
    "    \n",
    "    ggplot(df, aes(x=Party, y=value, fill=Party, pattern=Term)) +\n",
    "        geom_bar_pattern(\n",
    "            position=position_dodge(preserve=\"single\"),\n",
    "            stat=\"identity\",\n",
    "            color=\"grey\",\n",
    "            pattern_fill=\"grey\",\n",
    "            pattern_angle=45,\n",
    "            pattern_density=0.1,\n",
    "            pattern_spacing=0.025,\n",
    "            pattern_key_scale_factor=0.6\n",
    "            ) +\n",
    "        scale_fill_manual(values=colors) +\n",
    "        scale_pattern_manual(values=c(\"18\"=\"stripe\", \"19\"=\"none\")) + \n",
    "        theme(\n",
    "            text=element_text(size=18),\n",
    "            axis.text=element_text(size=14),\n",
    "            axis.text.x=element_blank(), \n",
    "            axis.title.y=element_blank(),\n",
    "            axis.title.x=element_blank(),\n",
    "            strip.text=element_text(size=20)\n",
    "        ) +\n",
    "        facet_wrap(\"~variable\", scales=\"free\", ncol=2) +\n",
    "        guides(pattern = guide_legend(title=\"Term\", override.aes = list(fill = \"white\")),\n",
    "            fill = guide_legend(override.aes = list(pattern = \"none\")))\n",
    "}\n",
    "\n",
    "plot <- create_plot_pop(mean_pop)\n",
    "plot\n",
    "ggsave(here(\"results\", \"figures\", \"populism_by_party_measures_orig.pdf\"), width=16, height=9)\n",
    "\n",
    "plot <- create_plot_pop(mean_pop_norm)\n",
    "plot\n",
    "ggsave(here(\"results\", \"figures\", \"populism_by_party_measures_normalized.pdf\"), width=16, height=9)\n"
   ]
  },
  {
   "cell_type": "code",
   "execution_count": null,
   "id": "c97dfb39",
   "metadata": {
    "papermill": {
     "duration": 0.001675,
     "end_time": "2024-03-28T07:57:47.580727",
     "exception": false,
     "start_time": "2024-03-28T07:57:47.579052",
     "status": "completed"
    },
    "tags": []
   },
   "outputs": [],
   "source": []
  }
 ],
 "metadata": {
  "kernelspec": {
   "display_name": ".venv",
   "language": "python",
   "name": "python3"
  },
  "language_info": {
   "codemirror_mode": {
    "name": "ipython",
    "version": 3
   },
   "file_extension": ".py",
   "mimetype": "text/x-python",
   "name": "python",
   "nbconvert_exporter": "python",
   "pygments_lexer": "ipython3",
   "version": "3.9.18"
  },
  "papermill": {
   "default_parameters": {},
   "duration": 9.850953,
   "end_time": "2024-03-28T07:57:47.899714",
   "environment_variables": {},
   "exception": null,
   "input_path": "code/07-populism_by_speech.ipynb",
   "output_path": "code/07-populism_by_speech.ipynb",
   "parameters": {},
   "start_time": "2024-03-28T07:57:38.048761",
   "version": "2.5.0"
  }
 },
 "nbformat": 4,
 "nbformat_minor": 5
}