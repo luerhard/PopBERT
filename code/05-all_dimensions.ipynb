{
 "cells": [
  {
   "cell_type": "code",
   "execution_count": 1,
   "id": "625773a0",
   "metadata": {
    "execution": {
     "iopub.execute_input": "2024-03-27T22:15:37.829451Z",
     "iopub.status.busy": "2024-03-27T22:15:37.828739Z",
     "iopub.status.idle": "2024-03-27T22:15:42.547701Z",
     "shell.execute_reply": "2024-03-27T22:15:42.547105Z"
    },
    "papermill": {
     "duration": 4.737612,
     "end_time": "2024-03-27T22:15:42.550523",
     "exception": false,
     "start_time": "2024-03-27T22:15:37.812911",
     "status": "completed"
    },
    "tags": []
   },
   "outputs": [
    {
     "name": "stdout",
     "output_type": "stream",
     "text": [
      "- Project '~/git/PopBERT' loaded. [renv 1.0.5]\n"
     ]
    }
   ],
   "source": [
    "%load_ext rpy2.ipython"
   ]
  },
  {
   "cell_type": "code",
   "execution_count": 2,
   "id": "b2d01208",
   "metadata": {
    "execution": {
     "iopub.execute_input": "2024-03-27T22:15:42.558563Z",
     "iopub.status.busy": "2024-03-27T22:15:42.558119Z",
     "iopub.status.idle": "2024-03-27T22:15:42.817128Z",
     "shell.execute_reply": "2024-03-27T22:15:42.816688Z"
    },
    "papermill": {
     "duration": 0.264088,
     "end_time": "2024-03-27T22:15:42.818162",
     "exception": false,
     "start_time": "2024-03-27T22:15:42.554074",
     "status": "completed"
    },
    "tags": []
   },
   "outputs": [],
   "source": [
    "import pandas as pd\n",
    "from sklearn import preprocessing\n",
    "\n",
    "import src"
   ]
  },
  {
   "cell_type": "code",
   "execution_count": 3,
   "id": "6098b916",
   "metadata": {
    "execution": {
     "iopub.execute_input": "2024-03-27T22:15:42.821326Z",
     "iopub.status.busy": "2024-03-27T22:15:42.821164Z",
     "iopub.status.idle": "2024-03-27T22:15:43.281600Z",
     "shell.execute_reply": "2024-03-27T22:15:43.281364Z"
    },
    "papermill": {
     "duration": 0.462921,
     "end_time": "2024-03-27T22:15:43.282456",
     "exception": false,
     "start_time": "2024-03-27T22:15:42.819535",
     "status": "completed"
    },
    "tags": []
   },
   "outputs": [
    {
     "name": "stdout",
     "output_type": "stream",
     "text": [
      "── Attaching core tidyverse packages ──────────────────────── tidyverse 2.0.0 ──\n",
      "✔ dplyr     1.1.4     ✔ readr     2.1.5\n",
      "✔ forcats   1.0.0     ✔ stringr   1.5.1\n",
      "✔ ggplot2   3.5.0     ✔ tibble    3.2.1\n",
      "✔ lubridate 1.9.3     ✔ tidyr     1.3.1\n",
      "✔ purrr     1.0.2     \n"
     ]
    },
    {
     "name": "stdout",
     "output_type": "stream",
     "text": [
      "── Conflicts ────────────────────────────────────────── tidyverse_conflicts() ──\n",
      "✖ dplyr::filter() masks stats::filter()\n",
      "✖ dplyr::lag()    masks stats::lag()\n",
      "ℹ Use the conflicted package (<http://conflicted.r-lib.org/>) to force all conflicts to become errors\n"
     ]
    },
    {
     "data": {
      "text/plain": [
       "\n",
       "Attaching package: ‘scales’\n",
       "\n",
       "The following object is masked from ‘package:purrr’:\n",
       "\n",
       "    discard\n",
       "\n",
       "The following object is masked from ‘package:readr’:\n",
       "\n",
       "    col_factor\n",
       "\n",
       "here() starts at /Users/lukas/git/PopBERT\n"
      ]
     },
     "metadata": {},
     "output_type": "display_data"
    }
   ],
   "source": [
    "%%R\n",
    "\n",
    "library(tidyverse)\n",
    "library(ggplot2)\n",
    "library(ggpattern)\n",
    "theme_set(theme_minimal())\n",
    "library(scales)\n",
    "library(here)"
   ]
  },
  {
   "attachments": {},
   "cell_type": "markdown",
   "id": "a78889d7-6cf2-4f02-ba46-59290ab3c448",
   "metadata": {
    "papermill": {
     "duration": 0.001298,
     "end_time": "2024-03-27T22:15:43.285264",
     "exception": false,
     "start_time": "2024-03-27T22:15:43.283966",
     "status": "completed"
    },
    "tags": []
   },
   "source": [
    "# Load data"
   ]
  },
  {
   "cell_type": "code",
   "execution_count": 4,
   "id": "004391a7",
   "metadata": {
    "execution": {
     "iopub.execute_input": "2024-03-27T22:15:43.288150Z",
     "iopub.status.busy": "2024-03-27T22:15:43.288041Z",
     "iopub.status.idle": "2024-03-27T22:15:44.137349Z",
     "shell.execute_reply": "2024-03-27T22:15:44.136952Z"
    },
    "papermill": {
     "duration": 0.851914,
     "end_time": "2024-03-27T22:15:44.138354",
     "exception": false,
     "start_time": "2024-03-27T22:15:43.286440",
     "status": "completed"
    },
    "tags": []
   },
   "outputs": [],
   "source": [
    "df = pd.read_parquet(src.PATH / \"data/raw/sentences.parquet.gzip\")\n",
    "preds = pd.read_parquet(src.PATH / \"data/interim/sentence_predictions.parquet.gzip\")\n",
    "\n",
    "df = pd.merge(df, preds, on=\"sample_id\")"
   ]
  },
  {
   "cell_type": "code",
   "execution_count": 5,
   "id": "ab25ac4c",
   "metadata": {
    "execution": {
     "iopub.execute_input": "2024-03-27T22:15:44.141619Z",
     "iopub.status.busy": "2024-03-27T22:15:44.141512Z",
     "iopub.status.idle": "2024-03-27T22:15:44.143215Z",
     "shell.execute_reply": "2024-03-27T22:15:44.142964Z"
    },
    "papermill": {
     "duration": 0.004168,
     "end_time": "2024-03-27T22:15:44.144009",
     "exception": false,
     "start_time": "2024-03-27T22:15:44.139841",
     "status": "completed"
    },
    "tags": []
   },
   "outputs": [],
   "source": [
    "thresh = {\"elite\": 0.415961, \"pplcentr\": 0.295400, \"left\": 0.429109, \"right\": 0.302714}"
   ]
  },
  {
   "cell_type": "code",
   "execution_count": 6,
   "id": "321a2451",
   "metadata": {
    "execution": {
     "iopub.execute_input": "2024-03-27T22:15:44.147010Z",
     "iopub.status.busy": "2024-03-27T22:15:44.146918Z",
     "iopub.status.idle": "2024-03-27T22:15:44.803314Z",
     "shell.execute_reply": "2024-03-27T22:15:44.802931Z"
    },
    "papermill": {
     "duration": 0.659004,
     "end_time": "2024-03-27T22:15:44.804361",
     "exception": false,
     "start_time": "2024-03-27T22:15:44.145357",
     "status": "completed"
    },
    "tags": []
   },
   "outputs": [],
   "source": [
    "for key, val in thresh.items():\n",
    "    df[key] = df[key].apply(lambda x: 1 if x > val else 0)"
   ]
  },
  {
   "cell_type": "code",
   "execution_count": 7,
   "id": "afbcafee",
   "metadata": {
    "execution": {
     "iopub.execute_input": "2024-03-27T22:15:44.807745Z",
     "iopub.status.busy": "2024-03-27T22:15:44.807629Z",
     "iopub.status.idle": "2024-03-27T22:15:44.831530Z",
     "shell.execute_reply": "2024-03-27T22:15:44.831306Z"
    },
    "papermill": {
     "duration": 0.02645,
     "end_time": "2024-03-27T22:15:44.832345",
     "exception": false,
     "start_time": "2024-03-27T22:15:44.805895",
     "status": "completed"
    },
    "tags": []
   },
   "outputs": [
    {
     "data": {
      "text/plain": [
       "array(['CDU/CSU', 'FDP', 'AfD', 'DIE LINKE', 'Grüne', 'SPD'], dtype=object)"
      ]
     },
     "execution_count": 7,
     "metadata": {},
     "output_type": "execute_result"
    }
   ],
   "source": [
    "df.abbreviation.unique()"
   ]
  },
  {
   "cell_type": "code",
   "execution_count": 8,
   "id": "61ea9609-be6c-4447-83c8-5c2a686d6b1c",
   "metadata": {
    "execution": {
     "iopub.execute_input": "2024-03-27T22:15:44.835497Z",
     "iopub.status.busy": "2024-03-27T22:15:44.835320Z",
     "iopub.status.idle": "2024-03-27T22:15:44.837241Z",
     "shell.execute_reply": "2024-03-27T22:15:44.837042Z"
    },
    "papermill": {
     "duration": 0.004284,
     "end_time": "2024-03-27T22:15:44.837986",
     "exception": false,
     "start_time": "2024-03-27T22:15:44.833702",
     "status": "completed"
    },
    "tags": []
   },
   "outputs": [],
   "source": [
    "colormap = {\n",
    "    \"CDU/CSU\": \"#000000\",\n",
    "    \"Grüne\": \"#1AA037\",\n",
    "    \"DIE LINKE\": \"#8B008B\",  # SPD complementary for visual disambiguation\n",
    "    \"FDP\": \"#FFEF00\",\n",
    "    \"AfD\": \"#0489DB\",\n",
    "    \"SPD\": \"#E3000F\",\n",
    "}\n",
    "color_names = list(colormap.keys())\n",
    "color_vals = list(colormap.values())"
   ]
  },
  {
   "cell_type": "code",
   "execution_count": 9,
   "id": "15526578",
   "metadata": {
    "execution": {
     "iopub.execute_input": "2024-03-27T22:15:44.840874Z",
     "iopub.status.busy": "2024-03-27T22:15:44.840783Z",
     "iopub.status.idle": "2024-03-27T22:15:44.844053Z",
     "shell.execute_reply": "2024-03-27T22:15:44.843823Z"
    },
    "papermill": {
     "duration": 0.005611,
     "end_time": "2024-03-27T22:15:44.844816",
     "exception": false,
     "start_time": "2024-03-27T22:15:44.839205",
     "status": "completed"
    },
    "tags": []
   },
   "outputs": [],
   "source": [
    "%%R -i color_names -i color_vals\n",
    "colors <- setNames(color_vals, color_names)"
   ]
  },
  {
   "cell_type": "code",
   "execution_count": 10,
   "id": "c2e2ef84-7df7-4432-8b9a-f366ba8cd211",
   "metadata": {
    "execution": {
     "iopub.execute_input": "2024-03-27T22:15:44.847705Z",
     "iopub.status.busy": "2024-03-27T22:15:44.847615Z",
     "iopub.status.idle": "2024-03-27T22:15:45.293588Z",
     "shell.execute_reply": "2024-03-27T22:15:45.293239Z"
    },
    "papermill": {
     "duration": 0.448484,
     "end_time": "2024-03-27T22:15:45.294544",
     "exception": false,
     "start_time": "2024-03-27T22:15:44.846060",
     "status": "completed"
    },
    "tags": []
   },
   "outputs": [],
   "source": [
    "plot = df.drop(\"text\", axis=1).dropna()\n",
    "plot.abbreviation = plot.abbreviation.astype(\"category\")"
   ]
  },
  {
   "cell_type": "code",
   "execution_count": 11,
   "id": "9115680b",
   "metadata": {
    "execution": {
     "iopub.execute_input": "2024-03-27T22:15:45.297980Z",
     "iopub.status.busy": "2024-03-27T22:15:45.297869Z",
     "iopub.status.idle": "2024-03-27T22:15:45.378980Z",
     "shell.execute_reply": "2024-03-27T22:15:45.378734Z"
    },
    "papermill": {
     "duration": 0.083736,
     "end_time": "2024-03-27T22:15:45.379873",
     "exception": false,
     "start_time": "2024-03-27T22:15:45.296137",
     "status": "completed"
    },
    "tags": []
   },
   "outputs": [],
   "source": [
    "plot_df = (\n",
    "    df.groupby([\"electoral_term\", \"abbreviation\"])\n",
    "    .mean(numeric_only=True)\n",
    "    .reset_index()\n",
    "    .rename(\n",
    "        {\n",
    "            \"abbreviation\": \"Party\",\n",
    "            \"elite\": \"(a) Anti-Elitism\",\n",
    "            \"pplcentr\": \"(b) People-Centrism\",\n",
    "            \"left\": \"(c) Left-Wing Host-Ideology\",\n",
    "            \"right\": \"(d) Right-Wing Host-Ideology\",\n",
    "        },\n",
    "        axis=1,\n",
    "    )\n",
    ")\n",
    "\n",
    "cols = [\n",
    "    \"(a) Anti-Elitism\",\n",
    "    \"(b) People-Centrism\",\n",
    "    \"(c) Left-Wing Host-Ideology\",\n",
    "    \"(d) Right-Wing Host-Ideology\",\n",
    "]\n",
    "\n",
    "plot_df_norm = plot_df.copy()\n",
    "for col in cols:\n",
    "    plot_df_norm[col] = preprocessing.maxabs_scale(plot_df_norm[col])\n",
    "\n",
    "\n",
    "def reshape_df(df):\n",
    "    new = pd.melt(df, id_vars=[\"Party\", \"electoral_term\"], value_vars=cols, var_name=\"variable\")\n",
    "    new[\"Party\"] = new.Party.astype(\"category\")\n",
    "    return new\n",
    "\n",
    "\n",
    "plot_df = reshape_df(plot_df)\n",
    "plot_df_norm = reshape_df(plot_df_norm)"
   ]
  },
  {
   "cell_type": "code",
   "execution_count": 12,
   "id": "1ab1eabc",
   "metadata": {
    "execution": {
     "iopub.execute_input": "2024-03-27T22:15:45.383108Z",
     "iopub.status.busy": "2024-03-27T22:15:45.383002Z",
     "iopub.status.idle": "2024-03-27T22:15:45.385530Z",
     "shell.execute_reply": "2024-03-27T22:15:45.385308Z"
    },
    "papermill": {
     "duration": 0.004979,
     "end_time": "2024-03-27T22:15:45.386312",
     "exception": false,
     "start_time": "2024-03-27T22:15:45.381333",
     "status": "completed"
    },
    "tags": []
   },
   "outputs": [
    {
     "data": {
      "text/plain": [
       "['CDU/CSU', 'DIE LINKE', 'Grüne', 'SPD', 'AfD', 'FDP']\n",
       "Categories (6, object): ['AfD', 'CDU/CSU', 'DIE LINKE', 'FDP', 'Grüne', 'SPD']"
      ]
     },
     "execution_count": 12,
     "metadata": {},
     "output_type": "execute_result"
    }
   ],
   "source": [
    "plot_df.Party.unique()"
   ]
  },
  {
   "cell_type": "code",
   "execution_count": 13,
   "id": "cc6141ff",
   "metadata": {
    "execution": {
     "iopub.execute_input": "2024-03-27T22:15:45.389439Z",
     "iopub.status.busy": "2024-03-27T22:15:45.389330Z",
     "iopub.status.idle": "2024-03-27T22:15:45.394115Z",
     "shell.execute_reply": "2024-03-27T22:15:45.393908Z"
    },
    "papermill": {
     "duration": 0.007288,
     "end_time": "2024-03-27T22:15:45.394894",
     "exception": false,
     "start_time": "2024-03-27T22:15:45.387606",
     "status": "completed"
    },
    "tags": []
   },
   "outputs": [],
   "source": [
    "%%R -i plot_df -i plot_df_norm \n",
    "\n",
    "\n",
    "create_plot <- function(df, log_y=\"identity\", scales=\"free\") {\n",
    "    df$electoral_term <- as_factor(df$electoral_term)\n",
    "    df$variable <- fct_relevel(df$variable, c(\"(a) Anti-Elitism\", \"(b) People-Centrism\", \"(c) Left-Wing Host-Ideology\", \"(d) Right-Wing Host-Ideology\"))\n",
    "    df <- complete(df, Party = unique(df$Party), electoral_term = unique(df$electoral_term), variable = unique(df$variable), fill=list(value=0))\n",
    "    plot <- ggplot(df, aes_string(x=\"Party\", y=\"value\", fill=\"Party\", pattern=\"electoral_term\")) +\n",
    "        geom_bar_pattern(\n",
    "            position=position_dodge(preserve=\"single\"),\n",
    "            stat=\"identity\",\n",
    "            color=\"grey\",\n",
    "            pattern_fill=\"grey\",\n",
    "            pattern_angle=45,\n",
    "            pattern_density=0.1,\n",
    "            pattern_spacing=0.025,\n",
    "            pattern_key_scale_factor=0.6\n",
    "            ) +\n",
    "        scale_fill_manual(values=colors) +\n",
    "        scale_pattern_manual(values=c(\"18\"=\"stripe\", \"19\"=\"none\")) +\n",
    "        scale_y_continuous(trans=log_y) +\n",
    "        theme(\n",
    "            text=element_text(size=18),\n",
    "            axis.text=element_text(size=14),\n",
    "            axis.text.x=element_blank(), \n",
    "            axis.title.y=element_blank(),\n",
    "            axis.title.x=element_blank(),\n",
    "            strip.text=element_text(size=20)\n",
    "        ) +\n",
    "        facet_wrap(\"~variable\", scales=scales) +\n",
    "        guides(pattern = guide_legend(title=\"Term\", override.aes = list(fill = \"white\")),\n",
    "            fill = guide_legend(override.aes = list(pattern = \"none\")))\n",
    "        \n",
    "        return(plot)\n",
    "\n",
    "}\n"
   ]
  },
  {
   "cell_type": "code",
   "execution_count": 14,
   "id": "8c0cb1ec",
   "metadata": {
    "execution": {
     "iopub.execute_input": "2024-03-27T22:15:45.398078Z",
     "iopub.status.busy": "2024-03-27T22:15:45.397989Z",
     "iopub.status.idle": "2024-03-27T22:15:46.976617Z",
     "shell.execute_reply": "2024-03-27T22:15:46.976359Z"
    },
    "papermill": {
     "duration": 1.581101,
     "end_time": "2024-03-27T22:15:46.977428",
     "exception": false,
     "start_time": "2024-03-27T22:15:45.396327",
     "status": "completed"
    },
    "tags": []
   },
   "outputs": [
    {
     "data": {
      "text/plain": [
       "In addition: Warning message:\n",
       "`aes_string()` was deprecated in ggplot2 3.0.0.\n",
       "ℹ Please use tidy evaluation idioms with `aes()`.\n",
       "ℹ See also `vignette(\"ggplot2-in-packages\")` for more information.\n",
       "This warning is displayed once every 8 hours.\n",
       "Call `lifecycle::last_lifecycle_warnings()` to see where this warning was\n",
       "generated. \n"
      ]
     },
     "metadata": {},
     "output_type": "display_data"
    },
    {
     "data": {
      "image/png": "[encoded data removed]",
      "text/plain": [
       "<IPython.core.display.Image object>"
      ]
     },
     "metadata": {},
     "output_type": "display_data"
    }
   ],
   "source": [
    "%%R -w 800 -h 600\n",
    "plot <- create_plot(plot_df_norm, scales=\"free\")\n",
    "ggsave(here(\"results\", \"figures\", \"all_dimensions_normalized.pdf\"), width=16, height=9)\n",
    "plot"
   ]
  }
 ],
 "metadata": {
  "kernelspec": {
   "display_name": "Python 3",
   "language": "python",
   "name": "python3"
  },
  "language_info": {
   "codemirror_mode": {
    "name": "ipython",
    "version": 3
   },
   "file_extension": ".py",
   "mimetype": "text/x-python",
   "name": "python",
   "nbconvert_exporter": "python",
   "pygments_lexer": "ipython3",
   "version": "3.9.18"
  },
  "papermill": {
   "default_parameters": {},
   "duration": 10.343645,
   "end_time": "2024-03-27T22:15:47.296500",
   "environment_variables": {},
   "exception": null,
   "input_path": "code/05-all_dimensions.ipynb",
   "output_path": "code/05-all_dimensions.ipynb",
   "parameters": {},
   "start_time": "2024-03-27T22:15:36.952855",
   "version": "2.5.0"
  }
 },
 "nbformat": 4,
 "nbformat_minor": 5
}