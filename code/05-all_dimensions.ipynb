{
 "cells": [
  {
   "cell_type": "code",
   "execution_count": 1,
   "id": "625773a0",
   "metadata": {
    "execution": {
     "iopub.execute_input": "2024-03-28T07:57:29.966956Z",
     "iopub.status.busy": "2024-03-28T07:57:29.966314Z",
     "iopub.status.idle": "2024-03-28T07:57:32.718396Z",
     "shell.execute_reply": "2024-03-28T07:57:32.717821Z"
    },
    "papermill": {
     "duration": 2.764178,
     "end_time": "2024-03-28T07:57:32.720590",
     "exception": false,
     "start_time": "2024-03-28T07:57:29.956412",
     "status": "completed"
    },
    "tags": []
   },
   "outputs": [
    {
     "name": "stdout",
     "output_type": "stream",
     "text": [
      "- Project '~/git/PopBERT' loaded. [renv 1.0.5]\n"
     ]
    }
   ],
   "source": [
    "%load_ext rpy2.ipython"
   ]
  },
  {
   "cell_type": "code",
   "execution_count": 2,
   "id": "b2d01208",
   "metadata": {
    "execution": {
     "iopub.execute_input": "2024-03-28T07:57:32.728259Z",
     "iopub.status.busy": "2024-03-28T07:57:32.727960Z",
     "iopub.status.idle": "2024-03-28T07:57:32.989370Z",
     "shell.execute_reply": "2024-03-28T07:57:32.989030Z"
    },
    "papermill": {
     "duration": 0.266365,
     "end_time": "2024-03-28T07:57:32.990441",
     "exception": false,
     "start_time": "2024-03-28T07:57:32.724076",
     "status": "completed"
    },
    "tags": []
   },
   "outputs": [],
   "source": [
    "import pandas as pd\n",
    "from sklearn import preprocessing\n",
    "\n",
    "import src"
   ]
  },
  {
   "cell_type": "code",
   "execution_count": 3,
   "id": "6098b916",
   "metadata": {
    "execution": {
     "iopub.execute_input": "2024-03-28T07:57:32.993517Z",
     "iopub.status.busy": "2024-03-28T07:57:32.993336Z",
     "iopub.status.idle": "2024-03-28T07:57:33.464448Z",
     "shell.execute_reply": "2024-03-28T07:57:33.464217Z"
    },
    "papermill": {
     "duration": 0.473573,
     "end_time": "2024-03-28T07:57:33.465323",
     "exception": false,
     "start_time": "2024-03-28T07:57:32.991750",
     "status": "completed"
    },
    "tags": []
   },
   "outputs": [
    {
     "name": "stdout",
     "output_type": "stream",
     "text": [
      "── Attaching core tidyverse packages ──────────────────────── tidyverse 2.0.0 ──\n",
      "✔ dplyr     1.1.4     ✔ readr     2.1.5\n",
      "✔ forcats   1.0.0     ✔ stringr   1.5.1\n",
      "✔ ggplot2   3.5.0     ✔ tibble    3.2.1\n",
      "✔ lubridate 1.9.3     ✔ tidyr     1.3.1\n",
      "✔ purrr     1.0.2     \n"
     ]
    },
    {
     "name": "stdout",
     "output_type": "stream",
     "text": [
      "── Conflicts ────────────────────────────────────────── tidyverse_conflicts() ──\n",
      "✖ dplyr::filter() masks stats::filter()\n",
      "✖ dplyr::lag()    masks stats::lag()\n",
      "ℹ Use the conflicted package (<http://conflicted.r-lib.org/>) to force all conflicts to become errors\n"
     ]
    },
    {
     "data": {
      "text/plain": [
       "\n",
       "Attaching package: ‘scales’\n",
       "\n",
       "The following object is masked from ‘package:purrr’:\n",
       "\n",
       "    discard\n",
       "\n",
       "The following object is masked from ‘package:readr’:\n",
       "\n",
       "    col_factor\n",
       "\n",
       "here() starts at /Users/lukas/git/PopBERT\n"
      ]
     },
     "metadata": {},
     "output_type": "display_data"
    }
   ],
   "source": [
    "%%R\n",
    "\n",
    "library(tidyverse)\n",
    "library(ggplot2)\n",
    "library(ggpattern)\n",
    "theme_set(theme_minimal())\n",
    "library(scales)\n",
    "library(here)"
   ]
  },
  {
   "attachments": {},
   "cell_type": "markdown",
   "id": "a78889d7-6cf2-4f02-ba46-59290ab3c448",
   "metadata": {
    "papermill": {
     "duration": 0.001236,
     "end_time": "2024-03-28T07:57:33.467976",
     "exception": false,
     "start_time": "2024-03-28T07:57:33.466740",
     "status": "completed"
    },
    "tags": []
   },
   "source": [
    "# Load data"
   ]
  },
  {
   "cell_type": "code",
   "execution_count": 4,
   "id": "004391a7",
   "metadata": {
    "execution": {
     "iopub.execute_input": "2024-03-28T07:57:33.470770Z",
     "iopub.status.busy": "2024-03-28T07:57:33.470662Z",
     "iopub.status.idle": "2024-03-28T07:57:34.333949Z",
     "shell.execute_reply": "2024-03-28T07:57:34.333563Z"
    },
    "papermill": {
     "duration": 0.865871,
     "end_time": "2024-03-28T07:57:34.334994",
     "exception": false,
     "start_time": "2024-03-28T07:57:33.469123",
     "status": "completed"
    },
    "tags": []
   },
   "outputs": [],
   "source": [
    "df = pd.read_parquet(src.PATH / \"data/raw/sentences.parquet.gzip\")\n",
    "preds = pd.read_parquet(src.PATH / \"data/interim/sentence_predictions.parquet.gzip\")\n",
    "\n",
    "df = pd.merge(df, preds, on=\"sample_id\")"
   ]
  },
  {
   "cell_type": "code",
   "execution_count": 5,
   "id": "ab25ac4c",
   "metadata": {
    "execution": {
     "iopub.execute_input": "2024-03-28T07:57:34.338195Z",
     "iopub.status.busy": "2024-03-28T07:57:34.338074Z",
     "iopub.status.idle": "2024-03-28T07:57:34.339828Z",
     "shell.execute_reply": "2024-03-28T07:57:34.339601Z"
    },
    "papermill": {
     "duration": 0.004215,
     "end_time": "2024-03-28T07:57:34.340664",
     "exception": false,
     "start_time": "2024-03-28T07:57:34.336449",
     "status": "completed"
    },
    "tags": []
   },
   "outputs": [],
   "source": [
    "thresh = {\"elite\": 0.415961, \"pplcentr\": 0.295400, \"left\": 0.429109, \"right\": 0.302714}"
   ]
  },
  {
   "cell_type": "code",
   "execution_count": 6,
   "id": "321a2451",
   "metadata": {
    "execution": {
     "iopub.execute_input": "2024-03-28T07:57:34.343668Z",
     "iopub.status.busy": "2024-03-28T07:57:34.343557Z",
     "iopub.status.idle": "2024-03-28T07:57:34.987404Z",
     "shell.execute_reply": "2024-03-28T07:57:34.987040Z"
    },
    "papermill": {
     "duration": 0.646476,
     "end_time": "2024-03-28T07:57:34.988376",
     "exception": false,
     "start_time": "2024-03-28T07:57:34.341900",
     "status": "completed"
    },
    "tags": []
   },
   "outputs": [],
   "source": [
    "for key, val in thresh.items():\n",
    "    df[key] = df[key].apply(lambda x: 1 if x > val else 0)"
   ]
  },
  {
   "cell_type": "code",
   "execution_count": 7,
   "id": "61ea9609-be6c-4447-83c8-5c2a686d6b1c",
   "metadata": {
    "execution": {
     "iopub.execute_input": "2024-03-28T07:57:34.991518Z",
     "iopub.status.busy": "2024-03-28T07:57:34.991406Z",
     "iopub.status.idle": "2024-03-28T07:57:34.993390Z",
     "shell.execute_reply": "2024-03-28T07:57:34.993172Z"
    },
    "papermill": {
     "duration": 0.004418,
     "end_time": "2024-03-28T07:57:34.994196",
     "exception": false,
     "start_time": "2024-03-28T07:57:34.989778",
     "status": "completed"
    },
    "tags": []
   },
   "outputs": [],
   "source": [
    "colormap = {\n",
    "    \"CDU/CSU\": \"#000000\",\n",
    "    \"Grüne\": \"#1AA037\",\n",
    "    \"DIE LINKE\": \"#8B008B\",  # SPD complementary for visual disambiguation\n",
    "    \"FDP\": \"#FFEF00\",\n",
    "    \"AfD\": \"#0489DB\",\n",
    "    \"SPD\": \"#E3000F\",\n",
    "}\n",
    "color_names = list(colormap.keys())\n",
    "color_vals = list(colormap.values())"
   ]
  },
  {
   "cell_type": "code",
   "execution_count": 8,
   "id": "15526578",
   "metadata": {
    "execution": {
     "iopub.execute_input": "2024-03-28T07:57:34.997195Z",
     "iopub.status.busy": "2024-03-28T07:57:34.997090Z",
     "iopub.status.idle": "2024-03-28T07:57:35.000581Z",
     "shell.execute_reply": "2024-03-28T07:57:35.000360Z"
    },
    "papermill": {
     "duration": 0.006016,
     "end_time": "2024-03-28T07:57:35.001460",
     "exception": false,
     "start_time": "2024-03-28T07:57:34.995444",
     "status": "completed"
    },
    "tags": []
   },
   "outputs": [],
   "source": [
    "%%R -i color_names -i color_vals\n",
    "colors <- setNames(color_vals, color_names)"
   ]
  },
  {
   "cell_type": "code",
   "execution_count": 9,
   "id": "c2e2ef84-7df7-4432-8b9a-f366ba8cd211",
   "metadata": {
    "execution": {
     "iopub.execute_input": "2024-03-28T07:57:35.004437Z",
     "iopub.status.busy": "2024-03-28T07:57:35.004345Z",
     "iopub.status.idle": "2024-03-28T07:57:35.453495Z",
     "shell.execute_reply": "2024-03-28T07:57:35.453121Z"
    },
    "papermill": {
     "duration": 0.451719,
     "end_time": "2024-03-28T07:57:35.454503",
     "exception": false,
     "start_time": "2024-03-28T07:57:35.002784",
     "status": "completed"
    },
    "tags": []
   },
   "outputs": [],
   "source": [
    "plot = df.drop(\"text\", axis=1).dropna()\n",
    "plot.abbreviation = plot.abbreviation.astype(\"category\")"
   ]
  },
  {
   "cell_type": "code",
   "execution_count": 10,
   "id": "9115680b",
   "metadata": {
    "execution": {
     "iopub.execute_input": "2024-03-28T07:57:35.457629Z",
     "iopub.status.busy": "2024-03-28T07:57:35.457528Z",
     "iopub.status.idle": "2024-03-28T07:57:35.536869Z",
     "shell.execute_reply": "2024-03-28T07:57:35.536551Z"
    },
    "papermill": {
     "duration": 0.081913,
     "end_time": "2024-03-28T07:57:35.537834",
     "exception": false,
     "start_time": "2024-03-28T07:57:35.455921",
     "status": "completed"
    },
    "tags": []
   },
   "outputs": [],
   "source": [
    "plot_df = (\n",
    "    df.groupby([\"electoral_term\", \"abbreviation\"])\n",
    "    .mean(numeric_only=True)\n",
    "    .reset_index()\n",
    "    .rename(\n",
    "        {\n",
    "            \"abbreviation\": \"Party\",\n",
    "            \"elite\": \"(a) Anti-Elitism\",\n",
    "            \"pplcentr\": \"(b) People-Centrism\",\n",
    "            \"left\": \"(c) Left-Wing Host-Ideology\",\n",
    "            \"right\": \"(d) Right-Wing Host-Ideology\",\n",
    "        },\n",
    "        axis=1,\n",
    "    )\n",
    ")\n",
    "\n",
    "cols = [\n",
    "    \"(a) Anti-Elitism\",\n",
    "    \"(b) People-Centrism\",\n",
    "    \"(c) Left-Wing Host-Ideology\",\n",
    "    \"(d) Right-Wing Host-Ideology\",\n",
    "]\n",
    "\n",
    "plot_df_norm = plot_df.copy()\n",
    "for col in cols:\n",
    "    plot_df_norm[col] = preprocessing.maxabs_scale(plot_df_norm[col])\n",
    "\n",
    "\n",
    "def reshape_df(df):\n",
    "    new = pd.melt(df, id_vars=[\"Party\", \"electoral_term\"], value_vars=cols, var_name=\"variable\")\n",
    "    new[\"Party\"] = new.Party.astype(\"category\")\n",
    "    return new\n",
    "\n",
    "\n",
    "plot_df = reshape_df(plot_df)\n",
    "plot_df_norm = reshape_df(plot_df_norm)"
   ]
  },
  {
   "cell_type": "code",
   "execution_count": 11,
   "id": "cc6141ff",
   "metadata": {
    "execution": {
     "iopub.execute_input": "2024-03-28T07:57:35.540858Z",
     "iopub.status.busy": "2024-03-28T07:57:35.540751Z",
     "iopub.status.idle": "2024-03-28T07:57:35.545598Z",
     "shell.execute_reply": "2024-03-28T07:57:35.545390Z"
    },
    "papermill": {
     "duration": 0.007205,
     "end_time": "2024-03-28T07:57:35.546384",
     "exception": false,
     "start_time": "2024-03-28T07:57:35.539179",
     "status": "completed"
    },
    "tags": []
   },
   "outputs": [],
   "source": [
    "%%R -i plot_df -i plot_df_norm \n",
    "\n",
    "\n",
    "create_plot <- function(df, log_y=\"identity\", scales=\"free\") {\n",
    "    df$electoral_term <- as_factor(df$electoral_term)\n",
    "    df$variable <- fct_relevel(df$variable, c(\"(a) Anti-Elitism\", \"(b) People-Centrism\", \"(c) Left-Wing Host-Ideology\", \"(d) Right-Wing Host-Ideology\"))\n",
    "    df <- complete(df, Party = unique(df$Party), electoral_term = unique(df$electoral_term), variable = unique(df$variable), fill=list(value=0))\n",
    "    plot <- ggplot(df, aes_string(x=\"Party\", y=\"value\", fill=\"Party\", pattern=\"electoral_term\")) +\n",
    "        geom_bar_pattern(\n",
    "            position=position_dodge(preserve=\"single\"),\n",
    "            stat=\"identity\",\n",
    "            color=\"grey\",\n",
    "            pattern_fill=\"grey\",\n",
    "            pattern_angle=45,\n",
    "            pattern_density=0.1,\n",
    "            pattern_spacing=0.025,\n",
    "            pattern_key_scale_factor=0.6\n",
    "            ) +\n",
    "        scale_fill_manual(values=colors) +\n",
    "        scale_pattern_manual(values=c(\"18\"=\"stripe\", \"19\"=\"none\")) +\n",
    "        scale_y_continuous(trans=log_y) +\n",
    "        theme(\n",
    "            text=element_text(size=18),\n",
    "            axis.text=element_text(size=14),\n",
    "            axis.text.x=element_blank(), \n",
    "            axis.title.y=element_blank(),\n",
    "            axis.title.x=element_blank(),\n",
    "            strip.text=element_text(size=20)\n",
    "        ) +\n",
    "        facet_wrap(\"~variable\", scales=scales) +\n",
    "        guides(pattern = guide_legend(title=\"Term\", override.aes = list(fill = \"white\")),\n",
    "            fill = guide_legend(override.aes = list(pattern = \"none\")))\n",
    "        \n",
    "        return(plot)\n",
    "\n",
    "}\n"
   ]
  },
  {
   "cell_type": "code",
   "execution_count": 12,
   "id": "8c0cb1ec",
   "metadata": {
    "execution": {
     "iopub.execute_input": "2024-03-28T07:57:35.549224Z",
     "iopub.status.busy": "2024-03-28T07:57:35.549125Z",
     "iopub.status.idle": "2024-03-28T07:57:36.619664Z",
     "shell.execute_reply": "2024-03-28T07:57:36.619417Z"
    },
    "papermill": {
     "duration": 1.072916,
     "end_time": "2024-03-28T07:57:36.620550",
     "exception": false,
     "start_time": "2024-03-28T07:57:35.547634",
     "status": "completed"
    },
    "tags": []
   },
   "outputs": [
    {
     "data": {
      "text/plain": [
       "In addition: Warning message:\n",
       "`aes_string()` was deprecated in ggplot2 3.0.0.\n",
       "ℹ Please use tidy evaluation idioms with `aes()`.\n",
       "ℹ See also `vignette(\"ggplot2-in-packages\")` for more information.\n",
       "This warning is displayed once every 8 hours.\n",
       "Call `lifecycle::last_lifecycle_warnings()` to see where this warning was\n",
       "generated. \n"
      ]
     },
     "metadata": {},
     "output_type": "display_data"
    }
   ],
   "source": [
    "%%R -w 800 -h 600\n",
    "plot <- create_plot(plot_df_norm, scales=\"free\")\n",
    "ggsave(here(\"results\", \"figures\", \"all_dimensions_normalized.pdf\"), width=16, height=9)"
   ]
  },
  {
   "cell_type": "code",
   "execution_count": 13,
   "id": "4319ee94",
   "metadata": {
    "execution": {
     "iopub.execute_input": "2024-03-28T07:57:36.623800Z",
     "iopub.status.busy": "2024-03-28T07:57:36.623690Z",
     "iopub.status.idle": "2024-03-28T07:57:37.107283Z",
     "shell.execute_reply": "2024-03-28T07:57:37.107025Z"
    },
    "papermill": {
     "duration": 0.486263,
     "end_time": "2024-03-28T07:57:37.108240",
     "exception": false,
     "start_time": "2024-03-28T07:57:36.621977",
     "status": "completed"
    },
    "tags": []
   },
   "outputs": [],
   "source": [
    "%%R -w 800 -h 600\n",
    "plot <- create_plot(plot_df, scales=\"free\")\n",
    "ggsave(here(\"results\", \"figures\", \"all_dimensions_orig.pdf\"), width=16, height=9)"
   ]
  }
 ],
 "metadata": {
  "kernelspec": {
   "display_name": "Python 3",
   "language": "python",
   "name": "python3"
  },
  "language_info": {
   "codemirror_mode": {
    "name": "ipython",
    "version": 3
   },
   "file_extension": ".py",
   "mimetype": "text/x-python",
   "name": "python",
   "nbconvert_exporter": "python",
   "pygments_lexer": "ipython3",
   "version": "3.9.18"
  },
  "papermill": {
   "default_parameters": {},
   "duration": 8.366953,
   "end_time": "2024-03-28T07:57:37.426654",
   "environment_variables": {},
   "exception": null,
   "input_path": "code/05-all_dimensions.ipynb",
   "output_path": "code/05-all_dimensions.ipynb",
   "parameters": {},
   "start_time": "2024-03-28T07:57:29.059701",
   "version": "2.5.0"
  }
 },
 "nbformat": 4,
 "nbformat_minor": 5
}