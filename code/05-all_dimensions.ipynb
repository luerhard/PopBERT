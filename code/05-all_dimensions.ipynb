{
 "cells": [
  {
   "cell_type": "markdown",
   "id": "46b04ce8",
   "metadata": {
    "tags": [
     "papermill-error-cell-tag"
    ]
   },
   "source": [
    "<span style=\"color:red; font-family:Helvetica Neue, Helvetica, Arial, sans-serif; font-size:2em;\">An Exception was encountered at '<a href=\"#papermill-error-cell\">In [3]</a>'.</span>"
   ]
  },
  {
   "cell_type": "code",
   "execution_count": 1,
   "id": "625773a0",
   "metadata": {
    "execution": {
     "iopub.execute_input": "2024-03-27T21:58:34.309098Z",
     "iopub.status.busy": "2024-03-27T21:58:34.308802Z",
     "iopub.status.idle": "2024-03-27T21:59:06.935283Z",
     "shell.execute_reply": "2024-03-27T21:59:06.934831Z"
    },
    "papermill": {
     "duration": 32.63326,
     "end_time": "2024-03-27T21:59:06.938796",
     "exception": false,
     "start_time": "2024-03-27T21:58:34.305536",
     "status": "completed"
    },
    "tags": []
   },
   "outputs": [
    {
     "name": "stdout",
     "output_type": "stream",
     "text": [
      "ℹ Using R 4.2.1 (lockfile was generated with R 4.3.1)\n",
      "- Project '/gpfs/bwfor/home/st/st_st/st_ac138201/PopBERT' loaded. [renv 1.0.5]\n"
     ]
    },
    {
     "name": "stdout",
     "output_type": "stream",
     "text": [
      "- The project is out-of-sync -- use `renv::status()` for details.\n"
     ]
    },
    {
     "name": "stderr",
     "output_type": "stream",
     "text": [
      "Warning message:\n",
      "renv took longer than expected (23 seconds) to activate the sandbox.\n",
      "\n",
      "The sandbox can be disabled by setting:\n",
      "\n",
      "    RENV_CONFIG_SANDBOX_ENABLED = FALSE\n",
      "\n",
      "within an appropriate start-up .Renviron file.\n",
      "\n",
      "See `?renv::config` for more details. \n"
     ]
    }
   ],
   "source": [
    "%load_ext rpy2.ipython"
   ]
  },
  {
   "cell_type": "code",
   "execution_count": 2,
   "id": "b2d01208",
   "metadata": {
    "execution": {
     "iopub.execute_input": "2024-03-27T21:59:06.945948Z",
     "iopub.status.busy": "2024-03-27T21:59:06.945689Z",
     "iopub.status.idle": "2024-03-27T21:59:07.276083Z",
     "shell.execute_reply": "2024-03-27T21:59:07.275537Z"
    },
    "papermill": {
     "duration": 0.334799,
     "end_time": "2024-03-27T21:59:07.277563",
     "exception": false,
     "start_time": "2024-03-27T21:59:06.942764",
     "status": "completed"
    },
    "tags": []
   },
   "outputs": [],
   "source": [
    "import pandas as pd\n",
    "from sklearn import preprocessing\n",
    "\n",
    "import src"
   ]
  },
  {
   "cell_type": "markdown",
   "id": "0253fece",
   "metadata": {
    "tags": [
     "papermill-error-cell-tag"
    ]
   },
   "source": [
    "<span id=\"papermill-error-cell\" style=\"color:red; font-family:Helvetica Neue, Helvetica, Arial, sans-serif; font-size:2em;\">Execution using papermill encountered an exception here and stopped:</span>"
   ]
  },
  {
   "cell_type": "code",
   "execution_count": 3,
   "id": "6098b916",
   "metadata": {
    "execution": {
     "iopub.execute_input": "2024-03-27T21:59:07.283276Z",
     "iopub.status.busy": "2024-03-27T21:59:07.282941Z",
     "iopub.status.idle": "2024-03-27T21:59:09.517487Z",
     "shell.execute_reply": "2024-03-27T21:59:09.516877Z"
    },
    "papermill": {
     "duration": 2.238195,
     "end_time": "2024-03-27T21:59:09.518266",
     "exception": true,
     "start_time": "2024-03-27T21:59:07.280071",
     "status": "failed"
    },
    "tags": []
   },
   "outputs": [
    {
     "name": "stdout",
     "output_type": "stream",
     "text": [
      "── Attaching core tidyverse packages ──────────────────────── tidyverse 2.0.0 ──\n",
      "✔ dplyr     1.1.4     ✔ readr     2.1.5\n",
      "✔ forcats   1.0.0     ✔ stringr   1.5.1\n",
      "✔ ggplot2   3.5.0     ✔ tibble    3.2.1\n",
      "✔ lubridate 1.9.3     ✔ tidyr     1.3.1\n",
      "✔ purrr     1.0.2     \n"
     ]
    },
    {
     "name": "stdout",
     "output_type": "stream",
     "text": [
      "── Conflicts ────────────────────────────────────────── tidyverse_conflicts() ──\n",
      "✖ dplyr::filter() masks stats::filter()\n",
      "✖ dplyr::lag()    masks stats::lag()\n",
      "ℹ Use the conflicted package (<http://conflicted.r-lib.org/>) to force all conflicts to become errors\n"
     ]
    },
    {
     "name": "stdout",
     "output_type": "stream",
     "text": [
      "Error in library(ggpattern) : there is no package called ‘ggpattern’\n"
     ]
    },
    {
     "ename": "RInterpreterError",
     "evalue": "Failed to parse and evaluate line '\\nlibrary(tidyverse)\\nlibrary(ggplot2)\\nlibrary(ggpattern)\\ntheme_set(theme_minimal())\\nlibrary(scales)\\nlibrary(here)\\n'.\nR error message: 'Error in library(ggpattern) : there is no package called ‘ggpattern’'",
     "output_type": "error",
     "traceback": [
      "\u001b[0;31m---------------------------------------------------------------------------\u001b[0m",
      "\u001b[0;31mRRuntimeError\u001b[0m                             Traceback (most recent call last)",
      "File \u001b[0;32m/gpfs/bwfor/home/st/st_st/st_ac138201/PopBERT/.venv/lib/python3.9/site-packages/rpy2/ipython/rmagic.py:401\u001b[0m, in \u001b[0;36mRMagics.eval\u001b[0;34m(self, code)\u001b[0m\n\u001b[1;32m    400\u001b[0m     r_expr \u001b[38;5;241m=\u001b[39m ri\u001b[38;5;241m.\u001b[39mparse(code)\n\u001b[0;32m--> 401\u001b[0m     value, visible \u001b[38;5;241m=\u001b[39m \u001b[43mri\u001b[49m\u001b[38;5;241;43m.\u001b[39;49m\u001b[43mevalr_expr_with_visible\u001b[49m\u001b[43m(\u001b[49m\n\u001b[1;32m    402\u001b[0m \u001b[43m        \u001b[49m\u001b[43mr_expr\u001b[49m\n\u001b[1;32m    403\u001b[0m \u001b[43m    \u001b[49m\u001b[43m)\u001b[49m\n\u001b[1;32m    404\u001b[0m \u001b[38;5;28;01mexcept\u001b[39;00m (ri\u001b[38;5;241m.\u001b[39membedded\u001b[38;5;241m.\u001b[39mRRuntimeError, \u001b[38;5;167;01mValueError\u001b[39;00m) \u001b[38;5;28;01mas\u001b[39;00m exception:\n\u001b[1;32m    405\u001b[0m     \u001b[38;5;66;03m# Otherwise next return seems to have copy of error.\u001b[39;00m\n",
      "File \u001b[0;32m/gpfs/bwfor/home/st/st_st/st_ac138201/PopBERT/.venv/lib/python3.9/site-packages/rpy2/rinterface.py:196\u001b[0m, in \u001b[0;36mevalr_expr_with_visible\u001b[0;34m(expr, envir)\u001b[0m\n\u001b[1;32m    195\u001b[0m \u001b[38;5;28;01mif\u001b[39;00m error_occured[\u001b[38;5;241m0\u001b[39m]:\n\u001b[0;32m--> 196\u001b[0m     \u001b[38;5;28;01mraise\u001b[39;00m embedded\u001b[38;5;241m.\u001b[39mRRuntimeError(_rinterface\u001b[38;5;241m.\u001b[39m_geterrmessage())\n\u001b[1;32m    197\u001b[0m res \u001b[38;5;241m=\u001b[39m conversion\u001b[38;5;241m.\u001b[39m_cdata_to_rinterface(r_res)\n",
      "\u001b[0;31mRRuntimeError\u001b[0m: Error in library(ggpattern) : there is no package called ‘ggpattern’\n",
      "\nDuring handling of the above exception, another exception occurred:\n",
      "\u001b[0;31mRInterpreterError\u001b[0m                         Traceback (most recent call last)",
      "Cell \u001b[0;32mIn[3], line 1\u001b[0m\n\u001b[0;32m----> 1\u001b[0m \u001b[43mget_ipython\u001b[49m\u001b[43m(\u001b[49m\u001b[43m)\u001b[49m\u001b[38;5;241;43m.\u001b[39;49m\u001b[43mrun_cell_magic\u001b[49m\u001b[43m(\u001b[49m\u001b[38;5;124;43m'\u001b[39;49m\u001b[38;5;124;43mR\u001b[39;49m\u001b[38;5;124;43m'\u001b[39;49m\u001b[43m,\u001b[49m\u001b[43m \u001b[49m\u001b[38;5;124;43m'\u001b[39;49m\u001b[38;5;124;43m'\u001b[39;49m\u001b[43m,\u001b[49m\u001b[43m \u001b[49m\u001b[38;5;124;43m'\u001b[39;49m\u001b[38;5;130;43;01m\\n\u001b[39;49;00m\u001b[38;5;124;43mlibrary(tidyverse)\u001b[39;49m\u001b[38;5;130;43;01m\\n\u001b[39;49;00m\u001b[38;5;124;43mlibrary(ggplot2)\u001b[39;49m\u001b[38;5;130;43;01m\\n\u001b[39;49;00m\u001b[38;5;124;43mlibrary(ggpattern)\u001b[39;49m\u001b[38;5;130;43;01m\\n\u001b[39;49;00m\u001b[38;5;124;43mtheme_set(theme_minimal())\u001b[39;49m\u001b[38;5;130;43;01m\\n\u001b[39;49;00m\u001b[38;5;124;43mlibrary(scales)\u001b[39;49m\u001b[38;5;130;43;01m\\n\u001b[39;49;00m\u001b[38;5;124;43mlibrary(here)\u001b[39;49m\u001b[38;5;130;43;01m\\n\u001b[39;49;00m\u001b[38;5;124;43m'\u001b[39;49m\u001b[43m)\u001b[49m\n",
      "File \u001b[0;32m/gpfs/bwfor/home/st/st_st/st_ac138201/PopBERT/.venv/lib/python3.9/site-packages/IPython/core/interactiveshell.py:2515\u001b[0m, in \u001b[0;36mInteractiveShell.run_cell_magic\u001b[0;34m(self, magic_name, line, cell)\u001b[0m\n\u001b[1;32m   2513\u001b[0m \u001b[38;5;28;01mwith\u001b[39;00m \u001b[38;5;28mself\u001b[39m\u001b[38;5;241m.\u001b[39mbuiltin_trap:\n\u001b[1;32m   2514\u001b[0m     args \u001b[38;5;241m=\u001b[39m (magic_arg_s, cell)\n\u001b[0;32m-> 2515\u001b[0m     result \u001b[38;5;241m=\u001b[39m \u001b[43mfn\u001b[49m\u001b[43m(\u001b[49m\u001b[38;5;241;43m*\u001b[39;49m\u001b[43margs\u001b[49m\u001b[43m,\u001b[49m\u001b[43m \u001b[49m\u001b[38;5;241;43m*\u001b[39;49m\u001b[38;5;241;43m*\u001b[39;49m\u001b[43mkwargs\u001b[49m\u001b[43m)\u001b[49m\n\u001b[1;32m   2517\u001b[0m \u001b[38;5;66;03m# The code below prevents the output from being displayed\u001b[39;00m\n\u001b[1;32m   2518\u001b[0m \u001b[38;5;66;03m# when using magics with decorator @output_can_be_silenced\u001b[39;00m\n\u001b[1;32m   2519\u001b[0m \u001b[38;5;66;03m# when the last Python token in the expression is a ';'.\u001b[39;00m\n\u001b[1;32m   2520\u001b[0m \u001b[38;5;28;01mif\u001b[39;00m \u001b[38;5;28mgetattr\u001b[39m(fn, magic\u001b[38;5;241m.\u001b[39mMAGIC_OUTPUT_CAN_BE_SILENCED, \u001b[38;5;28;01mFalse\u001b[39;00m):\n",
      "File \u001b[0;32m/gpfs/bwfor/home/st/st_st/st_ac138201/PopBERT/.venv/lib/python3.9/site-packages/rpy2/ipython/rmagic.py:978\u001b[0m, in \u001b[0;36mRMagics.R\u001b[0;34m(self, line, cell, local_ns)\u001b[0m\n\u001b[1;32m    976\u001b[0m     \u001b[38;5;28;01mif\u001b[39;00m \u001b[38;5;129;01mnot\u001b[39;00m e\u001b[38;5;241m.\u001b[39mstdout\u001b[38;5;241m.\u001b[39mendswith(e\u001b[38;5;241m.\u001b[39merr):\n\u001b[1;32m    977\u001b[0m         \u001b[38;5;28mprint\u001b[39m(e\u001b[38;5;241m.\u001b[39merr)\n\u001b[0;32m--> 978\u001b[0m     \u001b[38;5;28;01mraise\u001b[39;00m e\n\u001b[1;32m    979\u001b[0m \u001b[38;5;28;01mfinally\u001b[39;00m:\n\u001b[1;32m    980\u001b[0m     \u001b[38;5;28;01mif\u001b[39;00m \u001b[38;5;28mself\u001b[39m\u001b[38;5;241m.\u001b[39mdevice \u001b[38;5;129;01min\u001b[39;00m DEVICES_STATIC:\n",
      "File \u001b[0;32m/gpfs/bwfor/home/st/st_st/st_ac138201/PopBERT/.venv/lib/python3.9/site-packages/rpy2/ipython/rmagic.py:943\u001b[0m, in \u001b[0;36mRMagics.R\u001b[0;34m(self, line, cell, local_ns)\u001b[0m\n\u001b[1;32m    941\u001b[0m         return_output \u001b[38;5;241m=\u001b[39m \u001b[38;5;28;01mFalse\u001b[39;00m\n\u001b[1;32m    942\u001b[0m \u001b[38;5;28;01melse\u001b[39;00m:\n\u001b[0;32m--> 943\u001b[0m     text_result, result, visible \u001b[38;5;241m=\u001b[39m \u001b[38;5;28;43mself\u001b[39;49m\u001b[38;5;241;43m.\u001b[39;49m\u001b[43meval\u001b[49m\u001b[43m(\u001b[49m\u001b[43mcode\u001b[49m\u001b[43m)\u001b[49m\n\u001b[1;32m    944\u001b[0m     text_output \u001b[38;5;241m+\u001b[39m\u001b[38;5;241m=\u001b[39m text_result\n\u001b[1;32m    945\u001b[0m     \u001b[38;5;28;01mif\u001b[39;00m visible:\n",
      "File \u001b[0;32m/gpfs/bwfor/home/st/st_st/st_ac138201/PopBERT/.venv/lib/python3.9/site-packages/rpy2/ipython/rmagic.py:407\u001b[0m, in \u001b[0;36mRMagics.eval\u001b[0;34m(self, code)\u001b[0m\n\u001b[1;32m    404\u001b[0m \u001b[38;5;28;01mexcept\u001b[39;00m (ri\u001b[38;5;241m.\u001b[39membedded\u001b[38;5;241m.\u001b[39mRRuntimeError, \u001b[38;5;167;01mValueError\u001b[39;00m) \u001b[38;5;28;01mas\u001b[39;00m exception:\n\u001b[1;32m    405\u001b[0m     \u001b[38;5;66;03m# Otherwise next return seems to have copy of error.\u001b[39;00m\n\u001b[1;32m    406\u001b[0m     warning_or_other_msg \u001b[38;5;241m=\u001b[39m \u001b[38;5;28mself\u001b[39m\u001b[38;5;241m.\u001b[39mflush()\n\u001b[0;32m--> 407\u001b[0m     \u001b[38;5;28;01mraise\u001b[39;00m RInterpreterError(code, \u001b[38;5;28mstr\u001b[39m(exception),\n\u001b[1;32m    408\u001b[0m                             warning_or_other_msg)\n\u001b[1;32m    409\u001b[0m \u001b[38;5;28;01mfinally\u001b[39;00m:\n\u001b[1;32m    410\u001b[0m     ro\u001b[38;5;241m.\u001b[39m_print_deferred_warnings()\n",
      "\u001b[0;31mRInterpreterError\u001b[0m: Failed to parse and evaluate line '\\nlibrary(tidyverse)\\nlibrary(ggplot2)\\nlibrary(ggpattern)\\ntheme_set(theme_minimal())\\nlibrary(scales)\\nlibrary(here)\\n'.\nR error message: 'Error in library(ggpattern) : there is no package called ‘ggpattern’'"
     ]
    }
   ],
   "source": [
    "%%R\n",
    "\n",
    "library(tidyverse)\n",
    "library(ggplot2)\n",
    "library(ggpattern)\n",
    "theme_set(theme_minimal())\n",
    "library(scales)\n",
    "library(here)"
   ]
  },
  {
   "attachments": {},
   "cell_type": "markdown",
   "id": "a78889d7-6cf2-4f02-ba46-59290ab3c448",
   "metadata": {
    "papermill": {
     "duration": null,
     "end_time": null,
     "exception": null,
     "start_time": null,
     "status": "pending"
    },
    "tags": []
   },
   "source": [
    "# Load data"
   ]
  },
  {
   "cell_type": "code",
   "execution_count": null,
   "id": "004391a7",
   "metadata": {
    "execution": {
     "iopub.execute_input": "2024-03-27T18:41:05.941412Z",
     "iopub.status.busy": "2024-03-27T18:41:05.941294Z",
     "iopub.status.idle": "2024-03-27T18:41:06.832186Z",
     "shell.execute_reply": "2024-03-27T18:41:06.831783Z"
    },
    "papermill": {
     "duration": null,
     "end_time": null,
     "exception": null,
     "start_time": null,
     "status": "pending"
    },
    "tags": []
   },
   "outputs": [],
   "source": [
    "df = pd.read_parquet(src.PATH / \"data/raw/sentences.parquet.gzip\")\n",
    "preds = pd.read_parquet(src.PATH / \"data/interim/sentence_predictions.parquet.gzip\")\n",
    "\n",
    "df = pd.merge(df, preds, on=\"sample_id\")"
   ]
  },
  {
   "cell_type": "code",
   "execution_count": null,
   "id": "ab25ac4c",
   "metadata": {
    "execution": {
     "iopub.execute_input": "2024-03-27T18:41:06.836196Z",
     "iopub.status.busy": "2024-03-27T18:41:06.836089Z",
     "iopub.status.idle": "2024-03-27T18:41:06.837838Z",
     "shell.execute_reply": "2024-03-27T18:41:06.837603Z"
    },
    "papermill": {
     "duration": null,
     "end_time": null,
     "exception": null,
     "start_time": null,
     "status": "pending"
    },
    "tags": []
   },
   "outputs": [],
   "source": [
    "thresh = {\"elite\": 0.415961, \"pplcentr\": 0.295400, \"left\": 0.429109, \"right\": 0.302714}"
   ]
  },
  {
   "cell_type": "code",
   "execution_count": null,
   "id": "321a2451",
   "metadata": {
    "execution": {
     "iopub.execute_input": "2024-03-27T18:41:06.841765Z",
     "iopub.status.busy": "2024-03-27T18:41:06.841661Z",
     "iopub.status.idle": "2024-03-27T18:41:07.481487Z",
     "shell.execute_reply": "2024-03-27T18:41:07.481093Z"
    },
    "papermill": {
     "duration": null,
     "end_time": null,
     "exception": null,
     "start_time": null,
     "status": "pending"
    },
    "tags": []
   },
   "outputs": [],
   "source": [
    "for key, val in thresh.items():\n",
    "    df[key] = df[key].apply(lambda x: 1 if x > val else 0)"
   ]
  },
  {
   "cell_type": "code",
   "execution_count": null,
   "id": "afbcafee",
   "metadata": {
    "execution": {
     "iopub.execute_input": "2024-03-27T18:41:07.485486Z",
     "iopub.status.busy": "2024-03-27T18:41:07.485372Z",
     "iopub.status.idle": "2024-03-27T18:41:07.509666Z",
     "shell.execute_reply": "2024-03-27T18:41:07.509421Z"
    },
    "papermill": {
     "duration": null,
     "end_time": null,
     "exception": null,
     "start_time": null,
     "status": "pending"
    },
    "tags": []
   },
   "outputs": [],
   "source": [
    "df.abbreviation.unique()"
   ]
  },
  {
   "cell_type": "code",
   "execution_count": null,
   "id": "61ea9609-be6c-4447-83c8-5c2a686d6b1c",
   "metadata": {
    "execution": {
     "iopub.execute_input": "2024-03-27T18:41:07.513513Z",
     "iopub.status.busy": "2024-03-27T18:41:07.513381Z",
     "iopub.status.idle": "2024-03-27T18:41:07.515240Z",
     "shell.execute_reply": "2024-03-27T18:41:07.515035Z"
    },
    "papermill": {
     "duration": null,
     "end_time": null,
     "exception": null,
     "start_time": null,
     "status": "pending"
    },
    "tags": []
   },
   "outputs": [],
   "source": [
    "colormap = {\n",
    "    \"CDU/CSU\": \"#000000\",\n",
    "    \"Grüne\": \"#1AA037\",\n",
    "    \"DIE LINKE\": \"#8B008B\",  # SPD complementary for visual disambiguation\n",
    "    \"FDP\": \"#FFEF00\",\n",
    "    \"AfD\": \"#0489DB\",\n",
    "    \"SPD\": \"#E3000F\",\n",
    "}\n",
    "color_names = list(colormap.keys())\n",
    "color_vals = list(colormap.values())"
   ]
  },
  {
   "cell_type": "code",
   "execution_count": null,
   "id": "15526578",
   "metadata": {
    "execution": {
     "iopub.execute_input": "2024-03-27T18:41:07.518722Z",
     "iopub.status.busy": "2024-03-27T18:41:07.518629Z",
     "iopub.status.idle": "2024-03-27T18:41:07.521969Z",
     "shell.execute_reply": "2024-03-27T18:41:07.521750Z"
    },
    "papermill": {
     "duration": null,
     "end_time": null,
     "exception": null,
     "start_time": null,
     "status": "pending"
    },
    "tags": []
   },
   "outputs": [],
   "source": [
    "%%R -i color_names -i color_vals\n",
    "colors <- setNames(color_vals, color_names)"
   ]
  },
  {
   "cell_type": "code",
   "execution_count": null,
   "id": "c2e2ef84-7df7-4432-8b9a-f366ba8cd211",
   "metadata": {
    "execution": {
     "iopub.execute_input": "2024-03-27T18:41:07.525488Z",
     "iopub.status.busy": "2024-03-27T18:41:07.525391Z",
     "iopub.status.idle": "2024-03-27T18:41:07.988617Z",
     "shell.execute_reply": "2024-03-27T18:41:07.988245Z"
    },
    "papermill": {
     "duration": null,
     "end_time": null,
     "exception": null,
     "start_time": null,
     "status": "pending"
    },
    "tags": []
   },
   "outputs": [],
   "source": [
    "plot = df.drop(\"text\", axis=1).dropna()\n",
    "plot.abbreviation = plot.abbreviation.astype(\"category\")"
   ]
  },
  {
   "cell_type": "code",
   "execution_count": null,
   "id": "9115680b",
   "metadata": {
    "execution": {
     "iopub.execute_input": "2024-03-27T18:41:07.992713Z",
     "iopub.status.busy": "2024-03-27T18:41:07.992604Z",
     "iopub.status.idle": "2024-03-27T18:41:08.073292Z",
     "shell.execute_reply": "2024-03-27T18:41:08.072957Z"
    },
    "papermill": {
     "duration": null,
     "end_time": null,
     "exception": null,
     "start_time": null,
     "status": "pending"
    },
    "tags": []
   },
   "outputs": [],
   "source": [
    "plot_df = (\n",
    "    df.groupby([\"electoral_term\", \"abbreviation\"])\n",
    "    .mean(numeric_only=True)\n",
    "    .reset_index()\n",
    "    .rename(\n",
    "        {\n",
    "            \"abbreviation\": \"Party\",\n",
    "            \"elite\": \"(a) Anti-Elitism\",\n",
    "            \"pplcentr\": \"(b) People-Centrism\",\n",
    "            \"left\": \"(c) Left-Wing Host-Ideology\",\n",
    "            \"right\": \"(d) Right-Wing Host-Ideology\",\n",
    "        },\n",
    "        axis=1,\n",
    "    )\n",
    ")\n",
    "\n",
    "cols = [\n",
    "    \"(a) Anti-Elitism\",\n",
    "    \"(b) People-Centrism\",\n",
    "    \"(c) Left-Wing Host-Ideology\",\n",
    "    \"(d) Right-Wing Host-Ideology\",\n",
    "]\n",
    "\n",
    "plot_df_norm = plot_df.copy()\n",
    "for col in cols:\n",
    "    plot_df_norm[col] = preprocessing.maxabs_scale(plot_df_norm[col])\n",
    "\n",
    "\n",
    "def reshape_df(df):\n",
    "    new = pd.melt(df, id_vars=[\"Party\", \"electoral_term\"], value_vars=cols, var_name=\"variable\")\n",
    "    new[\"Party\"] = new.Party.astype(\"category\")\n",
    "    return new\n",
    "\n",
    "\n",
    "plot_df = reshape_df(plot_df)\n",
    "plot_df_norm = reshape_df(plot_df_norm)"
   ]
  },
  {
   "cell_type": "code",
   "execution_count": null,
   "id": "1ab1eabc",
   "metadata": {
    "execution": {
     "iopub.execute_input": "2024-03-27T18:41:08.077291Z",
     "iopub.status.busy": "2024-03-27T18:41:08.077187Z",
     "iopub.status.idle": "2024-03-27T18:41:08.079749Z",
     "shell.execute_reply": "2024-03-27T18:41:08.079542Z"
    },
    "papermill": {
     "duration": null,
     "end_time": null,
     "exception": null,
     "start_time": null,
     "status": "pending"
    },
    "tags": []
   },
   "outputs": [],
   "source": [
    "plot_df.Party.unique()"
   ]
  },
  {
   "cell_type": "code",
   "execution_count": null,
   "id": "cc6141ff",
   "metadata": {
    "execution": {
     "iopub.execute_input": "2024-03-27T18:41:08.083536Z",
     "iopub.status.busy": "2024-03-27T18:41:08.083447Z",
     "iopub.status.idle": "2024-03-27T18:41:08.088534Z",
     "shell.execute_reply": "2024-03-27T18:41:08.088299Z"
    },
    "papermill": {
     "duration": null,
     "end_time": null,
     "exception": null,
     "start_time": null,
     "status": "pending"
    },
    "tags": []
   },
   "outputs": [],
   "source": [
    "%%R -i plot_df -i plot_df_norm \n",
    "\n",
    "\n",
    "create_plot <- function(df, log_y=\"identity\", scales=\"free\") {\n",
    "    df$electoral_term <- as_factor(df$electoral_term)\n",
    "    df$variable <- fct_relevel(df$variable, c(\"(a) Anti-Elitism\", \"(b) People-Centrism\", \"(c) Left-Wing Host-Ideology\", \"(d) Right-Wing Host-Ideology\"))\n",
    "    df <- complete(df, Party = unique(df$Party), electoral_term = unique(df$electoral_term), variable = unique(df$variable), fill=list(value=0))\n",
    "    plot <- ggplot(df, aes_string(x=\"Party\", y=\"value\", fill=\"Party\", pattern=\"electoral_term\")) +\n",
    "        geom_bar_pattern(\n",
    "            position=position_dodge(preserve=\"single\"),\n",
    "            stat=\"identity\",\n",
    "            color=\"grey\",\n",
    "            pattern_fill=\"grey\",\n",
    "            pattern_angle=45,\n",
    "            pattern_density=0.1,\n",
    "            pattern_spacing=0.025,\n",
    "            pattern_key_scale_factor=0.6\n",
    "            ) +\n",
    "        scale_fill_manual(values=colors) +\n",
    "        scale_pattern_manual(values=c(\"18\"=\"stripe\", \"19\"=\"none\")) +\n",
    "        scale_y_continuous(trans=log_y) +\n",
    "        theme(\n",
    "            text=element_text(size=18),\n",
    "            axis.text=element_text(size=14),\n",
    "            axis.text.x=element_blank(), \n",
    "            axis.title.y=element_blank(),\n",
    "            axis.title.x=element_blank(),\n",
    "            strip.text=element_text(size=20)\n",
    "        ) +\n",
    "        facet_wrap(\"~variable\", scales=scales) +\n",
    "        guides(pattern = guide_legend(title=\"Term\", override.aes = list(fill = \"white\")),\n",
    "            fill = guide_legend(override.aes = list(pattern = \"none\")))\n",
    "        \n",
    "        return(plot)\n",
    "\n",
    "}\n"
   ]
  },
  {
   "cell_type": "code",
   "execution_count": null,
   "id": "8c0cb1ec",
   "metadata": {
    "execution": {
     "iopub.execute_input": "2024-03-27T18:41:08.092509Z",
     "iopub.status.busy": "2024-03-27T18:41:08.092412Z",
     "iopub.status.idle": "2024-03-27T18:41:09.601796Z",
     "shell.execute_reply": "2024-03-27T18:41:09.601497Z"
    },
    "papermill": {
     "duration": null,
     "end_time": null,
     "exception": null,
     "start_time": null,
     "status": "pending"
    },
    "tags": []
   },
   "outputs": [],
   "source": [
    "%%R -w 800 -h 600\n",
    "plot <- create_plot(plot_df_norm, scales=\"free\")\n",
    "ggsave(here(\"results\", \"figures\", \"all_dimensions_normalized.pdf\"), width=16, height=9)\n",
    "plot"
   ]
  }
 ],
 "metadata": {
  "kernelspec": {
   "display_name": "Python 3",
   "language": "python",
   "name": "python3"
  },
  "language_info": {
   "codemirror_mode": {
    "name": "ipython",
    "version": 3
   },
   "file_extension": ".py",
   "mimetype": "text/x-python",
   "name": "python",
   "nbconvert_exporter": "python",
   "pygments_lexer": "ipython3",
   "version": "3.9.12"
  },
  "papermill": {
   "default_parameters": {},
   "duration": 36.512998,
   "end_time": "2024-03-27T21:59:09.837903",
   "environment_variables": {},
   "exception": true,
   "input_path": "code/05-all_dimensions.ipynb",
   "output_path": "code/05-all_dimensions.ipynb",
   "parameters": {},
   "start_time": "2024-03-27T21:58:33.324905",
   "version": "2.5.0"
  }
 },
 "nbformat": 4,
 "nbformat_minor": 5
}