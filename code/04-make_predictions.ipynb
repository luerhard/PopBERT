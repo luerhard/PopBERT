{
 "cells": [
  {
   "cell_type": "code",
   "execution_count": 1,
   "id": "cf11d984",
   "metadata": {
    "execution": {
     "iopub.execute_input": "2024-03-27T16:45:12.971413Z",
     "iopub.status.busy": "2024-03-27T16:45:12.971245Z",
     "iopub.status.idle": "2024-03-27T16:45:23.509178Z",
     "shell.execute_reply": "2024-03-27T16:45:23.508677Z"
    },
    "papermill": {
     "duration": 10.542342,
     "end_time": "2024-03-27T16:45:23.510832",
     "exception": false,
     "start_time": "2024-03-27T16:45:12.968490",
     "status": "completed"
    },
    "tags": []
   },
   "outputs": [],
   "source": [
    "from transformers import AutoTokenizer\n",
    "import torch\n",
    "from transformers import logging\n",
    "import pandas as pd\n",
    "import src\n",
    "from transformers import AutoModelForSequenceClassification"
   ]
  },
  {
   "cell_type": "code",
   "execution_count": 2,
   "id": "0a50acf3",
   "metadata": {
    "execution": {
     "iopub.execute_input": "2024-03-27T16:45:23.522136Z",
     "iopub.status.busy": "2024-03-27T16:45:23.521902Z",
     "iopub.status.idle": "2024-03-27T16:45:23.679700Z",
     "shell.execute_reply": "2024-03-27T16:45:23.679325Z"
    },
    "papermill": {
     "duration": 0.160749,
     "end_time": "2024-03-27T16:45:23.680687",
     "exception": false,
     "start_time": "2024-03-27T16:45:23.519938",
     "status": "completed"
    },
    "tags": []
   },
   "outputs": [
    {
     "name": "stdout",
     "output_type": "stream",
     "text": [
      "cuda\n"
     ]
    }
   ],
   "source": [
    "logging.set_verbosity_error()\n",
    "DEVICE = \"cuda\" if torch.cuda.is_available() else \"cpu\"\n",
    "print(DEVICE)"
   ]
  },
  {
   "cell_type": "code",
   "execution_count": 3,
   "id": "6ae957f7",
   "metadata": {
    "execution": {
     "iopub.execute_input": "2024-03-27T16:45:23.684172Z",
     "iopub.status.busy": "2024-03-27T16:45:23.684017Z",
     "iopub.status.idle": "2024-03-27T16:45:33.099576Z",
     "shell.execute_reply": "2024-03-27T16:45:33.098931Z"
    },
    "papermill": {
     "duration": 9.419051,
     "end_time": "2024-03-27T16:45:33.101181",
     "exception": false,
     "start_time": "2024-03-27T16:45:23.682130",
     "status": "completed"
    },
    "tags": []
   },
   "outputs": [],
   "source": [
    "COMMIT_HASH = \"cf44004e90045cde298e28605ff105747d58aa7a\"\n",
    "\n",
    "tokenizer = AutoTokenizer.from_pretrained(\"luerhard/PopBERT\", revision=COMMIT_HASH)\n",
    "model = AutoModelForSequenceClassification.from_pretrained(\"luerhard/PopBERT\", revision=COMMIT_HASH).to(DEVICE)"
   ]
  },
  {
   "cell_type": "code",
   "execution_count": 4,
   "id": "ae52ec66",
   "metadata": {
    "execution": {
     "iopub.execute_input": "2024-03-27T16:45:33.107624Z",
     "iopub.status.busy": "2024-03-27T16:45:33.107436Z",
     "iopub.status.idle": "2024-03-27T16:45:34.294640Z",
     "shell.execute_reply": "2024-03-27T16:45:34.294112Z"
    },
    "papermill": {
     "duration": 1.190721,
     "end_time": "2024-03-27T16:45:34.296147",
     "exception": false,
     "start_time": "2024-03-27T16:45:33.105426",
     "status": "completed"
    },
    "tags": []
   },
   "outputs": [],
   "source": [
    "df = pd.read_parquet(src.PATH / \"data/raw/sentences.parquet.gzip\")"
   ]
  },
  {
   "cell_type": "code",
   "execution_count": 5,
   "id": "90337b18",
   "metadata": {
    "execution": {
     "iopub.execute_input": "2024-03-27T16:45:34.301439Z",
     "iopub.status.busy": "2024-03-27T16:45:34.301258Z",
     "iopub.status.idle": "2024-03-27T16:45:34.304597Z",
     "shell.execute_reply": "2024-03-27T16:45:34.304263Z"
    },
    "papermill": {
     "duration": 0.00613,
     "end_time": "2024-03-27T16:45:34.305449",
     "exception": false,
     "start_time": "2024-03-27T16:45:34.299319",
     "status": "completed"
    },
    "tags": []
   },
   "outputs": [],
   "source": [
    "def iter_batches(df, batch_size):\n",
    "    i = 0\n",
    "    while (i + batch_size) <= len(df):\n",
    "        slice_df = df.iloc[i : i + batch_size]\n",
    "        i += batch_size\n",
    "        yield slice_df.to_dict(orient=\"list\")\n",
    "    if i < len(df):\n",
    "        slice_df = df.iloc[i:]\n",
    "        yield slice_df.to_dict(orient=\"list\")"
   ]
  },
  {
   "cell_type": "code",
   "execution_count": 6,
   "id": "00665888",
   "metadata": {
    "execution": {
     "iopub.execute_input": "2024-03-27T16:45:34.308637Z",
     "iopub.status.busy": "2024-03-27T16:45:34.308468Z",
     "iopub.status.idle": "2024-03-27T17:47:43.473906Z",
     "shell.execute_reply": "2024-03-27T17:47:43.473343Z"
    },
    "papermill": {
     "duration": 3729.168655,
     "end_time": "2024-03-27T17:47:43.475304",
     "exception": false,
     "start_time": "2024-03-27T16:45:34.306649",
     "status": "completed"
    },
    "tags": []
   },
   "outputs": [],
   "source": [
    "results = []\n",
    "with torch.inference_mode():\n",
    "    for batch in iter_batches(df, 64):\n",
    "        ids, text = batch[\"sample_id\"], batch[\"text\"]\n",
    "        encodings = tokenizer(text, return_tensors=\"pt\", padding=True).to(DEVICE)\n",
    "        out = model(**encodings)\n",
    "        proba_tensor = torch.nn.functional.sigmoid(out.logits)\n",
    "        probas = proba_tensor.cpu().detach().numpy()\n",
    "        \n",
    "        result = pd.DataFrame(probas)\n",
    "        result.columns = [\"elite\", \"pplcentr\", \"left\", \"right\"]\n",
    "        result[\"sample_id\"] = ids\n",
    "        results.append(result)"
   ]
  },
  {
   "cell_type": "code",
   "execution_count": 7,
   "id": "054eb632",
   "metadata": {
    "execution": {
     "iopub.execute_input": "2024-03-27T17:47:43.482437Z",
     "iopub.status.busy": "2024-03-27T17:47:43.482135Z",
     "iopub.status.idle": "2024-03-27T17:47:45.826687Z",
     "shell.execute_reply": "2024-03-27T17:47:45.826174Z"
    },
    "papermill": {
     "duration": 2.348084,
     "end_time": "2024-03-27T17:47:45.828237",
     "exception": false,
     "start_time": "2024-03-27T17:47:43.480153",
     "status": "completed"
    },
    "tags": []
   },
   "outputs": [],
   "source": [
    "out = pd.concat(results)\n",
    "out = out[[\"sample_id\", \"elite\", \"pplcentr\", \"left\", \"right\"]]\n",
    "out.to_parquet(src.PATH / \"data/interim/sentence_predictions.parquet.gzip\", compression=\"gzip\")"
   ]
  }
 ],
 "metadata": {
  "kernelspec": {
   "display_name": ".venv",
   "language": "python",
   "name": "python3"
  },
  "language_info": {
   "codemirror_mode": {
    "name": "ipython",
    "version": 3
   },
   "file_extension": ".py",
   "mimetype": "text/x-python",
   "name": "python",
   "nbconvert_exporter": "python",
   "pygments_lexer": "ipython3",
   "version": "3.9.12"
  },
  "papermill": {
   "default_parameters": {},
   "duration": 3757.974576,
   "end_time": "2024-03-27T17:47:49.499743",
   "environment_variables": {},
   "exception": null,
   "input_path": "code/03-make_predictions.ipynb",
   "output_path": "code/03-make_predictions.ipynb",
   "parameters": {},
   "start_time": "2024-03-27T16:45:11.525167",
   "version": "2.5.0"
  }
 },
 "nbformat": 4,
 "nbformat_minor": 5
}