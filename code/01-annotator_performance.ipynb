{
 "cells": [
  {
   "cell_type": "code",
   "execution_count": 1,
   "id": "f60692f4",
   "metadata": {
    "execution": {
     "iopub.execute_input": "2024-03-25T15:48:42.339693Z",
     "iopub.status.busy": "2024-03-25T15:48:42.338827Z",
     "iopub.status.idle": "2024-03-25T15:48:44.131210Z",
     "shell.execute_reply": "2024-03-25T15:48:44.130911Z"
    },
    "papermill": {
     "duration": 1.810287,
     "end_time": "2024-03-25T15:48:44.132175",
     "exception": false,
     "start_time": "2024-03-25T15:48:42.321888",
     "status": "completed"
    },
    "tags": []
   },
   "outputs": [
    {
     "name": "stdout",
     "output_type": "stream",
     "text": [
      "- Project '~/git/PopBERT' loaded. [renv 1.0.5]\n"
     ]
    },
    {
     "name": "stdout",
     "output_type": "stream",
     "text": [
      "- Project '~/git/PopBERT' loaded. [renv 1.0.5]\n"
     ]
    },
    {
     "data": {
      "text/plain": [
       "array(['/Users/lukas/git/PopBERT'], dtype='<U24')"
      ]
     },
     "execution_count": 1,
     "metadata": {},
     "output_type": "execute_result"
    }
   ],
   "source": [
    "%load_ext rpy2.ipython\n",
    "%R renv::load()"
   ]
  },
  {
   "cell_type": "code",
   "execution_count": 2,
   "id": "28be3638",
   "metadata": {
    "execution": {
     "iopub.execute_input": "2024-03-25T15:48:44.135368Z",
     "iopub.status.busy": "2024-03-25T15:48:44.135228Z",
     "iopub.status.idle": "2024-03-25T15:48:45.161075Z",
     "shell.execute_reply": "2024-03-25T15:48:45.160716Z"
    },
    "papermill": {
     "duration": 1.028458,
     "end_time": "2024-03-25T15:48:45.162105",
     "exception": false,
     "start_time": "2024-03-25T15:48:44.133647",
     "status": "completed"
    },
    "tags": []
   },
   "outputs": [],
   "source": [
    "from itertools import combinations\n",
    "\n",
    "import numpy as np\n",
    "import pandas as pd\n",
    "import rpy2.robjects as ro\n",
    "from rpy2.robjects import numpy2ri\n",
    "from rpy2.robjects.packages import importr\n",
    "from sklearn.metrics import f1_score\n",
    "from statsmodels.stats import inter_rater\n",
    "\n",
    "import src\n",
    "import src.bert.dataset.strategies as strategies\n",
    "import src.db.connect\n",
    "from src.bert.dataset import PBertDataset"
   ]
  },
  {
   "cell_type": "code",
   "execution_count": 3,
   "id": "b95bd128",
   "metadata": {
    "execution": {
     "iopub.execute_input": "2024-03-25T15:48:45.165115Z",
     "iopub.status.busy": "2024-03-25T15:48:45.164992Z",
     "iopub.status.idle": "2024-03-25T15:48:45.681956Z",
     "shell.execute_reply": "2024-03-25T15:48:45.681635Z"
    },
    "papermill": {
     "duration": 0.519696,
     "end_time": "2024-03-25T15:48:45.683173",
     "exception": false,
     "start_time": "2024-03-25T15:48:45.163477",
     "status": "completed"
    },
    "tags": []
   },
   "outputs": [],
   "source": [
    "dataset = PBertDataset.from_disk(\n",
    "    path=src.PATH / \"data/labeled_data/full.csv.zip\",\n",
    "    exclude_coders=[],\n",
    "    label_strategy=strategies.MLMin1PopIdeol(output_fmt=\"single_task\"),\n",
    ")"
   ]
  },
  {
   "cell_type": "code",
   "execution_count": 4,
   "id": "a5acf656",
   "metadata": {
    "execution": {
     "iopub.execute_input": "2024-03-25T15:48:45.686724Z",
     "iopub.status.busy": "2024-03-25T15:48:45.686578Z",
     "iopub.status.idle": "2024-03-25T15:48:45.689070Z",
     "shell.execute_reply": "2024-03-25T15:48:45.688788Z"
    },
    "papermill": {
     "duration": 0.005445,
     "end_time": "2024-03-25T15:48:45.690204",
     "exception": false,
     "start_time": "2024-03-25T15:48:45.684759",
     "status": "completed"
    },
    "tags": []
   },
   "outputs": [],
   "source": [
    "def pairwise_f1_agreement(df):\n",
    "    scores = []\n",
    "    for i, j in combinations(df.columns, r=2):\n",
    "        coder1 = df[i].apply(pd.Series).to_numpy()\n",
    "        coder2 = df[j].apply(pd.Series).to_numpy()\n",
    "        score = f1_score(coder1, coder2, average=\"binary\")\n",
    "        scores.append(score)\n",
    "\n",
    "    return np.mean(scores)"
   ]
  },
  {
   "cell_type": "code",
   "execution_count": 5,
   "id": "f9c51423",
   "metadata": {
    "execution": {
     "iopub.execute_input": "2024-03-25T15:48:45.693534Z",
     "iopub.status.busy": "2024-03-25T15:48:45.693403Z",
     "iopub.status.idle": "2024-03-25T15:48:45.980689Z",
     "shell.execute_reply": "2024-03-25T15:48:45.980349Z"
    },
    "papermill": {
     "duration": 0.290278,
     "end_time": "2024-03-25T15:48:45.981941",
     "exception": false,
     "start_time": "2024-03-25T15:48:45.691663",
     "status": "completed"
    },
    "tags": []
   },
   "outputs": [],
   "source": [
    "base = importr(\"base\")\n",
    "irr = importr(\"irr\")"
   ]
  },
  {
   "cell_type": "code",
   "execution_count": 6,
   "id": "000d581f",
   "metadata": {
    "execution": {
     "iopub.execute_input": "2024-03-25T15:48:45.985587Z",
     "iopub.status.busy": "2024-03-25T15:48:45.985447Z",
     "iopub.status.idle": "2024-03-25T15:48:45.987932Z",
     "shell.execute_reply": "2024-03-25T15:48:45.987508Z"
    },
    "papermill": {
     "duration": 0.005621,
     "end_time": "2024-03-25T15:48:45.989144",
     "exception": false,
     "start_time": "2024-03-25T15:48:45.983523",
     "status": "completed"
    },
    "tags": []
   },
   "outputs": [],
   "source": [
    "def pairwise_f1_agreement(df):\n",
    "    scores = []\n",
    "    for i, j in combinations(df.columns, r=2):\n",
    "        coder1 = df[i]\n",
    "        coder2 = df[j]\n",
    "        score = f1_score(coder1, coder2, average=\"binary\")\n",
    "        scores.append(score)\n",
    "\n",
    "    return np.mean(scores)"
   ]
  },
  {
   "cell_type": "code",
   "execution_count": 7,
   "id": "dbb60937",
   "metadata": {
    "execution": {
     "iopub.execute_input": "2024-03-25T15:48:45.992677Z",
     "iopub.status.busy": "2024-03-25T15:48:45.992534Z",
     "iopub.status.idle": "2024-03-25T15:48:45.995905Z",
     "shell.execute_reply": "2024-03-25T15:48:45.995657Z"
    },
    "papermill": {
     "duration": 0.006067,
     "end_time": "2024-03-25T15:48:45.996719",
     "exception": false,
     "start_time": "2024-03-25T15:48:45.990652",
     "status": "completed"
    },
    "tags": []
   },
   "outputs": [],
   "source": [
    "def calculate_kappa(dataset, strategy, coders):\n",
    "    dataset.valid_coders = coders\n",
    "    dataset.strategy = strategy\n",
    "    dataset.apply_label_strategy()\n",
    "\n",
    "    df = dataset.df_labels.copy()\n",
    "    raw_data = pd.DataFrame(df.labels.tolist(), columns=dataset.coders, index=df.id)\n",
    "    f1_agreement = pairwise_f1_agreement(raw_data)\n",
    "    raw_data = raw_data.to_numpy()\n",
    "\n",
    "    with (ro.default_converter + numpy2ri.converter).context():\n",
    "        r_mat = ro.conversion.get_conversion().py2rpy(raw_data)\n",
    "\n",
    "    out = irr.kappam_fleiss(r_mat, exact=False)\n",
    "    kappa = np.array(out.rx(\"value\"))[0][0]\n",
    "\n",
    "    out = irr.agree(r_mat, tolerance=0)\n",
    "    agree = np.array(out.rx(\"value\"))[0][0]\n",
    "\n",
    "    out = irr.kripp_alpha(base.t(r_mat), method=\"nominal\")\n",
    "    alpha = np.array(out.rx(\"value\"))[0][0]\n",
    "\n",
    "    return round(kappa, 3), round(alpha, 3), round(agree, 1), round(f1_agreement, 3)"
   ]
  },
  {
   "cell_type": "code",
   "execution_count": 8,
   "id": "b8c8cbcc",
   "metadata": {
    "execution": {
     "iopub.execute_input": "2024-03-25T15:48:45.999818Z",
     "iopub.status.busy": "2024-03-25T15:48:45.999712Z",
     "iopub.status.idle": "2024-03-25T15:48:46.001514Z",
     "shell.execute_reply": "2024-03-25T15:48:46.001285Z"
    },
    "papermill": {
     "duration": 0.00424,
     "end_time": "2024-03-25T15:48:46.002295",
     "exception": false,
     "start_time": "2024-03-25T15:48:45.998055",
     "status": "completed"
    },
    "tags": []
   },
   "outputs": [],
   "source": [
    "coder_sets = {\"all_coders\": dataset.all_coders}\n",
    "\n",
    "label_strategies = [\n",
    "    strategies.PopEliteBin(),\n",
    "    strategies.PopCentrBin(),\n",
    "    strategies.IdeolLeftBin(),\n",
    "    strategies.IdeolRightBin(),\n",
    "]"
   ]
  },
  {
   "attachments": {},
   "cell_type": "markdown",
   "id": "75c4caf9",
   "metadata": {
    "papermill": {
     "duration": 0.001118,
     "end_time": "2024-03-25T15:48:46.004532",
     "exception": false,
     "start_time": "2024-03-25T15:48:46.003414",
     "status": "completed"
    },
    "tags": []
   },
   "source": [
    "# Kappa Values\n"
   ]
  },
  {
   "cell_type": "code",
   "execution_count": 9,
   "id": "59183526",
   "metadata": {
    "execution": {
     "iopub.execute_input": "2024-03-25T15:48:46.007278Z",
     "iopub.status.busy": "2024-03-25T15:48:46.007176Z",
     "iopub.status.idle": "2024-03-25T15:48:49.688266Z",
     "shell.execute_reply": "2024-03-25T15:48:49.687838Z"
    },
    "papermill": {
     "duration": 3.683627,
     "end_time": "2024-03-25T15:48:49.689314",
     "exception": false,
     "start_time": "2024-03-25T15:48:46.005687",
     "status": "completed"
    },
    "tags": []
   },
   "outputs": [],
   "source": [
    "rows = []\n",
    "for strat in label_strategies:\n",
    "    for set_name, coders in coder_sets.items():\n",
    "        kappa, alpha, agree, f1 = calculate_kappa(dataset, strat, coders)\n",
    "        rows.append((type(strat).__name__, set_name, kappa, f1, alpha, agree))\n",
    "\n",
    "table = pd.DataFrame(\n",
    "    rows,\n",
    "    columns=[\n",
    "        \"strategy\",\n",
    "        \"coder_set\",\n",
    "        \"fleiss_kappa\",\n",
    "        \"f1\",\n",
    "        \"krippendorff_alpha\",\n",
    "        \"agree\",\n",
    "    ],\n",
    ").set_index([\"strategy\", \"coder_set\"])"
   ]
  },
  {
   "cell_type": "code",
   "execution_count": 10,
   "id": "73cdd079",
   "metadata": {
    "execution": {
     "iopub.execute_input": "2024-03-25T15:48:49.692354Z",
     "iopub.status.busy": "2024-03-25T15:48:49.692238Z",
     "iopub.status.idle": "2024-03-25T15:48:50.109354Z",
     "shell.execute_reply": "2024-03-25T15:48:50.109098Z"
    },
    "papermill": {
     "duration": 0.419498,
     "end_time": "2024-03-25T15:48:50.110196",
     "exception": false,
     "start_time": "2024-03-25T15:48:49.690698",
     "status": "completed"
    },
    "tags": []
   },
   "outputs": [
    {
     "data": {
      "text/html": [
       "<div>\n",
       "<style scoped>\n",
       "    .dataframe tbody tr th:only-of-type {\n",
       "        vertical-align: middle;\n",
       "    }\n",
       "\n",
       "    .dataframe tbody tr th {\n",
       "        vertical-align: top;\n",
       "    }\n",
       "\n",
       "    .dataframe thead th {\n",
       "        text-align: right;\n",
       "    }\n",
       "</style>\n",
       "<table border=\"1\" class=\"dataframe\">\n",
       "  <thead>\n",
       "    <tr style=\"text-align: right;\">\n",
       "      <th></th>\n",
       "      <th>Label</th>\n",
       "      <th>N</th>\n",
       "      <th>Fleiss' $\\kappa$</th>\n",
       "      <th>Agreement</th>\n",
       "      <th>F1</th>\n",
       "    </tr>\n",
       "  </thead>\n",
       "  <tbody>\n",
       "    <tr>\n",
       "      <th>0</th>\n",
       "      <td>Anti-Elitism</td>\n",
       "      <td>3236</td>\n",
       "      <td>0.410</td>\n",
       "      <td>65.80 \\%</td>\n",
       "      <td>0.496</td>\n",
       "    </tr>\n",
       "    <tr>\n",
       "      <th>1</th>\n",
       "      <td>People-Centrism</td>\n",
       "      <td>1608</td>\n",
       "      <td>0.244</td>\n",
       "      <td>81.80 \\%</td>\n",
       "      <td>0.262</td>\n",
       "    </tr>\n",
       "    <tr>\n",
       "      <th>2</th>\n",
       "      <td>Left-Wing Ideology</td>\n",
       "      <td>1393</td>\n",
       "      <td>0.355</td>\n",
       "      <td>84.50 \\%</td>\n",
       "      <td>0.378</td>\n",
       "    </tr>\n",
       "    <tr>\n",
       "      <th>3</th>\n",
       "      <td>Right-Wing Ideology</td>\n",
       "      <td>773</td>\n",
       "      <td>0.364</td>\n",
       "      <td>91.60 \\%</td>\n",
       "      <td>0.383</td>\n",
       "    </tr>\n",
       "    <tr>\n",
       "      <th>4</th>\n",
       "      <td>\\textbf{Total / Mean}</td>\n",
       "      <td>\\textbf{8795}</td>\n",
       "      <td>\\textbf{0.343}</td>\n",
       "      <td>\\textbf{80.92 \\%}</td>\n",
       "      <td>\\textbf{0.380}</td>\n",
       "    </tr>\n",
       "  </tbody>\n",
       "</table>\n",
       "</div>"
      ],
      "text/plain": [
       "                   Label              N Fleiss' $\\kappa$          Agreement  \\\n",
       "0           Anti-Elitism           3236            0.410           65.80 \\%   \n",
       "1        People-Centrism           1608            0.244           81.80 \\%   \n",
       "2     Left-Wing Ideology           1393            0.355           84.50 \\%   \n",
       "3    Right-Wing Ideology            773            0.364           91.60 \\%   \n",
       "4  \\textbf{Total / Mean}  \\textbf{8795}   \\textbf{0.343}  \\textbf{80.92 \\%}   \n",
       "\n",
       "               F1  \n",
       "0           0.496  \n",
       "1           0.262  \n",
       "2           0.378  \n",
       "3           0.383  \n",
       "4  \\textbf{0.380}  "
      ]
     },
     "execution_count": 10,
     "metadata": {},
     "output_type": "execute_result"
    }
   ],
   "source": [
    "tab = (\n",
    "    table.reset_index()\n",
    "    .drop([\"coder_set\", \"krippendorff_alpha\"], axis=1)\n",
    "    .rename(\n",
    "        {\n",
    "            \"strategy\": \"Label\",\n",
    "            \"f1\": \"F1\",\n",
    "        },\n",
    "        axis=1,\n",
    "    )\n",
    ")\n",
    "tab.Label = tab.Label.replace(\n",
    "    {\n",
    "        \"PopEliteBin\": \"Anti-Elitism\",\n",
    "        \"PopCentrBin\": \"People-Centrism\",\n",
    "        \"IdeolLeftBin\": \"Left-Wing Ideology\",\n",
    "        \"IdeolRightBin\": \"Right-Wing Ideology\",\n",
    "    }\n",
    ")\n",
    "# get number of positive labels\n",
    "dataset.strategy = strategies.MLMin1PopIdeol()\n",
    "dataset.apply_label_strategy()\n",
    "\n",
    "tab[\"N\"] = 0\n",
    "for i in range(0, 4):\n",
    "    tab.loc[tab.index == i, \"N\"] = sum(labels[i] for labels in dataset.df_labels.vote)\n",
    "\n",
    "# table footer\n",
    "footer = (\n",
    "    pd.Series(\n",
    "        {\n",
    "            \"Label\": \"Total / Mean\",\n",
    "            \"fleiss_kappa\": round(tab[\"fleiss_kappa\"].mean(), 3),\n",
    "            \"F1\": round(tab[\"F1\"].mean(), 3),\n",
    "            \"agree\": round(tab[\"agree\"].mean(), 3),\n",
    "            \"N\": len(dataset.df_labels),\n",
    "        },\n",
    "    )\n",
    "    .to_frame()\n",
    "    .T\n",
    ")\n",
    "footer.index = [4]\n",
    "\n",
    "tab = pd.concat([tab, footer])\n",
    "\n",
    "tab[\"agree\"] = [f\"{val:.2f} \\%\" for val in tab[\"agree\"]]\n",
    "tab[\"fleiss_kappa\"] = [f\"{val:.3f}\" for val in tab[\"fleiss_kappa\"]]\n",
    "tab[\"F1\"] = [f\"{val:.3f}\" for val in tab[\"F1\"]]\n",
    "\n",
    "tab = tab[[\"Label\", \"N\", \"fleiss_kappa\", \"agree\", \"F1\"]]\n",
    "\n",
    "tab = tab.rename(\n",
    "    {\n",
    "        \"agree\": \"Agreement\",\n",
    "        \"fleiss_kappa\": \"Fleiss' $\\kappa$\",\n",
    "    },\n",
    "    axis=1,\n",
    ")\n",
    "\n",
    "tab.iloc[4] = [f\"\\\\textbf{{{cell}}}\" for cell in tab.iloc[4]]\n",
    "\n",
    "tab"
   ]
  },
  {
   "cell_type": "markdown",
   "id": "c86d425a",
   "metadata": {
    "papermill": {
     "duration": 0.001232,
     "end_time": "2024-03-25T15:48:50.112806",
     "exception": false,
     "start_time": "2024-03-25T15:48:50.111574",
     "status": "completed"
    },
    "tags": []
   },
   "source": [
    "# Get Number of Labels"
   ]
  },
  {
   "cell_type": "code",
   "execution_count": 11,
   "id": "995f1128",
   "metadata": {
    "execution": {
     "iopub.execute_input": "2024-03-25T15:48:50.115709Z",
     "iopub.status.busy": "2024-03-25T15:48:50.115527Z",
     "iopub.status.idle": "2024-03-25T15:48:50.119736Z",
     "shell.execute_reply": "2024-03-25T15:48:50.119523Z"
    },
    "papermill": {
     "duration": 0.006602,
     "end_time": "2024-03-25T15:48:50.120572",
     "exception": false,
     "start_time": "2024-03-25T15:48:50.113970",
     "status": "completed"
    },
    "tags": []
   },
   "outputs": [
    {
     "name": "stderr",
     "output_type": "stream",
     "text": [
      "/var/folders/c4/s_gcwpvj6ks305sydyy9m00h0000gn/T/ipykernel_74018/560252390.py:1: FutureWarning: In future versions `DataFrame.to_latex` is expected to utilise the base implementation of `Styler.to_latex` for formatting and rendering. The arguments signature may therefore change. It is recommended instead to use `DataFrame.style.to_latex` which also contains additional functionality.\n",
      "  tab.to_latex(src.PATH / \"results/tables/coder_agreement.tex\", index=False, escape=False)\n"
     ]
    }
   ],
   "source": [
    "tab.to_latex(src.PATH / \"results/tables/coder_agreement.tex\", index=False, escape=False)"
   ]
  },
  {
   "cell_type": "code",
   "execution_count": null,
   "id": "fbf312d8",
   "metadata": {
    "papermill": {
     "duration": 0.001192,
     "end_time": "2024-03-25T15:48:50.123057",
     "exception": false,
     "start_time": "2024-03-25T15:48:50.121865",
     "status": "completed"
    },
    "tags": []
   },
   "outputs": [],
   "source": []
  }
 ],
 "metadata": {
  "kernelspec": {
   "display_name": ".venv",
   "language": "python",
   "name": "python3"
  },
  "language_info": {
   "codemirror_mode": {
    "name": "ipython",
    "version": 3
   },
   "file_extension": ".py",
   "mimetype": "text/x-python",
   "name": "python",
   "nbconvert_exporter": "python",
   "pygments_lexer": "ipython3",
   "version": "3.9.18"
  },
  "papermill": {
   "default_parameters": {},
   "duration": 9.178081,
   "end_time": "2024-03-25T15:48:50.542035",
   "environment_variables": {},
   "exception": null,
   "input_path": "code/01-annotator_performance.ipynb",
   "output_path": "code/01-annotator_performance.ipynb",
   "parameters": {},
   "start_time": "2024-03-25T15:48:41.363954",
   "version": "2.5.0"
  }
 },
 "nbformat": 4,
 "nbformat_minor": 5
}