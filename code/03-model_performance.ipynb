{
 "cells": [
  {
   "cell_type": "code",
   "execution_count": 1,
   "id": "cf11d984",
   "metadata": {
    "execution": {
     "iopub.execute_input": "2024-03-27T20:01:31.357645Z",
     "iopub.status.busy": "2024-03-27T20:01:31.357495Z",
     "iopub.status.idle": "2024-03-27T20:01:47.840534Z",
     "shell.execute_reply": "2024-03-27T20:01:47.840070Z"
    },
    "papermill": {
     "duration": 16.487506,
     "end_time": "2024-03-27T20:01:47.841996",
     "exception": false,
     "start_time": "2024-03-27T20:01:31.354490",
     "status": "completed"
    },
    "tags": []
   },
   "outputs": [],
   "source": [
    "import numpy as np\n",
    "import pandas as pd\n",
    "import torch\n",
    "from sklearn.metrics import classification_report\n",
    "from torch.utils.data import DataLoader\n",
    "from transformers import AutoModelForSequenceClassification\n",
    "from transformers import AutoTokenizer\n",
    "from transformers import logging\n",
    "\n",
    "import src\n",
    "from src.bert.dataset import PBertDataset\n",
    "from src.bert.dataset.strategies import MLMin1PopIdeol"
   ]
  },
  {
   "cell_type": "code",
   "execution_count": 2,
   "id": "0a50acf3",
   "metadata": {
    "execution": {
     "iopub.execute_input": "2024-03-27T20:01:47.848254Z",
     "iopub.status.busy": "2024-03-27T20:01:47.848038Z",
     "iopub.status.idle": "2024-03-27T20:01:47.993198Z",
     "shell.execute_reply": "2024-03-27T20:01:47.992816Z"
    },
    "papermill": {
     "duration": 0.148371,
     "end_time": "2024-03-27T20:01:47.994152",
     "exception": false,
     "start_time": "2024-03-27T20:01:47.845781",
     "status": "completed"
    },
    "tags": []
   },
   "outputs": [
    {
     "name": "stdout",
     "output_type": "stream",
     "text": [
      "cuda\n"
     ]
    }
   ],
   "source": [
    "logging.set_verbosity_error()\n",
    "DEVICE = \"cuda\" if torch.cuda.is_available() else \"cpu\"\n",
    "THRESHOLDS = {0: 0.415961, 1: 0.295400, 2: 0.429109, 3: 0.302714}\n",
    "print(DEVICE)"
   ]
  },
  {
   "cell_type": "code",
   "execution_count": 3,
   "id": "ee45bc66",
   "metadata": {
    "execution": {
     "iopub.execute_input": "2024-03-27T20:01:47.998462Z",
     "iopub.status.busy": "2024-03-27T20:01:47.998277Z",
     "iopub.status.idle": "2024-03-27T20:01:48.176978Z",
     "shell.execute_reply": "2024-03-27T20:01:48.176617Z"
    },
    "papermill": {
     "duration": 0.182064,
     "end_time": "2024-03-27T20:01:48.178201",
     "exception": false,
     "start_time": "2024-03-27T20:01:47.996137",
     "status": "completed"
    },
    "tags": []
   },
   "outputs": [],
   "source": [
    "EXCLUDE_CODERS = []\n",
    "test = PBertDataset.from_disk(\n",
    "    path=src.PATH / \"data/labeled_data/test.csv.zip\",\n",
    "    label_strategy=MLMin1PopIdeol(),\n",
    "    exclude_coders=EXCLUDE_CODERS,\n",
    ")"
   ]
  },
  {
   "cell_type": "code",
   "execution_count": 4,
   "id": "6ae957f7",
   "metadata": {
    "execution": {
     "iopub.execute_input": "2024-03-27T20:01:48.182466Z",
     "iopub.status.busy": "2024-03-27T20:01:48.182283Z",
     "iopub.status.idle": "2024-03-27T20:01:57.877322Z",
     "shell.execute_reply": "2024-03-27T20:01:57.876670Z"
    },
    "papermill": {
     "duration": 9.698711,
     "end_time": "2024-03-27T20:01:57.878800",
     "exception": false,
     "start_time": "2024-03-27T20:01:48.180089",
     "status": "completed"
    },
    "tags": []
   },
   "outputs": [],
   "source": [
    "COMMIT_HASH = \"cf44004e90045cde298e28605ff105747d58aa7a\"\n",
    "\n",
    "tokenizer = AutoTokenizer.from_pretrained(\"luerhard/PopBERT\", revision=COMMIT_HASH)\n",
    "model = AutoModelForSequenceClassification.from_pretrained(\n",
    "    \"luerhard/PopBERT\", revision=COMMIT_HASH\n",
    ").to(DEVICE)"
   ]
  },
  {
   "cell_type": "code",
   "execution_count": 5,
   "id": "ae52ec66",
   "metadata": {
    "execution": {
     "iopub.execute_input": "2024-03-27T20:01:57.884445Z",
     "iopub.status.busy": "2024-03-27T20:01:57.884165Z",
     "iopub.status.idle": "2024-03-27T20:01:57.887171Z",
     "shell.execute_reply": "2024-03-27T20:01:57.886818Z"
    },
    "papermill": {
     "duration": 0.006188,
     "end_time": "2024-03-27T20:01:57.888021",
     "exception": false,
     "start_time": "2024-03-27T20:01:57.881833",
     "status": "completed"
    },
    "tags": []
   },
   "outputs": [],
   "source": [
    "collate_fn = test.create_collate_fn(tokenizer)\n",
    "test_loader = DataLoader(test, collate_fn=collate_fn, batch_size=64, shuffle=False)"
   ]
  },
  {
   "cell_type": "code",
   "execution_count": 6,
   "id": "456a76c1",
   "metadata": {
    "execution": {
     "iopub.execute_input": "2024-03-27T20:01:57.891939Z",
     "iopub.status.busy": "2024-03-27T20:01:57.891613Z",
     "iopub.status.idle": "2024-03-27T20:01:57.894436Z",
     "shell.execute_reply": "2024-03-27T20:01:57.894097Z"
    },
    "papermill": {
     "duration": 0.005729,
     "end_time": "2024-03-27T20:01:57.895304",
     "exception": false,
     "start_time": "2024-03-27T20:01:57.889575",
     "status": "completed"
    },
    "tags": []
   },
   "outputs": [],
   "source": [
    "def apply_thresh(y_proba, thresholds: dict):\n",
    "    y_proba = y_proba.copy()\n",
    "    for dim, thresh in thresholds.items():\n",
    "        y_proba[:, dim] = np.where(y_proba[:, dim] > thresh, 1, 0)\n",
    "    return y_proba"
   ]
  },
  {
   "cell_type": "code",
   "execution_count": 7,
   "id": "00665888",
   "metadata": {
    "execution": {
     "iopub.execute_input": "2024-03-27T20:01:57.899279Z",
     "iopub.status.busy": "2024-03-27T20:01:57.898969Z",
     "iopub.status.idle": "2024-03-27T20:02:05.518267Z",
     "shell.execute_reply": "2024-03-27T20:02:05.517828Z"
    },
    "papermill": {
     "duration": 7.622756,
     "end_time": "2024-03-27T20:02:05.519654",
     "exception": false,
     "start_time": "2024-03-27T20:01:57.896898",
     "status": "completed"
    },
    "tags": []
   },
   "outputs": [],
   "source": [
    "with torch.inference_mode():\n",
    "    y_true = []\n",
    "    y_pred = []\n",
    "    for batch in test_loader:\n",
    "        encodings = batch[\"encodings\"]\n",
    "        encodings = encodings.to(DEVICE)\n",
    "        labels = batch[\"labels\"].to(DEVICE)\n",
    "        out = model(**encodings)\n",
    "        preds = torch.nn.functional.sigmoid(out.logits)\n",
    "        y_true.extend(batch[\"labels\"].numpy())\n",
    "        y_pred.extend(preds.cpu().numpy())\n",
    "    y_pred_05 = np.where(np.array(y_pred) > 0.5, 1, 0)\n",
    "    y_pred_thresh = apply_thresh(np.array(y_pred), THRESHOLDS)\n",
    "    y_true = np.array(y_true)"
   ]
  },
  {
   "cell_type": "code",
   "execution_count": 8,
   "id": "655782bb",
   "metadata": {
    "execution": {
     "iopub.execute_input": "2024-03-27T20:02:05.525296Z",
     "iopub.status.busy": "2024-03-27T20:02:05.525119Z",
     "iopub.status.idle": "2024-03-27T20:02:05.546537Z",
     "shell.execute_reply": "2024-03-27T20:02:05.546192Z"
    },
    "papermill": {
     "duration": 0.024594,
     "end_time": "2024-03-27T20:02:05.547444",
     "exception": false,
     "start_time": "2024-03-27T20:02:05.522850",
     "status": "completed"
    },
    "tags": []
   },
   "outputs": [
    {
     "name": "stdout",
     "output_type": "stream",
     "text": [
      "              precision    recall  f1-score   support\n",
      "\n",
      "       elite       0.82      0.86      0.84       648\n",
      "    pplcentr       0.77      0.60      0.67       322\n",
      "        left       0.71      0.75      0.73       279\n",
      "       right       0.77      0.57      0.65       155\n",
      "\n",
      "   micro avg       0.78      0.75      0.76      1404\n",
      "   macro avg       0.77      0.69      0.72      1404\n",
      "weighted avg       0.78      0.75      0.76      1404\n",
      " samples avg       0.39      0.38      0.38      1404\n",
      "\n"
     ]
    }
   ],
   "source": [
    "print(\n",
    "    classification_report(\n",
    "        y_true,\n",
    "        y_pred_05,\n",
    "        target_names=[\"elite\", \"pplcentr\", \"left\", \"right\"],\n",
    "        zero_division=0,\n",
    "    )\n",
    ")"
   ]
  },
  {
   "cell_type": "code",
   "execution_count": 9,
   "id": "cd3f9842",
   "metadata": {
    "execution": {
     "iopub.execute_input": "2024-03-27T20:02:05.551445Z",
     "iopub.status.busy": "2024-03-27T20:02:05.551295Z",
     "iopub.status.idle": "2024-03-27T20:02:05.561376Z",
     "shell.execute_reply": "2024-03-27T20:02:05.561041Z"
    },
    "papermill": {
     "duration": 0.013088,
     "end_time": "2024-03-27T20:02:05.562269",
     "exception": false,
     "start_time": "2024-03-27T20:02:05.549181",
     "status": "completed"
    },
    "tags": []
   },
   "outputs": [
    {
     "name": "stdout",
     "output_type": "stream",
     "text": [
      "              precision    recall  f1-score   support\n",
      "\n",
      "       elite       0.81      0.88      0.84       648\n",
      "    pplcentr       0.70      0.73      0.71       322\n",
      "        left       0.69      0.77      0.73       279\n",
      "       right       0.68      0.66      0.67       155\n",
      "\n",
      "   micro avg       0.75      0.80      0.77      1404\n",
      "   macro avg       0.72      0.76      0.74      1404\n",
      "weighted avg       0.75      0.80      0.77      1404\n",
      " samples avg       0.41      0.40      0.40      1404\n",
      "\n"
     ]
    }
   ],
   "source": [
    "print(\n",
    "    classification_report(\n",
    "        y_true,\n",
    "        y_pred_thresh,\n",
    "        target_names=[\"elite\", \"pplcentr\", \"left\", \"right\"],\n",
    "        zero_division=0,\n",
    "    )\n",
    ")"
   ]
  },
  {
   "cell_type": "code",
   "execution_count": 10,
   "id": "e391d6d6",
   "metadata": {
    "execution": {
     "iopub.execute_input": "2024-03-27T20:02:05.566478Z",
     "iopub.status.busy": "2024-03-27T20:02:05.566264Z",
     "iopub.status.idle": "2024-03-27T20:02:05.576068Z",
     "shell.execute_reply": "2024-03-27T20:02:05.575739Z"
    },
    "papermill": {
     "duration": 0.013066,
     "end_time": "2024-03-27T20:02:05.577113",
     "exception": false,
     "start_time": "2024-03-27T20:02:05.564047",
     "status": "completed"
    },
    "tags": []
   },
   "outputs": [],
   "source": [
    "performance = classification_report(\n",
    "    y_true,\n",
    "    y_pred_thresh,\n",
    "    target_names=[\"elite\", \"pplcentr\", \"left\", \"right\"],\n",
    "    zero_division=0,\n",
    "    output_dict=True,\n",
    ")"
   ]
  },
  {
   "cell_type": "code",
   "execution_count": 11,
   "id": "04a41c11",
   "metadata": {
    "execution": {
     "iopub.execute_input": "2024-03-27T20:02:05.581554Z",
     "iopub.status.busy": "2024-03-27T20:02:05.581373Z",
     "iopub.status.idle": "2024-03-27T20:02:05.587998Z",
     "shell.execute_reply": "2024-03-27T20:02:05.587657Z"
    },
    "papermill": {
     "duration": 0.009832,
     "end_time": "2024-03-27T20:02:05.588884",
     "exception": false,
     "start_time": "2024-03-27T20:02:05.579052",
     "status": "completed"
    },
    "tags": []
   },
   "outputs": [],
   "source": [
    "out = pd.DataFrame(performance).T.drop(\"support\", axis=1)\n",
    "out = out.reset_index().rename(\n",
    "    {\"index\": \"Dimension\", \"precision\": \"Precision\", \"f1-score\": \"F1\", \"recall\": \"Recall\"},\n",
    "    axis=1,\n",
    ")\n",
    "out[\"Dimension\"] = out[\"Dimension\"].replace(\n",
    "    {\n",
    "        \"elite\": \"Anti-Elitism\",\n",
    "        \"pplcentr\": \"People-Centrism\",\n",
    "        \"left\": \"Left-Wing Ideology\",\n",
    "        \"right\": \"Right-Wing Ideology\",\n",
    "    }\n",
    ")\n",
    "\n",
    "out = out.iloc[:6, :].round(2)"
   ]
  },
  {
   "cell_type": "code",
   "execution_count": 12,
   "id": "3dce559a",
   "metadata": {
    "execution": {
     "iopub.execute_input": "2024-03-27T20:02:05.593209Z",
     "iopub.status.busy": "2024-03-27T20:02:05.592950Z",
     "iopub.status.idle": "2024-03-27T20:02:05.614043Z",
     "shell.execute_reply": "2024-03-27T20:02:05.613694Z"
    },
    "papermill": {
     "duration": 0.02434,
     "end_time": "2024-03-27T20:02:05.615018",
     "exception": false,
     "start_time": "2024-03-27T20:02:05.590678",
     "status": "completed"
    },
    "tags": []
   },
   "outputs": [
    {
     "name": "stderr",
     "output_type": "stream",
     "text": [
      "/scratch/st_ac138201/job_2959149_o04c03/ipykernel_3454729/11744537.py:1: FutureWarning: In future versions `DataFrame.to_latex` is expected to utilise the base implementation of `Styler.to_latex` for formatting and rendering. The arguments signature may therefore change. It is recommended instead to use `DataFrame.style.to_latex` which also contains additional functionality.\n",
      "  out.to_latex(src.PATH / \"results/tables/model_performance.tex\", index=False)\n"
     ]
    }
   ],
   "source": [
    "out.to_latex(src.PATH / \"results/tables/model_performance.tex\", index=False)"
   ]
  }
 ],
 "metadata": {
  "kernelspec": {
   "display_name": ".venv",
   "language": "python",
   "name": "python3"
  },
  "language_info": {
   "codemirror_mode": {
    "name": "ipython",
    "version": 3
   },
   "file_extension": ".py",
   "mimetype": "text/x-python",
   "name": "python",
   "nbconvert_exporter": "python",
   "pygments_lexer": "ipython3",
   "version": "3.9.12"
  },
  "papermill": {
   "default_parameters": {},
   "duration": 37.039272,
   "end_time": "2024-03-27T20:02:06.935531",
   "environment_variables": {},
   "exception": null,
   "input_path": "code/03-model_performance.ipynb",
   "output_path": "code/03-model_performance.ipynb",
   "parameters": {},
   "start_time": "2024-03-27T20:01:29.896259",
   "version": "2.5.0"
  }
 },
 "nbformat": 4,
 "nbformat_minor": 5
}