{
 "cells": [
  {
   "cell_type": "code",
   "execution_count": null,
   "id": "cf11d984",
   "metadata": {
    "execution": {
     "iopub.execute_input": "2024-03-27T16:45:12.971413Z",
     "iopub.status.busy": "2024-03-27T16:45:12.971245Z",
     "iopub.status.idle": "2024-03-27T16:45:23.509178Z",
     "shell.execute_reply": "2024-03-27T16:45:23.508677Z"
    },
    "papermill": {
     "duration": 10.542342,
     "end_time": "2024-03-27T16:45:23.510832",
     "exception": false,
     "start_time": "2024-03-27T16:45:12.968490",
     "status": "completed"
    },
    "tags": []
   },
   "outputs": [],
   "source": [
    "import numpy as np\n",
    "import pandas as pd\n",
    "import torch\n",
    "from sklearn.metrics import classification_report\n",
    "from torch.utils.data import DataLoader\n",
    "from transformers import AutoModelForSequenceClassification\n",
    "from transformers import AutoTokenizer\n",
    "from transformers import logging\n",
    "\n",
    "import src\n",
    "from src.bert.dataset import PBertDataset\n",
    "from src.bert.dataset.strategies import MLMin1PopIdeol"
   ]
  },
  {
   "cell_type": "code",
   "execution_count": null,
   "id": "0a50acf3",
   "metadata": {
    "execution": {
     "iopub.execute_input": "2024-03-27T16:45:23.522136Z",
     "iopub.status.busy": "2024-03-27T16:45:23.521902Z",
     "iopub.status.idle": "2024-03-27T16:45:23.679700Z",
     "shell.execute_reply": "2024-03-27T16:45:23.679325Z"
    },
    "papermill": {
     "duration": 0.160749,
     "end_time": "2024-03-27T16:45:23.680687",
     "exception": false,
     "start_time": "2024-03-27T16:45:23.519938",
     "status": "completed"
    },
    "tags": []
   },
   "outputs": [],
   "source": [
    "logging.set_verbosity_error()\n",
    "DEVICE = \"cuda\" if torch.cuda.is_available() else \"cpu\"\n",
    "THRESHOLDS = {0: 0.415961, 1: 0.295400, 2: 0.429109, 3: 0.302714}\n",
    "print(DEVICE)"
   ]
  },
  {
   "cell_type": "code",
   "execution_count": null,
   "id": "ee45bc66",
   "metadata": {},
   "outputs": [],
   "source": [
    "EXCLUDE_CODERS = []\n",
    "test = PBertDataset.from_disk(\n",
    "    path=src.PATH / \"data/labeled_data/test.csv.zip\",\n",
    "    label_strategy=MLMin1PopIdeol(),\n",
    "    exclude_coders=EXCLUDE_CODERS,\n",
    ")"
   ]
  },
  {
   "cell_type": "code",
   "execution_count": null,
   "id": "6ae957f7",
   "metadata": {
    "execution": {
     "iopub.execute_input": "2024-03-27T16:45:23.684172Z",
     "iopub.status.busy": "2024-03-27T16:45:23.684017Z",
     "iopub.status.idle": "2024-03-27T16:45:33.099576Z",
     "shell.execute_reply": "2024-03-27T16:45:33.098931Z"
    },
    "papermill": {
     "duration": 9.419051,
     "end_time": "2024-03-27T16:45:33.101181",
     "exception": false,
     "start_time": "2024-03-27T16:45:23.682130",
     "status": "completed"
    },
    "tags": []
   },
   "outputs": [],
   "source": [
    "COMMIT_HASH = \"cf44004e90045cde298e28605ff105747d58aa7a\"\n",
    "\n",
    "tokenizer = AutoTokenizer.from_pretrained(\"luerhard/PopBERT\", revision=COMMIT_HASH)\n",
    "model = AutoModelForSequenceClassification.from_pretrained(\n",
    "    \"luerhard/PopBERT\", revision=COMMIT_HASH\n",
    ").to(DEVICE)"
   ]
  },
  {
   "cell_type": "code",
   "execution_count": null,
   "id": "ae52ec66",
   "metadata": {
    "execution": {
     "iopub.execute_input": "2024-03-27T16:45:33.107624Z",
     "iopub.status.busy": "2024-03-27T16:45:33.107436Z",
     "iopub.status.idle": "2024-03-27T16:45:34.294640Z",
     "shell.execute_reply": "2024-03-27T16:45:34.294112Z"
    },
    "papermill": {
     "duration": 1.190721,
     "end_time": "2024-03-27T16:45:34.296147",
     "exception": false,
     "start_time": "2024-03-27T16:45:33.105426",
     "status": "completed"
    },
    "tags": []
   },
   "outputs": [],
   "source": [
    "collate_fn = test.create_collate_fn(tokenizer)\n",
    "test_loader = DataLoader(test, collate_fn=collate_fn, batch_size=64, shuffle=False)"
   ]
  },
  {
   "cell_type": "code",
   "execution_count": null,
   "id": "456a76c1",
   "metadata": {},
   "outputs": [],
   "source": [
    "def apply_thresh(y_proba, thresholds: dict):\n",
    "    y_proba = y_proba.copy()\n",
    "    for dim, thresh in thresholds.items():\n",
    "        y_proba[:, dim] = np.where(y_proba[:, dim] > thresh, 1, 0)\n",
    "    return y_proba"
   ]
  },
  {
   "cell_type": "code",
   "execution_count": null,
   "id": "00665888",
   "metadata": {
    "execution": {
     "iopub.execute_input": "2024-03-27T16:45:34.308637Z",
     "iopub.status.busy": "2024-03-27T16:45:34.308468Z",
     "iopub.status.idle": "2024-03-27T17:47:43.473906Z",
     "shell.execute_reply": "2024-03-27T17:47:43.473343Z"
    },
    "papermill": {
     "duration": 3729.168655,
     "end_time": "2024-03-27T17:47:43.475304",
     "exception": false,
     "start_time": "2024-03-27T16:45:34.306649",
     "status": "completed"
    },
    "tags": []
   },
   "outputs": [],
   "source": [
    "with torch.inference_mode():\n",
    "    y_true = []\n",
    "    y_pred = []\n",
    "    for batch in test_loader:\n",
    "        encodings = batch[\"encodings\"]\n",
    "        encodings = encodings.to(DEVICE)\n",
    "        labels = batch[\"labels\"].to(DEVICE)\n",
    "        out = model(**encodings)\n",
    "        preds = torch.nn.functional.sigmoid(out.logits)\n",
    "        y_true.extend(batch[\"labels\"].numpy())\n",
    "        y_pred.extend(preds.cpu().numpy())\n",
    "    y_pred_05 = np.where(np.array(y_pred) > 0.5, 1, 0)\n",
    "    y_pred_thresh = apply_thresh(np.array(y_pred), THRESHOLDS)\n",
    "    y_true = np.array(y_true)"
   ]
  },
  {
   "cell_type": "code",
   "execution_count": null,
   "id": "655782bb",
   "metadata": {},
   "outputs": [],
   "source": [
    "print(\n",
    "    classification_report(\n",
    "        y_true,\n",
    "        y_pred_05,\n",
    "        target_names=[\"elite\", \"pplcentr\", \"left\", \"right\"],\n",
    "        zero_division=0,\n",
    "    )\n",
    ")"
   ]
  },
  {
   "cell_type": "code",
   "execution_count": null,
   "id": "cd3f9842",
   "metadata": {},
   "outputs": [],
   "source": [
    "print(\n",
    "    classification_report(\n",
    "        y_true,\n",
    "        y_pred_thresh,\n",
    "        target_names=[\"elite\", \"pplcentr\", \"left\", \"right\"],\n",
    "        zero_division=0,\n",
    "    )\n",
    ")"
   ]
  },
  {
   "cell_type": "code",
   "execution_count": null,
   "id": "e391d6d6",
   "metadata": {},
   "outputs": [],
   "source": [
    "performance = classification_report(\n",
    "    y_true,\n",
    "    y_pred_thresh,\n",
    "    target_names=[\"elite\", \"pplcentr\", \"left\", \"right\"],\n",
    "    zero_division=0,\n",
    "    output_dict=True,\n",
    ")"
   ]
  },
  {
   "cell_type": "code",
   "execution_count": null,
   "id": "04a41c11",
   "metadata": {},
   "outputs": [],
   "source": [
    "out = pd.DataFrame(performance).T.drop(\"support\", axis=1)\n",
    "out = out.reset_index().rename(\n",
    "    {\"index\": \"Dimension\", \"precision\": \"Precision\", \"f1-score\": \"F1\", \"recall\": \"Recall\"},\n",
    "    axis=1,\n",
    ")\n",
    "out[\"Dimension\"] = out[\"Dimension\"].replace(\n",
    "    {\n",
    "        \"elite\": \"Anti-Elitism\",\n",
    "        \"pplcentr\": \"People-Centrism\",\n",
    "        \"left\": \"Left-Wing Ideology\",\n",
    "        \"right\": \"Right-Wing Ideology\",\n",
    "    }\n",
    ")\n",
    "\n",
    "out = out.iloc[:6, :].round(2)"
   ]
  },
  {
   "cell_type": "code",
   "execution_count": null,
   "id": "3dce559a",
   "metadata": {},
   "outputs": [],
   "source": [
    "out.to_latex(src.PATH / \"results/tables/model_performance.tex\", index=False)"
   ]
  }
 ],
 "metadata": {
  "kernelspec": {
   "display_name": ".venv",
   "language": "python",
   "name": "python3"
  },
  "language_info": {
   "codemirror_mode": {
    "name": "ipython",
    "version": 3
   },
   "file_extension": ".py",
   "mimetype": "text/x-python",
   "name": "python",
   "nbconvert_exporter": "python",
   "pygments_lexer": "ipython3",
   "version": "3.9.18"
  },
  "papermill": {
   "default_parameters": {},
   "duration": 3757.974576,
   "end_time": "2024-03-27T17:47:49.499743",
   "environment_variables": {},
   "exception": null,
   "input_path": "code/03-make_predictions.ipynb",
   "output_path": "code/03-make_predictions.ipynb",
   "parameters": {},
   "start_time": "2024-03-27T16:45:11.525167",
   "version": "2.5.0"
  }
 },
 "nbformat": 4,
 "nbformat_minor": 5
}
