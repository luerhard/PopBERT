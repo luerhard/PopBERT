{
 "cells": [
  {
   "cell_type": "code",
   "execution_count": 1,
   "id": "b2d01208",
   "metadata": {
    "execution": {
     "iopub.execute_input": "2024-03-27T22:14:20.776761Z",
     "iopub.status.busy": "2024-03-27T22:14:20.775996Z",
     "iopub.status.idle": "2024-03-27T22:14:21.505463Z",
     "shell.execute_reply": "2024-03-27T22:14:21.505196Z"
    },
    "papermill": {
     "duration": 0.741719,
     "end_time": "2024-03-27T22:14:21.506452",
     "exception": false,
     "start_time": "2024-03-27T22:14:20.764733",
     "status": "completed"
    },
    "tags": []
   },
   "outputs": [],
   "source": [
    "import pandas as pd\n",
    "from sklearn import preprocessing\n",
    "\n",
    "import src"
   ]
  },
  {
   "cell_type": "code",
   "execution_count": 2,
   "id": "f6939b2a",
   "metadata": {
    "execution": {
     "iopub.execute_input": "2024-03-27T22:14:21.509175Z",
     "iopub.status.busy": "2024-03-27T22:14:21.509029Z",
     "iopub.status.idle": "2024-03-27T22:14:21.510735Z",
     "shell.execute_reply": "2024-03-27T22:14:21.510508Z"
    },
    "papermill": {
     "duration": 0.003882,
     "end_time": "2024-03-27T22:14:21.511616",
     "exception": false,
     "start_time": "2024-03-27T22:14:21.507734",
     "status": "completed"
    },
    "tags": []
   },
   "outputs": [],
   "source": [
    "pd.set_option(\"display.max_colwidth\", None)"
   ]
  },
  {
   "attachments": {},
   "cell_type": "markdown",
   "id": "a78889d7-6cf2-4f02-ba46-59290ab3c448",
   "metadata": {
    "papermill": {
     "duration": 0.000869,
     "end_time": "2024-03-27T22:14:21.513457",
     "exception": false,
     "start_time": "2024-03-27T22:14:21.512588",
     "status": "completed"
    },
    "tags": []
   },
   "source": [
    "# Load data"
   ]
  },
  {
   "cell_type": "code",
   "execution_count": 3,
   "id": "004391a7",
   "metadata": {
    "execution": {
     "iopub.execute_input": "2024-03-27T22:14:21.515466Z",
     "iopub.status.busy": "2024-03-27T22:14:21.515365Z",
     "iopub.status.idle": "2024-03-27T22:14:22.601993Z",
     "shell.execute_reply": "2024-03-27T22:14:22.601652Z"
    },
    "papermill": {
     "duration": 1.088755,
     "end_time": "2024-03-27T22:14:22.602975",
     "exception": false,
     "start_time": "2024-03-27T22:14:21.514220",
     "status": "completed"
    },
    "tags": []
   },
   "outputs": [],
   "source": [
    "df = pd.read_parquet(src.PATH / \"data/raw/sentences.parquet.gzip\")\n",
    "preds = pd.read_parquet(src.PATH / \"data/interim/sentence_predictions.parquet.gzip\")\n",
    "gruendl = pd.read_parquet(src.PATH / \"data/interim/gruendl.parquet.gzip\")\n",
    "gruendl[\"gruendl\"] = gruendl[\"gruendl\"].astype(int)\n",
    "\n",
    "df = pd.merge(df, preds, on=\"sample_id\")\n",
    "df = pd.merge(df, gruendl, on=\"sample_id\")"
   ]
  },
  {
   "cell_type": "code",
   "execution_count": 4,
   "id": "ab25ac4c",
   "metadata": {
    "execution": {
     "iopub.execute_input": "2024-03-27T22:14:22.605470Z",
     "iopub.status.busy": "2024-03-27T22:14:22.605360Z",
     "iopub.status.idle": "2024-03-27T22:14:22.607077Z",
     "shell.execute_reply": "2024-03-27T22:14:22.606850Z"
    },
    "papermill": {
     "duration": 0.003822,
     "end_time": "2024-03-27T22:14:22.607891",
     "exception": false,
     "start_time": "2024-03-27T22:14:22.604069",
     "status": "completed"
    },
    "tags": []
   },
   "outputs": [],
   "source": [
    "thresh = {\"elite\": 0.415961, \"pplcentr\": 0.295400, \"left\": 0.429109, \"right\": 0.302714}"
   ]
  },
  {
   "cell_type": "code",
   "execution_count": 5,
   "id": "8f177349",
   "metadata": {
    "execution": {
     "iopub.execute_input": "2024-03-27T22:14:22.610222Z",
     "iopub.status.busy": "2024-03-27T22:14:22.610110Z",
     "iopub.status.idle": "2024-03-27T22:14:22.611847Z",
     "shell.execute_reply": "2024-03-27T22:14:22.611644Z"
    },
    "papermill": {
     "duration": 0.003765,
     "end_time": "2024-03-27T22:14:22.612605",
     "exception": false,
     "start_time": "2024-03-27T22:14:22.608840",
     "status": "completed"
    },
    "tags": []
   },
   "outputs": [],
   "source": [
    "elite_ids = (\"Anti-Elitism\", [421345, 288335, 1033085])\n",
    "centr_ids = (\"People-Centrism\", [1087337, 575681, 231293])\n",
    "pop_ids = (\"Populism\", [1064158, 1091032, 1195880])"
   ]
  },
  {
   "cell_type": "code",
   "execution_count": 6,
   "id": "4d5b230c",
   "metadata": {
    "execution": {
     "iopub.execute_input": "2024-03-27T22:14:22.614750Z",
     "iopub.status.busy": "2024-03-27T22:14:22.614583Z",
     "iopub.status.idle": "2024-03-27T22:14:22.704024Z",
     "shell.execute_reply": "2024-03-27T22:14:22.703740Z"
    },
    "papermill": {
     "duration": 0.091548,
     "end_time": "2024-03-27T22:14:22.704956",
     "exception": false,
     "start_time": "2024-03-27T22:14:22.613408",
     "status": "completed"
    },
    "tags": []
   },
   "outputs": [],
   "source": [
    "results = []\n",
    "for cat, ids in [elite_ids, centr_ids, pop_ids]:\n",
    "    sub_df = df.loc[\n",
    "        df.sample_id.isin(ids), [\"text\", \"elite\", \"gruendl\", \"pplcentr\", \"left\", \"right\"]\n",
    "    ].copy()\n",
    "    sub_df[\"category\"] = cat\n",
    "    results.append(sub_df)\n",
    "\n",
    "sample_df = pd.concat(results)\n",
    "sample_df = sample_df.round(2)\n",
    "sample_df[\"id\"] = range(1, len(sample_df) + 1)\n",
    "sample_df = sample_df[\n",
    "    [\"category\", \"id\", \"text\", \"gruendl\", \"elite\", \"pplcentr\", \"left\", \"right\"]\n",
    "].rename(\n",
    "    {\n",
    "        \"category\": \"Dimension\",\n",
    "        \"id\": \"ID\",\n",
    "        \"text\": \"Text\",\n",
    "        \"gruendl\": \"Gründl (2022)\",\n",
    "        \"pplcentr\": \"centr\",\n",
    "    },\n",
    "    axis=1,\n",
    ")\n",
    "sample_df[\"Text\"] = sample_df[\"Text\"].apply(lambda x: f\"\\parbox[t]{{7cm}}{{{x}}}\")"
   ]
  },
  {
   "cell_type": "code",
   "execution_count": 7,
   "id": "ac5df716",
   "metadata": {
    "execution": {
     "iopub.execute_input": "2024-03-27T22:14:22.707305Z",
     "iopub.status.busy": "2024-03-27T22:14:22.707198Z",
     "iopub.status.idle": "2024-03-27T22:14:22.713817Z",
     "shell.execute_reply": "2024-03-27T22:14:22.713569Z"
    },
    "papermill": {
     "duration": 0.008694,
     "end_time": "2024-03-27T22:14:22.714666",
     "exception": false,
     "start_time": "2024-03-27T22:14:22.705972",
     "status": "completed"
    },
    "tags": []
   },
   "outputs": [
    {
     "data": {
      "text/html": [
       "<div>\n",
       "<style scoped>\n",
       "    .dataframe tbody tr th:only-of-type {\n",
       "        vertical-align: middle;\n",
       "    }\n",
       "\n",
       "    .dataframe tbody tr th {\n",
       "        vertical-align: top;\n",
       "    }\n",
       "\n",
       "    .dataframe thead th {\n",
       "        text-align: right;\n",
       "    }\n",
       "</style>\n",
       "<table border=\"1\" class=\"dataframe\">\n",
       "  <thead>\n",
       "    <tr style=\"text-align: right;\">\n",
       "      <th></th>\n",
       "      <th>Dimension</th>\n",
       "      <th>ID</th>\n",
       "      <th>Text</th>\n",
       "      <th>Gründl (2022)</th>\n",
       "      <th>elite</th>\n",
       "      <th>centr</th>\n",
       "      <th>left</th>\n",
       "      <th>right</th>\n",
       "    </tr>\n",
       "  </thead>\n",
       "  <tbody>\n",
       "    <tr>\n",
       "      <th>288334</th>\n",
       "      <td>Anti-Elitism</td>\n",
       "      <td>1</td>\n",
       "      <td>\\parbox[t]{7cm}{Die Deregulierung der Finanzmärkte hat doch erst die Dollarzeichen in die Augen der Spekulanten gezaubert.}</td>\n",
       "      <td>1</td>\n",
       "      <td>0.96</td>\n",
       "      <td>0.02</td>\n",
       "      <td>0.97</td>\n",
       "      <td>0.02</td>\n",
       "    </tr>\n",
       "    <tr>\n",
       "      <th>421344</th>\n",
       "      <td>Anti-Elitism</td>\n",
       "      <td>2</td>\n",
       "      <td>\\parbox[t]{7cm}{Die Opposition befindet sich intellektuell bereits in der Sommerpause.}</td>\n",
       "      <td>0</td>\n",
       "      <td>0.89</td>\n",
       "      <td>0.00</td>\n",
       "      <td>0.01</td>\n",
       "      <td>0.02</td>\n",
       "    </tr>\n",
       "    <tr>\n",
       "      <th>1032106</th>\n",
       "      <td>Anti-Elitism</td>\n",
       "      <td>3</td>\n",
       "      <td>\\parbox[t]{7cm}{Für uns ist dies ein richtiger und notwendiger Schritt, er ist erforderlich, und wir sehen noch Nachholbedarf: 42,9 Milliarden Euro in 2019 und 60 Milliarden Euro in 2023.}</td>\n",
       "      <td>0</td>\n",
       "      <td>0.01</td>\n",
       "      <td>0.01</td>\n",
       "      <td>0.00</td>\n",
       "      <td>0.00</td>\n",
       "    </tr>\n",
       "    <tr>\n",
       "      <th>231292</th>\n",
       "      <td>People-Centrism</td>\n",
       "      <td>4</td>\n",
       "      <td>\\parbox[t]{7cm}{Ein Syrer mit 4 Frauen und 23 Kindern kostet den deutschen Steuerzahler schon jetzt im Jahr 400 000 Euro Alimentierung, ohne je einen einzigen Cent eingezahlt zu haben.}</td>\n",
       "      <td>0</td>\n",
       "      <td>0.06</td>\n",
       "      <td>0.90</td>\n",
       "      <td>0.19</td>\n",
       "      <td>0.71</td>\n",
       "    </tr>\n",
       "    <tr>\n",
       "      <th>575680</th>\n",
       "      <td>People-Centrism</td>\n",
       "      <td>5</td>\n",
       "      <td>\\parbox[t]{7cm}{Wir fordern für diese Menschen nicht irgendwelche sozialpolitischen Maßnahmen, sondern wir fordern: Schluss mit der dauerhaften gesellschaftlichen Ausgrenzung!}</td>\n",
       "      <td>0</td>\n",
       "      <td>0.00</td>\n",
       "      <td>0.68</td>\n",
       "      <td>0.72</td>\n",
       "      <td>0.01</td>\n",
       "    </tr>\n",
       "    <tr>\n",
       "      <th>1086045</th>\n",
       "      <td>People-Centrism</td>\n",
       "      <td>6</td>\n",
       "      <td>\\parbox[t]{7cm}{Wir machen konkrete Politik für die ganz konkreten Probleme der Menschen.}</td>\n",
       "      <td>0</td>\n",
       "      <td>0.00</td>\n",
       "      <td>0.90</td>\n",
       "      <td>0.07</td>\n",
       "      <td>0.02</td>\n",
       "    </tr>\n",
       "    <tr>\n",
       "      <th>1062960</th>\n",
       "      <td>Populism</td>\n",
       "      <td>7</td>\n",
       "      <td>\\parbox[t]{7cm}{Für Mieterinnen und Mieter kommt diese Tatenlosigkeit der Regierung wirklich teuer.}</td>\n",
       "      <td>0</td>\n",
       "      <td>0.99</td>\n",
       "      <td>0.13</td>\n",
       "      <td>0.08</td>\n",
       "      <td>0.01</td>\n",
       "    </tr>\n",
       "    <tr>\n",
       "      <th>1089687</th>\n",
       "      <td>Populism</td>\n",
       "      <td>8</td>\n",
       "      <td>\\parbox[t]{7cm}{Das ist Klassenkampf von oben, das ist Klassenkampf im Interesse von Vermögenden und Besitzenden gegen die Mehrheit der Steuerzahlerinnen und Steuerzahler auf dieser Erde.}</td>\n",
       "      <td>1</td>\n",
       "      <td>0.88</td>\n",
       "      <td>0.35</td>\n",
       "      <td>0.98</td>\n",
       "      <td>0.02</td>\n",
       "    </tr>\n",
       "    <tr>\n",
       "      <th>1193504</th>\n",
       "      <td>Populism</td>\n",
       "      <td>9</td>\n",
       "      <td>\\parbox[t]{7cm}{Sie sind jene, die den Gender Pay Gap vergrößern, indem Sie die armen deutschen Rentnerinnen mit Füßen treten, während Sie den Asylbewerbern, die hauptsächlich jung und männlich sind, das Geld in den Rachen werfen.}</td>\n",
       "      <td>0</td>\n",
       "      <td>0.96</td>\n",
       "      <td>0.68</td>\n",
       "      <td>0.10</td>\n",
       "      <td>0.98</td>\n",
       "    </tr>\n",
       "  </tbody>\n",
       "</table>\n",
       "</div>"
      ],
      "text/plain": [
       "               Dimension  ID  \\\n",
       "288334      Anti-Elitism   1   \n",
       "421344      Anti-Elitism   2   \n",
       "1032106     Anti-Elitism   3   \n",
       "231292   People-Centrism   4   \n",
       "575680   People-Centrism   5   \n",
       "1086045  People-Centrism   6   \n",
       "1062960         Populism   7   \n",
       "1089687         Populism   8   \n",
       "1193504         Populism   9   \n",
       "\n",
       "                                                                                                                                                                                                                                            Text  \\\n",
       "288334                                                                                                               \\parbox[t]{7cm}{Die Deregulierung der Finanzmärkte hat doch erst die Dollarzeichen in die Augen der Spekulanten gezaubert.}   \n",
       "421344                                                                                                                                                   \\parbox[t]{7cm}{Die Opposition befindet sich intellektuell bereits in der Sommerpause.}   \n",
       "1032106                                             \\parbox[t]{7cm}{Für uns ist dies ein richtiger und notwendiger Schritt, er ist erforderlich, und wir sehen noch Nachholbedarf: 42,9 Milliarden Euro in 2019 und 60 Milliarden Euro in 2023.}   \n",
       "231292                                                 \\parbox[t]{7cm}{Ein Syrer mit 4 Frauen und 23 Kindern kostet den deutschen Steuerzahler schon jetzt im Jahr 400 000 Euro Alimentierung, ohne je einen einzigen Cent eingezahlt zu haben.}   \n",
       "575680                                                          \\parbox[t]{7cm}{Wir fordern für diese Menschen nicht irgendwelche sozialpolitischen Maßnahmen, sondern wir fordern: Schluss mit der dauerhaften gesellschaftlichen Ausgrenzung!}   \n",
       "1086045                                                                                                                                               \\parbox[t]{7cm}{Wir machen konkrete Politik für die ganz konkreten Probleme der Menschen.}   \n",
       "1062960                                                                                                                                     \\parbox[t]{7cm}{Für Mieterinnen und Mieter kommt diese Tatenlosigkeit der Regierung wirklich teuer.}   \n",
       "1089687                                             \\parbox[t]{7cm}{Das ist Klassenkampf von oben, das ist Klassenkampf im Interesse von Vermögenden und Besitzenden gegen die Mehrheit der Steuerzahlerinnen und Steuerzahler auf dieser Erde.}   \n",
       "1193504  \\parbox[t]{7cm}{Sie sind jene, die den Gender Pay Gap vergrößern, indem Sie die armen deutschen Rentnerinnen mit Füßen treten, während Sie den Asylbewerbern, die hauptsächlich jung und männlich sind, das Geld in den Rachen werfen.}   \n",
       "\n",
       "         Gründl (2022)  elite  centr  left  right  \n",
       "288334               1   0.96   0.02  0.97   0.02  \n",
       "421344               0   0.89   0.00  0.01   0.02  \n",
       "1032106              0   0.01   0.01  0.00   0.00  \n",
       "231292               0   0.06   0.90  0.19   0.71  \n",
       "575680               0   0.00   0.68  0.72   0.01  \n",
       "1086045              0   0.00   0.90  0.07   0.02  \n",
       "1062960              0   0.99   0.13  0.08   0.01  \n",
       "1089687              1   0.88   0.35  0.98   0.02  \n",
       "1193504              0   0.96   0.68  0.10   0.98  "
      ]
     },
     "execution_count": 7,
     "metadata": {},
     "output_type": "execute_result"
    }
   ],
   "source": [
    "sample_df"
   ]
  },
  {
   "cell_type": "code",
   "execution_count": 8,
   "id": "c76d0180",
   "metadata": {
    "execution": {
     "iopub.execute_input": "2024-03-27T22:14:22.718039Z",
     "iopub.status.busy": "2024-03-27T22:14:22.717948Z",
     "iopub.status.idle": "2024-03-27T22:14:22.724188Z",
     "shell.execute_reply": "2024-03-27T22:14:22.723976Z"
    },
    "papermill": {
     "duration": 0.008841,
     "end_time": "2024-03-27T22:14:22.724943",
     "exception": false,
     "start_time": "2024-03-27T22:14:22.716102",
     "status": "completed"
    },
    "tags": []
   },
   "outputs": [
    {
     "name": "stderr",
     "output_type": "stream",
     "text": [
      "/var/folders/c4/s_gcwpvj6ks305sydyy9m00h0000gn/T/ipykernel_29079/2533246234.py:1: FutureWarning: In future versions `DataFrame.to_latex` is expected to utilise the base implementation of `Styler.to_latex` for formatting and rendering. The arguments signature may therefore change. It is recommended instead to use `DataFrame.style.to_latex` which also contains additional functionality.\n",
      "  sample_df.to_latex(src.PATH / \"results/tables/selected_examples.tex\", index=False, escape=False)\n"
     ]
    }
   ],
   "source": [
    "sample_df.to_latex(src.PATH / \"results/tables/selected_examples.tex\", index=False, escape=False)"
   ]
  },
  {
   "cell_type": "code",
   "execution_count": null,
   "id": "b106b728",
   "metadata": {
    "papermill": {
     "duration": 0.000926,
     "end_time": "2024-03-27T22:14:22.726833",
     "exception": false,
     "start_time": "2024-03-27T22:14:22.725907",
     "status": "completed"
    },
    "tags": []
   },
   "outputs": [],
   "source": []
  }
 ],
 "metadata": {
  "kernelspec": {
   "display_name": "Python 3",
   "language": "python",
   "name": "python3"
  },
  "language_info": {
   "codemirror_mode": {
    "name": "ipython",
    "version": 3
   },
   "file_extension": ".py",
   "mimetype": "text/x-python",
   "name": "python",
   "nbconvert_exporter": "python",
   "pygments_lexer": "ipython3",
   "version": "3.9.18"
  },
  "papermill": {
   "default_parameters": {},
   "duration": 3.145929,
   "end_time": "2024-03-27T22:14:22.943660",
   "environment_variables": {},
   "exception": null,
   "input_path": "code/09-selected_examples_table.ipynb",
   "output_path": "code/09-selected_examples_table.ipynb",
   "parameters": {},
   "start_time": "2024-03-27T22:14:19.797731",
   "version": "2.5.0"
  }
 },
 "nbformat": 4,
 "nbformat_minor": 5
}