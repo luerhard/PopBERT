{
 "cells": [
  {
   "cell_type": "code",
   "execution_count": 1,
   "id": "e0db552f",
   "metadata": {
    "execution": {
     "iopub.execute_input": "2024-03-27T22:20:59.380565Z",
     "iopub.status.busy": "2024-03-27T22:20:59.380402Z",
     "iopub.status.idle": "2024-03-27T22:21:04.908349Z",
     "shell.execute_reply": "2024-03-27T22:21:04.907573Z"
    },
    "papermill": {
     "duration": 5.5326,
     "end_time": "2024-03-27T22:21:04.909975",
     "exception": false,
     "start_time": "2024-03-27T22:20:59.377375",
     "status": "completed"
    },
    "tags": []
   },
   "outputs": [],
   "source": [
    "import numpy as np\n",
    "import torch\n",
    "from sklearn.metrics import classification_report\n",
    "from torch.utils.data import DataLoader\n",
    "from transformers import AutoModelForSequenceClassification\n",
    "from transformers import AutoTokenizer\n",
    "\n",
    "import src\n",
    "from src.bert import training\n",
    "from src.bert.dataset import PBertDataset\n",
    "from src.bert.dataset.strategies import MLMin1PopIdeol"
   ]
  },
  {
   "cell_type": "code",
   "execution_count": 2,
   "id": "4a3b191f",
   "metadata": {
    "execution": {
     "iopub.execute_input": "2024-03-27T22:21:04.917362Z",
     "iopub.status.busy": "2024-03-27T22:21:04.917047Z",
     "iopub.status.idle": "2024-03-27T22:21:04.921015Z",
     "shell.execute_reply": "2024-03-27T22:21:04.920661Z"
    },
    "papermill": {
     "duration": 0.00812,
     "end_time": "2024-03-27T22:21:04.921898",
     "exception": false,
     "start_time": "2024-03-27T22:21:04.913778",
     "status": "completed"
    },
    "tags": []
   },
   "outputs": [],
   "source": [
    "EXCLUDE_CODERS: list[str] = []\n",
    "DEVICE = \"cuda\" if torch.cuda.is_available() else \"cpu\"\n",
    "\n",
    "MODEL = \"deepset/gbert-large\"\n",
    "BATCH_SIZE = 8\n",
    "N_EPOCHS = 3\n",
    "LR = 0.000009\n",
    "WEIGHT_DECAY = 0.01\n",
    "\n",
    "THRESHOLDS = {0: 0.415961, 1: 0.295400, 2: 0.429109, 3: 0.302714}"
   ]
  },
  {
   "cell_type": "code",
   "execution_count": 3,
   "id": "37ed884b",
   "metadata": {
    "execution": {
     "iopub.execute_input": "2024-03-27T22:21:04.925743Z",
     "iopub.status.busy": "2024-03-27T22:21:04.925579Z",
     "iopub.status.idle": "2024-03-27T22:21:05.738031Z",
     "shell.execute_reply": "2024-03-27T22:21:05.737552Z"
    },
    "papermill": {
     "duration": 0.816023,
     "end_time": "2024-03-27T22:21:05.739469",
     "exception": false,
     "start_time": "2024-03-27T22:21:04.923446",
     "status": "completed"
    },
    "tags": []
   },
   "outputs": [],
   "source": [
    "train = PBertDataset.from_disk(\n",
    "    path=src.PATH / \"data/labeled_data/train.csv.zip\",\n",
    "    label_strategy=MLMin1PopIdeol(),\n",
    "    exclude_coders=EXCLUDE_CODERS,\n",
    ")\n",
    "\n",
    "test = PBertDataset.from_disk(\n",
    "    path=src.PATH / \"data/labeled_data/test.csv.zip\",\n",
    "    label_strategy=MLMin1PopIdeol(),\n",
    "    exclude_coders=EXCLUDE_CODERS,\n",
    ")"
   ]
  },
  {
   "cell_type": "code",
   "execution_count": 4,
   "id": "ece9d3fd",
   "metadata": {
    "execution": {
     "iopub.execute_input": "2024-03-27T22:21:05.743972Z",
     "iopub.status.busy": "2024-03-27T22:21:05.743792Z",
     "iopub.status.idle": "2024-03-27T22:21:06.069106Z",
     "shell.execute_reply": "2024-03-27T22:21:06.068658Z"
    },
    "papermill": {
     "duration": 0.329267,
     "end_time": "2024-03-27T22:21:06.070829",
     "exception": false,
     "start_time": "2024-03-27T22:21:05.741562",
     "status": "completed"
    },
    "tags": []
   },
   "outputs": [],
   "source": [
    "tokenizer = AutoTokenizer.from_pretrained(MODEL)\n",
    "collate_fn = train.create_collate_fn(tokenizer)\n",
    "\n",
    "train_loader = DataLoader(train, collate_fn=collate_fn, batch_size=BATCH_SIZE, shuffle=True)\n",
    "test_loader = DataLoader(test, collate_fn=collate_fn, batch_size=64, shuffle=False)"
   ]
  },
  {
   "cell_type": "code",
   "execution_count": 5,
   "id": "47c1d390",
   "metadata": {
    "execution": {
     "iopub.execute_input": "2024-03-27T22:21:06.075044Z",
     "iopub.status.busy": "2024-03-27T22:21:06.074882Z",
     "iopub.status.idle": "2024-03-27T22:21:14.420335Z",
     "shell.execute_reply": "2024-03-27T22:21:14.419845Z"
    },
    "papermill": {
     "duration": 8.349107,
     "end_time": "2024-03-27T22:21:14.421814",
     "exception": false,
     "start_time": "2024-03-27T22:21:06.072707",
     "status": "completed"
    },
    "tags": []
   },
   "outputs": [
    {
     "name": "stderr",
     "output_type": "stream",
     "text": [
      "Some weights of BertForSequenceClassification were not initialized from the model checkpoint at deepset/gbert-large and are newly initialized: ['classifier.weight', 'classifier.bias']\n",
      "You should probably TRAIN this model on a down-stream task to be able to use it for predictions and inference.\n"
     ]
    }
   ],
   "source": [
    "model = AutoModelForSequenceClassification.from_pretrained(MODEL, num_labels=train.num_labels).to(\n",
    "    DEVICE\n",
    ")"
   ]
  },
  {
   "cell_type": "code",
   "execution_count": 6,
   "id": "d113b0c6",
   "metadata": {
    "execution": {
     "iopub.execute_input": "2024-03-27T22:21:14.427804Z",
     "iopub.status.busy": "2024-03-27T22:21:14.427602Z",
     "iopub.status.idle": "2024-03-27T22:27:17.765189Z",
     "shell.execute_reply": "2024-03-27T22:27:17.764663Z"
    },
    "papermill": {
     "duration": 363.34489,
     "end_time": "2024-03-27T22:27:17.770105",
     "exception": false,
     "start_time": "2024-03-27T22:21:14.425215",
     "status": "completed"
    },
    "tags": []
   },
   "outputs": [
    {
     "name": "stdout",
     "output_type": "stream",
     "text": [
      "epoch=1 train_loss=288.6422 eval_loss=7.3731 score=0.6822\n"
     ]
    },
    {
     "name": "stdout",
     "output_type": "stream",
     "text": [
      "epoch=2 train_loss=184.7465 eval_loss=6.7474 score=0.7238\n"
     ]
    },
    {
     "name": "stdout",
     "output_type": "stream",
     "text": [
      "epoch=3 train_loss=128.6823 eval_loss=6.8762 score=0.7074\n"
     ]
    }
   ],
   "source": [
    "optimizer = torch.optim.AdamW(\n",
    "    model.parameters(),\n",
    "    lr=LR,\n",
    "    amsgrad=False,\n",
    "    weight_decay=WEIGHT_DECAY,\n",
    ")\n",
    "\n",
    "lr_scheduler = torch.optim.lr_scheduler.CosineAnnealingLR(\n",
    "    optimizer,\n",
    "    T_max=20,\n",
    "    eta_min=LR / 10,\n",
    ")\n",
    "\n",
    "for epoch in range(1, N_EPOCHS + 1):\n",
    "    train_loss = training.train_epoch(model, train_loader, optimizer, lr_scheduler, clip=5)\n",
    "    eval_loss, score, _ = training.eval_epoch(model, test_loader)\n",
    "    print(f\"{epoch=} {train_loss=:.4f} {eval_loss=:.4f} {score=:.4f}\")"
   ]
  },
  {
   "cell_type": "code",
   "execution_count": 7,
   "id": "bfb649c3",
   "metadata": {
    "execution": {
     "iopub.execute_input": "2024-03-27T22:27:17.776352Z",
     "iopub.status.busy": "2024-03-27T22:27:17.776167Z",
     "iopub.status.idle": "2024-03-27T22:27:17.779591Z",
     "shell.execute_reply": "2024-03-27T22:27:17.779252Z"
    },
    "papermill": {
     "duration": 0.006941,
     "end_time": "2024-03-27T22:27:17.780482",
     "exception": false,
     "start_time": "2024-03-27T22:27:17.773541",
     "status": "completed"
    },
    "tags": []
   },
   "outputs": [],
   "source": [
    "def apply_thresh(y_proba, thresholds: dict):\n",
    "    y_proba = y_proba.copy()\n",
    "    for dim, thresh in thresholds.items():\n",
    "        y_proba[:, dim] = np.where(y_proba[:, dim] > thresh, 1, 0)\n",
    "    return y_proba"
   ]
  },
  {
   "cell_type": "code",
   "execution_count": 8,
   "id": "f7abe271",
   "metadata": {
    "execution": {
     "iopub.execute_input": "2024-03-27T22:27:17.784717Z",
     "iopub.status.busy": "2024-03-27T22:27:17.784396Z",
     "iopub.status.idle": "2024-03-27T22:27:24.223483Z",
     "shell.execute_reply": "2024-03-27T22:27:24.223090Z"
    },
    "papermill": {
     "duration": 6.442551,
     "end_time": "2024-03-27T22:27:24.224797",
     "exception": false,
     "start_time": "2024-03-27T22:27:17.782246",
     "status": "completed"
    },
    "tags": []
   },
   "outputs": [],
   "source": [
    "with torch.inference_mode():\n",
    "    y_true = []\n",
    "    y_pred = []\n",
    "    for batch in test_loader:\n",
    "        encodings = batch[\"encodings\"]\n",
    "        encodings = encodings.to(DEVICE)\n",
    "        labels = batch[\"labels\"].to(DEVICE)\n",
    "        out = model(**encodings)\n",
    "        preds = torch.nn.functional.sigmoid(out.logits)\n",
    "        y_true.extend(batch[\"labels\"].numpy())\n",
    "        y_pred.extend(preds.cpu().numpy())\n",
    "    y_pred_05 = np.where(np.array(y_pred) > 0.5, 1, 0)\n",
    "    y_pred_thresh = apply_thresh(np.array(y_pred), THRESHOLDS)\n",
    "    y_true = np.array(y_true)"
   ]
  },
  {
   "cell_type": "code",
   "execution_count": 9,
   "id": "d70900c0",
   "metadata": {
    "execution": {
     "iopub.execute_input": "2024-03-27T22:27:24.232318Z",
     "iopub.status.busy": "2024-03-27T22:27:24.232178Z",
     "iopub.status.idle": "2024-03-27T22:27:24.242813Z",
     "shell.execute_reply": "2024-03-27T22:27:24.242482Z"
    },
    "papermill": {
     "duration": 0.013886,
     "end_time": "2024-03-27T22:27:24.243709",
     "exception": false,
     "start_time": "2024-03-27T22:27:24.229823",
     "status": "completed"
    },
    "tags": []
   },
   "outputs": [
    {
     "name": "stdout",
     "output_type": "stream",
     "text": [
      "              precision    recall  f1-score   support\n",
      "\n",
      "       elite       0.85      0.84      0.85       648\n",
      "    pplcentr       0.71      0.62      0.66       322\n",
      "        left       0.71      0.71      0.71       279\n",
      "       right       0.82      0.48      0.61       155\n",
      "\n",
      "   micro avg       0.79      0.73      0.76      1404\n",
      "   macro avg       0.77      0.66      0.71      1404\n",
      "weighted avg       0.79      0.73      0.75      1404\n",
      " samples avg       0.38      0.37      0.36      1404\n",
      "\n"
     ]
    }
   ],
   "source": [
    "print(\n",
    "    classification_report(\n",
    "        y_true,\n",
    "        y_pred_05,\n",
    "        target_names=[\"elite\", \"pplcentr\", \"left\", \"right\"],\n",
    "        zero_division=0,\n",
    "    )\n",
    ")"
   ]
  },
  {
   "cell_type": "code",
   "execution_count": 10,
   "id": "f8fe7777",
   "metadata": {
    "execution": {
     "iopub.execute_input": "2024-03-27T22:27:24.248309Z",
     "iopub.status.busy": "2024-03-27T22:27:24.247829Z",
     "iopub.status.idle": "2024-03-27T22:27:24.258318Z",
     "shell.execute_reply": "2024-03-27T22:27:24.257983Z"
    },
    "papermill": {
     "duration": 0.013612,
     "end_time": "2024-03-27T22:27:24.259216",
     "exception": false,
     "start_time": "2024-03-27T22:27:24.245604",
     "status": "completed"
    },
    "tags": []
   },
   "outputs": [
    {
     "name": "stdout",
     "output_type": "stream",
     "text": [
      "              precision    recall  f1-score   support\n",
      "\n",
      "       elite       0.85      0.86      0.85       648\n",
      "    pplcentr       0.65      0.71      0.68       322\n",
      "        left       0.70      0.73      0.71       279\n",
      "       right       0.76      0.58      0.66       155\n",
      "\n",
      "   micro avg       0.76      0.77      0.76      1404\n",
      "   macro avg       0.74      0.72      0.73      1404\n",
      "weighted avg       0.76      0.77      0.76      1404\n",
      " samples avg       0.39      0.39      0.38      1404\n",
      "\n"
     ]
    }
   ],
   "source": [
    "print(\n",
    "    classification_report(\n",
    "        y_true,\n",
    "        y_pred_thresh,\n",
    "        target_names=[\"elite\", \"pplcentr\", \"left\", \"right\"],\n",
    "        zero_division=0,\n",
    "    )\n",
    ")"
   ]
  },
  {
   "cell_type": "code",
   "execution_count": 11,
   "id": "ba7eab9e",
   "metadata": {
    "execution": {
     "iopub.execute_input": "2024-03-27T22:27:24.263813Z",
     "iopub.status.busy": "2024-03-27T22:27:24.263439Z",
     "iopub.status.idle": "2024-03-27T22:27:28.496155Z",
     "shell.execute_reply": "2024-03-27T22:27:28.495655Z"
    },
    "papermill": {
     "duration": 4.236533,
     "end_time": "2024-03-27T22:27:28.497682",
     "exception": false,
     "start_time": "2024-03-27T22:27:24.261149",
     "status": "completed"
    },
    "tags": []
   },
   "outputs": [],
   "source": [
    "model.save_pretrained(src.PATH / \"results/popbert_model\")"
   ]
  }
 ],
 "metadata": {
  "kernelspec": {
   "display_name": "bert_populism",
   "language": "python",
   "name": "bert_populism"
  },
  "language_info": {
   "codemirror_mode": {
    "name": "ipython",
    "version": 3
   },
   "file_extension": ".py",
   "mimetype": "text/x-python",
   "name": "python",
   "nbconvert_exporter": "python",
   "pygments_lexer": "ipython3",
   "version": "3.9.12"
  },
  "papermill": {
   "default_parameters": {},
   "duration": 394.017843,
   "end_time": "2024-03-27T22:27:31.019178",
   "environment_variables": {},
   "exception": null,
   "input_path": "code/02-create_gbert_model.ipynb",
   "output_path": "code/02-create_gbert_model.ipynb",
   "parameters": {},
   "start_time": "2024-03-27T22:20:57.001335",
   "version": "2.5.0"
  }
 },
 "nbformat": 4,
 "nbformat_minor": 5
}