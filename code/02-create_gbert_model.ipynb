{
 "cells": [
  {
   "cell_type": "code",
   "execution_count": null,
   "id": "e0db552f",
   "metadata": {
    "papermill": {
     "duration": 24.108178,
     "end_time": "2023-12-06T13:15:28.399000",
     "exception": false,
     "start_time": "2023-12-06T13:15:04.290822",
     "status": "completed"
    },
    "tags": []
   },
   "outputs": [],
   "source": [
    "import numpy as np\n",
    "import torch\n",
    "from sklearn.metrics import classification_report\n",
    "from torch.utils.data import DataLoader\n",
    "from transformers import AutoModelForSequenceClassification\n",
    "from transformers import AutoTokenizer\n",
    "\n",
    "import src\n",
    "from src.bert import training\n",
    "from src.bert.dataset import PBertDataset\n",
    "from src.bert.dataset.strategies import MLMin1PopIdeol"
   ]
  },
  {
   "cell_type": "code",
   "execution_count": null,
   "id": "4a3b191f",
   "metadata": {
    "papermill": {
     "duration": 0.008319,
     "end_time": "2023-12-06T13:15:28.419541",
     "exception": false,
     "start_time": "2023-12-06T13:15:28.411222",
     "status": "completed"
    },
    "tags": []
   },
   "outputs": [],
   "source": [
    "EXCLUDE_CODERS: list[str] = []\n",
    "DEVICE = \"cuda\" if torch.cuda.is_available() else \"cpu\"\n",
    "\n",
    "MODEL = \"deepset/gbert-large\"\n",
    "BATCH_SIZE = 8\n",
    "N_EPOCHS = 3\n",
    "LR = 0.000009\n",
    "WEIGHT_DECAY = 0.010\n",
    "\n",
    "THRESHOLDS = {0: 0.415961, 1: 0.295400, 2: 0.429109, 3: 0.302714}"
   ]
  },
  {
   "cell_type": "code",
   "execution_count": null,
   "id": "37ed884b",
   "metadata": {
    "papermill": {
     "duration": 0.853725,
     "end_time": "2023-12-06T13:15:29.276999",
     "exception": false,
     "start_time": "2023-12-06T13:15:28.423274",
     "status": "completed"
    },
    "tags": []
   },
   "outputs": [],
   "source": [
    "train = PBertDataset.from_disk(\n",
    "    path=src.PATH / \"data/bert/train.csv.zip\",\n",
    "    label_strategy=MLMin1PopIdeol(),\n",
    "    exclude_coders=EXCLUDE_CODERS,\n",
    ")\n",
    "\n",
    "test = PBertDataset.from_disk(\n",
    "    path=src.PATH / \"data/bert/test.csv.zip\",\n",
    "    label_strategy=MLMin1PopIdeol(),\n",
    "    exclude_coders=EXCLUDE_CODERS,\n",
    ")"
   ]
  },
  {
   "cell_type": "code",
   "execution_count": null,
   "id": "ece9d3fd",
   "metadata": {
    "papermill": {
     "duration": 0.461568,
     "end_time": "2023-12-06T13:15:29.743094",
     "exception": false,
     "start_time": "2023-12-06T13:15:29.281526",
     "status": "completed"
    },
    "tags": []
   },
   "outputs": [],
   "source": [
    "tokenizer = AutoTokenizer.from_pretrained(MODEL)\n",
    "collate_fn = train.create_collate_fn(tokenizer)\n",
    "\n",
    "train_loader = DataLoader(train, collate_fn=collate_fn, batch_size=BATCH_SIZE, shuffle=True)\n",
    "test_loader = DataLoader(test, collate_fn=collate_fn, batch_size=64, shuffle=False)"
   ]
  },
  {
   "cell_type": "code",
   "execution_count": null,
   "id": "47c1d390",
   "metadata": {
    "papermill": {
     "duration": 7.578978,
     "end_time": "2023-12-06T13:15:37.326428",
     "exception": false,
     "start_time": "2023-12-06T13:15:29.747450",
     "status": "completed"
    },
    "tags": []
   },
   "outputs": [
    {
     "name": "stderr",
     "output_type": "stream",
     "text": [
      "Some weights of BertForSequenceClassification were not initialized from the model checkpoint at deepset/gbert-large and are newly initialized: ['classifier.weight', 'classifier.bias']\n",
      "You should probably TRAIN this model on a down-stream task to be able to use it for predictions and inference.\n"
     ]
    }
   ],
   "source": [
    "model = AutoModelForSequenceClassification.from_pretrained(MODEL, num_labels=train.num_labels).to(\n",
    "    DEVICE\n",
    ")"
   ]
  },
  {
   "cell_type": "code",
   "execution_count": null,
   "id": "d113b0c6",
   "metadata": {
    "papermill": {
     "duration": 286.495001,
     "end_time": "2023-12-06T13:20:23.827226",
     "exception": false,
     "start_time": "2023-12-06T13:15:37.332225",
     "status": "completed"
    },
    "tags": []
   },
   "outputs": [
    {
     "name": "stdout",
     "output_type": "stream",
     "text": [
      "epoch=1 train_loss=279.9786 eval_loss=6.9528 score=0.7034\n"
     ]
    },
    {
     "name": "stdout",
     "output_type": "stream",
     "text": [
      "epoch=2 train_loss=184.1181 eval_loss=6.4352 score=0.6846\n"
     ]
    },
    {
     "name": "stdout",
     "output_type": "stream",
     "text": [
      "epoch=3 train_loss=128.1885 eval_loss=6.8163 score=0.7235\n"
     ]
    }
   ],
   "source": [
    "optimizer = torch.optim.AdamW(\n",
    "    model.parameters(),\n",
    "    lr=LR,\n",
    "    amsgrad=False,\n",
    "    weight_decay=WEIGHT_DECAY,\n",
    ")\n",
    "\n",
    "lr_scheduler = torch.optim.lr_scheduler.CosineAnnealingLR(\n",
    "    optimizer,\n",
    "    T_max=20,\n",
    "    eta_min=LR / 10,\n",
    ")\n",
    "\n",
    "for epoch in range(1, N_EPOCHS + 1):\n",
    "    train_loss = training.train_epoch(model, train_loader, optimizer, lr_scheduler, clip=5)\n",
    "    eval_loss, score, _ = training.eval_epoch(model, test_loader)\n",
    "    print(f\"{epoch=} {train_loss=:.4f} {eval_loss=:.4f} {score=:.4f}\")"
   ]
  },
  {
   "cell_type": "code",
   "execution_count": null,
   "id": "bfb649c3",
   "metadata": {
    "papermill": {
     "duration": 0.008314,
     "end_time": "2023-12-06T13:20:23.839510",
     "exception": false,
     "start_time": "2023-12-06T13:20:23.831196",
     "status": "completed"
    },
    "tags": []
   },
   "outputs": [],
   "source": [
    "def apply_thresh(y_proba, thresholds: dict):\n",
    "    y_proba = y_proba.copy()\n",
    "    for dim, thresh in thresholds.items():\n",
    "        y_proba[:, dim] = np.where(y_proba[:, dim] > thresh, 1, 0)\n",
    "    return y_proba"
   ]
  },
  {
   "cell_type": "code",
   "execution_count": null,
   "id": "f7abe271",
   "metadata": {
    "papermill": {
     "duration": 6.061055,
     "end_time": "2023-12-06T13:20:29.903662",
     "exception": false,
     "start_time": "2023-12-06T13:20:23.842607",
     "status": "completed"
    },
    "tags": []
   },
   "outputs": [],
   "source": [
    "with torch.inference_mode():\n",
    "    y_true = []\n",
    "    y_pred = []\n",
    "    for batch in test_loader:\n",
    "        encodings = batch[\"encodings\"]\n",
    "        encodings = encodings.to(DEVICE)\n",
    "        labels = batch[\"labels\"].to(DEVICE)\n",
    "        out = model(**encodings)\n",
    "        preds = torch.nn.functional.sigmoid(out.logits)\n",
    "        y_true.extend(batch[\"labels\"].numpy())\n",
    "        y_pred.extend(preds.cpu().numpy())\n",
    "    y_pred_05 = np.where(np.array(y_pred) > 0.5, 1, 0)\n",
    "    y_pred_thresh = apply_thresh(np.array(y_pred), THRESHOLDS)\n",
    "    y_true = np.array(y_true)"
   ]
  },
  {
   "cell_type": "code",
   "execution_count": null,
   "id": "d70900c0",
   "metadata": {
    "papermill": {
     "duration": 0.018142,
     "end_time": "2023-12-06T13:20:29.927379",
     "exception": false,
     "start_time": "2023-12-06T13:20:29.909237",
     "status": "completed"
    },
    "tags": []
   },
   "outputs": [
    {
     "name": "stdout",
     "output_type": "stream",
     "text": [
      "              precision    recall  f1-score   support\n",
      "\n",
      "       elite       0.82      0.86      0.84       648\n",
      "    pplcentr       0.77      0.60      0.67       322\n",
      "        left       0.71      0.75      0.73       279\n",
      "       right       0.77      0.57      0.65       155\n",
      "\n",
      "   micro avg       0.78      0.75      0.76      1404\n",
      "   macro avg       0.77      0.69      0.72      1404\n",
      "weighted avg       0.78      0.75      0.76      1404\n",
      " samples avg       0.39      0.38      0.38      1404\n",
      "\n"
     ]
    },
    {
     "name": "stderr",
     "output_type": "stream",
     "text": [
      "/gpfs/bwfor/home/st/st_st/st_ac138201/bert_populism/.venv/lib/python3.9/site-packages/sklearn/metrics/_classification.py:1471: UndefinedMetricWarning: Precision and F-score are ill-defined and being set to 0.0 in samples with no predicted labels. Use `zero_division` parameter to control this behavior.\n",
      "  _warn_prf(average, modifier, msg_start, len(result))\n",
      "/gpfs/bwfor/home/st/st_st/st_ac138201/bert_populism/.venv/lib/python3.9/site-packages/sklearn/metrics/_classification.py:1471: UndefinedMetricWarning: Recall and F-score are ill-defined and being set to 0.0 in samples with no true labels. Use `zero_division` parameter to control this behavior.\n",
      "  _warn_prf(average, modifier, msg_start, len(result))\n"
     ]
    }
   ],
   "source": [
    "print(classification_report(y_true, y_pred_05, target_names=[\"elite\", \"pplcentr\", \"left\", \"right\"]))"
   ]
  },
  {
   "cell_type": "code",
   "execution_count": null,
   "id": "f8fe7777",
   "metadata": {
    "papermill": {
     "duration": 0.014829,
     "end_time": "2023-12-06T13:20:29.946149",
     "exception": false,
     "start_time": "2023-12-06T13:20:29.931320",
     "status": "completed"
    },
    "tags": []
   },
   "outputs": [
    {
     "name": "stdout",
     "output_type": "stream",
     "text": [
      "              precision    recall  f1-score   support\n",
      "\n",
      "       elite       0.84      0.81      0.83       648\n",
      "    pplcentr       0.90      0.39      0.54       322\n",
      "        left       0.75      0.68      0.71       279\n",
      "       right       0.82      0.49      0.61       155\n",
      "\n",
      "   micro avg       0.83      0.65      0.73      1404\n",
      "   macro avg       0.83      0.59      0.67      1404\n",
      "weighted avg       0.83      0.65      0.71      1404\n",
      " samples avg       0.36      0.33      0.33      1404\n",
      "\n"
     ]
    },
    {
     "name": "stderr",
     "output_type": "stream",
     "text": [
      "/gpfs/bwfor/home/st/st_st/st_ac138201/bert_populism/.venv/lib/python3.9/site-packages/sklearn/metrics/_classification.py:1471: UndefinedMetricWarning: Precision and F-score are ill-defined and being set to 0.0 in samples with no predicted labels. Use `zero_division` parameter to control this behavior.\n",
      "  _warn_prf(average, modifier, msg_start, len(result))\n",
      "/gpfs/bwfor/home/st/st_st/st_ac138201/bert_populism/.venv/lib/python3.9/site-packages/sklearn/metrics/_classification.py:1471: UndefinedMetricWarning: Recall and F-score are ill-defined and being set to 0.0 in samples with no true labels. Use `zero_division` parameter to control this behavior.\n",
      "  _warn_prf(average, modifier, msg_start, len(result))\n"
     ]
    }
   ],
   "source": [
    "print(\n",
    "    classification_report(\n",
    "        y_true, y_pred_thresh, target_names=[\"elite\", \"pplcentr\", \"left\", \"right\"]\n",
    "    )\n",
    ")"
   ]
  },
  {
   "cell_type": "code",
   "execution_count": null,
   "id": "ba7eab9e",
   "metadata": {
    "papermill": {
     "duration": 1.073937,
     "end_time": "2023-12-06T13:20:31.023747",
     "exception": false,
     "start_time": "2023-12-06T13:20:29.949810",
     "status": "completed"
    },
    "tags": []
   },
   "outputs": [],
   "source": [
    "model.save_pretrained(src.PATH / \"results/popbert_model\")"
   ]
  }
 ],
 "metadata": {
  "kernelspec": {
   "display_name": "bert_populism",
   "language": "python",
   "name": "bert_populism"
  },
  "language_info": {
   "codemirror_mode": {
    "name": "ipython",
    "version": 3
   },
   "file_extension": ".py",
   "mimetype": "text/x-python",
   "name": "python",
   "nbconvert_exporter": "python",
   "pygments_lexer": "ipython3",
   "version": "3.9.12"
  },
  "papermill": {
   "default_parameters": {},
   "duration": 335.501979,
   "end_time": "2023-12-06T13:20:32.147701",
   "environment_variables": {},
   "exception": null,
   "input_path": "notebooks/03-model/03-create_gbert_model.ipynb",
   "output_path": "notebooks/03-model/03-create_gbert_model.ipynb",
   "parameters": {},
   "start_time": "2023-12-06T13:14:56.645722",
   "version": "2.5.0"
  }
 },
 "nbformat": 4,
 "nbformat_minor": 5
}
