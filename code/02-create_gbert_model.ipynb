{
 "cells": [
  {
   "cell_type": "code",
   "execution_count": 1,
   "id": "e0db552f",
   "metadata": {
    "execution": {
     "iopub.execute_input": "2024-03-27T18:47:11.943877Z",
     "iopub.status.busy": "2024-03-27T18:47:11.943685Z",
     "iopub.status.idle": "2024-03-27T18:47:17.819869Z",
     "shell.execute_reply": "2024-03-27T18:47:17.819366Z"
    },
    "papermill": {
     "duration": 5.880721,
     "end_time": "2024-03-27T18:47:17.821437",
     "exception": false,
     "start_time": "2024-03-27T18:47:11.940716",
     "status": "completed"
    },
    "tags": []
   },
   "outputs": [],
   "source": [
    "import numpy as np\n",
    "import torch\n",
    "from sklearn.metrics import classification_report\n",
    "from torch.utils.data import DataLoader\n",
    "from transformers import AutoModelForSequenceClassification\n",
    "from transformers import AutoTokenizer\n",
    "\n",
    "import src\n",
    "from src.bert import training\n",
    "from src.bert.dataset import PBertDataset\n",
    "from src.bert.dataset.strategies import MLMin1PopIdeol"
   ]
  },
  {
   "cell_type": "code",
   "execution_count": 2,
   "id": "4a3b191f",
   "metadata": {
    "execution": {
     "iopub.execute_input": "2024-03-27T18:47:17.827866Z",
     "iopub.status.busy": "2024-03-27T18:47:17.827613Z",
     "iopub.status.idle": "2024-03-27T18:47:17.831156Z",
     "shell.execute_reply": "2024-03-27T18:47:17.830799Z"
    },
    "papermill": {
     "duration": 0.006741,
     "end_time": "2024-03-27T18:47:17.832001",
     "exception": false,
     "start_time": "2024-03-27T18:47:17.825260",
     "status": "completed"
    },
    "tags": []
   },
   "outputs": [],
   "source": [
    "EXCLUDE_CODERS: list[str] = []\n",
    "DEVICE = \"cuda\" if torch.cuda.is_available() else \"cpu\"\n",
    "\n",
    "MODEL = \"deepset/gbert-large\"\n",
    "BATCH_SIZE = 8\n",
    "N_EPOCHS = 3\n",
    "LR = 0.000009\n",
    "WEIGHT_DECAY = 0.01\n",
    "\n",
    "THRESHOLDS = {0: 0.415961, 1: 0.295400, 2: 0.429109, 3: 0.302714}"
   ]
  },
  {
   "cell_type": "code",
   "execution_count": 3,
   "id": "37ed884b",
   "metadata": {
    "execution": {
     "iopub.execute_input": "2024-03-27T18:47:17.835765Z",
     "iopub.status.busy": "2024-03-27T18:47:17.835499Z",
     "iopub.status.idle": "2024-03-27T18:47:18.694718Z",
     "shell.execute_reply": "2024-03-27T18:47:18.694249Z"
    },
    "papermill": {
     "duration": 0.862696,
     "end_time": "2024-03-27T18:47:18.696213",
     "exception": false,
     "start_time": "2024-03-27T18:47:17.833517",
     "status": "completed"
    },
    "tags": []
   },
   "outputs": [],
   "source": [
    "train = PBertDataset.from_disk(\n",
    "    path=src.PATH / \"data/labeled_data/train.csv.zip\",\n",
    "    label_strategy=MLMin1PopIdeol(),\n",
    "    exclude_coders=EXCLUDE_CODERS,\n",
    ")\n",
    "\n",
    "test = PBertDataset.from_disk(\n",
    "    path=src.PATH / \"data/labeled_data/test.csv.zip\",\n",
    "    label_strategy=MLMin1PopIdeol(),\n",
    "    exclude_coders=EXCLUDE_CODERS,\n",
    ")"
   ]
  },
  {
   "cell_type": "code",
   "execution_count": 4,
   "id": "ece9d3fd",
   "metadata": {
    "execution": {
     "iopub.execute_input": "2024-03-27T18:47:18.700716Z",
     "iopub.status.busy": "2024-03-27T18:47:18.700551Z",
     "iopub.status.idle": "2024-03-27T18:47:18.962695Z",
     "shell.execute_reply": "2024-03-27T18:47:18.962221Z"
    },
    "papermill": {
     "duration": 0.265972,
     "end_time": "2024-03-27T18:47:18.964286",
     "exception": false,
     "start_time": "2024-03-27T18:47:18.698314",
     "status": "completed"
    },
    "tags": []
   },
   "outputs": [],
   "source": [
    "tokenizer = AutoTokenizer.from_pretrained(MODEL)\n",
    "collate_fn = train.create_collate_fn(tokenizer)\n",
    "\n",
    "train_loader = DataLoader(train, collate_fn=collate_fn, batch_size=BATCH_SIZE, shuffle=True)\n",
    "test_loader = DataLoader(test, collate_fn=collate_fn, batch_size=64, shuffle=False)"
   ]
  },
  {
   "cell_type": "code",
   "execution_count": 5,
   "id": "47c1d390",
   "metadata": {
    "execution": {
     "iopub.execute_input": "2024-03-27T18:47:18.969181Z",
     "iopub.status.busy": "2024-03-27T18:47:18.969021Z",
     "iopub.status.idle": "2024-03-27T18:47:28.805788Z",
     "shell.execute_reply": "2024-03-27T18:47:28.805249Z"
    },
    "papermill": {
     "duration": 9.840487,
     "end_time": "2024-03-27T18:47:28.807199",
     "exception": false,
     "start_time": "2024-03-27T18:47:18.966712",
     "status": "completed"
    },
    "tags": []
   },
   "outputs": [
    {
     "name": "stderr",
     "output_type": "stream",
     "text": [
      "Some weights of BertForSequenceClassification were not initialized from the model checkpoint at deepset/gbert-large and are newly initialized: ['classifier.weight', 'classifier.bias']\n",
      "You should probably TRAIN this model on a down-stream task to be able to use it for predictions and inference.\n"
     ]
    }
   ],
   "source": [
    "model = AutoModelForSequenceClassification.from_pretrained(MODEL, num_labels=train.num_labels).to(\n",
    "    DEVICE\n",
    ")"
   ]
  },
  {
   "cell_type": "code",
   "execution_count": 6,
   "id": "d113b0c6",
   "metadata": {
    "execution": {
     "iopub.execute_input": "2024-03-27T18:47:28.813739Z",
     "iopub.status.busy": "2024-03-27T18:47:28.813525Z",
     "iopub.status.idle": "2024-03-27T18:53:31.954766Z",
     "shell.execute_reply": "2024-03-27T18:53:31.954225Z"
    },
    "papermill": {
     "duration": 363.148251,
     "end_time": "2024-03-27T18:53:31.959092",
     "exception": false,
     "start_time": "2024-03-27T18:47:28.810841",
     "status": "completed"
    },
    "tags": []
   },
   "outputs": [
    {
     "name": "stdout",
     "output_type": "stream",
     "text": [
      "epoch=1 train_loss=284.3637 eval_loss=7.3026 score=0.5842\n"
     ]
    },
    {
     "name": "stdout",
     "output_type": "stream",
     "text": [
      "epoch=2 train_loss=188.7223 eval_loss=6.9862 score=0.7222\n"
     ]
    },
    {
     "name": "stdout",
     "output_type": "stream",
     "text": [
      "epoch=3 train_loss=133.5404 eval_loss=6.7450 score=0.7381\n"
     ]
    }
   ],
   "source": [
    "optimizer = torch.optim.AdamW(\n",
    "    model.parameters(),\n",
    "    lr=LR,\n",
    "    amsgrad=False,\n",
    "    weight_decay=WEIGHT_DECAY,\n",
    ")\n",
    "\n",
    "lr_scheduler = torch.optim.lr_scheduler.CosineAnnealingLR(\n",
    "    optimizer,\n",
    "    T_max=20,\n",
    "    eta_min=LR / 10,\n",
    ")\n",
    "\n",
    "for epoch in range(1, N_EPOCHS + 1):\n",
    "    train_loss = training.train_epoch(model, train_loader, optimizer, lr_scheduler, clip=5)\n",
    "    eval_loss, score, _ = training.eval_epoch(model, test_loader)\n",
    "    print(f\"{epoch=} {train_loss=:.4f} {eval_loss=:.4f} {score=:.4f}\")"
   ]
  },
  {
   "cell_type": "code",
   "execution_count": 7,
   "id": "bfb649c3",
   "metadata": {
    "execution": {
     "iopub.execute_input": "2024-03-27T18:53:31.963852Z",
     "iopub.status.busy": "2024-03-27T18:53:31.963659Z",
     "iopub.status.idle": "2024-03-27T18:53:31.966803Z",
     "shell.execute_reply": "2024-03-27T18:53:31.966471Z"
    },
    "papermill": {
     "duration": 0.006693,
     "end_time": "2024-03-27T18:53:31.967695",
     "exception": false,
     "start_time": "2024-03-27T18:53:31.961002",
     "status": "completed"
    },
    "tags": []
   },
   "outputs": [],
   "source": [
    "def apply_thresh(y_proba, thresholds: dict):\n",
    "    y_proba = y_proba.copy()\n",
    "    for dim, thresh in thresholds.items():\n",
    "        y_proba[:, dim] = np.where(y_proba[:, dim] > thresh, 1, 0)\n",
    "    return y_proba"
   ]
  },
  {
   "cell_type": "code",
   "execution_count": 8,
   "id": "f7abe271",
   "metadata": {
    "execution": {
     "iopub.execute_input": "2024-03-27T18:53:31.971646Z",
     "iopub.status.busy": "2024-03-27T18:53:31.971391Z",
     "iopub.status.idle": "2024-03-27T18:53:38.386131Z",
     "shell.execute_reply": "2024-03-27T18:53:38.385669Z"
    },
    "papermill": {
     "duration": 6.418039,
     "end_time": "2024-03-27T18:53:38.387405",
     "exception": false,
     "start_time": "2024-03-27T18:53:31.969366",
     "status": "completed"
    },
    "tags": []
   },
   "outputs": [],
   "source": [
    "with torch.inference_mode():\n",
    "    y_true = []\n",
    "    y_pred = []\n",
    "    for batch in test_loader:\n",
    "        encodings = batch[\"encodings\"]\n",
    "        encodings = encodings.to(DEVICE)\n",
    "        labels = batch[\"labels\"].to(DEVICE)\n",
    "        out = model(**encodings)\n",
    "        preds = torch.nn.functional.sigmoid(out.logits)\n",
    "        y_true.extend(batch[\"labels\"].numpy())\n",
    "        y_pred.extend(preds.cpu().numpy())\n",
    "    y_pred_05 = np.where(np.array(y_pred) > 0.5, 1, 0)\n",
    "    y_pred_thresh = apply_thresh(np.array(y_pred), THRESHOLDS)\n",
    "    y_true = np.array(y_true)"
   ]
  },
  {
   "cell_type": "code",
   "execution_count": 9,
   "id": "d70900c0",
   "metadata": {
    "execution": {
     "iopub.execute_input": "2024-03-27T18:53:38.393368Z",
     "iopub.status.busy": "2024-03-27T18:53:38.393191Z",
     "iopub.status.idle": "2024-03-27T18:53:38.414459Z",
     "shell.execute_reply": "2024-03-27T18:53:38.414083Z"
    },
    "papermill": {
     "duration": 0.024451,
     "end_time": "2024-03-27T18:53:38.415323",
     "exception": false,
     "start_time": "2024-03-27T18:53:38.390872",
     "status": "completed"
    },
    "tags": []
   },
   "outputs": [
    {
     "name": "stdout",
     "output_type": "stream",
     "text": [
      "              precision    recall  f1-score   support\n",
      "\n",
      "       elite       0.82      0.87      0.85       648\n",
      "    pplcentr       0.68      0.74      0.71       322\n",
      "        left       0.73      0.81      0.77       279\n",
      "       right       0.71      0.57      0.63       155\n",
      "\n",
      "   micro avg       0.76      0.80      0.78      1404\n",
      "   macro avg       0.73      0.75      0.74      1404\n",
      "weighted avg       0.76      0.80      0.77      1404\n",
      " samples avg       0.41      0.40      0.40      1404\n",
      "\n"
     ]
    },
    {
     "name": "stderr",
     "output_type": "stream",
     "text": [
      "/gpfs/bwfor/home/st/st_st/st_ac138201/bert_populism/.venv/lib/python3.9/site-packages/sklearn/metrics/_classification.py:1471: UndefinedMetricWarning: Precision and F-score are ill-defined and being set to 0.0 in samples with no predicted labels. Use `zero_division` parameter to control this behavior.\n",
      "  _warn_prf(average, modifier, msg_start, len(result))\n",
      "/gpfs/bwfor/home/st/st_st/st_ac138201/bert_populism/.venv/lib/python3.9/site-packages/sklearn/metrics/_classification.py:1471: UndefinedMetricWarning: Recall and F-score are ill-defined and being set to 0.0 in samples with no true labels. Use `zero_division` parameter to control this behavior.\n",
      "  _warn_prf(average, modifier, msg_start, len(result))\n"
     ]
    }
   ],
   "source": [
    "print(classification_report(y_true, y_pred_05, target_names=[\"elite\", \"pplcentr\", \"left\", \"right\"]))"
   ]
  },
  {
   "cell_type": "code",
   "execution_count": 10,
   "id": "f8fe7777",
   "metadata": {
    "execution": {
     "iopub.execute_input": "2024-03-27T18:53:38.419799Z",
     "iopub.status.busy": "2024-03-27T18:53:38.419517Z",
     "iopub.status.idle": "2024-03-27T18:53:38.429854Z",
     "shell.execute_reply": "2024-03-27T18:53:38.429519Z"
    },
    "papermill": {
     "duration": 0.01345,
     "end_time": "2024-03-27T18:53:38.430674",
     "exception": false,
     "start_time": "2024-03-27T18:53:38.417224",
     "status": "completed"
    },
    "tags": []
   },
   "outputs": [
    {
     "name": "stdout",
     "output_type": "stream",
     "text": [
      "              precision    recall  f1-score   support\n",
      "\n",
      "       elite       0.81      0.89      0.85       648\n",
      "    pplcentr       0.64      0.82      0.72       322\n",
      "        left       0.71      0.81      0.76       279\n",
      "       right       0.61      0.68      0.64       155\n",
      "\n",
      "   micro avg       0.72      0.84      0.78      1404\n",
      "   macro avg       0.69      0.80      0.74      1404\n",
      "weighted avg       0.73      0.84      0.78      1404\n",
      " samples avg       0.42      0.42      0.41      1404\n",
      "\n"
     ]
    },
    {
     "name": "stderr",
     "output_type": "stream",
     "text": [
      "/gpfs/bwfor/home/st/st_st/st_ac138201/bert_populism/.venv/lib/python3.9/site-packages/sklearn/metrics/_classification.py:1471: UndefinedMetricWarning: Precision and F-score are ill-defined and being set to 0.0 in samples with no predicted labels. Use `zero_division` parameter to control this behavior.\n",
      "  _warn_prf(average, modifier, msg_start, len(result))\n",
      "/gpfs/bwfor/home/st/st_st/st_ac138201/bert_populism/.venv/lib/python3.9/site-packages/sklearn/metrics/_classification.py:1471: UndefinedMetricWarning: Recall and F-score are ill-defined and being set to 0.0 in samples with no true labels. Use `zero_division` parameter to control this behavior.\n",
      "  _warn_prf(average, modifier, msg_start, len(result))\n"
     ]
    }
   ],
   "source": [
    "print(\n",
    "    classification_report(\n",
    "        y_true, y_pred_thresh, target_names=[\"elite\", \"pplcentr\", \"left\", \"right\"]\n",
    "    )\n",
    ")"
   ]
  },
  {
   "cell_type": "code",
   "execution_count": 11,
   "id": "ba7eab9e",
   "metadata": {
    "execution": {
     "iopub.execute_input": "2024-03-27T18:53:38.435181Z",
     "iopub.status.busy": "2024-03-27T18:53:38.434908Z",
     "iopub.status.idle": "2024-03-27T18:53:41.297893Z",
     "shell.execute_reply": "2024-03-27T18:53:41.297401Z"
    },
    "papermill": {
     "duration": 2.866763,
     "end_time": "2024-03-27T18:53:41.299381",
     "exception": false,
     "start_time": "2024-03-27T18:53:38.432618",
     "status": "completed"
    },
    "tags": []
   },
   "outputs": [],
   "source": [
    "model.save_pretrained(src.PATH / \"results/popbert_model\")"
   ]
  }
 ],
 "metadata": {
  "kernelspec": {
   "display_name": "bert_populism",
   "language": "python",
   "name": "bert_populism"
  },
  "language_info": {
   "codemirror_mode": {
    "name": "ipython",
    "version": 3
   },
   "file_extension": ".py",
   "mimetype": "text/x-python",
   "name": "python",
   "nbconvert_exporter": "python",
   "pygments_lexer": "ipython3",
   "version": "3.9.12"
  },
  "papermill": {
   "default_parameters": {},
   "duration": 393.374614,
   "end_time": "2024-03-27T18:53:42.621669",
   "environment_variables": {},
   "exception": null,
   "input_path": "code/02-create_gbert_model.ipynb",
   "output_path": "code/02-create_gbert_model.ipynb",
   "parameters": {},
   "start_time": "2024-03-27T18:47:09.247055",
   "version": "2.5.0"
  }
 },
 "nbformat": 4,
 "nbformat_minor": 5
}
