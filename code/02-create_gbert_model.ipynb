{
 "cells": [
  {
   "cell_type": "code",
   "execution_count": 1,
   "id": "e0db552f",
   "metadata": {
    "execution": {
     "iopub.execute_input": "2024-03-27T19:55:00.394913Z",
     "iopub.status.busy": "2024-03-27T19:55:00.394733Z",
     "iopub.status.idle": "2024-03-27T19:55:05.972941Z",
     "shell.execute_reply": "2024-03-27T19:55:05.972382Z"
    },
    "papermill": {
     "duration": 5.582624,
     "end_time": "2024-03-27T19:55:05.974413",
     "exception": false,
     "start_time": "2024-03-27T19:55:00.391789",
     "status": "completed"
    },
    "tags": []
   },
   "outputs": [],
   "source": [
    "import numpy as np\n",
    "import torch\n",
    "from sklearn.metrics import classification_report\n",
    "from torch.utils.data import DataLoader\n",
    "from transformers import AutoModelForSequenceClassification\n",
    "from transformers import AutoTokenizer\n",
    "\n",
    "import src\n",
    "from src.bert import training\n",
    "from src.bert.dataset import PBertDataset\n",
    "from src.bert.dataset.strategies import MLMin1PopIdeol"
   ]
  },
  {
   "cell_type": "code",
   "execution_count": 2,
   "id": "4a3b191f",
   "metadata": {
    "execution": {
     "iopub.execute_input": "2024-03-27T19:55:05.980468Z",
     "iopub.status.busy": "2024-03-27T19:55:05.980164Z",
     "iopub.status.idle": "2024-03-27T19:55:05.983540Z",
     "shell.execute_reply": "2024-03-27T19:55:05.983186Z"
    },
    "papermill": {
     "duration": 0.007808,
     "end_time": "2024-03-27T19:55:05.985528",
     "exception": false,
     "start_time": "2024-03-27T19:55:05.977720",
     "status": "completed"
    },
    "tags": []
   },
   "outputs": [],
   "source": [
    "EXCLUDE_CODERS: list[str] = []\n",
    "DEVICE = \"cuda\" if torch.cuda.is_available() else \"cpu\"\n",
    "\n",
    "MODEL = \"deepset/gbert-large\"\n",
    "BATCH_SIZE = 8\n",
    "N_EPOCHS = 3\n",
    "LR = 0.000009\n",
    "WEIGHT_DECAY = 0.01\n",
    "\n",
    "THRESHOLDS = {0: 0.415961, 1: 0.295400, 2: 0.429109, 3: 0.302714}"
   ]
  },
  {
   "cell_type": "code",
   "execution_count": 3,
   "id": "37ed884b",
   "metadata": {
    "execution": {
     "iopub.execute_input": "2024-03-27T19:55:05.989916Z",
     "iopub.status.busy": "2024-03-27T19:55:05.989619Z",
     "iopub.status.idle": "2024-03-27T19:55:06.803827Z",
     "shell.execute_reply": "2024-03-27T19:55:06.803203Z"
    },
    "papermill": {
     "duration": 0.817781,
     "end_time": "2024-03-27T19:55:06.805268",
     "exception": false,
     "start_time": "2024-03-27T19:55:05.987487",
     "status": "completed"
    },
    "tags": []
   },
   "outputs": [],
   "source": [
    "train = PBertDataset.from_disk(\n",
    "    path=src.PATH / \"data/labeled_data/train.csv.zip\",\n",
    "    label_strategy=MLMin1PopIdeol(),\n",
    "    exclude_coders=EXCLUDE_CODERS,\n",
    ")\n",
    "\n",
    "test = PBertDataset.from_disk(\n",
    "    path=src.PATH / \"data/labeled_data/test.csv.zip\",\n",
    "    label_strategy=MLMin1PopIdeol(),\n",
    "    exclude_coders=EXCLUDE_CODERS,\n",
    ")"
   ]
  },
  {
   "cell_type": "code",
   "execution_count": 4,
   "id": "ece9d3fd",
   "metadata": {
    "execution": {
     "iopub.execute_input": "2024-03-27T19:55:06.810074Z",
     "iopub.status.busy": "2024-03-27T19:55:06.809879Z",
     "iopub.status.idle": "2024-03-27T19:55:07.138017Z",
     "shell.execute_reply": "2024-03-27T19:55:07.137506Z"
    },
    "papermill": {
     "duration": 0.331698,
     "end_time": "2024-03-27T19:55:07.139344",
     "exception": false,
     "start_time": "2024-03-27T19:55:06.807646",
     "status": "completed"
    },
    "tags": []
   },
   "outputs": [],
   "source": [
    "tokenizer = AutoTokenizer.from_pretrained(MODEL)\n",
    "collate_fn = train.create_collate_fn(tokenizer)\n",
    "\n",
    "train_loader = DataLoader(train, collate_fn=collate_fn, batch_size=BATCH_SIZE, shuffle=True)\n",
    "test_loader = DataLoader(test, collate_fn=collate_fn, batch_size=64, shuffle=False)"
   ]
  },
  {
   "cell_type": "code",
   "execution_count": 5,
   "id": "47c1d390",
   "metadata": {
    "execution": {
     "iopub.execute_input": "2024-03-27T19:55:07.144053Z",
     "iopub.status.busy": "2024-03-27T19:55:07.143745Z",
     "iopub.status.idle": "2024-03-27T19:55:12.025628Z",
     "shell.execute_reply": "2024-03-27T19:55:12.025043Z"
    },
    "papermill": {
     "duration": 4.885603,
     "end_time": "2024-03-27T19:55:12.027133",
     "exception": false,
     "start_time": "2024-03-27T19:55:07.141530",
     "status": "completed"
    },
    "tags": []
   },
   "outputs": [
    {
     "name": "stderr",
     "output_type": "stream",
     "text": [
      "Some weights of BertForSequenceClassification were not initialized from the model checkpoint at deepset/gbert-large and are newly initialized: ['classifier.weight', 'classifier.bias']\n",
      "You should probably TRAIN this model on a down-stream task to be able to use it for predictions and inference.\n"
     ]
    }
   ],
   "source": [
    "model = AutoModelForSequenceClassification.from_pretrained(MODEL, num_labels=train.num_labels).to(\n",
    "    DEVICE\n",
    ")"
   ]
  },
  {
   "cell_type": "code",
   "execution_count": 6,
   "id": "d113b0c6",
   "metadata": {
    "execution": {
     "iopub.execute_input": "2024-03-27T19:55:12.032308Z",
     "iopub.status.busy": "2024-03-27T19:55:12.032038Z",
     "iopub.status.idle": "2024-03-27T20:01:17.840455Z",
     "shell.execute_reply": "2024-03-27T20:01:17.839924Z"
    },
    "papermill": {
     "duration": 365.814593,
     "end_time": "2024-03-27T20:01:17.844115",
     "exception": false,
     "start_time": "2024-03-27T19:55:12.029522",
     "status": "completed"
    },
    "tags": []
   },
   "outputs": [
    {
     "name": "stdout",
     "output_type": "stream",
     "text": [
      "epoch=1 train_loss=285.5956 eval_loss=7.3561 score=0.6503\n"
     ]
    },
    {
     "name": "stdout",
     "output_type": "stream",
     "text": [
      "epoch=2 train_loss=182.4207 eval_loss=6.3102 score=0.7268\n"
     ]
    },
    {
     "name": "stdout",
     "output_type": "stream",
     "text": [
      "epoch=3 train_loss=127.4507 eval_loss=6.9555 score=0.7470\n"
     ]
    }
   ],
   "source": [
    "optimizer = torch.optim.AdamW(\n",
    "    model.parameters(),\n",
    "    lr=LR,\n",
    "    amsgrad=False,\n",
    "    weight_decay=WEIGHT_DECAY,\n",
    ")\n",
    "\n",
    "lr_scheduler = torch.optim.lr_scheduler.CosineAnnealingLR(\n",
    "    optimizer,\n",
    "    T_max=20,\n",
    "    eta_min=LR / 10,\n",
    ")\n",
    "\n",
    "for epoch in range(1, N_EPOCHS + 1):\n",
    "    train_loss = training.train_epoch(model, train_loader, optimizer, lr_scheduler, clip=5)\n",
    "    eval_loss, score, _ = training.eval_epoch(model, test_loader)\n",
    "    print(f\"{epoch=} {train_loss=:.4f} {eval_loss=:.4f} {score=:.4f}\")"
   ]
  },
  {
   "cell_type": "code",
   "execution_count": 7,
   "id": "bfb649c3",
   "metadata": {
    "execution": {
     "iopub.execute_input": "2024-03-27T20:01:17.848617Z",
     "iopub.status.busy": "2024-03-27T20:01:17.848401Z",
     "iopub.status.idle": "2024-03-27T20:01:17.851425Z",
     "shell.execute_reply": "2024-03-27T20:01:17.851071Z"
    },
    "papermill": {
     "duration": 0.006287,
     "end_time": "2024-03-27T20:01:17.852241",
     "exception": false,
     "start_time": "2024-03-27T20:01:17.845954",
     "status": "completed"
    },
    "tags": []
   },
   "outputs": [],
   "source": [
    "def apply_thresh(y_proba, thresholds: dict):\n",
    "    y_proba = y_proba.copy()\n",
    "    for dim, thresh in thresholds.items():\n",
    "        y_proba[:, dim] = np.where(y_proba[:, dim] > thresh, 1, 0)\n",
    "    return y_proba"
   ]
  },
  {
   "cell_type": "code",
   "execution_count": 8,
   "id": "f7abe271",
   "metadata": {
    "execution": {
     "iopub.execute_input": "2024-03-27T20:01:17.856498Z",
     "iopub.status.busy": "2024-03-27T20:01:17.856179Z",
     "iopub.status.idle": "2024-03-27T20:01:24.401626Z",
     "shell.execute_reply": "2024-03-27T20:01:24.401184Z"
    },
    "papermill": {
     "duration": 6.54892,
     "end_time": "2024-03-27T20:01:24.402890",
     "exception": false,
     "start_time": "2024-03-27T20:01:17.853970",
     "status": "completed"
    },
    "tags": []
   },
   "outputs": [],
   "source": [
    "with torch.inference_mode():\n",
    "    y_true = []\n",
    "    y_pred = []\n",
    "    for batch in test_loader:\n",
    "        encodings = batch[\"encodings\"]\n",
    "        encodings = encodings.to(DEVICE)\n",
    "        labels = batch[\"labels\"].to(DEVICE)\n",
    "        out = model(**encodings)\n",
    "        preds = torch.nn.functional.sigmoid(out.logits)\n",
    "        y_true.extend(batch[\"labels\"].numpy())\n",
    "        y_pred.extend(preds.cpu().numpy())\n",
    "    y_pred_05 = np.where(np.array(y_pred) > 0.5, 1, 0)\n",
    "    y_pred_thresh = apply_thresh(np.array(y_pred), THRESHOLDS)\n",
    "    y_true = np.array(y_true)"
   ]
  },
  {
   "cell_type": "code",
   "execution_count": 9,
   "id": "d70900c0",
   "metadata": {
    "execution": {
     "iopub.execute_input": "2024-03-27T20:01:24.409204Z",
     "iopub.status.busy": "2024-03-27T20:01:24.409015Z",
     "iopub.status.idle": "2024-03-27T20:01:24.420112Z",
     "shell.execute_reply": "2024-03-27T20:01:24.419756Z"
    },
    "papermill": {
     "duration": 0.014542,
     "end_time": "2024-03-27T20:01:24.420995",
     "exception": false,
     "start_time": "2024-03-27T20:01:24.406453",
     "status": "completed"
    },
    "tags": []
   },
   "outputs": [
    {
     "name": "stdout",
     "output_type": "stream",
     "text": [
      "              precision    recall  f1-score   support\n",
      "\n",
      "       elite       0.80      0.88      0.84       648\n",
      "    pplcentr       0.61      0.84      0.71       322\n",
      "        left       0.71      0.80      0.75       279\n",
      "       right       0.64      0.74      0.69       155\n",
      "\n",
      "   micro avg       0.71      0.84      0.77      1404\n",
      "   macro avg       0.69      0.82      0.75      1404\n",
      "weighted avg       0.72      0.84      0.78      1404\n",
      " samples avg       0.41      0.42      0.41      1404\n",
      "\n"
     ]
    }
   ],
   "source": [
    "print(\n",
    "    classification_report(\n",
    "        y_true,\n",
    "        y_pred_05,\n",
    "        target_names=[\"elite\", \"pplcentr\", \"left\", \"right\"],\n",
    "        zero_division=0,\n",
    "    )\n",
    ")"
   ]
  },
  {
   "cell_type": "code",
   "execution_count": 10,
   "id": "f8fe7777",
   "metadata": {
    "execution": {
     "iopub.execute_input": "2024-03-27T20:01:24.425345Z",
     "iopub.status.busy": "2024-03-27T20:01:24.425088Z",
     "iopub.status.idle": "2024-03-27T20:01:24.435665Z",
     "shell.execute_reply": "2024-03-27T20:01:24.435313Z"
    },
    "papermill": {
     "duration": 0.013716,
     "end_time": "2024-03-27T20:01:24.436536",
     "exception": false,
     "start_time": "2024-03-27T20:01:24.422820",
     "status": "completed"
    },
    "tags": []
   },
   "outputs": [
    {
     "name": "stdout",
     "output_type": "stream",
     "text": [
      "              precision    recall  f1-score   support\n",
      "\n",
      "       elite       0.79      0.90      0.84       648\n",
      "    pplcentr       0.56      0.92      0.70       322\n",
      "        left       0.69      0.82      0.75       279\n",
      "       right       0.54      0.79      0.64       155\n",
      "\n",
      "   micro avg       0.68      0.88      0.76      1404\n",
      "   macro avg       0.65      0.86      0.73      1404\n",
      "weighted avg       0.69      0.88      0.77      1404\n",
      " samples avg       0.41      0.44      0.42      1404\n",
      "\n"
     ]
    }
   ],
   "source": [
    "print(\n",
    "    classification_report(\n",
    "        y_true,\n",
    "        y_pred_thresh,\n",
    "        target_names=[\"elite\", \"pplcentr\", \"left\", \"right\"],\n",
    "        zero_division=0,\n",
    "    )\n",
    ")"
   ]
  },
  {
   "cell_type": "code",
   "execution_count": 11,
   "id": "ba7eab9e",
   "metadata": {
    "execution": {
     "iopub.execute_input": "2024-03-27T20:01:24.440982Z",
     "iopub.status.busy": "2024-03-27T20:01:24.440649Z",
     "iopub.status.idle": "2024-03-27T20:01:25.155095Z",
     "shell.execute_reply": "2024-03-27T20:01:25.154593Z"
    },
    "papermill": {
     "duration": 0.718129,
     "end_time": "2024-03-27T20:01:25.156503",
     "exception": false,
     "start_time": "2024-03-27T20:01:24.438374",
     "status": "completed"
    },
    "tags": []
   },
   "outputs": [],
   "source": [
    "model.save_pretrained(src.PATH / \"results/popbert_model\")"
   ]
  }
 ],
 "metadata": {
  "kernelspec": {
   "display_name": "bert_populism",
   "language": "python",
   "name": "bert_populism"
  },
  "language_info": {
   "codemirror_mode": {
    "name": "ipython",
    "version": 3
   },
   "file_extension": ".py",
   "mimetype": "text/x-python",
   "name": "python",
   "nbconvert_exporter": "python",
   "pygments_lexer": "ipython3",
   "version": "3.9.12"
  },
  "papermill": {
   "default_parameters": {},
   "duration": 387.848172,
   "end_time": "2024-03-27T20:01:26.276954",
   "environment_variables": {},
   "exception": null,
   "input_path": "code/02-create_gbert_model.ipynb",
   "output_path": "code/02-create_gbert_model.ipynb",
   "parameters": {},
   "start_time": "2024-03-27T19:54:58.428782",
   "version": "2.5.0"
  }
 },
 "nbformat": 4,
 "nbformat_minor": 5
}